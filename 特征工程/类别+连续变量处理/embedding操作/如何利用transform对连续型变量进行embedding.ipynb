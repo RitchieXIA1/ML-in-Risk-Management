{
 "cells": [
  {
   "cell_type": "code",
   "execution_count": 1,
   "id": "546f926c",
   "metadata": {
    "ExecuteTime": {
     "end_time": "2022-01-10T06:21:46.436714Z",
     "start_time": "2022-01-10T06:21:44.102003Z"
    }
   },
   "outputs": [],
   "source": [
    "import toad\n",
    "import torch \n",
    "import torch.nn as nn\n",
    "import torch.nn.functional as F\n",
    "import math\n",
    "import numpy as np\n",
    "torch.set_default_tensor_type(torch.DoubleTensor) \n",
    "import matplotlib.pyplot as plt\n",
    "from sklearn.model_selection import train_test_split\n",
    "from sklearn.metrics import roc_auc_score\n",
    "import warnings\n",
    "warnings.filterwarnings('ignore')\n",
    "\n",
    "import pandas as pd\n",
    "from sklearn.datasets import make_classification\n",
    "\n",
    "X, y = make_classification(n_samples=2000,n_features=30,n_classes=2,random_state=328)\n",
    "data = pd.DataFrame(X)\n",
    "data['bad_ind'] = y\n",
    "data['imei'] = [i for i in range(len(data))]\n",
    "data.columns = ['f0_radius','f0_texture','f0_perimeter','f0_area','f0_smoothness',\n",
    "                'f0_compactness','f0_concavity','f0_concave_points','f0_symmetry',\n",
    "                'f0_fractal_dimension','f1_radius_error','f1_texture_error','f1_perimeter_error',\n",
    "                'f2_area_error','f2_smoothness_error','f2_compactness_error','f2_concavity_error',\n",
    "                'f2_concave_points_error','f2_symmetry_error','f2_fractal_dimension_error',\n",
    "                'f3_radius','f3_texture','f3_perimeter','f3_area','f3_smoothness',\n",
    "                'f3_compactness','f3_concavity','f3_concave_points','f3_symmetry',\n",
    "                'f3_fractal_dimension','bad_ind','imei']\n",
    "\n",
    "df = data.copy()\n",
    "uid, dep = 'imei', 'bad_ind'\n",
    "dev, off = train_test_split(df, test_size=0.3, stratify=df[dep],random_state=328)\n",
    "var_names = [i for i in list(df.columns) if i not in [uid,dep]]\n",
    "\n",
    "#构造训练与测试数据\n",
    "x = torch.tensor(dev[var_names].to_numpy(),dtype=torch.double)\n",
    "y = torch.tensor(dev[dep].to_numpy(),dtype=torch.double)\n",
    "\n",
    "val_x = torch.tensor(off[var_names].to_numpy(),dtype=torch.double)\n",
    "val_y = torch.tensor(off[dep].to_numpy(),dtype=torch.double)\n",
    "\n",
    "del dev,off"
   ]
  },
  {
   "cell_type": "code",
   "execution_count": 3,
   "id": "aa70c0b9",
   "metadata": {
    "ExecuteTime": {
     "end_time": "2022-01-10T06:22:02.290955Z",
     "start_time": "2022-01-10T06:22:02.284632Z"
    }
   },
   "outputs": [
    {
     "data": {
      "text/plain": [
       "torch.Size([1400, 30])"
      ]
     },
     "execution_count": 3,
     "metadata": {},
     "output_type": "execute_result"
    }
   ],
   "source": [
    "x.shape"
   ]
  },
  {
   "cell_type": "code",
   "execution_count": 4,
   "id": "8ac30f50",
   "metadata": {
    "ExecuteTime": {
     "end_time": "2022-01-10T06:22:26.454147Z",
     "start_time": "2022-01-10T06:22:26.007134Z"
    }
   },
   "outputs": [
    {
     "name": "stdout",
     "output_type": "stream",
     "text": [
      "torch.Size([30, 20])\n"
     ]
    }
   ],
   "source": [
    "#得到centroid\n",
    "n_bins=20\n",
    "trans_var_names = var_names.copy()\n",
    "\n",
    "combiner = toad.transform.Combiner()\n",
    "combiner.fit(df[trans_var_names+[dep]],df[dep],method='quantile',n_bins=n_bins,exclude=[])\n",
    "bins = combiner.export()\n",
    "df_bin = combiner.transform(df[trans_var_names+[dep]])\n",
    "\n",
    "for round_num,ft in enumerate(trans_var_names):\n",
    "    bin_ary=np.array([])\n",
    "    for i in range(n_bins):\n",
    "        if np.isnan(df[df_bin[ft]==i][ft].mean())==False:\n",
    "            avg = df[df_bin[ft]==i][ft].mean()    #这'f0_area'在箱子 1 里所有的值应该都差不多，把这些值取均值可以看做箱子1的均值。\n",
    "        else:                                     \n",
    "            avg = -1\n",
    "        bin_ary = np.append(bin_ary,avg)\n",
    "    if round_num==0:\n",
    "        bin_base=bin_ary.copy()\n",
    "    else:\n",
    "        bin_base = np.vstack((bin_base,bin_ary))\n",
    "centroid=torch.tensor(bin_base,dtype=torch.double)\n",
    "print(centroid.shape)                    "
   ]
  },
  {
   "cell_type": "markdown",
   "id": "d64f2e44",
   "metadata": {},
   "source": [
    "得到的是30个特征，每个特征分20组之后，每个组的均值，也就是每个特征有20个这样的均值，类似于直方图的感觉。\n",
    "这就类似于NLP的查询词表，任何一个新的变量出现，哪怕之前没出现过，也可以落入这些箱子里，获得一个近似的表示\n",
    "实在是简单精妙，梅老师已经把NLP和结构化数据的融会贯通了。"
   ]
  },
  {
   "cell_type": "code",
   "execution_count": 20,
   "id": "0ad4d88c",
   "metadata": {
    "ExecuteTime": {
     "end_time": "2022-01-10T06:42:12.576037Z",
     "start_time": "2022-01-10T06:42:12.557606Z"
    }
   },
   "outputs": [
    {
     "data": {
      "text/plain": [
       "array([-2.78916737, -2.08310666, -1.67951431, -1.41205546, -1.15787593,\n",
       "       -0.91920825, -0.63981622, -0.40423327, -0.14193784,  0.08040741,\n",
       "        0.25010067,  0.42894619,  0.6090681 ,  0.79579538,  0.95130746,\n",
       "        1.09681123,  1.28004375,  1.46320882,  1.69024094,  2.1745589 ])"
      ]
     },
     "execution_count": 20,
     "metadata": {},
     "output_type": "execute_result"
    }
   ],
   "source": [
    "bin_ary#可以看出来是从低到高分布"
   ]
  },
  {
   "cell_type": "code",
   "execution_count": 19,
   "id": "17d3f1c0",
   "metadata": {
    "ExecuteTime": {
     "end_time": "2022-01-10T06:35:13.092214Z",
     "start_time": "2022-01-10T06:35:13.086210Z"
    }
   },
   "outputs": [
    {
     "data": {
      "text/plain": [
       "9      -1.543021\n",
       "23     -1.594440\n",
       "31     -1.702179\n",
       "70     -1.540996\n",
       "98     -1.474755\n",
       "          ...   \n",
       "1921   -1.552203\n",
       "1953   -1.488140\n",
       "1957   -1.592128\n",
       "1958   -1.494215\n",
       "1995   -1.605728\n",
       "Name: f0_area, Length: 100, dtype: float64"
      ]
     },
     "execution_count": 19,
     "metadata": {},
     "output_type": "execute_result"
    }
   ],
   "source": [
    "df[df_bin['f0_area']==1]['f0_area']#这是该变量分组1里所有的值"
   ]
  },
  {
   "cell_type": "code",
   "execution_count": 21,
   "id": "fce42e99",
   "metadata": {
    "ExecuteTime": {
     "end_time": "2022-01-10T06:46:15.472496Z",
     "start_time": "2022-01-10T06:46:15.460368Z"
    }
   },
   "outputs": [
    {
     "data": {
      "text/plain": [
       "count    100.000000\n",
       "mean      -1.592682\n",
       "std        0.078081\n",
       "min       -1.732553\n",
       "25%       -1.653434\n",
       "50%       -1.595584\n",
       "75%       -1.521919\n",
       "max       -1.459754\n",
       "Name: f0_area, dtype: float64"
      ]
     },
     "execution_count": 21,
     "metadata": {},
     "output_type": "execute_result"
    }
   ],
   "source": [
    "df[df_bin['f0_area']==1]['f0_area'].describe()#可以看的出非常近似"
   ]
  },
  {
   "cell_type": "code",
   "execution_count": 22,
   "id": "43ca2a16",
   "metadata": {
    "ExecuteTime": {
     "end_time": "2022-01-10T06:46:45.306256Z",
     "start_time": "2022-01-10T06:46:45.292405Z"
    }
   },
   "outputs": [
    {
     "data": {
      "text/plain": [
       "count    100.000000\n",
       "mean      -1.329622\n",
       "std        0.060717\n",
       "min       -1.457458\n",
       "25%       -1.379354\n",
       "50%       -1.319282\n",
       "75%       -1.279766\n",
       "max       -1.244516\n",
       "Name: f0_area, dtype: float64"
      ]
     },
     "execution_count": 22,
     "metadata": {},
     "output_type": "execute_result"
    }
   ],
   "source": [
    "df[df_bin['f0_area']==2]['f0_area'].describe()#换个组看一下"
   ]
  },
  {
   "cell_type": "code",
   "execution_count": 23,
   "id": "16f69f2f",
   "metadata": {
    "ExecuteTime": {
     "end_time": "2022-01-10T07:01:23.875069Z",
     "start_time": "2022-01-10T07:01:23.867067Z"
    }
   },
   "outputs": [],
   "source": [
    "class EntityEmbeddingLayer(nn.Module):\n",
    "    def __init__(self, config):\n",
    "        super(EntityEmbeddingLayer, self).__init__()\n",
    "        self.embedding = nn.Embedding(config.num_level, config.embedding_dim)\n",
    "        self.centroid = config.centroid\n",
    "        self.EPS=config.EPS\n",
    "    def forward(self, x): \n",
    "        \"\"\"\n",
    "        x must be batch_size times 1\n",
    "        \"\"\"\n",
    "        cent_hat = torch.tensor(self.centroid[0,:]).detach_().unsqueeze(1)#size(20,1)这是第一个特征的20个箱均值\n",
    "        x_hat = x[:,0].unsqueeze(1).unsqueeze(1)  #size(1400,1,1)，这是第一个特征所有的取值\n",
    "        d = 1.0/((x_hat-cent_hat).abs()+self.EPS)  #相当于把这1400个数每一个，分别减去这20个数,得到size(1400,20,1),再取倒数\n",
    "        #相当于算每个用户，这个特征的值和20个箱均值的距离的倒数，这个值越大说明和该箱均值越接近。\n",
    "        w = F.softmax(d.squeeze(2), 1)#先转化为(1400,20),然后按行做归一化，现在一行20个元素，这20个元素加起来为1\n",
    "        #这是在算这个用户这个特征的值更适合进入哪一个箱子，之前越近的则越大，则softmax之后比例越大。\n",
    "        v = torch.mm(w.type(torch.DoubleTensor), self.embedding.weight.type(torch.DoubleTensor))#然后把1400,20和新的embedding矩阵20，维度乘\n",
    "        #这是一种类似word2vec的上下文的关系，这样embedding之后，至少这个特征越接近的两个用户这个特征的32维表征是有点像的。\n",
    "        result = v.unsqueeze(1).type(torch.DoubleTensor)#上面得到了1400,维度，现在转化成1400,1,32 ，unsqueeze后面数字多少那个1就加在哪\n",
    "\n",
    "        if x.size()[1]>1:#接下来循环对后面29个特征做同样的操作，最后返回1400,30,32，每个特征都由32维embedding来表示\n",
    "            for i in range(1,x.size()[1]):\n",
    "                cent_hat = torch.tensor(self.centroid[i,:]).detach_().unsqueeze(1)\n",
    "                x_hat = x[:,i].unsqueeze(1).unsqueeze(1)\n",
    "                d = 1.0/((x_hat-cent_hat).abs()+self.EPS)\n",
    "                w = F.softmax(d.squeeze(2), 1)\n",
    "                v = torch.mm(w.type(torch.DoubleTensor), self.embedding.weight.type(torch.DoubleTensor)).type(torch.DoubleTensor)\n",
    "                result = torch.cat((result, v.unsqueeze(1)), 1)\n",
    "        return result"
   ]
  },
  {
   "cell_type": "code",
   "execution_count": 107,
   "id": "d82cb596",
   "metadata": {
    "ExecuteTime": {
     "end_time": "2022-01-10T08:06:28.598933Z",
     "start_time": "2022-01-10T08:06:28.585928Z"
    }
   },
   "outputs": [
    {
     "data": {
      "text/plain": [
       "tensor(1.)"
      ]
     },
     "execution_count": 107,
     "metadata": {},
     "output_type": "execute_result"
    }
   ],
   "source": [
    "F.softmax((1/(x[:,0].unsqueeze(1).unsqueeze(1)-torch.tensor(centroid[0,:]).detach_().unsqueeze(1)).abs()).squeeze(2),1)[0].sum()"
   ]
  },
  {
   "cell_type": "code",
   "execution_count": 110,
   "id": "5457d064",
   "metadata": {
    "ExecuteTime": {
     "end_time": "2022-01-10T08:34:39.323668Z",
     "start_time": "2022-01-10T08:34:39.317579Z"
    }
   },
   "outputs": [
    {
     "data": {
      "text/plain": [
       "torch.Size([1400, 30])"
      ]
     },
     "execution_count": 110,
     "metadata": {},
     "output_type": "execute_result"
    }
   ],
   "source": [
    "x.size()"
   ]
  },
  {
   "cell_type": "code",
   "execution_count": 24,
   "id": "dfc802a6",
   "metadata": {
    "ExecuteTime": {
     "end_time": "2022-01-10T07:01:32.562644Z",
     "start_time": "2022-01-10T07:01:32.540687Z"
    }
   },
   "outputs": [],
   "source": [
    "class SelfAttention(nn.Module):\n",
    "    def __init__(self, config):\n",
    "        super().__init__()\n",
    "        if config.hidden_size % config.num_attention_heads != 0 and not hasattr(config, \"embedding_size\"):\n",
    "            raise ValueError(\n",
    "                \"The hidden size (%d) is not a multiple of the number of attention \"\n",
    "                \"heads (%d)\" % (config.hidden_size, config.num_attention_heads)\n",
    "            )\n",
    "        self.output_attentions = config.output_attentions\n",
    "\n",
    "        self.num_attention_heads = config.num_attention_heads  \n",
    "        self.attention_head_size = int(config.hidden_size / config.num_attention_heads)\n",
    "        self.all_head_size = self.num_attention_heads * self.attention_head_size\n",
    "        #其实就是分成了若干个小的attention结构来处理，比如embedding维度是512，头的数量是8就分成了8个结构，每个attention_head_size为64\n",
    "        self.query = nn.Linear(config.hidden_size, self.all_head_size)\n",
    "        self.key = nn.Linear(config.hidden_size, self.all_head_size)\n",
    "        self.value = nn.Linear(config.hidden_size, self.all_head_size)\n",
    "\n",
    "        self.dropout = nn.Dropout(config.attention_probs_dropout_prob)\n",
    "\n",
    "    def transpose_for_scores(self, x):\n",
    "        new_x_shape = x.size()[:-1] + (self.num_attention_heads, self.attention_head_size)\n",
    "        x = x.view(*new_x_shape)\n",
    "        return x.permute(0, 2, 1, 3)\n",
    "    #就是单纯为了把制作矩阵的head_size和seqlen(前面的32)放一起\n",
    "    def forward(self, hidden_states):\n",
    "        mixed_query_layer = self.query(hidden_states)\n",
    "        mixed_key_layer = self.key(hidden_states)\n",
    "        mixed_value_layer = self.value(hidden_states)\n",
    "        \n",
    "        #计算attention\n",
    "        query_layer = self.transpose_for_scores(mixed_query_layer)#均为[bs, 头数, seqlen, head_size]\n",
    "        key_layer = self.transpose_for_scores(mixed_key_layer)\n",
    "        value_layer = self.transpose_for_scores(mixed_value_layer)\n",
    "        attention_scores = torch.matmul(query_layer, key_layer.transpose(-1, -2)) #这里是为了生成 seqlen*seqlen的权重矩阵\n",
    "        attention_scores = attention_scores / math.sqrt(self.attention_head_size)\n",
    "        attention_probs = nn.Softmax(dim=-1)(attention_scores)#dim =-1和dim=2一样，都是对行做softmax\n",
    "        attention_probs = self.dropout(attention_probs)\n",
    "        context_layer = torch.matmul(attention_probs, value_layer)\n",
    "        ## 矩阵相乘，[bs, 头数, seqlen, seqlen]*[bs, 头数, seqlen, head_size] = [bs, 头数, seqlen, head_size]\n",
    "\n",
    "        #维度还原\n",
    "        context_layer = context_layer.permute(0, 2, 1, 3).contiguous()\n",
    "        new_context_layer_shape = context_layer.size()[:-2] + (self.all_head_size,)# 回到[bs, seqlen, 128]\n",
    "        context_layer = context_layer.view(*new_context_layer_shape)\n",
    "\n",
    "        outputs = (context_layer, attention_probs) if self.output_attentions else (context_layer,)\n",
    "        return outputs"
   ]
  },
  {
   "cell_type": "code",
   "execution_count": 112,
   "id": "0e07fc21",
   "metadata": {
    "ExecuteTime": {
     "end_time": "2022-01-10T08:44:59.461674Z",
     "start_time": "2022-01-10T08:44:59.442429Z"
    }
   },
   "outputs": [],
   "source": [
    "class TransformerConfig:\n",
    "    def __init__(self, \n",
    "                output_attentions = True,\n",
    "                n_var=64,\n",
    "                num_attention_heads = 2,\n",
    "                hidden_size = 24,\n",
    "                attention_probs_dropout_prob = 0.1,\n",
    "                hidden_dropout_prob = 0.1,\n",
    "                intermediate_size = 24,\n",
    "                num_level=10,\n",
    "                embedding_dim=64,\n",
    "                EPS=1e-7,\n",
    "                centroid={}):\n",
    "        self.output_attentions = output_attentions\n",
    "        self.num_attention_heads = num_attention_heads\n",
    "        self.hidden_size = hidden_size\n",
    "        self.attention_probs_dropout_prob = attention_probs_dropout_prob\n",
    "        self.hidden_dropout_prob = hidden_dropout_prob\n",
    "        self.intermediate_size = intermediate_size\n",
    "        self.n_var = n_var\n",
    "        self.num_level=num_level\n",
    "        self.embedding_dim = embedding_dim\n",
    "        self.EPS=EPS\n",
    "        self.centroid = centroid\n",
    "class TransformerOutput(nn.Module):\n",
    "    def __init__(self, config):\n",
    "        super().__init__()\n",
    "        self.dense = nn.Linear(config.hidden_size, config.hidden_size)#稠密链接（网络要想深且有效，dense和res二选一）\n",
    "        self.LayerNorm = nn.LayerNorm(config.hidden_size)#层归一化\n",
    "        self.dropout = nn.Dropout(config.hidden_dropout_prob)#dropout\n",
    "\n",
    "    def forward(self, hidden_states, input_tensor):\n",
    "        hidden_states = self.dense(hidden_states)\n",
    "        hidden_states = self.dropout(hidden_states)\n",
    "        hidden_states = self.LayerNorm(hidden_states + input_tensor)\n",
    "        return hidden_states\n",
    "class TransformerIntermediate(nn.Module):\n",
    "    def __init__(self, config):\n",
    "        super().__init__()\n",
    "        self.dense = nn.Linear(config.hidden_size, config.intermediate_size)\n",
    "        self.intermediate_act_fn = F.relu\n",
    "\n",
    "    def forward(self, hidden_states):\n",
    "        hidden_states = self.dense(hidden_states)\n",
    "        hidden_states = self.intermediate_act_fn(hidden_states)\n",
    "        return hidden_states\n",
    "    \n",
    "class TransformerLayer(nn.Module):\n",
    "    def __init__(self, config):\n",
    "        super().__init__()\n",
    "        self.EntityEmbeddingLayer=EntityEmbeddingLayer(config)\n",
    "        self.attention = SelfAttention(config)\n",
    "        self.intermediate = TransformerIntermediate(config)\n",
    "        self.output = TransformerOutput(config)\n",
    "        self.linear = nn.Linear(config.hidden_size*config.n_var, 1)\n",
    "        \n",
    "    def forward(self, hidden):\n",
    "        result = self.EntityEmbeddingLayer(hidden.type(torch.DoubleTensor))\n",
    "        self_attention_outputs = self.attention(result.type(torch.DoubleTensor))\n",
    "        attention_output = self_attention_outputs[0]\n",
    "        outputs = self_attention_outputs[1:]  # add self attentions if we output attention weights\n",
    "\n",
    "        intermediate_output = self.intermediate(attention_output.type(torch.DoubleTensor))#一部分走dense\n",
    "        layer_output = self.output(intermediate_output.type(torch.DoubleTensor), attention_output.type(torch.DoubleTensor))\n",
    "        outputs = (layer_output,) + outputs\n",
    "        \n",
    "        result = torch.sigmoid(self.linear(torch.flatten(layer_output.type(torch.DoubleTensor),start_dim=1)).squeeze(-1))\n",
    "        \n",
    "        return result"
   ]
  },
  {
   "cell_type": "code",
   "execution_count": 114,
   "id": "31803a3c",
   "metadata": {
    "ExecuteTime": {
     "end_time": "2022-01-10T08:45:25.273515Z",
     "start_time": "2022-01-10T08:45:25.262986Z"
    }
   },
   "outputs": [
    {
     "data": {
      "text/plain": [
       "TransformerLayer(\n",
       "  (EntityEmbeddingLayer): EntityEmbeddingLayer(\n",
       "    (embedding): Embedding(20, 32)\n",
       "  )\n",
       "  (attention): SelfAttention(\n",
       "    (query): Linear(in_features=32, out_features=32, bias=True)\n",
       "    (key): Linear(in_features=32, out_features=32, bias=True)\n",
       "    (value): Linear(in_features=32, out_features=32, bias=True)\n",
       "    (dropout): Dropout(p=0.1, inplace=False)\n",
       "  )\n",
       "  (intermediate): TransformerIntermediate(\n",
       "    (dense): Linear(in_features=32, out_features=32, bias=True)\n",
       "  )\n",
       "  (output): TransformerOutput(\n",
       "    (dense): Linear(in_features=32, out_features=32, bias=True)\n",
       "    (LayerNorm): LayerNorm((32,), eps=1e-05, elementwise_affine=True)\n",
       "    (dropout): Dropout(p=0.1, inplace=False)\n",
       "  )\n",
       "  (linear): Linear(in_features=960, out_features=1, bias=True)\n",
       ")"
      ]
     },
     "execution_count": 114,
     "metadata": {},
     "output_type": "execute_result"
    }
   ],
   "source": [
    "transformer_config = TransformerConfig(output_attentions = True,\n",
    "                n_var=len(trans_var_names),\n",
    "                num_attention_heads = 4,\n",
    "                hidden_size = 32,\n",
    "                attention_probs_dropout_prob = 0.1,\n",
    "                hidden_dropout_prob = 0.1,\n",
    "                intermediate_size = 32,\n",
    "                num_level=n_bins,\n",
    "                embedding_dim=32,\n",
    "                centroid=centroid)\n",
    "#self_attention = SelfAttention(transformer_config)\n",
    "transformer_layer = TransformerLayer(transformer_config)\n",
    "transformer_layer"
   ]
  },
  {
   "cell_type": "code",
   "execution_count": 212,
   "id": "6dfad861",
   "metadata": {
    "ExecuteTime": {
     "end_time": "2022-01-10T10:21:18.417117Z",
     "start_time": "2022-01-10T10:21:09.648932Z"
    }
   },
   "outputs": [
    {
     "name": "stdout",
     "output_type": "stream",
     "text": [
      "第1个epoch 1.1200583613022728 test AUC 0.9222325\n",
      "找到新的最大值\n",
      "第2个epoch 0.624162557827809 test AUC 0.9225103\n",
      "找到新的最大值\n",
      "第3个epoch 1.148010694732697 test AUC 0.9228436\n",
      "找到新的最大值\n",
      "第4个epoch 0.7169197592086388 test AUC 0.9229214\n",
      "找到新的最大值\n",
      "第5个epoch 0.8829012011590978 test AUC 0.9226214\n",
      "Counter 1 of 15\n",
      "第6个epoch 0.5723595991831785 test AUC 0.9222102\n",
      "Counter 2 of 15\n",
      "第7个epoch 0.9871354144458523 test AUC 0.9219658\n",
      "Counter 3 of 15\n",
      "第8个epoch 0.45584279053635524 test AUC 0.9218547\n",
      "Counter 4 of 15\n",
      "第9个epoch 0.8198883530554779 test AUC 0.9217769\n",
      "Counter 5 of 15\n",
      "第10个epoch 0.5596944471858468 test AUC 0.9218214\n",
      "Counter 6 of 15\n",
      "第11个epoch 0.5189947122169758 test AUC 0.9218769\n",
      "Counter 7 of 15\n",
      "第12个epoch 1.0059071211272375 test AUC 0.9217436\n",
      "Counter 8 of 15\n",
      "第13个epoch 0.6447418319324718 test AUC 0.9217991\n",
      "Counter 9 of 15\n",
      "第14个epoch 0.6133249313224984 test AUC 0.9221102\n",
      "Counter 10 of 15\n",
      "第15个epoch 0.5209570302082251 test AUC 0.9222102\n",
      "Counter 11 of 15\n",
      "第16个epoch 0.49722291643659916 test AUC 0.9224214\n",
      "Counter 12 of 15\n",
      "第17个epoch 1.1226262088023984 test AUC 0.9224547\n",
      "Counter 13 of 15\n",
      "第18个epoch 0.6441132477861394 test AUC 0.922488\n",
      "Counter 14 of 15\n",
      "第19个epoch 1.4636539469487135 test AUC 0.922688\n",
      "Counter 15 of 15\n",
      "第20个epoch 0.5500650910870658 test AUC 0.9227658\n",
      "Counter 16 of 15\n",
      "Early stopping with best_acc:  0.9229214\n"
     ]
    }
   ],
   "source": [
    "loss_fn = nn.BCELoss(reduction='sum')#返回梯度之和\n",
    "learning_rate = 1e-4\n",
    "optimizer = torch.optim.Adam(transformer_layer.parameters(), lr=learning_rate)\n",
    "es=0\n",
    "val_acc=0\n",
    "best_acc=0\n",
    "NUM_EPOCHS=500\n",
    "BATCH_SIZE=256\n",
    "val_accs = []\n",
    "early_stop = 15\n",
    "for epoch in range(NUM_EPOCHS):\n",
    "    transformer_layer.train()\n",
    "    for start in range(0,len(x),BATCH_SIZE):\n",
    "        end = start + BATCH_SIZE\n",
    "        batchX = x[start:end,:]\n",
    "        batchY = y[start:end]\n",
    "\n",
    "        # 前向传播\n",
    "        y_pred = transformer_layer(batchX)\n",
    "        # 计算损失\n",
    "        loss = loss_fn(y_pred, batchY)             \n",
    "        # 梯度清零\n",
    "        optimizer.zero_grad()\n",
    "        # 反向传播\n",
    "        loss.backward()                      \n",
    "        # 参数自动一步更新\n",
    "        optimizer.step()    \n",
    "    transformer_layer.eval()    \n",
    "    val_pred = transformer_layer(val_x).detach().numpy() \n",
    "    val_acc = round(roc_auc_score(val_y.detach().numpy(), val_pred),7)\n",
    "    \n",
    "    print('第{}个epoch'.format(epoch+1), loss.item(),\"test AUC\",val_acc)#这里选的是AUC，理论上也是可以改成KS值的\n",
    "    val_accs.append(val_acc)\n",
    "    if val_acc > best_acc:\n",
    "        best_acc = val_acc\n",
    "        es = 0   \n",
    "        torch.save(transformer_layer.state_dict(), './model_state_dict.pt')\n",
    "        print('找到新的最大值')\n",
    "    else:\n",
    "        es += 1\n",
    "        print(\"Counter {} of {}\".format(es,early_stop))\n",
    "        \n",
    "        if es >early_stop:\n",
    "            print(\"Early stopping with best_acc: \", best_acc)\n",
    "            break\n"
   ]
  },
  {
   "cell_type": "code",
   "execution_count": 215,
   "id": "901eb4eb",
   "metadata": {
    "ExecuteTime": {
     "end_time": "2022-01-10T10:22:06.521274Z",
     "start_time": "2022-01-10T10:22:06.421785Z"
    }
   },
   "outputs": [
    {
     "name": "stdout",
     "output_type": "stream",
     "text": [
      "验证集上AUC 0.9229214\n"
     ]
    }
   ],
   "source": [
    "transformer_layer.load_state_dict(torch.load('model_state_dict.pt'))\n",
    "transformer_layer.eval()\n",
    "y_hat = transformer_layer(val_x)\n",
    "print('验证集上AUC',round(roc_auc_score(val_y.numpy(), y_hat.detach().numpy()), 7))"
   ]
  },
  {
   "cell_type": "code",
   "execution_count": 216,
   "id": "e4363d16",
   "metadata": {
    "ExecuteTime": {
     "end_time": "2022-01-10T10:22:13.468994Z",
     "start_time": "2022-01-10T10:22:13.230795Z"
    }
   },
   "outputs": [
    {
     "data": {
      "image/png": "[encoded data removed]",
      "text/plain": [
       "<Figure size 576x432 with 1 Axes>"
      ]
     },
     "metadata": {
      "needs_background": "light"
     },
     "output_type": "display_data"
    }
   ],
   "source": [
    "fig = plt.figure(figsize=(8,6))\n",
    "plt.plot(range(1,len(val_accs)+1),val_accs, label='AUC on VAL')\n",
    "minposs = val_accs.index(max(val_accs))+1 \n",
    "plt.axvline(minposs, linestyle='--', color='r',label='Early Stopping Checkpoint')\n",
    "plt.xlabel('epochs')\n",
    "plt.ylabel('AUC on VAL')\n",
    "plt.grid(True)\n",
    "plt.legend()\n",
    "plt.tight_layout()\n",
    "plt.show()\n",
    "fig.savefig('AUC.png', bbox_inches='tight')"
   ]
  },
  {
   "cell_type": "code",
   "execution_count": null,
   "id": "701c8cdc",
   "metadata": {},
   "outputs": [],
   "source": []
  }
 ],
 "metadata": {
  "kernelspec": {
   "display_name": "Python 3",
   "language": "python",
   "name": "python3"
  },
  "language_info": {
   "codemirror_mode": {
    "name": "ipython",
    "version": 3
   },
   "file_extension": ".py",
   "mimetype": "text/x-python",
   "name": "python",
   "nbconvert_exporter": "python",
   "pygments_lexer": "ipython3",
   "version": "3.8.8"
  },
  "varInspector": {
   "cols": {
    "lenName": 16,
    "lenType": 16,
    "lenVar": 40
   },
   "kernels_config": {
    "python": {
     "delete_cmd_postfix": "",
     "delete_cmd_prefix": "del ",
     "library": "var_list.py",
     "varRefreshCmd": "print(var_dic_list())"
    },
    "r": {
     "delete_cmd_postfix": ") ",
     "delete_cmd_prefix": "rm(",
     "library": "var_list.r",
     "varRefreshCmd": "cat(var_dic_list()) "
    }
   },
   "types_to_exclude": [
    "module",
    "function",
    "builtin_function_or_method",
    "instance",
    "_Feature"
   ],
   "window_display": false
  }
 },
 "nbformat": 4,
 "nbformat_minor": 5
}
