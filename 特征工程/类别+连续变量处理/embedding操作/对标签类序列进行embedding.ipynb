{
 "cells": [
  {
   "cell_type": "code",
   "execution_count": null,
   "id": "0ee4de45",
   "metadata": {},
   "outputs": [],
   "source": [
    "#对序列进行embedding，并拼接\n",
    "from gensim.models import Word2Vec\n",
    "#选择要embedding的序列，可以分别为客户标签和还款记录\n",
    "data = pd.concat([train[['user_profile', 'click_job_id']],test[['user_profile', 'click_job_id']]], axis=0)\n",
    "data = data.fillna('-99')\n",
    "data = data.replace({'':'-99'})\n",
    "for i in ['user_profile', 'click_job_id']:\n",
    "    sentence = []\n",
    "    for line in list(data[i].values):\n",
    "        sentence.append([str(l) for l in line.split(',')])\n",
    "    print('training...{}'.format(i))\n",
    "    model = Word2Vec(sentence, vector_size=8, window=2, min_count=1,epochs=10)\n",
    "    outdf = []\n",
    "    for line in tqdm(list(data[i].values)):\n",
    "        sumarr = 0\n",
    "        sl = line.split(',')\n",
    "        for l in sl:\n",
    "            sumarr = sumarr + model.wv[str(l)]\n",
    "        outdf.append(sumarr/len(sl))\n",
    "    tmp = pd.DataFrame(outdf)\n",
    "    tmp.columns = ['{}'.format(i)+str(j) for j in tmp.columns]\n",
    "    train_w2vDF = tmp[:train.shape[0]]\n",
    "    test_w2vDF = tmp[train.shape[0]:].reset_index(drop=True)\n",
    "    train_w2vDF.to_pickle('./data/train_w2vDF_{}.pkl'.format(i))\n",
    "    test_w2vDF.to_pickle('./data/test_w2vDF_{}.pkl'.format(i))\n",
    "train_w2vDF = pd.read_pickle('./data/train_w2vDF_user_profile.pkl')\n",
    "test_w2vDF = pd.read_pickle('./data/test_w2vDF_user_profile.pkl')\n",
    "train_w2vDF_click_job = pd.read_pickle('./data/train_w2vDF_click_job_id.pkl')\n",
    "test_w2vDF_click_job = pd.read_pickle('./data/test_w2vDF_click_job_id.pkl')\n",
    "#添加此特征后需在模型参数修改稠密特征维度，此处每个embedding为8维\n",
    "train = pd.concat([train,train_w2vDF,train_w2vDF_click_job],axis=1)\n",
    "test = pd.concat([test,test_w2vDF,test_w2vDF_click_job],axis=1)"
   ]
  }
 ],
 "metadata": {
  "kernelspec": {
   "display_name": "Python 3",
   "language": "python",
   "name": "python3"
  },
  "language_info": {
   "codemirror_mode": {
    "name": "ipython",
    "version": 3
   },
   "file_extension": ".py",
   "mimetype": "text/x-python",
   "name": "python",
   "nbconvert_exporter": "python",
   "pygments_lexer": "ipython3",
   "version": "3.8.8"
  },
  "varInspector": {
   "cols": {
    "lenName": 16,
    "lenType": 16,
    "lenVar": 40
   },
   "kernels_config": {
    "python": {
     "delete_cmd_postfix": "",
     "delete_cmd_prefix": "del ",
     "library": "var_list.py",
     "varRefreshCmd": "print(var_dic_list())"
    },
    "r": {
     "delete_cmd_postfix": ") ",
     "delete_cmd_prefix": "rm(",
     "library": "var_list.r",
     "varRefreshCmd": "cat(var_dic_list()) "
    }
   },
   "types_to_exclude": [
    "module",
    "function",
    "builtin_function_or_method",
    "instance",
    "_Feature"
   ],
   "window_display": false
  }
 },
 "nbformat": 4,
 "nbformat_minor": 5
}
