{
 "cells": [
  {
   "cell_type": "code",
   "execution_count": null,
   "id": "fb95d021",
   "metadata": {},
   "outputs": [],
   "source": [
    "# 按照特点构造地域变量\n",
    "#比如可以东西中分，也可以按GDP分，也可以按人均GDP分，这些可以再交叉\n",
    "# 对addr_state进行处理\n",
    "west = ['CA', 'OR', 'UT','WA', 'CO', 'NV', 'AK', 'MT', 'HI', 'WY', 'ID']\n",
    "south_west = ['AZ', 'TX', 'NM', 'OK']\n",
    "south_east = ['GA', 'NC', 'VA', 'FL', 'KY', 'SC', 'LA', 'AL', 'WV', 'DC', 'AR', 'DE', 'MS', 'TN' ]\n",
    "mid = ['IL', 'MO', 'MN', 'OH', 'WI', 'KS', 'MI', 'SD', 'IA', 'NE', 'IN', 'ND']\n",
    "north_east = ['CT', 'NY', 'PA', 'NJ', 'RI','MA', 'MD', 'VT', 'NH', 'ME']\n",
    "\n",
    "df['region'] = np.nan\n",
    "\n",
    "def finding_regions(state):\n",
    "    if state in west:\n",
    "        return 'West'\n",
    "    elif state in south_west:\n",
    "        return 'SouthWest'\n",
    "    elif state in mid:\n",
    "        return 'Mid'\n",
    "    elif state in north_east:\n",
    "        return 'NorthEast'\n",
    "    else:\n",
    "        return \"SouthEast\"\n",
    "\n",
    "df['region'] = df['addr_state'].apply(finding_regions)\n",
    "df.drop(columns=['addr_state'], axis=1, inplace=True)"
   ]
  },
  {
   "cell_type": "code",
   "execution_count": null,
   "id": "5bdd2205",
   "metadata": {},
   "outputs": [],
   "source": [
    "#画出新分的各个类别好坏样本比例\n",
    "add_label = df[['region', 'label']].copy()\n",
    "\n",
    "def handle(label):\n",
    "    if label == 0:\n",
    "        return 'Negative'\n",
    "    else:\n",
    "        return 'Positive'\n",
    "\n",
    "# add_label.columns = ['region', 'label', 'Label']\n",
    "add_label['label'] = add_label['label'].apply(handle)\n",
    "print(add_label)\n",
    "ax = sns.countplot(x=\"region\", hue=\"label\", data=add_label, palette=\"Set2\")\n",
    "ax.legend(loc='best')\n",
    "# print(addr)\n",
    "for p in ax.patches:\n",
    "        height = p.get_height()\n",
    "        ax.text(x = p.get_x()+(p.get_width())/2, \n",
    "                y = height+5, \n",
    "                s = '{:.0f}'.format(height),\n",
    "                ha = 'center')"
   ]
  },
  {
   "cell_type": "code",
   "execution_count": null,
   "id": "7e9dd058",
   "metadata": {},
   "outputs": [],
   "source": []
  }
 ],
 "metadata": {
  "kernelspec": {
   "display_name": "Python 3",
   "language": "python",
   "name": "python3"
  },
  "language_info": {
   "codemirror_mode": {
    "name": "ipython",
    "version": 3
   },
   "file_extension": ".py",
   "mimetype": "text/x-python",
   "name": "python",
   "nbconvert_exporter": "python",
   "pygments_lexer": "ipython3",
   "version": "3.8.8"
  },
  "varInspector": {
   "cols": {
    "lenName": 16,
    "lenType": 16,
    "lenVar": 40
   },
   "kernels_config": {
    "python": {
     "delete_cmd_postfix": "",
     "delete_cmd_prefix": "del ",
     "library": "var_list.py",
     "varRefreshCmd": "print(var_dic_list())"
    },
    "r": {
     "delete_cmd_postfix": ") ",
     "delete_cmd_prefix": "rm(",
     "library": "var_list.r",
     "varRefreshCmd": "cat(var_dic_list()) "
    }
   },
   "types_to_exclude": [
    "module",
    "function",
    "builtin_function_or_method",
    "instance",
    "_Feature"
   ],
   "window_display": false
  }
 },
 "nbformat": 4,
 "nbformat_minor": 5
}
