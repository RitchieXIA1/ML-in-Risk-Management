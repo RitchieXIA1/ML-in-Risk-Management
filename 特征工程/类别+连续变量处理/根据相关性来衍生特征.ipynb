{
 "cells": [
  {
   "cell_type": "code",
   "execution_count": null,
   "id": "5debc21b",
   "metadata": {},
   "outputs": [],
   "source": [
    "df = data.copy()\n",
    "for col in column:\n",
    "    dic = abs(df.corr()[col]).sort_values(ascending = False)\n",
    "    l = [k for k,v in dic.items() if v>0.35 and v<0.85]\n",
    "    if len(l)>0:\n",
    "        for i in l:\n",
    "            data[f'{col}_{i}_sub'] = data[col] - data[i]\n",
    "            data[f'{col}_{i}_diff'] = data[col] / data[i]\n",
    "\n",
    "    p = [k for k,v in dic.items() if v>0.7 and v<0.96]\n",
    "    if len(l)>0:\n",
    "        for i in p:\n",
    "            data[f'{col}_{i}_add'] = data[col] + data[i]\n",
    "            data[f'{i}_rate'] = data[i] / data[f'{col}_{i}_add']\n",
    "            data[f'{col}_rate'] = data[col] / data[f'{col}_{i}_add']\n",
    "    print(col)"
   ]
  }
 ],
 "metadata": {
  "kernelspec": {
   "display_name": "Python 3 (ipykernel)",
   "language": "python",
   "name": "python3"
  },
  "language_info": {
   "codemirror_mode": {
    "name": "ipython",
    "version": 3
   },
   "file_extension": ".py",
   "mimetype": "text/x-python",
   "name": "python",
   "nbconvert_exporter": "python",
   "pygments_lexer": "ipython3",
   "version": "3.8.5"
  },
  "toc": {
   "base_numbering": 1,
   "nav_menu": {},
   "number_sections": true,
   "sideBar": true,
   "skip_h1_title": false,
   "title_cell": "Table of Contents",
   "title_sidebar": "Contents",
   "toc_cell": false,
   "toc_position": {},
   "toc_section_display": true,
   "toc_window_display": false
  }
 },
 "nbformat": 4,
 "nbformat_minor": 5
}
