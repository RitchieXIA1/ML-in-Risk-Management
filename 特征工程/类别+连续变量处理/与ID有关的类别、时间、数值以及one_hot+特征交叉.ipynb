{
 "cells": [
  {
   "cell_type": "code",
   "execution_count": null,
   "id": "ea744f80",
   "metadata": {},
   "outputs": [],
   "source": [
    "#ID+类别型变量"
   ]
  },
  {
   "cell_type": "code",
   "execution_count": null,
   "id": "65dcfd3c",
   "metadata": {},
   "outputs": [],
   "source": [
    "sub = df.groupby(['EID', 'cate']).size().reset_index()    #第一个放id，第二个放要统计的类别特征\n",
    "sub = sub.groupby('EID')[0].agg([sum, len]).reset_index() #计算出每个id一共有多少条记录和类别的种类\n",
    "sub.columns = ['EID', 'cate', 'cate_types_count']   \n",
    "sub_oh = df.groupby(['EID', 'cate']).size().unstack().reset_index()\n",
    "sub_oh.columns = [i if i == 'EID' else 'cate_' + i for i in rec_wz_oh.columns]#计算每个类别的记录数"
   ]
  },
  {
   "cell_type": "code",
   "execution_count": null,
   "id": "185503bf",
   "metadata": {},
   "outputs": [],
   "source": [
    "#ID+时间"
   ]
  },
  {
   "cell_type": "code",
   "execution_count": null,
   "id": "22078556",
   "metadata": {},
   "outputs": [],
   "source": [
    "df['recdate'] = pd.to_datetime(df['RECDATE']).apply(lambda x: 12*(x.year - 2010) + x.month - 1).fillna(\n",
    "        -999).astype(int).replace(-999, np.NaN)#把日期按月转化为一个具体数字\n",
    "rec_date = df.groupby('EID')['recdate'].agg([max, min, np.ptp, np.std]).reset_index()#每个id时间的方差均值极差标准差\n",
    "rec_date.columns = ['EID', 'rec_date_max', 'rec_date_min', 'rec_date_ptp', 'rec_date_std']"
   ]
  },
  {
   "cell_type": "code",
   "execution_count": null,
   "id": "6ef74e6b",
   "metadata": {},
   "outputs": [],
   "source": [
    "#分别计算与均值/最大/最小/和 的差距"
   ]
  },
  {
   "cell_type": "code",
   "execution_count": null,
   "id": "c5380cee",
   "metadata": {},
   "outputs": [],
   "source": [
    "for column in ['MPNUM', 'INUM', 'FINZB', 'FSTINUM', 'TZINUM', 'ENUM', 'ZCZB', 'allnum', 'RGYEAR', 'alt_count', 'rig_count']:\n",
    "    groupby_list = [['HY'], ['ETYPE'], ['HY', 'ETYPE'], ['HY', 'PROV'], ['ETYPE', 'PROV'], ['MPNUM_CLASS'], ['FSTINUM_CLASS']]\n",
    "    for groupby in groupby_list:\n",
    "        if 'MPNUM_CLASS' in groupby and column == 'MPNUM':\n",
    "            continue\n",
    "        if 'FSTINUM_CLASS' in groupby and column == 'FSTINUM':\n",
    "            continue\n",
    "        groupby_keylist = []\n",
    "        for key in groupby:\n",
    "            groupby_keylist.append(dataset[key])\n",
    "        tmp = dataset[column].groupby(groupby_keylist).agg([sum, min, max, np.mean]).reset_index()\n",
    "        tmp = pd.merge(dataset, tmp, on=groupby, how='left')\n",
    "        dataset['ent_' + column.lower() + '-mean_gb_' + '_'.join(groupby).lower()] = dataset[column] - tmp['mean']\n",
    "        dataset['ent_' + column.lower() + '-min_gb_' + '_'.join(groupby).lower()] = dataset[column] - tmp['min']\n",
    "        dataset['ent_' + column.lower() + '-max_gb_' + '_'.join(groupby).lower()] = dataset[column] - tmp['max']\n",
    "        dataset['ent_' + column.lower() + '/sum_gb_' + '_'.join(groupby).lower()] = dataset[column] / tmp['sum']\n",
    "dataset.drop(['MPNUM_CLASS', 'FSTINUM_CLASS'], axis=1, inplace=True)"
   ]
  },
  {
   "cell_type": "code",
   "execution_count": null,
   "id": "e62171b8",
   "metadata": {},
   "outputs": [],
   "source": [
    "#one_hot编码之后再特征交叉\n",
    "dataset = dataset.join(pd.get_dummies(dataset['PROV'], prefix='prov'))\n",
    "dataset = dataset.join(pd.get_dummies(dataset['HY'], prefix='hy').mul(dataset['ZCZB'], axis=0))\n",
    "dataset = dataset.join(pd.get_dummies(dataset['ETYPE'], prefix='etype').mul(dataset['RGYEAR'], axis=0))\n",
    "dataset.drop(['PROV', 'HY', 'ETYPE'], axis=1, inplace=True)"
   ]
  }
 ],
 "metadata": {
  "kernelspec": {
   "display_name": "Python 3",
   "language": "python",
   "name": "python3"
  },
  "language_info": {
   "codemirror_mode": {
    "name": "ipython",
    "version": 3
   },
   "file_extension": ".py",
   "mimetype": "text/x-python",
   "name": "python",
   "nbconvert_exporter": "python",
   "pygments_lexer": "ipython3",
   "version": "3.8.8"
  },
  "varInspector": {
   "cols": {
    "lenName": 16,
    "lenType": 16,
    "lenVar": 40
   },
   "kernels_config": {
    "python": {
     "delete_cmd_postfix": "",
     "delete_cmd_prefix": "del ",
     "library": "var_list.py",
     "varRefreshCmd": "print(var_dic_list())"
    },
    "r": {
     "delete_cmd_postfix": ") ",
     "delete_cmd_prefix": "rm(",
     "library": "var_list.r",
     "varRefreshCmd": "cat(var_dic_list()) "
    }
   },
   "types_to_exclude": [
    "module",
    "function",
    "builtin_function_or_method",
    "instance",
    "_Feature"
   ],
   "window_display": false
  }
 },
 "nbformat": 4,
 "nbformat_minor": 5
}
