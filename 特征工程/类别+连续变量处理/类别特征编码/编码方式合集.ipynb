{
 "cells": [
  {
   "cell_type": "code",
   "execution_count": null,
   "id": "d4bc0b82",
   "metadata": {},
   "outputs": [],
   "source": [
    "# frequency encode\n",
    "def encode_FE(df1, df2, cols):\n",
    "    for col in cols:\n",
    "        df = pd.concat([df1[col], df2[col]])\n",
    "        vc = df.value_counts(dropna=True, normalize=True).to_dict()\n",
    "        vc[-1] = -1\n",
    "        nm = col + \"FE\"\n",
    "        df1[nm] = df1[col].map(vc)\n",
    "        df1[nm] = df1[nm].astype(\"float32\")\n",
    "        df2[nm] = df2[col].map(vc)\n",
    "        df2[nm] = df2[nm].astype(\"float32\")\n",
    "        print(col)"
   ]
  },
  {
   "cell_type": "code",
   "execution_count": null,
   "id": "d74d544d",
   "metadata": {},
   "outputs": [],
   "source": [
    "# label encode\n",
    "def encode_LE(col, train=X_train, test=X_test, verbose=True):\n",
    "    df_comb = pd.concat([train[col], test[col]], axis=0)#非常重要否则可能会出现test里有train里没有的种类\n",
    "    df_comb, _ = pd.factorize(df_comb)#输出为label后的编码和对应的i类别\n",
    "    nm = col\n",
    "    if df_comb.max() > 32000:\n",
    "        train[nm] = df_comb[0: len(train)].astype(\"float32\")\n",
    "        test[nm] = df_comb[len(train):].astype(\"float32\")\n",
    "    else:\n",
    "        train[nm] = df_comb[0: len(train)].astype(\"float16\")\n",
    "        test[nm] = df_comb[len(train):].astype(\"float16\")\n",
    "    del df_comb\n",
    "    gc.collect()\n",
    "    if verbose:\n",
    "        print(col)"
   ]
  },
  {
   "cell_type": "code",
   "execution_count": null,
   "id": "8038ad3f",
   "metadata": {},
   "outputs": [],
   "source": [
    "#计算每个userid下，选定变量的标准差，均值之类的统计量，用于数值变量\n",
    "def encode_AG(main_columns, uids, aggregations=[\"mean\"], df_train=X_train, df_test=X_test, fillna=True, usena=False):\n",
    "    for main_column in main_columns:\n",
    "        for col in uids:\n",
    "            for agg_type in aggregations:\n",
    "                new_column = main_column + \"_\" + col + \"_\" + agg_type\n",
    "                temp_df = pd.concat([df_train[[col, main_column]], df_test[[col, main_column]]])\n",
    "                if usena:\n",
    "                    temp_df.loc[temp_df[main_column] == -1, main_column] = np.nan\n",
    "\n",
    "                #求每个uid下，该col的均值或标准差\n",
    "                temp_df = temp_df.groupby([col])[main_column].agg([agg_type]).reset_index().rename(\n",
    "                    columns={agg_type: new_column})\n",
    "                #将uid设成index\n",
    "                temp_df.index = list(temp_df[col])\n",
    "                temp_df = temp_df[new_column].to_dict()\n",
    "                #temp_df是一个映射字典\n",
    "                df_train[new_column] = df_train[col].map(temp_df).astype(\"float32\")\n",
    "                df_test[new_column] = df_test[col].map(temp_df).astype(\"float32\")\n",
    "                if fillna:#把空值赋-1\n",
    "                    df_train[new_column].fillna(-1, inplace=True)\n",
    "                    df_test[new_column].fillna(-1, inplace=True)\n",
    "                print(new_column)"
   ]
  },
  {
   "cell_type": "code",
   "execution_count": null,
   "id": "4b81830b",
   "metadata": {},
   "outputs": [],
   "source": [
    "#这里也不一定用uid也可以是贷款id，查询id？\n",
    "encode_AG(['TransactionAmt', 'D4', 'D9', 'D10', 'D15'], ['uid'], ['mean', 'std'], fillna=True, usena=True)"
   ]
  },
  {
   "cell_type": "code",
   "execution_count": null,
   "id": "a7ec0cc5",
   "metadata": {},
   "outputs": [],
   "source": [
    "# COMBINE FEATURES用于类别变量交叉,\n",
    "def encode_CB(col1, col2, df1=X_train, df2=X_test):\n",
    "    nm = col1 + '_' + col2\n",
    "    df1[nm] = df1[col1].astype(str) + '_' + df1[col2].astype(str)\n",
    "    df2[nm] = df2[col1].astype(str) + '_' + df2[col2].astype(str)\n",
    "    encode_LE(nm, verbose=False)#交叉之后再标签编码\n",
    "    print(nm, ', ', end='')"
   ]
  },
  {
   "cell_type": "code",
   "execution_count": null,
   "id": "c7ad3eae",
   "metadata": {},
   "outputs": [],
   "source": [
    "encode_CB('card1', 'addr1')"
   ]
  },
  {
   "cell_type": "code",
   "execution_count": null,
   "id": "982cce2a",
   "metadata": {},
   "outputs": [],
   "source": [
    "# GROUP AGGREGATION NUNIQUE用来统计每个user在这个类别特征下一共有几种不同的表现\n",
    "def encode_AG2(main_columns, uids, train_df=X_train, test_df=X_test):\n",
    "    for main_column in main_columns:\n",
    "        for col in uids:\n",
    "            comb = pd.concat([train_df[[col] + [main_column]], test_df[[col] + [main_column]]], axis=0)\n",
    "            mp = comb.groupby(col)[main_column].agg(['nunique'])['nunique'].to_dict()\n",
    "            train_df[col + '_' + main_column + '_ct'] = train_df[col].map(mp).astype('float32')\n",
    "            test_df[col + '_' + main_column + '_ct'] = test_df[col].map(mp).astype('float32')\n",
    "            print(col + '_' + main_column + '_ct, ', end='')"
   ]
  },
  {
   "cell_type": "code",
   "execution_count": null,
   "id": "14ae3eb5",
   "metadata": {},
   "outputs": [],
   "source": [
    "encode_AG2(['C13', 'V314'], ['uid'], train_df=X_train, test_df=X_test)"
   ]
  }
 ],
 "metadata": {
  "kernelspec": {
   "display_name": "Python 3 (ipykernel)",
   "language": "python",
   "name": "python3"
  },
  "language_info": {
   "codemirror_mode": {
    "name": "ipython",
    "version": 3
   },
   "file_extension": ".py",
   "mimetype": "text/x-python",
   "name": "python",
   "nbconvert_exporter": "python",
   "pygments_lexer": "ipython3",
   "version": "3.8.5"
  },
  "toc": {
   "base_numbering": 1,
   "nav_menu": {},
   "number_sections": true,
   "sideBar": true,
   "skip_h1_title": false,
   "title_cell": "Table of Contents",
   "title_sidebar": "Contents",
   "toc_cell": false,
   "toc_position": {},
   "toc_section_display": true,
   "toc_window_display": false
  },
  "varInspector": {
   "cols": {
    "lenName": 16,
    "lenType": 16,
    "lenVar": 40
   },
   "kernels_config": {
    "python": {
     "delete_cmd_postfix": "",
     "delete_cmd_prefix": "del ",
     "library": "var_list.py",
     "varRefreshCmd": "print(var_dic_list())"
    },
    "r": {
     "delete_cmd_postfix": ") ",
     "delete_cmd_prefix": "rm(",
     "library": "var_list.r",
     "varRefreshCmd": "cat(var_dic_list()) "
    }
   },
   "types_to_exclude": [
    "module",
    "function",
    "builtin_function_or_method",
    "instance",
    "_Feature"
   ],
   "window_display": false
  }
 },
 "nbformat": 4,
 "nbformat_minor": 5
}
