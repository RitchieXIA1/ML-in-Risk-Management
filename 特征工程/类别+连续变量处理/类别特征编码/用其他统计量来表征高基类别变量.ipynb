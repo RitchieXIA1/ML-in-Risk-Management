{
 "cells": [
  {
   "cell_type": "code",
   "execution_count": null,
   "id": "577aa930",
   "metadata": {},
   "outputs": [],
   "source": [
    "def get_stats(train_df, test_df, target_column, group_column = 'manager_id'):\n",
    "    '''\n",
    "    target_column: numeric columns to group with (e.g. price, bedrooms, bathrooms)\n",
    "    group_column: categorical columns to group on (e.g. manager_id, building_id)\n",
    "    '''\n",
    "    train_df['row_id'] = range(train_df.shape[0])\n",
    "    test_df['row_id'] = range(test_df.shape[0])\n",
    "    train_df['train'] = 1\n",
    "    test_df['train'] = 0\n",
    "    all_df = train_df[['row_id', 'train', target_column, group_column]].append(test_df[['row_id','train',\n",
    "                                                                                    target_column, group_column]])\n",
    "    grouped = all_df[[target_column, group_column]].groupby(group_column)\n",
    "    the_size = pd.DataFrame(grouped.size()).reset_index()\n",
    "    the_size.columns = [group_column, '%s_size' % target_column]\n",
    "    the_mean = pd.DataFrame(grouped.mean()).reset_index()\n",
    "    the_mean.columns = [group_column, '%s_mean' % target_column]\n",
    "    the_std = pd.DataFrame(grouped.std()).reset_index().fillna(0)\n",
    "    the_std.columns = [group_column, '%s_std' % target_column]\n",
    "    the_median = pd.DataFrame(grouped.median()).reset_index()\n",
    "    the_median.columns = [group_column, '%s_median' % target_column]\n",
    "    the_stats = pd.merge(the_size, the_mean)\n",
    "    the_stats = pd.merge(the_stats, the_std)\n",
    "    the_stats = pd.merge(the_stats, the_median)\n",
    "\n",
    "    the_max = pd.DataFrame(grouped.max()).reset_index()\n",
    "    the_max.columns = [group_column, '%s_max' % target_column]\n",
    "    the_min = pd.DataFrame(grouped.min()).reset_index()\n",
    "    the_min.columns = [group_column, '%s_min' % target_column]\n",
    "\n",
    "    the_stats = pd.merge(the_stats, the_max)\n",
    "    the_stats = pd.merge(the_stats, the_min)\n",
    "\n",
    "    all_df = pd.merge(all_df, the_stats)\n",
    "\n",
    "    selected_train = all_df[all_df['train'] == 1]\n",
    "    selected_test = all_df[all_df['train'] == 0]\n",
    "    selected_train.sort_values('row_id', inplace=True)\n",
    "    selected_test.sort_values('row_id', inplace=True)\n",
    "    selected_train.drop([target_column, group_column, 'row_id', 'train'], axis=1, inplace=True)\n",
    "    selected_test.drop([target_column, group_column, 'row_id', 'train'], axis=1, inplace=True)\n",
    "    return np.array(selected_train), np.array(selected_test)"
   ]
  },
  {
   "cell_type": "code",
   "execution_count": null,
   "id": "12a889ca",
   "metadata": {},
   "outputs": [],
   "source": [
    "#我觉得本质上，是有选择的做一些类别变量和类别&数值变量的交叉\n",
    "selected_manager_id_proj = ['bathrooms', 'bedrooms', 'latitude', 'longitude', 'price', 'bad_addr', 'listing_id',\n",
    "                   'month', 'day', 'weekday', 'day_of_year', 'hour', 'num_features', 'num_desc',\n",
    "                   'bed_to_bath', 'price_per_bed', 'price_per_bath', 'bldg_count', 'zero_bldg', 'total_room', 'room_diff',\n",
    "                   'photo_count', 'latitude_grid', 'longitude_grid', 'lat_long_grid']\n",
    "\n",
    "for target_col in selected_manager_id_proj:\n",
    "    tmp_train, tmp_test = get_stats(train_df, test_df, target_column=target_col)\n",
    "    train_stack_list.append(tmp_train)\n",
    "    test_stack_list.append(tmp_test)\n",
    "\n",
    "selected_bedrooms_proj = ['price', 'listing_id', 'month', 'day', 'weekday', 'day_of_year', 'hour', 'num_features', 'bldg_count', 'zero_bldg']\n",
    "\n",
    "for target_col in selected_bedrooms_proj:\n",
    "    tmp_train, tmp_test = get_stats(train_df, test_df, target_column=target_col, group_column='bedrooms')\n",
    "    train_stack_list.append(tmp_train)\n",
    "    test_stack_list.append(tmp_test)"
   ]
  },
  {
   "cell_type": "code",
   "execution_count": null,
   "id": "76351452",
   "metadata": {},
   "outputs": [],
   "source": [
    "for c in ['bathrooms', 'bedrooms','zero_bldg', 'latitude_grid', 'longitude_grid', 'lat_long_grid', 'manager_id', 'building_id']:\n",
    "    tmp_train, tmp_test = get_label_encoder(c, train_df = train_df, test_df = test_df)\n",
    "    train_fea_list.append(tmp_train)\n",
    "    test_fea_list.append(tmp_test)\n",
    "for target_col in ['price', 'num_features', 'listing_id', 'bedrooms', 'bathrooms']:\n",
    "    for group_col in [\"cluster_1\", \"cluster_2\", \"street_address\", \"manager_id\"]:\n",
    "        tmp_train, tmp_test = get_label_inter_stats(train_df, test_df, target_column=target_col, group_column=group_col)\n",
    "        train_fea_list.append(tmp_train)\n",
    "        test_fea_list.append(tmp_test)"
   ]
  }
 ],
 "metadata": {
  "kernelspec": {
   "display_name": "Python 3",
   "language": "python",
   "name": "python3"
  },
  "language_info": {
   "codemirror_mode": {
    "name": "ipython",
    "version": 3
   },
   "file_extension": ".py",
   "mimetype": "text/x-python",
   "name": "python",
   "nbconvert_exporter": "python",
   "pygments_lexer": "ipython3",
   "version": "3.8.8"
  },
  "varInspector": {
   "cols": {
    "lenName": 16,
    "lenType": 16,
    "lenVar": 40
   },
   "kernels_config": {
    "python": {
     "delete_cmd_postfix": "",
     "delete_cmd_prefix": "del ",
     "library": "var_list.py",
     "varRefreshCmd": "print(var_dic_list())"
    },
    "r": {
     "delete_cmd_postfix": ") ",
     "delete_cmd_prefix": "rm(",
     "library": "var_list.r",
     "varRefreshCmd": "cat(var_dic_list()) "
    }
   },
   "types_to_exclude": [
    "module",
    "function",
    "builtin_function_or_method",
    "instance",
    "_Feature"
   ],
   "window_display": false
  }
 },
 "nbformat": 4,
 "nbformat_minor": 5
}
