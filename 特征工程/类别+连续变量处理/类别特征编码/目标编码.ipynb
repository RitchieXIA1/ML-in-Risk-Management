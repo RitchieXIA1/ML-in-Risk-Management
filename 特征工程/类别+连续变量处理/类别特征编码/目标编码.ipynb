{
 "cells": [
  {
   "cell_type": "code",
   "execution_count": 1,
   "id": "a3a4bda6",
   "metadata": {
    "ExecuteTime": {
     "end_time": "2022-01-05T02:00:37.751802Z",
     "start_time": "2022-01-05T02:00:36.801378Z"
    }
   },
   "outputs": [],
   "source": [
    "import matplotlib.pyplot as plt\n",
    "import numpy as np\n",
    "import pandas as pd\n",
    "import seaborn as sns\n",
    "import warnings\n",
    "\n",
    "plt.style.use(\"seaborn-whitegrid\")\n",
    "plt.rc(\"figure\", autolayout=True)\n",
    "plt.rc(\n",
    "    \"axes\",\n",
    "    labelweight=\"bold\",\n",
    "    labelsize=\"large\",\n",
    "    titleweight=\"bold\",\n",
    "    titlesize=14,\n",
    "    titlepad=10,\n",
    ")\n",
    "warnings.filterwarnings('ignore')"
   ]
  },
  {
   "cell_type": "code",
   "execution_count": null,
   "id": "7443a3c3",
   "metadata": {},
   "outputs": [],
   "source": [
    "# using target encoding\n",
    "# Tutorial: https://www.kaggle.com/ryanholbrook/target-encoding\n",
    "def target_encoding(name, df, m=1):\n",
    "    df[name] = df[name].str.split(\";\")\n",
    "    df = df.explode(name)\n",
    "    overall = df[\"label\"].mean()\n",
    "    df = df.groupby(name).agg(\n",
    "        freq=(\"label\", \"count\"), \n",
    "        in_category=(\"label\", np.mean)\n",
    "    ).reset_index()\n",
    "    df[\"weight\"] = df[\"freq\"] / (df[\"freq\"] + m)\n",
    "    df[\"score\"] = df[\"weight\"] * df[\"in_category\"] + (1 - df[\"weight\"]) * overall\n",
    "    return df"
   ]
  },
  {
   "cell_type": "code",
   "execution_count": null,
   "id": "cf04c3a3",
   "metadata": {},
   "outputs": [],
   "source": [
    "plt.figure(dpi=90)\n",
    "ax = sns.distplot(df['label'], kde=False, norm_hist=True)#这里放label\n",
    "ax = sns.kdeplot(father_id_score.score, color='r', ax=ax)#这里放转化后的分数\n",
    "ax.set_xlabel(\"label\")\n",
    "ax.legend(labels=['encoding', 'label']);"
   ]
  }
 ],
 "metadata": {
  "kernelspec": {
   "display_name": "Python 3 (ipykernel)",
   "language": "python",
   "name": "python3"
  },
  "language_info": {
   "codemirror_mode": {
    "name": "ipython",
    "version": 3
   },
   "file_extension": ".py",
   "mimetype": "text/x-python",
   "name": "python",
   "nbconvert_exporter": "python",
   "pygments_lexer": "ipython3",
   "version": "3.8.5"
  },
  "toc": {
   "base_numbering": 1,
   "nav_menu": {},
   "number_sections": true,
   "sideBar": true,
   "skip_h1_title": false,
   "title_cell": "Table of Contents",
   "title_sidebar": "Contents",
   "toc_cell": false,
   "toc_position": {},
   "toc_section_display": true,
   "toc_window_display": false
  },
  "varInspector": {
   "cols": {
    "lenName": 16,
    "lenType": 16,
    "lenVar": 40
   },
   "kernels_config": {
    "python": {
     "delete_cmd_postfix": "",
     "delete_cmd_prefix": "del ",
     "library": "var_list.py",
     "varRefreshCmd": "print(var_dic_list())"
    },
    "r": {
     "delete_cmd_postfix": ") ",
     "delete_cmd_prefix": "rm(",
     "library": "var_list.r",
     "varRefreshCmd": "cat(var_dic_list()) "
    }
   },
   "types_to_exclude": [
    "module",
    "function",
    "builtin_function_or_method",
    "instance",
    "_Feature"
   ],
   "window_display": false
  }
 },
 "nbformat": 4,
 "nbformat_minor": 5
}
