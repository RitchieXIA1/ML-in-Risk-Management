{
 "cells": [
  {
   "cell_type": "code",
   "execution_count": 1,
   "id": "0b59faee",
   "metadata": {
    "ExecuteTime": {
     "end_time": "2022-07-26T08:51:12.938121Z",
     "start_time": "2022-07-26T08:51:12.391163Z"
    }
   },
   "outputs": [],
   "source": [
    "import sys\n",
    "sys.path.append(\"./\")\n",
    "sys.path.append(\"../\")\n",
    "\n",
    "# 使用聚类算法衍生特征\n",
    "import pandas as pd\n",
    "from sklearn.cluster import KMeans\n",
    "\n",
    "\n",
    "def cluster_fea_gen(data, selected_cols, n_clusters):\n",
    "    \"\"\"\n",
    "    使用聚类算法生成特征\n",
    "    :param data: 用作输入的x,y\n",
    "    :param selected_cols: 选取用来做聚类的特征列\n",
    "    :param n_clusters: 聚类类别数\n",
    "    :return: 聚类算法生成的特征\n",
    "    \"\"\"\n",
    "    x_cluster_feas = data.loc[:, selected_cols]\n",
    "    # 拟合聚类模型\n",
    "    clf = KMeans(n_clusters=n_clusters, random_state=1)\n",
    "    clf.fit(x_cluster_feas)\n",
    "    return clf\n",
    "\n",
    "\n",
    "def cluster_fea_apply(data, selected_cols, clf):\n",
    "    \"\"\"\n",
    "    使用聚类算法生成特征\n",
    "    :param data: 用作输入的x,y\n",
    "    :param selected_cols: 选取用来做聚类的特征列\n",
    "    :param clf: 聚类模型\n",
    "    :return: 聚类算法生成的特征\n",
    "    \"\"\"\n",
    "    # 对原数据表进行类别标记\n",
    "    data['group'] = clf.predict(data[selected_cols])\n",
    "\n",
    "    # 距质心距离特征的计算\n",
    "    centers_df = pd.DataFrame(clf.cluster_centers_)\n",
    "    centers_df.columns = [x + '_center' for x in selected_cols]\n",
    "\n",
    "    for item in selected_cols:\n",
    "        data[item + '_center'] = data['group'].apply(\n",
    "            lambda x: centers_df.iloc[x, :][item + '_center'])\n",
    "        data[item + '_distance'] = data[item] - data[item + '_center']\n",
    "\n",
    "    fea_cols = ['group']\n",
    "    fea_cols.extend([x + '_distance' for x in selected_cols])\n",
    "\n",
    "    return data.loc[:, fea_cols]"
   ]
  },
  {
   "cell_type": "code",
   "execution_count": 8,
   "id": "6e91119a",
   "metadata": {
    "ExecuteTime": {
     "end_time": "2022-07-26T08:52:52.406542Z",
     "start_time": "2022-07-26T08:52:52.393740Z"
    }
   },
   "outputs": [],
   "source": [
    "centers_df =pd.DataFrame(model.cluster_centers_)"
   ]
  },
  {
   "cell_type": "code",
   "execution_count": 2,
   "id": "bc589309",
   "metadata": {
    "ExecuteTime": {
     "end_time": "2022-07-26T08:51:23.066481Z",
     "start_time": "2022-07-26T08:51:22.887775Z"
    }
   },
   "outputs": [],
   "source": [
    "all_x_y = pd.read_excel('data/order_feas.xlsx')\n",
    "all_x_y.set_index('order_no', inplace=True)\n",
    "    # 取以下几个特征做聚类\n",
    "chose_cols = ['orderv1_age', 'orderv1_90_workday_application_amount_mean', 'orderv1_history_order_num',\n",
    "                  'orderv1_max_overdue_days']\n",
    "all_x_y.fillna(0, inplace=True)"
   ]
  },
  {
   "cell_type": "code",
   "execution_count": 3,
   "id": "7f6f24cb",
   "metadata": {
    "ExecuteTime": {
     "end_time": "2022-07-26T08:51:28.989708Z",
     "start_time": "2022-07-26T08:51:28.942099Z"
    }
   },
   "outputs": [],
   "source": [
    "model = cluster_fea_gen(all_x_y, chose_cols, n_clusters=5)"
   ]
  },
  {
   "cell_type": "code",
   "execution_count": 4,
   "id": "b69405cb",
   "metadata": {
    "ExecuteTime": {
     "end_time": "2022-07-26T08:51:40.157224Z",
     "start_time": "2022-07-26T08:51:39.990247Z"
    }
   },
   "outputs": [],
   "source": [
    "fea_cluster = cluster_fea_apply(all_x_y, chose_cols, model)"
   ]
  },
  {
   "cell_type": "code",
   "execution_count": 5,
   "id": "d576a23b",
   "metadata": {
    "ExecuteTime": {
     "end_time": "2022-07-26T08:51:45.952164Z",
     "start_time": "2022-07-26T08:51:45.939816Z"
    }
   },
   "outputs": [
    {
     "name": "stdout",
     "output_type": "stream",
     "text": [
      "使用聚类算法衍生特征数: \n",
      " 5\n"
     ]
    }
   ],
   "source": [
    "print(\"使用聚类算法衍生特征数: \\n\", fea_cluster.shape[1])"
   ]
  },
  {
   "cell_type": "code",
   "execution_count": 6,
   "id": "a78c58c2",
   "metadata": {
    "ExecuteTime": {
     "end_time": "2022-07-26T08:51:49.291725Z",
     "start_time": "2022-07-26T08:51:49.263975Z"
    }
   },
   "outputs": [
    {
     "data": {
      "text/html": [
       "<div>\n",
       "<style scoped>\n",
       "    .dataframe tbody tr th:only-of-type {\n",
       "        vertical-align: middle;\n",
       "    }\n",
       "\n",
       "    .dataframe tbody tr th {\n",
       "        vertical-align: top;\n",
       "    }\n",
       "\n",
       "    .dataframe thead th {\n",
       "        text-align: right;\n",
       "    }\n",
       "</style>\n",
       "<table border=\"1\" class=\"dataframe\">\n",
       "  <thead>\n",
       "    <tr style=\"text-align: right;\">\n",
       "      <th></th>\n",
       "      <th>group</th>\n",
       "      <th>orderv1_age_distance</th>\n",
       "      <th>orderv1_90_workday_application_amount_mean_distance</th>\n",
       "      <th>orderv1_history_order_num_distance</th>\n",
       "      <th>orderv1_max_overdue_days_distance</th>\n",
       "    </tr>\n",
       "    <tr>\n",
       "      <th>order_no</th>\n",
       "      <th></th>\n",
       "      <th></th>\n",
       "      <th></th>\n",
       "      <th></th>\n",
       "      <th></th>\n",
       "    </tr>\n",
       "  </thead>\n",
       "  <tbody>\n",
       "    <tr>\n",
       "      <th>9268058473941147</th>\n",
       "      <td>3</td>\n",
       "      <td>4.818182</td>\n",
       "      <td>21784.512162</td>\n",
       "      <td>-15.318182</td>\n",
       "      <td>-1.166667</td>\n",
       "    </tr>\n",
       "    <tr>\n",
       "      <th>9267961137580040</th>\n",
       "      <td>4</td>\n",
       "      <td>-10.120000</td>\n",
       "      <td>-27674.933955</td>\n",
       "      <td>1.760000</td>\n",
       "      <td>0.440000</td>\n",
       "    </tr>\n",
       "    <tr>\n",
       "      <th>9267741647036595</th>\n",
       "      <td>3</td>\n",
       "      <td>-4.181818</td>\n",
       "      <td>25784.512162</td>\n",
       "      <td>-10.318182</td>\n",
       "      <td>-0.166667</td>\n",
       "    </tr>\n",
       "    <tr>\n",
       "      <th>9267846324091420</th>\n",
       "      <td>3</td>\n",
       "      <td>-1.181818</td>\n",
       "      <td>31784.512162</td>\n",
       "      <td>-5.318182</td>\n",
       "      <td>-0.166667</td>\n",
       "    </tr>\n",
       "    <tr>\n",
       "      <th>9268058096167541</th>\n",
       "      <td>3</td>\n",
       "      <td>-7.181818</td>\n",
       "      <td>20117.845495</td>\n",
       "      <td>-7.318182</td>\n",
       "      <td>-1.166667</td>\n",
       "    </tr>\n",
       "    <tr>\n",
       "      <th>...</th>\n",
       "      <td>...</td>\n",
       "      <td>...</td>\n",
       "      <td>...</td>\n",
       "      <td>...</td>\n",
       "      <td>...</td>\n",
       "    </tr>\n",
       "    <tr>\n",
       "      <th>9268009388699351</th>\n",
       "      <td>3</td>\n",
       "      <td>-7.181818</td>\n",
       "      <td>-6110.224680</td>\n",
       "      <td>57.681818</td>\n",
       "      <td>-0.166667</td>\n",
       "    </tr>\n",
       "    <tr>\n",
       "      <th>9268104629475002</th>\n",
       "      <td>3</td>\n",
       "      <td>-12.181818</td>\n",
       "      <td>-32215.487838</td>\n",
       "      <td>-12.318182</td>\n",
       "      <td>-1.166667</td>\n",
       "    </tr>\n",
       "    <tr>\n",
       "      <th>9268104706970592</th>\n",
       "      <td>3</td>\n",
       "      <td>0.818182</td>\n",
       "      <td>21784.512162</td>\n",
       "      <td>-18.318182</td>\n",
       "      <td>-1.166667</td>\n",
       "    </tr>\n",
       "    <tr>\n",
       "      <th>9268002569304461</th>\n",
       "      <td>0</td>\n",
       "      <td>8.446809</td>\n",
       "      <td>-1195.083927</td>\n",
       "      <td>-9.000000</td>\n",
       "      <td>-0.127660</td>\n",
       "    </tr>\n",
       "    <tr>\n",
       "      <th>9268104747316734</th>\n",
       "      <td>1</td>\n",
       "      <td>-0.128205</td>\n",
       "      <td>-6153.846154</td>\n",
       "      <td>1.358974</td>\n",
       "      <td>0.051282</td>\n",
       "    </tr>\n",
       "  </tbody>\n",
       "</table>\n",
       "<p>199 rows × 5 columns</p>\n",
       "</div>"
      ],
      "text/plain": [
       "                  group  orderv1_age_distance  \\\n",
       "order_no                                        \n",
       "9268058473941147      3              4.818182   \n",
       "9267961137580040      4            -10.120000   \n",
       "9267741647036595      3             -4.181818   \n",
       "9267846324091420      3             -1.181818   \n",
       "9268058096167541      3             -7.181818   \n",
       "...                 ...                   ...   \n",
       "9268009388699351      3             -7.181818   \n",
       "9268104629475002      3            -12.181818   \n",
       "9268104706970592      3              0.818182   \n",
       "9268002569304461      0              8.446809   \n",
       "9268104747316734      1             -0.128205   \n",
       "\n",
       "                  orderv1_90_workday_application_amount_mean_distance  \\\n",
       "order_no                                                                \n",
       "9268058473941147                                       21784.512162     \n",
       "9267961137580040                                      -27674.933955     \n",
       "9267741647036595                                       25784.512162     \n",
       "9267846324091420                                       31784.512162     \n",
       "9268058096167541                                       20117.845495     \n",
       "...                                                             ...     \n",
       "9268009388699351                                       -6110.224680     \n",
       "9268104629475002                                      -32215.487838     \n",
       "9268104706970592                                       21784.512162     \n",
       "9268002569304461                                       -1195.083927     \n",
       "9268104747316734                                       -6153.846154     \n",
       "\n",
       "                  orderv1_history_order_num_distance  \\\n",
       "order_no                                               \n",
       "9268058473941147                          -15.318182   \n",
       "9267961137580040                            1.760000   \n",
       "9267741647036595                          -10.318182   \n",
       "9267846324091420                           -5.318182   \n",
       "9268058096167541                           -7.318182   \n",
       "...                                              ...   \n",
       "9268009388699351                           57.681818   \n",
       "9268104629475002                          -12.318182   \n",
       "9268104706970592                          -18.318182   \n",
       "9268002569304461                           -9.000000   \n",
       "9268104747316734                            1.358974   \n",
       "\n",
       "                  orderv1_max_overdue_days_distance  \n",
       "order_no                                             \n",
       "9268058473941147                          -1.166667  \n",
       "9267961137580040                           0.440000  \n",
       "9267741647036595                          -0.166667  \n",
       "9267846324091420                          -0.166667  \n",
       "9268058096167541                          -1.166667  \n",
       "...                                             ...  \n",
       "9268009388699351                          -0.166667  \n",
       "9268104629475002                          -1.166667  \n",
       "9268104706970592                          -1.166667  \n",
       "9268002569304461                          -0.127660  \n",
       "9268104747316734                           0.051282  \n",
       "\n",
       "[199 rows x 5 columns]"
      ]
     },
     "execution_count": 6,
     "metadata": {},
     "output_type": "execute_result"
    }
   ],
   "source": [
    "fea_cluster"
   ]
  },
  {
   "cell_type": "code",
   "execution_count": null,
   "id": "8b3e7fec",
   "metadata": {},
   "outputs": [],
   "source": []
  }
 ],
 "metadata": {
  "kernelspec": {
   "display_name": "Python 3",
   "language": "python",
   "name": "python3"
  },
  "language_info": {
   "codemirror_mode": {
    "name": "ipython",
    "version": 3
   },
   "file_extension": ".py",
   "mimetype": "text/x-python",
   "name": "python",
   "nbconvert_exporter": "python",
   "pygments_lexer": "ipython3",
   "version": "3.8.8"
  },
  "varInspector": {
   "cols": {
    "lenName": 16,
    "lenType": 16,
    "lenVar": 40
   },
   "kernels_config": {
    "python": {
     "delete_cmd_postfix": "",
     "delete_cmd_prefix": "del ",
     "library": "var_list.py",
     "varRefreshCmd": "print(var_dic_list())"
    },
    "r": {
     "delete_cmd_postfix": ") ",
     "delete_cmd_prefix": "rm(",
     "library": "var_list.r",
     "varRefreshCmd": "cat(var_dic_list()) "
    }
   },
   "types_to_exclude": [
    "module",
    "function",
    "builtin_function_or_method",
    "instance",
    "_Feature"
   ],
   "window_display": false
  }
 },
 "nbformat": 4,
 "nbformat_minor": 5
}
