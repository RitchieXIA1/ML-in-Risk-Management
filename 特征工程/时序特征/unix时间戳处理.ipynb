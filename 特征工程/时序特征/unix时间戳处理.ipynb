{
 "cells": [
  {
   "cell_type": "code",
   "execution_count": null,
   "id": "763fdeb7",
   "metadata": {},
   "outputs": [],
   "source": [
    "#如何把unix时间戳转化为标准时间，其他类型时间戳（比如从服务器运行时间开始的时间戳）也可以用同样的思路转化\n",
    "START_DATE = datetime.datetime.strptime('1970-01-01', '%Y-%m-%d')\n",
    "#START_DATE = datetime.datetime.strptime('2017-11-30', '%Y-%m-%d')\n",
    "df['datetime'] = df['time'].apply(lambda x: (START_DATE + datetime.timedelta(seconds = x+8*3600)))\n",
    "df['hour'] = df['datetime'].dt.hour\n",
    "df['minute'] = df['datetime'].dt.minute\n",
    "df['day'] = df['datetime'].astype(str).apply(lambda x: x[:10])\n"
   ]
  }
 ],
 "metadata": {
  "kernelspec": {
   "display_name": "Python 3",
   "language": "python",
   "name": "python3"
  },
  "language_info": {
   "codemirror_mode": {
    "name": "ipython",
    "version": 3
   },
   "file_extension": ".py",
   "mimetype": "text/x-python",
   "name": "python",
   "nbconvert_exporter": "python",
   "pygments_lexer": "ipython3",
   "version": "3.8.8"
  },
  "varInspector": {
   "cols": {
    "lenName": 16,
    "lenType": 16,
    "lenVar": 40
   },
   "kernels_config": {
    "python": {
     "delete_cmd_postfix": "",
     "delete_cmd_prefix": "del ",
     "library": "var_list.py",
     "varRefreshCmd": "print(var_dic_list())"
    },
    "r": {
     "delete_cmd_postfix": ") ",
     "delete_cmd_prefix": "rm(",
     "library": "var_list.r",
     "varRefreshCmd": "cat(var_dic_list()) "
    }
   },
   "types_to_exclude": [
    "module",
    "function",
    "builtin_function_or_method",
    "instance",
    "_Feature"
   ],
   "window_display": false
  }
 },
 "nbformat": 4,
 "nbformat_minor": 5
}
