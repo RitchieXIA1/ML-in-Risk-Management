{
 "cells": [
  {
   "cell_type": "code",
   "execution_count": 1,
   "id": "6ab4b912",
   "metadata": {
    "ExecuteTime": {
     "end_time": "2021-09-06T06:19:30.253536Z",
     "start_time": "2021-09-06T06:19:29.077040Z"
    }
   },
   "outputs": [],
   "source": [
    "from sklearn.datasets import load_iris\n",
    "from sklearn import tree\n",
    "import pandas as pd\n",
    "import numpy as np\n",
    "import os\n",
    "from six import StringIO"
   ]
  },
  {
   "cell_type": "code",
   "execution_count": 2,
   "id": "6eb08f1f",
   "metadata": {
    "ExecuteTime": {
     "end_time": "2021-09-06T06:19:31.693912Z",
     "start_time": "2021-09-06T06:19:31.605892Z"
    }
   },
   "outputs": [],
   "source": [
    "import toad"
   ]
  },
  {
   "cell_type": "code",
   "execution_count": 7,
   "id": "ffb7c858",
   "metadata": {
    "ExecuteTime": {
     "end_time": "2021-09-06T06:29:35.605265Z",
     "start_time": "2021-09-06T06:29:35.590885Z"
    }
   },
   "outputs": [],
   "source": [
    "import graphviz"
   ]
  },
  {
   "cell_type": "code",
   "execution_count": 3,
   "id": "3bea0544",
   "metadata": {
    "ExecuteTime": {
     "end_time": "2021-09-06T06:19:33.137834Z",
     "start_time": "2021-09-06T06:19:33.088824Z"
    }
   },
   "outputs": [],
   "source": [
    "data = pd.read_csv('credit.csv')"
   ]
  },
  {
   "cell_type": "code",
   "execution_count": 4,
   "id": "69c81049",
   "metadata": {
    "ExecuteTime": {
     "end_time": "2021-09-06T06:19:34.518229Z",
     "start_time": "2021-09-06T06:19:34.490223Z"
    }
   },
   "outputs": [
    {
     "data": {
      "text/html": [
       "<div>\n",
       "<style scoped>\n",
       "    .dataframe tbody tr th:only-of-type {\n",
       "        vertical-align: middle;\n",
       "    }\n",
       "\n",
       "    .dataframe tbody tr th {\n",
       "        vertical-align: top;\n",
       "    }\n",
       "\n",
       "    .dataframe thead th {\n",
       "        text-align: right;\n",
       "    }\n",
       "</style>\n",
       "<table border=\"1\" class=\"dataframe\">\n",
       "  <thead>\n",
       "    <tr style=\"text-align: right;\">\n",
       "      <th></th>\n",
       "      <th>LIMIT_BAL</th>\n",
       "      <th>SEX</th>\n",
       "      <th>EDUCATION</th>\n",
       "      <th>MARRIAGE</th>\n",
       "      <th>AGE</th>\n",
       "      <th>PAY_1</th>\n",
       "      <th>PAY_2</th>\n",
       "      <th>PAY_3</th>\n",
       "      <th>PAY_4</th>\n",
       "      <th>PAY_5</th>\n",
       "      <th>...</th>\n",
       "      <th>BILL_AMT4</th>\n",
       "      <th>BILL_AMT5</th>\n",
       "      <th>BILL_AMT6</th>\n",
       "      <th>PAY_AMT1</th>\n",
       "      <th>PAY_AMT2</th>\n",
       "      <th>PAY_AMT3</th>\n",
       "      <th>PAY_AMT4</th>\n",
       "      <th>PAY_AMT5</th>\n",
       "      <th>PAY_AMT6</th>\n",
       "      <th>default</th>\n",
       "    </tr>\n",
       "  </thead>\n",
       "  <tbody>\n",
       "    <tr>\n",
       "      <th>0</th>\n",
       "      <td>20000</td>\n",
       "      <td>2</td>\n",
       "      <td>2</td>\n",
       "      <td>1</td>\n",
       "      <td>24</td>\n",
       "      <td>2</td>\n",
       "      <td>2</td>\n",
       "      <td>-1</td>\n",
       "      <td>-1</td>\n",
       "      <td>-2</td>\n",
       "      <td>...</td>\n",
       "      <td>0.0</td>\n",
       "      <td>0.0</td>\n",
       "      <td>0.0</td>\n",
       "      <td>0.0</td>\n",
       "      <td>689.0</td>\n",
       "      <td>0.0</td>\n",
       "      <td>0.0</td>\n",
       "      <td>0.0</td>\n",
       "      <td>0.0</td>\n",
       "      <td>1</td>\n",
       "    </tr>\n",
       "    <tr>\n",
       "      <th>1</th>\n",
       "      <td>90000</td>\n",
       "      <td>2</td>\n",
       "      <td>2</td>\n",
       "      <td>2</td>\n",
       "      <td>34</td>\n",
       "      <td>0</td>\n",
       "      <td>0</td>\n",
       "      <td>0</td>\n",
       "      <td>0</td>\n",
       "      <td>0</td>\n",
       "      <td>...</td>\n",
       "      <td>14331.0</td>\n",
       "      <td>14948.0</td>\n",
       "      <td>15549.0</td>\n",
       "      <td>1518.0</td>\n",
       "      <td>1500.0</td>\n",
       "      <td>1000.0</td>\n",
       "      <td>1000.0</td>\n",
       "      <td>1000.0</td>\n",
       "      <td>5000.0</td>\n",
       "      <td>0</td>\n",
       "    </tr>\n",
       "    <tr>\n",
       "      <th>2</th>\n",
       "      <td>50000</td>\n",
       "      <td>2</td>\n",
       "      <td>2</td>\n",
       "      <td>1</td>\n",
       "      <td>37</td>\n",
       "      <td>0</td>\n",
       "      <td>0</td>\n",
       "      <td>0</td>\n",
       "      <td>0</td>\n",
       "      <td>0</td>\n",
       "      <td>...</td>\n",
       "      <td>28314.0</td>\n",
       "      <td>28959.0</td>\n",
       "      <td>29547.0</td>\n",
       "      <td>2000.0</td>\n",
       "      <td>2019.0</td>\n",
       "      <td>1200.0</td>\n",
       "      <td>1100.0</td>\n",
       "      <td>1069.0</td>\n",
       "      <td>1000.0</td>\n",
       "      <td>0</td>\n",
       "    </tr>\n",
       "    <tr>\n",
       "      <th>3</th>\n",
       "      <td>50000</td>\n",
       "      <td>1</td>\n",
       "      <td>2</td>\n",
       "      <td>1</td>\n",
       "      <td>57</td>\n",
       "      <td>-1</td>\n",
       "      <td>0</td>\n",
       "      <td>-1</td>\n",
       "      <td>0</td>\n",
       "      <td>0</td>\n",
       "      <td>...</td>\n",
       "      <td>20940.0</td>\n",
       "      <td>19146.0</td>\n",
       "      <td>19131.0</td>\n",
       "      <td>2000.0</td>\n",
       "      <td>36681.0</td>\n",
       "      <td>10000.0</td>\n",
       "      <td>9000.0</td>\n",
       "      <td>689.0</td>\n",
       "      <td>679.0</td>\n",
       "      <td>0</td>\n",
       "    </tr>\n",
       "    <tr>\n",
       "      <th>4</th>\n",
       "      <td>50000</td>\n",
       "      <td>1</td>\n",
       "      <td>1</td>\n",
       "      <td>2</td>\n",
       "      <td>37</td>\n",
       "      <td>0</td>\n",
       "      <td>0</td>\n",
       "      <td>0</td>\n",
       "      <td>0</td>\n",
       "      <td>0</td>\n",
       "      <td>...</td>\n",
       "      <td>19394.0</td>\n",
       "      <td>19619.0</td>\n",
       "      <td>20024.0</td>\n",
       "      <td>2500.0</td>\n",
       "      <td>1815.0</td>\n",
       "      <td>657.0</td>\n",
       "      <td>1000.0</td>\n",
       "      <td>1000.0</td>\n",
       "      <td>800.0</td>\n",
       "      <td>0</td>\n",
       "    </tr>\n",
       "    <tr>\n",
       "      <th>...</th>\n",
       "      <td>...</td>\n",
       "      <td>...</td>\n",
       "      <td>...</td>\n",
       "      <td>...</td>\n",
       "      <td>...</td>\n",
       "      <td>...</td>\n",
       "      <td>...</td>\n",
       "      <td>...</td>\n",
       "      <td>...</td>\n",
       "      <td>...</td>\n",
       "      <td>...</td>\n",
       "      <td>...</td>\n",
       "      <td>...</td>\n",
       "      <td>...</td>\n",
       "      <td>...</td>\n",
       "      <td>...</td>\n",
       "      <td>...</td>\n",
       "      <td>...</td>\n",
       "      <td>...</td>\n",
       "      <td>...</td>\n",
       "      <td>...</td>\n",
       "    </tr>\n",
       "    <tr>\n",
       "      <th>23995</th>\n",
       "      <td>80000</td>\n",
       "      <td>1</td>\n",
       "      <td>2</td>\n",
       "      <td>2</td>\n",
       "      <td>34</td>\n",
       "      <td>2</td>\n",
       "      <td>2</td>\n",
       "      <td>2</td>\n",
       "      <td>2</td>\n",
       "      <td>2</td>\n",
       "      <td>...</td>\n",
       "      <td>77519.0</td>\n",
       "      <td>82607.0</td>\n",
       "      <td>81158.0</td>\n",
       "      <td>7000.0</td>\n",
       "      <td>3500.0</td>\n",
       "      <td>0.0</td>\n",
       "      <td>7000.0</td>\n",
       "      <td>0.0</td>\n",
       "      <td>4000.0</td>\n",
       "      <td>1</td>\n",
       "    </tr>\n",
       "    <tr>\n",
       "      <th>23996</th>\n",
       "      <td>150000</td>\n",
       "      <td>1</td>\n",
       "      <td>3</td>\n",
       "      <td>2</td>\n",
       "      <td>43</td>\n",
       "      <td>-1</td>\n",
       "      <td>-1</td>\n",
       "      <td>-1</td>\n",
       "      <td>-1</td>\n",
       "      <td>0</td>\n",
       "      <td>...</td>\n",
       "      <td>8979.0</td>\n",
       "      <td>5190.0</td>\n",
       "      <td>0.0</td>\n",
       "      <td>1837.0</td>\n",
       "      <td>3526.0</td>\n",
       "      <td>8998.0</td>\n",
       "      <td>129.0</td>\n",
       "      <td>0.0</td>\n",
       "      <td>0.0</td>\n",
       "      <td>0</td>\n",
       "    </tr>\n",
       "    <tr>\n",
       "      <th>23997</th>\n",
       "      <td>30000</td>\n",
       "      <td>1</td>\n",
       "      <td>2</td>\n",
       "      <td>2</td>\n",
       "      <td>37</td>\n",
       "      <td>4</td>\n",
       "      <td>3</td>\n",
       "      <td>2</td>\n",
       "      <td>-1</td>\n",
       "      <td>0</td>\n",
       "      <td>...</td>\n",
       "      <td>20878.0</td>\n",
       "      <td>20582.0</td>\n",
       "      <td>19357.0</td>\n",
       "      <td>0.0</td>\n",
       "      <td>0.0</td>\n",
       "      <td>22000.0</td>\n",
       "      <td>4200.0</td>\n",
       "      <td>2000.0</td>\n",
       "      <td>3100.0</td>\n",
       "      <td>1</td>\n",
       "    </tr>\n",
       "    <tr>\n",
       "      <th>23998</th>\n",
       "      <td>80000</td>\n",
       "      <td>1</td>\n",
       "      <td>3</td>\n",
       "      <td>1</td>\n",
       "      <td>41</td>\n",
       "      <td>1</td>\n",
       "      <td>-1</td>\n",
       "      <td>0</td>\n",
       "      <td>0</td>\n",
       "      <td>0</td>\n",
       "      <td>...</td>\n",
       "      <td>52774.0</td>\n",
       "      <td>11855.0</td>\n",
       "      <td>48944.0</td>\n",
       "      <td>85900.0</td>\n",
       "      <td>3409.0</td>\n",
       "      <td>1178.0</td>\n",
       "      <td>1926.0</td>\n",
       "      <td>52964.0</td>\n",
       "      <td>1804.0</td>\n",
       "      <td>1</td>\n",
       "    </tr>\n",
       "    <tr>\n",
       "      <th>23999</th>\n",
       "      <td>50000</td>\n",
       "      <td>1</td>\n",
       "      <td>2</td>\n",
       "      <td>1</td>\n",
       "      <td>46</td>\n",
       "      <td>0</td>\n",
       "      <td>0</td>\n",
       "      <td>0</td>\n",
       "      <td>0</td>\n",
       "      <td>0</td>\n",
       "      <td>...</td>\n",
       "      <td>36535.0</td>\n",
       "      <td>32428.0</td>\n",
       "      <td>15313.0</td>\n",
       "      <td>2078.0</td>\n",
       "      <td>1800.0</td>\n",
       "      <td>1430.0</td>\n",
       "      <td>1000.0</td>\n",
       "      <td>1000.0</td>\n",
       "      <td>1000.0</td>\n",
       "      <td>1</td>\n",
       "    </tr>\n",
       "  </tbody>\n",
       "</table>\n",
       "<p>24000 rows × 24 columns</p>\n",
       "</div>"
      ],
      "text/plain": [
       "       LIMIT_BAL  SEX  EDUCATION  MARRIAGE  AGE  PAY_1  PAY_2  PAY_3  PAY_4  \\\n",
       "0          20000    2          2         1   24      2      2     -1     -1   \n",
       "1          90000    2          2         2   34      0      0      0      0   \n",
       "2          50000    2          2         1   37      0      0      0      0   \n",
       "3          50000    1          2         1   57     -1      0     -1      0   \n",
       "4          50000    1          1         2   37      0      0      0      0   \n",
       "...          ...  ...        ...       ...  ...    ...    ...    ...    ...   \n",
       "23995      80000    1          2         2   34      2      2      2      2   \n",
       "23996     150000    1          3         2   43     -1     -1     -1     -1   \n",
       "23997      30000    1          2         2   37      4      3      2     -1   \n",
       "23998      80000    1          3         1   41      1     -1      0      0   \n",
       "23999      50000    1          2         1   46      0      0      0      0   \n",
       "\n",
       "       PAY_5  ...  BILL_AMT4  BILL_AMT5  BILL_AMT6  PAY_AMT1  PAY_AMT2  \\\n",
       "0         -2  ...        0.0        0.0        0.0       0.0     689.0   \n",
       "1          0  ...    14331.0    14948.0    15549.0    1518.0    1500.0   \n",
       "2          0  ...    28314.0    28959.0    29547.0    2000.0    2019.0   \n",
       "3          0  ...    20940.0    19146.0    19131.0    2000.0   36681.0   \n",
       "4          0  ...    19394.0    19619.0    20024.0    2500.0    1815.0   \n",
       "...      ...  ...        ...        ...        ...       ...       ...   \n",
       "23995      2  ...    77519.0    82607.0    81158.0    7000.0    3500.0   \n",
       "23996      0  ...     8979.0     5190.0        0.0    1837.0    3526.0   \n",
       "23997      0  ...    20878.0    20582.0    19357.0       0.0       0.0   \n",
       "23998      0  ...    52774.0    11855.0    48944.0   85900.0    3409.0   \n",
       "23999      0  ...    36535.0    32428.0    15313.0    2078.0    1800.0   \n",
       "\n",
       "       PAY_AMT3  PAY_AMT4  PAY_AMT5  PAY_AMT6  default  \n",
       "0           0.0       0.0       0.0       0.0        1  \n",
       "1        1000.0    1000.0    1000.0    5000.0        0  \n",
       "2        1200.0    1100.0    1069.0    1000.0        0  \n",
       "3       10000.0    9000.0     689.0     679.0        0  \n",
       "4         657.0    1000.0    1000.0     800.0        0  \n",
       "...         ...       ...       ...       ...      ...  \n",
       "23995       0.0    7000.0       0.0    4000.0        1  \n",
       "23996    8998.0     129.0       0.0       0.0        0  \n",
       "23997   22000.0    4200.0    2000.0    3100.0        1  \n",
       "23998    1178.0    1926.0   52964.0    1804.0        1  \n",
       "23999    1430.0    1000.0    1000.0    1000.0        1  \n",
       "\n",
       "[24000 rows x 24 columns]"
      ]
     },
     "execution_count": 4,
     "metadata": {},
     "output_type": "execute_result"
    }
   ],
   "source": [
    "data"
   ]
  },
  {
   "cell_type": "code",
   "execution_count": 5,
   "id": "c9486acd",
   "metadata": {
    "ExecuteTime": {
     "end_time": "2021-09-06T06:19:40.275746Z",
     "start_time": "2021-09-06T06:19:40.256742Z"
    }
   },
   "outputs": [],
   "source": [
    "y = data['default'].copy()\n",
    "x = data.drop(['default'], axis=1).copy()"
   ]
  },
  {
   "cell_type": "code",
   "execution_count": 6,
   "id": "f6dfe0f2",
   "metadata": {
    "ExecuteTime": {
     "end_time": "2021-09-06T06:23:16.987475Z",
     "start_time": "2021-09-06T06:19:56.651590Z"
    }
   },
   "outputs": [],
   "source": [
    "combiner = toad.transform.Combiner()\n",
    "combiner.fit(x, y, method='chi', min_samples=0.05)\n",
    "x_bin= combiner.transform(x)\n",
    "Dtree = tree.DecisionTreeRegressor(max_depth=3, \n",
    "                                   min_samples_leaf=2000, min_samples_split=5000)\n",
    "\n",
    "dtree = Dtree.fit(x_bin, y)\n"
   ]
  },
  {
   "cell_type": "code",
   "execution_count": 19,
   "id": "706de047",
   "metadata": {
    "ExecuteTime": {
     "end_time": "2021-09-06T06:35:17.171301Z",
     "start_time": "2021-09-06T06:35:17.143907Z"
    }
   },
   "outputs": [],
   "source": [
    "Dtree = tree.DecisionTreeClassifier(max_depth=3, \n",
    "                                   min_samples_leaf=500, min_samples_split=5000)\n",
    "\n",
    "dtree = Dtree.fit(x_bin, y)"
   ]
  },
  {
   "cell_type": "code",
   "execution_count": 31,
   "id": "fa45ef7b",
   "metadata": {
    "ExecuteTime": {
     "end_time": "2021-09-06T06:36:58.802134Z",
     "start_time": "2021-09-06T06:36:58.762177Z"
    }
   },
   "outputs": [],
   "source": [
    "Dtree = tree.DecisionTreeRegressor(max_depth=4, \n",
    "                                   min_samples_leaf=2000, min_samples_split=5000)\n",
    "\n",
    "dtree = Dtree.fit(x_bin, y)"
   ]
  },
  {
   "cell_type": "code",
   "execution_count": 32,
   "id": "3541c717",
   "metadata": {
    "ExecuteTime": {
     "end_time": "2021-09-06T06:36:59.375953Z",
     "start_time": "2021-09-06T06:36:59.278318Z"
    }
   },
   "outputs": [
    {
     "data": {
      "text/plain": [
       "'ok1.pdf'"
      ]
     },
     "execution_count": 32,
     "metadata": {},
     "output_type": "execute_result"
    }
   ],
   "source": [
    "dot_data= tree.export_graphviz(dtree\n",
    "                     ,feature_names=x.columns\n",
    "                     ,class_names=['bad_ind']\n",
    "                     ,filled=True, rounded=True\n",
    "                     ,special_characters=True)\n",
    "graph = graphviz.Source(dot_data)\n",
    "graph.render(\"ok1\")"
   ]
  },
  {
   "cell_type": "code",
   "execution_count": 33,
   "id": "4f9bf604",
   "metadata": {
    "ExecuteTime": {
     "end_time": "2021-09-06T06:36:59.994563Z",
     "start_time": "2021-09-06T06:36:59.989964Z"
    }
   },
   "outputs": [],
   "source": [
    "pred = dtree.predict(x_bin)"
   ]
  },
  {
   "cell_type": "code",
   "execution_count": 34,
   "id": "390ff4c7",
   "metadata": {
    "ExecuteTime": {
     "end_time": "2021-09-06T06:37:02.759847Z",
     "start_time": "2021-09-06T06:37:02.744322Z"
    }
   },
   "outputs": [
    {
     "data": {
      "text/plain": [
       "array([0.69859155, 0.17279002, 0.16470126, ..., 0.69859155, 0.33849329,\n",
       "       0.16470126])"
      ]
     },
     "execution_count": 34,
     "metadata": {},
     "output_type": "execute_result"
    }
   ],
   "source": [
    "pred"
   ]
  },
  {
   "cell_type": "code",
   "execution_count": 35,
   "id": "5e841bc7",
   "metadata": {
    "ExecuteTime": {
     "end_time": "2021-09-06T06:37:03.690343Z",
     "start_time": "2021-09-06T06:37:03.687343Z"
    }
   },
   "outputs": [],
   "source": [
    "from toad.metrics import KS"
   ]
  },
  {
   "cell_type": "code",
   "execution_count": 36,
   "id": "4680487f",
   "metadata": {
    "ExecuteTime": {
     "end_time": "2021-09-06T06:37:04.354228Z",
     "start_time": "2021-09-06T06:37:04.347168Z"
    }
   },
   "outputs": [
    {
     "data": {
      "text/plain": [
       "0.3756548367944289"
      ]
     },
     "execution_count": 36,
     "metadata": {},
     "output_type": "execute_result"
    }
   ],
   "source": [
    "KS(pred,y)"
   ]
  },
  {
   "cell_type": "code",
   "execution_count": null,
   "id": "1172e802",
   "metadata": {},
   "outputs": [],
   "source": []
  }
 ],
 "metadata": {
  "kernelspec": {
   "display_name": "Python 3",
   "language": "python",
   "name": "python3"
  },
  "language_info": {
   "codemirror_mode": {
    "name": "ipython",
    "version": 3
   },
   "file_extension": ".py",
   "mimetype": "text/x-python",
   "name": "python",
   "nbconvert_exporter": "python",
   "pygments_lexer": "ipython3",
   "version": "3.8.8"
  },
  "varInspector": {
   "cols": {
    "lenName": 16,
    "lenType": 16,
    "lenVar": 40
   },
   "kernels_config": {
    "python": {
     "delete_cmd_postfix": "",
     "delete_cmd_prefix": "del ",
     "library": "var_list.py",
     "varRefreshCmd": "print(var_dic_list())"
    },
    "r": {
     "delete_cmd_postfix": ") ",
     "delete_cmd_prefix": "rm(",
     "library": "var_list.r",
     "varRefreshCmd": "cat(var_dic_list()) "
    }
   },
   "types_to_exclude": [
    "module",
    "function",
    "builtin_function_or_method",
    "instance",
    "_Feature"
   ],
   "window_display": false
  }
 },
 "nbformat": 4,
 "nbformat_minor": 5
}
