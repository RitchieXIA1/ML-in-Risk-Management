{
 "cells": [
  {
   "cell_type": "code",
   "execution_count": 5,
   "id": "61835273",
   "metadata": {
    "ExecuteTime": {
     "end_time": "2021-11-01T09:55:56.357278Z",
     "start_time": "2021-11-01T09:55:56.346845Z"
    }
   },
   "outputs": [],
   "source": [
    "import numpy as np\n",
    "import pandas as pd\n",
    "from sklearn.linear_model import LinearRegression\n",
    "from sklearn.ensemble import RandomForestClassifier\n",
    "from sklearn.model_selection import KFold\n",
    "from lofo import LOFOImportance, FLOFOImportance, Dataset, plot_importance\n"
   ]
  },
  {
   "cell_type": "code",
   "execution_count": 6,
   "id": "a09924f2",
   "metadata": {
    "ExecuteTime": {
     "end_time": "2021-11-01T09:59:56.750274Z",
     "start_time": "2021-11-01T09:59:56.735848Z"
    }
   },
   "outputs": [],
   "source": [
    "from lofo.data.test_data import generate_test_data, generate_unstructured_test_data"
   ]
  },
  {
   "cell_type": "code",
   "execution_count": 12,
   "id": "86c1d065",
   "metadata": {
    "ExecuteTime": {
     "end_time": "2021-11-01T10:03:56.851385Z",
     "start_time": "2021-11-01T10:03:56.840383Z"
    }
   },
   "outputs": [
    {
     "data": {
      "text/html": [
       "<div>\n",
       "<style scoped>\n",
       "    .dataframe tbody tr th:only-of-type {\n",
       "        vertical-align: middle;\n",
       "    }\n",
       "\n",
       "    .dataframe tbody tr th {\n",
       "        vertical-align: top;\n",
       "    }\n",
       "\n",
       "    .dataframe thead th {\n",
       "        text-align: right;\n",
       "    }\n",
       "</style>\n",
       "<table border=\"1\" class=\"dataframe\">\n",
       "  <thead>\n",
       "    <tr style=\"text-align: right;\">\n",
       "      <th></th>\n",
       "      <th>A</th>\n",
       "      <th>B</th>\n",
       "      <th>C</th>\n",
       "      <th>D</th>\n",
       "      <th>D2</th>\n",
       "      <th>target</th>\n",
       "      <th>binary_target</th>\n",
       "    </tr>\n",
       "  </thead>\n",
       "  <tbody>\n",
       "    <tr>\n",
       "      <th>0</th>\n",
       "      <td>0.548814</td>\n",
       "      <td>0.592880</td>\n",
       "      <td>0.811518</td>\n",
       "      <td>0.413962</td>\n",
       "      <td>0.443227</td>\n",
       "      <td>1.486305</td>\n",
       "      <td>1</td>\n",
       "    </tr>\n",
       "    <tr>\n",
       "      <th>1</th>\n",
       "      <td>0.715189</td>\n",
       "      <td>0.010064</td>\n",
       "      <td>0.476084</td>\n",
       "      <td>0.629618</td>\n",
       "      <td>0.686270</td>\n",
       "      <td>0.529949</td>\n",
       "      <td>0</td>\n",
       "    </tr>\n",
       "    <tr>\n",
       "      <th>2</th>\n",
       "      <td>0.602763</td>\n",
       "      <td>0.475826</td>\n",
       "      <td>0.523156</td>\n",
       "      <td>0.778584</td>\n",
       "      <td>0.792326</td>\n",
       "      <td>1.434674</td>\n",
       "      <td>1</td>\n",
       "    </tr>\n",
       "    <tr>\n",
       "      <th>3</th>\n",
       "      <td>0.544883</td>\n",
       "      <td>0.708770</td>\n",
       "      <td>0.250521</td>\n",
       "      <td>0.851558</td>\n",
       "      <td>0.886529</td>\n",
       "      <td>1.952046</td>\n",
       "      <td>1</td>\n",
       "    </tr>\n",
       "    <tr>\n",
       "      <th>4</th>\n",
       "      <td>0.423655</td>\n",
       "      <td>0.043975</td>\n",
       "      <td>0.605043</td>\n",
       "      <td>0.816413</td>\n",
       "      <td>0.821734</td>\n",
       "      <td>0.480267</td>\n",
       "      <td>0</td>\n",
       "    </tr>\n",
       "    <tr>\n",
       "      <th>...</th>\n",
       "      <td>...</td>\n",
       "      <td>...</td>\n",
       "      <td>...</td>\n",
       "      <td>...</td>\n",
       "      <td>...</td>\n",
       "      <td>...</td>\n",
       "      <td>...</td>\n",
       "    </tr>\n",
       "    <tr>\n",
       "      <th>995</th>\n",
       "      <td>0.097676</td>\n",
       "      <td>0.791282</td>\n",
       "      <td>0.941687</td>\n",
       "      <td>0.349639</td>\n",
       "      <td>0.371455</td>\n",
       "      <td>1.637561</td>\n",
       "      <td>1</td>\n",
       "    </tr>\n",
       "    <tr>\n",
       "      <th>996</th>\n",
       "      <td>0.514922</td>\n",
       "      <td>0.721198</td>\n",
       "      <td>0.546133</td>\n",
       "      <td>0.434874</td>\n",
       "      <td>0.458419</td>\n",
       "      <td>1.694228</td>\n",
       "      <td>1</td>\n",
       "    </tr>\n",
       "    <tr>\n",
       "      <th>997</th>\n",
       "      <td>0.938412</td>\n",
       "      <td>0.480108</td>\n",
       "      <td>0.323614</td>\n",
       "      <td>0.830003</td>\n",
       "      <td>0.849742</td>\n",
       "      <td>1.878405</td>\n",
       "      <td>1</td>\n",
       "    </tr>\n",
       "    <tr>\n",
       "      <th>998</th>\n",
       "      <td>0.228647</td>\n",
       "      <td>0.643864</td>\n",
       "      <td>0.813545</td>\n",
       "      <td>0.932806</td>\n",
       "      <td>0.972675</td>\n",
       "      <td>1.597750</td>\n",
       "      <td>1</td>\n",
       "    </tr>\n",
       "    <tr>\n",
       "      <th>999</th>\n",
       "      <td>0.677141</td>\n",
       "      <td>0.501773</td>\n",
       "      <td>0.697400</td>\n",
       "      <td>0.308338</td>\n",
       "      <td>0.404198</td>\n",
       "      <td>1.280245</td>\n",
       "      <td>0</td>\n",
       "    </tr>\n",
       "  </tbody>\n",
       "</table>\n",
       "<p>1000 rows × 7 columns</p>\n",
       "</div>"
      ],
      "text/plain": [
       "            A         B         C         D        D2    target  binary_target\n",
       "0    0.548814  0.592880  0.811518  0.413962  0.443227  1.486305              1\n",
       "1    0.715189  0.010064  0.476084  0.629618  0.686270  0.529949              0\n",
       "2    0.602763  0.475826  0.523156  0.778584  0.792326  1.434674              1\n",
       "3    0.544883  0.708770  0.250521  0.851558  0.886529  1.952046              1\n",
       "4    0.423655  0.043975  0.605043  0.816413  0.821734  0.480267              0\n",
       "..        ...       ...       ...       ...       ...       ...            ...\n",
       "995  0.097676  0.791282  0.941687  0.349639  0.371455  1.637561              1\n",
       "996  0.514922  0.721198  0.546133  0.434874  0.458419  1.694228              1\n",
       "997  0.938412  0.480108  0.323614  0.830003  0.849742  1.878405              1\n",
       "998  0.228647  0.643864  0.813545  0.932806  0.972675  1.597750              1\n",
       "999  0.677141  0.501773  0.697400  0.308338  0.404198  1.280245              0\n",
       "\n",
       "[1000 rows x 7 columns]"
      ]
     },
     "execution_count": 12,
     "metadata": {},
     "output_type": "execute_result"
    }
   ],
   "source": [
    "df"
   ]
  },
  {
   "cell_type": "code",
   "execution_count": 7,
   "id": "8a23fe53",
   "metadata": {
    "ExecuteTime": {
     "end_time": "2021-11-01T10:00:08.734847Z",
     "start_time": "2021-11-01T10:00:07.986269Z"
    }
   },
   "outputs": [
    {
     "data": {
      "application/vnd.jupyter.widget-view+json": {
       "model_id": "1a63da21ab9d43228b0a5b32b99231e5",
       "version_major": 2,
       "version_minor": 0
      },
      "text/plain": [
       "  0%|          | 0/4 [00:00<?, ?it/s]"
      ]
     },
     "metadata": {},
     "output_type": "display_data"
    },
    {
     "data": {
      "text/html": [
       "<div>\n",
       "<style scoped>\n",
       "    .dataframe tbody tr th:only-of-type {\n",
       "        vertical-align: middle;\n",
       "    }\n",
       "\n",
       "    .dataframe tbody tr th {\n",
       "        vertical-align: top;\n",
       "    }\n",
       "\n",
       "    .dataframe thead th {\n",
       "        text-align: right;\n",
       "    }\n",
       "</style>\n",
       "<table border=\"1\" class=\"dataframe\">\n",
       "  <thead>\n",
       "    <tr style=\"text-align: right;\">\n",
       "      <th></th>\n",
       "      <th>feature</th>\n",
       "      <th>importance_mean</th>\n",
       "      <th>importance_std</th>\n",
       "      <th>val_imp_0</th>\n",
       "      <th>val_imp_1</th>\n",
       "      <th>val_imp_2</th>\n",
       "      <th>val_imp_3</th>\n",
       "      <th>val_imp_4</th>\n",
       "      <th>val_imp_5</th>\n",
       "      <th>val_imp_6</th>\n",
       "      <th>val_imp_7</th>\n",
       "      <th>val_imp_8</th>\n",
       "      <th>val_imp_9</th>\n",
       "    </tr>\n",
       "  </thead>\n",
       "  <tbody>\n",
       "    <tr>\n",
       "      <th>1</th>\n",
       "      <td>B</td>\n",
       "      <td>0.540217</td>\n",
       "      <td>0.016008</td>\n",
       "      <td>0.532118</td>\n",
       "      <td>0.544225</td>\n",
       "      <td>0.513259</td>\n",
       "      <td>0.524307</td>\n",
       "      <td>0.525612</td>\n",
       "      <td>0.542536</td>\n",
       "      <td>0.550588</td>\n",
       "      <td>5.682745e-01</td>\n",
       "      <td>0.559869</td>\n",
       "      <td>0.541383</td>\n",
       "    </tr>\n",
       "    <tr>\n",
       "      <th>3</th>\n",
       "      <td>D</td>\n",
       "      <td>0.089187</td>\n",
       "      <td>0.002629</td>\n",
       "      <td>0.088832</td>\n",
       "      <td>0.086291</td>\n",
       "      <td>0.087612</td>\n",
       "      <td>0.085380</td>\n",
       "      <td>0.086004</td>\n",
       "      <td>0.090378</td>\n",
       "      <td>0.091582</td>\n",
       "      <td>9.345964e-02</td>\n",
       "      <td>0.090800</td>\n",
       "      <td>0.091527</td>\n",
       "    </tr>\n",
       "    <tr>\n",
       "      <th>0</th>\n",
       "      <td>A</td>\n",
       "      <td>0.088167</td>\n",
       "      <td>0.002935</td>\n",
       "      <td>0.090739</td>\n",
       "      <td>0.086158</td>\n",
       "      <td>0.085259</td>\n",
       "      <td>0.093299</td>\n",
       "      <td>0.088281</td>\n",
       "      <td>0.088402</td>\n",
       "      <td>0.083172</td>\n",
       "      <td>9.189529e-02</td>\n",
       "      <td>0.087086</td>\n",
       "      <td>0.087376</td>\n",
       "    </tr>\n",
       "    <tr>\n",
       "      <th>2</th>\n",
       "      <td>C</td>\n",
       "      <td>0.000002</td>\n",
       "      <td>0.000033</td>\n",
       "      <td>0.000088</td>\n",
       "      <td>-0.000020</td>\n",
       "      <td>-0.000012</td>\n",
       "      <td>-0.000027</td>\n",
       "      <td>-0.000016</td>\n",
       "      <td>0.000004</td>\n",
       "      <td>0.000031</td>\n",
       "      <td>-8.312825e-07</td>\n",
       "      <td>-0.000002</td>\n",
       "      <td>-0.000021</td>\n",
       "    </tr>\n",
       "  </tbody>\n",
       "</table>\n",
       "</div>"
      ],
      "text/plain": [
       "  feature  importance_mean  importance_std  val_imp_0  val_imp_1  val_imp_2  \\\n",
       "1       B         0.540217        0.016008   0.532118   0.544225   0.513259   \n",
       "3       D         0.089187        0.002629   0.088832   0.086291   0.087612   \n",
       "0       A         0.088167        0.002935   0.090739   0.086158   0.085259   \n",
       "2       C         0.000002        0.000033   0.000088  -0.000020  -0.000012   \n",
       "\n",
       "   val_imp_3  val_imp_4  val_imp_5  val_imp_6     val_imp_7  val_imp_8  \\\n",
       "1   0.524307   0.525612   0.542536   0.550588  5.682745e-01   0.559869   \n",
       "3   0.085380   0.086004   0.090378   0.091582  9.345964e-02   0.090800   \n",
       "0   0.093299   0.088281   0.088402   0.083172  9.189529e-02   0.087086   \n",
       "2  -0.000027  -0.000016   0.000004   0.000031 -8.312825e-07  -0.000002   \n",
       "\n",
       "   val_imp_9  \n",
       "1   0.541383  \n",
       "3   0.091527  \n",
       "0   0.087376  \n",
       "2  -0.000021  "
      ]
     },
     "execution_count": 7,
     "metadata": {},
     "output_type": "execute_result"
    }
   ],
   "source": [
    "df = generate_test_data(1000)\n",
    "df.head()\n",
    "\n",
    "lr = LinearRegression()\n",
    "lr.fit(df[[\"A\", \"B\", \"C\", \"D\"]], df[\"target\"])\n",
    "\n",
    "fi = FLOFOImportance(lr, df, [\"A\", \"B\", \"C\", \"D\"], 'target', scoring=\"neg_mean_absolute_error\")\n",
    "\n",
    "importances = fi.get_importance()\n",
    "importances"
   ]
  },
  {
   "cell_type": "code",
   "execution_count": 11,
   "id": "c8e17404",
   "metadata": {
    "ExecuteTime": {
     "end_time": "2021-11-01T10:02:04.370713Z",
     "start_time": "2021-11-01T10:02:04.255097Z"
    }
   },
   "outputs": [
    {
     "data": {
      "image/png": "[encoded data removed]",
      "text/plain": [
       "<Figure size 576x360 with 1 Axes>"
      ]
     },
     "metadata": {
      "needs_background": "light"
     },
     "output_type": "display_data"
    }
   ],
   "source": [
    "plot_importance(importances, figsize=(8, 5))"
   ]
  },
  {
   "cell_type": "code",
   "execution_count": null,
   "id": "8cd208c9",
   "metadata": {},
   "outputs": [],
   "source": []
  }
 ],
 "metadata": {
  "kernelspec": {
   "display_name": "Python 3",
   "language": "python",
   "name": "python3"
  },
  "language_info": {
   "codemirror_mode": {
    "name": "ipython",
    "version": 3
   },
   "file_extension": ".py",
   "mimetype": "text/x-python",
   "name": "python",
   "nbconvert_exporter": "python",
   "pygments_lexer": "ipython3",
   "version": "3.8.8"
  },
  "varInspector": {
   "cols": {
    "lenName": 16,
    "lenType": 16,
    "lenVar": 40
   },
   "kernels_config": {
    "python": {
     "delete_cmd_postfix": "",
     "delete_cmd_prefix": "del ",
     "library": "var_list.py",
     "varRefreshCmd": "print(var_dic_list())"
    },
    "r": {
     "delete_cmd_postfix": ") ",
     "delete_cmd_prefix": "rm(",
     "library": "var_list.r",
     "varRefreshCmd": "cat(var_dic_list()) "
    }
   },
   "types_to_exclude": [
    "module",
    "function",
    "builtin_function_or_method",
    "instance",
    "_Feature"
   ],
   "window_display": false
  }
 },
 "nbformat": 4,
 "nbformat_minor": 5
}
