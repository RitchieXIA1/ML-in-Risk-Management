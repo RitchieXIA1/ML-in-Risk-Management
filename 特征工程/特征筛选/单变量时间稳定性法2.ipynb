{
 "cells": [
  {
   "cell_type": "code",
   "execution_count": null,
   "id": "17cf4daa",
   "metadata": {},
   "outputs": [],
   "source": [
    "params = {'num_leaves': 491,\n",
    "          'colsample_bytree': 0.75,\n",
    "          'subsample': 0.75,\n",
    "          'min_data_in_leaf': 106,\n",
    "          'objective': 'binary',\n",
    "          'max_depth': -1,\n",
    "          'learning_rate': 0.01,\n",
    "          \"boosting_type\": \"gbdt\",\n",
    "          \"bagging_seed\": 11,\n",
    "          \"metric\": 'auc',\n",
    "          \"verbosity\": -1,\n",
    "          'reg_alpha': 0.45,\n",
    "          'reg_lambda': 0.65,\n",
    "          'random_state': 47,\n",
    "          'n_jobs':-1,\n",
    "          'n_estimators':10000,\n",
    "         }"
   ]
  },
  {
   "cell_type": "code",
   "execution_count": null,
   "id": "3cebce72",
   "metadata": {},
   "outputs": [],
   "source": [
    "#用于五折交叉验证时看特征重要性\n",
    "def get_imp(clfs,imp_type='gain',feature_names=None):\n",
    "    feature_importances=pd.DataFrame()\n",
    "    feature_importances['feature']=feature_names\n",
    "    for i,clf in enumerate(clfs):\n",
    "        if hasattr(clf,'predict_proba'):\n",
    "            feature_importances[str(i)]=clf._Booster.feature_importance(imp_type)\n",
    "        else:\n",
    "            feature_importances[str(i)]=clf.feature_importance(imp_type)\n",
    "    feature_importances['average']=np.exp(np.log1p(feature_importances[[str(i) for i in range(len(clfs))]]).mean(axis=1))\n",
    "    return feature_importances"
   ]
  },
  {
   "cell_type": "code",
   "execution_count": null,
   "id": "e956093a",
   "metadata": {},
   "outputs": [],
   "source": [
    "def lgb_model(params=None,cv=KFold(5),X=None,y=None,early_stopping_rounds=200,cols=None,categorical_feature=None,group_feature=None):\n",
    "\n",
    "    #folds = StratifiedKFold(n_splits=NFOLDS)\n",
    "    folds =cv\n",
    "    if cols==None:\n",
    "        columns = list(X.columns)\n",
    "    else:\n",
    "        columns=cols\n",
    "    if group_feature:\n",
    "        columns.remove(group_feature)\n",
    "        splits = folds.split(X[columns], y,groups=X[group_feature])\n",
    "    else:\n",
    "        splits = folds.split(X[columns], y)\n",
    "    y_oof = np.zeros(X.shape[0])\n",
    "    score = 0\n",
    "\n",
    "\n",
    "    clfs=[]\n",
    "    for fold_n, (train_index, valid_index) in enumerate(splits):\n",
    "        X_train, X_valid = X[columns].iloc[train_index], X[columns].iloc[valid_index]\n",
    "        y_train, y_valid = y.iloc[train_index], y.iloc[valid_index]\n",
    "\n",
    "\n",
    "        clf = lgb.LGBMClassifier(**params)\n",
    "        if categorical_feature:\n",
    "            clf.fit(X_train,y_train,eval_set=[(X_train,y_train),(X_valid,y_valid)], \\\n",
    "                     eval_metric='auc', verbose=100, early_stopping_rounds=early_stopping_rounds,categorical_feature=categorical_feature)\n",
    "        else:\n",
    "            clf.fit(X_train,y_train,eval_set=[(X_train,y_train),(X_valid,y_valid)], \\\n",
    "                     eval_metric='auc', verbose=100, early_stopping_rounds=early_stopping_rounds)\n",
    "\n",
    "        y_pred_valid = clf.predict_proba(X_valid)[:,1]\n",
    "        y_oof[valid_index] = y_pred_valid\n",
    "        print(f\"Fold {fold_n + 1} | AUC: {roc_auc_score(y_valid, y_pred_valid)}\")\n",
    "\n",
    "        score += roc_auc_score(y_valid, y_pred_valid) / 5\n",
    "\n",
    "        del X_train, X_valid, y_train, y_valid\n",
    "        gc.collect()\n",
    "        clfs.append(clf)\n",
    "\n",
    "    print(f\"\\nMean AUC = {score}\")\n",
    "    print(f\"Out of folds AUC = {roc_auc_score(y, y_oof)}\")\n",
    "    return clfs"
   ]
  },
  {
   "cell_type": "code",
   "execution_count": null,
   "id": "9068a6c5",
   "metadata": {},
   "outputs": [],
   "source": [
    "clfs=lgb_model(params=params,cv=KFold(5),X=X,y=y,early_stopping_rounds=200,cols=cols,categorical_feature=cat,group_feature=None)"
   ]
  },
  {
   "cell_type": "code",
   "execution_count": null,
   "id": "157428bf",
   "metadata": {},
   "outputs": [],
   "source": [
    "#需要特别警惕有特别强的变量，变量重要性以平衡为好，如果有一个特别强，并且发现泛化误差很大那说明这个强特征很有可能有偏移问题。\n",
    "feature_imporatnces=get_imp(clfs,imp_type='gain',feature_names=cols)\n",
    "plt.figure(figsize=(16, 16))\n",
    "sns.barplot(data=feature_imporatnces.sort_values(by='average', ascending=False).head(50), x='average', y='feature');\n",
    "plt.title('50 TOP feature importance over {} folds average gain'.format(5));"
   ]
  },
  {
   "cell_type": "code",
   "execution_count": null,
   "id": "28ebc1d9",
   "metadata": {},
   "outputs": [],
   "source": [
    "#这时候可以先调整超参数，如果发现没有提高，则需要对特征进行处理。\n",
    "params['max_depth']=5\n",
    "params['subsample']=0.42\n",
    "params['colsample_bytree']=0.38\n",
    "params['reg_lambda'] = 3"
   ]
  },
  {
   "cell_type": "code",
   "execution_count": null,
   "id": "e1883329",
   "metadata": {},
   "outputs": [],
   "source": [
    "clfs=lgb_model(params=params,cv=KFold(5),X=X,X_test=X_test,early_stopping_rounds=200,categorical_feature=cat)"
   ]
  },
  {
   "cell_type": "code",
   "execution_count": null,
   "id": "6adc94bf",
   "metadata": {},
   "outputs": [],
   "source": [
    "lgb_params = {\n",
    "        'boosting': 'gbdt',\n",
    "        'application': 'binary',\n",
    "        'metric': 'auc', \n",
    "        'learning_rate': 0.1,\n",
    "        'num_leaves': 32,\n",
    "        'max_depth': 8,\n",
    "        'subsample': 0.7,\n",
    "        'colsample_bytree': 0.7,\n",
    "        'n_estimators':1000\n",
    "}\n",
    "X['is_train']=1\n",
    "X_test['is_train']=0\n",
    "\n",
    "# Get folds for k-fold CV\n",
    "df=pd.concat([X,X_test])\n",
    "df[cat]=df[cat].astype('category')\n",
    "df.index=list(range(df.shape[0]))\n",
    "y=df.pop('is_train')\n"
   ]
  },
  {
   "cell_type": "code",
   "execution_count": null,
   "id": "ab9181ff",
   "metadata": {},
   "outputs": [],
   "source": [
    "X.drop('is_train',axis=1,inplace=True)\n",
    "X_test.drop('is_train',axis=1,inplace=True)"
   ]
  },
  {
   "cell_type": "code",
   "execution_count": null,
   "id": "e6895dee",
   "metadata": {},
   "outputs": [],
   "source": [
    "Clfs=lgb_model(params=lgb_params ,cv=StratifiedKFold(n_splits = 5, random_state = 123),X=df,y=y,early_stopping_rounds=100, \\\n",
    "               cols=cols,categorical_feature=cat,group_feature=None)"
   ]
  },
  {
   "cell_type": "code",
   "execution_count": null,
   "id": "00fe3541",
   "metadata": {},
   "outputs": [],
   "source": [
    "#看看哪些维度导致了训练和测试的分布差异\n",
    "feature_importances=get_imp(Clfs,'gain',list(df.columns))\n",
    "plt.figure(figsize=(16,16))\n",
    "sns.barplot(data=feature_importances.sort_values(by='average', ascending=False).head(50), x='average', y='feature');\n",
    "plt.title('50 TOP feature importance over {} folds average'.format(5));"
   ]
  },
  {
   "cell_type": "code",
   "execution_count": null,
   "id": "1bac732f",
   "metadata": {},
   "outputs": [],
   "source": [
    "#删除太强的transactiondt然后看看其它特征的情况\n",
    "cols=list(df.columns)\n",
    "cols.remove('TransactionDT')\n",
    "Clfs=lgb_model(params=lgb_params,cv=StratifiedKFold(n_splits = 5, random_state = 123),X=df,y=y,early_stopping_rounds=100, \\\n",
    "               cols=cols,categorical_feature=cat,group_feature=None)"
   ]
  },
  {
   "cell_type": "code",
   "execution_count": null,
   "id": "f395c2d2",
   "metadata": {},
   "outputs": [],
   "source": [
    "feature_importances=get_imp(Clfs,'gain',cols)\n",
    "plt.figure(figsize=(16, 16))\n",
    "sns.barplot(data=feature_importances.sort_values(by='average', ascending=False).head(50), x='average', y='feature');\n",
    "plt.title('50 TOP feature importance over {} folds average'.format(5));\n"
   ]
  },
  {
   "cell_type": "code",
   "execution_count": null,
   "id": "26d30d74",
   "metadata": {},
   "outputs": [],
   "source": [
    "X['nouse']=0 #lgb无法在单特征上训练(会报错)所以使用一个nouse特征避免错误，因为是常数特征值全都一样所以\n",
    "#不用担心影响模型训练过程，模型完全不会在nouse特征上训练的\n",
    "flag=0\n",
    "cols = ['card1','card2']#放入需要验证的特征\n",
    "for col in cols:#cols:\n",
    "    folds=KFold(5)\n",
    "\n",
    "    splits = folds.split(X[col], y)\n",
    "\n",
    "\n",
    "    for fold_n, (train_index, valid_index) in enumerate(splits):\n",
    "        X_train, X_valid = X[[col,'nouse']].iloc[train_index], X[[col,'nouse']].iloc[valid_index]\n",
    "        y_train, y_valid = y.iloc[train_index], y.iloc[valid_index]\n",
    "\n",
    "\n",
    "        clf = lgb.LGBMClassifier(n_estimators=500, objective='binary', \n",
    "                num_leaves=491, learning_rate=0.02,n_jobs=-1,max_depth=-1)\n",
    "        h = clf.fit(X_train, y_train, eval_metric='auc', \n",
    "                eval_set=[(X_train,y_train),(X_valid,y_valid)],verbose=-1)\n",
    "\n",
    "        auc_train = np.round(h._best_score['training']['auc'],4)\n",
    "        auc_val = np.round(h._best_score['valid_1']['auc'],4)\n",
    "        result.append([flag,auc_train,auc_val,auc_train-auc_val])\n",
    "\n",
    "        del X_train, X_valid, y_train, y_valid,clf\n",
    "        gc.collect()\n",
    "    flag+=1\n",
    "X.pop('nouse')\n",
    "result=pd.DataFrame(result,columns=['flag','train_auc','valid_auc','auc_delta'])\n",
    "results=pd.DataFrame()\n",
    "results = result.groupby('flag')['train_auc','valid_auc','auc_delta'].apply(np.mean)\n",
    "results['feature']=cols\n",
    "results.to_csv('.\\output\\kfold_kris_feature_distribution_test.csv',index=False)"
   ]
  },
  {
   "cell_type": "code",
   "execution_count": null,
   "id": "d002dc62",
   "metadata": {},
   "outputs": [],
   "source": [
    "#与之前的特征重要性表进行对比\n",
    "plt.figure(figsize=(16, 16))\n",
    "sns.barplot(data=results.sort_values(by='train_auc', ascending=False).head(50), x='train_auc', y='feature');\n",
    "plt.title('50 TOP feature importance over {} folds average train_auc'.format(5));"
   ]
  },
  {
   "cell_type": "code",
   "execution_count": null,
   "id": "882a313e",
   "metadata": {},
   "outputs": [],
   "source": [
    "#与之前的特征重要性表和trainAUC表进行对比\n",
    "plt.figure(figsize=(16, 16))\n",
    "sns.barplot(data=results.sort_values(by='valid_auc', ascending=False).head(50), x='valid_auc', y='feature');\n",
    "plt.title('50 TOP feature importance over {} folds average valid_auc'.format(5));"
   ]
  },
  {
   "cell_type": "code",
   "execution_count": null,
   "id": "b2676f26",
   "metadata": {},
   "outputs": [],
   "source": [
    "#AUC差表\n",
    "plt.figure(figsize=(16, 16))\n",
    "sns.barplot(data=results.sort_values(by='auc_delta', ascending=False).head(50), x='auc_delta', y='feature');\n",
    "plt.title('50 TOP feature importance over {} folds average delta_auc'.format(5));"
   ]
  },
  {
   "cell_type": "code",
   "execution_count": null,
   "id": "aa339d0f",
   "metadata": {},
   "outputs": [],
   "source": [
    "#验证集上表现小于0.5视作毒特征直接删除\n",
    "to_drops=results.loc[results.valid_auc<=0.5,'feature'].values.tolist()"
   ]
  },
  {
   "cell_type": "code",
   "execution_count": null,
   "id": "b7599466",
   "metadata": {},
   "outputs": [],
   "source": []
  }
 ],
 "metadata": {
  "kernelspec": {
   "display_name": "Python 3 (ipykernel)",
   "language": "python",
   "name": "python3"
  },
  "language_info": {
   "codemirror_mode": {
    "name": "ipython",
    "version": 3
   },
   "file_extension": ".py",
   "mimetype": "text/x-python",
   "name": "python",
   "nbconvert_exporter": "python",
   "pygments_lexer": "ipython3",
   "version": "3.8.5"
  },
  "toc": {
   "base_numbering": 1,
   "nav_menu": {},
   "number_sections": true,
   "sideBar": true,
   "skip_h1_title": false,
   "title_cell": "Table of Contents",
   "title_sidebar": "Contents",
   "toc_cell": false,
   "toc_position": {},
   "toc_section_display": true,
   "toc_window_display": false
  },
  "varInspector": {
   "cols": {
    "lenName": 16,
    "lenType": 16,
    "lenVar": 40
   },
   "kernels_config": {
    "python": {
     "delete_cmd_postfix": "",
     "delete_cmd_prefix": "del ",
     "library": "var_list.py",
     "varRefreshCmd": "print(var_dic_list())"
    },
    "r": {
     "delete_cmd_postfix": ") ",
     "delete_cmd_prefix": "rm(",
     "library": "var_list.r",
     "varRefreshCmd": "cat(var_dic_list()) "
    }
   },
   "types_to_exclude": [
    "module",
    "function",
    "builtin_function_or_method",
    "instance",
    "_Feature"
   ],
   "window_display": false
  }
 },
 "nbformat": 4,
 "nbformat_minor": 5
}
