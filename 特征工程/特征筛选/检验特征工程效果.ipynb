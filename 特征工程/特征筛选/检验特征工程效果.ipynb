{
 "cells": [
  {
   "cell_type": "code",
   "execution_count": null,
   "id": "21b59ad5",
   "metadata": {},
   "outputs": [],
   "source": [
    "lgb_params = {\n",
    "                    'objective':'binary',\n",
    "                    'boosting_type':'gbdt',\n",
    "                    'metric':'auc',\n",
    "                    'n_jobs':-1,\n",
    "                    'learning_rate':0.01,\n",
    "                    'num_leaves': 2**8,\n",
    "                    'max_depth':-1,\n",
    "                    'tree_learner':'serial',\n",
    "                    'colsample_bytree': 0.7,\n",
    "                    'subsample_freq':1,\n",
    "                    'subsample':0.7,\n",
    "                    'n_estimators':80000,\n",
    "                    'max_bin':255,\n",
    "                    'verbose':-1,\n",
    "                    'seed':42,\n",
    "                    'early_stopping_rounds':100, \n",
    "                } "
   ]
  },
  {
   "cell_type": "code",
   "execution_count": null,
   "id": "5a8e767d",
   "metadata": {},
   "outputs": [],
   "source": [
    "fq_encode = []\n",
    "base_columns = list(full_df)"
   ]
  },
  {
   "cell_type": "code",
   "execution_count": 1,
   "id": "898909c9",
   "metadata": {
    "ExecuteTime": {
     "end_time": "2022-01-18T09:12:33.815318Z",
     "start_time": "2022-01-18T09:12:33.795094Z"
    }
   },
   "outputs": [],
   "source": [
    "#总之思想就是每次训练完记录一下现在的特征状态，然后记录一下AUC和上一次的比较\n",
    "def make_test(old_score=0, output=False):\n",
    "    features_columns = [col for col in list(full_df) if col not in remove_features]\n",
    "    train_mask = full_df['TransactionID'].isin(local_train_id['TransactionID'])#这个地方放入train 和test的 id\n",
    "    test_mask = full_df['TransactionID'].isin(local_test_id['TransactionID'])\n",
    "    \n",
    "    X,y = full_df[train_mask][features_columns], full_df[train_mask][TARGET]    \n",
    "    P,P_y = full_df[test_mask][features_columns], full_df[test_mask][TARGET]  \n",
    "\n",
    "    for col in list(X):\n",
    "        if X[col].dtype=='O':\n",
    "            X[col] = X[col].fillna('unseen_before_label')\n",
    "            P[col] = P[col].fillna('unseen_before_label')\n",
    "\n",
    "            X[col] = X[col].astype(str)\n",
    "            P[col] = P[col].astype(str)\n",
    "\n",
    "            le = LabelEncoder()\n",
    "            le.fit(list(X[col])+list(P[col]))\n",
    "            X[col] = le.transform(X[col])\n",
    "            P[col]  = le.transform(P[col])\n",
    "\n",
    "            X[col] = X[col].astype('category')\n",
    "            P[col] = P[col].astype('category')\n",
    "        \n",
    "    tt_df = full_df[test_mask][['TransactionID','DT_W',TARGET]]        \n",
    "    tt_df['prediction'] = 0\n",
    "    \n",
    "    tr_data = lgb.Dataset(X, label=y)\n",
    "    vl_data = lgb.Dataset(P, label=P_y) \n",
    "    estimator = lgb.train(\n",
    "            lgb_params,\n",
    "            tr_data,\n",
    "            valid_sets = [tr_data, vl_data],\n",
    "            verbose_eval = 200,\n",
    "        )   \n",
    "        \n",
    "    tt_df['prediction'] = estimator.predict(P)\n",
    "    feature_imp = pd.DataFrame(sorted(zip(estimator.feature_importance(),X.columns)), columns=['Value','Feature'])\n",
    "    \n",
    "    if output:\n",
    "        tt_df[['TransactionID','prediction']].to_csv('oof.csv',index=False)\n",
    "        print('---Wrote OOF to file---')\n",
    "    \n",
    "    m_results = []\n",
    "    print('#'*20)\n",
    "    g_auc = metrics.roc_auc_score(tt_df[TARGET], tt_df['prediction'])\n",
    "    score_diff = g_auc - old_score\n",
    "    print('Global AUC', g_auc)\n",
    "    m_results.append(g_auc)\n",
    "    \n",
    "    for i in range(full_df[test_mask]['DT_W'].min(), full_df[test_mask]['DT_W'].max()+1):\n",
    "        mask = tt_df['DT_W']==i\n",
    "        w_auc = metrics.roc_auc_score(tt_df[mask][TARGET], tt_df[mask]['prediction'])\n",
    "        print('Week', i, w_auc, len(tt_df[mask]))\n",
    "        m_results.append(w_auc)\n",
    "        \n",
    "    print('#'*20)\n",
    "    print('Features Preformance:', g_auc)\n",
    "    print('Diff with previous__:', score_diff)\n",
    "    \n",
    "    return tt_df, feature_imp, m_results, estimator"
   ]
  },
  {
   "cell_type": "code",
   "execution_count": null,
   "id": "18002cd5",
   "metadata": {},
   "outputs": [],
   "source": [
    "def get_new_columns(temp_list):\n",
    "    temp_list = [col for col in list(full_df) if col not in temp_list]\n",
    "    temp_list.sort()\n",
    "\n",
    "    temp_list2 = [col if col not in remove_features else '-' for col in temp_list ]\n",
    "    temp_list2.sort()\n",
    "\n",
    "    temp_list = {'New columns (including dummy)': temp_list,\n",
    "                 'New Features': temp_list2}\n",
    "    temp_list = pd.DataFrame.from_dict(temp_list)\n",
    "    return temp_list"
   ]
  },
  {
   "cell_type": "code",
   "execution_count": null,
   "id": "c6e672da",
   "metadata": {},
   "outputs": [],
   "source": [
    "#baseline\n",
    "tt_df, feature_imp, m_results, model = make_test()"
   ]
  },
  {
   "cell_type": "code",
   "execution_count": null,
   "id": "e31693a3",
   "metadata": {},
   "outputs": [],
   "source": [
    "saved_state = list(full_df)\n",
    "#每次先保存状态，再进行下一轮特征工程"
   ]
  },
  {
   "cell_type": "code",
   "execution_count": null,
   "id": "d0f2fbcb",
   "metadata": {},
   "outputs": [],
   "source": [
    "print(get_new_columns(saved_state))\n",
    "tt_df, feature_imp, m_results, model = make_test(m_results[0])"
   ]
  },
  {
   "cell_type": "code",
   "execution_count": null,
   "id": "f8d1c3dd",
   "metadata": {},
   "outputs": [],
   "source": []
  }
 ],
 "metadata": {
  "kernelspec": {
   "display_name": "Python 3",
   "language": "python",
   "name": "python3"
  },
  "language_info": {
   "codemirror_mode": {
    "name": "ipython",
    "version": 3
   },
   "file_extension": ".py",
   "mimetype": "text/x-python",
   "name": "python",
   "nbconvert_exporter": "python",
   "pygments_lexer": "ipython3",
   "version": "3.8.8"
  },
  "varInspector": {
   "cols": {
    "lenName": 16,
    "lenType": 16,
    "lenVar": 40
   },
   "kernels_config": {
    "python": {
     "delete_cmd_postfix": "",
     "delete_cmd_prefix": "del ",
     "library": "var_list.py",
     "varRefreshCmd": "print(var_dic_list())"
    },
    "r": {
     "delete_cmd_postfix": ") ",
     "delete_cmd_prefix": "rm(",
     "library": "var_list.r",
     "varRefreshCmd": "cat(var_dic_list()) "
    }
   },
   "types_to_exclude": [
    "module",
    "function",
    "builtin_function_or_method",
    "instance",
    "_Feature"
   ],
   "window_display": false
  }
 },
 "nbformat": 4,
 "nbformat_minor": 5
}
