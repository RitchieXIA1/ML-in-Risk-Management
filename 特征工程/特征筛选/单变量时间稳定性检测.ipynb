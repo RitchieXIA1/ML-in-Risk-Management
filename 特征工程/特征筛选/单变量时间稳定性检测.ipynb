{
 "cells": [
  {
   "cell_type": "code",
   "execution_count": null,
   "id": "19d9b2cb",
   "metadata": {},
   "outputs": [],
   "source": [
    "#time consistency test计算每一个单变量模型在第一个月和最后一个月是否AUC能>0.51，如果不行则剔除。"
   ]
  },
  {
   "cell_type": "code",
   "execution_count": null,
   "id": "088182d4",
   "metadata": {},
   "outputs": [],
   "source": [
    "x_train = df[df['draw_month'] == '2020-05'][var]\n",
    "y_train = df[df['draw_month'] == '2020-05'][label]\n",
    "x_test = df[df['draw_month'] == '2020-09'][var]\n",
    "y_test = df[df['draw_month'] == '2020-09'][label]"
   ]
  },
  {
   "cell_type": "code",
   "execution_count": null,
   "id": "a83c4053",
   "metadata": {},
   "outputs": [],
   "source": [
    "tc_cols=['a','b'...]"
   ]
  },
  {
   "cell_type": "code",
   "execution_count": null,
   "id": "a2004dea",
   "metadata": {},
   "outputs": [],
   "source": [
    "pass_list = []\n",
    "for i in tc_cols:\n",
    "    print(i)\n",
    "    model = xgb.XGBClassifier(n_estimators = 1000,max_depth=4,verbosity=1,subsample = 0.7,learning_rate=0.05,gamma = 2,random_state=2021)\n",
    "    model.fit(np.expand_dims(x_train[i], axis=1),y_train,eval_metric=['auc'],\n",
    "              verbose=200,eval_set = [(np.expand_dims(x_train[i], axis=1),y_train),(np.expand_dims(x_test[i], axis=1),y_test)],early_stopping_rounds=200)\n",
    "    pred = model.predict_proba(np.expand_dims(x_test[i], axis=1))\n",
    "    print('AUC: {:.6f} '.format(AUC(pred[:,1],y_test)))\n",
    "    if AUC(pred[:,1],y_test)>0.51:\n",
    "        pass_list.append(i)"
   ]
  }
 ],
 "metadata": {
  "kernelspec": {
   "display_name": "Python 3 (ipykernel)",
   "language": "python",
   "name": "python3"
  },
  "language_info": {
   "codemirror_mode": {
    "name": "ipython",
    "version": 3
   },
   "file_extension": ".py",
   "mimetype": "text/x-python",
   "name": "python",
   "nbconvert_exporter": "python",
   "pygments_lexer": "ipython3",
   "version": "3.8.5"
  },
  "toc": {
   "base_numbering": 1,
   "nav_menu": {},
   "number_sections": true,
   "sideBar": true,
   "skip_h1_title": false,
   "title_cell": "Table of Contents",
   "title_sidebar": "Contents",
   "toc_cell": false,
   "toc_position": {},
   "toc_section_display": true,
   "toc_window_display": false
  },
  "varInspector": {
   "cols": {
    "lenName": 16,
    "lenType": 16,
    "lenVar": 40
   },
   "kernels_config": {
    "python": {
     "delete_cmd_postfix": "",
     "delete_cmd_prefix": "del ",
     "library": "var_list.py",
     "varRefreshCmd": "print(var_dic_list())"
    },
    "r": {
     "delete_cmd_postfix": ") ",
     "delete_cmd_prefix": "rm(",
     "library": "var_list.r",
     "varRefreshCmd": "cat(var_dic_list()) "
    }
   },
   "types_to_exclude": [
    "module",
    "function",
    "builtin_function_or_method",
    "instance",
    "_Feature"
   ],
   "window_display": false
  }
 },
 "nbformat": 4,
 "nbformat_minor": 5
}
