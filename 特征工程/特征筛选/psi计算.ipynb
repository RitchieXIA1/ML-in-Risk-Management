{
 "cells": [
  {
   "cell_type": "code",
   "execution_count": 1,
   "id": "94a80e35",
   "metadata": {
    "ExecuteTime": {
     "end_time": "2022-01-20T09:38:36.384211Z",
     "start_time": "2022-01-20T09:38:36.086085Z"
    }
   },
   "outputs": [],
   "source": [
    "import math\n",
    "import numpy as np\n",
    "import pandas as pd\n",
    "\n",
    "def calculate_psi(base_list, test_list, col,bins=20, min_sample=20):\n",
    "    base_df = pd.DataFrame(base_list, columns=[col])\n",
    "    test_df = pd.DataFrame(test_list, columns=[col]) \n",
    "        \n",
    "        # 1.去除缺失值后，统计两个分布的样本量\n",
    "    base_notnull_cnt = len(list(base_df[col].dropna()))\n",
    "    test_notnull_cnt = len(list(test_df[col].dropna()))\n",
    "\n",
    "        # 空分箱\n",
    "    base_null_cnt = len(base_df) - base_notnull_cnt\n",
    "    test_null_cnt = len(test_df) - test_notnull_cnt\n",
    "        \n",
    "        # 2.最小分箱数\n",
    "    q_list = []\n",
    "    if type(bins) == int:\n",
    "        bin_num = min(bins, int(base_notnull_cnt / min_sample))\n",
    "        q_list = [x / bin_num for x in range(1, bin_num)]\n",
    "        break_list = []\n",
    "        for q in q_list:\n",
    "            bk = base_df[col].quantile(q)#他是按照socre来分箱的\n",
    "            break_list.append(bk)\n",
    "        break_list = sorted(list(set(break_list))) # 去重复后排序\n",
    "        score_bin_list = [-np.inf] + break_list + [np.inf]\n",
    "    else:\n",
    "        score_bin_list = bins\n",
    "        \n",
    "        # 4.统计各分箱内的样本量\n",
    "    base_cnt_list = [base_null_cnt]\n",
    "    test_cnt_list = [test_null_cnt]\n",
    "    bucket_list = [\"MISSING\"]\n",
    "    for i in range(len(score_bin_list)-1):\n",
    "        left  = round(score_bin_list[i+0], 4)\n",
    "        right = round(score_bin_list[i+1], 4)\n",
    "        bucket_list.append(\"(\" + str(left) + ',' + str(right) + ']')\n",
    "            \n",
    "        base_cnt = base_df[(base_df[col] > left) & (base_df[col] <= right)].shape[0]\n",
    "        base_cnt_list.append(base_cnt)\n",
    "            \n",
    "        test_cnt = test_df[(test_df[col] > left) & (test_df[col] <= right)].shape[0]\n",
    "        test_cnt_list.append(test_cnt)\n",
    "        \n",
    "        # 5.汇总统计结果    \n",
    "    stat_df = pd.DataFrame({\"bucket\": bucket_list, \"base_cnt\": base_cnt_list, \"test_cnt\": test_cnt_list})\n",
    "    stat_df['base_dist'] = stat_df['base_cnt'] / len(base_df)\n",
    "    stat_df['test_dist'] = stat_df['test_cnt'] / len(test_df)\n",
    "        \n",
    "    def sub_psi(row):\n",
    "            # 6.计算PSI\n",
    "        base_list = row['base_dist']\n",
    "        test_dist = row['test_dist']\n",
    "            # 处理某分箱内样本量为0的情况\n",
    "        if base_list == 0 and test_dist == 0:\n",
    "            return 0\n",
    "        elif base_list == 0 and test_dist > 0:\n",
    "            base_list = 1 / base_notnull_cnt   \n",
    "        elif base_list > 0 and test_dist == 0:\n",
    "            test_dist = 1 / test_notnull_cnt\n",
    "                \n",
    "        return (test_dist - base_list) * np.log(test_dist / base_list)\n",
    "        \n",
    "    stat_df['psi'] = stat_df.apply(lambda row: sub_psi(row), axis=1)\n",
    "    stat_df = stat_df[['bucket', 'base_cnt', 'base_dist', 'test_cnt', 'test_dist', 'psi']]\n",
    "    psi = stat_df['psi'].sum()\n",
    "    return psi, stat_df"
   ]
  },
  {
   "cell_type": "code",
   "execution_count": null,
   "id": "027e6f4a",
   "metadata": {},
   "outputs": [],
   "source": [
    "#输出为该变量的psi和一个矩阵，其中包含各分组的psi\n",
    "psi,stat_df = calculate_psi(base_list=list(df[df['draw_month'] == '2020-05'][var]), \n",
    "                   test_list=list(df[df['draw_month'] == '2021-02'][var],col = 'score'), \n",
    "                   bins=20, min_sample=10)\n",
    "#可以选择计算哪个变量的psi，包括评分卡的分数"
   ]
  },
  {
   "cell_type": "code",
   "execution_count": null,
   "id": "1bbd7c4b",
   "metadata": {},
   "outputs": [],
   "source": [
    "#用toad包进行五折交叉psi计算\n",
    "from sklearn.model_selection import StratifiedKFold\n",
    "import lightgbm as lgb\n",
    "\n",
    "NFOLDS = 5\n",
    "folds = StratifiedKFold(n_splits=NFOLDS)\n",
    "\n",
    "columns = X.drop(cats,axis=1).columns\n",
    "splits = folds.split(X, y)\n",
    "\n",
    "PSI = pd.DataFrame()\n",
    "PSI['feature'] = columns\n",
    "  \n",
    "for fold_n, (train_index, valid_index) in enumerate(splits):\n",
    "    X_train, X_valid =X.iloc[train_index],X.iloc[valid_index]\n",
    "    y_train, y_valid = y.iloc[train_index], y.iloc[valid_index]\n",
    "    \n",
    "\n",
    "    \n",
    "    PSI[f'fold_{fold_n + 1}'] = toad.metrics.PSI(X_train.drop(cats,axis=1),X_valid.drop(cats,axis=1)).values\n",
    "    \n",
    "    \n",
    "    del X_train, X_valid, y_train, y_valid\n",
    "    gc.collect()\n",
    "    \n",
    "PSI"
   ]
  }
 ],
 "metadata": {
  "kernelspec": {
   "display_name": "Python 3 (ipykernel)",
   "language": "python",
   "name": "python3"
  },
  "language_info": {
   "codemirror_mode": {
    "name": "ipython",
    "version": 3
   },
   "file_extension": ".py",
   "mimetype": "text/x-python",
   "name": "python",
   "nbconvert_exporter": "python",
   "pygments_lexer": "ipython3",
   "version": "3.8.5"
  },
  "toc": {
   "base_numbering": 1,
   "nav_menu": {},
   "number_sections": true,
   "sideBar": true,
   "skip_h1_title": false,
   "title_cell": "Table of Contents",
   "title_sidebar": "Contents",
   "toc_cell": false,
   "toc_position": {},
   "toc_section_display": true,
   "toc_window_display": false
  },
  "varInspector": {
   "cols": {
    "lenName": 16,
    "lenType": 16,
    "lenVar": 40
   },
   "kernels_config": {
    "python": {
     "delete_cmd_postfix": "",
     "delete_cmd_prefix": "del ",
     "library": "var_list.py",
     "varRefreshCmd": "print(var_dic_list())"
    },
    "r": {
     "delete_cmd_postfix": ") ",
     "delete_cmd_prefix": "rm(",
     "library": "var_list.r",
     "varRefreshCmd": "cat(var_dic_list()) "
    }
   },
   "types_to_exclude": [
    "module",
    "function",
    "builtin_function_or_method",
    "instance",
    "_Feature"
   ],
   "window_display": false
  }
 },
 "nbformat": 4,
 "nbformat_minor": 5
}
