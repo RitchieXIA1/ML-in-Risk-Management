{
 "cells": [
  {
   "cell_type": "code",
   "execution_count": null,
   "id": "989725bd",
   "metadata": {},
   "outputs": [],
   "source": [
    "from sklearn.model_selection import train_test_split\n",
    "from sklearn.metrics import roc_auc_score\n",
    "#from notebook import tqdm\n",
    "X_train = df_train[feats]\n",
    "X_test = df_test[feats]\n",
    "\n",
    "features = X_train.columns.tolist()\n",
    "X_train['risk_label'] = 1\n",
    "X_test['risk_label'] = 0\n",
    "train_test = pd.concat([X_train, X_test], axis =0,ignore_index=True)\n",
    "train1, test1 = train_test_split(train_test, test_size=0.33, random_state=42, shuffle=True)\n",
    "train_y = train1['risk_label'].values\n",
    "test_y = test1['risk_label'].values\n",
    "del train1['risk_label'], test1['risk_label']\n",
    "\n",
    "if 'risk_label' in features:\n",
    "    features.remove('risk_label')\n",
    "\n",
    "adversarial_result = pd.DataFrame(index=train1.columns,columns=['roc'])\n",
    "for i in tqdm(features):\n",
    "    clf = lgb.LGBMClassifier(\n",
    "        random_state=47,\n",
    "        max_depth=2,\n",
    "        metric='auc',\n",
    "        n_estimators=1000,\n",
    "        importance_type='gain'\n",
    "    )\n",
    "    clf.fit(\n",
    "        np.array(train1[i]).reshape(-1,1),\n",
    "        train_y,\n",
    "        eval_set=[(np.array(test1[i]).reshape(-1,1),test_y)],\n",
    "        early_stopping_rounds=200,\n",
    "        verbose=0)\n",
    "    temp_pred = clf.predict_proba(np.array(test1[i]).reshape(-1,1))[:,1]\n",
    "    roc1 = roc_auc_score(test_y,temp_pred)\n",
    "    adversarial_result.loc[i,'roc'] = roc1\n",
    "    \n",
    "a = adversarial_result.sort_values('roc', ascending=False)\n",
    "a"
   ]
  },
  {
   "cell_type": "code",
   "execution_count": null,
   "id": "f7a5165f",
   "metadata": {},
   "outputs": [],
   "source": [
    "import toad\n",
    "feat_lst = [i for i in df_train.columns if i not in ['LABEL','CUST_UID','MON_12_CUST_CNT_PTY_ID']+drop_fea+yd_col]\n",
    "psi_df = toad.metrics.PSI(df_train[feat_lst],df_test[feat_lst]).sort_values(0)  \n",
    "psi_df"
   ]
  }
 ],
 "metadata": {
  "kernelspec": {
   "display_name": "Python 3 (ipykernel)",
   "language": "python",
   "name": "python3"
  },
  "language_info": {
   "codemirror_mode": {
    "name": "ipython",
    "version": 3
   },
   "file_extension": ".py",
   "mimetype": "text/x-python",
   "name": "python",
   "nbconvert_exporter": "python",
   "pygments_lexer": "ipython3",
   "version": "3.8.5"
  },
  "toc": {
   "base_numbering": 1,
   "nav_menu": {},
   "number_sections": true,
   "sideBar": true,
   "skip_h1_title": false,
   "title_cell": "Table of Contents",
   "title_sidebar": "Contents",
   "toc_cell": false,
   "toc_position": {},
   "toc_section_display": true,
   "toc_window_display": false
  }
 },
 "nbformat": 4,
 "nbformat_minor": 5
}
