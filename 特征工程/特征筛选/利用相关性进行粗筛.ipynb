{
 "cells": [
  {
   "cell_type": "code",
   "execution_count": null,
   "id": "7b296402",
   "metadata": {},
   "outputs": [],
   "source": [
    "def identify_collinear(corr_matrix,correlation_threshold,X):\n",
    "    \n",
    "    upper = corr_matrix.where(np.triu(np.ones(corr_matrix.shape), k = 1).astype(np.bool))\n",
    "    \n",
    "    # Select the features with correlations above the threshold\n",
    "    # Need to use the absolute value\n",
    "    to_drop = [column for column in upper.columns if any(upper[column].abs() > correlation_threshold)]\n",
    "    \n",
    "    # Dataframe to hold correlated pairs\n",
    "    record_collinear = pd.DataFrame(columns = ['corr_feature1', 'corr_feature2', 'corr_value'])\n",
    "    \n",
    "    # Iterate through the columns to drop to record pairs of correlated features\n",
    "    for column in to_drop:\n",
    "    \n",
    "        # Find the correlated features\n",
    "        corr_features = list(upper.index[upper[column].abs() > correlation_threshold])\n",
    "    \n",
    "        # Find the correlated values\n",
    "        corr_values = list(upper[column][upper[column].abs() > correlation_threshold])\n",
    "        drop_features = [column for _ in range(len(corr_features))]    \n",
    "    \n",
    "        # Record the information (need a temp df for now)\n",
    "        temp_df = pd.DataFrame.from_dict({'corr_feature1': drop_features,\n",
    "                                         'corr_feature2': corr_features,\n",
    "                                         'corr_value': corr_values})\n",
    "    \n",
    "        # Add to dataframe\n",
    "        record_collinear = record_collinear.append(temp_df, ignore_index = True)\n",
    "    drops=[]## 下面是删除规则\n",
    "    if record_collinear.shape[0]==0:\n",
    "        return 'nothing!','nothing!'\n",
    "    for i,j in zip(record_collinear.corr_feature1.values.tolist(),record_collinear.corr_feature2.values.tolist()):\n",
    "        if X[i].nunique()>X[j].nunique():\n",
    "            drops.append(j)\n",
    "        else:\n",
    "            drops.append(i)\n",
    "    drops=list(set(drops))\n",
    "    return record_collinear,drops"
   ]
  },
  {
   "cell_type": "code",
   "execution_count": null,
   "id": "cb0a764e",
   "metadata": {},
   "outputs": [],
   "source": [
    "def lgb_model(params=None,cv=KFold(5),X=None,y=None,early_stopping_rounds=200,cols=None,categorical_feature=None,group_feature=None):\n",
    "\n",
    "    #folds = StratifiedKFold(n_splits=NFOLDS)\n",
    "    folds =cv\n",
    "    if cols==None:\n",
    "        columns = list(X.columns)\n",
    "    else:\n",
    "        columns=cols\n",
    "    if group_feature:\n",
    "        columns.remove(group_feature)\n",
    "        splits = folds.split(X[columns], y,groups=X[group_feature])\n",
    "    else:\n",
    "        splits = folds.split(X[columns], y)\n",
    "    y_oof = np.zeros(X.shape[0])\n",
    "    score = 0\n",
    "\n",
    "\n",
    "    clfs=[]\n",
    "    for fold_n, (train_index, valid_index) in enumerate(splits):\n",
    "        X_train, X_valid = X[columns].iloc[train_index], X[columns].iloc[valid_index]\n",
    "        y_train, y_valid = y.iloc[train_index], y.iloc[valid_index]\n",
    "\n",
    "\n",
    "        clf = lgb.LGBMClassifier(**params)\n",
    "        if categorical_feature:\n",
    "            clf.fit(X_train,y_train,eval_set=[(X_train,y_train),(X_valid,y_valid)], \\\n",
    "                     eval_metric='auc', verbose=100, early_stopping_rounds=early_stopping_rounds,categorical_feature=categorical_feature)\n",
    "        else:\n",
    "            clf.fit(X_train,y_train,eval_set=[(X_train,y_train),(X_valid,y_valid)], \\\n",
    "                     eval_metric='auc', verbose=100, early_stopping_rounds=early_stopping_rounds)\n",
    "\n",
    "        y_pred_valid = clf.predict_proba(X_valid)[:,1]\n",
    "        y_oof[valid_index] = y_pred_valid\n",
    "        print(f\"Fold {fold_n + 1} | AUC: {roc_auc_score(y_valid, y_pred_valid)}\")\n",
    "\n",
    "        score += roc_auc_score(y_valid, y_pred_valid) / 6\n",
    "\n",
    "        del X_train, X_valid, y_train, y_valid\n",
    "        gc.collect()\n",
    "        clfs.append(clf)\n",
    "\n",
    "    print(f\"\\nMean AUC = {score}\")\n",
    "    print(f\"Out of folds AUC = {roc_auc_score(y, y_oof)}\")\n",
    "    return clfs"
   ]
  },
  {
   "cell_type": "code",
   "execution_count": null,
   "id": "d8c417a1",
   "metadata": {},
   "outputs": [],
   "source": [
    "#使用相关系数对交叉后的特征进行粗筛\n",
    "total_cat=imp_cat+cross_cat\n",
    "corr_spearman=X[total_cat].rank().corr()\n",
    "corr_pearson=X[total_cat].corr()\n",
    "\n",
    "models=[]\n",
    "for thereshold in [0.79999,0.899999,0.989999]:\n",
    "    _,drops_spearman=identify_collinear(corr_spearman,thereshold,X)#需要用到共线性识别模块\n",
    "    _,drops_pearson=identify_collinear(corr_pearson,thereshold,X)\n",
    "    drops=list(set(drops_spearman+drops_pearson))\n",
    "    cols=list(X.columns)\n",
    "    cols.remove('TransactionDT')\n",
    "    for col in drops:\n",
    "        cols.remove(col)\n",
    "    #用到五折lgb模块\n",
    "    clfs=lgb_model(params=params,cv=KFold(5),X=X,y=y,early_stopping_rounds=200,cols=cols,categorical_feature=None,group_feature=None)\n",
    "    y_pred=np.zeros(X_test.shape[0])\n",
    "    for clf in clfs:\n",
    "        y_pred+=clf.predict_proba(X_test[cols])[:,1]/5\n",
    "    models.append(clfs)\n",
    "    del cols,clfs,y_pred,sub\n",
    "    gc.collect()"
   ]
  }
 ],
 "metadata": {
  "kernelspec": {
   "display_name": "Python 3",
   "language": "python",
   "name": "python3"
  },
  "language_info": {
   "codemirror_mode": {
    "name": "ipython",
    "version": 3
   },
   "file_extension": ".py",
   "mimetype": "text/x-python",
   "name": "python",
   "nbconvert_exporter": "python",
   "pygments_lexer": "ipython3",
   "version": "3.8.8"
  },
  "varInspector": {
   "cols": {
    "lenName": 16,
    "lenType": 16,
    "lenVar": 40
   },
   "kernels_config": {
    "python": {
     "delete_cmd_postfix": "",
     "delete_cmd_prefix": "del ",
     "library": "var_list.py",
     "varRefreshCmd": "print(var_dic_list())"
    },
    "r": {
     "delete_cmd_postfix": ") ",
     "delete_cmd_prefix": "rm(",
     "library": "var_list.r",
     "varRefreshCmd": "cat(var_dic_list()) "
    }
   },
   "types_to_exclude": [
    "module",
    "function",
    "builtin_function_or_method",
    "instance",
    "_Feature"
   ],
   "window_display": false
  }
 },
 "nbformat": 4,
 "nbformat_minor": 5
}
