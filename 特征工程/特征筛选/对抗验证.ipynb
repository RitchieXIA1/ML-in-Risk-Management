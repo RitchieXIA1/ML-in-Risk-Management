{
 "cells": [
  {
   "cell_type": "code",
   "execution_count": 1,
   "metadata": {
    "ExecuteTime": {
     "end_time": "2022-01-18T10:57:01.880454Z",
     "start_time": "2022-01-18T10:56:59.551193Z"
    }
   },
   "outputs": [],
   "source": [
    "import pandas as pd\n",
    "import numpy as np\n",
    "import lightgbm as lgb\n",
    "from sklearn.model_selection import StratifiedShuffleSplit, StratifiedKFold\n",
    "from sklearn import metrics"
   ]
  },
  {
   "cell_type": "code",
   "execution_count": 2,
   "metadata": {
    "ExecuteTime": {
     "end_time": "2022-01-18T10:57:02.448295Z",
     "start_time": "2022-01-18T10:57:02.434292Z"
    }
   },
   "outputs": [],
   "source": [
    "random_state = 42\n",
    "np.random.seed(random_state)"
   ]
  },
  {
   "cell_type": "code",
   "execution_count": 18,
   "metadata": {
    "ExecuteTime": {
     "end_time": "2022-01-18T11:02:56.876860Z",
     "start_time": "2022-01-18T11:02:56.869564Z"
    }
   },
   "outputs": [],
   "source": [
    "def gen_fake_norm_dateset(column_size=20, instance_size=100000):\n",
    "    \"\"\"\n",
    "    Input size: total batch size\n",
    "    Distribution: gen a fake dataset for test, 20 coloumns is normal distributaion.\n",
    "    \"\"\"\n",
    "    dataset = {}\n",
    "    for i in range(column_size):\n",
    "        dataset['col_{}'.format(i)] = np.random.normal(0,1,instance_size)\n",
    "    df = pd.DataFrame(dataset)\n",
    "    train = df[:instance_size//2]\n",
    "    test = df[instance_size//2:]\n",
    "    # add drift to column 0\n",
    "    test['col_0'] += np.random.normal(0.1,0.5,len(test))\n",
    "    return train, test"
   ]
  },
  {
   "cell_type": "code",
   "execution_count": 19,
   "metadata": {
    "ExecuteTime": {
     "end_time": "2022-01-18T11:02:57.868178Z",
     "start_time": "2022-01-18T11:02:57.804130Z"
    }
   },
   "outputs": [
    {
     "name": "stderr",
     "output_type": "stream",
     "text": [
      "<ipython-input-18-62ea947031c7>:13: SettingWithCopyWarning: \n",
      "A value is trying to be set on a copy of a slice from a DataFrame.\n",
      "Try using .loc[row_indexer,col_indexer] = value instead\n",
      "\n",
      "See the caveats in the documentation: https://pandas.pydata.org/pandas-docs/stable/user_guide/indexing.html#returning-a-view-versus-a-copy\n",
      "  test['col_0'] += np.random.normal(0.1,0.5,len(test))\n"
     ]
    }
   ],
   "source": [
    "batch1, batch2 = gen_fake_norm_dateset()"
   ]
  },
  {
   "cell_type": "code",
   "execution_count": 20,
   "metadata": {
    "ExecuteTime": {
     "end_time": "2022-01-18T11:03:04.088402Z",
     "start_time": "2022-01-18T11:03:04.082234Z"
    }
   },
   "outputs": [],
   "source": [
    "def train_test_split(X, y, test_size, random_state=2018):\n",
    "    \"\"\"\n",
    "    split data to train and test\n",
    "    \"\"\"\n",
    "    sss = list(StratifiedShuffleSplit(\n",
    "        n_splits=1, test_size=test_size, random_state=random_state).split(X, y))\n",
    "    X_train = np.take(X, sss[0][0], axis=0)\n",
    "    X_test = np.take(X, sss[0][1], axis=0)\n",
    "    y_train = np.take(y, sss[0][0], axis=0)\n",
    "    y_test = np.take(y, sss[0][1], axis=0)\n",
    "    return [X_train, X_test, y_train, y_test]"
   ]
  },
  {
   "cell_type": "code",
   "execution_count": 21,
   "metadata": {
    "ExecuteTime": {
     "end_time": "2022-01-18T11:03:05.626546Z",
     "start_time": "2022-01-18T11:03:05.620352Z"
    }
   },
   "outputs": [],
   "source": [
    "def get_fea_importance(clf, feature_name):\n",
    "    \"\"\"\n",
    "    get feature importance from lightGBM\n",
    "    \"\"\"\n",
    "    gain = clf.feature_importance('gain')\n",
    "    importance_df = pd.DataFrame({\n",
    "        'feature':clf.feature_name(),\n",
    "        'split': clf.feature_importance('split'),\n",
    "        'gain': gain, # * gain / gain.sum(),\n",
    "        'gain_percent':100 *gain / gain.sum(),\n",
    "        }).sort_values('gain',ascending=False)\n",
    "    return importance_df"
   ]
  },
  {
   "cell_type": "code",
   "execution_count": 22,
   "metadata": {
    "ExecuteTime": {
     "end_time": "2022-01-18T11:03:07.552434Z",
     "start_time": "2022-01-18T11:03:07.536237Z"
    }
   },
   "outputs": [],
   "source": [
    "def adversial_validation(batch1, batch2):\n",
    "    \"\"\"\n",
    "    split two batch to get importance\n",
    "    \"\"\"\n",
    "    feature_name = list(batch1.columns)\n",
    "    train_X = batch1\n",
    "    train_Y = np.ones(train_X.shape[0])\n",
    "    test_X = batch2\n",
    "    test_Y = np.zeros(test_X.shape[0])\n",
    "    X = np.concatenate((train_X.values,test_X.values),axis=0)\n",
    "    y = np.concatenate((train_Y,test_Y),axis=0)\n",
    "    test_size = int(len(X)/5) \n",
    "    X, X_test, y, y_test = train_test_split(X, y, test_size, random_state = 42)\n",
    "    para = {\n",
    "        'num_leaves': 6,\n",
    "        'learning_rate': 0.1,\n",
    "        'bagging_fraction': 0.2, \n",
    "        'feature_fraction': 0.5,\n",
    "        'max_depth': 3, \n",
    "        \"objective\": \"binary\", \n",
    "        \"metric\":\"auc\", \n",
    "        'verbose': -1, \n",
    "        \"seed\": 42, \n",
    "        'num_threads': 8,\n",
    "    }\n",
    "    lgb_train = lgb.Dataset(X, y, free_raw_data=True)\n",
    "    lgb_val = lgb.Dataset(X_test, y_test, free_raw_data=True, reference=lgb_train)\n",
    "    lgb_model = lgb.train(para, lgb_train, valid_sets=lgb_val, valid_names='eval',feature_name=feature_name,\n",
    "                                verbose_eval=False, early_stopping_rounds=10, num_boost_round=50)\n",
    "    fpr, tpr, thresholds = metrics.roc_curve(\n",
    "        y_test, lgb_model.predict(X_test, num_iteration = lgb_model.best_iteration))\n",
    "    auc = metrics.auc(fpr, tpr)\n",
    "    print(\"----Adversial Score is {}------\".format(auc))\n",
    "    fea_importance_adversial = get_fea_importance(lgb_model, feature_name)\n",
    "    print(fea_importance_adversial.head(10))\n",
    "    return fea_importance_adversial, auc"
   ]
  },
  {
   "cell_type": "markdown",
   "metadata": {},
   "source": [
    "### get the batch split result, feature importance and auc"
   ]
  },
  {
   "cell_type": "code",
   "execution_count": 23,
   "metadata": {
    "ExecuteTime": {
     "end_time": "2022-01-18T11:03:11.819760Z",
     "start_time": "2022-01-18T11:03:11.617714Z"
    }
   },
   "outputs": [
    {
     "name": "stdout",
     "output_type": "stream",
     "text": [
      "----Adversial Score is 0.541772355------\n",
      "   feature  split         gain  gain_percent\n",
      "0    col_0     29  2500.973512     87.937494\n",
      "5    col_5      8    51.052700      1.795080\n",
      "3    col_3      4    32.793350      1.153057\n",
      "7    col_7      4    30.666470      1.078273\n",
      "11  col_11      4    27.965760      0.983313\n",
      "14  col_14      3    27.519770      0.967631\n",
      "9    col_9      3    24.406670      0.858170\n",
      "12  col_12      2    23.328800      0.820271\n",
      "18  col_18      2    21.233900      0.746612\n",
      "4    col_4      3    18.196711      0.639820\n"
     ]
    }
   ],
   "source": [
    "fea_imp, auc_true = adversial_validation(batch1, batch2)"
   ]
  },
  {
   "cell_type": "markdown",
   "metadata": {},
   "source": [
    "### Estimate the threshold. We could run more to get a distribution "
   ]
  },
  {
   "cell_type": "code",
   "execution_count": 24,
   "metadata": {
    "ExecuteTime": {
     "end_time": "2022-01-18T11:03:22.224544Z",
     "start_time": "2022-01-18T11:03:20.975982Z"
    }
   },
   "outputs": [
    {
     "name": "stdout",
     "output_type": "stream",
     "text": [
      "----Adversial Score is 0.50321503------\n",
      "   feature  split       gain  gain_percent\n",
      "10   col_9      6  58.554870     17.952197\n",
      "0    index      5  52.832130     16.197676\n",
      "12  col_11      4  38.147720     11.695618\n",
      "14  col_13      3  34.030280     10.433262\n",
      "16  col_15      3  30.914001      9.477849\n",
      "5    col_4      2  18.628449      5.711252\n",
      "4    col_3      2  18.068140      5.539468\n",
      "15  col_14      2  17.223480      5.280506\n",
      "11  col_10      2  14.206790      4.355626\n",
      "18  col_17      2  14.049010      4.307252\n",
      "----Adversial Score is 0.50557368------\n",
      "   feature  split      gain  gain_percent\n",
      "10   col_9      2  24.01961     24.727705\n",
      "14  col_13      2  14.97471     15.416163\n",
      "11  col_10      1  12.19990     12.559551\n",
      "0    index      1  11.64480     11.988087\n",
      "13  col_12      1  11.42710     11.763970\n",
      "19  col_18      1   8.28197      8.526121\n",
      "16  col_15      1   7.31287      7.528453\n",
      "4    col_3      1   7.27547      7.489950\n",
      "18  col_17      0   0.00000      0.000000\n",
      "17  col_16      0   0.00000      0.000000\n",
      "----Adversial Score is 0.5028002050000001------\n",
      "   feature  split       gain  gain_percent\n",
      "14  col_13      6  54.855700     14.461879\n",
      "4    col_3      4  40.546880     10.689574\n",
      "6    col_5      4  36.392460      9.594324\n",
      "1    col_0      4  33.543670      8.843283\n",
      "20  col_19      3  28.252151      7.448254\n",
      "5    col_4      3  26.541480      6.997261\n",
      "18  col_17      2  19.469140      5.132745\n",
      "16  col_15      3  19.229310      5.069518\n",
      "0    index      2  17.864820      4.709790\n",
      "9    col_8      2  15.974650      4.211476\n",
      "----Adversial Score is 0.50035045------\n",
      "   feature  split      gain  gain_percent\n",
      "16  col_15      2  15.75303     10.965869\n",
      "1    col_0      1  15.39790     10.718659\n",
      "0    index      1  15.15160     10.547206\n",
      "17  col_16      1  12.99540      9.046251\n",
      "11  col_10      2  12.88335      8.968251\n",
      "9    col_8      2  12.50414      8.704278\n",
      "13  col_12      1  11.37490      7.918201\n",
      "6    col_5      1  10.73030      7.469488\n",
      "5    col_4      1  10.20970      7.107092\n",
      "19  col_18      1   9.12331      6.350843\n",
      "----Adversial Score is 0.5105905------\n",
      "   feature  split        gain  gain_percent\n",
      "0    index     12  110.101520     14.251483\n",
      "7    col_6      9   74.305380      9.618050\n",
      "16  col_15      8   64.399489      8.335836\n",
      "19  col_18      7   63.913081      8.272876\n",
      "1    col_0      6   58.292800      7.545390\n",
      "14  col_13      7   48.896380      6.329122\n",
      "12  col_11      6   44.523520      5.763101\n",
      "10   col_9      6   44.454099      5.754115\n",
      "2    col_1      4   35.720841      4.623687\n",
      "4    col_3      4   32.212440      4.169561\n"
     ]
    }
   ],
   "source": [
    "estimate_thres_auc = []\n",
    "estimate_thres_gain = []\n",
    "for i in range(5):\n",
    "    len_batch1 = len(batch1) \n",
    "    base_df = batch1.append(batch2).reset_index(drop = False).sample(frac=1)\n",
    "    fea_base, auc_base = adversial_validation(base_df[:len_batch1], base_df[len_batch1:])\n",
    "    estimate_thres_auc.append(auc_base)\n",
    "    estimate_thres_gain.append(fea_base['gain'].values[0])"
   ]
  },
  {
   "cell_type": "code",
   "execution_count": 12,
   "metadata": {
    "ExecuteTime": {
     "end_time": "2022-01-18T10:59:15.055478Z",
     "start_time": "2022-01-18T10:59:15.044760Z"
    }
   },
   "outputs": [
    {
     "data": {
      "text/plain": [
       "[55.708431243896484,\n",
       " 117.59082984924316,\n",
       " 27.317980766296387,\n",
       " 20.957239627838135,\n",
       " 74.9548110961914]"
      ]
     },
     "execution_count": 12,
     "metadata": {},
     "output_type": "execute_result"
    }
   ],
   "source": [
    "estimate_thres_gain"
   ]
  },
  {
   "cell_type": "code",
   "execution_count": 10,
   "metadata": {
    "ExecuteTime": {
     "end_time": "2022-01-18T10:58:03.485419Z",
     "start_time": "2022-01-18T10:58:03.477417Z"
    }
   },
   "outputs": [
    {
     "data": {
      "text/plain": [
       "0.504013757"
      ]
     },
     "execution_count": 10,
     "metadata": {},
     "output_type": "execute_result"
    }
   ],
   "source": [
    "#auc threashold\n",
    "np.mean(estimate_thres_auc)"
   ]
  },
  {
   "cell_type": "code",
   "execution_count": 11,
   "metadata": {
    "ExecuteTime": {
     "end_time": "2022-01-18T10:58:07.821667Z",
     "start_time": "2022-01-18T10:58:07.818666Z"
    }
   },
   "outputs": [
    {
     "data": {
      "text/plain": [
       "59.305858516693114"
      ]
     },
     "execution_count": 11,
     "metadata": {},
     "output_type": "execute_result"
    }
   ],
   "source": [
    "# drift threashold\n",
    "np.mean(estimate_thres_gain)"
   ]
  },
  {
   "cell_type": "code",
   "execution_count": null,
   "metadata": {},
   "outputs": [],
   "source": []
  }
 ],
 "metadata": {
  "kernelspec": {
   "display_name": "Python 3 (ipykernel)",
   "language": "python",
   "name": "python3"
  },
  "language_info": {
   "codemirror_mode": {
    "name": "ipython",
    "version": 3
   },
   "file_extension": ".py",
   "mimetype": "text/x-python",
   "name": "python",
   "nbconvert_exporter": "python",
   "pygments_lexer": "ipython3",
   "version": "3.8.5"
  },
  "toc": {
   "base_numbering": 1,
   "nav_menu": {},
   "number_sections": true,
   "sideBar": true,
   "skip_h1_title": false,
   "title_cell": "Table of Contents",
   "title_sidebar": "Contents",
   "toc_cell": false,
   "toc_position": {},
   "toc_section_display": true,
   "toc_window_display": false
  },
  "varInspector": {
   "cols": {
    "lenName": 16,
    "lenType": 16,
    "lenVar": 40
   },
   "kernels_config": {
    "python": {
     "delete_cmd_postfix": "",
     "delete_cmd_prefix": "del ",
     "library": "var_list.py",
     "varRefreshCmd": "print(var_dic_list())"
    },
    "r": {
     "delete_cmd_postfix": ") ",
     "delete_cmd_prefix": "rm(",
     "library": "var_list.r",
     "varRefreshCmd": "cat(var_dic_list()) "
    }
   },
   "types_to_exclude": [
    "module",
    "function",
    "builtin_function_or_method",
    "instance",
    "_Feature"
   ],
   "window_display": false
  }
 },
 "nbformat": 4,
 "nbformat_minor": 2
}
