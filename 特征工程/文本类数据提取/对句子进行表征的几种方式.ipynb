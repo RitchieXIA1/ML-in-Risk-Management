{
 "cells": [
  {
   "cell_type": "code",
   "execution_count": 1,
   "metadata": {
    "ExecuteTime": {
     "end_time": "2022-01-25T01:36:46.542666Z",
     "start_time": "2022-01-25T01:36:46.486444Z"
    }
   },
   "outputs": [
    {
     "name": "stderr",
     "output_type": "stream",
     "text": [
      "'wget' 不是内部或外部命令，也不是可运行的程序\n",
      "或批处理文件。\n",
      "'unzip' 不是内部或外部命令，也不是可运行的程序\n",
      "或批处理文件。\n"
     ]
    }
   ],
   "source": [
    "!wget https://mirror.coggle.club/dataset/afqmc_public.zip\n",
    "!unzip afqmc_public.zip -d afqmc_public"
   ]
  },
  {
   "cell_type": "markdown",
   "metadata": {},
   "source": [
    "# 数据处理"
   ]
  },
  {
   "cell_type": "code",
   "execution_count": 1,
   "metadata": {
    "ExecuteTime": {
     "end_time": "2022-02-14T08:16:32.996673Z",
     "start_time": "2022-02-14T08:16:31.177344Z"
    }
   },
   "outputs": [
    {
     "name": "stdout",
     "output_type": "stream",
     "text": [
      "Populating the interactive namespace from numpy and matplotlib\n"
     ]
    },
    {
     "data": {
      "text/html": [
       "<div>\n",
       "<style scoped>\n",
       "    .dataframe tbody tr th:only-of-type {\n",
       "        vertical-align: middle;\n",
       "    }\n",
       "\n",
       "    .dataframe tbody tr th {\n",
       "        vertical-align: top;\n",
       "    }\n",
       "\n",
       "    .dataframe thead th {\n",
       "        text-align: right;\n",
       "    }\n",
       "</style>\n",
       "<table border=\"1\" class=\"dataframe\">\n",
       "  <thead>\n",
       "    <tr style=\"text-align: right;\">\n",
       "      <th></th>\n",
       "      <th>sentence1</th>\n",
       "      <th>sentence2</th>\n",
       "      <th>label</th>\n",
       "    </tr>\n",
       "  </thead>\n",
       "  <tbody>\n",
       "    <tr>\n",
       "      <th>0</th>\n",
       "      <td>蚂蚁借呗等额还款可以换成先息后本吗</td>\n",
       "      <td>借呗有先息到期还本吗</td>\n",
       "      <td>0</td>\n",
       "    </tr>\n",
       "    <tr>\n",
       "      <th>1</th>\n",
       "      <td>蚂蚁花呗说我违约一次</td>\n",
       "      <td>蚂蚁花呗违约行为是什么</td>\n",
       "      <td>0</td>\n",
       "    </tr>\n",
       "    <tr>\n",
       "      <th>2</th>\n",
       "      <td>帮我看一下本月花呗账单有没有结清</td>\n",
       "      <td>下月花呗账单</td>\n",
       "      <td>0</td>\n",
       "    </tr>\n",
       "    <tr>\n",
       "      <th>3</th>\n",
       "      <td>蚂蚁借呗多长时间综合评估一次</td>\n",
       "      <td>借呗得评估多久</td>\n",
       "      <td>0</td>\n",
       "    </tr>\n",
       "    <tr>\n",
       "      <th>4</th>\n",
       "      <td>我的花呗账单是***，还款怎么是***</td>\n",
       "      <td>我的花呗，月结出来说让我还***元，我自己算了一下详细名单我应该还***元</td>\n",
       "      <td>1</td>\n",
       "    </tr>\n",
       "    <tr>\n",
       "      <th>...</th>\n",
       "      <td>...</td>\n",
       "      <td>...</td>\n",
       "      <td>...</td>\n",
       "    </tr>\n",
       "    <tr>\n",
       "      <th>38645</th>\n",
       "      <td>使用的借呗之后，可以出国吗，因为我的工作在国外，我需要在国外还款</td>\n",
       "      <td>借呗这个月分期还款了，还了的钱还可以再次取出用吗</td>\n",
       "      <td>0</td>\n",
       "    </tr>\n",
       "    <tr>\n",
       "      <th>38646</th>\n",
       "      <td>还要多久能开通花呗</td>\n",
       "      <td>花呗要多久才会重新开通</td>\n",
       "      <td>0</td>\n",
       "    </tr>\n",
       "    <tr>\n",
       "      <th>38647</th>\n",
       "      <td>怎样设置花呗访问手机通讯录</td>\n",
       "      <td>花呗读取不了手机通讯录权限</td>\n",
       "      <td>0</td>\n",
       "    </tr>\n",
       "    <tr>\n",
       "      <th>38648</th>\n",
       "      <td>花呗的学历填错了，可不可以改</td>\n",
       "      <td>花呗学历填错了怎样修改</td>\n",
       "      <td>0</td>\n",
       "    </tr>\n",
       "    <tr>\n",
       "      <th>38649</th>\n",
       "      <td>我的淘宝绑不了花呗</td>\n",
       "      <td>怎么花呗绑不了淘宝</td>\n",
       "      <td>1</td>\n",
       "    </tr>\n",
       "  </tbody>\n",
       "</table>\n",
       "<p>38650 rows × 3 columns</p>\n",
       "</div>"
      ],
      "text/plain": [
       "                              sentence1  \\\n",
       "0                     蚂蚁借呗等额还款可以换成先息后本吗   \n",
       "1                            蚂蚁花呗说我违约一次   \n",
       "2                      帮我看一下本月花呗账单有没有结清   \n",
       "3                        蚂蚁借呗多长时间综合评估一次   \n",
       "4                   我的花呗账单是***，还款怎么是***   \n",
       "...                                 ...   \n",
       "38645  使用的借呗之后，可以出国吗，因为我的工作在国外，我需要在国外还款   \n",
       "38646                         还要多久能开通花呗   \n",
       "38647                     怎样设置花呗访问手机通讯录   \n",
       "38648                    花呗的学历填错了，可不可以改   \n",
       "38649                         我的淘宝绑不了花呗   \n",
       "\n",
       "                                   sentence2 label  \n",
       "0                                 借呗有先息到期还本吗     0  \n",
       "1                                蚂蚁花呗违约行为是什么     0  \n",
       "2                                     下月花呗账单     0  \n",
       "3                                    借呗得评估多久     0  \n",
       "4      我的花呗，月结出来说让我还***元，我自己算了一下详细名单我应该还***元     1  \n",
       "...                                      ...   ...  \n",
       "38645               借呗这个月分期还款了，还了的钱还可以再次取出用吗     0  \n",
       "38646                            花呗要多久才会重新开通     0  \n",
       "38647                          花呗读取不了手机通讯录权限     0  \n",
       "38648                            花呗学历填错了怎样修改     0  \n",
       "38649                              怎么花呗绑不了淘宝     1  \n",
       "\n",
       "[38650 rows x 3 columns]"
      ]
     },
     "execution_count": 1,
     "metadata": {},
     "output_type": "execute_result"
    }
   ],
   "source": [
    "import os, json, codecs\n",
    "import pandas as pd\n",
    "import numpy as np\n",
    "import jieba, gensim\n",
    "%pylab inline\n",
    "import seaborn as sbs\n",
    "\n",
    "train_json = codecs.open('train.json',encoding='UTF-8').readlines()\n",
    "train_json = [json.loads(x) for x in train_json]\n",
    "\n",
    "dev_json = codecs.open('dev.json', encoding='UTF-8').readlines()\n",
    "dev_json = [json.loads(x) for x in dev_json]\n",
    "\n",
    "train_data = pd.DataFrame(train_json + dev_json)\n",
    "train_data"
   ]
  },
  {
   "cell_type": "code",
   "execution_count": 12,
   "metadata": {
    "ExecuteTime": {
     "end_time": "2022-02-14T08:20:26.248340Z",
     "start_time": "2022-02-14T08:20:26.233987Z"
    }
   },
   "outputs": [],
   "source": [
    "test_json = codecs.open('test.json',encoding='UTF-8').readlines()"
   ]
  },
  {
   "cell_type": "code",
   "execution_count": 2,
   "metadata": {
    "ExecuteTime": {
     "end_time": "2022-02-14T08:16:45.677607Z",
     "start_time": "2022-02-14T08:16:41.211575Z"
    }
   },
   "outputs": [
    {
     "name": "stderr",
     "output_type": "stream",
     "text": [
      "Building prefix dict from the default dictionary ...\n",
      "Loading model from cache C:\\Users\\ASUS\\AppData\\Local\\Temp\\jieba.cache\n",
      "Loading model cost 0.413 seconds.\n",
      "Prefix dict has been built successfully.\n"
     ]
    }
   ],
   "source": [
    "#用中文分词器jieba进行分词\n",
    "train_sentence1 = train_data['sentence1'].apply(lambda x: list(jieba.cut(x.replace('*', ''))))\n",
    "train_sentence2 = train_data['sentence2'].apply(lambda x: list(jieba.cut(x.replace('*', ''))))"
   ]
  },
  {
   "cell_type": "code",
   "execution_count": 3,
   "metadata": {
    "ExecuteTime": {
     "end_time": "2022-02-14T08:16:47.859723Z",
     "start_time": "2022-02-14T08:16:47.847714Z"
    }
   },
   "outputs": [
    {
     "data": {
      "text/plain": [
       "['蚂蚁', '借', '呗', '等额', '还款', '可以', '换成', '先息', '后', '本', '吗']"
      ]
     },
     "execution_count": 3,
     "metadata": {},
     "output_type": "execute_result"
    }
   ],
   "source": [
    "train_sentence1[0]"
   ]
  },
  {
   "cell_type": "markdown",
   "metadata": {},
   "source": [
    "# 训练Word2Vec"
   ]
  },
  {
   "cell_type": "code",
   "execution_count": 4,
   "metadata": {
    "ExecuteTime": {
     "end_time": "2022-02-14T08:16:53.038823Z",
     "start_time": "2022-02-14T08:16:52.070252Z"
    }
   },
   "outputs": [],
   "source": [
    "model = gensim.models.Word2Vec(sentences=train_sentence1 + train_sentence2, \n",
    "                                   vector_size=64, window=5, min_count=1, workers=4)\n",
    "model.save(\"word2vec.model\")"
   ]
  },
  {
   "cell_type": "code",
   "execution_count": 5,
   "metadata": {
    "ExecuteTime": {
     "end_time": "2022-02-14T08:16:54.155003Z",
     "start_time": "2022-02-14T08:16:54.139993Z"
    }
   },
   "outputs": [
    {
     "data": {
      "text/plain": [
       "[('借', 0.733397364616394),\n",
       " ('借钱', 0.683042049407959),\n",
       " ('借款', 0.6616242527961731),\n",
       " ('变短', 0.636046826839447),\n",
       " ('按期', 0.5995596647262573),\n",
       " ('短期', 0.5979361534118652),\n",
       " ('停止', 0.5512950420379639),\n",
       " ('算法', 0.5478457808494568),\n",
       " ('循环', 0.5439417362213135),\n",
       " ('期限', 0.5430406332015991)]"
      ]
     },
     "execution_count": 5,
     "metadata": {},
     "output_type": "execute_result"
    }
   ],
   "source": [
    "model.wv.most_similar('蚂蚁')"
   ]
  },
  {
   "cell_type": "code",
   "execution_count": 21,
   "metadata": {
    "ExecuteTime": {
     "end_time": "2022-02-14T07:23:00.841658Z",
     "start_time": "2022-02-14T07:23:00.836457Z"
    }
   },
   "outputs": [
    {
     "data": {
      "text/plain": [
       "[('填', 0.8731459975242615),\n",
       " ('资料', 0.8619234561920166),\n",
       " ('填写', 0.8515828847885132),\n",
       " ('初中', 0.8469220995903015),\n",
       " ('补全', 0.8360111713409424),\n",
       " ('完善', 0.8340798020362854),\n",
       " ('个人信息', 0.8328665494918823),\n",
       " ('补充', 0.8204361796379089),\n",
       " ('填花', 0.8181040287017822),\n",
       " ('学校', 0.8174989819526672)]"
      ]
     },
     "execution_count": 21,
     "metadata": {},
     "output_type": "execute_result"
    }
   ],
   "source": [
    "model.wv.most_similar('填错')"
   ]
  },
  {
   "cell_type": "code",
   "execution_count": 13,
   "metadata": {
    "ExecuteTime": {
     "end_time": "2022-02-14T07:21:59.181203Z",
     "start_time": "2022-02-14T07:21:59.178202Z"
    },
    "scrolled": true
   },
   "outputs": [
    {
     "data": {
      "text/plain": [
       "array([-0.1479425 ,  0.24059713,  0.4252791 ,  0.18005963,  0.34318528,\n",
       "        0.18816513,  0.19289975,  0.1124712 , -0.07303344,  0.5023007 ,\n",
       "        0.644988  , -0.41127324, -0.23542324, -0.47795802,  0.23912965,\n",
       "        0.07072049,  0.02502367,  0.06234297, -0.27765128,  0.27346027,\n",
       "        0.27341026,  0.61132175,  0.33004767,  0.25791943, -0.55701774,\n",
       "        0.2706564 ,  0.06601232,  0.6119729 ,  0.4641568 ,  0.0872625 ,\n",
       "       -0.08522543,  0.28938767, -0.42989594,  0.43513003, -0.3597291 ,\n",
       "       -0.1249689 ,  0.417866  ,  0.35276264,  0.482949  , -0.1801883 ,\n",
       "       -0.2678838 ,  0.4821173 , -0.44115788, -0.03254813,  0.26651332,\n",
       "       -0.1543451 , -0.3397984 , -0.17151444, -0.3384765 , -0.1220949 ,\n",
       "        0.35129833, -0.10138208, -0.07077956,  0.4886721 ,  0.41465622,\n",
       "        0.20652913,  0.29084554, -0.21121438, -0.4212703 ,  0.04925221,\n",
       "       -0.42831022, -0.23431152,  0.45881152,  0.05300376,  0.6565195 ,\n",
       "       -0.5878238 ,  0.25904518, -0.3788148 , -0.15227789,  0.18098682,\n",
       "        0.15012544,  0.13185748, -0.25362924,  0.05700205, -0.07053547,\n",
       "       -0.11293636,  0.10493883, -0.02573621, -0.44399217,  0.5484419 ,\n",
       "       -0.36347473,  0.01071375, -0.32062015,  0.26250148,  0.6013882 ,\n",
       "       -0.25288516,  0.03385079, -0.3328082 ,  0.24918774, -0.10499836,\n",
       "       -0.0930178 , -0.6898381 ,  0.12889375, -0.42877534,  0.80435854,\n",
       "       -0.31666067, -0.1675343 ,  0.3800163 , -0.36349753,  0.08961074,\n",
       "       -0.08122098,  0.05732723, -0.3813362 ,  0.33825043,  0.17913677,\n",
       "       -0.32269758, -0.10378571,  0.05893185,  0.08204103,  0.14260462,\n",
       "        0.0424745 , -0.5195308 , -0.14369166,  0.25788552, -0.3494963 ,\n",
       "        0.56951934, -0.0476902 ,  0.62693816,  0.2964577 , -0.30067238,\n",
       "       -0.18849115, -0.3897822 ,  0.28849176,  0.60295117, -0.64460176,\n",
       "       -0.76550066, -0.15776037, -0.25695366], dtype=float32)"
      ]
     },
     "execution_count": 13,
     "metadata": {},
     "output_type": "execute_result"
    }
   ],
   "source": [
    "model.wv['客户']"
   ]
  },
  {
   "cell_type": "markdown",
   "metadata": {},
   "source": [
    "# 序列编码"
   ]
  },
  {
   "cell_type": "code",
   "execution_count": 22,
   "metadata": {
    "ExecuteTime": {
     "end_time": "2022-02-14T07:23:13.520897Z",
     "start_time": "2022-02-14T07:23:13.503891Z"
    }
   },
   "outputs": [],
   "source": [
    "# 第一个样本的第一个句子\n",
    "arr1 = np.vstack([model.wv[x] for x in train_sentence1[0]])\n",
    "\n",
    "# 第一个样本的第二个句子\n",
    "arr2 = np.vstack([model.wv[x] for x in train_sentence2[0]])"
   ]
  },
  {
   "cell_type": "code",
   "execution_count": 9,
   "metadata": {
    "ExecuteTime": {
     "end_time": "2022-01-25T02:10:45.982612Z",
     "start_time": "2022-01-25T02:10:45.974422Z"
    }
   },
   "outputs": [
    {
     "data": {
      "text/plain": [
       "(11, 64)"
      ]
     },
     "execution_count": 9,
     "metadata": {},
     "output_type": "execute_result"
    }
   ],
   "source": [
    "arr1.shape#11个词"
   ]
  },
  {
   "cell_type": "code",
   "execution_count": 10,
   "metadata": {
    "ExecuteTime": {
     "end_time": "2022-01-25T02:10:47.679535Z",
     "start_time": "2022-01-25T02:10:47.668398Z"
    }
   },
   "outputs": [
    {
     "data": {
      "text/plain": [
       "((11, 64), (7, 64))"
      ]
     },
     "execution_count": 10,
     "metadata": {},
     "output_type": "execute_result"
    }
   ],
   "source": [
    "arr1.shape, arr2.shape"
   ]
  },
  {
   "cell_type": "code",
   "execution_count": 31,
   "metadata": {
    "ExecuteTime": {
     "end_time": "2022-02-14T08:27:23.645713Z",
     "start_time": "2022-02-14T08:27:23.638710Z"
    }
   },
   "outputs": [],
   "source": [
    "def encode_sentence(sentence):\n",
    "    arr = []\n",
    "    for x in sentence:\n",
    "        arr.append(model.wv[x])\n",
    "        \n",
    "    if len(arr) == 0:\n",
    "        return np.zeros(shape=(1, 64))\n",
    "    else:\n",
    "        return np.vstack(arr)"
   ]
  },
  {
   "cell_type": "code",
   "execution_count": 32,
   "metadata": {
    "ExecuteTime": {
     "end_time": "2022-02-14T08:27:26.764085Z",
     "start_time": "2022-02-14T08:27:25.364952Z"
    }
   },
   "outputs": [],
   "source": [
    "#按句子取出每一个词的词向量\n",
    "train_sentence1_feat = [ encode_sentence(x) for x in train_sentence1]\n",
    "train_sentence2_feat = [ encode_sentence(x) for x in train_sentence2]"
   ]
  },
  {
   "cell_type": "code",
   "execution_count": null,
   "metadata": {
    "ExecuteTime": {
     "end_time": "2022-02-14T07:59:51.124784Z",
     "start_time": "2022-02-14T07:59:32.577Z"
    }
   },
   "outputs": [],
   "source": [
    "#7个单词的词向量\n",
    "encode_sentence(train_sentence2[0])"
   ]
  },
  {
   "cell_type": "markdown",
   "metadata": {},
   "source": [
    "## mean-pooling"
   ]
  },
  {
   "cell_type": "code",
   "execution_count": 33,
   "metadata": {
    "ExecuteTime": {
     "end_time": "2022-02-14T08:31:22.006563Z",
     "start_time": "2022-02-14T08:31:21.519795Z"
    }
   },
   "outputs": [
    {
     "ename": "ValueError",
     "evalue": "all the input array dimensions for the concatenation axis must match exactly, but along dimension 1, the array at index 0 has size 100 and the array at index 18353 has size 64",
     "output_type": "error",
     "traceback": [
      "\u001b[1;31m---------------------------------------------------------------------------\u001b[0m",
      "\u001b[1;31mValueError\u001b[0m                                Traceback (most recent call last)",
      "\u001b[1;32m<ipython-input-33-59e07fcb1f03>\u001b[0m in \u001b[0;36m<module>\u001b[1;34m\u001b[0m\n\u001b[0;32m      1\u001b[0m \u001b[0mtrain_sentence1_meanfeat\u001b[0m \u001b[1;33m=\u001b[0m \u001b[0mnp\u001b[0m\u001b[1;33m.\u001b[0m\u001b[0mvstack\u001b[0m\u001b[1;33m(\u001b[0m\u001b[1;33m[\u001b[0m\u001b[0mx\u001b[0m\u001b[1;33m.\u001b[0m\u001b[0mmean\u001b[0m\u001b[1;33m(\u001b[0m\u001b[1;36m0\u001b[0m\u001b[1;33m)\u001b[0m \u001b[1;32mfor\u001b[0m \u001b[0mx\u001b[0m \u001b[1;32min\u001b[0m \u001b[0mtrain_sentence1_feat\u001b[0m\u001b[1;33m]\u001b[0m\u001b[1;33m)\u001b[0m\u001b[1;33m\u001b[0m\u001b[1;33m\u001b[0m\u001b[0m\n\u001b[1;32m----> 2\u001b[1;33m \u001b[0mtrain_sentence2_meanfeat\u001b[0m \u001b[1;33m=\u001b[0m \u001b[0mnp\u001b[0m\u001b[1;33m.\u001b[0m\u001b[0mvstack\u001b[0m\u001b[1;33m(\u001b[0m\u001b[1;33m[\u001b[0m\u001b[0mx\u001b[0m\u001b[1;33m.\u001b[0m\u001b[0mmean\u001b[0m\u001b[1;33m(\u001b[0m\u001b[1;36m0\u001b[0m\u001b[1;33m)\u001b[0m \u001b[1;32mfor\u001b[0m \u001b[0mx\u001b[0m \u001b[1;32min\u001b[0m \u001b[0mtrain_sentence2_feat\u001b[0m\u001b[1;33m]\u001b[0m\u001b[1;33m)\u001b[0m\u001b[1;33m\u001b[0m\u001b[1;33m\u001b[0m\u001b[0m\n\u001b[0m\u001b[0;32m      3\u001b[0m \u001b[1;33m\u001b[0m\u001b[0m\n\u001b[0;32m      4\u001b[0m \u001b[1;32mfrom\u001b[0m \u001b[0msklearn\u001b[0m\u001b[1;33m.\u001b[0m\u001b[0mpreprocessing\u001b[0m \u001b[1;32mimport\u001b[0m \u001b[0mnormalize\u001b[0m\u001b[1;33m\u001b[0m\u001b[1;33m\u001b[0m\u001b[0m\n\u001b[0;32m      5\u001b[0m \u001b[0mtrain_sentence1_meanfeat\u001b[0m \u001b[1;33m=\u001b[0m \u001b[0mnormalize\u001b[0m\u001b[1;33m(\u001b[0m\u001b[0mtrain_sentence1_meanfeat\u001b[0m\u001b[1;33m)\u001b[0m\u001b[1;33m\u001b[0m\u001b[1;33m\u001b[0m\u001b[0m\n",
      "\u001b[1;32m<__array_function__ internals>\u001b[0m in \u001b[0;36mvstack\u001b[1;34m(*args, **kwargs)\u001b[0m\n",
      "\u001b[1;32m~\\anaconda3\\lib\\site-packages\\numpy\\core\\shape_base.py\u001b[0m in \u001b[0;36mvstack\u001b[1;34m(tup)\u001b[0m\n\u001b[0;32m    281\u001b[0m     \u001b[1;32mif\u001b[0m \u001b[1;32mnot\u001b[0m \u001b[0misinstance\u001b[0m\u001b[1;33m(\u001b[0m\u001b[0marrs\u001b[0m\u001b[1;33m,\u001b[0m \u001b[0mlist\u001b[0m\u001b[1;33m)\u001b[0m\u001b[1;33m:\u001b[0m\u001b[1;33m\u001b[0m\u001b[1;33m\u001b[0m\u001b[0m\n\u001b[0;32m    282\u001b[0m         \u001b[0marrs\u001b[0m \u001b[1;33m=\u001b[0m \u001b[1;33m[\u001b[0m\u001b[0marrs\u001b[0m\u001b[1;33m]\u001b[0m\u001b[1;33m\u001b[0m\u001b[1;33m\u001b[0m\u001b[0m\n\u001b[1;32m--> 283\u001b[1;33m     \u001b[1;32mreturn\u001b[0m \u001b[0m_nx\u001b[0m\u001b[1;33m.\u001b[0m\u001b[0mconcatenate\u001b[0m\u001b[1;33m(\u001b[0m\u001b[0marrs\u001b[0m\u001b[1;33m,\u001b[0m \u001b[1;36m0\u001b[0m\u001b[1;33m)\u001b[0m\u001b[1;33m\u001b[0m\u001b[1;33m\u001b[0m\u001b[0m\n\u001b[0m\u001b[0;32m    284\u001b[0m \u001b[1;33m\u001b[0m\u001b[0m\n\u001b[0;32m    285\u001b[0m \u001b[1;33m\u001b[0m\u001b[0m\n",
      "\u001b[1;32m<__array_function__ internals>\u001b[0m in \u001b[0;36mconcatenate\u001b[1;34m(*args, **kwargs)\u001b[0m\n",
      "\u001b[1;31mValueError\u001b[0m: all the input array dimensions for the concatenation axis must match exactly, but along dimension 1, the array at index 0 has size 100 and the array at index 18353 has size 64"
     ]
    }
   ],
   "source": [
    "train_sentence1_meanfeat = np.vstack([x.mean(0) for x in train_sentence1_feat])\n",
    "train_sentence2_meanfeat = np.vstack([x.mean(0) for x in train_sentence2_feat])\n",
    "\n",
    "from sklearn.preprocessing import normalize\n",
    "train_sentence1_meanfeat = normalize(train_sentence1_meanfeat)\n",
    "train_sentence2_meanfeat = normalize(train_sentence2_meanfeat)"
   ]
  },
  {
   "cell_type": "code",
   "execution_count": null,
   "metadata": {
    "ExecuteTime": {
     "start_time": "2022-01-25T02:09:23.280Z"
    }
   },
   "outputs": [],
   "source": [
    "len(train_sentence1_meanfeat[1])"
   ]
  },
  {
   "cell_type": "code",
   "execution_count": null,
   "metadata": {
    "ExecuteTime": {
     "end_time": "2022-02-14T08:03:03.078042Z",
     "start_time": "2022-02-14T08:00:07.479Z"
    }
   },
   "outputs": [],
   "source": [
    "#计算的是两个句子的相似度\n",
    "np.dot(train_sentence1_meanfeat[0],train_sentence2_meanfeat[0])"
   ]
  },
  {
   "cell_type": "code",
   "execution_count": null,
   "metadata": {
    "ExecuteTime": {
     "end_time": "2022-02-14T08:03:03.081038Z",
     "start_time": "2022-02-14T08:00:16.040Z"
    }
   },
   "outputs": [],
   "source": [
    "mean_pooing_distance = [np.dot(x, y) for x, y in \n",
    "                        zip(train_sentence1_meanfeat, train_sentence2_meanfeat)]\n",
    "\n",
    "# 所有样本的 句子1 与 句子2 的mean-pooing的相似度\n",
    "# 句子1 -》 100\n",
    "# 句子2 -》 100\n",
    "train_data['mean_pooing'] = mean_pooing_distance"
   ]
  },
  {
   "cell_type": "code",
   "execution_count": 17,
   "metadata": {
    "ExecuteTime": {
     "end_time": "2022-01-25T02:20:41.164122Z",
     "start_time": "2022-01-25T02:20:41.145513Z"
    }
   },
   "outputs": [
    {
     "data": {
      "text/plain": [
       "0        0.868052\n",
       "1        0.748734\n",
       "2        0.738385\n",
       "3        0.954894\n",
       "4        0.842251\n",
       "           ...   \n",
       "38645    0.819596\n",
       "38646    0.836809\n",
       "38647    0.804293\n",
       "38648    0.867659\n",
       "38649    0.938982\n",
       "Name: mean_pooing, Length: 38650, dtype: float64"
      ]
     },
     "execution_count": 17,
     "metadata": {},
     "output_type": "execute_result"
    }
   ],
   "source": [
    "train_data['mean_pooing']"
   ]
  },
  {
   "cell_type": "code",
   "execution_count": null,
   "metadata": {
    "ExecuteTime": {
     "end_time": "2022-01-25T02:20:55.664071Z",
     "start_time": "2022-01-25T02:20:48.744Z"
    }
   },
   "outputs": [],
   "source": [
    "train_data.groupby('label')['mean_pooing'].mean().plot(kind='bar')"
   ]
  },
  {
   "cell_type": "markdown",
   "metadata": {},
   "source": [
    "## max-pooling"
   ]
  },
  {
   "cell_type": "code",
   "execution_count": 29,
   "metadata": {
    "ExecuteTime": {
     "end_time": "2022-02-14T08:27:07.265418Z",
     "start_time": "2022-02-14T08:27:07.246475Z"
    }
   },
   "outputs": [
    {
     "ename": "NameError",
     "evalue": "name 'train_sentence1_feat' is not defined",
     "output_type": "error",
     "traceback": [
      "\u001b[1;31m---------------------------------------------------------------------------\u001b[0m",
      "\u001b[1;31mNameError\u001b[0m                                 Traceback (most recent call last)",
      "\u001b[1;32m<ipython-input-29-9492fa3d5031>\u001b[0m in \u001b[0;36m<module>\u001b[1;34m\u001b[0m\n\u001b[1;32m----> 1\u001b[1;33m \u001b[0mtrain_sentence1_meanfeat\u001b[0m \u001b[1;33m=\u001b[0m \u001b[0mnp\u001b[0m\u001b[1;33m.\u001b[0m\u001b[0mvstack\u001b[0m\u001b[1;33m(\u001b[0m\u001b[1;33m[\u001b[0m\u001b[0mx\u001b[0m\u001b[1;33m.\u001b[0m\u001b[0mmax\u001b[0m\u001b[1;33m(\u001b[0m\u001b[1;36m0\u001b[0m\u001b[1;33m)\u001b[0m \u001b[1;32mfor\u001b[0m \u001b[0mx\u001b[0m \u001b[1;32min\u001b[0m \u001b[0mtrain_sentence1_feat\u001b[0m\u001b[1;33m]\u001b[0m\u001b[1;33m)\u001b[0m\u001b[1;33m\u001b[0m\u001b[1;33m\u001b[0m\u001b[0m\n\u001b[0m\u001b[0;32m      2\u001b[0m \u001b[0mtrain_sentence2_meanfeat\u001b[0m \u001b[1;33m=\u001b[0m \u001b[0mnp\u001b[0m\u001b[1;33m.\u001b[0m\u001b[0mvstack\u001b[0m\u001b[1;33m(\u001b[0m\u001b[1;33m[\u001b[0m\u001b[0mx\u001b[0m\u001b[1;33m.\u001b[0m\u001b[0mmax\u001b[0m\u001b[1;33m(\u001b[0m\u001b[1;36m0\u001b[0m\u001b[1;33m)\u001b[0m \u001b[1;32mfor\u001b[0m \u001b[0mx\u001b[0m \u001b[1;32min\u001b[0m \u001b[0mtrain_sentence2_feat\u001b[0m\u001b[1;33m]\u001b[0m\u001b[1;33m)\u001b[0m\u001b[1;33m\u001b[0m\u001b[1;33m\u001b[0m\u001b[0m\n\u001b[0;32m      3\u001b[0m \u001b[1;33m\u001b[0m\u001b[0m\n\u001b[0;32m      4\u001b[0m \u001b[1;32mfrom\u001b[0m \u001b[0msklearn\u001b[0m\u001b[1;33m.\u001b[0m\u001b[0mpreprocessing\u001b[0m \u001b[1;32mimport\u001b[0m \u001b[0mnormalize\u001b[0m\u001b[1;33m\u001b[0m\u001b[1;33m\u001b[0m\u001b[0m\n\u001b[0;32m      5\u001b[0m \u001b[0mtrain_sentence1_meanfeat\u001b[0m \u001b[1;33m=\u001b[0m \u001b[0mnormalize\u001b[0m\u001b[1;33m(\u001b[0m\u001b[0mtrain_sentence1_meanfeat\u001b[0m\u001b[1;33m)\u001b[0m\u001b[1;33m\u001b[0m\u001b[1;33m\u001b[0m\u001b[0m\n",
      "\u001b[1;31mNameError\u001b[0m: name 'train_sentence1_feat' is not defined"
     ]
    }
   ],
   "source": [
    "train_sentence1_meanfeat = np.vstack([x.max(0) for x in train_sentence1_feat])\n",
    "train_sentence2_meanfeat = np.vstack([x.max(0) for x in train_sentence2_feat])\n",
    "\n",
    "from sklearn.preprocessing import normalize\n",
    "train_sentence1_meanfeat = normalize(train_sentence1_meanfeat)\n",
    "train_sentence2_meanfeat = normalize(train_sentence2_meanfeat)\n",
    "\n",
    "max_pooing_distance = [np.dot(x, y) for x, y in \n",
    "                        zip(train_sentence1_meanfeat, train_sentence2_meanfeat)]\n",
    "train_data['max_pooing'] = max_pooing_distance"
   ]
  },
  {
   "cell_type": "code",
   "execution_count": null,
   "metadata": {
    "ExecuteTime": {
     "end_time": "2022-02-14T07:38:01.670341Z",
     "start_time": "2022-02-14T07:37:25.241Z"
    }
   },
   "outputs": [],
   "source": [
    "train_data.groupby('label')['max_pooing'].mean().plot(kind='bar')"
   ]
  },
  {
   "cell_type": "markdown",
   "metadata": {},
   "source": [
    "## TFIDF Pooling"
   ]
  },
  {
   "cell_type": "code",
   "execution_count": 14,
   "metadata": {
    "ExecuteTime": {
     "end_time": "2022-02-14T07:58:24.403253Z",
     "start_time": "2022-02-14T07:58:23.862118Z"
    }
   },
   "outputs": [
    {
     "data": {
      "text/plain": [
       "TfidfVectorizer(max_features=100000)"
      ]
     },
     "execution_count": 14,
     "metadata": {},
     "output_type": "execute_result"
    }
   ],
   "source": [
    "from sklearn.feature_extraction.text import TfidfVectorizer\n",
    "\n",
    "tfidf = TfidfVectorizer(max_features=100000)\n",
    "tfidf.fit([' '.join(x) for x in train_sentence1 + train_sentence2])"
   ]
  },
  {
   "cell_type": "code",
   "execution_count": 11,
   "metadata": {
    "ExecuteTime": {
     "end_time": "2022-02-14T07:41:00.749969Z",
     "start_time": "2022-02-14T07:41:00.439414Z"
    }
   },
   "outputs": [
    {
     "data": {
      "text/plain": [
       "['蚂蚁 借 呗 等额 还款 可以 换成 先息 后 本 吗 借 呗 有 先息 到期 还本 吗',\n",
       " '蚂蚁 花 呗 说 我 违约 一次 蚂蚁 花 呗 违约 行为 是 什么',\n",
       " '帮 我 看 一下 本月 花 呗 账单 有没有 结清 下 月 花 呗 账单',\n",
       " '蚂蚁 借 呗 多长时间 综合 评估 一次 借 呗 得 评估 多久',\n",
       " '我 的 花 呗 账单 是 ， 还款 怎么 是 我 的 花 呗 ， 月 结出 来说 让 我 还 元 ， 我 自己 算了 一下 详细 名单 我 应该 还元',\n",
       " '蚂蚁 借 呗 的 额度 可以 从 申请 不 蚂蚁 借 呗 节假日 可以 借款 吗',\n",
       " '商家 怎么 开通 花 呗 支付 为什么 无法 开通 花 呗',\n",
       " '用花 呗 怎么 买 不了 车票 我 是 问用 蚂蚁 花 呗 ， 为什么 买 不了 火车票',\n",
       " '如 升级 为 网商贷 用户 而 借 呗 的 欠款 怎么 还 我 借 呗 已 还清 ， 为什么 升级 不了 网商贷',\n",
       " '花 呗 不 消费 有没有 年费 花 呗 不用 就 不会 产生 费用',\n",
       " '支付宝 系统 点 我 的 里面 没有 花 呗 这 一项 我 下载 支付宝 怎么 没有 花 呗 的',\n",
       " '用花 呗 淘宝 购物 ， 花 呗 已经 还清 了 ， 但是 东西 不 想要 申请 退款 了 ， 钱会 退 到哪去 在 淘宝 买 衣服 用花 呗 支付   然后 申请 退款 了   这笔 钱 退 到 哪里',\n",
       " '花 呗 标示 的 商品 花 呗 识别 的 商品',\n",
       " '花 呗 自动 从 余额 宝 扣款 ， 需要 我 自己 设置 吗 支付宝 余额 会 自动 还花 呗 吗',\n",
       " '花 呗 提前 结清 会 影响 使用 吗 我 的 花 呗 分期 不能 提前 结清',\n",
       " '花 呗 逾期 一天 怎么办 花 呗 逾期 一天 会 影响 芝麻 信用 吗',\n",
       " '花 呗 消费 超过 额度 有 什么 影响 吗 花 呗 额度 成 负数 有 啥 影响 吗',\n",
       " '还款 还清 了 ， 为什么 花 呗 账单 显示 还要 还款 花 呗 全额 还清 怎么 显示 没有 还款',\n",
       " '我 的 花 呗 背 限额 了 吗 花 呗 临时 额度 有 限额 吗',\n",
       " '花 呗 为什么 会 几个 月 没有 提升 额度 我 这个 支付宝 怎么 没有 花 呗 额度',\n",
       " '花 呗 一次性 付款 有 限制 吗 解除 花 呗 支付 限制',\n",
       " '为什么 我 开通 不了 花 呗 我 一直 想 买 苹果 p ， 没 钱 ， 想 分期付款 ， 除了 花 呗 ， 还有 什么 可以',\n",
       " '可以 用 其他 的 银行卡 还 蚂蚁 借 呗 的 钱 吗 蚂蚁 借 呗 昨天 借 的 钱 今天 就 到 还款 日',\n",
       " '花 呗 分期 还款 会 影响 芝麻 信用 分 吗 花 呗 额度 为付 影响 信用度 吗',\n",
       " '花 呗 不 可以 用 密码 开通 吗 花 呗 可以 用 银行卡 开通 吗',\n",
       " '花 呗 分期 提前 还款 要 滞纳金 吗   手续费 怎么 算 花 呗 分期 退款 手续费',\n",
       " '手机 关闭 花 宝贝 怎么 做 怎样 扫描 手机 支付宝',\n",
       " '港澳 人士 能用 花 呗 吗 港澳 通行证 可以 用花 呗 吗',\n",
       " '借 呗 周期 有个 月 吗 借 呗 之前 最长 不是 个 月 吗',\n",
       " '借 呗 一般 是 多久 评估 大概 多久 评估 一次 借 呗 条件',\n",
       " '么 ， 这个 是不是 我 现在 不能 不能 用花 呗 我 的 花 呗 不能 用 了 是 吧',\n",
       " '这个 蚂蚁 花 呗 能 恢复正常 用 不 我 的 蚂蚁 花 呗   怎么 用 不了',\n",
       " '蚂蚁 借 呗 提前 还 分期 提前 还 一部分 ， 超过 分期 ， 不够 欠 的 总额 蚂蚁 借 呗 可以 分期 借 不',\n",
       " '把 你们 花 呗 的 电话 给 我 给 花 呗 打电话',\n",
       " '为什么 我 的 花 呗 不能 买 车险 我 在 花 呗 买 的 车险 ， 为什么 不送 单',\n",
       " '要是 不用 花 呗   还 需要 还 吗 不用 花 呗 里面 的 钱   是不是 就 可以 不 还款 了',\n",
       " '当前 交易 不 支持 花 呗 付款 怎么回事 该 付款 不 支持 花 呗 是 什么 意思',\n",
       " '花 呗 分期 是从 什么 时候 开始 花 呗 分期 的 钱 什么 时候 扣除',\n",
       " '我 的 有 花 呗 额度 挺 多 我 的 花 呗 总额 度 是不是 降下来 了',\n",
       " '花 呗 收款 开通 报错 商家 用 一个 营业执照 可以 开通 几个 花 呗 收款',\n",
       " '我 之前 手机 绑定 的 支付宝 账户 ， 用 的 花 呗 ， 现在 手机号码 已经 不用 了 ， 就是 我 手机号码 ， 现在 解绑 可以 解 吗 个人 申请 的 支付宝 证号 可以 申请 开通 花 呗 和 信用卡 收款 码 的',\n",
       " '我 昨天 用花 呗 付 了 小 黄车 定金 ， 退回来 了 现在 花 呗 能付 小 黄车 押金',\n",
       " '我 的 花 呗 是 另外 一个 手机号 ， 但 现在 手机号 不用 了 我换 手机号 了 ， 花 呗 怎么办',\n",
       " '借 呗 信用 到 多少 可以 借款 达到 多少 额度 可以 申请 借 呗',\n",
       " '昨天晚上 借 呗 借 了 ， 怎么 还 没到 账 申请 的 蚂蚁 借 呗 怎么 还 没到 账 了',\n",
       " '网商贷 换回 借 呗 贷 … … 晕 网商 贷要 怎么 换借 呗',\n",
       " '账单 都 还 清楚 了 ！ 怎么 花 呗 不能 用 了 为什么 我 的 花 呗 还款 后 还 不能 用',\n",
       " '我能 查看 用花 呗 买 什么 东西 吗 花 呗 都 能 购买 那些 东西',\n",
       " '花 呗 分期 提前 还 完 不 可以 吗 花 呗 分期 能 提前 全部 还清',\n",
       " '花 呗 不是 申请 的 吗 ， 是 系统 自动 开通 的 花 呗 是 不能 关闭 么',\n",
       " '借 呗 提前 还款 为什么 限额 蚂蚁 借 呗   提前 还款 可以 吗',\n",
       " '花 呗 二维码 在 那里 花 呗 二维码 支付 码 商家 怎么 申请',\n",
       " '花 呗 分期 最 多 只能 分期 花 呗 三期 利息 是 多少 呀',\n",
       " '今天 花 呗 ， 几日 还款 我歉 的 花唄 等 几天 还款',\n",
       " '我 的 另 一个 账号 开 通过 花 呗 借 呗   刚刚 注销 了 开通 不了 花 呗 体验 额度',\n",
       " '花 呗 怎么 退 了 用花 呗 交 的 押金 ， 怎么办',\n",
       " '退款 成功 也 就是 把 钱 退 给 花 呗 了 ！ 又 不是 退 给 我 我想查 一下   我 的 花 呗 一月份 的 退款',\n",
       " '美团 能 用 花 呗 妈 在 美团 怎么 用花 呗 支付',\n",
       " '我 的 商家 收钱 码 为什么 不能 使用 花 呗 ， 我 开通 的 有 花 呗 商家 开通 了 花 呗 支付 ， 为什么 不能 付款',\n",
       " '蚂蚁 借 呗 额度 如何 取消 取消 蚂蚁 贷款',\n",
       " '怎样 查询 花 呗 总共 欠 多少 钱 怎样 查看 花 呗 的 全额',\n",
       " '花 呗 钱 什么 时候 变多 月份 的 花 呗 额度 什么 时候 到 账',\n",
       " '用花 呗 在 淘宝 买 东西 。 淘宝 还 没 到货 就 已经 还款 了 。 怎么办 我用 花 呗 买 了 东西 但是 我 退货 了   钱 没到 花 呗 我 就 还 了   然后 退回来 的 钱   会到 哪里 去',\n",
       " '花 呗 未出 账单 不 可以 分期 花 呗 花 呗 有 账单 为什么 不 可以 分期',\n",
       " '花 呗 什么 时候 才 可以 提现 我 的 花 呗 什么 时候 才 可回复 使用',\n",
       " '借 呗 已 授权 不能 用 有 借 呗 的 页面 可是 不能 用',\n",
       " '我 的 花 呗 无法 使用   怎么 回复 使用 为什么 我 的 花 呗 还 不能 正常 使用',\n",
       " '开通 花 呗 了 ， 淘宝 使用 不了 怎么回事 淘宝 上 为何 不能 使用 花 呗',\n",
       " '花 呗 抽天 猫券放 哪 了 花 呗 抽 了 元 天猫 抵用券 到哪去 了',\n",
       " '借 呗 借 呗 ， 今天 还 没 扣款 借 呗 还款 金额 未扣',\n",
       " '用 蚂蚁 花 呗 缴费 产生 能量 球 吗 使用 花 呗 能 收集 蚂蚁 深林 能量 不',\n",
       " '我点 花 呗 ， 怎么 显示 之前 绑定 手机号 花 呗 手机号 和 绑定 手机号 不 一致',\n",
       " '我 的 花 呗 ， 开通 了 开通 花 呗 支付宝 账号 忘记 账号 了',\n",
       " '实体店 能花 呗 收款 么 怎么 才能 花 呗 ， 信用卡 收款',\n",
       " '花 呗 充 话费 在 哪个 界面 在 那里 用花 呗 充值 话费',\n",
       " '借 呗 提前 还款 还 可以 借 吗 借 呗 欠款 未 还清 ， 还 能 再 借 吗',\n",
       " '为什么 我 只要 用 支付宝 付钱 花 呗 就 会 被 扣钱 为什么 用 了 花 呗 银行卡 里 还 被 扣钱 了',\n",
       " '支付宝 花 呗 显示 可以 用 其他 账号 使用 花 呗 可以 转让 另 一个 支付宝 吗',\n",
       " '油卡 充值 可以 使用 花 呗 吗 加油卡 花 呗 可以 不',\n",
       " '蚂蚁 借 呗 提前 还 一半 钱 蚂蚁 借 呗 手续费',\n",
       " '我 明天 晚上 还花 呗 花 呗 晚 还 了 一天',\n",
       " '已 还 请 花 呗 的 钱 ， 怎么 还是 无法 使用 花 呗 我 的 花 呗 额度 怎么 不 可以 使用',\n",
       " '用 话费 付 的 钱 ， 但是 显示 退款 了 ， 为什么 花 呗 里面 没有 显示 我 的 余额 退到 花 呗 为什么 没有 显示 余额',\n",
       " '说 暂时 无法 开通 花 呗 我 开通 不了 花 呗',\n",
       " '花 呗 收钱 钱码 关闭 如何 关闭 信用卡 和 花 呗 收款 服务',\n",
       " '花 呗 是 怎么 一 回事 吗 花 呗 怎么 玩 吗',\n",
       " '借 呗 逾期 多久 罚款 蚂蚁 借 呗 逾期 几天 还款',\n",
       " '我 这 借 呗 怎么 给 我 关闭 了 我 的 信用 一直 很 好 ， 怎么 借 呗 就 停 了',\n",
       " '借 呗 的 还款期 数 可以 改 吗 借 呗 能 修改 还款 方式 吗',\n",
       " '用花 呗   蚂蚁 森林 能 产生 能量 吗 花 呗 会 产生 能量 吗',\n",
       " '我用 花 呗 交 了 电费 我 从 花 呗 交 的 电费 交错 了',\n",
       " '借 呗 被 限制 借款 了 ， 还 可以 在 开通 吗 年龄 没有 达到 可以 开通 借 呗 吗',\n",
       " '花 呗 还款 成功 可以 撤回 吗 我 可以 撤回 帮 还 花 呗 的 邀请 吗',\n",
       " '我 今天 用 了 花 呗 我 的 还款 日 是 什么 时候 比如 我 今天 月末 最后 一天 用 的 花 呗 下个月 月初 才 发货 那 我 的 花 呗 是 下个月 还 还是 下下个月 还',\n",
       " '花 呗 返现 周卡 是 什么 月 的 花 呗 返现 怎么 还 没 给',\n",
       " '临时 花 呗 额度 啥时候 还 上 一个月 冻结 花 呗 额度   什么 时候 还 回来',\n",
       " '如何 关闭 借 呗 开 网贷 我 想 关闭 网上 贷 ， 然后 打开 蚂蚁 借 呗',\n",
       " '自动 还款   花 呗 是 什么 这花 呗 自动 还款 怎么回事',\n",
       " '我 说 的 借 呗 分期 借 呗 可以 在 淘宝 分期 吗',\n",
       " '花 呗 是 没 关闭 吗 我 现在 的 花 呗 是 关闭 状态 是 么',\n",
       " '花 呗 怎么 才 不算 逾期 蚂蚁 花 呗 逾期 怎么',\n",
       " '为何 现在 花 呗 不 支持 充值 花 呗 为什么 没 办法 支持 话费 充值',\n",
       " '开通 余额 宝 代扣 功能 还款 蚂蚁 花 呗 蚂蚁 花 呗 余额 宝 代扣 协议 怎么 开通',\n",
       " '花 呗 还款 日期 那 一天 算是 最后 一天 花 呗 最晚 还款 日期',\n",
       " '信用卡 对账 和 花 呗 有 什么 关系 花 呗 ， 信用卡 有 什么 区别',\n",
       " '我 的 花 呗 怎么 会 欠款 泥 我 都 没 欠花 呗 钱 ， 怎么 老是 发 信息 来',\n",
       " '申请 额度 和 借 呗 借 呗 最高 额度',\n",
       " '开通 蚂蚁 花 呗 需要 多少 分 花 呗 要 多少 信用 额度 才 可以 开通',\n",
       " '我用 蚂蚁 花 呗 确认 收货 的 时间 是 不 一样 的 ， 还款 期限 也 是 一样 的 嘛 确认 收货 时间 与 花 呗 还款 时间 有关 吗',\n",
       " '借 呗 信用 不够 怎么 才 可以 用 借 呗 借 呗 怎么 可以 用',\n",
       " '借 呗 显示 放款 到 银行卡 了 怎么 银行卡 里 还是 没有 到 账 我 的 借 呗 款 为什么 没有 到 账',\n",
       " '花 呗 收款 也 是 这个 吗 每天 二维码 花 呗 收款 限额 吗',\n",
       " '花 呗 冻结 了 什么 时候 才能 解冻 花 呗 被 冻结 怎么样 解开',\n",
       " '怎么样 提前 还花 呗 的 分期 账单 怎么样 提前 还清 花 呗 分期',\n",
       " '以借 呗 提前 还款 ， 为什么 不能 还款 了 借 呗 提前 还款 一月',\n",
       " '邮政储蓄 是否 支持 花 呗 还款 借 呗 还款 目前 暂 不 支持 绑定 的 邮政储蓄 卡 进行 代扣 是 什么 意思',\n",
       " '花 呗 最低 还款 会 不会 扣 信誉 花 呗 最低 还款 影响 信用 吗',\n",
       " '如何 增加 ？ 蚂蚁 借 呗 额度 蚂蚁 借 呗 要 怎么样 才能 提升 额度',\n",
       " '花 呗 怎么 的 看 借款 总金额 怎样 看花 呗 总 需 还款额',\n",
       " '可以 帮 我 冻结 花 呗 吗 里 冻结 花 呗 额度',\n",
       " '没 没有 试用 花 呗 呀 我 想 试用 花 呗',\n",
       " '开通 花 呗 不用 没什么 影响 吧 花 呗 开通 后 不 使用 扣 不 扣钱',\n",
       " '扫 个人 收钱 码 ， 为什么 不能 用花 呗 收钱 码 为什么 不能 使用 花 呗',\n",
       " '花 呗 退款 还要 收费 吗 花 呗 退 的 款 有 利息 吗',\n",
       " '我 怎么 还 没花 呗 我 的 花 呗 还 没有 开户',\n",
       " '借 呗 第一笔 提前 还款 借 呗 分期 后能 提前 还清 吗',\n",
       " '花 呗 分期 怎么 买 电脑 花 呗 分期 账单 提前 还清 怎么 搞',\n",
       " '花 呗 冻结 了 怎么 才能 解除 我 的 花 呗 冻结 了 ， 什么 时候 才能 解除 冻结',\n",
       " '蚂蚁 花 呗 还 钱 ， ， 号 之前 还款 ， 那 九号 当天 还 可以 吗 花 呗 还款 是 号 前 ， 号 当天 还 可以 吧',\n",
       " '借 呗 有没有 免息 券 借 呗 免息 券',\n",
       " '我 的 自己 的 超市 ， 我 开通 了 花 呗 消费 怎么 还 收取 我 的 手续费 我 自己 是 用 花 呗 的   他 用 余额 宝',\n",
       " '我 的 花 呗 最后 还款 日为 号 ， 我 十号 还 算不算 逾期 花 呗 号 还款   十号 还 中 不',\n",
       " '网商 贷好 还是 借 呗 好 借 呗 利息 比网 商贷 低 呀',\n",
       " '花 呗 和 借 呗 能 用 的 额度 有 差距 吗 花 呗 分期 和 花 呗 用 的 一个 额度 吗',\n",
       " '蚂蚁 借 呗 提前 还款 有 手续费 大概 多少 原先 蚂蚁 借 呗 都 没有 手续费',\n",
       " '借 呗 有 额度 就 可以 借 吗 借 呗 还款 日 还 进去 了 还 可以 借 吗',\n",
       " '我 的 花 呗 账单 有 我 不 记得 是 买 什么 我花 呗 块 是 买 什么',\n",
       " '为什么 我 的 花 呗 不 在 支付宝 里面 ， 在 淘宝 里面 支付宝 花 呗 没 看见 我 的 有 余额',\n",
       " '为什么 我 开通 花 呗 需要 人脸 为什么 花 呗 不批 额度',\n",
       " '用 电脑 客户端 可以 开通 花 呗 么 电脑 能 开通 花 呗 吗',\n",
       " '为什么 借 呗 都 用 不了 我 在 借 呗 怎么 借 不了 钱',\n",
       " '花 呗   能 用 多少 花 呗 最高 借 多少',\n",
       " '怎么 要求 花 呗 退款 花 呗 支付 怎么 退款',\n",
       " '使用   花 呗   必须 绑定 银行卡 吗 花 呗 可以 绑定 别人 的 银行卡 吗',\n",
       " '自己 调整 了 借 呗 额度 可以 调整 回来 吗 蚂蚁 借 呗 额度 可以 自己 设置',\n",
       " 'q 钱 退 到 花 呗 里 。   我 是 信用卡 支付 的 但是 如果 他 退 到 花 呗 里面 去 ， 但是 我 已经 还 了 花 呗 的 钱 了',\n",
       " '蚂蚁 借 呗 什么 时间 还款 借 呗 还款 日 当天 什么 时候 都 可以 吗',\n",
       " '花 呗 提升 额度 往里面 转 了 元 如何 取出 花 呗 额度 如何 提升',\n",
       " '我 是 还 没发 退款 的 ， 退款 到 了 花 呗 还是 金额 没 变动 花 呗 用 出去 ， 但是 退款 了 ， 还款 还是 木 有变 的',\n",
       " '蚂蚁 借 呗 怎么 利息 不同 为什么 借 呗 的 利息 每个 人 的 都 不 一样',\n",
       " '有 哪些 超市 支持 花 呗 付款 超市 购买 东西 可以 用花 呗 支付 吗',\n",
       " '怎么 能 彻底 删除 花 呗 花 呗 明细 如何 删除',\n",
       " '为什么 我 的 借 呗 今天 到期 不 扣款 中午 点 自动 扣款   借 呗 为什么 没扣',\n",
       " '密付 可以 当 使用 花 呗 吗 密付 。 能用 花 呗 吗',\n",
       " '花 呗 分期 购物 ， 临时 额度 领取 花 呗 额度 能 分期 购物 吗',\n",
       " '花 呗 逾期 被 停用 怎么 才能 恢复 使用 蚂蚁 花 呗 逾期 被 停止使用   如何 再次 使用',\n",
       " '借 呗 利率 为什么 和 别人 的 不 一样 为什么 我 的 借 呗 收 万分 四',\n",
       " '开通 商家 维码 是不是 必须 开通 花 呗 花 呗 收款 商家 怎么 开通',\n",
       " '滴滴 打车 可以 用花 呗 给 吗 花 呗 可以 用 在 哪些地方',\n",
       " '我 的 支付宝 为什么 不 可以 用花 呗 我 的 花 呗 ！ 什么 情况',\n",
       " '我 的 蚂蚁 借 呗 怎么 关闭 了 我 的 借 呗 已经 有 一万 六 的 额度 ， 今天 登录 支付宝 一看 怎么 没有 入口 了',\n",
       " '怎样 设置 信用卡 花 呗 收款 怎么 开通 ， 信用卡 和 花 呗 收款',\n",
       " '我 想 蚂蚁 借 呗 最高 金额 有 上线 么 借 呗 有 最高 额度 限制 吗',\n",
       " '如果 花 呗 ， 忘记 还款 ， 自己 在 余额 宝里 扣除 花 呗 还 钱 ， 可以 自动 从 余额 宝 扣除 吗',\n",
       " '花 呗 额度 用 了 要 还款 吗 还花 呗 能 用 集分宝 抵扣 吗',\n",
       " '借 呗 怎么 还 了   还是 没 额度 为什么 借 呗 额度 不 固定',\n",
       " '网商贷 怎么样 变借 呗 能 把 网商贷 换成 借 呗 吗',\n",
       " '花 呗 还款 想 还 最低 额 却 还 多 了 怎么办 已经 还 了 花 呗 最低 还款 ， 为啥 还 扣钱',\n",
       " '花 呗 怎么 如何 还款 我 想 还 花 呗 款项',\n",
       " '现在 支付宝 不能 花 呗 交 电费 吗 你们 说 的 花 呗 在 什么 情况 下 不用 付 利息',\n",
       " '我 有 一笔 花 呗 还款 吗 我 怎么 没法 还花 呗',\n",
       " '怎么 能 降低 蚂蚁 借 呗 借 呗 可以 降额 么',\n",
       " '蚂蚁   借 呗 借款 多长时间 放款 蚂蚁 借 呗 ， 什么 时候 放款',\n",
       " '有个 有 花 呗 ， 怎么 有 一个 没有 花 呗 怎么 消失 了',\n",
       " '现在 使用 的 花 呗 我 主动 还款 什么 提升 额度 为什么 每个 月 都 按时 还款 ， 花 呗 额度 还 不 提升',\n",
       " '我 的 退款 到哪去 了 ？ 我 是 提前 还款 花 呗 ， 但是 收到 货 产生 退货 退款 ， 卖家 退回 花 呗 了 ， 那 我 的 钱 到哪去 了 我 之前 的 花 呗 已经 还清 了 ， 但是 我 在 淘宝 上 买 的 东西 退货 退钱 了 又 退 到 了 花 呗 上面 ， 那钱 去 哪 了',\n",
       " '想查 上个月 的 花 呗 账单 把 我 花 呗 这个 月 的 账单 发给 我 一下',\n",
       " '花 呗 还款 每月 最 晚 几号 不 影响 信誉 花 呗 马上 还 ， 不要 影响 信用',\n",
       " '蚂蚁 借 呗 和 蚂蚁 花 呗 一样 花 呗 和 蚂蚁 借 呗 是 一 回事 吗',\n",
       " '我 没有 点花 呗 锅上 飘 火锅 支付 ， 花 呗 付款 我 没有',\n",
       " '借 呗 手动 提前 还款 借 呗 分期 还款 了 能 提前 还 吗',\n",
       " '为什么 我 在 超市 买 东西 不 可以 用花 呗 付款 花 呗 可以 在 那些 超市 刷',\n",
       " '蚂蚁 借 呗 提前 还款 一个月 这个 月 还 需要 再次 还款 吗 提前 把 蚂蚁 借 呗 分期 的 钱 还 了 ， 账单 日 还 扣款 吗',\n",
       " '换 手机号 能 开通 花 呗 吗 手机号码 可以 开通 使用 花 呗 吗',\n",
       " '怎么 看借 呗 还款 的 哪个 账单 借 呗 账单 怎么 看',\n",
       " '借 呗 为 和 又 又 把 我关 了 我 的 蚂蚁 借 呗 怎么 还关 了',\n",
       " '我 找 不到 蚂蚁 借 呗 这个 功能 ， 而且 无法 开通 无法 开通 借 呗 功能',\n",
       " '借 呗 还款 需要 身份证 正 反照 吗 借 呗 必须 要照 身份证 照 么',\n",
       " '借 呗 分期 为什么 只能 六个月 借 呗 最 多 只能 按 六个月 吗',\n",
       " '为什么 商家 支持 花 呗 ， 而 我 用 不了 我 的 花 呗 为什么 好多 线下 支付 不了',\n",
       " '支付宝 花 呗 开通 了 ， 淘宝 为什么 没 开通 为什么 我 的 买家 可以 开通 花 呗 ， 我 的 卖家 为什么 不能 开通 花 呗 嘞',\n",
       " '我 什么 时候 可以 开通 支付宝 花 呗 花 呗 何时能 开通',\n",
       " '蚂蚁 借 呗 提前 还款 ， 对 用户 有 什么 影响 吗 借 呗 提前 还清 影响 信用 吗',\n",
       " '我 的 意思 是 ， 要 像 刚 申请 支付宝 那种 状态 ， 没有 借 呗 能 不能 把 我 借 呗 关闭 成 没 开通 状态',\n",
       " '为什么 我 的 花 呗 和 余额 宝在 淘宝 上用 不了 我 现在 手机 上 是 两个 支付宝 ， 在 淘宝 上 这个 支付宝 账号 为啥 花 呗 不能 用',\n",
       " '花 呗   还款 怎么 还 不 知道 怎样 还花 呗',\n",
       " '我 的 花 呗 有 余额 怎么办 花 呗 怎么 和 我 的 花销 有 出处',\n",
       " '花 呗 借 呗 美 还款 花 呗 退款 了 ， 钱 哪 去 了',\n",
       " '蚂蚁 借 呗 还款 后 额度 是否 会 恢复 蚂蚁 借 呗 还款 后 多久 额度 能 恢复',\n",
       " '花 呗 还清   额度 不 对 花 呗 长期 分期 还会 不会 影响 提升 额度',\n",
       " '花 呗 最 多 可以 分期 多少 我 可以 花 呗 透支 吗',\n",
       " '花 呗 钱己 经 还 了 ， 后面 退 了 款 的 钱 退 到 那里 之前 的 花 呗 已 还 ， 但 后来 有 笔花 呗 退款',\n",
       " '你 可以 帮 我 删掉 借 呗 里 的 账单 记录 吗 蚂蚁 借 呗 还款 记录 可以 清除 吗',\n",
       " '号 当 天花 呗 消费 是 算 当月 的 ， 还是 次 月 的 账单 我 一号 过后 用 的 花 呗 支付 ， 是 当月 还 还是 下 月 还',\n",
       " '借 呗 升级 网商 贷款 借 呗 升级 网上 贷',\n",
       " '我 的 花 呗 逾期 两个 月 了 现在 还款 还 能 用 吗 花 呗 逾期 填 还 掉 后 还 能 不能 用',\n",
       " '我 之前 在 淘宝 用花 呗 消费 ， 还款 后 ， 选择 了 退货 ， 退回来 的 钱 的 去向 是 哪里 退款 到 花 呗 ， 可 我 的 账单 已经 还 了 ， 那 这笔 钱 在 哪',\n",
       " '借 呗 什么 时候 会到 账 借 呗 蚂蚁 几天 到 账',\n",
       " '重复 收取 花 呗 服务费 花 呗 收款 收取 服务费 什么 意思',\n",
       " '开通 花 呗 显示 另 一个 账户 已 开通 ， 我要 怎么 开通 显示 另 一个 账户 开通 花 呗',\n",
       " '蚂蚁 借 呗 额度 跟 银行卡 有 关系 吗 网商 银行借款 和 蚂蚁 借 呗 一样 吗',\n",
       " '花 呗 已经 分期 的 可以 一次 还款 吗 花 呗 欠款 元 ， 然后 我 分期付款 ， 到 下 一个月 日前 可以 一次 还清 元 吗',\n",
       " '花 呗 差 一百元 额度 花 呗 额度 评测',\n",
       " '蚂蚁 借 呗 手机 预留 号码 不是 我 现在 用 的 手机号 怎么办 怎么 花 呗 的 手机号码 和 我 支付宝 的 号码 不 一样',\n",
       " '花 呗 在 号 前 还 完后 再 用 可以 下个月 再 还款 吗 花 呗 转入 下个月 账单 后 还 可以 分期 还款 吗',\n",
       " '支付宝 能 用 就是 花 呗 给 借 呗 都 没有 用 为什么 我 的 支付宝 里 没有 花 呗 功能',\n",
       " '怎么 把 花 呗 的 款 补上 花 呗 怎么 领 饲料',\n",
       " '花 呗 点 进去 总是 提示 系统 繁忙 打开 花 呗 显示 系统 繁忙 ， 请 稍后 再试',\n",
       " '小蓝 单车 花 呗 支付 的 押金 怎么 退 我用 花 呗 支付 小蓝 单车 押金 ， 怎么 不 退还',\n",
       " '怎样 看 我 是否 开通 了 花 呗 你 看 一下 我 的 花 呗 收款 服务 开通 了 没有',\n",
       " '蚂蚁 借 呗 还款 最高 额度 是 多少 这个 借 呗 的 额度 额度 最高 是 多少',\n",
       " '为什么 会 有 自动 还款   花 呗 查是 自动 还款 花 呗',\n",
       " '怎样 查看 花 呗 全部 还清 如何 查看 花 呗 还款 日',\n",
       " '花 呗 使用 可以 分期 操作 几次 花 呗 分期 能 用 几次',\n",
       " '花 呗 是不是 可以 随时 还 花 呗 可不可以 随时 还款',\n",
       " '为什么 花 呗 降额 了 花 呗 额度 降 一半',\n",
       " '花 呗 这里 没有 看到 还款 怎么办 退回 的 钱 怎么 没 看到 花 呗',\n",
       " '花 呗 分期 后   还 能 用 吗 分期付款 这个 月 还 能 使用 花 呗',\n",
       " '密付 是 用 花 呗 还是 余额 花 呗 不 可以 用密付 付款 吗',\n",
       " '借 呗 还款 日期 怎么 是 最长 六个月 了 可不可以 调整 借 呗 还款 日期',\n",
       " '分期 花 呗 不够 钱分 差点 不够 钱 买手机 ， 花 呗 不够',\n",
       " '我 的 蚂蚁 借 呗 功能 怎么 没有 为啥 我 的 蚂蚁 借 呗 不 显示',\n",
       " '花 呗 账单 可以 重新 申请 分期 么 花 呗 分期 了 账单 下个月 还 能 申请 分期 吗',\n",
       " '为什么 花 呗 不能 使用 了 花 呗 很久用 不了 了',\n",
       " '多少 额度 才 可以 用 借 呗 需要 多少 额度 能 开通 借 呗',\n",
       " '花 呗 分过 了 ， 分过 的 还 可以 再 分期 么 上个月 分期 了 花 呗 账单 ， 这个 月 还 可以 再 分期 吗',\n",
       " '为啥 我 的 花 呗 不能 充 话费 了 花 呗 用 不了',\n",
       " '我用 花 呗 怎么 买 不了 手机 我 的 花 呗 额度 刚刚 显示 双十 一 增加 了 临时 额度   这个 怎么 使用',\n",
       " '昨天 花 呗 到期 ， 影响 吗 ， 算 逾期 吗 花 呗 逾期 一天 要紧 嘛',\n",
       " '我 想 了解 一下 花 呗 分期 还款 的 费用 花 呗 怎样 分期 还款',\n",
       " '花 呗 和 借 呗 是否 可以 协商 还款 花 呗 逾期 后 还款 后 是否 可以 继续 使用',\n",
       " '花 呗 分期 会 对 个人信用 不好 吗 花 呗 分期 对 分数 有 影响 吗',\n",
       " '为什么 蚂蚁 借 呗 里 借 多久 的 选项 中 只有 六个月 我 得 借 呗 为什么 只能 分 六个月',\n",
       " '我 的 首页 怎么 都 没有 蚂蚁 借 呗 我 的 蚂蚁 借 呗 啥时候 能够 开通',\n",
       " '我 的 借 呗 咋 不见 了 关闭 我 还 能 用 借 呗',\n",
       " '借 呗 钱 还 没有 还 完 ， 再 继续 借 有没有 影响 借 呗 没 还 完 可以 继续 借',\n",
       " '花 呗 逾期 不 还 按 利息 怎么 算 花 呗 逾期 , 逾期 费用 怎么 算',\n",
       " '花 呗 部分 部分 还款 花 呗 ， 还有 其它 还款 方式 吗',\n",
       " '朋友 代付 朋友 可以 用花 呗 帮 我 付款 吗 可以 用花 呗 帮 好友 代付 么',\n",
       " '我 的 账户 开通 不了 花 呗 收钱 怎么回事 我 是 卖家 ， 无法 开通 花 呗 支付',\n",
       " '开通 花 呗 之后 ， 天猫 超市 送 了 张元 的 券 ， 购物满 今天 我 开通 了 花 呗 ， 新人 天猫 超市 有 一百 九九 减 一百 的 券 ， 今天 可以 用 吗',\n",
       " '借 呗 借款 分期 后 到期 还 可以 再 分期 还款 吗 蚂蚁 借 呗 能 分期 后能 再次 分期 吗',\n",
       " '我 的 借 呗 怎么 开 不了 借 呗 为何 用 不了 了',\n",
       " '花 呗 怎么 才能 使用 临时 额度 我 需要 花 呗 临时 额度',\n",
       " '银行卡 支付 了 什么 花 呗 再 重复 扣款 我用 花 呗 付款 ， 银行 扣 了 一次 款 ， 还花 呗 银行 又 扣 了 一次 款 ， 重复 扣款 了 ！ 怎么回事',\n",
       " '花 呗 临时 额度 用 了 能 分期 还 吗 花 呗 临时 额度 用 掉 可以 分期 吗',\n",
       " '申请 提申 借 呗 额度 ， 怎么 没有 回复 借 呗 ， 还 请 了 ， 额度 会 提升 吗',\n",
       " '能 不能 把 借 呗 记录 给 删除 了 蚂蚁 借 呗 还 完后 记录 怎样 删除',\n",
       " '开通 花 呗 之后 多久 能够 开通 借 呗 关闭 花 呗 了   多久 才能 用 另 一个 号 开通',\n",
       " '花 呗 怎么 开通 不了 为什么 我 现在 用 不了 花 呗 付款 了',\n",
       " '花 呗 付款 扣 了 两次 手续费 花 呗 买 东西 要 手续费 吗',\n",
       " '花 呗 额度 怎么 看 花 呗 额度 查 不了',\n",
       " '蚂蚁 借 呗 可以 延长 期限 吗 蚂蚁 借 呗 最 短 借款 期限',\n",
       " '我 已经 还款 了 ， 要 怎么 才能 关闭 花 呗 付款 怎么 用花 呗 分期付款',\n",
       " '芝麻 信用 跟 借 呗 有关 吗 芝麻 信用 跟 借 呗 开通 有关 嘛',\n",
       " '网商贷 的 利息 跟 借 呗 利息 差 多少 网上 贷和借 呗 哪个 利息 高',\n",
       " '全部 还款 花 呗 支付宝 花 呗 还款 什么 意思',\n",
       " '还 能 开通 ， 这个 花 呗 能 给 我 的 花 呗 开通 嘛',\n",
       " '借 呗 为什么 只能 借个 月 ， 以前 还 可以 个 月 现在 蚂蚁 借 呗 只能 借个 月',\n",
       " '花 呗 只 还 最低 还款 对 信用 有 什么 危害 我 的 花 呗 下个月 有 最低 还款 吗',\n",
       " '为啥 我 开通 不了 借 呗 花 呗 咋 回事   我 的 花 呗 可以 借借 呗 怎么 开通 不了',\n",
       " '怎么 现在 借 呗 只能 个 月 还款 蚂蚁 借 呗 怎么 不能 借个 月 了',\n",
       " '美团 上 付款 可以 用花 呗 吗 收钱 码 可以 使用 蚂蚁 花 呗 付款 吗',\n",
       " '下单 买物 ， 花 呗 扣 了 ， 因为 什么 还要 确认 收货 花 呗 上 确认 收货 有 扣钱 吗',\n",
       " '借 呗   分期 后 可以 提前 还款 吗 蚂蚁 借 呗 一次 还清 可以 吗',\n",
       " '借 呗 还 完 可以 马上 再 借 吗 蚂蚁 借 呗 没 还清 ， 还 可以 再 借钱 吗',\n",
       " '我 当时 下单 用 的 花 呗   含 手续费   退款 就 退 的 我 总金额 ， 那 我 这个 花 呗 的 手续费 不是 亏了 吗 用 了 花 呗 ， 退款 了 ， 手续费 还算 吗',\n",
       " '花 呗 可以 打 滴滴 打车 吗 滴滴 打车 怎么 不 可以 用花 呗',\n",
       " '如何 把 花 呗 功能 转到 主 账号 花 呗 怎么 能 从 一个 账号 转到 另 一个 账号',\n",
       " '借 呗 还款 是 吧 蚂蚁 借 呗 ， 多久 还款',\n",
       " '请 朋友 代付 可以 使用 花 呗 吗 花 呗 支持 代付 吗',\n",
       " '我 逾期 还款 已 还 还 能 用 花 呗 吗 花 呗 逾期 后 还款 了 ， 用额 已经 冻结 ， 以后 是否 可以 正常 使用 花 呗',\n",
       " '花 呗 授权 怎么 同意 花 呗   怎么 同意 好友 授权',\n",
       " '为什么 花 呗 有 负 为什么 花 呗 不能 用 滴滴 打车',\n",
       " '滴滴 扣款 不是 花 呗 我 的 花 呗 扣款 日 是',\n",
       " '我 借 呗 今天 还款 ， 手动 操作 不了 蚂蚁 借 呗 不是 自动 还款 吗 ？ 怎么 还要 手动 还款',\n",
       " '别人 的 卡能 还 花 呗 花 呗 能 不能不 被 别人 看到',\n",
       " '如何 把 借 呗 额度 隐藏 如何 把 花 呗 和 借 呗 隐藏',\n",
       " '我 的 花 呗 有 被 冻结 了 怎么回事 花 呗 怎么 让 冻结 了',\n",
       " '每个 月 花 呗 能 分期 几回 花 呗 账单 能 分期 几个',\n",
       " '怎么 申请 可以 用花 呗 和 信用卡 的 商家 码 我要 怎样才能 申请 花 呗 和 信用卡 支付',\n",
       " '上次 申请 借 呗 是 什么 时候 借 呗 额度 为啥 要 自己 申请',\n",
       " '登陆 花 呗 时 提示 用 原来 的 支付宝 账号 ， 可原 账号 忘记 怎么办 花 呗 的 账号 和 密码 忘记 了 怎么办',\n",
       " '我 现在 可以 使用 花 呗 使用 花 呗 可以 使用 借 呗',\n",
       " '余额 宝 代扣 花 呗 花 呗 怎么 设置 余额 宝 自动 扣款',\n",
       " '花 呗 临时 额度 具体 是 多少 怎么 看 怎么 查看 我 的 境外 花 呗 额度',\n",
       " '哪 现在 关闭 借贝 没有 只 关闭 借 呗 不行',\n",
       " '借 呗 可以 分期 还 蚂蚁 借 呗 分期 还',\n",
       " '我 这个 月 还 完花 呗 了 ， 怎么 还要 还 花 呗 钱 我 还 了 ， 怎么 又 出来 了 让 我 还',\n",
       " '花 呗 feng ? q 一次 可以 还清 吗 另 一个 账号 用花 呗 ， 这个 账号 可以 还 吗',\n",
       " '花 呗 双 临时 额度 没有 中奖 怎么办 我 的 花 呗 临时 额度 怎么 没有',\n",
       " '什么 事 蚂蚁 花 呗 专属 提额 通道 花 呗 提额 需要 补充 什么 材料',\n",
       " '蚂蚁 借 呗 还 请 证明 个人 借 呗   结清 证明',\n",
       " '查看 花 呗 收款 码 我 的 花 呗 收钱 码',\n",
       " '蚂蚁 借 呗 是 每月 固定 还款 多少 吗 蚂蚁 借 呗 这个 月 我 跟 还 多少',\n",
       " '蚂蚁 借 呗 审核 没 通过 ， 好何 重新 提交 借 呗 申诉 审核 未 通过',\n",
       " '花 呗 账单 分期 提起 还款 还有 手续费 么 花 呗 分期 以后 ， 如果 提前 还款 需要 手续费 吗',\n",
       " '我 已经 还 了 花 呗 ， 那   退 额度 是 怎么 算 的 款 都 退 了 ， 怎么 还 把 钱 往花 呗 里面 算',\n",
       " 'a 账户 关闭 花 呗 ， b 账户 要 怎么 才能 开通 花 呗 开通 花 呗 能 立马 关闭 吗',\n",
       " '怎么 会 自动 关闭 借 呗 点样 关闭 借 呗',\n",
       " '花 呗 不 可以 游戏 充值 么 花 呗 支付 不了 游戏 充值 怎么 处理',\n",
       " '花 呗 额度 调整 花 呗 怎么 还 不 提 额度',\n",
       " '现在 的 借 呗 我 的 为什么 不能 分 十二 期 了 借 呗 突然 间 不能 用 了   在 想 是不是 因为 身份验证 过期 的 原因 吗',\n",
       " '为什么 ， 我 的 没有 花 呗 我 为什么 没有 花 呗 呀',\n",
       " '借 呗 逾期 天 ， 会 影响 多少 信用 分 借 呗 逾期 几天 不 影响 芝麻 信用 分',\n",
       " '花 呗 分期 是不是 我 这个 月 的 账单 可以 下个月 分期 花 呗 分期 了 下个月 还 可以 分期 吗',\n",
       " '是不是 开通 花 呗 才能 退回 钱 怎么 看 是否 开 没 开通 花 呗',\n",
       " '修改 花 呗 还款 顺序 的 操作 流程 花 呗 还款 顺序 是 什么',\n",
       " '花 呗 分期 改款 对 信用 有没有 影响 花 呗 分期   有 什么 影响',\n",
       " '我用 花 呗 买 东西 、 买错 了 、 退款 回花 呗 我 查看 花 呗 没 钱 、 因为 我 一用 花 呗 买 东西 了 就 立马 还花 呗 的 钱 了 、 那 退回来 的 款 在 花 呗 也 没有 、 那 退去 哪 了 我 是 用 的 花 呗 ， 然后 在 淘宝 上面 买 了 东西 ， 我 就 用 银行卡 提前 还款 了 ， 之后 我要 把 淘宝 的 那样 东西 退款 了 ， 但是 退款 的 钱 去 了 哪里 ， 没有 收到 银行卡 ， 上面 也 花 呗 ， 上面 也 没有 看到',\n",
       " '怎么 还用 花 呗 支付 的 能 把 她 的 花 呗 取消 吗',\n",
       " '花 呗 临时 额度 可以 跟 原先 的 花 呗 额度 一起 分期付款 吗 额度 花 呗 可以 做 分期 吗',\n",
       " '借 呗 怎么 借 一个月 的 我 怎么 使用 不见 借 呗',\n",
       " '昨天 用花 呗 付 的 款 ， 现在 可以 还款 吗 花 呗 贷款 ， 用 支付宝 还',\n",
       " '我 为什么 我 开通 不了 借 呗 为什么 我 的 借 呗 没有 了 额度',\n",
       " '我用 美 团团 购 ， 怎么 不能 使用 花 呗 美团 上 为什么 不能 用花 呗 了',\n",
       " '还有 淘宝 分期 买手机 也 不 可以 淘宝 买 东西 为什么 有 的 可以 分期 有 的 不 可以',\n",
       " '不是 花 呗 ， 是 我 的 网商贷 的 是 ， 网商贷 不是 蚂蚁 花 吧',\n",
       " '苹果 游戏 充值 怎么 用花 呗 苹果 手机 能 使用 花 呗 吗',\n",
       " '我 的 花 呗 是 负 的 有 影响 吗 花 呗 负分 有 影响 吗',\n",
       " '花 呗 就是 贷款 麦 我 想 我 是否 问花 呗 借款 了',\n",
       " '口碑 支付 是不是 不能 用花 呗 我 的 口碑 为什么 不能 用花 呗',\n",
       " '蚂蚁 借 呗 交 过路费 可以 吗 除了 蚂蚁 借 呗 ， 还有 可以 借钱',\n",
       " '我 的 蚂蚁 借 呗 下个月 号 全部 还清 有 什么 变化 蚂蚁 借 呗 的 钱 ， 每个 月 都 要 还 钱 吗',\n",
       " '明明 是 花 呗 送 的 元 红包 ， 为什么 我下 月 要 还 块钱 欠花 呗 为什么 要 还 元',\n",
       " '没有 银行卡 可以 还花 呗 嘛 支付宝 没有 绑定 银行卡 ， 能 不能 还花 呗',\n",
       " '花 呗 分期 后 第二期 可不可以 提前 还款 全部 能 提前 还花 呗 分期 么',\n",
       " '蚂蚁 借 呗 需要 多少 信任 额度 如何 查看 当前 蚂蚁 借 呗 额度',\n",
       " '花 呗 临时 额度 还 了 不能 再用 吗 我 还 了 一个 支付宝 ， ， 花 呗 不能 用 了',\n",
       " '我 已经 还 完款 了 ， 可是 这是 淘宝 退款 自动 退到 花 呗 里 的 ， 可是 在 他 退 之前 我 已经 先 还 完 了 这个 款 ， 他 这个 钱 退去 哪里 了 蚂蚁 花 呗 退款 的 钱 去 哪里 了',\n",
       " '花 呗 分期 会 降低 芝麻 分数 吗 花 呗 还 最低 影响 芝麻 分 吗',\n",
       " '怎么 查应 还 花 呗 账单 没钱 还 花 呗 欠款 会 怎么样',\n",
       " '我 蚂蚁 花 呗 怎么 不能 使用 我 的 花 呗 怎么 花 不了 了',\n",
       " '如果 将 花 呗 用 完 是否 可以 分期 还款 花 呗 分期 还款 如何 设置',\n",
       " '怎么 在 借 呗 借 不了 钱 了 借 呗 里面 还有 钱 \\\\ 怎么 借 不了',\n",
       " '花 呗 资料 填写 没有 我要 填写 的 学校 怎么办 花 呗 的 学历 信息 怎么 没有 初中 学历 的',\n",
       " '一个 人 可以 用 几个 借 呗 借钱 吗 借 呗 要 多少 钱 可以 借',\n",
       " '花 呗 分期 中 ， 剩下 的 额度 还 能 用 吗 在 淘宝 花 呗 中 可以 分期 还款 吗',\n",
       " '付款 的 地方 没有 花 呗 支付 每次 支付 方式 里 直接 没有 了 花 呗 这 一个',\n",
       " '借 呗 额度 降低 了 怎么 恢复 恢复 我 借 呗 额度',\n",
       " '花 呗 自动 还款 余额 宝 代扣 功能 怎么 开 怎么 设置 花 呗 从 余额 宝中 自动 还款',\n",
       " '蚂蚁 借 呗 换 还款 时间 蚂蚁 借 呗 分期 还款 ， 还款期 可以 改 吗',\n",
       " '我 为什么 开 不了 花 呗 和 信用卡 为什么 二维码 收款 不能 开通 花 呗',\n",
       " '蚂蚁 借 呗 还款 的 卡号 可以 是 别人 的 卡号 吗 我 的 借 呗 还款 卡号 怎么 更改',\n",
       " '系统 评估 借 呗 需要 几天 系统 多久 评估 借 呗 可以 使用',\n",
       " '为什么 我 的 蚂蚁 借 呗 额度 突然 降 了 那么 多 为什么 我 的 借 呗 降低 额度 了',\n",
       " '花 呗 逾期 了 个 月 现在 还清 还 可以 在 用 吗 花 呗 做 多 可 逾期 多久 不 影响 以后 用',\n",
       " '借 呗 天 没 还 借 呗 还款 时间',\n",
       " '借 呗 的 收款 银行卡 在 哪里 更换 借 呗 如何 更换 还款 银行卡',\n",
       " '花 呗 可以 在 现实 商店 扫码 支付 吗 像 商家 付款 可以 用花 呗 扫码 吗',\n",
       " '找 客服 人员 请 联系 人工 客服 为 我 解答',\n",
       " '花 呗 还款 是 在 支付宝 直接 扣款 吗 我 的 花 呗 扣款 了 吗',\n",
       " '花 呗 怎么样 开通 我 的 账户 如何 开通 花 呗',\n",
       " '蚂蚁 借 呗 生活圈 怎么 关注 如何 加入 借 呗 生活圈',\n",
       " '这个 钱 不 应该 在 花 呗 里 我 的 花 呗 被 我 还 请 了   额度 那天 都 是 满 的   买 火车票 在 还 花 呗 之前   退 火车票 在 之后   那 这个 钱 哪里 去 了',\n",
       " '用花 呗 买 的 火车票 ， 退款 会退 到 哪里 了 购买 火车票 ， 可以 用花 呗 吗',\n",
       " '花 呗 邮箱地址 和 邮箱 密码 忘记 了 怎么办 借 呗 忘记 还款 了 ， 怎么办',\n",
       " '蚂蚁 借 呗 为什么 提前 还款 了 之后 没有 额度 为什么 提前 还款 借 呗 ， 没有 额度 了',\n",
       " '你们 家 支持 花 呗 支付 么 花 呗 支付 可以 吗',\n",
       " '花 呗 如 关闭 花 呗 额度 不 长 、 想 关闭',\n",
       " '蚂蚁 借 呗 不用 额度 是 变 吗 蚂蚁 借 呗 长期 不 使用 是否 会 降低 额度',\n",
       " '支付宝 密码 忘记 了 ， 号码 丟了 如何 找回 蚂蚁 花 呗 我 号码 支付宝 花 呗   忘记 密码   怎么 找回',\n",
       " '为什么 我 没有 借贝 为什么 没有 给 我 开通 借 呗',\n",
       " '花 呗 是否 支持 水电 煤 缴费 花 呗 怎么 显示 不 支持 充 水电费 了 怎么回事 呀',\n",
       " '蚂蚁 借 呗 开通 了 ， 怎么 没 余额 审核 通过 ， 怎么 不能 用 借 呗',\n",
       " '我 昨天 有花 呗 退款 ， 可 今天 自动 还款 时 还 扣除 了 我 的 退款 的 金额 花 呗 还款 怎么 可以 自动 扣',\n",
       " '花 呗 还款 了 没有 显示 出来 我花 呗 已经 还款 了   现在 退 的 这笔 钱 到 花 呗   花 呗 并 没有 显示',\n",
       " '我己 经 开通 了 信用卡 和 花 呗 收钱 。 但 开通 信用卡 和 花 呗 支付   然后 提示 我 不 符合条件',\n",
       " '为什么 我 现在 花 呗 收款 用 不了 花 呗 收 不了 钱 怎么 了',\n",
       " '花 呗 可以 迟 一个 星期 还 吗 花 呗 可以 延期 几天 还 吗',\n",
       " '多少 积分 开通 蚂蚁 花 呗 九月 分花 呗 消费 多少',\n",
       " '我 哪里 不 满足 借 呗 条件 了 蚂蚁 借 呗 不 满足条件 的 原因',\n",
       " '如何 关 ， 关闭 花 呗 把 花 呗 给 我 关闭 了',\n",
       " '蚂蚁 借 呗 还款 原先 银行卡 还 。 余额 宝 可以 还 吗 蚂蚁 借 呗 是从 余额 扣 ， 还是 余额 宝',\n",
       " '我 的 这笔 款 是 已经 还 了 的   为什么 不 退 现金 而是 退 给 花 呗 我 上次 买 袜子 的 钱 自己 还款 了   但是 退钱 的 钱 为什么 又 到 花 呗 了',\n",
       " '怎么 把 借 呗 弄掉 蚂蚁 借 呗 借天 怎么 借',\n",
       " '花 呗 是 当天 逾期 么 花 呗 有 逾期 ， 这个 问题 严重 么',\n",
       " '花 呗 可以 重 设置 返款 时期 吗 我花 呗 可以 改卡 吗',\n",
       " '花 呗 的 双 活动 ， 到 这个 月 号 截止 ， 那 如果 我 现在 刷 了 是不是 这个 月 号 之前 得 还 我 上个月 号 还 花 呗 时 ， 连同 算 到 这个 月 的 钱 都 还 上 了 ， 然后 这个 月 又 还 花 呗 ， 出现 了 号 至 号 的 钱 算 在 这个 月 是 怎么回事',\n",
       " '天猫 选择 付款 方式 里 怎么 没有 余额 宝和花 呗 个 付款 方式 花 呗 和 余额 合并 付款',\n",
       " '花 呗 钱 可以 提前 还 么 花 呗 付款 了 ， 可以 提前 还款 吗',\n",
       " '花 呗 收款 ， 我 有 什么 好处 花 呗 支付 有 啥 好处',\n",
       " '花 呗 的 钱 我 全部 还 完 了 滴 按 ， 怎么 显示 还 欠款 我 的 花 呗 明明 已经 还清 了 。 为什么 显示 有 未 还 完 的',\n",
       " '怎么 知道 蚂蚁 借 呗 的 还款 日 蚂蚁 借 呗 今天 应该 还款 ， 但 银行卡 当日 限额 ， 怎么办',\n",
       " '借 呗 提前 还款 会 影响 芝麻 信用 吗 借 呗 提前 还会 有 什么 后果 吗',\n",
       " '借 呗 最多能 逾期 几天 蚂蚁 借 呗 逾期 多长时间 算 逾期',\n",
       " '? 借 呗 上传 身份证 开通 蚂蚁 借 呗 可以 不用 上传 身份证 吗',\n",
       " '帮 我 看看 我 付款 是不是 用 的 花 呗 我 想 知道 我用 花 呗 付款 有 手续费 吗',\n",
       " '到时候 可以 刷花 呗 吗 我 现在 有花 呗 吗',\n",
       " '已 自动 还款额 花 呗 可以 取消 分期 么 我花 呗 分期 的 为什么 自动 取消 了',\n",
       " '借 呗 免息 券 我 怎么 抢 不到 借 呗 如何 抢 到 免息 券',\n",
       " '把 钱 退 给 花 呗 了 ， 什么 花 呗 金额 ， 没 变 为什么 花 呗 退款 了 账单 还 在',\n",
       " '还 临时 额度 其实 就是 再 还 花 呗 花 呗 ， 临时 额度 怎么 不见 了',\n",
       " '我 都 借 呗 怎么 停 了 借 呗 额度 也 没有 了',\n",
       " '说 我 换 支付宝 的 蚂蚁 花 呗 的 钱 还要 换 信用卡 的 钱 是 吗 为什么 用 支付宝 支付 的 时候 不能 用 信用卡 和 花 呗',\n",
       " '花 呗 有 过 逾期 ， 现在 全部 还清 了 ， 都 过 了 几个 月 了 为什么 还是 不能 用 花 呗 已经 还 了 。 为什么 还有 已 使用',\n",
       " '商铺 有 买 香烟 ， 刷 支付宝 ， 可 使用 花 呗 ， 那就是说 ， 所有 香烟 产品 都 可以 使用 花 呗 的 ， 为啥 又 会 出现 支付 不了 为何 蚂蚁 花 呗 不能不 支付 商品',\n",
       " '花 呗 如果 我 开通 了 不用 会 有 费用 吗 开能 花 呗 不用 要 收费 的 吗',\n",
       " '我 的 花 呗 额度 为什么 不 可以 用 了 为啥 我 现在 用 不了 蚂蚁 花 呗',\n",
       " '我 这个 月 花 呗 分期 ， 下 月 如果 有钱 一次 在 把 几期 的 一次 还 还有 手续费 吗 商家 代 买家 付 的 花 呗 分期 手续费 ， 在 哪查',\n",
       " '花 呗 还款 后 额度 怎么 算 的 是 花 呗 每月 还款 ， 是 怎么 算',\n",
       " '借 呗 问好 没有 额度 调整 借 呗 无法 调节 额度',\n",
       " '花 呗 还 可以 开通 借 呗 借 呗 必须 要 打开 花 呗',\n",
       " '开通 花 呗 需不需要 费用 开通 花 呗 会 收取 费用 吗',\n",
       " '花 呗 返现 怎么 返 呀 花 呗 返现 啥时候 到 账',\n",
       " '购物 津贴 能用 在 花 呗 分期 上 吗 使用 花 呗 分期 ， 能否 享受 购物 津贴',\n",
       " '蚂蚁 花 呗 记录 用 不了 蚂蚁 花 呗',\n",
       " '花 呗 的 钱 是否 还清 我 的 花 呗 钱 还 完 了 吗',\n",
       " '借 呗 这个 月 还 不 上 能 下个月 吗 现在 借 呗 只有 六个月 吗',\n",
       " '淘宝 手机号 和 支付宝 手机号码 不 一致 ， 不能 用花 呗 吗 支付宝 支付宝 绑定 的 手机号 和 淘宝 绑定 的 手机号 不 一样 可以 用花 呗 吗',\n",
       " '蚂蚁 花 呗 负数 会 不会 影响 信用 使用 花 呗 借钱 ， 会 影响 个人信用 吗',\n",
       " '为什么 交 电费 不 支持 花 呗 支付 了 花 呗 支持 收钱 码 支付',\n",
       " '我 的 支付宝 账号 和 花 呗 账号 不 一致 怎么办 我 的 支付宝 两个 ， 一样 的 手机号 ， 为啥 一个 借 呗 一个 花 呗',\n",
       " '我 不明 什么 叫花 呗 使用 花 呗 看 什么 是不是 个人 商家',\n",
       " '元花 呗 利息 多少 我 上个月 扣 了 我 多少 花 呗 利息',\n",
       " '用花 呗 有 返现 吗 第一次 用花 呗 ， 返现 要 报名 才行 吗',\n",
       " '为什么 我 无法 使用 花 呗 我 的 花 呗 无法 正常 使用',\n",
       " '显示 尽情 花 呗 什么 意思 尽情 花 呗 怎么回事',\n",
       " '买 东西 密付 可以 用花 呗 吗 密付 能 使用 花 呗 么',\n",
       " '花 呗 分期   我 不是 已经 支付 咯   为什么 后面 还要 支付 一次 为什么 花 呗 付款 退款 成功 了   ， 还要 还花 呗 账单',\n",
       " '蚂蚁 借 呗 利息 怎么 别人 低 我 的 高 怎么 蚂蚁 借 呗 我 的 利息 和 别人 的 不同 ， 万分之 六 ， 别人 的 万分之',\n",
       " '我 的 借 呗 多久 能 恢复 使用 借 呗 处理 了 逾期 之后 ， 多久 才能 恢复',\n",
       " '提前 还款 的话 利息 会少 么 花 呗   提前 还款 要 利息 吗',\n",
       " '网商 贷好 借 呗 有 什么 区别 我 想 知道 蚂蚁 借 呗 和 网商贷 的 区别',\n",
       " '我 有 一个 支付宝 开通 蚂蚁 花 呗 了 的   但是 我 已经 取消 了   想 开通 另外 一个 开通 不了 支付宝 我 已经 开 通过 花 呗 了',\n",
       " '花 呗 没有 显示 退款 的 钱 我 的 蚂蚁 花 呗 淘宝 有 ， 支付宝 怎么 没 显示',\n",
       " '能用 花 呗 买 火车票 吗 用花 呗 购买 火车票 何时 还款',\n",
       " '蚂蚁 借 呗 多久 还 一次 借 呗 最长 多久 要 还款',\n",
       " '蚂蚁 借 呗 的 信用 额度 要 多少 才能 借 多少 额度 就 能 申请 借 呗',\n",
       " '花 呗 为什么 交 不了 宽带 了 花 呗 电费 怎么 交 不了',\n",
       " '我 的 什么 时候 才能 用花 呗 我 的 蚂蚁 花 呗 什么 时候 能 给 开通 ， 我 现在 一直 信誉 良好',\n",
       " '花 呗 可以 连续 两个 月 办理 分期 还款 嘛 已经 有 了 一个 花 呗 分期 。 还 可以 再办 一个 分期 么',\n",
       " '商家 退回 的 款 在 花 呗 上 ， 我 的 帐户 并 没收 到 这笔 钱 为什么 我 今天 收到 了 元 的 退款 ， 是 退 到 花 呗 里 的 ， 为什么 我 没有 看到 额度 有 变化',\n",
       " '同一 身份证 另 一 账号 关闭 花 呗 其他 账号 还 能 开通 花 呗 吗 另 一个 号 关闭 花 呗 了 ， 这个 号 可以 开 了 吗',\n",
       " '提前 还清 的 花 呗 ， 要 扣 手续费 吗 花 呗 提前 将 分期 还款 全部 结清 ， 手续费 可以 免掉 吗',\n",
       " '借款 时 显示 有 逾期 未 处理 借 呗 没 逾期',\n",
       " '淘宝 买 东西 怎么 用 蚂蚁 花 呗 淘宝 上 怎么 显示 花 呗',\n",
       " '升级 网商贷 ， 提示 我 借 呗 未 结清 ， 可是 我 已经 结清 了 升级 网商 贷借 呗 用 不了 吗',\n",
       " '借 呗 最高 封顶 额度 多少 开通 蚂蚁 借 呗 最低 额度 是 多少',\n",
       " '刚刚 一点 四十四 分钟 我 充值 一百 到 巴斯 巴 app 钱 没有 到 账 ， 怎么 花 呗 又 扣 了 一百 刚刚 充值 ， 交易 成功 花 呗 钱 都 扣 了 ， 为什么 我 账号 上 没有 钱',\n",
       " '我 怎么 找 不到 我 的 蚂蚁 花 呗 怎么 进入 花 呗',\n",
       " '为什么 我 没有 花 呗 可以 用 支付宝 里 怎么 没有 花 呗',\n",
       " '花 呗 新 用户 抽取 的 优惠券 在 哪 使用 借 呗 优惠券',\n",
       " '四云 贡茶 能否 使用 花 呗 花 呗 能 美团 使用 吗',\n",
       " '花 呗 未 还款 ， 会 造成 信用 怎样 的 不良 记录 花 呗 久 了 不 还 会 怎么样',\n",
       " '我 在 蚂蚁 借 呗 借 的 钱 余额 宝里 的 钱 没够 扣 的 ， 但是 绑定 的 银行卡 里 有钱 怎么 不会 自动 还款 我 的 借 呗 钱 在 余额 宝里 ， 为什么 今天 没有 扣钱',\n",
       " '借 呗 还清 ， 再次 使用 还款 日期 不能 修改 吗 一次性 还 完借 呗 也 不能 修改 还款 日期 吗',\n",
       " '我 的 借 呗 怎么 不 提升 为什么 我 的 蚂蚁 借 呗 一直 不会 提升 是 信用 有 问题 吗',\n",
       " '能 把 借 呗 换成 网商贷 借 呗 和 网商贷 是 一个 系统 吗',\n",
       " '我花 呗 开通 时间 花 呗 分期 开通 的 时间 是',\n",
       " '网商贷 和 借 呗 有 什么 差距 网商贷 和 蚂蚁 借 呗   是 一样 的 呀',\n",
       " '蚂蚁 借 呗 按时 还款 怎么 给 我关 了 为什么 给 我 停掉 蚂蚁 借 呗',\n",
       " '本店 不 支付 花 呗 支付 为什么 还是 收到 花 呗 支付 。 可以 退款 吗 可以 花 呗 ？ 支付 吗',\n",
       " '花 呗 分期 手机 额度 需要 多少 花 呗 分期 额度 有 多少',\n",
       " '借 吧 怎么 没有 额度 啦 借 呗 怎么 没有 咯',\n",
       " '你 帮 我 申请 还款 后 开通 花 呗 我 以后 还 可以 用花 呗 吗',\n",
       " '开通 了 花 呗 ， 专享 红包 能用 吗 开通 花 呗 是不是 就 可以 申请 专享 红包 门店',\n",
       " '借 呗 是 要 全部 还清 才 可以 再次 借款 吗 借 呗 分期 未 还 完 可以 再 借 吗',\n",
       " '花 呗 允许 读取 通讯录 怎么 搞 花 呗 怎么 设置 通讯录',\n",
       " '花 呗 ， 能 买 火车票 吗 支付宝 花 呗 不能 买 火车票 对 吗',\n",
       " '我 在 一个 支付宝 账号 开通 了 花 呗 ， 现在 关闭 了 ， 为什么 在 另 一个 支付宝 账号 却 不能 开通 了 我 名下 只有 一个 支付宝 ， 花 呗 怎么 显示 我 有 另 一个 支付宝',\n",
       " '为什么 借 呗 不能 借钱 了 为什么 我 的 蚂蚁 借 呗 不能 用',\n",
       " '花 呗 我 已经 还 了 ， 为什么 现在 无法 使用 我 的 花 呗 还 完 了 怎么 不能 用',\n",
       " '交 电费 不能 扣花 呗 支付宝 里 的 花 呗 怎 不 支持 交 电费 了',\n",
       " '我 借 呗 可以 选择 还款 分期 吗 为什么 我 把 借 呗 的 欠款 还 完 就 没有 额度 了',\n",
       " '用花 呗 买 的 汽车票 退票 为什么 钱 还 没到 账 退款 钱 到 花 呗 ， 查询 没到 账',\n",
       " '在 哪 看用 了 几次 花 呗 查看 花 呗 所有 账单 在 哪',\n",
       " '借 呗 和 花 呗 是 同步 的 吗 我 的 花 呗 和 借 呗 都 不能 用 了',\n",
       " '我 的 花 呗 为什么 不能 用 了 借 呗 现在 不 可以 用 了 吗',\n",
       " '为什么 我 前天 开 的 借 呗 现在 都 没有 通过 为什么 我 有 过 借 呗 又 没有 端口 了',\n",
       " '花 呗 只 逾期 一天 还款 后 可以 用 嘛 我用 的 花 呗 我 晚天 还 可以 吗',\n",
       " '借 呗 开 了 又 关闭 了 蚂蚁 借 呗 为啥 给 我 关闭',\n",
       " '蚂蚁 花 呗 有 借款 可以 用 借 呗 吗 花 呗 和 借 呗 是不是 不 可以 同时 用',\n",
       " '蚂蚁 花 呗 如何 选择 还款 支付 功能 关闭 ， 蚂蚁 借 呗 如何 还款',\n",
       " '花 呗 能 不能 换 手机号码 呀 我花 呗 如何 更改 手机号',\n",
       " '我 借 呗 还有 额度 ， 为什么 借 不 出来 了 借 呗 上 有 额度 ， 但是 借 不 出钱',\n",
       " '我花 呗 还 请 了 可花 呗 没 了 我 在 花 呗 没有 付款 怎么 还款',\n",
       " '我 还 能 花 呗 分期 吗 花 呗 支付 后 还 能 分期 吗',\n",
       " '蚂蚁 借 呗 今天 的 还款 记录 我 是 说 借 呗 还款 记录',\n",
       " '付款 为什么 自动 从 扣花 呗 里面 扣 花 呗 自动 扣费',\n",
       " '退到 花 呗 里 的 钱 怎么办 钱款 退到 我 的 花 呗 里',\n",
       " '花 呗 可以 在 实体店 使用 么 花 呗 可以 用于 超市 吗',\n",
       " '用花 呗 付 的 款 花 呗 使用 频率',\n",
       " '为何 我 还款 了 花 呗 还 说 有 负面影响 有 负面 消息 对 借 呗 有 影响 吗',\n",
       " '我 有 多少 的 花 呗 额度 开通 花 呗 我 的 额度 是 多少',\n",
       " '怎么 知道 有没有 借 呗 怎么样 才能 有 蚂蚁 借 呗',\n",
       " '借 呗 额度 怎么 突然 被 封 了 为什么 我 提前 还款 ， 借 呗 没 额度 了',\n",
       " '花 呗 境外 临额 是 只限 境外 使用 吗 花 呗 境外 用 是 指',\n",
       " '花 呗 线下 支付 能 用 多少 额度 线下 商家 花 呗 数额',\n",
       " '临时 额度 到 了 有效期 ， 会 扣除 花 呗 金额 吗 花 呗 临时 额度 是 可以 分期 的 吗',\n",
       " '怎么 消花 呗 卡 我要 怎么 注销 蚂蚁 花 呗',\n",
       " '开通 花 呗 不 使用 行 吗 开通 花 呗 都 不用 会 怎么样',\n",
       " '我能 把 我 另 一个 关联 账号 花 呗 转到 现在 用 的 账号 吗 换花 呗 关联 账号',\n",
       " '手机号码 不用 了 ， 可以 使用 花 呗 吗 这个 月 看 上 就 可以 又 使用 花 呗 了 吗',\n",
       " '余额 的 钱 可以 还 蚂蚁 借 呗 吗 借 呗 的 钱 晚 一两天 还 可以 吗',\n",
       " '以前 能用 花 呗 缴费 着 嘛 前 几天 还 能 用 花 呗 充值',\n",
       " '我 之前 自己 把 借 呗 额度 调低 了 ， 为啥 现在 不能 调回去 了 蚂蚁 借 呗 把 额度 调低 了 还 能 改回来 吗',\n",
       " '借 呗 怎么 主动 申请 借 呗 能 申请',\n",
       " '我 现在 为什么 用 不了 蚂蚁 花 呗 怎么 不能 用花 呗 了',\n",
       " '分期 产品价格 超过 花 呗 额度 花 呗 分期 看 的 是 额度 吗',\n",
       " '如何 设置 花 呗 余额 宝 自动 还款 余额 宝 可以 自动 还花 呗 的 钱 吗',\n",
       " '借 呗 没有 了 ， 消失 了 现在 还 欠 借 呗 的 钱 没 还',\n",
       " '借 呗 一次 还 完 本金 下次 还 能 借 吗 借 呗 还 完后 还 能 继续 借款 不',\n",
       " '花 呗 近期 活动 花 呗 有 新 活动 吗',\n",
       " '扫 手机 上 的 收钱 码 怎么 不 支持 花 呗 收钱 为什么 别人 扫 我 的 收款 码 不 支持 花 呗 付款',\n",
       " '使用 花 呗 和 借 呗 可以 取消 芝麻 信用 授权 吗 不 小心 把 借 呗 的 芝麻 信用 授权 取消 了 ， 怎么 才能 重新 授权',\n",
       " '我 的 借 呗 欠 了 多少 钱 我 的 花 呗 一共 消费 了 多少 钱',\n",
       " '花 呗 怎么 不 可以 用 了 吗 我 的 花 呗 怎么 这个 好用 不了',\n",
       " '我要 从 花 呗 里 提到 卡 里面 我要 花 呗 滴 钱 转到 银行卡',\n",
       " '我 什么 时候 能 在 花 呗 借钱 花 呗 什么 时候 可以 对外 全部 开放',\n",
       " '手机 充值 怎么 推荐 使用 花 呗 店里 的 花 呗 怎么 用',\n",
       " '什么 时候 才 解开 借 呗 提前 结清 蚂蚁 借 呗 到 什么 时候 才能 灰复 额度',\n",
       " '为什么 借 呗 现在 只能 借 六个月 借 呗 我 以前 有 十二个 月 期限 ， 现在 只有 六个月 了 这 是 怎么回事',\n",
       " '我 的 花 呗 什么 时候 可以 再 开通 回来 我 什么 时候 可以 重新 开启 花 呗',\n",
       " '说 是 退回 了 花 呗 但 没 看到 钱进 了 哪儿 了 退到 花 呗 ， 没 看到 进帐',\n",
       " '花 呗 逾期 还款 了 为啥 还 不能 用 花 呗 逾期 还款 以后 怎么 还 不能 用',\n",
       " '为什么 花 呗 绑 不了 银行卡 无论 我 怎么 绑定 银行卡 ， 花 呗 都 使用 不了',\n",
       " '花 呗 全部 还 了   能 不能 关闭 还款 以后 能 不能 关闭 花 呗',\n",
       " '如何 设置 花 呗 绑定 银行卡 蚂蚁 借 呗 银行卡 要 绑定 一个月',\n",
       " '花 呗 最 简单 的 还款 方式 是 什么 花 呗 最低 还款额 什么 意思',\n",
       " '买家 用花 呗   卖家 需要 多少 手续费 花 呗 付款   买家 用付 手续费 吗',\n",
       " '刚才 借 呗 扣 不了 ， 我晚 了 一会 用 余额 还 的 ， 不算 逾期 吧 希望 给 我 开通 蚂蚁 借 呗 ， 用 蚂蚁 借 呗 按时 还款 ， 不会 逾期',\n",
       " '花 呗 分期 可以 分 几次 花 呗 账单 分期 可以 有 几次',\n",
       " '如果 蚂蚁 借 呗 因为 提前 还款 被 禁止 使用 ， 以后 还 能 使用 吗 蚂蚁 借 呗 逾期 了 还 能 用 吗',\n",
       " '花 呗 我 能 接 多少 钱 我花 呗 现在 多少 钱',\n",
       " '可以 帮 我 开启 花 呗 没 帮 我 打开 花 呗 好 嘛',\n",
       " '花 呗 还款 可以 在 微信 还 吗 我 想 知道 微信 可以 还 支付宝 上 的 花 呗 欠款 吗',\n",
       " '这个 花 呗 还有 什么 用处 呀 花 呗 买 有 什么 好处 吗',\n",
       " '蚂蚁 借 呗 还 钱 要 手机 验证码 ， 我 手机号码 没有 再用 ， 所以 收不到 信息 ， 应该 怎么 还 借 呗 自助 还款 收不到 短信 验证码 怎么办',\n",
       " '花 呗 ， 我 给 我 开通 ， 我 现在 急 需要 收钱 我 开通 了 花 呗 收钱 了',\n",
       " '花 呗 分期 影响 ， 芝麻 分 吗 花 呗 分期付款   影响 信用 额度 那',\n",
       " '花 呗 怎么 没有 这 我 的 花 呗 没有 了 怎么办',\n",
       " '花 呗 ， 怎么 用 花 呗 是 什么 ， 怎么 用',\n",
       " '退款 回花 呗 是 什么 意思 为什么 退款 的 钱 进入 花 呗 而 不是 进入 我 的 银行卡',\n",
       " '花 呗 和 现在 是 一个 手机号 ， 不符 ， 怎么办 花 呗 和 绑定 支付宝 的 手机号 不 一致',\n",
       " '为何 花 呗 还 需 使用 旧 号码 登陆 为什么 我 登录 的 是 新 手机号 ， 花 呗 怎么 让 我 登录 旧 手机号码 使用 花 呗',\n",
       " '为什么 花 呗 还有 手续费 主动 还款 花 呗 为何 有 手续费',\n",
       " '我花 呗 已经 还 完款 勒 ， 现在 退回来 的 钱 去 哪里 勒 退款 退到 花 呗 钱 上 哪里 去 了',\n",
       " '为什么 我 的 花 呗 额度 会 是 元 花 呗 可用 额度 为 表示 什么',\n",
       " '蚂蚁 花 呗 抽奖 机会 绑定 花 呗 ， 抽奖',\n",
       " '为什么 蚂蚁 花 呗 额度 会负 额度 我花 呗 为什么 才 七十块 额度',\n",
       " '密付 能 用 花 呗 支付 嘛 密付 用花 呗',\n",
       " '借 呗 提示 已 放款 ， 但是 银行卡 没有 收到 钱 借 呗 提到 银行卡 ， 也 什么 一天 了 都还没 到',\n",
       " '借 呗 提前 还款 ， 还要 扣除 分期 款 吗 借 呗 还款 日期 可以 改下 吗',\n",
       " '蚂蚁 借 呗 如何 换网 商贷 网商贷 换借 呗 就 不是 商家 码',\n",
       " '我 以前 有 申请 过 的 贴纸 。 现在 申请 了 花 呗 收款 需要 重新 再 申请 贴纸 吗 收到 申请 的 收款 码 贴纸 后 再 申请 花 呗 收款 用 更换 贴纸 吗',\n",
       " '花 呗 允许 借 在 花 呗 借钱',\n",
       " '为什么 花 呗 无法 买 车票 花 呗 能 买 火车票 ma',\n",
       " '蚂蚁 借 呗 钱 已经 还 上 了 怎么 还 没有 恢复 额度 我 的 借 呗 怎么 还款 了 还 没有 恢复 额度',\n",
       " '借 呗 还款 日能 换 日期 么 借 呗 还款 日期 可以 改不',\n",
       " '花 呗 的 余额 是 什么 意思 可以 用 吗 ？ 用 了 需要 还 吗 余额 可以 自动 扣除 花 呗 借 的 钱 吗',\n",
       " '借 呗 今天 到期 ， 最迟 什么 时候 还款 一般 借 呗 的 最后 还款 日期 是 什么 时候',\n",
       " '蚂蚁 花 呗 最低 还款 ， 还 了 ， 没 还 的 不算 蚂蚁 花 呗 逾期 还款 会 怎样',\n",
       " '花 呗 免息 的 券 在 那 花 呗 分期 免息 券 可以 送 我 吗',\n",
       " '电脑 上 怎么 还花 呗   的 钱 蚂蚁 花 呗 电脑 上 不 可以 还 钱 了 ， 怎么办',\n",
       " '哪些 商家 能 使用 花 呗 哪些 时候 可以 用 蚂蚁 花 呗',\n",
       " '借 呗 本来 是 的 ， 现在 怎么 变成 一万 了 ， 是 什么 原因 我 的 借 呗 本来 是 额度   怎么 变成 了',\n",
       " '支付宝 想 休改 原来 的 蚂蚁 花 呗 怎么 改 怎么 吧 花 呗 换 到 另 一个 支付宝',\n",
       " '申请 借 呗 ， 多久 能 审核 额度 借 呗 多久 审核 完 ， 能 放款',\n",
       " '用花 呗 缴 固话 固话 能 用 花 呗 交费 吗',\n",
       " '花 呗 收账 还要 服务费 信用卡 与 花 呗 怎么 收 服务费 的',\n",
       " '使用 花 呗 有 好处 吗 使用 花 呗 好处',\n",
       " '借 呗 开通 不了 为什么 我 开通 不了 借 呗',\n",
       " '为什么 用花 呗 付款 了 ？ 显示 没有 付款 花 呗 有 扣款 ， 淘宝 显示 未 支付',\n",
       " '花 呗 授权 函在 哪里 下载 花 呗 收款 授权 涵 下载',\n",
       " '可以 让 朋友 替 还 花 呗 吗 花 呗 可不可以 让 朋友 帮忙 还款',\n",
       " '借花 呗 什么 时候 还 我 现在 还款 蚂蚁 花 呗 什么 时候 可以 用',\n",
       " '借 呗 可以 过 几天 还款 我 借 呗 可能 过 几天 在 还款',\n",
       " '花 呗 额度 为什么 会 降下 为什么 我 的 花 呗 降额 了',\n",
       " '借 呗 还款 有 短信 通知 吗 借 呗 借钱 短信 通知',\n",
       " '借 呗 输入 借款 金额 无法 点击 确认 借 呗 怎么 无法 确认 借款 了',\n",
       " '关掉 是不是 开借 呗 的 可能性 更大些 能 不能 将 网商贷 换成 借 呗',\n",
       " '怎么 花 呗 还有 账单 花 呗 已 退款   为什么 还有 账单',\n",
       " '支持 花 呗 付款 我 为什么 付 不了 为什么 花 呗 不 支持 大额 交易',\n",
       " '花 呗 支付 码 开通 为什么 企业 商户 暂 不 支持 开通 花 呗 支付   怎么 能 开通',\n",
       " '你 看看 我 的 花 呗 什么 时候 用 的 蚂蚁 花 呗 返现 的 钱 什么 时候 可以 用',\n",
       " '我 的 借 呗 额度 什么 时候 恢复 ， 我 希望 快点 我 问 借 呗 提前 完款 ， 什么 时候 恢复 额度',\n",
       " '花 呗 主动 还款 下个月 了   能 取消 么 花 呗 付款 ， 还款 后 ， 取消 订单',\n",
       " '花 呗 使用 次数 限制 超过 场景 花 呗 消费 次数 或 金额 限制',\n",
       " '为什么 我 有 花 呗 没 办法 付款 为什么 我 这个 花 呗 不能 用',\n",
       " '为什么 花 呗 分期 后 芝麻 分 一直 不 涨 芝麻 信用 为什么 不 涨   我 的 借 呗 为什么 不 涨',\n",
       " '您 是 您 使用 借 呗 贷款 建议您 多多 使用 借 呗 和 花 呗',\n",
       " '开通 花 呗 不 使用 需要 缴费 吗 如果 我 开通 花 呗 ， 确 一直 没有 使用 ， 会扣 费用 吗',\n",
       " '开通 花 呗 没用 会 产生 费用 花 呗 开通 不 使用 会 产生 费用 吗',\n",
       " '花 呗 支付 不 需要 密码 的 吗 花 呗 小额 支付 ， 为什么 不 需要 输入 密码',\n",
       " '为什么 我 一直 提前 还款 ， 可是 借 呗 现在 用 不了 了 刚刚 用花 呗 买 了 psvr 为何 不能 提前 还款',\n",
       " '我 那天 退 了 花 呗 押金 为什么 ofo 有 六块钱 押金 退到 花 呗 了',\n",
       " '花 呗 可以 邀请 好友 嘛 被 花 呗 邀请 过',\n",
       " '蚂蚁 花 呗 还 过 最低 还款 了 ， 怎么 还 自动 扣费 花 呗 的 自动 全额 还款 和 按 最低 还款额 还款 有 什么 区别',\n",
       " '花 呗 还款 能 使用 集分宝 吗 花 呗 购物 能用 集分宝 吗',\n",
       " '我 的 蚂蚁 借 呗 ， 原来 额度 是 多 ， 我 还 了 多 ， 额度 应该 是 多 ， 怎么 变成 多 了 蚂蚁 借 呗 的 额度 怎么 自己 降 了',\n",
       " '蚂蚁 借 呗 支持 中国 储蓄 邮政 银行 吗 中国 邮政储蓄 银行 可以 绑定 花 呗 还款 吗',\n",
       " '怎么 花 呗 使用 不了 花 呗 为什么 停用',\n",
       " '我 问 的 是 之前 的 花 呗 账单 怎么 删除 花 呗 账单 信息 怎么 删除',\n",
       " '我 不想 用花 呗 ， 终止 合同 怎么 操作 花 呗 我 不想 使用',\n",
       " '花 呗 要 利息 口马 花 呗 他 需要 付 利息 吗',\n",
       " '我 买 东西 已经 收到 扣费 信息 ， 但是 花 呗 却说 叫 我 还 钱 为什么 我 买 东西 的 时候 ， 明明 已经 扣钱 了 ， 为什么 花 呗 发 信息 给 我 叫 我 还款',\n",
       " '没 手机 花 呗 怎么 还款 花 呗 自动 还款 怎么 绑定 余额 宝',\n",
       " '借 呗 每月 的 还款 日 可以 改么 我 这个 借 呗 还款 日期 可不可以 修改',\n",
       " '花 呗 使用 了 最低 还款 会 影响 信用 吗 花 呗 自己 扣会 影响 蚂蚁 信用 吗',\n",
       " '花 呗 可以 用 在 淘宝 上 吗 花 呗 淘宝 上用 不了 吗',\n",
       " '不 想要 花 呗 还款 ， 能 关闭 吗 如果 还款 了 ， 我 想 关闭 花 呗 可以 吗',\n",
       " '花 呗 临时 额度 和 vivo 专属 临时 额度 一样 吗 花 呗 临时 额度 能改 长期 额度 吗',\n",
       " '花 呗 可以 提临额 吗 我 的 花 呗 额度 可以 申请 调 高 一点 吗',\n",
       " '花 呗 额度 可以 送 吗 花 呗 的 额度',\n",
       " '元花 呗 已 还 了 ， : 退款 元 又 退回 花 呗 ， 我 没有 得到 退款 怎么办 我 的 退款 到 花 呗 里 了 ， 我 怎么办',\n",
       " '蚂蚁 借 呗 按时 还款 了 。 但 没有 余额 为什么 借 呗 还款 了 没有 可用 余额',\n",
       " '花 呗 号 和 支付宝 账号 不 一样 支付宝 花 呗 和 淘宝 花 呗 不是 一个 账号',\n",
       " '蚂蚁 花 呗 是 可以 自己 设置 还款 时间 吗 蚂蚁 花 呗 的 还款 日期 可以 调整 么',\n",
       " '花 呗 晚 两天 还款 ， 会 对 信用 有 影响 吗 花 呗 还 了 最低 后   剩下 的 不 及时 还   会 影响 个人信用 吗',\n",
       " '借 呗 看 还款 计划 借 呗 还款 不 对',\n",
       " '我 的 花 呗 为什么 开通 的 时候 就 只有 的 额度 为什么 我 开花 呗 额度 只有',\n",
       " '如何 改 蚂蚁 花 呗 的 还款 日期 花 呗 还款 银行卡 更改',\n",
       " '为什么 商家 开通 了 花 呗 服务   我 却 无法 用花 呗 付款 为什么 商家 开启 了 花 呗 支付 ， 到 我 这里 不能 用花 呗',\n",
       " '蚂蚁 借 呗 逾期 一天 影响 房贷 么 借 呗 逾期 几天 会 影响 芝麻 分',\n",
       " '花 呗 临时 额度 是 每个 月 都 有 的 吗 我 想 临时 提升 一点 花 呗 额度',\n",
       " '借 呗 还款 了 还 在 催 我 还款 是 怎么回事 借 呗 昨天 还 过 了 ， 怎么 还 显示 还款',\n",
       " '花 呗 会 自动 扣 账号 余额 吗 花 呗 是 号 扣款 吗',\n",
       " '我花 呗 的 款 ， 我 感觉 的 是 付 完 了 ， 怎么 还 扣 我 的 呀 我 的 贷款 是 学费 的 ， 不是 花 呗',\n",
       " '我 的 花 呗 余 过期 ， 还 可以 用 吗 我 说 我 花 呗 现在 还 能 用 吗',\n",
       " '我用 花 呗 ， 账单 与 实际 还款 不 一样 我 已 还款 的 数额 与 花 呗 显示 的 数额 不 一致',\n",
       " '银行卡 绑定 的 手机号 没有 用 了 怎么 还花 呗 我 的 银行卡 没有 预留 手机号码 ， 我 想 绑定 上去 可以 么 ， 我要 还 花 呗',\n",
       " '假如 现在 手头 有点 紧 ， 号 还 不了 花 呗 ， 如果 选择 分期 这个 月底 前 一次 还清 还 收取 额外 费用 吗 上个月 花 呗 分期 ， 这个 月 全部 还清 应该 不 收取 任何 费用 吧',\n",
       " '为什么 我 的 蚂蚁 借 呗 突然 封 了 为啥 借 呗 会 被 封 了',\n",
       " '为什么 花 呗 还是 未 出账 花 呗 出账 是 什么 意思',\n",
       " '网贷商 和 蚂蚁 借 呗 网商贷 怎么 和 借 呗 合并 了',\n",
       " '如何 开通 余额 宝 自动 还花 呗 花 呗 账单 的 余额 宝 代扣 如何 开通',\n",
       " '借 呗 开通 在 哪里 开通 借 呗 能 不能 给 我 开通',\n",
       " '淘宝 最少 多钱 能 用 花 呗 淘宝 号码 更换 花 呗 还 能 用 不',\n",
       " '借 呗 额度 降低 什么 时候 恢复 额度 什么 时候 恢复 蚂蚁 借 呗 额度',\n",
       " '未买 东西 怎么 自动 从花 呗 里 扣款 我 没用 花 呗 买 东西 咋 扣费',\n",
       " '怎么 主动 申请 借 呗 可以 申请 蚂蚁 借 呗',\n",
       " '还款 花 呗 ， 手机 停机 收不到 短信 花 呗 还款 要 手机 验证码 ， 我 手机号码 没用 ， 收不到 怎么办',\n",
       " '我 的 钱 退 哪里 去 了 ， 花 呗 我 已经 还清 了 ， 之后 退 的 款 不 应该 退回 支付宝 余额 或 银行卡 吗 花 呗 还清 了 ， 但 现在 又 退款 到 花 呗 了 ， 钱 哪里 去 了',\n",
       " '蚂蚁 花 呗 收款 码 不能 收钱 了 怎么 现在 不能 花 呗 收款',\n",
       " '花 呗 逾期 一两天 会 影响 什么 ？ 利息 是 多少 花 呗 逾期 天 利息 怎么 算',\n",
       " '借 呗 借款 期限 只有 个 月 和 个 月 借 呗 怎么 只有 六个月 十二个 月 的 周期 选项',\n",
       " '借 呗 逾期 ， 最 多 几天 借 呗 最多能 涨 到 多少',\n",
       " '借 呗 的 额度 在 哪里 看 在 哪 找 借 呗 提额',\n",
       " '银行卡 支付 ， 为什么 退款 退回 花 呗 花 呗 已 还款 ， 银行卡 怎么 不能 用 了',\n",
       " '花 呗 可以 共用 吗 卖方 原本 可以 用 蚂蚁 花 呗',\n",
       " '花 呗 借 呗 都 不见 了 我 的 蚂蚁 花 呗 和 借 呗 怎么 不见',\n",
       " '花 呗 关 了 还 能 开 吗 花 呗 关闭 之后 。 还 可以 再次 开通 吗',\n",
       " '我 是不是 开通 花 呗 收款 功能 对 吧 现在 是不是 我 这 没有 显示 开通 花 呗 是不是 还 没有 开通',\n",
       " '还清 借 呗 才能 升级 网商贷 是 吗 网商贷 额度 会 比 借 呗 高 吗',\n",
       " '蚂蚁 借唄 怎么 补补 不能 开通 蚂蚁 借 呗   我 为什么 开通 不了',\n",
       " '什么 扣 了 费 ， 还有 这个 蚂蚁 花 呗 账单 我花 呗 里 账单 有 一个 已经 退款 了   为什么 还有',\n",
       " '淘宝 怎么 设置 不用 花 呗 在 淘宝 买 东西 ， 怎么 用花 呗',\n",
       " '现在 我花 呗 的 额度 是 负 的 ， 我 想 还款 ， 饭 没法 操作 为什么 我 的 花 呗 现在 还是 负数',\n",
       " '能 用 手机 话费 还款 花 呗 吗 花 呗 不能 用于 手机 充值 话费 了 吗',\n",
       " '我 的 没有 蚂蚁 花 呗 我 有 两个 号   一个 有 蚂蚁 花 呗 一个 没有',\n",
       " '花 呗 记账 周期 花 呗 账单 是 号 到 号 为 一 周期 吗',\n",
       " '展开   花 呗 付款 的 时候 验证码 怎么 发到 旧 手机号 了 ？ 这 怎么 改 我 的 花 呗 还款 的 时候 验证码 总是 发到 老 手机号 上',\n",
       " '我花 呗 ， 怎么 不 可以 分期 多 的 商品 花 呗 分期 怎么 不能 分 全部 的 金额 ， 只能 分 一二百 的',\n",
       " '花 呗 怎么 还要 绑定 银行卡 刚刚 我用 花 呗 付款 了 ， 要 怎么 还款',\n",
       " '我 的 账号 花 呗 开通 了 吗 现在 我 的 账户 没有 开通 花 呗 吗',\n",
       " '花 呗 可以 在 支付宝 里点 外卖 嘛 外卖 商家 可以 使用 花 呗 嘛',\n",
       " '还花 呗 的 账单 差 了 多少 钱 ， 我 给 她 还 了 ， 把 她 的 蚂蚁 花 呗 给 关 了 吧',\n",
       " '不 想要 网商贷 怎么 变回 借 呗 怎样 把 网商贷 换回 借 呗',\n",
       " '蚂蚁 借 呗 能 延长 还款 时间 吗 借 呗 可以 延后 还款 吗',\n",
       " '买家 用花 呗 买 我 东西 我 要付 服务费 蚂蚁 花 呗 支付 服务费 是 什么',\n",
       " '我 的 花 呗 怎么 显示 是 叫 我 登陆 另 一个 手机号 怎么 解除 另 一个 账号 的 花 呗',\n",
       " '花 呗 能 交 水电费 么 花 呗 能 缴 生活 缴费 吗',\n",
       " '在 哪里 看花 呗 是否 自动 还款 花 呗 已经 自动 还款 了 ， 我 没 看见',\n",
       " '借 呗 最底 是 多 了 的 信用 额度 借 呗 最高 可 提升 多大 额度',\n",
       " '我 的 蚂蚁 借 呗 可以 明天 还 吗   今天 是 还款 日 借 呗 还款 日 ， 今天 到期 ， 我 明天 还 ， 会 有 影响 吗',\n",
       " '一号 花 的 花 呗 什么 时候 还款 本月 一号 使用 花 呗 ， 次 月 几号 还款',\n",
       " '为什么 支付宝 里 的 有 笔 账单 在 花 呗 里 也 有 我 的 花 呗 账单 里 为什么 会 出现 未 出账 账单',\n",
       " '花 呗 用 不了 美团 是 怎么回事 我 美团点 好餐 ， 花唄 怎么 支付 不了',\n",
       " '如何 查看 花 呗 还款 的 具体 怎么 查看 还清 花 呗',\n",
       " '花 呗 安全 认证 错误 花 呗 提供 的 错误',\n",
       " '可以 把 借 呗 这个 标栏 隐藏 起来 ， 别人 看不见 借 呗 工具栏 能 隐藏 起来 吗',\n",
       " '我 的 花 呗 不能 干通 ， 要 设置 人脸 ， 设置 不上 怎么办 花 呗 通过 不了 人脸',\n",
       " '花 呗 可以 换张 银行卡 吗 银行卡 换 了 怎么 换借 呗',\n",
       " '借 呗 可以 按 最低 还款 吗 借 呗 还款 可以 比 最低 还款 数高 吗',\n",
       " '蚂蚁 借 呗 借 一个月 还 多少 蚂蚁 借 呗 借 ， 个 月 还 。 一个月 还 多少',\n",
       " '我 想 永久 关闭 蚂蚁 借 呗 永久 关闭 借 呗',\n",
       " '我花 呗 的 钱 ， 我 已经 还 了 ， 怎么 上面 还 显示 我 没 还 什么 意思 ， 先生 还花 呗 怎么 银行卡 钱 已经 扣 了   但是 还是 显示 差钱',\n",
       " '要 还 花 呗 的 钱 ， 怎么 操作 ， 昨晚 用 的 我要 花 呗 还款 , 怎么 操作',\n",
       " '借 呗 以前 有 两万多 额度 怎么 关闭 了 昨天 都 有 蚂蚁 借 呗 额度 今天 怎么 就 没有 了',\n",
       " '我 的 花 呗 额度 怎么 自己 下调 了 我 的 花 呗 额度 能否 下调 至 五千',\n",
       " '花 呗 里 有 退款 ， 但是 后来 我 关闭 了 ， 退款 怎么办 花 呗 已经 关闭 ， 如果 有 退款 怎么办',\n",
       " '我 有 一个天 免息 的 借 呗 券 借 呗 天 免息 券',\n",
       " '缴费 电费 不能 用花 呗 花 呗 不 可以 付 电费 了 吗',\n",
       " '花 呗 绑定 的 支付宝 能 改 吗 花 呗 换 绑定 的 支付宝',\n",
       " '逾期 多天 还 能 开通 花 呗 吗 花 呗 逾期 两个 月 还 能 不能 使用',\n",
       " '花 呗 充 加油卡 吗 可以 使用 蚂蚁 花 呗 充值 加油卡 吗',\n",
       " '借 呗 是 网商贷 网商贷 ， 是 蚂蚁 花 呗 吗',\n",
       " '花 呗 分期付款 要 全额 支付 吗 用花 呗 分期 购买 ， 为什么 还要 全额 付款',\n",
       " '拿花 呗 支付 的 退款 后 钱 是 退 到 哪儿 花 呗 买 的 东西 ， 退款 就 退 到 哪 了',\n",
       " '我 在 买 东西 ， 怎么 不能 用花 呗 支付 为什么 滴滴 不能 用花 呗 支付 吧',\n",
       " '花 呗 还 在 以前 手机号 绑定 怎么办 蚂蚁 花 呗 手机 绑定 和 设置 里 绑定 手机 不 一致 怎么办',\n",
       " '芝麻 信用 分 怎么 提升 不了 为啥 不 加 芝麻 分 了',\n",
       " '我 昨天 在 蚂蚁 借 呗 借 了 到 现在 都 没有 到 账 怎么 我 的 借 呗 还 没到',\n",
       " '我花 呗 还款 后 再 退款 钱 退 到 那里 去 我 的 退款 在 花 呗 里边儿',\n",
       " '花 呗 消费 后 什么 时候 还款 我 现在 使用 花 呗   什么 时候 还款',\n",
       " '花 呗 刷卡 能刷 几次 还花 呗 能 用 别的 卡 还 吗',\n",
       " '申请 修改 借 呗 还款 日 蚂蚁 借 呗 可以 延缓 还款 日',\n",
       " '是不是 我 不管 买 什么 都 不 可以 再用 花 呗 了 为什么 我花 呗 无法 进行 分期付款',\n",
       " '花 呗 额度 与 芝麻 分有 关系 吗 信用 分跟花 呗 有关 吗',\n",
       " '可以 帮 我 开通 一下 花 呗 吗 小号 可以 申请 花 呗 吗',\n",
       " '为什么 不 支持 开通 花 呗 收钱 码 收钱 码 为什么 不 支持 花 呗',\n",
       " '借 呗 也 不 显示 了 我 为什么 不 显示 蚂蚁 借 呗',\n",
       " '无法 退出 借贝 怎样 退出 借 呗',\n",
       " '蚂蚁 借 呗 输错 三次 密码 我 借 呗 多次 按错 密码 被 中断 了 怎么办',\n",
       " '我 的 花 呗 为啥 不能 支付 微信 花 呗 能 用 微信 支付 还 钱 吗',\n",
       " '怎么 还 了 花 呗   还有 账单 怎么 查 我 的 实名 账号 开通 了 花 呗',\n",
       " '嗨 为什么 不借 呗 提现 了 为什么 我 支付宝 借 呗 不能 取款 了',\n",
       " '我 想 把 花 呗 转到 这个 支付宝 账号 上 ， 怎么 操作 花 呗 怎么 转到 另个 账户',\n",
       " '为什么 把 钱 退 到 花 呗 给 我 退 到 花 呗 上 了',\n",
       " '我 的 借 呗 还款 记录 和 借款 记录 ， 在 哪里 查 借 呗 的 还款 记录 哪里 看',\n",
       " '支付宝 换 了 怎么 换花 呗 换个 支付宝 花 呗 付款 怎么 换',\n",
       " '您 可 登录 支付宝 号 使用 花 呗 您 可 登录 某 支付宝 使用 花 呗',\n",
       " '花 呗 账单 还款 可以 取消 吗 花 呗 主动 还款 之后 取消 了 订单   钱 没退',\n",
       " '蚂蚁 花 呗 ， 分期 有 限额 吗 花 呗 限额 限次',\n",
       " '为什 的 退款 后花 呗 到 账 是 花 呗 支付 退款 需要 多长时间 到 账',\n",
       " '怎么 快速 提高 花 呗 额度 蚂蚁 花 呗 可用 额度 怎么样 才能 提高',\n",
       " '我 把 网商贷 取消 我 把 网商 关掉 了',\n",
       " '给 我 申请 一下 蚂蚁 借 呗 主动 申请 蚂蚁 借 呗 题额',\n",
       " '为什么 我刚 开通 借 呗   就 显示 暂无 额度 为什么 我 的 借 呗 出现 暂无 信誉 额度',\n",
       " '今天 借 呗 有 活动 借 呗 里面 的 活动',\n",
       " '您 说 的 是 您 登录 不上 您 开通 花 呗 的   支付宝 账户 您 说 的 是 您 登录 不上 您 开通 花 呗 的',\n",
       " '支付宝 改了 手机号码 。 花 呗 短信 也 改 了 吗 支付宝 手机号 更改 了 用 不了 花 呗',\n",
       " '蚂蚁 借 呗 怎么 每期 提前 还 借 呗 能 提前 还清 吗',\n",
       " '花 呗 关闭 ， 怎么 还款 花 呗 自动 还款 是 怎样 的',\n",
       " '那 我 的 借 呗 提升 额度 一般 会 通过 吗 我 的 借 呗 额度 还 可 提升 吗',\n",
       " '为什么 花 呗 的 额度 下降 了 我 的 花 呗 怎么 好久 不 调额 了',\n",
       " '我 的 花 呗 什么 时候 升高 什么 时候 可 恢复 花 呗',\n",
       " '蚂蚁 借 呗 利率 怎么 计算 详细 说算下 蚂蚁 借 呗 利息',\n",
       " '我 怎么 才能 提高 借 呗 金额 借 呗 额度 怎样 提升',\n",
       " '花 呗 可 在 加油站 加油 吗 蚂蚁 花 呗 可以 去 中国 石油 加油 吗',\n",
       " '现在 我 的 花 呗 能 用 嘛 我用 了 花 呗 的 钱 吗',\n",
       " '怎么 关闭 刚开 的 花 呗 花 呗 怎么 关掉 我 不用 花 呗 了',\n",
       " '开通 下花 呗 从 新开通 蚂蚁 花 呗',\n",
       " '花 呗 之前 是 的 ， 怎么 现在 变成 了 花 呗 额度 高 的 ， 怎么 会 降低 了',\n",
       " '为什么 说 不 满足 花 呗 开通 条件 开花 呗 ， 显示 不 符合条件',\n",
       " '收款 码 怎么 用花 呗 支付 我 想 我 的 收钱 码 提高 花 呗 支付',\n",
       " '用花 呗 有 利息 么 ， 每月 自动 从 余额 还清 花 呗 欠款 用花 呗 ， 自动 还款 要 利息 吗',\n",
       " '借 呗 借钱 到 银行卡 没 到 借 呗 多久 可以 到 银行卡',\n",
       " '借 呗 开通 的 条件 都 满足 了   为啥 开 不了 为什么 我 不能 开通 借 呗 呀',\n",
       " '为什么 我 的 借 呗 不能 循环 使用 我 的 借 呗 最近 不能 用 了',\n",
       " '借 呗 还款 是 每月 几日 借 呗 每月 还款 日 是 还 多少',\n",
       " '借 呗 和 花 呗 有 冲突 吗 借 呗 和 花 呗 都 一样 的 吗',\n",
       " '借 呗 还款 是 每个 月 吗 借 呗 可以 每月 最低 还款 吗',\n",
       " '有 保险 可以 开通 借 呗 吗 借 呗 有 额度 就 可以 使用 吗',\n",
       " '花 呗 怎么 不能 在 商户 使用 为什么 可以 使用 花 呗 的 店子 不能 使用 花 呗 付款 ～',\n",
       " '网商贷 和 借 呗 是 一个 平台 吗 网商 银行 和 借 呗 是 一起 的 吗',\n",
       " '花 呗 怎么 读 不了 取 通讯录 花 呗 。 支付宝 怎么 访问 通讯录',\n",
       " '刚才 借 呗 怎么 出现 提额 信息 了 怎么 我 的 蚂蚁 借 呗 不会 提额',\n",
       " '花 呗 服务费 扣款 是 什么 意思 花 呗 已 入账 是 什么 意思',\n",
       " '花 呗 支付 成功 ， 怎么 抽奖 花 呗 还 能 抽奖',\n",
       " '借 呗 主动 申请 没 通过 ， 会 不会 自动 开 我 申请 的 借 呗 ， 怎么 还 没 通过',\n",
       " '这个 账号 和 另 一个 账号 是 一个 身份证 注册 的 为什么 这个 账号 不能 用 蚂蚁 借 呗 我 的 借 呗 为什么 不能 用 了',\n",
       " '为什么 借 呗 这么久 不 给 我 提额 借 呗 提前 还款 了 为什么 没 额度 啦',\n",
       " '蚂蚁 借 呗 怎么 还款 有 手续费 我 想 从 蚂蚁 借 呗 里头 周转 下 资金 家 一天 电话 的 手续费 怎么 算 的',\n",
       " '我 蚂蚁 借 呗 怎么 没有 钱 我 昨天 借 呗 申请 怎么 没到 帜',\n",
       " '花 呗 能否 滴滴 滴滴 花 呗 支付',\n",
       " '为什么 我 的 退款 元会 转入 花 呗 小蜜 ， 退款 怎么 会 转花 呗 里',\n",
       " '我 的 花 呗 额度 能调 高 吗 花 呗 额度 怎么 提升',\n",
       " '借 呗 分期 还有 手续费 吗 借 呗 借款 手续费 怎么 算',\n",
       " '花 呗 有钱 的 情况 下 为什么 花 呗 分期 用 不了 为什么 我用 不了 花 呗 分期付款',\n",
       " '我 开通 了 花 呗 为什么 不能 买手机 为什么 没有 花 呗 购物 了',\n",
       " '我 月 用 花 呗 付 的 款 那么 还款 日 是 月 还是 月 花 呗 几号 是 还款 日',\n",
       " '花 呗 分期 能 不能 免息 花 呗 账单 分期 免息 券 在 哪儿 领',\n",
       " '快餐店 里 可以 用花 呗 么 花 呗 可以 在 店里 用 吗',\n",
       " '借 呗 逾期 一天 ， 刚刚 还 了 ， 影响 多大 我 昨天 借 呗 还款',\n",
       " '可以 用 积分 兑换 花 呗 分期 免息 券 吗 积分 可以 兑换 花 呗 免费 分期 吗',\n",
       " '查 一下 蚂蚁 借 呗 的 账单 我 的 借 呗 账单 在 哪里找',\n",
       " '支付宝 花 呗 不 还 会 怎么样 花 呗 这个 月 还 不 上 怎么办',\n",
       " '借 呗 分期 个 月 可以 改为 个 月 吗 借 呗 最长 还款 不是 月 吗 ， 现在 怎么 才 个 月',\n",
       " '我 的 花 呗 显示 微贷 产品 预期 ， 我 想 查询 一下 是 什么 产品 微贷 产品 逾期 记录 ， 花 呗 被 冻结 ， 是 什么 原因',\n",
       " '我 现在 可以 向 客户 花 呗 收款 吗 个体 可以 花 呗 收款 吗',\n",
       " '借 呗 还 了 以后 可以 再 借 吗 借 呗 借 了 还 没 还   还 可以 再 借 嘛',\n",
       " '我 的 借 呗 什么 时候 恢复 额度 怎么样 才能 恢复 借 呗 额度',\n",
       " '借 呗 没 出现 短期 借款 借 呗 短期 在 哪选',\n",
       " '花 呗 只能 总在 网上 买 东西 么 花 呗 只能 在 淘宝 和 天猫 上 消费',\n",
       " '花 呗 分期付款 了 怎么 提额 花 呗 要 分期 还要 怎么 设置',\n",
       " '为什么 花 呗 提前 还款 了 还是 有 手续费 为什么 我 已经 完成 大学生 认证 但花 呗 分 三期 还是 要 手续费',\n",
       " '我 的 账号 没有 花 呗 功能 花 呗 有没有 二维码',\n",
       " '要是 花 呗 额度 不够 ， 又 想 用 分期 购物 ， 有 方法 吗 花 呗 分期 购物 是 必须 花 呗 里 有 这件 物品 总价 的 额度 才行 吗',\n",
       " '花 呗 能 和 微信 连 吗 可以 通过 微信 还 花 呗',\n",
       " '为什么 我 有 现金 贷款 资格   借 呗 开通 不了 为什么 我开 不了 借 呗 呀',\n",
       " '花 呗 账单 为什么 不能 分期 还款 花 呗 账单 不可 分期 了 吗',\n",
       " '借 呗 为什么 不 可以 借 天天 用 支付宝   为什么 借 呗 用 不了',\n",
       " '蚂蚁 借 呗 多久 重新 可以 评估 额度 蚂蚁 借 呗 能 提额 多久 能 评估',\n",
       " '花 呗 还款 日为 号 或 号 ， 有 可能 是 号 ， 请以 页面 提示 为准 花 呗 还款 日   一般 是 每月 的 号 或者 号 哈   具体',\n",
       " '都 已经 退款 了 ， 为什么 花 呗 上 还是 有 这个 要钱 要 还 已 退款 到 花 呗 ， 怎么 每个 月 还要 还',\n",
       " '我 的 信誉 良好 ， 为什么 之前 自动 开通 了 借 呗 ， 后面 又 自动 关闭 了 ， 要 怎么 才 可以 开通 借 呗 你们 自己 把 我 的 关 了 ， 要 如何 才能 开通',\n",
       " '为什么 我花 呗 数 对不上 为什么 我 的 花 呗 三月 有要 还',\n",
       " '我 刚才 点错 了 ， 直接 申请 放款 了 我 借款 金额 写错 了 ， 应该 借万 ， 我 写成 了 万',\n",
       " '蚂蚁 借 呗 两天 没 还 钱 蚂蚁 借 呗 还款 日 几点 没 还 才 算 逾期',\n",
       " '我花 呗 过 一段时间 还 。 现在 真的 没有 钱 我想查 我 的 花 呗 还清 没',\n",
       " '为什么 我 的 花 呗 分期 额度 显示 余额 不足 花 呗 分期 总是 提示 额度 不足 是 什么 意思',\n",
       " '还花 呗 能 用 微信 支付 么 花 呗 怎么 绑定 微信 支付款',\n",
       " '借 呗 的 钱 什么 时候 到 为什么 在 借 呗 借钱 要 那么 久 还 不到 账',\n",
       " '花 呗 还款 方式 是 扣 支付宝 余额 吗 想 开通 余额 宝 自动 还花 呗',\n",
       " '借 呗 有 还款 信息 提醒 吗 借 呗 还款 不 提醒 吗',\n",
       " '蚂蚁 花 呗 还 钱 有 问题 蚂蚁 借 呗 提前 还 钱 ， 会 不会 被 关闭 借 呗 功能',\n",
       " '花 呗 学历 信息 更改 个人信息 更改 后花 呗 功能 还 在 吗',\n",
       " '借 呗 的 期限 怎么 变短 了 借 呗 可以 借期 ， 现在 怎么 只 可以 借期 了',\n",
       " '花 呗 如何 找 朋友 代付 花 呗 可以 找人 代付 不',\n",
       " '你们 花 呗 额度 是 看 颜值   决定 的 吗 花 呗 可用 额度 是 元',\n",
       " '我 以前 登花 呗 的 手机号 忘 了 我 手机号 设 变换 了 手机 以前 直接 登录 花 呗 现 帐户 和 密码 忘记 怎么办',\n",
       " '蚂蚁 借 呗 怎么 把 利息 降低 借 呗 怎么 降低 利息',\n",
       " 'oppo 花 呗 限制 充值 是 多少 花 呗 分期 有没有 限制 多少',\n",
       " '我 的 花 呗 收款 审核 是 什么 原因 没有 通过 借 呗 审核 不 通过 用 什么 原因',\n",
       " '我 的 手机 丢 了 花 呗 怎么 还 钱 我 手机 都 没花 呗 图案',\n",
       " '为什么 借 呗 不能 十二个 月 分期 还款 了 蚂蚁 借 呗 期 还款 怎么 不能 选 了',\n",
       " '来 分期 有过 逾期   但是 花 呗 没有 过 逾期   影响 开通 借 呗 吗 蚂蚁 借 呗 过期 还款 有 啥 影响',\n",
       " '花 呗 冻结 了 怎么 把 花 呗 恢复 花 呗 冻结 了   给 我 开开',\n",
       " '花 呗 可以 收 利息 的 部分 提前 还款 ， 免息 的 不 提前 还款 吗 申请 花 呗 分期 后 提前 还款 还要 手续费 吗',\n",
       " '花 呗 不是 自动 还 借 呗 还 钱 是 自动 还 吗',\n",
       " '如何 删除 支付宝 借 呗 的 还款 记录 我 想 你 给 我 蚂蚁 借 呗 记录 删除',\n",
       " '我 不 明白 为什么 停 了 我 的 借 呗 我 的 借 呗 给 我关 了 干嘛',\n",
       " '花 呗 之前 有 逾期 记录 ， 现在 已经 还清 ， 但 无法 分期付款 ， 如何 恢复 花 呗 分期 花 呗 如何 单笔 分期',\n",
       " '蚂蚁 借 呗 分期 后能 一次性 付清 吗 我 的 借 呗 这 一期 还清 了 吗',\n",
       " '是 喊 我 朋友网 银转 钱 到 你们 支付宝 账号 里 我 支付宝 里 有 余额 的   但是 没 办法 扣',\n",
       " '滴滴 出行 可以 用花 呗 支付 麽 蚂蚁 花 呗 能 不能 用 滴滴 出行',\n",
       " '为什么 我 的 借 呗 用 不了 为什么 我 的 借 呗 不能 接 了',\n",
       " '我 的 花 呗 开 没开 我 这个 支付宝 还 没 开通 花 呗 吗',\n",
       " '借 呗 提前 还款 对 信誉 有用吗 蚂蚁 借 呗 提前 还款 算是 违约 吗',\n",
       " '能 修改 蚂蚁 花 呗 的 还款 时间 吗 蚂蚁 花 呗 怎么 修改 还款 手机号',\n",
       " '借 呗   没有 自动 扣款 为什么 借 呗 到 现在 还 没有 扣',\n",
       " '怎么 可以 再 另 一个 账户 开通 花 呗 我 的 这个 账号 花 呗 关掉 了 ， 我 得 新 账号 怎么 不能 开通 花 呗',\n",
       " '为什么 我 的 花 呗 到 现在 都 没 提额 我 的 借 呗 没 提额 花 呗 总 提额 为什么',\n",
       " '花 呗 还款 详情 时间 花 呗 每月 几时 还款',\n",
       " '可以 在线 咨询 蚂蚁 花 呗 吗 花 呗 可以 使用 qq 充值 吗',\n",
       " '安安 ， 我 申请 的 花 呗 收款 怎么 不能 用 我 的 商家 收款 二维码 为什么 花 呗 支付 不了',\n",
       " '花 呗 分期 了 两个 可以 先 还清 一个 吗 花 呗 单笔 分期 还清',\n",
       " '我 的 花 呗 平台 怎么 没有 我花 呗 为什么 没有 额度',\n",
       " '我用 支付宝 的 花 呗 买 的 火车票 ， 完 了 我 还 了 ， 结果 我 去 退票 它 又 把 钱 退 到 了 花 呗 上 我 之前 用花 呗 买 了 火车票 ， 但是 最近 我 已经 提前 把 所有 的 钱 都 还 完 了 ， 如果 我 现在 退 火车票 ， 钱会 退到 哪里',\n",
       " '我 的 蚂蚁 借 呗 怎么 沒有 了 ， 我要 借钱 我 的 借 呗 以前 有 两万多 的 ， 现在 为什么 没有 了',\n",
       " '花 呗 分期 服务 开票 花 呗 分期 服务费 开票 类型',\n",
       " '开通 借 呗 一定 要 绑 银行卡 吗 绑定 银行卡 就 可以 用花 呗 了',\n",
       " '为什么 退 了 花 呗 呀 为什么 把 钱 已经 退到 花 呗 ， 花 呗 账单 还是 那些',\n",
       " '借 呗 什么 时候 恢复 借钱 借 呗 已经 还清   额度 为什么 不 恢复',\n",
       " '花 呗 什么 支持 用 收钱 码 支持 信用卡 花 呗 吗',\n",
       " '借 呗 本月 的 款 可以 分期 吗 借 呗 分期 可以',\n",
       " '借 呗 还款 日点 后 还 可以 吗 借 呗 可不可以 延后 还款',\n",
       " '不 可以 用花 呗 支付 电费 了 么 用花 呗 可以 叫 电费 嘛',\n",
       " '花 呗 总 欠款 怎么 看 花 呗 总额 度 在 哪 看',\n",
       " '号 还款 要 到 号 才能 再 使用 花 呗 吗 可不可以 到 号 再 还 花 呗',\n",
       " '蚂蚁 借 呗 可以 提前 还 下个月 的 么 可不可以 提前 还 借 呗 分期',\n",
       " '每月 花 呗 还款 日 可以 更改 日期 吗 怎么 更改 花 呗 自动 还款 账户',\n",
       " '借 呗 信用 怎么 提高 使用 借 呗 会 提升 信用 吗',\n",
       " '花 呗 支付 功能 我 一直 使用 花 呗 支付',\n",
       " '找 不到 我 的 花 呗 了 为什么 我 的 蚂蚁 花 呗 找 不到 了',\n",
       " '蚂蚁 借 呗 升级 为 网商 贷后 额度 是 一样 的 吗 网商贷 是否 跟 原有 的 借 呗 一样 的 额度 吗',\n",
       " '还 完 了 花 呗 ， 好友 帮 还 怎么 还 在 邀请 中 怎么 邀请 好友 帮 我 还 花 呗',\n",
       " '线下 花 呗 收款 需要 支付 手续费 吗 用花 呗 付款 需要 手续费 或 利息 吗',\n",
       " '花 呗 已经 办理 分期 还款 ， 现在 怎么样 才 可以 提前 一次 性能 还清 花 呗 分期 提前 还清   在 哪里',\n",
       " '我 没有 支付宝 花 呗 ， 只有 淘宝 花 呗 淘宝 上 有 花 呗 为什么 支付宝 上 没有',\n",
       " '借 呗 怎么 接受 权 借 呗 怎么 主动 堤 余额',\n",
       " '我用 花 呗 在 美团订 餐饮 花 呗 可以 在 美团 用 嘛',\n",
       " '花 呗 开 了 一定 要用 吗 ？ 如果 不用 会 不会 产生 费用 花 呗 开通 之后 不用 会 产生 费用 吗',\n",
       " '我 刚才 注册 了 蚂蚁 借 呗 我 想 取消 我 扫 的 身份证 蚂蚁 借 呗 怎么 取消 验证 身份证',\n",
       " '花 呗 分期 过后 能 一次 还 完 不 花 呗 分期 可以 一次 多 还 嘛',\n",
       " '蚂蚁 花 呗 不 还 怎么办 账号 等 不 上去 花 呗 怎么 还',\n",
       " '花 呗 最低 还款 有 影响 的 吗 花 呗 不 可以 每月 最低 还款 吗',\n",
       " '花 呗 付款 后 ， 我 的 商品 要 退款 花 呗 付款 成功 ， 怎么 申请 退款',\n",
       " '花 呗 显示 有个 未 还款 我 的 花 呗 什么 时候 欠款 未 还',\n",
       " '火车票 花 呗 退款 金额 差额 很大 支付宝 火车票 退款 与 花 呗 不符',\n",
       " '支付宝 交 电费 怎么 不会 用 蚂蚁 花 呗 了 收钱 码 ， 花 呗 怎么 支付',\n",
       " '【 花 呗 】 你 的 支付宝 @ qq . com 花 呗 月 账单 自动 还款 失败 ， 元 未 还 ， 请 登录 “ 支付宝 - 花 呗 ” 核对 并 还款 ， 已 还 忽略 【 花 呗 】 你 的 支付宝 @ qq . com 花 呗 月 账单 自动 还款 失败 ， 元 未 还 ， 请 登录 “ 支付宝 - 花 呗 ” 核对 并 还款 ， 已 还 忽略',\n",
       " '花 呗 ， 刷 脸 没 成功 多次 刷 脸花 呗 不 成功 ， 咋办',\n",
       " '我 的 花 呗 收款 怎么 不能 关闭 退出 花 呗 ， 我 怎么 又 要 还款 不是 还 完',\n",
       " '花 呗 登 不 进去 了 蚂蚁 花 呗 ， 怎么 登 不 进去',\n",
       " '花 呗 怎么 提升 到 几千 花 呗 怎么 提额',\n",
       " '我 可以 在 支付 包用 花 呗 就是 在 淘宝 用 不了 淘宝 的 花 呗 可以 用 支付宝 的 ， 用 不了',\n",
       " '怎么 才 可以 把 花 呗 额度 提到 三千 怎么 更改 花 呗 的 额度',\n",
       " '我 是 商家 ， 店铺 目前 无法 开通 花 呗 我 的 店铺 刚开 一个月   想 开通 花 呗   但是 好像 不能 开   对 店铺 有 什么 具体 要求   才能 开通 花 呗',\n",
       " '我 什么 时候 可 恢复 借 呗 额度 什么 时候 可以 恢复 蚂蚁 借 呗',\n",
       " '在 吗 为什么 我 的 没有 花 呗 问 为什么 我 没有 花 呗 额度',\n",
       " '花 呗 租 手机 续付 时 手机 损坏 时 租金 变 吗 花 呗 租 手机 是 一直 租 吗',\n",
       " '为什么 我 蚂蚁 借 呗 验证码 收不到 ， 怎么回事 借 呗 怎么 用 不了 ， 收不到 回复 验证码',\n",
       " '我 之前 的 蚂蚁 花 呗 忘记 账号 了 花 呗 使用 的 账户 忘记 是 什么 号码',\n",
       " '我用 了 花 呗 里 的 线 但是 我 没 绑定 银行卡 怎么 还款 我花 呗 还款 ， 从 银行卡 余额 扣除 了 ， 但是 账单 还 没 还 上',\n",
       " '为什么 淘宝 可以 用花 呗 支付 ， 我 在 支付宝 上 却 找 不到 我 的 花 呗 花 的 怎么 找 不到 了',\n",
       " '怎样 可以 快速 使用 蚂蚁 借 呗 我 想 使用 蚂蚁 借 吧',\n",
       " '支付宝 收款 ， 为什么 不能 收 信用卡 和 花 呗 的 钱 我 申请 的 收钱 码   信用卡 和 花 呗 支持 最高 额度 是 多少',\n",
       " '花 呗 ， 如何 设置 分期 还款 花 呗 分期 还 没 还清 还 能 再 分期 吗',\n",
       " '为什么 我连花 呗 体验 额度 都 没有 为什么 花 呗 额度 只能 使用 元',\n",
       " '还 完 总 欠款 才 可以 用 借 呗 我 可以 用 蚂蚁 借 呗 嘛',\n",
       " '我 还 没有 开通 花 呗 但是 淘宝 付款 使用 了 要 怎么 还款 我 并 没有 开通 花 呗 ， 付款 按错 用 了 次 ， 怎么样 还款',\n",
       " '我得花 呗 怎么 停用 了 怎么样 把 花 呗 关 了',\n",
       " '开启 花 呗 账单 分期 后 可以 一次 还清 吗 花 呗 分期 了 以后 还 可以 一次性 还 上 么',\n",
       " '没有 支付宝 ， 可以 还用 了 花 呗 的 钱 吗 刚用 花 呗 付款 现在 可以 还款 吗',\n",
       " '还有 重庆 阿里 小额 小贷 、 重庆 蚂蚁 小额 小贷   这 两个 公司 也 收取 了 花 呗 分期 重庆 阿里 小额 小贷 ， 重庆 蚂蚁 小额 小贷   这 两个 也 是 花 呗 分期',\n",
       " '我 得 借 呗 还款 成功 了 吗 我 九月 这 期 蚂蚁 借 呗 是否 还款 成功',\n",
       " '我 还清 了 花 呗 怎样 退出 我 怎样才能 退出 花 呗',\n",
       " '我 想 知道 花 呗 临时 额度 多少 花 呗 额度 和 临时 额度 怎么 还',\n",
       " '水费 为什么 不能 用花 呗 支付 了 我交 水电费 怎么 用 不了 花 呗',\n",
       " '怎么样 恢复 调整 前 的 花 呗 额度 花 呗 额度 怎么 恢复 原来 的 花 呗 钱数',\n",
       " '双十 一 消费 的 花 呗 总额 可以 分期 免息 里 可以 领花 呗 分期 免息',\n",
       " '借 呗 难开 很 开 通过 借 呗 了',\n",
       " '为什么 我 支付宝 付款 不 可以 使用 花 呗 本款 衣服 有 标识 花 呗 支付 ， 为什么 不能',\n",
       " '网商贷 ， 就是 蚂蚁 借 呗 吗 借 呗 变 网上 贷',\n",
       " '借 呗 什么 时候 有钱 蚂蚁 借 呗 什么 时候 出账',\n",
       " '借 呗 怎么 没 资格 申请 借 呗 怎么 还 没 开通',\n",
       " '花 呗 提前 结清 ， 花 呗 会长 额度 嘛 花 呗 提前 还清 全款',\n",
       " '信用卡 与 花 呗 为什么 显示 不 符合规定 为什么 点击 花 呗 信用卡 付款 ， 说 不 符合',\n",
       " '开通 花 呗 后 怎么 关闭 关闭 花 呗 后 还 可以 开通 吗',\n",
       " '我 想 用 借 呗 怎么 做 怎么样 才 可以 用 借 呗',\n",
       " '借 呗 到期 可以 再 分期 吗 我 的 借 呗 可以 分期 吗',\n",
       " '调整 花 呗 额度 我花 呗 的 临时 额度',\n",
       " '花 呗 红包 怎么样 花 呗 可以 换 红包 不',\n",
       " '之前 用 完花 呗 有 一次 抽奖 的 机会 现在 还有 吗 之前 花 呗 付款 有 抽奖 机会 的',\n",
       " '我 的 花 呗 什么 时候 才 可以 y 怎么 才 可以 用 回花 呗',\n",
       " '蚂蚁 花 呗 重新 怎么 开通 我 请求 再次 开通 蚂蚁 花 呗',\n",
       " '花 呗 分期 了 能 取消 分期 花 呗 不用 分期',\n",
       " '蚂蚁 借 呗 可以 借借 计次 ， 还 可以 在建 吗 蚂蚁 借 呗 借 的 钱 开通 网商贷 之后 ， 可以 还款 吗',\n",
       " '买 运费 险 就 不能 用花 呗 支付 美 图 不能 用花 呗',\n",
       " '借 呗 可以 取消 自动 还款 不 我 之前 设置 了 借 呗 自动 还款 ， 怎样 取消',\n",
       " '蚂蚁 花 呗 分期 还款 可以 一次 还清 吗 用花 呗 分期付款 ， 还是 一次性 还清 花 呗 还是',\n",
       " '花 呗 逾期 款返 清后 花 呗 可以 使用 吗 逾期 一天 还 可以 用花 呗 不',\n",
       " '说 我 账户 不 符合 开通 信用卡 花 呗 付款 是 什么 意思 要 开通 信用卡 与 花 呗 收款 功能 ， 但 提示 说 我 的 账户 不 符合 开通 条件',\n",
       " '花 呗 分期 暂 不可 用 到 提交 订单 的 时候 显示 花 呗 分期 不可 用',\n",
       " '借 呗 借钱 成功 多久 放款 蚂蚁 借 呗 借 的 钱 一般 多久 到 账',\n",
       " '可以 开花 呗 不用 吗 花 呗 能 用到 支付宝 吗',\n",
       " '未出 帐 的 花 呗 可以 提前 还 吗 花 呗 还款 怎么 提前 还',\n",
       " '借 呗 还款 时间 什么 方式 借 呗 没 还 怎么办',\n",
       " '我 的 花 呗 用 其他 方式 怎么 还款 怎么 还 在 花 呗 待 还款 里',\n",
       " '花 呗 分期 商户 如何 使用 花 呗 分期   权限',\n",
       " '我 可以 开通 口碑 不 开花 呗 吗 蚂蚁 花 呗 不能 用 口碑',\n",
       " '为什么 借 呗 的 钱 到 不了 为什么 蚂蚁 借 呗 无法 分期',\n",
       " '为什么 我 条件 都 满足 了 ， 就是 开 不了 花 呗 借 呗 借 呗 开通 不了 ， 花 呗 无法 使用 ， 真的 是',\n",
       " '要 多少 芝麻 信用 分 ， 花 呗 才 可以 用 花 呗 要 多少 分 可以 开通',\n",
       " '花 呗 借 呗 设计 最低 还款 哪里 设计 花 呗 怎么 自动 按 最低 额 还款',\n",
       " '借 呗 降低 太 多 蚂蚁 借 呗 会 降低 额度 么',\n",
       " '我 不是 花 呗 分期 吗 ！ 我 需要 全款 支付 吗 现在 花 呗 不 可以 分期付款 了 吗',\n",
       " '绑定 了 银行卡 为什么 还 用 不了 花 呗 为什么 绑定 银行卡 了 ， 还是 使用 不了 花 呗 支付',\n",
       " '身份证 到期 了 ， 还 能 正常 总花 呗 ， 借 呗 吗 过期 身份证 可以 开借 呗 吗',\n",
       " '怎么样 可以 授权 花 呗 重新 授权 蚂蚁 花 呗',\n",
       " '花 呗 预期 ， 如何 可以 恢复 使用 我 的 花 呗 有 逾期 ， 怎样才能 恢复正常 使用',\n",
       " '花 呗 额度 用 完 什么 时候 可以 更新 花 呗 的 零时 额度 ， 什么 时候 到期',\n",
       " '花 呗 二维码 付款 有 额度 限制 吗 花 呗 支付 收款 有 限制 额度 吗',\n",
       " '借 呗 借 了 还 能 再 接 吗 借 呗 我 可以 推辞 还 吗',\n",
       " '提前 结清 月 的 花 呗 花 呗 分期 提前 结清 在 哪个 页面',\n",
       " '为什么 之前 我 这个 号 有 一千 的 蚂蚁 借 呗 的 额度 ， 但是 现在 就 没有 了 为什么 按时 还款 了 借 呗 却 没有 额度 了',\n",
       " '花 呗 还款 如何 选择 用 余额 宝 从 余额 宝 怎么 设置 代扣 到 花 呗 还款',\n",
       " '开通 了 商家 花 呗 收款 ， 为什么 别人 用花 呗 付 不了 钱 为什么 我 的 花 呗 收款 今天 突然 收不到 钱 了',\n",
       " '能 不能 关闭 借贝 我 想 关闭 借贝',\n",
       " '为什么 没有 开通 花 呗 花 呗 开通 后 钱 不会 没 吧',\n",
       " '花 呗 是否 支持 加油 充值 可以 用花 呗 充 加油卡',\n",
       " '花 呗 有 余额 ， 但 不 知道 怎么 还款 我 就 花 呗 ， 怎么 还款',\n",
       " '花 呗 的 还 快款 金额 不 对 还 的 钱 跟 花 呗 对不上',\n",
       " '为什么 我 朋友 的 借 呗 没有 先息 后本 这个 业务 为什么 我 的 借 呗 只有 六个月 和 个 月 的 借款 时期',\n",
       " '双十 一 可以 用 蚂蚁 花 呗 付款 吗 双十 一 抢购 的 东西   可以 用花 呗 付款 吗',\n",
       " '蚂蚁 借 呗 的 利息 每个 人 都 不 一样 吗 为什么 借 呗 利率 不 一样',\n",
       " '借 呗 点 没用 自动 扣款 借 呗 不是 自动 扣款 吗',\n",
       " '现在 花 呗 里面 显示 还是 以前 的 ， 我 现在 的 这个 帐户 都 用 不了 我 原来 有个 账号 也 是 用 这个 身份证 ， 可以 用花 呗 ， 现在 注销 了 ， 想 用 这个 账号 开通 ， 开通 不了 了',\n",
       " '我 的 花 呗 点开 没有 显示 没有 花 呗 的 显示',\n",
       " '手机 怎么 申请 开通 花 呗 收款 花 呗 手机 上 怎么 开通',\n",
       " '花 呗 额度 下降 了 花 呗 降额 ， 有病',\n",
       " '花 呗 不 支持 付款 咋 回事 花 呗 支持 超市 或 便利店 购物 付款 吗',\n",
       " '可以 提前 还款 吗 花 呗 花 呗 分期 后 选择 提前 还清 ， 但 还 不 完 还 可以 选择 分期 吗',\n",
       " '借 呗 还款 以后 额度 未 恢复 蚂蚁 借 呗 还款 后 还 能 再 借 吗',\n",
       " '我 的 花贝 怎么 用 不了 我 的 花 呗 怎么 没法 使用',\n",
       " '更换 手机号码 ， 借 呗 还 能 用 吗 借 呗 ， 能 开通 吗',\n",
       " '借 呗 能 降低 借钱 么 怎么 会降 借 呗',\n",
       " '花 呗 提前 还 完 所有 的 款 如何 在 电脑 上 还 花 呗 的 款',\n",
       " '借 呗 能 最后 一期 才 还 吗 借 呗 能 改 分期',\n",
       " '花 呗 更换 绑定 的 银行卡 花 呗 绑定 了 银行卡 了 ， 怎么 还 不行',\n",
       " '我 的 花 呗 绑定 的 是 旧 号码 为什么 我 进花 呗 里面 显示 旧 的 手机号码',\n",
       " '我 之前 花 呗 有 逾期 没有 看到 花 呗',\n",
       " '你 这里 可以 用 支付宝 花 呗 支付 吗 面付 可以 使用 花 呗 吗',\n",
       " '花 呗 退款 了 为什么 在 还 花 呗 账单 里面 还有 这个 账单 这单 淘宝 已 显示 退款 ， 这里 也 显示 退回 花 呗 ， 为什么 帐单 还款 里 还要 再 还',\n",
       " '关闭 蚂蚁 花 呗 收款 我 的 花 呗 收款 码坏 了',\n",
       " '商家 使用 花 呗 收费   有 手续费 吗 使用 花 呗 付款 ， 卖家 会 有 手续费 吗',\n",
       " '主动 关闭 花 呗 ， 是否 以后 都 不能 再 开启 花 呗 关闭 后 还 能 再次 开通 嘛',\n",
       " '余额 宝 设置 还花 呗 如何 设置 ， 花 呗 用 余额 宝 还款',\n",
       " '花 呗 也 被 冻结 了 蚂蚁 花 呗 额度 冻结',\n",
       " '好 ， 了 ， 我 在 支付 收款 码是 怎么 说 的 写 是 写 花 呗 ， 给 我 的 钱 确扣 了 次 呀',\n",
       " '为什么 还是 进不去 蚂蚁 借 呗 为什么 我 每次 进入 蚂蚁 借 呗',\n",
       " '收钱 码 付款 可以 用花 呗 吗 收钱 码花 呗 能 用 吗',\n",
       " '蚂蚁 借 呗 申请 额度   学历 是 初中 学历 怎么 填 怎么 加 蚂蚁 借 呗 管理',\n",
       " '花 呗 逾期 还款 后 花 呗 逾期 了 ， 会 从 银行卡 扣款 吗',\n",
       " '花 呗 可以 重新 绑定 支付宝 账号 吗 第二个 注册 的 支付宝 账号 有没有 花 呗',\n",
       " '蚂蚁 借 呗 是 哪个 公司 的 产品 蚂蚁 借 呗 贷款 公司 是 谁',\n",
       " '借 呗 只有 个 月 和 个 月 蚂蚁 借 呗 个 月',\n",
       " '怎么 我 的 借 呗 还 沒 有 蚂蚁 借 呗 怎么 有 额度',\n",
       " '另 一个 账户 开通 了 花 呗 ， 怎么 转 到 这个 账户 我 之前 的 手机号 账户 花 呗 已经 不 记得 了 ， 怎么 转 到 现在 这个 手机号 账户 上',\n",
       " '花 呗 可以 提 额度 不 花 呗 领 了 临时 额度 ， 总额 度 还 可以 提升 吗',\n",
       " '享 换机 花 呗 额度 不足 花 呗 额度 不足 分期',\n",
       " '为什么 我 蚂蚁 借 呗 给 我 取消 啦 我 又 没有 逾期 过 ， 怎么 取消 我 的 蚂蚁 借贝',\n",
       " '借 呗 要 怎么 变成 网商贷 为什么 我 单位 借 呗 变成 了 网商贷',\n",
       " '如何 使 蚂蚁 借 呗 利息 降低 蚂蚁 借 呗 的 利息 会 调整 吗',\n",
       " '花 呗 逾期 还款 了 为什么 不能 使用 了 为什么 我 的 显示 逾期 为 还   不能 用花 呗',\n",
       " '现在 游戏 内 不 可以 用花 呗 充值 点卷 吗 花 呗 不能 用于 游戏 充值 吗',\n",
       " '为什么 我 的 支付宝 没有 花 呗 功能 我 的 支付宝 没 显示 。 花贝',\n",
       " ...]"
      ]
     },
     "execution_count": 11,
     "metadata": {},
     "output_type": "execute_result"
    }
   ],
   "source": [
    "#这是把两个句子集作为语料库来方便后续计算TF-IDF\n",
    "[' '.join(x) for x in train_sentence1 + train_sentence2]"
   ]
  },
  {
   "cell_type": "code",
   "execution_count": null,
   "metadata": {
    "ExecuteTime": {
     "end_time": "2022-02-14T07:40:52.238333Z",
     "start_time": "2022-02-14T07:38:11.034Z"
    }
   },
   "outputs": [],
   "source": [
    "tfidf.vocabulary_"
   ]
  },
  {
   "cell_type": "code",
   "execution_count": null,
   "metadata": {
    "ExecuteTime": {
     "end_time": "2022-02-14T07:42:03.440712Z",
     "start_time": "2022-02-14T07:41:59.246Z"
    }
   },
   "outputs": [],
   "source": [
    "tfidf.idf_"
   ]
  },
  {
   "cell_type": "code",
   "execution_count": null,
   "metadata": {
    "ExecuteTime": {
     "start_time": "2022-02-14T07:58:27.438Z"
    }
   },
   "outputs": [],
   "source": [
    "def tfidf_pooing(sentence, sentence_word2vec):\n",
    "    weights = []\n",
    "    feats = []\n",
    "    for word,feat in zip(sentence, sentence_word2vec):\n",
    "        if word in tfidf.vocabulary_:\n",
    "            weights.append(tfidf.idf_[tfidf.vocabulary_[word]])\n",
    "            feats.append(feat)\n",
    "    weights = np.array(weights)\n",
    "    feats = np.array(feats)\n",
    "    \n",
    "    if len(feats) == 0:\n",
    "        return np.zeros(64)\n",
    "    else:\n",
    "        return np.matmul(weights, feats)"
   ]
  },
  {
   "cell_type": "code",
   "execution_count": 13,
   "metadata": {
    "ExecuteTime": {
     "end_time": "2022-02-14T07:52:14.724457Z",
     "start_time": "2022-02-14T07:51:51.406512Z"
    }
   },
   "outputs": [],
   "source": [
    "train_sentence1_tfidffeat = [tfidf_pooing(sentence, sentence_feat) \n",
    "    for sentence, sentence_feat in zip(train_sentence1[:], train_sentence1_feat[:])]\n",
    "\n",
    "train_sentence2_tfidffeat = [tfidf_pooing(sentence, sentence_feat) \n",
    "    for sentence, sentence_feat in zip(train_sentence2[:], train_sentence2_feat[:])]\n"
   ]
  },
  {
   "cell_type": "code",
   "execution_count": null,
   "metadata": {
    "ExecuteTime": {
     "end_time": "2022-02-14T07:40:52.248335Z",
     "start_time": "2022-02-14T07:38:20.448Z"
    }
   },
   "outputs": [],
   "source": [
    "from sklearn.preprocessing import normalize\n",
    "\n",
    "train_sentence1_tfidffeat = np.vstack(train_sentence1_tfidffeat)\n",
    "train_sentence2_tfidffeat = np.vstack(train_sentence2_tfidffeat)\n",
    "\n",
    "train_sentence1_tfidffeat = normalize(train_sentence1_tfidffeat)\n",
    "train_sentence2_tfidffeat = normalize(train_sentence2_tfidffeat)\n",
    "\n",
    "tfidf_pooing_distance = [np.dot(x, y) for x, y in \n",
    "                        zip(train_sentence1_tfidffeat, train_sentence2_tfidffeat)]\n",
    "train_data['tfidf_pooing'] = tfidf_pooing_distance"
   ]
  },
  {
   "cell_type": "code",
   "execution_count": 126,
   "metadata": {},
   "outputs": [
    {
     "data": {
      "text/plain": [
       "<AxesSubplot:xlabel='label'>"
      ]
     },
     "execution_count": 126,
     "metadata": {},
     "output_type": "execute_result"
    },
    {
     "data": {
      "image/png": "[encoded data removed]",
      "text/plain": [
       "<Figure size 432x288 with 1 Axes>"
      ]
     },
     "metadata": {
      "needs_background": "light"
     },
     "output_type": "display_data"
    }
   ],
   "source": [
    "train_data.groupby('label')['tfidf_pooing'].mean().plot(kind='bar')"
   ]
  },
  {
   "cell_type": "markdown",
   "metadata": {},
   "source": [
    "## SIF Embedding"
   ]
  },
  {
   "cell_type": "markdown",
   "metadata": {},
   "source": [
    "> https://github.com/PrincetonML/SIF/blob/master/src/SIF_embedding.py"
   ]
  },
  {
   "cell_type": "code",
   "execution_count": 23,
   "metadata": {
    "ExecuteTime": {
     "end_time": "2022-01-25T02:35:11.830248Z",
     "start_time": "2022-01-25T02:35:11.690992Z"
    }
   },
   "outputs": [
    {
     "ename": "NameError",
     "evalue": "name 'train_sentence1_tfidffeat' is not defined",
     "output_type": "error",
     "traceback": [
      "\u001b[1;31m---------------------------------------------------------------------------\u001b[0m",
      "\u001b[1;31mNameError\u001b[0m                                 Traceback (most recent call last)",
      "\u001b[1;32m<ipython-input-23-ff82358f823d>\u001b[0m in \u001b[0;36m<module>\u001b[1;34m\u001b[0m\n\u001b[0;32m      2\u001b[0m \u001b[1;33m\u001b[0m\u001b[0m\n\u001b[0;32m      3\u001b[0m \u001b[0msvd\u001b[0m \u001b[1;33m=\u001b[0m \u001b[0mTruncatedSVD\u001b[0m\u001b[1;33m(\u001b[0m\u001b[0mn_components\u001b[0m\u001b[1;33m=\u001b[0m\u001b[1;36m1\u001b[0m\u001b[1;33m,\u001b[0m \u001b[0mn_iter\u001b[0m\u001b[1;33m=\u001b[0m\u001b[1;36m7\u001b[0m\u001b[1;33m,\u001b[0m \u001b[0mrandom_state\u001b[0m\u001b[1;33m=\u001b[0m\u001b[1;36m0\u001b[0m\u001b[1;33m)\u001b[0m\u001b[1;33m\u001b[0m\u001b[1;33m\u001b[0m\u001b[0m\n\u001b[1;32m----> 4\u001b[1;33m \u001b[0msvd\u001b[0m\u001b[1;33m.\u001b[0m\u001b[0mfit\u001b[0m\u001b[1;33m(\u001b[0m\u001b[0mtrain_sentence1_tfidffeat\u001b[0m\u001b[1;33m)\u001b[0m\u001b[1;33m\u001b[0m\u001b[1;33m\u001b[0m\u001b[0m\n\u001b[0m",
      "\u001b[1;31mNameError\u001b[0m: name 'train_sentence1_tfidffeat' is not defined"
     ]
    }
   ],
   "source": [
    "from sklearn.decomposition import TruncatedSVD\n",
    "\n",
    "svd = TruncatedSVD(n_components=1, n_iter=7, random_state=0)\n",
    "svd.fit(train_sentence1_tfidffeat)"
   ]
  },
  {
   "cell_type": "code",
   "execution_count": 148,
   "metadata": {},
   "outputs": [],
   "source": [
    "#所有的句子减去主成分的投影，剩下次要成分\n",
    "train_sentence1_siffeat = train_sentence1_tfidffeat - \\\n",
    "        train_sentence1_tfidffeat.dot(np.transpose(svd.components_)).dot(svd.components_)\n",
    "    \n",
    "train_sentence2_siffeat = train_sentence2_tfidffeat - \\\n",
    "        train_sentence2_tfidffeat.dot(np.transpose(svd.components_)).dot(svd.components_)"
   ]
  },
  {
   "cell_type": "code",
   "execution_count": 149,
   "metadata": {},
   "outputs": [],
   "source": [
    "train_sentence1_siffeat = normalize(train_sentence1_siffeat)\n",
    "train_sentence2_siffeat = normalize(train_sentence2_siffeat)\n",
    "\n",
    "sif_embedding_distance = [np.dot(x, y) for x, y in \n",
    "                        zip(train_sentence1_siffeat, train_sentence2_siffeat)]\n",
    "train_data['sif_embedding'] = sif_embedding_distance"
   ]
  },
  {
   "cell_type": "code",
   "execution_count": 150,
   "metadata": {},
   "outputs": [
    {
     "data": {
      "text/plain": [
       "<AxesSubplot:xlabel='label'>"
      ]
     },
     "execution_count": 150,
     "metadata": {},
     "output_type": "execute_result"
    },
    {
     "data": {
      "image/png": "[encoded data removed]",
      "text/plain": [
       "<Figure size 432x288 with 1 Axes>"
      ]
     },
     "metadata": {
      "needs_background": "light"
     },
     "output_type": "display_data"
    }
   ],
   "source": [
    "train_data.groupby('label')['sif_embedding'].mean().plot(kind='bar')"
   ]
  },
  {
   "cell_type": "code",
   "execution_count": 151,
   "metadata": {},
   "outputs": [
    {
     "data": {
      "text/html": [
       "<div>\n",
       "<style scoped>\n",
       "    .dataframe tbody tr th:only-of-type {\n",
       "        vertical-align: middle;\n",
       "    }\n",
       "\n",
       "    .dataframe tbody tr th {\n",
       "        vertical-align: top;\n",
       "    }\n",
       "\n",
       "    .dataframe thead tr th {\n",
       "        text-align: left;\n",
       "    }\n",
       "\n",
       "    .dataframe thead tr:last-of-type th {\n",
       "        text-align: right;\n",
       "    }\n",
       "</style>\n",
       "<table border=\"1\" class=\"dataframe\">\n",
       "  <thead>\n",
       "    <tr>\n",
       "      <th></th>\n",
       "      <th>mean_pooing</th>\n",
       "      <th>max_pooing</th>\n",
       "      <th>tfidf_pooing</th>\n",
       "      <th>sif_embedding</th>\n",
       "    </tr>\n",
       "    <tr>\n",
       "      <th></th>\n",
       "      <th>mean</th>\n",
       "      <th>mean</th>\n",
       "      <th>mean</th>\n",
       "      <th>mean</th>\n",
       "    </tr>\n",
       "    <tr>\n",
       "      <th>label</th>\n",
       "      <th></th>\n",
       "      <th></th>\n",
       "      <th></th>\n",
       "      <th></th>\n",
       "    </tr>\n",
       "  </thead>\n",
       "  <tbody>\n",
       "    <tr>\n",
       "      <th>0</th>\n",
       "      <td>0.824265</td>\n",
       "      <td>0.910736</td>\n",
       "      <td>0.720056</td>\n",
       "      <td>0.604179</td>\n",
       "    </tr>\n",
       "    <tr>\n",
       "      <th>1</th>\n",
       "      <td>0.856910</td>\n",
       "      <td>0.921142</td>\n",
       "      <td>0.781910</td>\n",
       "      <td>0.693707</td>\n",
       "    </tr>\n",
       "  </tbody>\n",
       "</table>\n",
       "</div>"
      ],
      "text/plain": [
       "      mean_pooing max_pooing tfidf_pooing sif_embedding\n",
       "             mean       mean         mean          mean\n",
       "label                                                  \n",
       "0        0.824265   0.910736     0.720056      0.604179\n",
       "1        0.856910   0.921142     0.781910      0.693707"
      ]
     },
     "execution_count": 151,
     "metadata": {},
     "output_type": "execute_result"
    }
   ],
   "source": [
    "train_data.groupby('label').agg({\n",
    "    'mean_pooing': ['mean'],\n",
    "    'max_pooing': ['mean'],\n",
    "    'tfidf_pooing': ['mean'],\n",
    "    'sif_embedding': ['mean']\n",
    "})"
   ]
  },
  {
   "cell_type": "code",
   "execution_count": 6,
   "metadata": {
    "ExecuteTime": {
     "end_time": "2022-02-14T08:17:00.780216Z",
     "start_time": "2022-02-14T08:17:00.776215Z"
    }
   },
   "outputs": [],
   "source": [
    "from gensim.models.doc2vec import Doc2Vec, TaggedDocument"
   ]
  },
  {
   "cell_type": "code",
   "execution_count": 7,
   "metadata": {
    "ExecuteTime": {
     "end_time": "2022-02-14T08:17:02.515205Z",
     "start_time": "2022-02-14T08:17:01.873602Z"
    }
   },
   "outputs": [],
   "source": [
    "documents = [TaggedDocument(doc, [i]) for i, doc in enumerate(train_sentence1+train_sentence2)]\n",
    "model = Doc2Vec(documents, vector_size=100, window=5, min_count=1, workers=-1)"
   ]
  },
  {
   "cell_type": "code",
   "execution_count": 20,
   "metadata": {
    "ExecuteTime": {
     "end_time": "2022-02-14T08:22:41.004179Z",
     "start_time": "2022-02-14T08:22:41.001179Z"
    }
   },
   "outputs": [],
   "source": [
    "inferred = model.infer_vector(train_sentence1[7])"
   ]
  },
  {
   "cell_type": "code",
   "execution_count": 24,
   "metadata": {
    "ExecuteTime": {
     "end_time": "2022-02-14T08:23:28.863177Z",
     "start_time": "2022-02-14T08:23:28.844166Z"
    }
   },
   "outputs": [
    {
     "data": {
      "text/plain": [
       "['我', '是', '问用', '蚂蚁', '花', '呗', '，', '为什么', '买', '不了', '火车票']"
      ]
     },
     "execution_count": 24,
     "metadata": {},
     "output_type": "execute_result"
    }
   ],
   "source": [
    "train_sentence2[7]"
   ]
  },
  {
   "cell_type": "code",
   "execution_count": 26,
   "metadata": {
    "ExecuteTime": {
     "end_time": "2022-02-14T08:23:58.530337Z",
     "start_time": "2022-02-14T08:23:58.511327Z"
    }
   },
   "outputs": [
    {
     "name": "stderr",
     "output_type": "stream",
     "text": [
      "<ipython-input-26-93154884f38c>:1: DeprecationWarning: Call to deprecated `docvecs` (The `docvecs` property has been renamed `dv`.).\n",
      "  model.docvecs.most_similar(inferred)\n"
     ]
    },
    {
     "data": {
      "text/plain": [
       "[(12639, 0.41941237449645996),\n",
       " (16129, 0.409142404794693),\n",
       " (3735, 0.3955801725387573),\n",
       " (14811, 0.3915851414203644),\n",
       " (10814, 0.3698313236236572),\n",
       " (30686, 0.36248329281806946),\n",
       " (27914, 0.361524760723114),\n",
       " (10134, 0.3608473539352417),\n",
       " (21955, 0.353965163230896),\n",
       " (11773, 0.34876561164855957)]"
      ]
     },
     "execution_count": 26,
     "metadata": {},
     "output_type": "execute_result"
    }
   ],
   "source": [
    "model.docvecs.most_similar(inferred)"
   ]
  },
  {
   "cell_type": "code",
   "execution_count": 27,
   "metadata": {
    "ExecuteTime": {
     "end_time": "2022-02-14T08:24:30.511497Z",
     "start_time": "2022-02-14T08:24:12.100698Z"
    }
   },
   "outputs": [],
   "source": [
    "train_sentence1_doc2feat = [model.infer_vector(x) for x in train_sentence1]\n",
    "train_sentence2_doc2feat = [model.infer_vector(x) for x in train_sentence2]"
   ]
  },
  {
   "cell_type": "code",
   "execution_count": 28,
   "metadata": {
    "ExecuteTime": {
     "end_time": "2022-02-14T08:25:10.740217Z",
     "start_time": "2022-02-14T08:25:10.614190Z"
    }
   },
   "outputs": [
    {
     "ename": "NameError",
     "evalue": "name 'normalize' is not defined",
     "output_type": "error",
     "traceback": [
      "\u001b[1;31m---------------------------------------------------------------------------\u001b[0m",
      "\u001b[1;31mNameError\u001b[0m                                 Traceback (most recent call last)",
      "\u001b[1;32m<ipython-input-28-175be88054ac>\u001b[0m in \u001b[0;36m<module>\u001b[1;34m\u001b[0m\n\u001b[0;32m      2\u001b[0m \u001b[0mtrain_sentence2_doc2feat\u001b[0m \u001b[1;33m=\u001b[0m \u001b[0mnp\u001b[0m\u001b[1;33m.\u001b[0m\u001b[0mvstack\u001b[0m\u001b[1;33m(\u001b[0m\u001b[0mtrain_sentence2_doc2feat\u001b[0m\u001b[1;33m)\u001b[0m\u001b[1;33m\u001b[0m\u001b[1;33m\u001b[0m\u001b[0m\n\u001b[0;32m      3\u001b[0m \u001b[1;33m\u001b[0m\u001b[0m\n\u001b[1;32m----> 4\u001b[1;33m \u001b[0mtrain_sentence1_doc2feat\u001b[0m \u001b[1;33m=\u001b[0m \u001b[0mnormalize\u001b[0m\u001b[1;33m(\u001b[0m\u001b[0mtrain_sentence1_doc2feat\u001b[0m\u001b[1;33m)\u001b[0m\u001b[1;33m\u001b[0m\u001b[1;33m\u001b[0m\u001b[0m\n\u001b[0m\u001b[0;32m      5\u001b[0m \u001b[0mtrain_sentence2_doc2feat\u001b[0m \u001b[1;33m=\u001b[0m \u001b[0mnormalize\u001b[0m\u001b[1;33m(\u001b[0m\u001b[0mtrain_sentence2_doc2feat\u001b[0m\u001b[1;33m)\u001b[0m\u001b[1;33m\u001b[0m\u001b[1;33m\u001b[0m\u001b[0m\n\u001b[0;32m      6\u001b[0m \u001b[1;33m\u001b[0m\u001b[0m\n",
      "\u001b[1;31mNameError\u001b[0m: name 'normalize' is not defined"
     ]
    }
   ],
   "source": [
    "train_sentence1_doc2feat = np.vstack(train_sentence1_doc2feat)\n",
    "train_sentence2_doc2feat = np.vstack(train_sentence2_doc2feat)\n",
    "\n",
    "train_sentence1_doc2feat = normalize(train_sentence1_doc2feat)\n",
    "train_sentence2_doc2feat = normalize(train_sentence2_doc2feat)\n",
    "\n",
    "doc2vec_distance = [np.dot(x, y) for x, y in \n",
    "                        zip(train_sentence1_doc2feat, train_sentence2_doc2feat)]\n",
    "train_data['doc2vec'] = doc2vec_distance"
   ]
  },
  {
   "cell_type": "code",
   "execution_count": null,
   "metadata": {
    "ExecuteTime": {
     "end_time": "2022-02-14T08:25:10.742218Z",
     "start_time": "2022-02-14T08:24:41.310Z"
    }
   },
   "outputs": [],
   "source": [
    "train_data['doc2vec']"
   ]
  },
  {
   "cell_type": "code",
   "execution_count": 200,
   "metadata": {},
   "outputs": [
    {
     "data": {
      "text/html": [
       "<div>\n",
       "<style scoped>\n",
       "    .dataframe tbody tr th:only-of-type {\n",
       "        vertical-align: middle;\n",
       "    }\n",
       "\n",
       "    .dataframe tbody tr th {\n",
       "        vertical-align: top;\n",
       "    }\n",
       "\n",
       "    .dataframe thead tr th {\n",
       "        text-align: left;\n",
       "    }\n",
       "\n",
       "    .dataframe thead tr:last-of-type th {\n",
       "        text-align: right;\n",
       "    }\n",
       "</style>\n",
       "<table border=\"1\" class=\"dataframe\">\n",
       "  <thead>\n",
       "    <tr>\n",
       "      <th></th>\n",
       "      <th>mean_pooing</th>\n",
       "      <th>max_pooing</th>\n",
       "      <th>tfidf_pooing</th>\n",
       "      <th>sif_embedding</th>\n",
       "      <th>doc2vec</th>\n",
       "    </tr>\n",
       "    <tr>\n",
       "      <th></th>\n",
       "      <th>mean</th>\n",
       "      <th>mean</th>\n",
       "      <th>mean</th>\n",
       "      <th>mean</th>\n",
       "      <th>mean</th>\n",
       "    </tr>\n",
       "    <tr>\n",
       "      <th>label</th>\n",
       "      <th></th>\n",
       "      <th></th>\n",
       "      <th></th>\n",
       "      <th></th>\n",
       "      <th></th>\n",
       "    </tr>\n",
       "  </thead>\n",
       "  <tbody>\n",
       "    <tr>\n",
       "      <th>0</th>\n",
       "      <td>0.824265</td>\n",
       "      <td>0.910736</td>\n",
       "      <td>0.720056</td>\n",
       "      <td>0.604179</td>\n",
       "      <td>1.087763e-07</td>\n",
       "    </tr>\n",
       "    <tr>\n",
       "      <th>1</th>\n",
       "      <td>0.856910</td>\n",
       "      <td>0.921142</td>\n",
       "      <td>0.781910</td>\n",
       "      <td>0.693707</td>\n",
       "      <td>-1.096150e-04</td>\n",
       "    </tr>\n",
       "  </tbody>\n",
       "</table>\n",
       "</div>"
      ],
      "text/plain": [
       "      mean_pooing max_pooing tfidf_pooing sif_embedding       doc2vec\n",
       "             mean       mean         mean          mean          mean\n",
       "label                                                                \n",
       "0        0.824265   0.910736     0.720056      0.604179  1.087763e-07\n",
       "1        0.856910   0.921142     0.781910      0.693707 -1.096150e-04"
      ]
     },
     "execution_count": 200,
     "metadata": {},
     "output_type": "execute_result"
    }
   ],
   "source": [
    "train_data.groupby('label').agg({\n",
    "    'mean_pooing': ['mean'],\n",
    "    'max_pooing': ['mean'],\n",
    "    'tfidf_pooing': ['mean'],\n",
    "    'sif_embedding': ['mean'],\n",
    "    'doc2vec': ['mean']\n",
    "})"
   ]
  },
  {
   "cell_type": "markdown",
   "metadata": {},
   "source": [
    "# 序列模型"
   ]
  },
  {
   "cell_type": "code",
   "execution_count": 29,
   "metadata": {
    "ExecuteTime": {
     "end_time": "2022-01-25T03:39:48.385558Z",
     "start_time": "2022-01-25T03:39:47.430324Z"
    }
   },
   "outputs": [],
   "source": [
    "import torch\n",
    "from torch import nn"
   ]
  },
  {
   "cell_type": "markdown",
   "metadata": {},
   "source": [
    "## RNN\n",
    "\n",
    "https://pytorch.org/docs/stable/generated/torch.nn.RNN.html#torch.nn.RNN"
   ]
  },
  {
   "cell_type": "code",
   "execution_count": null,
   "metadata": {
    "ExecuteTime": {
     "start_time": "2022-01-25T03:39:51.730Z"
    }
   },
   "outputs": [],
   "source": [
    "# input_size, hidden_size, num_layers\n",
    "model = nn.RNN(10, 20, 2)\n",
    "\n",
    "# sequence length, batch size, input_size\n",
    "input = torch.randn(10, 1, 10)\n",
    "\n",
    "output, hn = model(input)"
   ]
  },
  {
   "cell_type": "code",
   "execution_count": 206,
   "metadata": {},
   "outputs": [
    {
     "data": {
      "text/plain": [
       "(torch.Size([10, 1, 20]), torch.Size([2, 1, 20]))"
      ]
     },
     "execution_count": 206,
     "metadata": {},
     "output_type": "execute_result"
    }
   ],
   "source": [
    "output.shape, hn.shape"
   ]
  },
  {
   "cell_type": "markdown",
   "metadata": {},
   "source": [
    "## LSTM\n",
    "\n",
    "https://pytorch.org/docs/stable/generated/torch.nn.LSTM.html#torch.nn.LSTM"
   ]
  },
  {
   "cell_type": "code",
   "execution_count": 166,
   "metadata": {},
   "outputs": [],
   "source": [
    "# input_size, hidden_size, num_layers\n",
    "model = nn.LSTM(10, 20, 2)\n",
    "input = torch.randn(5, 3, 10)\n",
    "\n",
    "output, (hn, cn) = model(input)"
   ]
  },
  {
   "cell_type": "code",
   "execution_count": 167,
   "metadata": {},
   "outputs": [
    {
     "data": {
      "text/plain": [
       "(torch.Size([5, 3, 20]), torch.Size([2, 3, 20]), torch.Size([2, 3, 20]))"
      ]
     },
     "execution_count": 167,
     "metadata": {},
     "output_type": "execute_result"
    }
   ],
   "source": [
    "output.shape, hn.shape, cn.shape"
   ]
  }
 ],
 "metadata": {
  "kernelspec": {
   "display_name": "Python 3",
   "language": "python",
   "name": "python3"
  },
  "language_info": {
   "codemirror_mode": {
    "name": "ipython",
    "version": 3
   },
   "file_extension": ".py",
   "mimetype": "text/x-python",
   "name": "python",
   "nbconvert_exporter": "python",
   "pygments_lexer": "ipython3",
   "version": "3.8.8"
  },
  "toc-autonumbering": false,
  "toc-showmarkdowntxt": false,
  "varInspector": {
   "cols": {
    "lenName": 16,
    "lenType": 16,
    "lenVar": 40
   },
   "kernels_config": {
    "python": {
     "delete_cmd_postfix": "",
     "delete_cmd_prefix": "del ",
     "library": "var_list.py",
     "varRefreshCmd": "print(var_dic_list())"
    },
    "r": {
     "delete_cmd_postfix": ") ",
     "delete_cmd_prefix": "rm(",
     "library": "var_list.r",
     "varRefreshCmd": "cat(var_dic_list()) "
    }
   },
   "types_to_exclude": [
    "module",
    "function",
    "builtin_function_or_method",
    "instance",
    "_Feature"
   ],
   "window_display": false
  }
 },
 "nbformat": 4,
 "nbformat_minor": 4
}
