{
 "cells": [
  {
   "cell_type": "code",
   "execution_count": null,
   "id": "6957cd3c",
   "metadata": {},
   "outputs": [],
   "source": [
    "data= data.sort_values(['flag','time_point'])#还是得先排序的,这样后面的时序特征才是按顺序排列\n",
    "#按照用户进行聚合，将时序变量以list形式呈现\n",
    "agg_func = lambda x: list(x)\n",
    "map_agg_func = {  \n",
    "    'time_point' : agg_func,#这个是有必要的要看是否排列正确\n",
    "    'feature1' : agg_func,    \n",
    "    'feature2' : agg_func,\n",
    "    'feature3' : agg_func,\n",
    "    'feature4' : agg_func,\n",
    "    'feature5' : agg_func,\n",
    "    'feature6' : agg_func}\n",
    "data_list = data.groupby(['flag','user_id']).agg(map_agg_func).reset_index()"
   ]
  },
  {
   "cell_type": "code",
   "execution_count": null,
   "id": "d943286a",
   "metadata": {},
   "outputs": [],
   "source": [
    "map_features_fun = {\n",
    "    # 时域\n",
    "    'time_sum' : lambda x:np.sum(x),\n",
    "    'time_mean' : lambda x: np.mean(x),\n",
    "    'time_std' : lambda x: np.std(x),\n",
    "    'time_var' : lambda x: np.var(x),\n",
    "    'time_max' : lambda x: np.max(x),\n",
    "    'time_min' : lambda x: np.min(x),\n",
    "    'time_median' : lambda x: np.median(x),\n",
    "    'time_energy' : lambda x: np.sum(np.power(x,2)),\n",
    "    'time_mad' : lambda x: np.mean(np.absolute(x - np.mean(x))),\n",
    "    'time_percent_9' : lambda x: np.percentile(x, 0.9),\n",
    "    'time_percent_75' : lambda x: np.percentile(x, 0.75),\n",
    "    'time_percent_25' : lambda x: np.percentile(x, 0.25),\n",
    "    'time_percent_1' : lambda x: np.percentile(x, 0.1),\n",
    "    'time_percent_75_25' : lambda x: np.percentile(x,75)-np.percentile(x,25),\n",
    "    'time_range' : lambda x:np.max(x)-np.min(x),\n",
    "    'time_zcr': lambda x: (np.diff(np.sign(x))!= 0).sum(),\n",
    "    'time_mcr' : lambda x: (np.diff(np.sign(x-np.mean(x)))!= 0).sum(),\n",
    "    'time_minind' : lambda x: np.argmin(x),\n",
    "    'time_maxind' : lambda x: np.argmax(x),\n",
    "    'time_skew' : lambda x: skew(x),\n",
    "    'time_kurtosis' : lambda x: kurtosis(x),\n",
    "    'time_zero_big' : lambda x: np.sum(np.sign(x)>0),\n",
    "    'time_zero_small' : lambda x: np.sum(np.sign(x)<0),\n",
    "    'time_len' : lambda x: np.size(x),\n",
    "    \n",
    "    # 频域\n",
    "    'fft_dc' : lambda x: np.abs(np.fft.fft(x))[0],\n",
    "    'fft_mean' : lambda x: np.mean(np.abs(np.fft.fft(x))[1:int(len(x) / 2)+1]),\n",
    "    'fft_var' : lambda x: np.var(np.abs(np.fft.fft(x))[1:int(len(x) / 2)+1]),\n",
    "    'fft_std' : lambda x: np.std(np.abs(np.fft.fft(x))[1:int(len(x) / 2)+1]),\n",
    "    'fft_sum' : lambda x: np.sum(np.abs(np.fft.fft(x))[1:int(len(x) / 2)+1]),\n",
    "    'fft_entropy' : lambda x: -1.0 * np.sum(np.log2(np.abs(np.fft.fft(x))[1:int(len(x) / 2)+1]/np.sum(np.abs(np.fft.fft(x))[1:int(len(x) / 2)+1]))),\n",
    "    'fft_energy' : lambda x: np.sum(np.power(np.abs(np.fft.fft(x))[1:int(len(x) / 2)+1],2)),\n",
    "    'fft_skew' : lambda x: skew(np.abs(np.fft.fft(x))[1:int(len(x) / 2)+1]),\n",
    "    'fft_kurtosis' : lambda x: kurtosis(np.abs(np.fft.fft(x))[1:int(len(x) / 2)+1]),\n",
    "    'fft_max' : lambda x: np.max(np.abs(np.fft.fft(x))[1:int(len(x) / 2)+1]),\n",
    "    'fft_min' : lambda x: np.min(np.abs(np.fft.fft(x))[1:int(len(x) / 2)+1]),\n",
    "    'fft_maxind' : lambda x: np.argmax(np.abs(np.fft.fft(x))[1:int(len(x) / 2)+1]),\n",
    "    'fft_minind' : lambda x: np.argmin(np.abs(np.fft.fft(x))[1:int(len(x) / 2)+1])\n",
    "}"
   ]
  },
  {
   "cell_type": "code",
   "execution_count": null,
   "id": "955f2606",
   "metadata": {},
   "outputs": [],
   "source": [
    "data_features = data_list[['flag','label']]#选取不参加时序计算的变量\n",
    "for col in ['feature1','feature2','time_point']:\n",
    "    for f_name, f_fun in tqdm(map_features_fun.items()):\n",
    "        data_features[col + '_' + f_name] = data_list[col].map(f_fun)"
   ]
  }
 ],
 "metadata": {
  "kernelspec": {
   "display_name": "Python 3",
   "language": "python",
   "name": "python3"
  },
  "language_info": {
   "codemirror_mode": {
    "name": "ipython",
    "version": 3
   },
   "file_extension": ".py",
   "mimetype": "text/x-python",
   "name": "python",
   "nbconvert_exporter": "python",
   "pygments_lexer": "ipython3",
   "version": "3.8.8"
  },
  "varInspector": {
   "cols": {
    "lenName": 16,
    "lenType": 16,
    "lenVar": 40
   },
   "kernels_config": {
    "python": {
     "delete_cmd_postfix": "",
     "delete_cmd_prefix": "del ",
     "library": "var_list.py",
     "varRefreshCmd": "print(var_dic_list())"
    },
    "r": {
     "delete_cmd_postfix": ") ",
     "delete_cmd_prefix": "rm(",
     "library": "var_list.r",
     "varRefreshCmd": "cat(var_dic_list()) "
    }
   },
   "types_to_exclude": [
    "module",
    "function",
    "builtin_function_or_method",
    "instance",
    "_Feature"
   ],
   "window_display": false
  }
 },
 "nbformat": 4,
 "nbformat_minor": 5
}
