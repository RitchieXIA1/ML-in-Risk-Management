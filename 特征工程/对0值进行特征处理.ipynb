{
 "cells": [
  {
   "cell_type": "markdown",
   "id": "3873800e",
   "metadata": {},
   "source": [
    "0值个数"
   ]
  },
  {
   "cell_type": "code",
   "execution_count": null,
   "id": "82f85b8e",
   "metadata": {},
   "outputs": [],
   "source": [
    "\n",
    "continuous_train['isna_sum'] = continuous_train.isna().sum(axis=1)\n",
    "continuous_test['isna_sum'] = continuous_test.isna().sum(axis=1)\n",
    "\n",
    "continuous_train['isna_sum'] = (continuous_train['isna_sum'] - continuous_train['isna_sum'].mean())/continuous_train['isna_sum'].std()\n",
    "continuous_test['isna_sum'] = (continuous_test['isna_sum'] - continuous_test['isna_sum'].mean())/continuous_test['isna_sum'].std()"
   ]
  },
  {
   "cell_type": "markdown",
   "id": "36a75eca",
   "metadata": {},
   "source": [
    "各变量是否为0值"
   ]
  },
  {
   "cell_type": "code",
   "execution_count": null,
   "id": "42261f60",
   "metadata": {},
   "outputs": [],
   "source": [
    "isna_columns = []\n",
    "for column in tqdm(continuous_features):\n",
    "    isna = continuous_train[column].isna()\n",
    "    if isna.mean() > 0.:\n",
    "        continuous_train[column + '_isna'] = isna.astype(int)\n",
    "        continuous_test[column + '_isna'] = continuous_test[column].isna().astype(int)\n",
    "        isna_columns.append(column)\n",
    "        \n",
    "continuous_train = continuous_train.fillna(0.)\n",
    "continuous_test = continuous_test.fillna(0.)"
   ]
  }
 ],
 "metadata": {
  "kernelspec": {
   "display_name": "Python 3",
   "language": "python",
   "name": "python3"
  },
  "language_info": {
   "codemirror_mode": {
    "name": "ipython",
    "version": 3
   },
   "file_extension": ".py",
   "mimetype": "text/x-python",
   "name": "python",
   "nbconvert_exporter": "python",
   "pygments_lexer": "ipython3",
   "version": "3.8.8"
  },
  "varInspector": {
   "cols": {
    "lenName": 16,
    "lenType": 16,
    "lenVar": 40
   },
   "kernels_config": {
    "python": {
     "delete_cmd_postfix": "",
     "delete_cmd_prefix": "del ",
     "library": "var_list.py",
     "varRefreshCmd": "print(var_dic_list())"
    },
    "r": {
     "delete_cmd_postfix": ") ",
     "delete_cmd_prefix": "rm(",
     "library": "var_list.r",
     "varRefreshCmd": "cat(var_dic_list()) "
    }
   },
   "types_to_exclude": [
    "module",
    "function",
    "builtin_function_or_method",
    "instance",
    "_Feature"
   ],
   "window_display": false
  }
 },
 "nbformat": 4,
 "nbformat_minor": 5
}
