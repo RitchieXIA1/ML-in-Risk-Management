{
 "cells": [
  {
   "cell_type": "code",
   "execution_count": null,
   "id": "354d4e1c",
   "metadata": {},
   "outputs": [],
   "source": [
    "# 统计长度\n",
    "from collections import Counter\n",
    "Counter(list(df_train_test.groupby(['flag','fragment_id','behavior_id']).size()))"
   ]
  },
  {
   "cell_type": "code",
   "execution_count": null,
   "id": "18ec8e24",
   "metadata": {},
   "outputs": [],
   "source": [
    "seq_len = 64#这里设置64是为了方便以后的编码\n",
    "def agg_func(x):#如果不满就填充0\n",
    "    list_x = list(x)\n",
    "    len_x = len(list_x)\n",
    "    if len_x <= seq_len:\n",
    "        list_x = [0] * (seq_len-len_x) + list_x\n",
    "    else:\n",
    "        list_x = list_x[:seq_len]\n",
    "    return list_x\n",
    "\n",
    "map_agg_func = {    \n",
    "    'time_point' : agg_func,\n",
    "    \n",
    "    'acc_all' : agg_func,\n",
    "    'acc_allg' : agg_func,\n",
    "    \n",
    "    'acc_x' : agg_func,\n",
    "    'acc_y' : agg_func,\n",
    "    'acc_z' : agg_func,\n",
    "    \n",
    "    'acc_xg' : agg_func,\n",
    "    'acc_yg' : agg_func,\n",
    "    'acc_zg' : agg_func\n",
    "}"
   ]
  },
  {
   "cell_type": "code",
   "execution_count": null,
   "id": "f09c7ddb",
   "metadata": {},
   "outputs": [],
   "source": [
    "df_train_test_list = df_train_test.groupby(['flag','fragment_id','behavior_id']).agg(map_agg_func).reset_index()"
   ]
  },
  {
   "cell_type": "code",
   "execution_count": null,
   "id": "6f96b78e",
   "metadata": {},
   "outputs": [],
   "source": [
    "df_train_test_list.drop(['flag','fragment_id','behavior_id'],axis=1,inplace=True)"
   ]
  },
  {
   "cell_type": "code",
   "execution_count": null,
   "id": "642b3d0f",
   "metadata": {},
   "outputs": [],
   "source": [
    "list_features = []\n",
    "for index, row in tqdm(df_train_test_list.iterrows()):\n",
    "    acc_all = np.array(row['acc_all'])\n",
    "    acc_allg = np.array(row['acc_allg'])\n",
    "    acc_x = np.array(row['acc_x'])\n",
    "    acc_y = np.array(row['acc_y'])\n",
    "    acc_z = np.array(row['acc_z'])\n",
    "    acc_xg = np.array(row['acc_xg'])\n",
    "    acc_yg = np.array(row['acc_yg'])\n",
    "    acc_zg = np.array(row['acc_zg'])\n",
    "    \n",
    "    features = np.stack([acc_all,acc_allg,acc_x,acc_y,acc_z,acc_xg,acc_yg,acc_zg]).T\n",
    "    list_features.append(features)#这个循环把每一行里每一列的list提出出来，然后stack之后转置，再加入到一个新的list里，这个list是三维的\n",
    "np.array(list_features).shape"
   ]
  },
  {
   "cell_type": "code",
   "execution_count": null,
   "id": "7aded8e5",
   "metadata": {},
   "outputs": [],
   "source": [
    "import torch\n",
    "ok= torch.from_numpy(np.array(list_features).reshape(8,14792,64))\n",
    "ok1 = ok.float()#转化好格式"
   ]
  },
  {
   "cell_type": "code",
   "execution_count": null,
   "id": "4b7db1fe",
   "metadata": {},
   "outputs": [],
   "source": [
    "encoder_layer = nn.TransformerEncoderLayer(d_model=64,nhead=4)\n",
    "transformer_encoder=nn.TransformerEncoder(encoder_layer,num_layers=6)\n",
    "out =transformer_encoder(ok1)#把一串64长度的序列转化为一个64维的向量，增强他的表示能力？ "
   ]
  },
  {
   "cell_type": "code",
   "execution_count": null,
   "id": "efca633a",
   "metadata": {},
   "outputs": [],
   "source": [
    "pd.DataFrame(out.detach().numpy().reshape(14792,512))\n",
    "#最后再把输出的格式转化成DF格式与原始数据拼接？"
   ]
  }
 ],
 "metadata": {
  "kernelspec": {
   "display_name": "Python 3",
   "language": "python",
   "name": "python3"
  },
  "language_info": {
   "codemirror_mode": {
    "name": "ipython",
    "version": 3
   },
   "file_extension": ".py",
   "mimetype": "text/x-python",
   "name": "python",
   "nbconvert_exporter": "python",
   "pygments_lexer": "ipython3",
   "version": "3.8.8"
  },
  "varInspector": {
   "cols": {
    "lenName": 16,
    "lenType": 16,
    "lenVar": 40
   },
   "kernels_config": {
    "python": {
     "delete_cmd_postfix": "",
     "delete_cmd_prefix": "del ",
     "library": "var_list.py",
     "varRefreshCmd": "print(var_dic_list())"
    },
    "r": {
     "delete_cmd_postfix": ") ",
     "delete_cmd_prefix": "rm(",
     "library": "var_list.r",
     "varRefreshCmd": "cat(var_dic_list()) "
    }
   },
   "types_to_exclude": [
    "module",
    "function",
    "builtin_function_or_method",
    "instance",
    "_Feature"
   ],
   "window_display": false
  }
 },
 "nbformat": 4,
 "nbformat_minor": 5
}
