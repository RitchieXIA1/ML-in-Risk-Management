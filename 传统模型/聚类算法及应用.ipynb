{
 "cells": [
  {
   "cell_type": "code",
   "execution_count": 8,
   "id": "69441fb0",
   "metadata": {},
   "outputs": [],
   "source": [
    "# Scikit-Learn ≥0.20 is required\n",
    "import sklearn\n",
    "assert sklearn.__version__ >= \"0.20\"\n",
    "\n",
    "# Common imports\n",
    "import numpy as np\n",
    "import os\n",
    "\n",
    "# to make this notebook's output stable across runs\n",
    "np.random.seed(42)\n",
    "\n",
    "# To plot pretty figures\n",
    "%matplotlib inline\n",
    "import matplotlib as mpl\n",
    "import matplotlib.pyplot as plt\n",
    "mpl.rc('axes', labelsize=14)\n",
    "mpl.rc('xtick', labelsize=12)\n",
    "mpl.rc('ytick', labelsize=12)\n",
    "from sklearn.cluster import KMeans\n",
    "from sklearn.datasets import make_blobs"
   ]
  },
  {
   "cell_type": "code",
   "execution_count": 9,
   "id": "19e8b827",
   "metadata": {},
   "outputs": [],
   "source": [
    "blob_centers = np.array(\n",
    "    [[ 0.2,  2.3],\n",
    "     [-1.5 ,  2.3],\n",
    "     [-2.8,  1.8],\n",
    "     [-2.8,  2.8],\n",
    "     [-2.8,  1.3]])\n",
    "blob_std = np.array([0.4, 0.3, 0.1, 0.1, 0.1])"
   ]
  },
  {
   "cell_type": "code",
   "execution_count": 10,
   "id": "235beb0f",
   "metadata": {},
   "outputs": [],
   "source": [
    "X, y = make_blobs(n_samples=2000, centers=blob_centers,\n",
    "                  cluster_std=blob_std, random_state=7)"
   ]
  },
  {
   "cell_type": "code",
   "execution_count": 11,
   "id": "f4452817",
   "metadata": {},
   "outputs": [],
   "source": [
    "k = 5\n",
    "kmeans = KMeans(n_clusters=k, random_state=42)\n",
    "y_pred = kmeans.fit_predict(X)"
   ]
  },
  {
   "cell_type": "code",
   "execution_count": 12,
   "id": "650eadde",
   "metadata": {},
   "outputs": [
    {
     "data": {
      "text/plain": [
       "array([[-2.80389616,  1.80117999],\n",
       "       [ 0.20876306,  2.25551336],\n",
       "       [-2.79290307,  2.79641063],\n",
       "       [-1.46679593,  2.28585348],\n",
       "       [-2.80037642,  1.30082566]])"
      ]
     },
     "execution_count": 12,
     "metadata": {},
     "output_type": "execute_result"
    }
   ],
   "source": [
    "#使用这个方法查看簇中心，我觉得可以在聚类之后通过看聚类中心的方式观察这些客户有什么特点\n",
    "kmeans.cluster_centers_"
   ]
  },
  {
   "cell_type": "code",
   "execution_count": 13,
   "id": "2aae2a55",
   "metadata": {},
   "outputs": [
    {
     "data": {
      "text/plain": [
       "array([1, 1, 2, 2])"
      ]
     },
     "execution_count": 13,
     "metadata": {},
     "output_type": "execute_result"
    }
   ],
   "source": [
    "X_new = np.array([[0, 2], [3, 2], [-3, 3], [-3, 2.5]])\n",
    "kmeans.predict(X_new)"
   ]
  },
  {
   "cell_type": "markdown",
   "id": "8ce1e1f1",
   "metadata": {},
   "source": [
    "用transform方法可以观察这几个点距离五个簇中心分别的欧式距离"
   ]
  },
  {
   "cell_type": "code",
   "execution_count": 14,
   "id": "bd16c2c6",
   "metadata": {},
   "outputs": [
    {
     "data": {
      "text/plain": [
       "array([[2.81093633, 0.32995317, 2.9042344 , 1.49439034, 2.88633901],\n",
       "       [5.80730058, 2.80290755, 5.84739223, 4.4759332 , 5.84236351],\n",
       "       [1.21475352, 3.29399768, 0.29040966, 1.69136631, 1.71086031],\n",
       "       [0.72581411, 3.21806371, 0.36159148, 1.54808703, 1.21567622]])"
      ]
     },
     "execution_count": 14,
     "metadata": {},
     "output_type": "execute_result"
    }
   ],
   "source": [
    "kmeans.transform(X_new)"
   ]
  },
  {
   "cell_type": "code",
   "execution_count": 15,
   "id": "4187ddda",
   "metadata": {},
   "outputs": [
    {
     "data": {
      "text/plain": [
       "array([[2.81093633, 0.32995317, 2.9042344 , 1.49439034, 2.88633901],\n",
       "       [5.80730058, 2.80290755, 5.84739223, 4.4759332 , 5.84236351],\n",
       "       [1.21475352, 3.29399768, 0.29040966, 1.69136631, 1.71086031],\n",
       "       [0.72581411, 3.21806371, 0.36159148, 1.54808703, 1.21567622]])"
      ]
     },
     "execution_count": 15,
     "metadata": {},
     "output_type": "execute_result"
    }
   ],
   "source": [
    "np.linalg.norm(np.tile(X_new, (1, k)).reshape(-1, k, 2) - kmeans.cluster_centers_, axis=2)"
   ]
  },
  {
   "cell_type": "code",
   "execution_count": 24,
   "id": "0f98a112",
   "metadata": {
    "scrolled": true
   },
   "outputs": [
    {
     "data": {
      "text/plain": [
       "array([[[ 2.80389616,  0.19882001],\n",
       "        [-0.20876306, -0.25551336],\n",
       "        [ 2.79290307, -0.79641063],\n",
       "        [ 1.46679593, -0.28585348],\n",
       "        [ 2.80037642,  0.69917434]],\n",
       "\n",
       "       [[ 5.80389616,  0.19882001],\n",
       "        [ 2.79123694, -0.25551336],\n",
       "        [ 5.79290307, -0.79641063],\n",
       "        [ 4.46679593, -0.28585348],\n",
       "        [ 5.80037642,  0.69917434]],\n",
       "\n",
       "       [[-0.19610384,  1.19882001],\n",
       "        [-3.20876306,  0.74448664],\n",
       "        [-0.20709693,  0.20358937],\n",
       "        [-1.53320407,  0.71414652],\n",
       "        [-0.19962358,  1.69917434]],\n",
       "\n",
       "       [[-0.19610384,  0.69882001],\n",
       "        [-3.20876306,  0.24448664],\n",
       "        [-0.20709693, -0.29641063],\n",
       "        [-1.53320407,  0.21414652],\n",
       "        [-0.19962358,  1.19917434]]])"
      ]
     },
     "execution_count": 24,
     "metadata": {},
     "output_type": "execute_result"
    }
   ],
   "source": [
    "#np.tile这个函数的效果是把X按照（x,y）的方式堆叠，（1，k）意味着行数不变，列数变成k份\n",
    "np.tile(X_new, (1, k)).reshape(-1, k, 2)- kmeans.cluster_centers_"
   ]
  },
  {
   "cell_type": "code",
   "execution_count": 25,
   "id": "5a2b3d55",
   "metadata": {},
   "outputs": [
    {
     "data": {
      "text/plain": [
       "array([[2.81093633, 0.32995317, 2.9042344 , 1.49439034, 2.88633901],\n",
       "       [5.80730058, 2.80290755, 5.84739223, 4.4759332 , 5.84236351],\n",
       "       [1.21475352, 3.29399768, 0.29040966, 1.69136631, 1.71086031],\n",
       "       [0.72581411, 3.21806371, 0.36159148, 1.54808703, 1.21567622]])"
      ]
     },
     "execution_count": 25,
     "metadata": {},
     "output_type": "execute_result"
    }
   ],
   "source": [
    "#linalg计算的是L2范数也就是欧氏距离\n",
    "np.linalg.norm(np.tile(X_new, (1, k)).reshape(-1, k, 2) - kmeans.cluster_centers_, axis=2)"
   ]
  },
  {
   "cell_type": "code",
   "execution_count": 26,
   "id": "328f2700",
   "metadata": {},
   "outputs": [
    {
     "data": {
      "text/plain": [
       "211.5985372581684"
      ]
     },
     "execution_count": 26,
     "metadata": {},
     "output_type": "execute_result"
    }
   ],
   "source": [
    "#每个点到他对应簇心的总距离\n",
    "kmeans.inertia_"
   ]
  },
  {
   "cell_type": "code",
   "execution_count": 27,
   "id": "9ebcd275",
   "metadata": {},
   "outputs": [
    {
     "data": {
      "text/plain": [
       "211.59853725816882"
      ]
     },
     "execution_count": 27,
     "metadata": {},
     "output_type": "execute_result"
    }
   ],
   "source": [
    "X_dist = kmeans.transform(X)\n",
    "np.sum(X_dist[np.arange(len(X_dist)), kmeans.labels_]**2)"
   ]
  },
  {
   "cell_type": "code",
   "execution_count": 31,
   "id": "35f334f7",
   "metadata": {},
   "outputs": [
    {
     "data": {
      "text/plain": [
       "array([0.0124251 , 0.00507237, 1.74284027, ..., 0.00458222, 0.02218732,\n",
       "       0.05153027])"
      ]
     },
     "execution_count": 31,
     "metadata": {},
     "output_type": "execute_result"
    }
   ],
   "source": [
    "#这是每一个点到他对应簇的距离\n",
    "X_dist[np.arange(len(X_dist)), kmeans.labels_]**2"
   ]
  },
  {
   "cell_type": "code",
   "execution_count": 32,
   "id": "43dc0686",
   "metadata": {},
   "outputs": [
    {
     "data": {
      "text/plain": [
       "-211.59853725816836"
      ]
     },
     "execution_count": 32,
     "metadata": {},
     "output_type": "execute_result"
    }
   ],
   "source": [
    "#和inertia_一直，取负数是为了越大越好\n",
    "kmeans.score(X)"
   ]
  },
  {
   "cell_type": "code",
   "execution_count": 47,
   "id": "438f9f6a",
   "metadata": {},
   "outputs": [
    {
     "name": "stderr",
     "output_type": "stream",
     "text": [
      "C:\\ProgramData\\Anaconda3\\lib\\site-packages\\sklearn\\cluster\\_kmeans.py:1036: UserWarning: KMeans is known to have a memory leak on Windows with MKL, when there are less chunks than available threads. You can avoid it by setting the environment variable OMP_NUM_THREADS=8.\n",
      "  warnings.warn(\n"
     ]
    },
    {
     "data": {
      "text/plain": [
       "KMeans(algorithm='full', init='random', n_clusters=3, n_init=20, random_state=2)"
      ]
     },
     "execution_count": 47,
     "metadata": {},
     "output_type": "execute_result"
    }
   ],
   "source": [
    "kmeans_rnd_10_inits = KMeans(n_clusters=3, init=\"random\", n_init=20,\n",
    "                              algorithm=\"full\", random_state=2)\n",
    "kmeans_rnd_10_inits.fit(X)"
   ]
  },
  {
   "cell_type": "code",
   "execution_count": 48,
   "id": "c5e46c67",
   "metadata": {},
   "outputs": [
    {
     "data": {
      "text/plain": [
       "-653.2167190021554"
      ]
     },
     "execution_count": 48,
     "metadata": {},
     "output_type": "execute_result"
    }
   ],
   "source": [
    "kmeans_rnd_10_inits.score(X)"
   ]
  },
  {
   "cell_type": "code",
   "execution_count": 54,
   "id": "174068b4",
   "metadata": {},
   "outputs": [
    {
     "name": "stderr",
     "output_type": "stream",
     "text": [
      "C:\\ProgramData\\Anaconda3\\lib\\site-packages\\sklearn\\cluster\\_kmeans.py:1146: RuntimeWarning: Explicit initial center position passed: performing only one init in KMeans instead of n_init=5.\n",
      "  self._check_params(X)\n"
     ]
    },
    {
     "data": {
      "text/plain": [
       "211.5985372581684"
      ]
     },
     "execution_count": 54,
     "metadata": {},
     "output_type": "execute_result"
    }
   ],
   "source": [
    "#可以设立初始簇心,虽然没有什么太大的影响？最好就用初始值\n",
    "good_init = np.array([[-3, 3], [-3, 2], [-3, 1], [-1, 2], [99, 99]])\n",
    "kmeans = KMeans(n_clusters=5, init=good_init, n_init=5, random_state=42)\n",
    "kmeans.fit(X)\n",
    "kmeans.inertia_"
   ]
  },
  {
   "cell_type": "code",
   "execution_count": 55,
   "id": "f9f4110f",
   "metadata": {},
   "outputs": [
    {
     "data": {
      "text/plain": [
       "array([[-2.79290307,  2.79641063],\n",
       "       [-2.80389616,  1.80117999],\n",
       "       [-2.80037642,  1.30082566],\n",
       "       [-1.46679593,  2.28585348],\n",
       "       [ 0.20876306,  2.25551336]])"
      ]
     },
     "execution_count": 55,
     "metadata": {},
     "output_type": "execute_result"
    }
   ],
   "source": [
    "kmeans.cluster_centers_"
   ]
  },
  {
   "cell_type": "markdown",
   "id": "bd5e8703",
   "metadata": {},
   "source": [
    "在大数据集上可以用batch，会快很多"
   ]
  },
  {
   "cell_type": "code",
   "execution_count": 67,
   "id": "3067e067",
   "metadata": {},
   "outputs": [
    {
     "name": "stderr",
     "output_type": "stream",
     "text": [
      "C:\\ProgramData\\Anaconda3\\lib\\site-packages\\sklearn\\cluster\\_kmeans.py:1043: UserWarning: MiniBatchKMeans is known to have a memory leak on Windows with MKL, when there are less chunks than available threads. You can prevent it by setting batch_size >= 4096 or by setting the environment variable OMP_NUM_THREADS=4\n",
      "  warnings.warn(\n"
     ]
    },
    {
     "data": {
      "text/plain": [
       "MiniBatchKMeans(n_clusters=5, random_state=42)"
      ]
     },
     "execution_count": 67,
     "metadata": {},
     "output_type": "execute_result"
    }
   ],
   "source": [
    "from sklearn.cluster import MiniBatchKMeans\n",
    "minibatch_kmeans = MiniBatchKMeans(n_clusters=5, random_state=42)\n",
    "minibatch_kmeans.fit(X)"
   ]
  },
  {
   "cell_type": "markdown",
   "id": "0f14ea2b",
   "metadata": {},
   "source": [
    "同样可以用memmap进行分块增量学习"
   ]
  },
  {
   "cell_type": "code",
   "execution_count": null,
   "id": "efb1e418",
   "metadata": {},
   "outputs": [],
   "source": [
    "filename = \"my_mnist.data\"\n",
    "m, n = X_train.shape\n",
    "\n",
    "X_mm = np.memmap(filename, dtype='float32', mode='write', shape=(m, n))\n",
    "X_mm[:] = X_train\n",
    "del X_mm"
   ]
  },
  {
   "cell_type": "code",
   "execution_count": null,
   "id": "2739df84",
   "metadata": {},
   "outputs": [],
   "source": [
    "X_mm = np.memmap(filename, dtype=\"float32\", mode=\"readonly\", shape=(m, n))"
   ]
  },
  {
   "cell_type": "code",
   "execution_count": null,
   "id": "9327bdf2",
   "metadata": {},
   "outputs": [],
   "source": [
    "minibatch_kmeans = MiniBatchKMeans(n_clusters=10, batch_size=10, random_state=42)\n",
    "minibatch_kmeans.fit(X_mm)"
   ]
  },
  {
   "cell_type": "code",
   "execution_count": 69,
   "id": "3f11359f",
   "metadata": {},
   "outputs": [
    {
     "name": "stderr",
     "output_type": "stream",
     "text": [
      "C:\\ProgramData\\Anaconda3\\lib\\site-packages\\sklearn\\cluster\\_kmeans.py:1036: UserWarning: KMeans is known to have a memory leak on Windows with MKL, when there are less chunks than available threads. You can avoid it by setting the environment variable OMP_NUM_THREADS=8.\n",
      "  warnings.warn(\n"
     ]
    }
   ],
   "source": [
    "kmeans_per_k = [KMeans(n_clusters=k, random_state=42).fit(X)\n",
    "                for k in range(1, 10)]\n",
    "inertias = [model.inertia_ for model in kmeans_per_k]"
   ]
  },
  {
   "cell_type": "code",
   "execution_count": 98,
   "id": "2f3c28f1",
   "metadata": {},
   "outputs": [
    {
     "data": {
      "text/plain": [
       "[3534.8360871670798,\n",
       " 1149.6140723750277,\n",
       " 653.2167190021554,\n",
       " 261.79677785694696,\n",
       " 211.59853725816836,\n",
       " 169.23715382893542,\n",
       " 141.38336489568502,\n",
       " 119.11983416102882,\n",
       " 102.59678718476391]"
      ]
     },
     "execution_count": 98,
     "metadata": {},
     "output_type": "execute_result"
    }
   ],
   "source": [
    "inertias"
   ]
  },
  {
   "cell_type": "code",
   "execution_count": 92,
   "id": "4eddbcd6",
   "metadata": {},
   "outputs": [
    {
     "data": {
      "image/png": "[encoded data removed]",
      "text/plain": [
       "<Figure size 576x252 with 1 Axes>"
      ]
     },
     "metadata": {
      "needs_background": "light"
     },
     "output_type": "display_data"
    }
   ],
   "source": [
    "plt.figure(figsize=(8, 3.5))\n",
    "plt.plot(range(1, 10), inertias, \"bo-\")\n",
    "plt.xlabel(\"$k$\", fontsize=14)\n",
    "plt.ylabel(\"Inertia\", fontsize=14)\n",
    "#给肘部一个标注\n",
    "plt.annotate('Elbow',\n",
    "             xy=(4, inertias[3]),\n",
    "             xytext=(0.55, 0.55),\n",
    "             textcoords='figure fraction',\n",
    "             fontsize=16,\n",
    "             arrowprops=dict(facecolor='black', shrink=0.1)\n",
    "            )\n",
    "plt.axis([1, 8.5, 0, 1300])\n",
    "\n",
    "plt.show()"
   ]
  },
  {
   "cell_type": "code",
   "execution_count": 93,
   "id": "dba7d630",
   "metadata": {},
   "outputs": [],
   "source": [
    "from sklearn.metrics import silhouette_score"
   ]
  },
  {
   "cell_type": "code",
   "execution_count": 94,
   "id": "4b28b77e",
   "metadata": {},
   "outputs": [
    {
     "data": {
      "text/plain": [
       "0.655517642572828"
      ]
     },
     "execution_count": 94,
     "metadata": {},
     "output_type": "execute_result"
    }
   ],
   "source": [
    "silhouette_score(X, kmeans.labels_)"
   ]
  },
  {
   "cell_type": "code",
   "execution_count": 95,
   "id": "d1c898bf",
   "metadata": {},
   "outputs": [],
   "source": [
    "silhouette_scores = [silhouette_score(X, model.labels_)\n",
    "                     for model in kmeans_per_k[1:]]"
   ]
  },
  {
   "cell_type": "code",
   "execution_count": 108,
   "id": "19d60964",
   "metadata": {},
   "outputs": [
    {
     "data": {
      "image/png": "[encoded data removed]",
      "text/plain": [
       "<Figure size 576x216 with 1 Axes>"
      ]
     },
     "metadata": {
      "needs_background": "light"
     },
     "output_type": "display_data"
    }
   ],
   "source": [
    "plt.figure(figsize=(8, 3))\n",
    "plt.plot(range(2, 10), silhouette_scores, \"bo-\")\n",
    "plt.annotate('top',\n",
    "             xy=(4, silhouette_scores[2]),\n",
    "             xytext=(0.55, 0.9),#这个是控制箭头方向            \n",
    "             textcoords='figure fraction',\n",
    "             fontsize=16,\n",
    "             arrowprops=dict(facecolor='black', shrink=0.1)\n",
    "            )\n",
    "plt.xlabel(\"$k$\", fontsize=14)\n",
    "plt.ylabel(\"Silhouette score\", fontsize=14)\n",
    "plt.axis([1.8, 8.5, 0.55, 0.7])\n",
    "plt.show()"
   ]
  },
  {
   "cell_type": "code",
   "execution_count": 104,
   "id": "2adae2ca",
   "metadata": {},
   "outputs": [
    {
     "data": {
      "text/plain": [
       "0.688531617595759"
      ]
     },
     "execution_count": 104,
     "metadata": {},
     "output_type": "execute_result"
    }
   ],
   "source": [
    "silhouette_scores[2]"
   ]
  },
  {
   "cell_type": "code",
   "execution_count": 113,
   "id": "4a32d081",
   "metadata": {},
   "outputs": [
    {
     "data": {
      "text/plain": [
       "array([0.7796651 , 0.66677869, 0.48656361, ..., 0.87850593, 0.70971862,\n",
       "       0.45825862])"
      ]
     },
     "execution_count": 113,
     "metadata": {},
     "output_type": "execute_result"
    }
   ],
   "source": [
    "#评价每一个样本的轮廓系数\n",
    "silhouette_samples(X, kmeans_per_k[3].labels_)"
   ]
  },
  {
   "cell_type": "markdown",
   "id": "b374428a",
   "metadata": {},
   "source": [
    "这样看的话，5对每一个分类的分类效果更加平均，可以称得上更好。"
   ]
  },
  {
   "cell_type": "markdown",
   "id": "e074b618",
   "metadata": {},
   "source": [
    "# 接下来看一看如何用聚类算法提高分类器效果"
   ]
  },
  {
   "cell_type": "code",
   "execution_count": null,
   "id": "dbabb761",
   "metadata": {},
   "outputs": [],
   "source": [
    "# from sklearn.metrics import silhouette_samples\n",
    "from matplotlib.ticker import FixedLocator, FixedFormatter\n",
    "\n",
    "plt.figure(figsize=(11, 9))\n",
    "\n",
    "for k in (3, 4, 5, 6):\n",
    "    plt.subplot(2, 2, k - 2)\n",
    "    \n",
    "    y_pred = kmeans_per_k[k - 1].labels_\n",
    "    silhouette_coefficients = silhouette_samples(X, y_pred)\n",
    "\n",
    "    padding = len(X) // 30\n",
    "    pos = padding\n",
    "    ticks = []\n",
    "    for i in range(k):\n",
    "        coeffs = silhouette_coefficients[y_pred == i]\n",
    "        coeffs.sort()\n",
    "\n",
    "        color = mpl.cm.Spectral(i / k)\n",
    "        plt.fill_betweenx(np.arange(pos, pos + len(coeffs)), 0, coeffs,\n",
    "                          facecolor=color, edgecolor=color, alpha=0.7)\n",
    "        ticks.append(pos + len(coeffs) // 2)\n",
    "        pos += len(coeffs) + padding\n",
    "\n",
    "    plt.gca().yaxis.set_major_locator(FixedLocator(ticks))\n",
    "    plt.gca().yaxis.set_major_formatter(FixedFormatter(range(k)))\n",
    "    if k in (3, 5):\n",
    "        plt.ylabel(\"Cluster\")\n",
    "    \n",
    "    if k in (5, 6):\n",
    "        plt.gca().set_xticks([-0.1, 0, 0.2, 0.4, 0.6, 0.8, 1])\n",
    "        plt.xlabel(\"Silhouette Coefficient\")\n",
    "    else:\n",
    "        plt.tick_params(labelbottom=False)\n",
    "\n",
    "    plt.axvline(x=silhouette_scores[k - 2], color=\"red\", linestyle=\"--\")\n",
    "    plt.title(\"$k={}$\".format(k), fontsize=16)\n",
    "\n",
    "plt.show()"
   ]
  },
  {
   "cell_type": "code",
   "execution_count": 125,
   "id": "152cb288",
   "metadata": {},
   "outputs": [],
   "source": [
    "from sklearn.datasets import load_digits\n",
    "from sklearn.pipeline import Pipeline\n",
    "from sklearn.model_selection import train_test_split"
   ]
  },
  {
   "cell_type": "code",
   "execution_count": 118,
   "id": "c9a66397",
   "metadata": {},
   "outputs": [],
   "source": [
    "X_digits, y_digits = load_digits(return_X_y=True)"
   ]
  },
  {
   "cell_type": "code",
   "execution_count": 120,
   "id": "6ecd2fda",
   "metadata": {},
   "outputs": [],
   "source": [
    "X_train, X_test, y_train, y_test = train_test_split(X_digits, y_digits, random_state=42)"
   ]
  },
  {
   "cell_type": "code",
   "execution_count": 121,
   "id": "41b3e57f",
   "metadata": {},
   "outputs": [],
   "source": [
    "from sklearn.linear_model import LogisticRegression"
   ]
  },
  {
   "cell_type": "code",
   "execution_count": 124,
   "id": "e4e4ae81",
   "metadata": {},
   "outputs": [
    {
     "data": {
      "text/plain": [
       "0.9688888888888889"
      ]
     },
     "execution_count": 124,
     "metadata": {},
     "output_type": "execute_result"
    }
   ],
   "source": [
    "log_reg = LogisticRegression(multi_class=\"ovr\", solver=\"lbfgs\", max_iter=5000, random_state=42)\n",
    "log_reg.fit(X_train, y_train)\n",
    "log_reg_score = log_reg.score(X_test, y_test)\n",
    "log_reg_score"
   ]
  },
  {
   "cell_type": "code",
   "execution_count": 126,
   "id": "10105297",
   "metadata": {},
   "outputs": [
    {
     "data": {
      "text/plain": [
       "Pipeline(steps=[('kmeans', KMeans(n_clusters=50, random_state=42)),\n",
       "                ('log_reg',\n",
       "                 LogisticRegression(max_iter=5000, multi_class='ovr',\n",
       "                                    random_state=42))])"
      ]
     },
     "execution_count": 126,
     "metadata": {},
     "output_type": "execute_result"
    }
   ],
   "source": [
    "pipeline = Pipeline([\n",
    "    (\"kmeans\", KMeans(n_clusters=50, random_state=42)),\n",
    "    (\"log_reg\", LogisticRegression(multi_class=\"ovr\", solver=\"lbfgs\", max_iter=5000, random_state=42)),\n",
    "])\n",
    "pipeline.fit(X_train, y_train)"
   ]
  },
  {
   "cell_type": "code",
   "execution_count": 127,
   "id": "667fd679",
   "metadata": {},
   "outputs": [
    {
     "data": {
      "text/plain": [
       "0.9777777777777777"
      ]
     },
     "execution_count": 127,
     "metadata": {},
     "output_type": "execute_result"
    }
   ],
   "source": [
    "pipeline_score = pipeline.score(X_test, y_test)\n",
    "pipeline_score"
   ]
  },
  {
   "cell_type": "code",
   "execution_count": 130,
   "id": "e897e8ca",
   "metadata": {},
   "outputs": [
    {
     "data": {
      "text/plain": [
       "0.29"
      ]
     },
     "execution_count": 130,
     "metadata": {},
     "output_type": "execute_result"
    }
   ],
   "source": [
    "#效果还是挺明显的\n",
    "round(1 - (1 - pipeline_score) / (1 - log_reg_score),2)"
   ]
  },
  {
   "cell_type": "code",
   "execution_count": 132,
   "id": "7bc8cc5b",
   "metadata": {},
   "outputs": [],
   "source": [
    "n_labeled = 50"
   ]
  },
  {
   "cell_type": "code",
   "execution_count": 133,
   "id": "74c5ed45",
   "metadata": {},
   "outputs": [
    {
     "data": {
      "text/plain": [
       "0.8333333333333334"
      ]
     },
     "execution_count": 133,
     "metadata": {},
     "output_type": "execute_result"
    }
   ],
   "source": [
    "log_reg = LogisticRegression(multi_class=\"ovr\", solver=\"lbfgs\", random_state=42)\n",
    "log_reg.fit(X_train[:n_labeled], y_train[:n_labeled])\n",
    "log_reg.score(X_test, y_test)"
   ]
  },
  {
   "cell_type": "code",
   "execution_count": 134,
   "id": "377deca4",
   "metadata": {},
   "outputs": [
    {
     "data": {
      "text/plain": [
       "(50, 64)"
      ]
     },
     "execution_count": 134,
     "metadata": {},
     "output_type": "execute_result"
    }
   ],
   "source": [
    "X_train[:n_labeled].shape"
   ]
  },
  {
   "cell_type": "markdown",
   "id": "4e479f72",
   "metadata": {},
   "source": [
    "选择距离五十个簇心分别最近的50个点，然后只对50个点进行打标，然后再用这五个点进行建模。\n",
    "这是主动学习的思想 active learning"
   ]
  },
  {
   "cell_type": "code",
   "execution_count": 152,
   "id": "b5e6481b",
   "metadata": {},
   "outputs": [],
   "source": [
    "k=50"
   ]
  },
  {
   "cell_type": "code",
   "execution_count": 153,
   "id": "4f87ee1e",
   "metadata": {},
   "outputs": [],
   "source": [
    "kmeans = KMeans(n_clusters=k, random_state=42)\n",
    "X_digits_dist = kmeans.fit_transform(X_train)\n",
    "representative_digit_idx = np.argmin(X_digits_dist, axis=0)\n",
    "X_representative_digits = X_train[representative_digit_idx]"
   ]
  },
  {
   "cell_type": "code",
   "execution_count": 156,
   "id": "0a2f9b12",
   "metadata": {
    "scrolled": true
   },
   "outputs": [
    {
     "data": {
      "text/plain": [
       "(50, 64)"
      ]
     },
     "execution_count": 156,
     "metadata": {},
     "output_type": "execute_result"
    }
   ],
   "source": [
    "X_representative_digits.shape"
   ]
  },
  {
   "cell_type": "code",
   "execution_count": 155,
   "id": "81ea5b57",
   "metadata": {},
   "outputs": [
    {
     "data": {
      "image/png": "[encoded data removed]",
      "text/plain": [
       "<Figure size 576x144 with 50 Axes>"
      ]
     },
     "metadata": {
      "needs_background": "light"
     },
     "output_type": "display_data"
    }
   ],
   "source": [
    "plt.figure(figsize=(8, 2))\n",
    "for index, X_representative_digit in enumerate(X_representative_digits):\n",
    "    plt.subplot(k // 10, 10, index + 1)\n",
    "    plt.imshow(X_representative_digit.reshape(8, 8), cmap=\"binary\", interpolation=\"bilinear\")\n",
    "    plt.axis('off')\n",
    "plt.show()"
   ]
  },
  {
   "cell_type": "code",
   "execution_count": 160,
   "id": "a209401f",
   "metadata": {},
   "outputs": [
    {
     "data": {
      "text/plain": [
       "array([4, 8, 0, 6, 8, 3, 7, 7, 9, 2, 5, 5, 8, 5, 2, 1, 2, 9, 6, 1, 1, 6,\n",
       "       9, 0, 8, 3, 0, 7, 4, 1, 6, 5, 2, 4, 1, 8, 6, 3, 9, 2, 4, 2, 9, 4,\n",
       "       7, 6, 2, 3, 1, 1])"
      ]
     },
     "execution_count": 160,
     "metadata": {},
     "output_type": "execute_result"
    }
   ],
   "source": [
    "y_train[representative_digit_idx]"
   ]
  },
  {
   "cell_type": "code",
   "execution_count": 162,
   "id": "c64cc699",
   "metadata": {},
   "outputs": [],
   "source": [
    "y_representative_digits = np.array([4, 8, 0, 6, 8, 3, 7, 7, 9, 2, 5, 5, 8, 5, 2, 1, 2, 9, 6, 1, 1, 6,\n",
    "       9, 0, 8, 3, 0, 7, 4, 1, 6, 5, 2, 4, 1, 8, 6, 3, 9, 2, 4, 2, 9, 4,\n",
    "       7, 6, 2, 3, 1, 1])"
   ]
  },
  {
   "cell_type": "code",
   "execution_count": 163,
   "id": "15636877",
   "metadata": {},
   "outputs": [
    {
     "data": {
      "text/plain": [
       "0.9222222222222223"
      ]
     },
     "execution_count": 163,
     "metadata": {},
     "output_type": "execute_result"
    }
   ],
   "source": [
    "log_reg = LogisticRegression(multi_class=\"ovr\", solver=\"lbfgs\", max_iter=5000, random_state=42)\n",
    "log_reg.fit(X_representative_digits, y_representative_digits)\n",
    "log_reg.score(X_test, y_test)"
   ]
  },
  {
   "cell_type": "markdown",
   "id": "4a3c0150",
   "metadata": {},
   "source": [
    "这里是用这50个有标记的距离簇心最近的点来标记其他的点，和这50个点在同一簇内的其他点被赋予该点的标记。\n",
    "这是标签传播"
   ]
  },
  {
   "cell_type": "code",
   "execution_count": 166,
   "id": "4070a785",
   "metadata": {},
   "outputs": [],
   "source": [
    "y_train_propagated = np.empty(len(X_train), dtype=np.int32)\n",
    "for i in range(k):\n",
    "    y_train_propagated[kmeans.labels_==i] = y_representative_digits[i]"
   ]
  },
  {
   "cell_type": "code",
   "execution_count": 176,
   "id": "5cec4669",
   "metadata": {},
   "outputs": [
    {
     "data": {
      "text/plain": [
       "LogisticRegression(max_iter=5000, multi_class='ovr', random_state=42)"
      ]
     },
     "execution_count": 176,
     "metadata": {},
     "output_type": "execute_result"
    }
   ],
   "source": [
    "log_reg = LogisticRegression(multi_class=\"ovr\", solver=\"lbfgs\", max_iter=5000, random_state=42)\n",
    "log_reg.fit(X_train, y_train_propagated)"
   ]
  },
  {
   "cell_type": "code",
   "execution_count": 177,
   "id": "3e5814e6",
   "metadata": {},
   "outputs": [
    {
     "data": {
      "text/plain": [
       "0.9333333333333333"
      ]
     },
     "execution_count": 177,
     "metadata": {},
     "output_type": "execute_result"
    }
   ],
   "source": [
    "log_reg.score(X_test, y_test)"
   ]
  },
  {
   "cell_type": "code",
   "execution_count": 191,
   "id": "d0e600b0",
   "metadata": {},
   "outputs": [],
   "source": [
    "percentile_closest = 75\n",
    "#取每个样本所在label的距离\n",
    "X_cluster_dist = X_digits_dist[np.arange(len(X_train)), kmeans.labels_]"
   ]
  },
  {
   "cell_type": "code",
   "execution_count": 225,
   "id": "73124021",
   "metadata": {},
   "outputs": [
    {
     "data": {
      "text/plain": [
       "50"
      ]
     },
     "execution_count": 225,
     "metadata": {},
     "output_type": "execute_result"
    }
   ],
   "source": [
    "k"
   ]
  },
  {
   "cell_type": "code",
   "execution_count": 222,
   "id": "87b4bc10",
   "metadata": {},
   "outputs": [],
   "source": [
    "for i in range(k):\n",
    "    in_cluster = (kmeans.labels_ == i)\n",
    "    cluster_dist = X_cluster_dist[in_cluster]#每个label下各样本的距离\n",
    "    cutoff_distance = np.percentile(cluster_dist, percentile_closest)#取前75%\n",
    "    above_cutoff = (X_cluster_dist > cutoff_distance)\n",
    "    X_cluster_dist[in_cluster & above_cutoff] = -1#选择在这个label下，并且距离大于75%的赋值为-1"
   ]
  },
  {
   "cell_type": "code",
   "execution_count": 233,
   "id": "67c1c991",
   "metadata": {},
   "outputs": [
    {
     "data": {
      "text/plain": [
       "array([False,  True,  True, ...,  True,  True,  True])"
      ]
     },
     "execution_count": 233,
     "metadata": {},
     "output_type": "execute_result"
    }
   ],
   "source": [
    "(X_cluster_dist != -1)"
   ]
  },
  {
   "cell_type": "code",
   "execution_count": 235,
   "id": "4383b766",
   "metadata": {},
   "outputs": [
    {
     "data": {
      "text/plain": [
       "(1003, 64)"
      ]
     },
     "execution_count": 235,
     "metadata": {},
     "output_type": "execute_result"
    }
   ],
   "source": [
    "X_train[(X_cluster_dist != -1)].shape"
   ]
  },
  {
   "cell_type": "code",
   "execution_count": 230,
   "id": "0d85fc72",
   "metadata": {},
   "outputs": [
    {
     "data": {
      "text/plain": [
       "1003"
      ]
     },
     "execution_count": 230,
     "metadata": {},
     "output_type": "execute_result"
    }
   ],
   "source": [
    "(X_cluster_dist != -1).sum()"
   ]
  },
  {
   "cell_type": "code",
   "execution_count": 236,
   "id": "9ad5db9e",
   "metadata": {},
   "outputs": [],
   "source": [
    "#赋值为-1的样本视为outliers，全部删除\n",
    "X_train_partially_propagated = X_train[(X_cluster_dist != -1)]\n",
    "y_train_partially_propagated = y_train_propagated[(X_cluster_dist != -1)]"
   ]
  },
  {
   "cell_type": "code",
   "execution_count": 237,
   "id": "dde05174",
   "metadata": {},
   "outputs": [
    {
     "data": {
      "text/plain": [
       "LogisticRegression(max_iter=5000, multi_class='ovr', random_state=42)"
      ]
     },
     "execution_count": 237,
     "metadata": {},
     "output_type": "execute_result"
    }
   ],
   "source": [
    "log_reg = LogisticRegression(multi_class=\"ovr\", solver=\"lbfgs\", max_iter=5000, random_state=42)\n",
    "log_reg.fit(X_train_partially_propagated, y_train_partially_propagated)"
   ]
  },
  {
   "cell_type": "code",
   "execution_count": 238,
   "id": "a83f443d",
   "metadata": {},
   "outputs": [
    {
     "data": {
      "text/plain": [
       "0.9355555555555556"
      ]
     },
     "execution_count": 238,
     "metadata": {},
     "output_type": "execute_result"
    }
   ],
   "source": [
    "#正确率有所上升\n",
    "log_reg.score(X_test, y_test)"
   ]
  },
  {
   "cell_type": "code",
   "execution_count": 242,
   "id": "94ac5d7f",
   "metadata": {},
   "outputs": [
    {
     "data": {
      "text/plain": [
       "0.9750747756729811"
      ]
     },
     "execution_count": 242,
     "metadata": {},
     "output_type": "execute_result"
    }
   ],
   "source": [
    "#对比一下发现，在只取最近的75%进行标签传播，正确率比对所有聚类样本进行标签传播要高\n",
    "np.mean(y_train_partially_propagated ==  y_train[(X_cluster_dist != -1)])"
   ]
  },
  {
   "cell_type": "code",
   "execution_count": 244,
   "id": "e842ccdf",
   "metadata": {},
   "outputs": [
    {
     "data": {
      "text/plain": [
       "0.9391239792130661"
      ]
     },
     "execution_count": 244,
     "metadata": {},
     "output_type": "execute_result"
    }
   ],
   "source": [
    "np.mean(y_train_propagated==y_train)"
   ]
  },
  {
   "cell_type": "markdown",
   "id": "638ee55b",
   "metadata": {},
   "source": [
    "k-means优点：\n",
    "\n",
    "原理比较简单，实现也是很容易，收敛速度快。\n",
    "\n",
    "聚类效果较优。\n",
    "\n",
    "算法的可解释度比较强。\n",
    "\n",
    "主要需要调参的参数仅仅是簇数k。\n",
    "\n",
    "k-means缺点：\n",
    "\n",
    "K值的选取不好把握。\n",
    "\n",
    "对于不是凸的数据集比较难收敛。\n",
    "\n",
    "如果各隐含类别的数据不平衡，比如各隐含类别的数据量严重失衡，或者各隐含类别的方差不同，则聚类效果不佳。\n",
    "\n",
    "采用迭代方法，得到的结果只是局部最优。\n",
    "\n",
    "对噪音和异常点比较的敏感。"
   ]
  },
  {
   "cell_type": "markdown",
   "id": "76fb96ff",
   "metadata": {},
   "source": [
    "DBSCAN优点：\n",
    "\n",
    "可以对任意形状的稠密数据集进行聚类，相对的，K-Means之类的聚类算法一般只适用于凸数据集。\n",
    "\n",
    "可以在聚类的同时发现异常点，对数据集中的异常点不敏感。\n",
    "\n",
    "聚类结果没有偏倚，相对的，K-Means之类的聚类算法初始值对聚类结果有很大影响。\n",
    "\n",
    "DBSSCAN缺点：\n",
    "\n",
    "如果样本集的密度不均匀、聚类间距差相差很大时，聚类质量较差，这时用DBSCAN聚类一般不适合。\n",
    "\n",
    "如果样本集较大时，聚类收敛时间较长，此时可以对搜索最近邻时建立的KD树或者球树进行规模限制来改进。\n",
    "\n",
    "调参相对于传统的K-Means之类的聚类算法稍复杂，主要需要对距离阈值ϵ，邻域样本数阈值MinPts联合调参，不同的参数组合对最后的聚类效果有较大影响。"
   ]
  },
  {
   "cell_type": "markdown",
   "id": "675c74d4",
   "metadata": {},
   "source": [
    "DBSCAN聚类既可以用于凸样本集，也可以用于非凸样本集，也不需要提前设定簇族数"
   ]
  },
  {
   "cell_type": "markdown",
   "id": "315eef70",
   "metadata": {},
   "source": [
    "核心参数：\n",
    "\n",
    "eps: float，ϵ-邻域的距离阈值\n",
    "\n",
    "min_samples ：int，样本点要成为核心对象所需要的 ϵ-邻域的样本数阈值\n",
    "\n",
    "其他参数：\n",
    "\n",
    "metric ：度量方式，默认为欧式距离，可以使用的距离度量参数有：\n",
    "\n",
    "欧式距离 “euclidean”\n",
    "\n",
    "曼哈顿距离 “manhattan”\n",
    "\n",
    "切比雪夫距离“chebyshev”\n",
    "\n",
    "闵可夫斯基距离 “minkowski”\n",
    "\n",
    "带权重闵可夫斯基距离 “wminkowski”\n",
    "\n",
    "标准化欧式距离 “seuclidean”\n",
    "\n",
    "马氏距离“mahalanobis”\n",
    "\n",
    "自己定义距离函数\n",
    "\n",
    "algorithm：近邻算法求解方式，有四种：\n",
    "\n",
    "“brute”蛮力实现\n",
    "\n",
    "“kd_tree” KD树实现\n",
    "\n",
    "“ball_tree”球树实现\n",
    "\n",
    "“auto”上面三种算法中做权衡，选择一个拟合最好的最优算法。\n",
    "\n",
    "leaf_size：使用“ball_tree”或“kd_tree”时,停止建子树的叶子节点数量的阈值"
   ]
  },
  {
   "cell_type": "code",
   "execution_count": 260,
   "id": "d4dc3af9",
   "metadata": {},
   "outputs": [],
   "source": [
    "from sklearn.cluster import DBSCAN"
   ]
  },
  {
   "cell_type": "code",
   "execution_count": 263,
   "id": "9a3f284f",
   "metadata": {},
   "outputs": [],
   "source": [
    "from sklearn.datasets import make_moons\n",
    "X, y = make_moons(n_samples=1000, noise=0.05, random_state=42)"
   ]
  },
  {
   "cell_type": "code",
   "execution_count": 264,
   "id": "45e0e437",
   "metadata": {},
   "outputs": [
    {
     "data": {
      "text/plain": [
       "DBSCAN(eps=0.05)"
      ]
     },
     "execution_count": 264,
     "metadata": {},
     "output_type": "execute_result"
    }
   ],
   "source": [
    "dbscan = DBSCAN(eps=0.05, min_samples=5)\n",
    "dbscan.fit(X)"
   ]
  },
  {
   "cell_type": "code",
   "execution_count": 269,
   "id": "f248df3d",
   "metadata": {},
   "outputs": [
    {
     "data": {
      "text/plain": [
       "array([ 0,  2, -1, -1,  1,  0,  0,  0,  2,  5], dtype=int64)"
      ]
     },
     "execution_count": 269,
     "metadata": {},
     "output_type": "execute_result"
    }
   ],
   "source": [
    "dbscan.labels_[:10]"
   ]
  },
  {
   "cell_type": "code",
   "execution_count": 268,
   "id": "b0f0e3ee",
   "metadata": {},
   "outputs": [
    {
     "data": {
      "text/plain": [
       "array([[-0.02137124,  0.40618608],\n",
       "       [-0.84192557,  0.53058695],\n",
       "       [ 0.58930337, -0.32137599],\n",
       "       ...,\n",
       "       [ 1.66258462, -0.3079193 ],\n",
       "       [-0.94355873,  0.3278936 ],\n",
       "       [ 0.79419406,  0.60777171]])"
      ]
     },
     "execution_count": 268,
     "metadata": {},
     "output_type": "execute_result"
    }
   ],
   "source": [
    "dbscan.components_"
   ]
  },
  {
   "cell_type": "markdown",
   "id": "b1378f4c",
   "metadata": {},
   "source": [
    "# 高斯混合模型、数据生成和异常检测"
   ]
  },
  {
   "cell_type": "markdown",
   "id": "46ba6d21",
   "metadata": {},
   "source": [
    "需要注意的是，使用高斯混合之前最好对数据进行初始化？"
   ]
  },
  {
   "cell_type": "code",
   "execution_count": null,
   "id": "b4b7c6b8",
   "metadata": {},
   "outputs": [],
   "source": [
    "from sklearn import preprocessing  \n",
    "X_tr = preprocessing.scale(X, *, axis=0, with_mean=True, with_std=True, copy=True)"
   ]
  },
  {
   "cell_type": "code",
   "execution_count": 271,
   "id": "51c8eea8",
   "metadata": {},
   "outputs": [],
   "source": [
    "X1, y1 = make_blobs(n_samples=1000, centers=((4, -4), (0, 0)), random_state=42)\n",
    "X1 = X1.dot(np.array([[0.374, 0.95], [0.732, 0.598]]))\n",
    "X2, y2 = make_blobs(n_samples=250, centers=1, random_state=42)\n",
    "X2 = X2 + [6, -8]\n",
    "X = np.r_[X1, X2]\n",
    "y = np.r_[y1, y2]"
   ]
  },
  {
   "cell_type": "code",
   "execution_count": 272,
   "id": "e76e7b0b",
   "metadata": {},
   "outputs": [],
   "source": [
    "from sklearn.mixture import GaussianMixture"
   ]
  },
  {
   "cell_type": "code",
   "execution_count": 273,
   "id": "7556fefa",
   "metadata": {},
   "outputs": [
    {
     "data": {
      "text/plain": [
       "GaussianMixture(n_components=3, n_init=10, random_state=42)"
      ]
     },
     "execution_count": 273,
     "metadata": {},
     "output_type": "execute_result"
    }
   ],
   "source": [
    "gm = GaussianMixture(n_components=3, n_init=10, random_state=42)\n",
    "gm.fit(X)"
   ]
  },
  {
   "cell_type": "markdown",
   "id": "c372a523",
   "metadata": {},
   "source": [
    "em算法的参数"
   ]
  },
  {
   "cell_type": "code",
   "execution_count": 274,
   "id": "39f5d8b9",
   "metadata": {},
   "outputs": [
    {
     "data": {
      "text/plain": [
       "array([0.39025715, 0.40007391, 0.20966893])"
      ]
     },
     "execution_count": 274,
     "metadata": {},
     "output_type": "execute_result"
    }
   ],
   "source": [
    "gm.weights_"
   ]
  },
  {
   "cell_type": "code",
   "execution_count": 275,
   "id": "9c1472dd",
   "metadata": {},
   "outputs": [
    {
     "data": {
      "text/plain": [
       "array([[ 0.05131611,  0.07521837],\n",
       "       [-1.40763156,  1.42708225],\n",
       "       [ 3.39893794,  1.05928897]])"
      ]
     },
     "execution_count": 275,
     "metadata": {},
     "output_type": "execute_result"
    }
   ],
   "source": [
    "gm.means_"
   ]
  },
  {
   "cell_type": "code",
   "execution_count": 276,
   "id": "f3a084d9",
   "metadata": {},
   "outputs": [
    {
     "data": {
      "text/plain": [
       "array([[[ 0.68799922,  0.79606357],\n",
       "        [ 0.79606357,  1.21236106]],\n",
       "\n",
       "       [[ 0.63479409,  0.72970799],\n",
       "        [ 0.72970799,  1.1610351 ]],\n",
       "\n",
       "       [[ 1.14833585, -0.03256179],\n",
       "        [-0.03256179,  0.95490931]]])"
      ]
     },
     "execution_count": 276,
     "metadata": {},
     "output_type": "execute_result"
    }
   ],
   "source": [
    "gm.covariances_"
   ]
  },
  {
   "cell_type": "code",
   "execution_count": 277,
   "id": "c45da679",
   "metadata": {},
   "outputs": [
    {
     "data": {
      "text/plain": [
       "True"
      ]
     },
     "execution_count": 277,
     "metadata": {},
     "output_type": "execute_result"
    }
   ],
   "source": [
    "gm.converged_"
   ]
  },
  {
   "cell_type": "code",
   "execution_count": 278,
   "id": "1d596899",
   "metadata": {},
   "outputs": [
    {
     "data": {
      "text/plain": [
       "4"
      ]
     },
     "execution_count": 278,
     "metadata": {},
     "output_type": "execute_result"
    }
   ],
   "source": [
    "gm.n_iter_"
   ]
  },
  {
   "cell_type": "code",
   "execution_count": 279,
   "id": "7b7e80b5",
   "metadata": {},
   "outputs": [
    {
     "data": {
      "text/plain": [
       "array([0, 0, 1, ..., 2, 2, 2], dtype=int64)"
      ]
     },
     "execution_count": 279,
     "metadata": {},
     "output_type": "execute_result"
    }
   ],
   "source": [
    "gm.predict(X)"
   ]
  },
  {
   "cell_type": "code",
   "execution_count": 280,
   "id": "bb56ac28",
   "metadata": {},
   "outputs": [
    {
     "data": {
      "text/plain": [
       "array([[9.76741808e-01, 6.78581203e-07, 2.32575136e-02],\n",
       "       [9.82832955e-01, 6.76173663e-04, 1.64908714e-02],\n",
       "       [7.46494398e-05, 9.99923327e-01, 2.02398402e-06],\n",
       "       ...,\n",
       "       [4.26050456e-07, 2.15512941e-26, 9.99999574e-01],\n",
       "       [5.04987704e-16, 1.48083217e-41, 1.00000000e+00],\n",
       "       [2.24602826e-15, 8.11457779e-41, 1.00000000e+00]])"
      ]
     },
     "execution_count": 280,
     "metadata": {},
     "output_type": "execute_result"
    }
   ],
   "source": [
    "#GMM算法可以计算每个样本属于各类别的概率\n",
    "gm.predict_proba(X)"
   ]
  },
  {
   "cell_type": "code",
   "execution_count": 281,
   "id": "73d8c0f7",
   "metadata": {},
   "outputs": [
    {
     "data": {
      "text/plain": [
       "array([[-0.86944074, -0.32767626],\n",
       "       [ 0.29836051,  0.28297011],\n",
       "       [-2.8014927 , -0.09047309],\n",
       "       [ 3.98203732,  1.49951491],\n",
       "       [ 3.81677148,  0.53095244],\n",
       "       [ 2.84104923, -0.73858639]])"
      ]
     },
     "execution_count": 281,
     "metadata": {},
     "output_type": "execute_result"
    }
   ],
   "source": [
    "#GM算法还可以生成相同分布的数据\n",
    "X_new, y_new = gm.sample(6)\n",
    "X_new"
   ]
  },
  {
   "cell_type": "markdown",
   "id": "32fa3c9d",
   "metadata": {},
   "source": [
    "# 如何用高斯混合模型来进行异常检测"
   ]
  },
  {
   "cell_type": "markdown",
   "id": "b7cd91fc",
   "metadata": {},
   "source": [
    "高斯混合可以用于异常检测：位于低密度区域的实例可以被视为异常。\n",
    "必须定义要使用的密度阈值。例如，在一家试图检测缺陷产品的制造公司中，\n",
    "缺陷产品的比例通常是众所周知的。假设它等于4%，则可以将密度阈值设置为导致4%的实例位于该阈值密度以下区域的值："
   ]
  },
  {
   "cell_type": "markdown",
   "id": "47ff1a10",
   "metadata": {},
   "source": [
    "这大概可以类比在高斯分布里处于低密度区域的点是异常值一样（3sigma法）"
   ]
  },
  {
   "cell_type": "code",
   "execution_count": 291,
   "id": "c24634f8",
   "metadata": {},
   "outputs": [
    {
     "data": {
      "text/plain": [
       "array([-2.60768954, -3.57110232, -3.32987086, ..., -3.51347241,\n",
       "       -4.39798588, -3.80746532])"
      ]
     },
     "execution_count": 291,
     "metadata": {},
     "output_type": "execute_result"
    }
   ],
   "source": [
    "densities"
   ]
  },
  {
   "cell_type": "code",
   "execution_count": 283,
   "id": "e684f54c",
   "metadata": {},
   "outputs": [],
   "source": [
    "densities = gm.score_samples(X)\n",
    "density_threshold = np.percentile(densities, 4)\n",
    "anomalies = X[densities < density_threshold]"
   ]
  },
  {
   "cell_type": "code",
   "execution_count": 290,
   "id": "4022d0bd",
   "metadata": {},
   "outputs": [
    {
     "data": {
      "text/plain": [
       "array([[-0.11118987,  1.61334992],\n",
       "       [ 0.62362922,  4.41540435],\n",
       "       [ 1.49808977, -0.15251688],\n",
       "       [ 0.74219223, -1.00445177],\n",
       "       [-2.53940854, -2.76549965],\n",
       "       [-1.62447969, -0.45770022],\n",
       "       [-1.74680316, -0.78385111],\n",
       "       [-3.58308316, -1.28249917],\n",
       "       [ 0.53903026,  5.00244257],\n",
       "       [-0.51480414, -2.16270124],\n",
       "       [-1.81015204, -0.58926015],\n",
       "       [-1.79651788, -0.97031471],\n",
       "       [-2.11225785, -2.09712817],\n",
       "       [-3.39408574, -2.28378778],\n",
       "       [ 1.58082729,  4.20122873],\n",
       "       [-2.48037945, -1.18651064],\n",
       "       [-2.93972237, -1.41660564],\n",
       "       [-1.62285961, -2.84860478],\n",
       "       [-0.25954463, -1.7743691 ],\n",
       "       [ 0.46018217,  2.78323717],\n",
       "       [-2.06317379,  2.2670332 ],\n",
       "       [ 0.13982849,  2.08023553],\n",
       "       [-2.54004484, -2.8290338 ],\n",
       "       [-1.93037427, -1.19447352],\n",
       "       [-0.27124433, -1.86750177],\n",
       "       [-1.15568262, -2.57480367],\n",
       "       [-1.93315582,  2.49030105],\n",
       "       [ 4.93207567, -0.42157602],\n",
       "       [ 5.80546094, -0.85297906],\n",
       "       [ 5.68060531,  0.20598784],\n",
       "       [ 5.11941792, -0.36581533],\n",
       "       [ 3.55103259,  3.47752824],\n",
       "       [ 5.5515503 ,  2.76962697],\n",
       "       [ 4.41697992,  2.92370277],\n",
       "       [ 4.00585006,  4.86701762],\n",
       "       [ 3.58256315, -0.97328279],\n",
       "       [ 3.69966597, -0.945384  ],\n",
       "       [ 3.22614554,  3.73445529],\n",
       "       [ 4.31286254,  2.91107911],\n",
       "       [ 5.63474647,  1.64820515],\n",
       "       [ 5.64398483,  0.24693857],\n",
       "       [ 2.67258169,  3.1066734 ],\n",
       "       [ 5.61295857,  2.04675139],\n",
       "       [ 5.62383575, -0.93780167],\n",
       "       [ 4.54922686, -0.74445336],\n",
       "       [ 2.30754386, -1.02494605],\n",
       "       [ 6.56968319,  2.13386104],\n",
       "       [ 5.12321368, -0.41585525],\n",
       "       [ 3.21575068, -1.28763504],\n",
       "       [ 4.07765947,  3.20474175]])"
      ]
     },
     "execution_count": 290,
     "metadata": {},
     "output_type": "execute_result"
    }
   ],
   "source": [
    "anomalies"
   ]
  },
  {
   "cell_type": "code",
   "execution_count": 287,
   "id": "a4413dbd",
   "metadata": {},
   "outputs": [],
   "source": [
    "from matplotlib.colors import LogNorm\n",
    "\n",
    "def plot_gaussian_mixture(clusterer, X, resolution=1000, show_ylabels=True):\n",
    "    mins = X.min(axis=0) - 0.1\n",
    "    maxs = X.max(axis=0) + 0.1\n",
    "    xx, yy = np.meshgrid(np.linspace(mins[0], maxs[0], resolution),\n",
    "                         np.linspace(mins[1], maxs[1], resolution))\n",
    "    Z = -clusterer.score_samples(np.c_[xx.ravel(), yy.ravel()])\n",
    "    Z = Z.reshape(xx.shape)\n",
    "\n",
    "    plt.contourf(xx, yy, Z,\n",
    "                 norm=LogNorm(vmin=1.0, vmax=30.0),\n",
    "                 levels=np.logspace(0, 2, 12))\n",
    "    plt.contour(xx, yy, Z,\n",
    "                norm=LogNorm(vmin=1.0, vmax=30.0),\n",
    "                levels=np.logspace(0, 2, 12),\n",
    "                linewidths=1, colors='k')\n",
    "\n",
    "    Z = clusterer.predict(np.c_[xx.ravel(), yy.ravel()])\n",
    "    Z = Z.reshape(xx.shape)\n",
    "    plt.contour(xx, yy, Z,\n",
    "                linewidths=2, colors='r', linestyles='dashed')\n",
    "    \n",
    "    plt.plot(X[:, 0], X[:, 1], 'k.', markersize=2)\n",
    "    plot_centroids(clusterer.means_, clusterer.weights_)\n",
    "\n",
    "    plt.xlabel(\"$x_1$\", fontsize=14)\n",
    "    if show_ylabels:\n",
    "        plt.ylabel(\"$x_2$\", fontsize=14, rotation=0)\n",
    "    else:\n",
    "        plt.tick_params(labelleft=False)\n",
    "def plot_centroids(centroids, weights=None, circle_color='w', cross_color='k'):\n",
    "    if weights is not None:\n",
    "        centroids = centroids[weights > weights.max() / 10]\n",
    "    plt.scatter(centroids[:, 0], centroids[:, 1],\n",
    "                marker='o', s=35, linewidths=8,\n",
    "                color=circle_color, zorder=10, alpha=0.9)\n",
    "    plt.scatter(centroids[:, 0], centroids[:, 1],\n",
    "                marker='x', s=2, linewidths=12,\n",
    "                color=cross_color, zorder=11, alpha=1)"
   ]
  },
  {
   "cell_type": "code",
   "execution_count": 288,
   "id": "e49e511a",
   "metadata": {},
   "outputs": [
    {
     "data": {
      "image/png": "[encoded data removed]",
      "text/plain": [
       "<Figure size 576x288 with 1 Axes>"
      ]
     },
     "metadata": {
      "needs_background": "light"
     },
     "output_type": "display_data"
    }
   ],
   "source": [
    "plt.figure(figsize=(8, 4))\n",
    "\n",
    "plot_gaussian_mixture(gm, X)\n",
    "plt.scatter(anomalies[:, 0], anomalies[:, 1], color='r', marker='*')\n",
    "plt.ylim(top=5.1)\n",
    "\n",
    "plt.show()"
   ]
  },
  {
   "cell_type": "markdown",
   "id": "6d8a4dda",
   "metadata": {},
   "source": [
    "根据BIC和AIC指标来选择最优分组"
   ]
  },
  {
   "cell_type": "code",
   "execution_count": 294,
   "id": "9728afee",
   "metadata": {
    "scrolled": true
   },
   "outputs": [
    {
     "name": "stderr",
     "output_type": "stream",
     "text": [
      "C:\\ProgramData\\Anaconda3\\lib\\site-packages\\sklearn\\cluster\\_kmeans.py:1036: UserWarning: KMeans is known to have a memory leak on Windows with MKL, when there are less chunks than available threads. You can avoid it by setting the environment variable OMP_NUM_THREADS=5.\n",
      "  warnings.warn(\n",
      "C:\\ProgramData\\Anaconda3\\lib\\site-packages\\sklearn\\cluster\\_kmeans.py:1036: UserWarning: KMeans is known to have a memory leak on Windows with MKL, when there are less chunks than available threads. You can avoid it by setting the environment variable OMP_NUM_THREADS=5.\n",
      "  warnings.warn(\n",
      "C:\\ProgramData\\Anaconda3\\lib\\site-packages\\sklearn\\cluster\\_kmeans.py:1036: UserWarning: KMeans is known to have a memory leak on Windows with MKL, when there are less chunks than available threads. You can avoid it by setting the environment variable OMP_NUM_THREADS=5.\n",
      "  warnings.warn(\n",
      "C:\\ProgramData\\Anaconda3\\lib\\site-packages\\sklearn\\cluster\\_kmeans.py:1036: UserWarning: KMeans is known to have a memory leak on Windows with MKL, when there are less chunks than available threads. You can avoid it by setting the environment variable OMP_NUM_THREADS=5.\n",
      "  warnings.warn(\n",
      "C:\\ProgramData\\Anaconda3\\lib\\site-packages\\sklearn\\cluster\\_kmeans.py:1036: UserWarning: KMeans is known to have a memory leak on Windows with MKL, when there are less chunks than available threads. You can avoid it by setting the environment variable OMP_NUM_THREADS=5.\n",
      "  warnings.warn(\n",
      "C:\\ProgramData\\Anaconda3\\lib\\site-packages\\sklearn\\cluster\\_kmeans.py:1036: UserWarning: KMeans is known to have a memory leak on Windows with MKL, when there are less chunks than available threads. You can avoid it by setting the environment variable OMP_NUM_THREADS=5.\n",
      "  warnings.warn(\n",
      "C:\\ProgramData\\Anaconda3\\lib\\site-packages\\sklearn\\cluster\\_kmeans.py:1036: UserWarning: KMeans is known to have a memory leak on Windows with MKL, when there are less chunks than available threads. You can avoid it by setting the environment variable OMP_NUM_THREADS=5.\n",
      "  warnings.warn(\n",
      "C:\\ProgramData\\Anaconda3\\lib\\site-packages\\sklearn\\cluster\\_kmeans.py:1036: UserWarning: KMeans is known to have a memory leak on Windows with MKL, when there are less chunks than available threads. You can avoid it by setting the environment variable OMP_NUM_THREADS=5.\n",
      "  warnings.warn(\n",
      "C:\\ProgramData\\Anaconda3\\lib\\site-packages\\sklearn\\cluster\\_kmeans.py:1036: UserWarning: KMeans is known to have a memory leak on Windows with MKL, when there are less chunks than available threads. You can avoid it by setting the environment variable OMP_NUM_THREADS=5.\n",
      "  warnings.warn(\n",
      "C:\\ProgramData\\Anaconda3\\lib\\site-packages\\sklearn\\cluster\\_kmeans.py:1036: UserWarning: KMeans is known to have a memory leak on Windows with MKL, when there are less chunks than available threads. You can avoid it by setting the environment variable OMP_NUM_THREADS=5.\n",
      "  warnings.warn(\n"
     ]
    }
   ],
   "source": [
    "gms_per_k = [GaussianMixture(n_components=k, n_init=10, random_state=42).fit(X)\n",
    "             for k in range(1, 11)]\n",
    "bics = [model.bic(X) for model in gms_per_k]\n",
    "aics = [model.aic(X) for model in gms_per_k]"
   ]
  },
  {
   "cell_type": "code",
   "execution_count": 297,
   "id": "4eadff35",
   "metadata": {},
   "outputs": [
    {
     "data": {
      "image/png": "[encoded data removed]",
      "text/plain": [
       "<Figure size 576x216 with 1 Axes>"
      ]
     },
     "metadata": {
      "needs_background": "light"
     },
     "output_type": "display_data"
    }
   ],
   "source": [
    "plt.figure(figsize=(8, 3))\n",
    "plt.plot(range(1, 11), bics, \"bo-\", label=\"BIC\")\n",
    "plt.plot(range(1, 11), aics, \"go--\", label=\"AIC\")\n",
    "plt.xlabel(\"$k$\", fontsize=14)\n",
    "plt.ylabel(\"Information Criterion\", fontsize=14)\n",
    "plt.axis([1, 9.5, np.min(aics) - 50, np.max(aics) + 50])\n",
    "plt.annotate('Minimum',\n",
    "             xy=(3, bics[2]),\n",
    "             xytext=(0.35, 0.6),\n",
    "             textcoords='figure fraction',\n",
    "             fontsize=14,\n",
    "             arrowprops=dict(facecolor='black', shrink=0.1)\n",
    "            )\n",
    "plt.legend()\n",
    "plt.show()"
   ]
  },
  {
   "cell_type": "code",
   "execution_count": 298,
   "id": "d4ba85ea",
   "metadata": {
    "collapsed": true
   },
   "outputs": [
    {
     "name": "stderr",
     "output_type": "stream",
     "text": [
      "C:\\ProgramData\\Anaconda3\\lib\\site-packages\\sklearn\\cluster\\_kmeans.py:1036: UserWarning: KMeans is known to have a memory leak on Windows with MKL, when there are less chunks than available threads. You can avoid it by setting the environment variable OMP_NUM_THREADS=5.\n",
      "  warnings.warn(\n",
      "C:\\ProgramData\\Anaconda3\\lib\\site-packages\\sklearn\\cluster\\_kmeans.py:1036: UserWarning: KMeans is known to have a memory leak on Windows with MKL, when there are less chunks than available threads. You can avoid it by setting the environment variable OMP_NUM_THREADS=5.\n",
      "  warnings.warn(\n",
      "C:\\ProgramData\\Anaconda3\\lib\\site-packages\\sklearn\\cluster\\_kmeans.py:1036: UserWarning: KMeans is known to have a memory leak on Windows with MKL, when there are less chunks than available threads. You can avoid it by setting the environment variable OMP_NUM_THREADS=5.\n",
      "  warnings.warn(\n",
      "C:\\ProgramData\\Anaconda3\\lib\\site-packages\\sklearn\\cluster\\_kmeans.py:1036: UserWarning: KMeans is known to have a memory leak on Windows with MKL, when there are less chunks than available threads. You can avoid it by setting the environment variable OMP_NUM_THREADS=5.\n",
      "  warnings.warn(\n",
      "C:\\ProgramData\\Anaconda3\\lib\\site-packages\\sklearn\\cluster\\_kmeans.py:1036: UserWarning: KMeans is known to have a memory leak on Windows with MKL, when there are less chunks than available threads. You can avoid it by setting the environment variable OMP_NUM_THREADS=5.\n",
      "  warnings.warn(\n",
      "C:\\ProgramData\\Anaconda3\\lib\\site-packages\\sklearn\\cluster\\_kmeans.py:1036: UserWarning: KMeans is known to have a memory leak on Windows with MKL, when there are less chunks than available threads. You can avoid it by setting the environment variable OMP_NUM_THREADS=5.\n",
      "  warnings.warn(\n",
      "C:\\ProgramData\\Anaconda3\\lib\\site-packages\\sklearn\\cluster\\_kmeans.py:1036: UserWarning: KMeans is known to have a memory leak on Windows with MKL, when there are less chunks than available threads. You can avoid it by setting the environment variable OMP_NUM_THREADS=5.\n",
      "  warnings.warn(\n",
      "C:\\ProgramData\\Anaconda3\\lib\\site-packages\\sklearn\\cluster\\_kmeans.py:1036: UserWarning: KMeans is known to have a memory leak on Windows with MKL, when there are less chunks than available threads. You can avoid it by setting the environment variable OMP_NUM_THREADS=5.\n",
      "  warnings.warn(\n",
      "C:\\ProgramData\\Anaconda3\\lib\\site-packages\\sklearn\\cluster\\_kmeans.py:1036: UserWarning: KMeans is known to have a memory leak on Windows with MKL, when there are less chunks than available threads. You can avoid it by setting the environment variable OMP_NUM_THREADS=5.\n",
      "  warnings.warn(\n",
      "C:\\ProgramData\\Anaconda3\\lib\\site-packages\\sklearn\\cluster\\_kmeans.py:1036: UserWarning: KMeans is known to have a memory leak on Windows with MKL, when there are less chunks than available threads. You can avoid it by setting the environment variable OMP_NUM_THREADS=5.\n",
      "  warnings.warn(\n",
      "C:\\ProgramData\\Anaconda3\\lib\\site-packages\\sklearn\\cluster\\_kmeans.py:1036: UserWarning: KMeans is known to have a memory leak on Windows with MKL, when there are less chunks than available threads. You can avoid it by setting the environment variable OMP_NUM_THREADS=5.\n",
      "  warnings.warn(\n",
      "C:\\ProgramData\\Anaconda3\\lib\\site-packages\\sklearn\\cluster\\_kmeans.py:1036: UserWarning: KMeans is known to have a memory leak on Windows with MKL, when there are less chunks than available threads. You can avoid it by setting the environment variable OMP_NUM_THREADS=5.\n",
      "  warnings.warn(\n",
      "C:\\ProgramData\\Anaconda3\\lib\\site-packages\\sklearn\\cluster\\_kmeans.py:1036: UserWarning: KMeans is known to have a memory leak on Windows with MKL, when there are less chunks than available threads. You can avoid it by setting the environment variable OMP_NUM_THREADS=5.\n",
      "  warnings.warn(\n",
      "C:\\ProgramData\\Anaconda3\\lib\\site-packages\\sklearn\\cluster\\_kmeans.py:1036: UserWarning: KMeans is known to have a memory leak on Windows with MKL, when there are less chunks than available threads. You can avoid it by setting the environment variable OMP_NUM_THREADS=5.\n",
      "  warnings.warn(\n",
      "C:\\ProgramData\\Anaconda3\\lib\\site-packages\\sklearn\\cluster\\_kmeans.py:1036: UserWarning: KMeans is known to have a memory leak on Windows with MKL, when there are less chunks than available threads. You can avoid it by setting the environment variable OMP_NUM_THREADS=5.\n",
      "  warnings.warn(\n",
      "C:\\ProgramData\\Anaconda3\\lib\\site-packages\\sklearn\\cluster\\_kmeans.py:1036: UserWarning: KMeans is known to have a memory leak on Windows with MKL, when there are less chunks than available threads. You can avoid it by setting the environment variable OMP_NUM_THREADS=5.\n",
      "  warnings.warn(\n",
      "C:\\ProgramData\\Anaconda3\\lib\\site-packages\\sklearn\\cluster\\_kmeans.py:1036: UserWarning: KMeans is known to have a memory leak on Windows with MKL, when there are less chunks than available threads. You can avoid it by setting the environment variable OMP_NUM_THREADS=5.\n",
      "  warnings.warn(\n",
      "C:\\ProgramData\\Anaconda3\\lib\\site-packages\\sklearn\\cluster\\_kmeans.py:1036: UserWarning: KMeans is known to have a memory leak on Windows with MKL, when there are less chunks than available threads. You can avoid it by setting the environment variable OMP_NUM_THREADS=5.\n",
      "  warnings.warn(\n",
      "C:\\ProgramData\\Anaconda3\\lib\\site-packages\\sklearn\\cluster\\_kmeans.py:1036: UserWarning: KMeans is known to have a memory leak on Windows with MKL, when there are less chunks than available threads. You can avoid it by setting the environment variable OMP_NUM_THREADS=5.\n",
      "  warnings.warn(\n",
      "C:\\ProgramData\\Anaconda3\\lib\\site-packages\\sklearn\\cluster\\_kmeans.py:1036: UserWarning: KMeans is known to have a memory leak on Windows with MKL, when there are less chunks than available threads. You can avoid it by setting the environment variable OMP_NUM_THREADS=5.\n",
      "  warnings.warn(\n",
      "C:\\ProgramData\\Anaconda3\\lib\\site-packages\\sklearn\\cluster\\_kmeans.py:1036: UserWarning: KMeans is known to have a memory leak on Windows with MKL, when there are less chunks than available threads. You can avoid it by setting the environment variable OMP_NUM_THREADS=5.\n",
      "  warnings.warn(\n",
      "C:\\ProgramData\\Anaconda3\\lib\\site-packages\\sklearn\\cluster\\_kmeans.py:1036: UserWarning: KMeans is known to have a memory leak on Windows with MKL, when there are less chunks than available threads. You can avoid it by setting the environment variable OMP_NUM_THREADS=5.\n",
      "  warnings.warn(\n",
      "C:\\ProgramData\\Anaconda3\\lib\\site-packages\\sklearn\\cluster\\_kmeans.py:1036: UserWarning: KMeans is known to have a memory leak on Windows with MKL, when there are less chunks than available threads. You can avoid it by setting the environment variable OMP_NUM_THREADS=5.\n",
      "  warnings.warn(\n",
      "C:\\ProgramData\\Anaconda3\\lib\\site-packages\\sklearn\\cluster\\_kmeans.py:1036: UserWarning: KMeans is known to have a memory leak on Windows with MKL, when there are less chunks than available threads. You can avoid it by setting the environment variable OMP_NUM_THREADS=5.\n",
      "  warnings.warn(\n",
      "C:\\ProgramData\\Anaconda3\\lib\\site-packages\\sklearn\\cluster\\_kmeans.py:1036: UserWarning: KMeans is known to have a memory leak on Windows with MKL, when there are less chunks than available threads. You can avoid it by setting the environment variable OMP_NUM_THREADS=5.\n",
      "  warnings.warn(\n",
      "C:\\ProgramData\\Anaconda3\\lib\\site-packages\\sklearn\\cluster\\_kmeans.py:1036: UserWarning: KMeans is known to have a memory leak on Windows with MKL, when there are less chunks than available threads. You can avoid it by setting the environment variable OMP_NUM_THREADS=5.\n",
      "  warnings.warn(\n",
      "C:\\ProgramData\\Anaconda3\\lib\\site-packages\\sklearn\\cluster\\_kmeans.py:1036: UserWarning: KMeans is known to have a memory leak on Windows with MKL, when there are less chunks than available threads. You can avoid it by setting the environment variable OMP_NUM_THREADS=5.\n",
      "  warnings.warn(\n",
      "C:\\ProgramData\\Anaconda3\\lib\\site-packages\\sklearn\\cluster\\_kmeans.py:1036: UserWarning: KMeans is known to have a memory leak on Windows with MKL, when there are less chunks than available threads. You can avoid it by setting the environment variable OMP_NUM_THREADS=5.\n",
      "  warnings.warn(\n",
      "C:\\ProgramData\\Anaconda3\\lib\\site-packages\\sklearn\\cluster\\_kmeans.py:1036: UserWarning: KMeans is known to have a memory leak on Windows with MKL, when there are less chunks than available threads. You can avoid it by setting the environment variable OMP_NUM_THREADS=5.\n",
      "  warnings.warn(\n",
      "C:\\ProgramData\\Anaconda3\\lib\\site-packages\\sklearn\\cluster\\_kmeans.py:1036: UserWarning: KMeans is known to have a memory leak on Windows with MKL, when there are less chunks than available threads. You can avoid it by setting the environment variable OMP_NUM_THREADS=5.\n",
      "  warnings.warn(\n",
      "C:\\ProgramData\\Anaconda3\\lib\\site-packages\\sklearn\\cluster\\_kmeans.py:1036: UserWarning: KMeans is known to have a memory leak on Windows with MKL, when there are less chunks than available threads. You can avoid it by setting the environment variable OMP_NUM_THREADS=5.\n",
      "  warnings.warn(\n",
      "C:\\ProgramData\\Anaconda3\\lib\\site-packages\\sklearn\\cluster\\_kmeans.py:1036: UserWarning: KMeans is known to have a memory leak on Windows with MKL, when there are less chunks than available threads. You can avoid it by setting the environment variable OMP_NUM_THREADS=5.\n",
      "  warnings.warn(\n",
      "C:\\ProgramData\\Anaconda3\\lib\\site-packages\\sklearn\\cluster\\_kmeans.py:1036: UserWarning: KMeans is known to have a memory leak on Windows with MKL, when there are less chunks than available threads. You can avoid it by setting the environment variable OMP_NUM_THREADS=5.\n",
      "  warnings.warn(\n",
      "C:\\ProgramData\\Anaconda3\\lib\\site-packages\\sklearn\\cluster\\_kmeans.py:1036: UserWarning: KMeans is known to have a memory leak on Windows with MKL, when there are less chunks than available threads. You can avoid it by setting the environment variable OMP_NUM_THREADS=5.\n",
      "  warnings.warn(\n",
      "C:\\ProgramData\\Anaconda3\\lib\\site-packages\\sklearn\\cluster\\_kmeans.py:1036: UserWarning: KMeans is known to have a memory leak on Windows with MKL, when there are less chunks than available threads. You can avoid it by setting the environment variable OMP_NUM_THREADS=5.\n",
      "  warnings.warn(\n",
      "C:\\ProgramData\\Anaconda3\\lib\\site-packages\\sklearn\\cluster\\_kmeans.py:1036: UserWarning: KMeans is known to have a memory leak on Windows with MKL, when there are less chunks than available threads. You can avoid it by setting the environment variable OMP_NUM_THREADS=5.\n",
      "  warnings.warn(\n"
     ]
    },
    {
     "name": "stderr",
     "output_type": "stream",
     "text": [
      "C:\\ProgramData\\Anaconda3\\lib\\site-packages\\sklearn\\cluster\\_kmeans.py:1036: UserWarning: KMeans is known to have a memory leak on Windows with MKL, when there are less chunks than available threads. You can avoid it by setting the environment variable OMP_NUM_THREADS=5.\n",
      "  warnings.warn(\n",
      "C:\\ProgramData\\Anaconda3\\lib\\site-packages\\sklearn\\cluster\\_kmeans.py:1036: UserWarning: KMeans is known to have a memory leak on Windows with MKL, when there are less chunks than available threads. You can avoid it by setting the environment variable OMP_NUM_THREADS=5.\n",
      "  warnings.warn(\n",
      "C:\\ProgramData\\Anaconda3\\lib\\site-packages\\sklearn\\cluster\\_kmeans.py:1036: UserWarning: KMeans is known to have a memory leak on Windows with MKL, when there are less chunks than available threads. You can avoid it by setting the environment variable OMP_NUM_THREADS=5.\n",
      "  warnings.warn(\n",
      "C:\\ProgramData\\Anaconda3\\lib\\site-packages\\sklearn\\cluster\\_kmeans.py:1036: UserWarning: KMeans is known to have a memory leak on Windows with MKL, when there are less chunks than available threads. You can avoid it by setting the environment variable OMP_NUM_THREADS=5.\n",
      "  warnings.warn(\n"
     ]
    }
   ],
   "source": [
    "min_bic = np.infty\n",
    "\n",
    "for k in range(1, 11):\n",
    "    for covariance_type in (\"full\", \"tied\", \"spherical\", \"diag\"):\n",
    "        bic = GaussianMixture(n_components=k, n_init=10,\n",
    "                              covariance_type=covariance_type,\n",
    "                              random_state=42).fit(X).bic(X)\n",
    "        if bic < min_bic:\n",
    "            min_bic = bic\n",
    "            best_k = k\n",
    "            best_covariance_type = covariance_type"
   ]
  },
  {
   "cell_type": "code",
   "execution_count": 299,
   "id": "417f68cc",
   "metadata": {},
   "outputs": [
    {
     "data": {
      "text/plain": [
       "3"
      ]
     },
     "execution_count": 299,
     "metadata": {},
     "output_type": "execute_result"
    }
   ],
   "source": [
    "best_k"
   ]
  },
  {
   "cell_type": "code",
   "execution_count": 300,
   "id": "1d5fa186",
   "metadata": {},
   "outputs": [
    {
     "data": {
      "text/plain": [
       "'full'"
      ]
     },
     "execution_count": 300,
     "metadata": {},
     "output_type": "execute_result"
    }
   ],
   "source": [
    "best_covariance_type"
   ]
  },
  {
   "cell_type": "code",
   "execution_count": 301,
   "id": "d65fc892",
   "metadata": {},
   "outputs": [],
   "source": [
    "from sklearn.mixture import BayesianGaussianMixture"
   ]
  },
  {
   "cell_type": "code",
   "execution_count": 302,
   "id": "3e8b2b7c",
   "metadata": {},
   "outputs": [
    {
     "data": {
      "text/plain": [
       "BayesianGaussianMixture(n_components=10, n_init=10, random_state=42)"
      ]
     },
     "execution_count": 302,
     "metadata": {},
     "output_type": "execute_result"
    }
   ],
   "source": [
    "bgm = BayesianGaussianMixture(n_components=10, n_init=10, random_state=42)\n",
    "bgm.fit(X)"
   ]
  },
  {
   "cell_type": "code",
   "execution_count": 303,
   "id": "796ec3d5",
   "metadata": {},
   "outputs": [
    {
     "data": {
      "text/plain": [
       "array([0.4 , 0.21, 0.4 , 0.  , 0.  , 0.  , 0.  , 0.  , 0.  , 0.  ])"
      ]
     },
     "execution_count": 303,
     "metadata": {},
     "output_type": "execute_result"
    }
   ],
   "source": [
    "#可以看出只有前三个有值，说明模型自动检测到只需要三个类别\n",
    "np.round(bgm.weights_, 2)"
   ]
  },
  {
   "cell_type": "markdown",
   "id": "ad4da64a",
   "metadata": {},
   "source": [
    "浓度参数 weight_concentration_prior设置越大，分的类别会越多。"
   ]
  },
  {
   "cell_type": "code",
   "execution_count": 307,
   "id": "38ac494e",
   "metadata": {},
   "outputs": [
    {
     "data": {
      "text/plain": [
       "BayesianGaussianMixture(max_iter=1000, n_components=10, random_state=42,\n",
       "                        weight_concentration_prior=5)"
      ]
     },
     "execution_count": 307,
     "metadata": {},
     "output_type": "execute_result"
    }
   ],
   "source": [
    "bgm_low = BayesianGaussianMixture(n_components=10, max_iter=1000, n_init=1,\n",
    "                                  weight_concentration_prior=0.01, random_state=42)\n",
    "bgm_high = BayesianGaussianMixture(n_components=10, max_iter=1000, n_init=1,\n",
    "                                  weight_concentration_prior=5, random_state=42)\n",
    "nn = 73\n",
    "bgm_low.fit(X[:nn])\n",
    "bgm_high.fit(X[:nn])"
   ]
  },
  {
   "cell_type": "code",
   "execution_count": 305,
   "id": "eb254c06",
   "metadata": {},
   "outputs": [
    {
     "data": {
      "text/plain": [
       "array([0.52, 0.48, 0.  , 0.  , 0.  , 0.  , 0.  , 0.  , 0.  , 0.  ])"
      ]
     },
     "execution_count": 305,
     "metadata": {},
     "output_type": "execute_result"
    }
   ],
   "source": [
    "np.round(bgm_low.weights_, 2)"
   ]
  },
  {
   "cell_type": "code",
   "execution_count": 308,
   "id": "2ff3d4ef",
   "metadata": {},
   "outputs": [
    {
     "data": {
      "text/plain": [
       "array([0.5 , 0.45, 0.01, 0.01, 0.01, 0.01, 0.01, 0.  , 0.  , 0.  ])"
      ]
     },
     "execution_count": 308,
     "metadata": {},
     "output_type": "execute_result"
    }
   ],
   "source": [
    "np.round(bgm_high.weights_, 2)"
   ]
  },
  {
   "cell_type": "code",
   "execution_count": 309,
   "id": "60c0b686",
   "metadata": {},
   "outputs": [],
   "source": [
    "X_moons, y_moons = make_moons(n_samples=1000, noise=0.05, random_state=42)"
   ]
  },
  {
   "cell_type": "code",
   "execution_count": 310,
   "id": "1d65225c",
   "metadata": {},
   "outputs": [
    {
     "data": {
      "text/plain": [
       "BayesianGaussianMixture(n_components=10, n_init=10, random_state=42)"
      ]
     },
     "execution_count": 310,
     "metadata": {},
     "output_type": "execute_result"
    }
   ],
   "source": [
    "bgm = BayesianGaussianMixture(n_components=10, n_init=10, random_state=42)\n",
    "bgm.fit(X_moons)"
   ]
  },
  {
   "cell_type": "markdown",
   "id": "392b7d8a",
   "metadata": {},
   "source": [
    "虽然看起来很怪，但是从密度上看，实际上还是分的不错的，所以重要的是密度图"
   ]
  },
  {
   "cell_type": "code",
   "execution_count": 313,
   "id": "75745f36",
   "metadata": {},
   "outputs": [
    {
     "data": {
      "image/png": "[encoded data removed]",
      "text/plain": [
       "<Figure size 648x230.4 with 1 Axes>"
      ]
     },
     "metadata": {
      "needs_background": "light"
     },
     "output_type": "display_data"
    }
   ],
   "source": [
    "plt.figure(figsize=(9, 3.2))\n",
    "plot_gaussian_mixture(bgm, X_moons, show_ylabels=False)\n",
    "\n",
    "plt.show()"
   ]
  },
  {
   "cell_type": "markdown",
   "id": "2dfb91ba",
   "metadata": {},
   "source": [
    "对于异常样本，看他们的score_samples会发现远低于正常样本 通常为负数"
   ]
  },
  {
   "cell_type": "code",
   "execution_count": null,
   "id": "c9c71296",
   "metadata": {},
   "outputs": [],
   "source": [
    "gm.score_samples(X_bad_faces_pca)"
   ]
  },
  {
   "cell_type": "code",
   "execution_count": null,
   "id": "4e443e23",
   "metadata": {},
   "outputs": [],
   "source": [
    "gm.score_samples(X_train_pca[:10])"
   ]
  }
 ],
 "metadata": {
  "kernelspec": {
   "display_name": "Python 3 (ipykernel)",
   "language": "python",
   "name": "python3"
  },
  "language_info": {
   "codemirror_mode": {
    "name": "ipython",
    "version": 3
   },
   "file_extension": ".py",
   "mimetype": "text/x-python",
   "name": "python",
   "nbconvert_exporter": "python",
   "pygments_lexer": "ipython3",
   "version": "3.8.5"
  },
  "toc": {
   "base_numbering": 1,
   "nav_menu": {},
   "number_sections": true,
   "sideBar": true,
   "skip_h1_title": false,
   "title_cell": "Table of Contents",
   "title_sidebar": "Contents",
   "toc_cell": false,
   "toc_position": {},
   "toc_section_display": true,
   "toc_window_display": false
  }
 },
 "nbformat": 4,
 "nbformat_minor": 5
}
