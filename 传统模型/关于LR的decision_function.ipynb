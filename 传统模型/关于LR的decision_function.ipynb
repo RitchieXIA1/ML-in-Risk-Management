{
 "cells": [
  {
   "cell_type": "code",
   "execution_count": 34,
   "id": "af58ea5d",
   "metadata": {
    "ExecuteTime": {
     "end_time": "2022-03-04T09:21:39.616214Z",
     "start_time": "2022-03-04T09:21:39.599205Z"
    }
   },
   "outputs": [],
   "source": [
    "import pickle\n",
    "import matplotlib.pyplot as plt\n",
    "from sklearn.metrics import roc_curve, roc_auc_score, auc, plot_roc_curve\n",
    "from sklearn.preprocessing import label_binarize\n",
    "from sklearn.model_selection import train_test_split\n",
    "import pandas as pd\n",
    "from sklearn.preprocessing import MinMaxScaler\n",
    "from sklearn.datasets import load_iris"
   ]
  },
  {
   "cell_type": "code",
   "execution_count": 12,
   "id": "3d275530",
   "metadata": {
    "ExecuteTime": {
     "end_time": "2022-03-04T09:14:00.032015Z",
     "start_time": "2022-03-04T09:14:00.015012Z"
    }
   },
   "outputs": [],
   "source": [
    "iris = load_iris()"
   ]
  },
  {
   "cell_type": "code",
   "execution_count": 13,
   "id": "36904b81",
   "metadata": {
    "ExecuteTime": {
     "end_time": "2022-03-04T09:14:00.472874Z",
     "start_time": "2022-03-04T09:14:00.454951Z"
    }
   },
   "outputs": [],
   "source": [
    "min_max_scaler = MinMaxScaler()\n",
    "data = min_max_scaler.fit_transform(iris.data)\n",
    "data = pd.DataFrame(data, columns=iris.feature_names)\n",
    "data[\"target\"] = iris.target"
   ]
  },
  {
   "cell_type": "code",
   "execution_count": 16,
   "id": "f45d4ece",
   "metadata": {
    "ExecuteTime": {
     "end_time": "2022-03-04T09:14:27.404442Z",
     "start_time": "2022-03-04T09:14:27.389438Z"
    }
   },
   "outputs": [],
   "source": [
    "X_train, X_test, y_train, y_test = train_test_split(data[data.columns[:-1]], data[data.columns[-1:]]\n",
    "                                                    , test_size=0.3, random_state=1000)"
   ]
  },
  {
   "cell_type": "code",
   "execution_count": 5,
   "id": "665e93d3",
   "metadata": {
    "ExecuteTime": {
     "end_time": "2022-03-04T09:12:18.245419Z",
     "start_time": "2022-03-04T09:12:18.235418Z"
    }
   },
   "outputs": [],
   "source": [
    "file = open('train_model_lr.pkl','rb')"
   ]
  },
  {
   "cell_type": "code",
   "execution_count": 6,
   "id": "6e4de300",
   "metadata": {
    "ExecuteTime": {
     "end_time": "2022-03-04T09:12:19.562320Z",
     "start_time": "2022-03-04T09:12:19.293261Z"
    }
   },
   "outputs": [],
   "source": [
    "model = pickle.load(file)"
   ]
  },
  {
   "cell_type": "code",
   "execution_count": 25,
   "id": "ba721d1b",
   "metadata": {
    "ExecuteTime": {
     "end_time": "2022-03-04T09:19:42.314963Z",
     "start_time": "2022-03-04T09:19:42.295712Z"
    }
   },
   "outputs": [
    {
     "name": "stdout",
     "output_type": "stream",
     "text": [
      "(45, 3)\n"
     ]
    }
   ],
   "source": [
    "y_scores = model.decision_function(X_test)\n",
    "print(y_scores.shape)"
   ]
  },
  {
   "cell_type": "code",
   "execution_count": 31,
   "id": "513ec45a",
   "metadata": {
    "ExecuteTime": {
     "end_time": "2022-03-04T09:21:10.819846Z",
     "start_time": "2022-03-04T09:21:10.808697Z"
    }
   },
   "outputs": [
    {
     "data": {
      "text/plain": [
       "array([0, 1, 2])"
      ]
     },
     "execution_count": 31,
     "metadata": {},
     "output_type": "execute_result"
    }
   ],
   "source": [
    "model.classes_"
   ]
  },
  {
   "cell_type": "code",
   "execution_count": 38,
   "id": "e59874da",
   "metadata": {
    "ExecuteTime": {
     "end_time": "2022-03-04T09:22:07.991799Z",
     "start_time": "2022-03-04T09:22:07.718565Z"
    }
   },
   "outputs": [
    {
     "name": "stdout",
     "output_type": "stream",
     "text": [
      "AUC: [1.         0.70258621 0.99794239]\n"
     ]
    },
    {
     "data": {
      "image/png": "[encoded data removed]",
      "text/plain": [
       "<Figure size 576x576 with 4 Axes>"
      ]
     },
     "metadata": {
      "needs_background": "light"
     },
     "output_type": "display_data"
    }
   ],
   "source": [
    "\n",
    "fig, axes = plt.subplots(2, 2, figsize=(8, 8))\n",
    "colors = [\"r\", \"g\", \"b\", \"k\"]\n",
    "markers = [\"o\", \"^\", \"v\", \"+\"]\n",
    " \n",
    "y_test = label_binarize(y_test, classes=model.classes_)\n",
    "for i in range(3):\n",
    "    # 计算每个类别的FPR, TPR \n",
    "    fpr, tpr, thr = roc_curve(y_test[:, i], y_scores[:, i])\n",
    "#     print(\"classes_{}, fpr: {}, tpr: {}, threshold: {}\".format(i, fpr, tpr, thr))\n",
    "    # 绘制ROC曲线，并计算AUC值\n",
    "    axes[int(i / 2), i % 2].plot(fpr, tpr, color=colors[i], marker=markers[i], label=\"AUC: {:.2f}\".format(auc(fpr, tpr)))\n",
    "    axes[int(i / 2), i % 2].set_xlabel(\"FPR\")\n",
    "    axes[int(i / 2), i % 2].set_ylabel(\"TPR\")\n",
    "    axes[int(i / 2), i % 2].set_title(\"Class_{}\".format(model.classes_[i]))\n",
    "    axes[int(i / 2), i % 2].legend(loc=\"lower right\")\n",
    " \n",
    "print(\"AUC:\", roc_auc_score(y_test, model.decision_function(X_test), multi_class=\"ovr\", average=None))"
   ]
  },
  {
   "cell_type": "code",
   "execution_count": null,
   "id": "9ba2ea85",
   "metadata": {},
   "outputs": [],
   "source": []
  }
 ],
 "metadata": {
  "kernelspec": {
   "display_name": "Python 3",
   "language": "python",
   "name": "python3"
  },
  "language_info": {
   "codemirror_mode": {
    "name": "ipython",
    "version": 3
   },
   "file_extension": ".py",
   "mimetype": "text/x-python",
   "name": "python",
   "nbconvert_exporter": "python",
   "pygments_lexer": "ipython3",
   "version": "3.8.8"
  },
  "varInspector": {
   "cols": {
    "lenName": 16,
    "lenType": 16,
    "lenVar": 40
   },
   "kernels_config": {
    "python": {
     "delete_cmd_postfix": "",
     "delete_cmd_prefix": "del ",
     "library": "var_list.py",
     "varRefreshCmd": "print(var_dic_list())"
    },
    "r": {
     "delete_cmd_postfix": ") ",
     "delete_cmd_prefix": "rm(",
     "library": "var_list.r",
     "varRefreshCmd": "cat(var_dic_list()) "
    }
   },
   "types_to_exclude": [
    "module",
    "function",
    "builtin_function_or_method",
    "instance",
    "_Feature"
   ],
   "window_display": false
  }
 },
 "nbformat": 4,
 "nbformat_minor": 5
}
