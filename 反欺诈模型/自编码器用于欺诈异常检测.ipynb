{
 "cells": [
  {
   "cell_type": "markdown",
   "metadata": {},
   "source": [
    "## Restore the variables from the last session"
   ]
  },
  {
   "cell_type": "code",
   "execution_count": 2,
   "metadata": {},
   "outputs": [
    {
     "name": "stdout",
     "output_type": "stream",
     "text": [
      "Unable to restore variable 'credit_df', ignoring (use %store -d to forget!)\n",
      "The error was: <class 'KeyError'>\n"
     ]
    }
   ],
   "source": [
    "store -r"
   ]
  },
  {
   "cell_type": "markdown",
   "metadata": {},
   "source": [
    "## What is Autoencoder?\n",
    "Autoencoder is an unsupervised artificial neural network that learns how to efficiently compress and encode data then learns how to reconstruct the data back from the reduced encoded representation to a representation that is as close to the original input as possible.\n",
    "Autoencoder, by design, reduces data dimensions by learning how to ignore the noise in the data.\n",
    "Here is an example of the input/output image from the MNIST dataset to an autoencoder.\n",
    "\n",
    "\n",
    "<img src=\"./images/autoencoder.png\">\n",
    "\n",
    "\n",
    "### Autoencoders consists of 4 main parts:\n",
    "1- **Encoder**: In which the model learns how to reduce the input dimensions and compress the input data into an encoded representation.\n",
    "\n",
    "2- **Bottleneck**: which is the layer that contains the compressed representation of the input data. This is the lowest possible dimensions of the input data.\n",
    "\n",
    "3- **Decoder**: In which the model learns how to reconstruct the data from the encoded representation to be as close to the original input as possible.\n",
    "\n",
    "4- **Reconstruction Loss**: This is the method that measures measure how well the decoder is performing and how close the output is to the original input."
   ]
  },
  {
   "cell_type": "markdown",
   "metadata": {},
   "source": [
    "## Why Autoencoder works for Anomaly Detection?\n",
    "Autoencoders are great in learning what is normal. I can identify the normal region ina distribution then anything that is considered an outlier will return a high reconstruction error.\n",
    "\n",
    "Let's start by installing some pre-requisite libraries. H2O is an open-source library that can be used to do a number of machine learning tasks. It has a function for the autoencoders. Let's have a look"
   ]
  },
  {
   "cell_type": "code",
   "execution_count": 3,
   "metadata": {},
   "outputs": [
    {
     "name": "stdout",
     "output_type": "stream",
     "text": [
      "Requirement already satisfied: h2o in /home/ec2-user/anaconda3/envs/python3/lib/python3.6/site-packages (3.26.0.8)\n",
      "Requirement already satisfied: colorama>=0.3.8 in /home/ec2-user/anaconda3/envs/python3/lib/python3.6/site-packages (from h2o) (0.3.9)\n",
      "Requirement already satisfied: tabulate in /home/ec2-user/anaconda3/envs/python3/lib/python3.6/site-packages (from h2o) (0.8.5)\n",
      "Requirement already satisfied: requests in /home/ec2-user/anaconda3/envs/python3/lib/python3.6/site-packages (from h2o) (2.20.0)\n",
      "Requirement already satisfied: future in /home/ec2-user/anaconda3/envs/python3/lib/python3.6/site-packages (from h2o) (0.18.1)\n",
      "Requirement already satisfied: chardet<3.1.0,>=3.0.2 in /home/ec2-user/anaconda3/envs/python3/lib/python3.6/site-packages (from requests->h2o) (3.0.4)\n",
      "Requirement already satisfied: certifi>=2017.4.17 in /home/ec2-user/anaconda3/envs/python3/lib/python3.6/site-packages (from requests->h2o) (2019.6.16)\n",
      "Requirement already satisfied: urllib3<1.25,>=1.21.1 in /home/ec2-user/anaconda3/envs/python3/lib/python3.6/site-packages (from requests->h2o) (1.23)\n",
      "Requirement already satisfied: idna<2.8,>=2.5 in /home/ec2-user/anaconda3/envs/python3/lib/python3.6/site-packages (from requests->h2o) (2.6)\n",
      "\u001b[33mYou are using pip version 10.0.1, however version 19.3 is available.\n",
      "You should consider upgrading via the 'pip install --upgrade pip' command.\u001b[0m\n"
     ]
    }
   ],
   "source": [
    "!pip install h2o"
   ]
  },
  {
   "cell_type": "markdown",
   "metadata": {},
   "source": [
    "## Importing necessary libraries"
   ]
  },
  {
   "cell_type": "code",
   "execution_count": 1,
   "metadata": {},
   "outputs": [],
   "source": [
    "import h2o\n",
    "import matplotlib.pyplot as plt\n",
    "from pylab import rcParams\n",
    "import numpy as np # linear algebra\n",
    "import pandas as pd # data processing, CSV file I/O (e.g. pd.read_csv)\n",
    "import os\n",
    "from h2o.estimators.deeplearning import H2OAutoEncoderEstimator, H2ODeepLearningEstimator"
   ]
  },
  {
   "cell_type": "markdown",
   "metadata": {},
   "source": [
    "## Starting and initializing H2O server."
   ]
  },
  {
   "cell_type": "code",
   "execution_count": 2,
   "metadata": {},
   "outputs": [
    {
     "name": "stdout",
     "output_type": "stream",
     "text": [
      "Checking whether there is an H2O instance running at http://localhost:54321 ..... not found.\n",
      "Attempting to start a local H2O server...\n",
      "; Java HotSpot(TM) 64-Bit Server VM (build 25.152-b16, mixed mode)\n",
      "  Starting server from C:\\ProgramData\\Anaconda3\\Lib\\site-packages\\h2o\\backend\\bin\\h2o.jar\n",
      "  Ice root: C:\\Users\\ADMINI~1\\AppData\\Local\\Temp\\tmpojdlf4gi\n",
      "  JVM stdout: C:\\Users\\ADMINI~1\\AppData\\Local\\Temp\\tmpojdlf4gi\\h2o_Administrator_started_from_python.out\n",
      "  JVM stderr: C:\\Users\\ADMINI~1\\AppData\\Local\\Temp\\tmpojdlf4gi\\h2o_Administrator_started_from_python.err\n",
      "  Server is running at http://127.0.0.1:54321\n",
      "Connecting to H2O server at http://127.0.0.1:54321 ... successful.\n"
     ]
    },
    {
     "data": {
      "text/html": [
       "<div style=\"overflow:auto\"><table style=\"width:50%\"><tr><td>H2O_cluster_uptime:</td>\n",
       "<td>02 secs</td></tr>\n",
       "<tr><td>H2O_cluster_timezone:</td>\n",
       "<td>Asia/Shanghai</td></tr>\n",
       "<tr><td>H2O_data_parsing_timezone:</td>\n",
       "<td>UTC</td></tr>\n",
       "<tr><td>H2O_cluster_version:</td>\n",
       "<td>3.36.1.1</td></tr>\n",
       "<tr><td>H2O_cluster_version_age:</td>\n",
       "<td>11 days </td></tr>\n",
       "<tr><td>H2O_cluster_name:</td>\n",
       "<td>H2O_from_python_Administrator_wr9n1w</td></tr>\n",
       "<tr><td>H2O_cluster_total_nodes:</td>\n",
       "<td>1</td></tr>\n",
       "<tr><td>H2O_cluster_free_memory:</td>\n",
       "<td>1.778 Gb</td></tr>\n",
       "<tr><td>H2O_cluster_total_cores:</td>\n",
       "<td>16</td></tr>\n",
       "<tr><td>H2O_cluster_allowed_cores:</td>\n",
       "<td>16</td></tr>\n",
       "<tr><td>H2O_cluster_status:</td>\n",
       "<td>locked, healthy</td></tr>\n",
       "<tr><td>H2O_connection_url:</td>\n",
       "<td>http://127.0.0.1:54321</td></tr>\n",
       "<tr><td>H2O_connection_proxy:</td>\n",
       "<td>{\"http\": null, \"https\": null}</td></tr>\n",
       "<tr><td>H2O_internal_security:</td>\n",
       "<td>False</td></tr>\n",
       "<tr><td>Python_version:</td>\n",
       "<td>3.8.5 final</td></tr></table></div>"
      ],
      "text/plain": [
       "--------------------------  ------------------------------------\n",
       "H2O_cluster_uptime:         02 secs\n",
       "H2O_cluster_timezone:       Asia/Shanghai\n",
       "H2O_data_parsing_timezone:  UTC\n",
       "H2O_cluster_version:        3.36.1.1\n",
       "H2O_cluster_version_age:    11 days\n",
       "H2O_cluster_name:           H2O_from_python_Administrator_wr9n1w\n",
       "H2O_cluster_total_nodes:    1\n",
       "H2O_cluster_free_memory:    1.778 Gb\n",
       "H2O_cluster_total_cores:    16\n",
       "H2O_cluster_allowed_cores:  16\n",
       "H2O_cluster_status:         locked, healthy\n",
       "H2O_connection_url:         http://127.0.0.1:54321\n",
       "H2O_connection_proxy:       {\"http\": null, \"https\": null}\n",
       "H2O_internal_security:      False\n",
       "Python_version:             3.8.5 final\n",
       "--------------------------  ------------------------------------"
      ]
     },
     "metadata": {},
     "output_type": "display_data"
    }
   ],
   "source": [
    "h2o.init(max_mem_size = 2) # initializing h2o server\n",
    "h2o.remove_all()"
   ]
  },
  {
   "cell_type": "markdown",
   "metadata": {},
   "source": [
    "## Loading the dataset into a H2O dataframe and splitting the DS."
   ]
  },
  {
   "cell_type": "code",
   "execution_count": 4,
   "metadata": {},
   "outputs": [
    {
     "name": "stdout",
     "output_type": "stream",
     "text": [
      "Parse progress: |████████████████████████████████████████████████████████████████| (done) 100%\n"
     ]
    }
   ],
   "source": [
    "creditData_df = h2o.import_file(r\"data/creditcard.csv\") \n",
    "features= creditData_df.drop(['Time'], axis=1)\n",
    "train, test = features.split_frame([0.8])"
   ]
  },
  {
   "cell_type": "markdown",
   "metadata": {},
   "source": [
    "## Preprocess the dataset"
   ]
  },
  {
   "cell_type": "code",
   "execution_count": 5,
   "metadata": {},
   "outputs": [
    {
     "name": "stdout",
     "output_type": "stream",
     "text": [
      "Parse progress: |████████████████████████████████████████████████████████████████| (done) 100%\n",
      "Parse progress: |████████████████████████████████████████████████████████████████| (done) 100%\n"
     ]
    }
   ],
   "source": [
    "# converting to pandas dataframe\n",
    "train_df = train.as_data_frame()\n",
    "test_df = test.as_data_frame()\n",
    "\n",
    "train_df = train_df[train_df['Class'] == 0]\n",
    "fraud_df = train_df[train_df['Class'] == 1]\n",
    "\n",
    "# drop the Class variable\n",
    "train_df = train_df.drop(['Class'], axis=1)\n",
    "Y_test_df = test_df['Class'] # true labels of the testing set\n",
    "test_df = test_df.drop(['Class'], axis=1)\n",
    "\n",
    "# converting to h2o frame\n",
    "train_h2o = h2o.H2OFrame(train_df) \n",
    "test_h2o = h2o.H2OFrame(test_df)\n",
    "train_cols = train_h2o.columns"
   ]
  },
  {
   "cell_type": "markdown",
   "metadata": {},
   "source": [
    "## Create a local estimator and start the training process"
   ]
  },
  {
   "cell_type": "code",
   "execution_count": 14,
   "metadata": {},
   "outputs": [],
   "source": [
    "anomaly_model = H2OAutoEncoderEstimator(activation = \"Tanh\",\n",
    "                               hidden = [14,7,7,14],\n",
    "                               epochs = 100,\n",
    "                               standardize = True,\n",
    "                                stopping_metric = 'MSE', \n",
    "                                loss = 'automatic',\n",
    "                                train_samples_per_iteration = 32,\n",
    "                                shuffle_training_data = True,     \n",
    "                               autoencoder = True,\n",
    "                               l1 = 10e-5)\n"
   ]
  },
  {
   "cell_type": "code",
   "execution_count": 11,
   "metadata": {},
   "outputs": [
    {
     "data": {
      "text/plain": [
       "['V1',\n",
       " 'V2',\n",
       " 'V3',\n",
       " 'V4',\n",
       " 'V5',\n",
       " 'V6',\n",
       " 'V7',\n",
       " 'V8',\n",
       " 'V9',\n",
       " 'V10',\n",
       " 'V11',\n",
       " 'V12',\n",
       " 'V13',\n",
       " 'V14',\n",
       " 'V15',\n",
       " 'V16',\n",
       " 'V17',\n",
       " 'V18',\n",
       " 'V19',\n",
       " 'V20',\n",
       " 'V21',\n",
       " 'V22',\n",
       " 'V23',\n",
       " 'V24',\n",
       " 'V25',\n",
       " 'V26',\n",
       " 'V27',\n",
       " 'V28',\n",
       " 'Amount']"
      ]
     },
     "execution_count": 11,
     "metadata": {},
     "output_type": "execute_result"
    }
   ],
   "source": [
    "train_cols"
   ]
  },
  {
   "cell_type": "code",
   "execution_count": 15,
   "metadata": {},
   "outputs": [
    {
     "name": "stdout",
     "output_type": "stream",
     "text": [
      "deeplearning Model Build progress: |█████████████████████████████████████████████| (done) 100%\n",
      "Model Details\n",
      "=============\n",
      "H2OAutoEncoderEstimator :  Deep Learning\n",
      "Model Key:  DeepLearning_model_python_1650821774448_1\n",
      "\n",
      "\n",
      "Status of Neuron Layers: auto-encoder, gaussian distribution, Quadratic loss, 1,128 weights/biases, 21.4 KB, 3,178,691 training samples, mini-batch size 1\n"
     ]
    },
    {
     "data": {
      "text/html": [
       "<div>\n",
       "<style scoped>\n",
       "    .dataframe tbody tr th:only-of-type {\n",
       "        vertical-align: middle;\n",
       "    }\n",
       "\n",
       "    .dataframe tbody tr th {\n",
       "        vertical-align: top;\n",
       "    }\n",
       "\n",
       "    .dataframe thead th {\n",
       "        text-align: right;\n",
       "    }\n",
       "</style>\n",
       "<table border=\"1\" class=\"dataframe\">\n",
       "  <thead>\n",
       "    <tr style=\"text-align: right;\">\n",
       "      <th></th>\n",
       "      <th></th>\n",
       "      <th>layer</th>\n",
       "      <th>units</th>\n",
       "      <th>type</th>\n",
       "      <th>dropout</th>\n",
       "      <th>l1</th>\n",
       "      <th>l2</th>\n",
       "      <th>mean_rate</th>\n",
       "      <th>rate_rms</th>\n",
       "      <th>momentum</th>\n",
       "      <th>mean_weight</th>\n",
       "      <th>weight_rms</th>\n",
       "      <th>mean_bias</th>\n",
       "      <th>bias_rms</th>\n",
       "    </tr>\n",
       "  </thead>\n",
       "  <tbody>\n",
       "    <tr>\n",
       "      <th>0</th>\n",
       "      <td></td>\n",
       "      <td>1</td>\n",
       "      <td>29</td>\n",
       "      <td>Input</td>\n",
       "      <td>0.0</td>\n",
       "      <td></td>\n",
       "      <td></td>\n",
       "      <td></td>\n",
       "      <td></td>\n",
       "      <td></td>\n",
       "      <td></td>\n",
       "      <td></td>\n",
       "      <td></td>\n",
       "      <td></td>\n",
       "    </tr>\n",
       "    <tr>\n",
       "      <th>1</th>\n",
       "      <td></td>\n",
       "      <td>2</td>\n",
       "      <td>14</td>\n",
       "      <td>Tanh</td>\n",
       "      <td>0.0</td>\n",
       "      <td>0.0001</td>\n",
       "      <td>0.0</td>\n",
       "      <td>0.783183</td>\n",
       "      <td>0.270934</td>\n",
       "      <td>0.0</td>\n",
       "      <td>-0.000016</td>\n",
       "      <td>0.203265</td>\n",
       "      <td>0.001248</td>\n",
       "      <td>0.011835</td>\n",
       "    </tr>\n",
       "    <tr>\n",
       "      <th>2</th>\n",
       "      <td></td>\n",
       "      <td>3</td>\n",
       "      <td>7</td>\n",
       "      <td>Tanh</td>\n",
       "      <td>0.0</td>\n",
       "      <td>0.0001</td>\n",
       "      <td>0.0</td>\n",
       "      <td>0.679162</td>\n",
       "      <td>0.396646</td>\n",
       "      <td>0.0</td>\n",
       "      <td>-0.04641</td>\n",
       "      <td>0.272627</td>\n",
       "      <td>0.001016</td>\n",
       "      <td>0.00271</td>\n",
       "    </tr>\n",
       "    <tr>\n",
       "      <th>3</th>\n",
       "      <td></td>\n",
       "      <td>4</td>\n",
       "      <td>7</td>\n",
       "      <td>Tanh</td>\n",
       "      <td>0.0</td>\n",
       "      <td>0.0001</td>\n",
       "      <td>0.0</td>\n",
       "      <td>0.352497</td>\n",
       "      <td>0.384759</td>\n",
       "      <td>0.0</td>\n",
       "      <td>0.03719</td>\n",
       "      <td>0.335823</td>\n",
       "      <td>0.000583</td>\n",
       "      <td>0.000439</td>\n",
       "    </tr>\n",
       "    <tr>\n",
       "      <th>4</th>\n",
       "      <td></td>\n",
       "      <td>5</td>\n",
       "      <td>14</td>\n",
       "      <td>Tanh</td>\n",
       "      <td>0.0</td>\n",
       "      <td>0.0001</td>\n",
       "      <td>0.0</td>\n",
       "      <td>0.655466</td>\n",
       "      <td>0.421451</td>\n",
       "      <td>0.0</td>\n",
       "      <td>-0.000221</td>\n",
       "      <td>0.20617</td>\n",
       "      <td>0.000508</td>\n",
       "      <td>0.001464</td>\n",
       "    </tr>\n",
       "    <tr>\n",
       "      <th>5</th>\n",
       "      <td></td>\n",
       "      <td>6</td>\n",
       "      <td>29</td>\n",
       "      <td>Tanh</td>\n",
       "      <td></td>\n",
       "      <td>0.0001</td>\n",
       "      <td>0.0</td>\n",
       "      <td>0.588932</td>\n",
       "      <td>0.444597</td>\n",
       "      <td>0.0</td>\n",
       "      <td>0.006885</td>\n",
       "      <td>0.089134</td>\n",
       "      <td>0.000079</td>\n",
       "      <td>0.006345</td>\n",
       "    </tr>\n",
       "  </tbody>\n",
       "</table>\n",
       "</div>"
      ],
      "text/plain": [
       "     layer  units   type dropout      l1   l2 mean_rate  rate_rms momentum  \\\n",
       "0        1     29  Input     0.0                                             \n",
       "1        2     14   Tanh     0.0  0.0001  0.0  0.783183  0.270934      0.0   \n",
       "2        3      7   Tanh     0.0  0.0001  0.0  0.679162  0.396646      0.0   \n",
       "3        4      7   Tanh     0.0  0.0001  0.0  0.352497  0.384759      0.0   \n",
       "4        5     14   Tanh     0.0  0.0001  0.0  0.655466  0.421451      0.0   \n",
       "5        6     29   Tanh          0.0001  0.0  0.588932  0.444597      0.0   \n",
       "\n",
       "  mean_weight weight_rms mean_bias  bias_rms  \n",
       "0                                             \n",
       "1   -0.000016   0.203265  0.001248  0.011835  \n",
       "2    -0.04641   0.272627  0.001016   0.00271  \n",
       "3     0.03719   0.335823  0.000583  0.000439  \n",
       "4   -0.000221    0.20617  0.000508  0.001464  \n",
       "5    0.006885   0.089134  0.000079  0.006345  "
      ]
     },
     "metadata": {},
     "output_type": "display_data"
    },
    {
     "name": "stdout",
     "output_type": "stream",
     "text": [
      "\n",
      "\n",
      "ModelMetricsAutoEncoder: deeplearning\n",
      "** Reported on train data. **\n",
      "\n",
      "MSE: 0.0008445260032361693\n",
      "RMSE: 0.02906072957164306\n",
      "\n",
      "Scoring History: \n"
     ]
    },
    {
     "data": {
      "text/html": [
       "<div>\n",
       "<style scoped>\n",
       "    .dataframe tbody tr th:only-of-type {\n",
       "        vertical-align: middle;\n",
       "    }\n",
       "\n",
       "    .dataframe tbody tr th {\n",
       "        vertical-align: top;\n",
       "    }\n",
       "\n",
       "    .dataframe thead th {\n",
       "        text-align: right;\n",
       "    }\n",
       "</style>\n",
       "<table border=\"1\" class=\"dataframe\">\n",
       "  <thead>\n",
       "    <tr style=\"text-align: right;\">\n",
       "      <th></th>\n",
       "      <th></th>\n",
       "      <th>timestamp</th>\n",
       "      <th>duration</th>\n",
       "      <th>training_speed</th>\n",
       "      <th>epochs</th>\n",
       "      <th>iterations</th>\n",
       "      <th>samples</th>\n",
       "      <th>training_rmse</th>\n",
       "      <th>training_mse</th>\n",
       "    </tr>\n",
       "  </thead>\n",
       "  <tbody>\n",
       "    <tr>\n",
       "      <th>0</th>\n",
       "      <td></td>\n",
       "      <td>2022-04-25 01:46:27</td>\n",
       "      <td>0.421 sec</td>\n",
       "      <td>0.00000 obs/sec</td>\n",
       "      <td>0.000000</td>\n",
       "      <td>0</td>\n",
       "      <td>0.0</td>\n",
       "      <td>0.061973</td>\n",
       "      <td>0.003841</td>\n",
       "    </tr>\n",
       "    <tr>\n",
       "      <th>1</th>\n",
       "      <td></td>\n",
       "      <td>2022-04-25 01:46:32</td>\n",
       "      <td>5.371 sec</td>\n",
       "      <td>32792 obs/sec</td>\n",
       "      <td>0.711641</td>\n",
       "      <td>5088</td>\n",
       "      <td>161963.0</td>\n",
       "      <td>0.031556</td>\n",
       "      <td>0.000996</td>\n",
       "    </tr>\n",
       "    <tr>\n",
       "      <th>2</th>\n",
       "      <td></td>\n",
       "      <td>2022-04-25 01:46:37</td>\n",
       "      <td>10.366 sec</td>\n",
       "      <td>33825 obs/sec</td>\n",
       "      <td>1.475555</td>\n",
       "      <td>10542</td>\n",
       "      <td>335823.0</td>\n",
       "      <td>0.029340</td>\n",
       "      <td>0.000861</td>\n",
       "    </tr>\n",
       "    <tr>\n",
       "      <th>3</th>\n",
       "      <td></td>\n",
       "      <td>2022-04-25 01:46:42</td>\n",
       "      <td>15.366 sec</td>\n",
       "      <td>34203 obs/sec</td>\n",
       "      <td>2.242720</td>\n",
       "      <td>16018</td>\n",
       "      <td>510423.0</td>\n",
       "      <td>0.030534</td>\n",
       "      <td>0.000932</td>\n",
       "    </tr>\n",
       "    <tr>\n",
       "      <th>4</th>\n",
       "      <td></td>\n",
       "      <td>2022-04-25 01:46:47</td>\n",
       "      <td>20.368 sec</td>\n",
       "      <td>33985 obs/sec</td>\n",
       "      <td>2.974467</td>\n",
       "      <td>21239</td>\n",
       "      <td>676962.0</td>\n",
       "      <td>0.029220</td>\n",
       "      <td>0.000854</td>\n",
       "    </tr>\n",
       "    <tr>\n",
       "      <th>5</th>\n",
       "      <td></td>\n",
       "      <td>2022-04-25 01:46:52</td>\n",
       "      <td>25.369 sec</td>\n",
       "      <td>33241 obs/sec</td>\n",
       "      <td>3.638927</td>\n",
       "      <td>25979</td>\n",
       "      <td>828187.0</td>\n",
       "      <td>0.029350</td>\n",
       "      <td>0.000861</td>\n",
       "    </tr>\n",
       "    <tr>\n",
       "      <th>6</th>\n",
       "      <td></td>\n",
       "      <td>2022-04-25 01:46:57</td>\n",
       "      <td>30.370 sec</td>\n",
       "      <td>32746 obs/sec</td>\n",
       "      <td>4.303404</td>\n",
       "      <td>30711</td>\n",
       "      <td>979416.0</td>\n",
       "      <td>0.029871</td>\n",
       "      <td>0.000892</td>\n",
       "    </tr>\n",
       "    <tr>\n",
       "      <th>7</th>\n",
       "      <td></td>\n",
       "      <td>2022-04-25 01:47:02</td>\n",
       "      <td>35.372 sec</td>\n",
       "      <td>32356 obs/sec</td>\n",
       "      <td>4.962252</td>\n",
       "      <td>35422</td>\n",
       "      <td>1129364.0</td>\n",
       "      <td>0.029634</td>\n",
       "      <td>0.000878</td>\n",
       "    </tr>\n",
       "    <tr>\n",
       "      <th>8</th>\n",
       "      <td></td>\n",
       "      <td>2022-04-25 01:47:07</td>\n",
       "      <td>40.373 sec</td>\n",
       "      <td>32050 obs/sec</td>\n",
       "      <td>5.618632</td>\n",
       "      <td>40121</td>\n",
       "      <td>1278750.0</td>\n",
       "      <td>0.029776</td>\n",
       "      <td>0.000887</td>\n",
       "    </tr>\n",
       "    <tr>\n",
       "      <th>9</th>\n",
       "      <td></td>\n",
       "      <td>2022-04-25 01:47:12</td>\n",
       "      <td>45.374 sec</td>\n",
       "      <td>31812 obs/sec</td>\n",
       "      <td>6.274932</td>\n",
       "      <td>44808</td>\n",
       "      <td>1428118.0</td>\n",
       "      <td>0.029150</td>\n",
       "      <td>0.000850</td>\n",
       "    </tr>\n",
       "    <tr>\n",
       "      <th>10</th>\n",
       "      <td></td>\n",
       "      <td>2022-04-25 01:47:17</td>\n",
       "      <td>50.375 sec</td>\n",
       "      <td>31615 obs/sec</td>\n",
       "      <td>6.929756</td>\n",
       "      <td>49466</td>\n",
       "      <td>1577150.0</td>\n",
       "      <td>0.029470</td>\n",
       "      <td>0.000868</td>\n",
       "    </tr>\n",
       "    <tr>\n",
       "      <th>11</th>\n",
       "      <td></td>\n",
       "      <td>2022-04-25 01:47:22</td>\n",
       "      <td>55.378 sec</td>\n",
       "      <td>31437 obs/sec</td>\n",
       "      <td>7.580563</td>\n",
       "      <td>54106</td>\n",
       "      <td>1725268.0</td>\n",
       "      <td>0.030076</td>\n",
       "      <td>0.000905</td>\n",
       "    </tr>\n",
       "    <tr>\n",
       "      <th>12</th>\n",
       "      <td></td>\n",
       "      <td>2022-04-25 01:47:27</td>\n",
       "      <td>1 min  0.376 sec</td>\n",
       "      <td>31276 obs/sec</td>\n",
       "      <td>8.227962</td>\n",
       "      <td>58726</td>\n",
       "      <td>1872610.0</td>\n",
       "      <td>0.029280</td>\n",
       "      <td>0.000857</td>\n",
       "    </tr>\n",
       "    <tr>\n",
       "      <th>13</th>\n",
       "      <td></td>\n",
       "      <td>2022-04-25 01:47:32</td>\n",
       "      <td>1 min  5.376 sec</td>\n",
       "      <td>31132 obs/sec</td>\n",
       "      <td>8.873391</td>\n",
       "      <td>63323</td>\n",
       "      <td>2019504.0</td>\n",
       "      <td>0.029384</td>\n",
       "      <td>0.000863</td>\n",
       "    </tr>\n",
       "    <tr>\n",
       "      <th>14</th>\n",
       "      <td></td>\n",
       "      <td>2022-04-25 01:47:37</td>\n",
       "      <td>1 min 10.377 sec</td>\n",
       "      <td>31011 obs/sec</td>\n",
       "      <td>9.519555</td>\n",
       "      <td>67934</td>\n",
       "      <td>2166565.0</td>\n",
       "      <td>0.029306</td>\n",
       "      <td>0.000859</td>\n",
       "    </tr>\n",
       "    <tr>\n",
       "      <th>15</th>\n",
       "      <td></td>\n",
       "      <td>2022-04-25 01:47:42</td>\n",
       "      <td>1 min 15.378 sec</td>\n",
       "      <td>30891 obs/sec</td>\n",
       "      <td>10.160933</td>\n",
       "      <td>72516</td>\n",
       "      <td>2312537.0</td>\n",
       "      <td>0.029381</td>\n",
       "      <td>0.000863</td>\n",
       "    </tr>\n",
       "    <tr>\n",
       "      <th>16</th>\n",
       "      <td></td>\n",
       "      <td>2022-04-25 01:47:47</td>\n",
       "      <td>1 min 20.379 sec</td>\n",
       "      <td>30781 obs/sec</td>\n",
       "      <td>10.800273</td>\n",
       "      <td>77073</td>\n",
       "      <td>2458045.0</td>\n",
       "      <td>0.029539</td>\n",
       "      <td>0.000873</td>\n",
       "    </tr>\n",
       "    <tr>\n",
       "      <th>17</th>\n",
       "      <td></td>\n",
       "      <td>2022-04-25 01:47:52</td>\n",
       "      <td>1 min 25.380 sec</td>\n",
       "      <td>30684 obs/sec</td>\n",
       "      <td>11.439899</td>\n",
       "      <td>81625</td>\n",
       "      <td>2603618.0</td>\n",
       "      <td>0.029780</td>\n",
       "      <td>0.000887</td>\n",
       "    </tr>\n",
       "    <tr>\n",
       "      <th>18</th>\n",
       "      <td></td>\n",
       "      <td>2022-04-25 01:47:57</td>\n",
       "      <td>1 min 30.381 sec</td>\n",
       "      <td>30589 obs/sec</td>\n",
       "      <td>12.075912</td>\n",
       "      <td>86159</td>\n",
       "      <td>2748369.0</td>\n",
       "      <td>0.029667</td>\n",
       "      <td>0.000880</td>\n",
       "    </tr>\n",
       "    <tr>\n",
       "      <th>19</th>\n",
       "      <td></td>\n",
       "      <td>2022-04-25 01:48:02</td>\n",
       "      <td>1 min 35.382 sec</td>\n",
       "      <td>30494 obs/sec</td>\n",
       "      <td>12.708046</td>\n",
       "      <td>90680</td>\n",
       "      <td>2892237.0</td>\n",
       "      <td>0.029061</td>\n",
       "      <td>0.000845</td>\n",
       "    </tr>\n",
       "  </tbody>\n",
       "</table>\n",
       "</div>"
      ],
      "text/plain": [
       "                timestamp           duration   training_speed     epochs  \\\n",
       "0     2022-04-25 01:46:27          0.421 sec  0.00000 obs/sec   0.000000   \n",
       "1     2022-04-25 01:46:32          5.371 sec    32792 obs/sec   0.711641   \n",
       "2     2022-04-25 01:46:37         10.366 sec    33825 obs/sec   1.475555   \n",
       "3     2022-04-25 01:46:42         15.366 sec    34203 obs/sec   2.242720   \n",
       "4     2022-04-25 01:46:47         20.368 sec    33985 obs/sec   2.974467   \n",
       "5     2022-04-25 01:46:52         25.369 sec    33241 obs/sec   3.638927   \n",
       "6     2022-04-25 01:46:57         30.370 sec    32746 obs/sec   4.303404   \n",
       "7     2022-04-25 01:47:02         35.372 sec    32356 obs/sec   4.962252   \n",
       "8     2022-04-25 01:47:07         40.373 sec    32050 obs/sec   5.618632   \n",
       "9     2022-04-25 01:47:12         45.374 sec    31812 obs/sec   6.274932   \n",
       "10    2022-04-25 01:47:17         50.375 sec    31615 obs/sec   6.929756   \n",
       "11    2022-04-25 01:47:22         55.378 sec    31437 obs/sec   7.580563   \n",
       "12    2022-04-25 01:47:27   1 min  0.376 sec    31276 obs/sec   8.227962   \n",
       "13    2022-04-25 01:47:32   1 min  5.376 sec    31132 obs/sec   8.873391   \n",
       "14    2022-04-25 01:47:37   1 min 10.377 sec    31011 obs/sec   9.519555   \n",
       "15    2022-04-25 01:47:42   1 min 15.378 sec    30891 obs/sec  10.160933   \n",
       "16    2022-04-25 01:47:47   1 min 20.379 sec    30781 obs/sec  10.800273   \n",
       "17    2022-04-25 01:47:52   1 min 25.380 sec    30684 obs/sec  11.439899   \n",
       "18    2022-04-25 01:47:57   1 min 30.381 sec    30589 obs/sec  12.075912   \n",
       "19    2022-04-25 01:48:02   1 min 35.382 sec    30494 obs/sec  12.708046   \n",
       "\n",
       "    iterations    samples  training_rmse  training_mse  \n",
       "0            0        0.0       0.061973      0.003841  \n",
       "1         5088   161963.0       0.031556      0.000996  \n",
       "2        10542   335823.0       0.029340      0.000861  \n",
       "3        16018   510423.0       0.030534      0.000932  \n",
       "4        21239   676962.0       0.029220      0.000854  \n",
       "5        25979   828187.0       0.029350      0.000861  \n",
       "6        30711   979416.0       0.029871      0.000892  \n",
       "7        35422  1129364.0       0.029634      0.000878  \n",
       "8        40121  1278750.0       0.029776      0.000887  \n",
       "9        44808  1428118.0       0.029150      0.000850  \n",
       "10       49466  1577150.0       0.029470      0.000868  \n",
       "11       54106  1725268.0       0.030076      0.000905  \n",
       "12       58726  1872610.0       0.029280      0.000857  \n",
       "13       63323  2019504.0       0.029384      0.000863  \n",
       "14       67934  2166565.0       0.029306      0.000859  \n",
       "15       72516  2312537.0       0.029381      0.000863  \n",
       "16       77073  2458045.0       0.029539      0.000873  \n",
       "17       81625  2603618.0       0.029780      0.000887  \n",
       "18       86159  2748369.0       0.029667      0.000880  \n",
       "19       90680  2892237.0       0.029061      0.000845  "
      ]
     },
     "metadata": {},
     "output_type": "display_data"
    },
    {
     "name": "stdout",
     "output_type": "stream",
     "text": [
      "\n",
      "See the whole table with table.as_data_frame()\n",
      "\n",
      "Variable Importances: \n"
     ]
    },
    {
     "data": {
      "text/html": [
       "<div>\n",
       "<style scoped>\n",
       "    .dataframe tbody tr th:only-of-type {\n",
       "        vertical-align: middle;\n",
       "    }\n",
       "\n",
       "    .dataframe tbody tr th {\n",
       "        vertical-align: top;\n",
       "    }\n",
       "\n",
       "    .dataframe thead th {\n",
       "        text-align: right;\n",
       "    }\n",
       "</style>\n",
       "<table border=\"1\" class=\"dataframe\">\n",
       "  <thead>\n",
       "    <tr style=\"text-align: right;\">\n",
       "      <th></th>\n",
       "      <th>variable</th>\n",
       "      <th>relative_importance</th>\n",
       "      <th>scaled_importance</th>\n",
       "      <th>percentage</th>\n",
       "    </tr>\n",
       "  </thead>\n",
       "  <tbody>\n",
       "    <tr>\n",
       "      <th>0</th>\n",
       "      <td>V15</td>\n",
       "      <td>1.000000</td>\n",
       "      <td>1.000000</td>\n",
       "      <td>0.161584</td>\n",
       "    </tr>\n",
       "    <tr>\n",
       "      <th>1</th>\n",
       "      <td>V18</td>\n",
       "      <td>0.996071</td>\n",
       "      <td>0.996071</td>\n",
       "      <td>0.160949</td>\n",
       "    </tr>\n",
       "    <tr>\n",
       "      <th>2</th>\n",
       "      <td>V24</td>\n",
       "      <td>0.977187</td>\n",
       "      <td>0.977187</td>\n",
       "      <td>0.157897</td>\n",
       "    </tr>\n",
       "    <tr>\n",
       "      <th>3</th>\n",
       "      <td>V26</td>\n",
       "      <td>0.974182</td>\n",
       "      <td>0.974182</td>\n",
       "      <td>0.157412</td>\n",
       "    </tr>\n",
       "    <tr>\n",
       "      <th>4</th>\n",
       "      <td>V11</td>\n",
       "      <td>0.960662</td>\n",
       "      <td>0.960662</td>\n",
       "      <td>0.155227</td>\n",
       "    </tr>\n",
       "    <tr>\n",
       "      <th>5</th>\n",
       "      <td>V13</td>\n",
       "      <td>0.944150</td>\n",
       "      <td>0.944150</td>\n",
       "      <td>0.152559</td>\n",
       "    </tr>\n",
       "    <tr>\n",
       "      <th>6</th>\n",
       "      <td>V19</td>\n",
       "      <td>0.021366</td>\n",
       "      <td>0.021366</td>\n",
       "      <td>0.003452</td>\n",
       "    </tr>\n",
       "    <tr>\n",
       "      <th>7</th>\n",
       "      <td>V14</td>\n",
       "      <td>0.020123</td>\n",
       "      <td>0.020123</td>\n",
       "      <td>0.003252</td>\n",
       "    </tr>\n",
       "    <tr>\n",
       "      <th>8</th>\n",
       "      <td>V12</td>\n",
       "      <td>0.019865</td>\n",
       "      <td>0.019865</td>\n",
       "      <td>0.003210</td>\n",
       "    </tr>\n",
       "    <tr>\n",
       "      <th>9</th>\n",
       "      <td>V25</td>\n",
       "      <td>0.019436</td>\n",
       "      <td>0.019436</td>\n",
       "      <td>0.003141</td>\n",
       "    </tr>\n",
       "    <tr>\n",
       "      <th>10</th>\n",
       "      <td>V27</td>\n",
       "      <td>0.018300</td>\n",
       "      <td>0.018300</td>\n",
       "      <td>0.002957</td>\n",
       "    </tr>\n",
       "    <tr>\n",
       "      <th>11</th>\n",
       "      <td>V10</td>\n",
       "      <td>0.017594</td>\n",
       "      <td>0.017594</td>\n",
       "      <td>0.002843</td>\n",
       "    </tr>\n",
       "    <tr>\n",
       "      <th>12</th>\n",
       "      <td>V3</td>\n",
       "      <td>0.017496</td>\n",
       "      <td>0.017496</td>\n",
       "      <td>0.002827</td>\n",
       "    </tr>\n",
       "    <tr>\n",
       "      <th>13</th>\n",
       "      <td>V4</td>\n",
       "      <td>0.016186</td>\n",
       "      <td>0.016186</td>\n",
       "      <td>0.002615</td>\n",
       "    </tr>\n",
       "    <tr>\n",
       "      <th>14</th>\n",
       "      <td>V16</td>\n",
       "      <td>0.015304</td>\n",
       "      <td>0.015304</td>\n",
       "      <td>0.002473</td>\n",
       "    </tr>\n",
       "    <tr>\n",
       "      <th>15</th>\n",
       "      <td>V2</td>\n",
       "      <td>0.015090</td>\n",
       "      <td>0.015090</td>\n",
       "      <td>0.002438</td>\n",
       "    </tr>\n",
       "    <tr>\n",
       "      <th>16</th>\n",
       "      <td>V9</td>\n",
       "      <td>0.014900</td>\n",
       "      <td>0.014900</td>\n",
       "      <td>0.002408</td>\n",
       "    </tr>\n",
       "    <tr>\n",
       "      <th>17</th>\n",
       "      <td>Amount</td>\n",
       "      <td>0.013987</td>\n",
       "      <td>0.013987</td>\n",
       "      <td>0.002260</td>\n",
       "    </tr>\n",
       "    <tr>\n",
       "      <th>18</th>\n",
       "      <td>V1</td>\n",
       "      <td>0.013606</td>\n",
       "      <td>0.013606</td>\n",
       "      <td>0.002199</td>\n",
       "    </tr>\n",
       "    <tr>\n",
       "      <th>19</th>\n",
       "      <td>V21</td>\n",
       "      <td>0.013160</td>\n",
       "      <td>0.013160</td>\n",
       "      <td>0.002126</td>\n",
       "    </tr>\n",
       "  </tbody>\n",
       "</table>\n",
       "</div>"
      ],
      "text/plain": [
       "   variable  relative_importance  scaled_importance  percentage\n",
       "0       V15             1.000000           1.000000    0.161584\n",
       "1       V18             0.996071           0.996071    0.160949\n",
       "2       V24             0.977187           0.977187    0.157897\n",
       "3       V26             0.974182           0.974182    0.157412\n",
       "4       V11             0.960662           0.960662    0.155227\n",
       "5       V13             0.944150           0.944150    0.152559\n",
       "6       V19             0.021366           0.021366    0.003452\n",
       "7       V14             0.020123           0.020123    0.003252\n",
       "8       V12             0.019865           0.019865    0.003210\n",
       "9       V25             0.019436           0.019436    0.003141\n",
       "10      V27             0.018300           0.018300    0.002957\n",
       "11      V10             0.017594           0.017594    0.002843\n",
       "12       V3             0.017496           0.017496    0.002827\n",
       "13       V4             0.016186           0.016186    0.002615\n",
       "14      V16             0.015304           0.015304    0.002473\n",
       "15       V2             0.015090           0.015090    0.002438\n",
       "16       V9             0.014900           0.014900    0.002408\n",
       "17   Amount             0.013987           0.013987    0.002260\n",
       "18       V1             0.013606           0.013606    0.002199\n",
       "19      V21             0.013160           0.013160    0.002126"
      ]
     },
     "metadata": {},
     "output_type": "display_data"
    },
    {
     "name": "stdout",
     "output_type": "stream",
     "text": [
      "\n",
      "See the whole table with table.as_data_frame()\n"
     ]
    },
    {
     "data": {
      "text/plain": []
     },
     "execution_count": 15,
     "metadata": {},
     "output_type": "execute_result"
    }
   ],
   "source": [
    "anomaly_model.train(x=train_cols, training_frame = train_h2o)"
   ]
  },
  {
   "cell_type": "markdown",
   "metadata": {},
   "source": [
    "## Show the model feature importance in a dataframe"
   ]
  },
  {
   "cell_type": "code",
   "execution_count": 16,
   "metadata": {},
   "outputs": [
    {
     "data": {
      "text/html": [
       "<div>\n",
       "<style scoped>\n",
       "    .dataframe tbody tr th:only-of-type {\n",
       "        vertical-align: middle;\n",
       "    }\n",
       "\n",
       "    .dataframe tbody tr th {\n",
       "        vertical-align: top;\n",
       "    }\n",
       "\n",
       "    .dataframe thead th {\n",
       "        text-align: right;\n",
       "    }\n",
       "</style>\n",
       "<table border=\"1\" class=\"dataframe\">\n",
       "  <thead>\n",
       "    <tr style=\"text-align: right;\">\n",
       "      <th></th>\n",
       "      <th>variable</th>\n",
       "      <th>relative_importance</th>\n",
       "      <th>scaled_importance</th>\n",
       "      <th>percentage</th>\n",
       "    </tr>\n",
       "  </thead>\n",
       "  <tbody>\n",
       "    <tr>\n",
       "      <th>0</th>\n",
       "      <td>V15</td>\n",
       "      <td>1.000000</td>\n",
       "      <td>1.000000</td>\n",
       "      <td>0.161584</td>\n",
       "    </tr>\n",
       "    <tr>\n",
       "      <th>1</th>\n",
       "      <td>V18</td>\n",
       "      <td>0.996071</td>\n",
       "      <td>0.996071</td>\n",
       "      <td>0.160949</td>\n",
       "    </tr>\n",
       "    <tr>\n",
       "      <th>2</th>\n",
       "      <td>V24</td>\n",
       "      <td>0.977187</td>\n",
       "      <td>0.977187</td>\n",
       "      <td>0.157897</td>\n",
       "    </tr>\n",
       "    <tr>\n",
       "      <th>3</th>\n",
       "      <td>V26</td>\n",
       "      <td>0.974182</td>\n",
       "      <td>0.974182</td>\n",
       "      <td>0.157412</td>\n",
       "    </tr>\n",
       "    <tr>\n",
       "      <th>4</th>\n",
       "      <td>V11</td>\n",
       "      <td>0.960662</td>\n",
       "      <td>0.960662</td>\n",
       "      <td>0.155227</td>\n",
       "    </tr>\n",
       "    <tr>\n",
       "      <th>5</th>\n",
       "      <td>V13</td>\n",
       "      <td>0.944150</td>\n",
       "      <td>0.944150</td>\n",
       "      <td>0.152559</td>\n",
       "    </tr>\n",
       "    <tr>\n",
       "      <th>6</th>\n",
       "      <td>V19</td>\n",
       "      <td>0.021366</td>\n",
       "      <td>0.021366</td>\n",
       "      <td>0.003452</td>\n",
       "    </tr>\n",
       "    <tr>\n",
       "      <th>7</th>\n",
       "      <td>V14</td>\n",
       "      <td>0.020123</td>\n",
       "      <td>0.020123</td>\n",
       "      <td>0.003252</td>\n",
       "    </tr>\n",
       "    <tr>\n",
       "      <th>8</th>\n",
       "      <td>V12</td>\n",
       "      <td>0.019865</td>\n",
       "      <td>0.019865</td>\n",
       "      <td>0.003210</td>\n",
       "    </tr>\n",
       "    <tr>\n",
       "      <th>9</th>\n",
       "      <td>V25</td>\n",
       "      <td>0.019436</td>\n",
       "      <td>0.019436</td>\n",
       "      <td>0.003141</td>\n",
       "    </tr>\n",
       "    <tr>\n",
       "      <th>10</th>\n",
       "      <td>V27</td>\n",
       "      <td>0.018300</td>\n",
       "      <td>0.018300</td>\n",
       "      <td>0.002957</td>\n",
       "    </tr>\n",
       "    <tr>\n",
       "      <th>11</th>\n",
       "      <td>V10</td>\n",
       "      <td>0.017594</td>\n",
       "      <td>0.017594</td>\n",
       "      <td>0.002843</td>\n",
       "    </tr>\n",
       "    <tr>\n",
       "      <th>12</th>\n",
       "      <td>V3</td>\n",
       "      <td>0.017496</td>\n",
       "      <td>0.017496</td>\n",
       "      <td>0.002827</td>\n",
       "    </tr>\n",
       "    <tr>\n",
       "      <th>13</th>\n",
       "      <td>V4</td>\n",
       "      <td>0.016186</td>\n",
       "      <td>0.016186</td>\n",
       "      <td>0.002615</td>\n",
       "    </tr>\n",
       "    <tr>\n",
       "      <th>14</th>\n",
       "      <td>V16</td>\n",
       "      <td>0.015304</td>\n",
       "      <td>0.015304</td>\n",
       "      <td>0.002473</td>\n",
       "    </tr>\n",
       "    <tr>\n",
       "      <th>15</th>\n",
       "      <td>V2</td>\n",
       "      <td>0.015090</td>\n",
       "      <td>0.015090</td>\n",
       "      <td>0.002438</td>\n",
       "    </tr>\n",
       "    <tr>\n",
       "      <th>16</th>\n",
       "      <td>V9</td>\n",
       "      <td>0.014900</td>\n",
       "      <td>0.014900</td>\n",
       "      <td>0.002408</td>\n",
       "    </tr>\n",
       "    <tr>\n",
       "      <th>17</th>\n",
       "      <td>Amount</td>\n",
       "      <td>0.013987</td>\n",
       "      <td>0.013987</td>\n",
       "      <td>0.002260</td>\n",
       "    </tr>\n",
       "    <tr>\n",
       "      <th>18</th>\n",
       "      <td>V1</td>\n",
       "      <td>0.013606</td>\n",
       "      <td>0.013606</td>\n",
       "      <td>0.002199</td>\n",
       "    </tr>\n",
       "    <tr>\n",
       "      <th>19</th>\n",
       "      <td>V21</td>\n",
       "      <td>0.013160</td>\n",
       "      <td>0.013160</td>\n",
       "      <td>0.002126</td>\n",
       "    </tr>\n",
       "    <tr>\n",
       "      <th>20</th>\n",
       "      <td>V22</td>\n",
       "      <td>0.013020</td>\n",
       "      <td>0.013020</td>\n",
       "      <td>0.002104</td>\n",
       "    </tr>\n",
       "    <tr>\n",
       "      <th>21</th>\n",
       "      <td>V8</td>\n",
       "      <td>0.012730</td>\n",
       "      <td>0.012730</td>\n",
       "      <td>0.002057</td>\n",
       "    </tr>\n",
       "    <tr>\n",
       "      <th>22</th>\n",
       "      <td>V17</td>\n",
       "      <td>0.012203</td>\n",
       "      <td>0.012203</td>\n",
       "      <td>0.001972</td>\n",
       "    </tr>\n",
       "    <tr>\n",
       "      <th>23</th>\n",
       "      <td>V20</td>\n",
       "      <td>0.012124</td>\n",
       "      <td>0.012124</td>\n",
       "      <td>0.001959</td>\n",
       "    </tr>\n",
       "    <tr>\n",
       "      <th>24</th>\n",
       "      <td>V23</td>\n",
       "      <td>0.011530</td>\n",
       "      <td>0.011530</td>\n",
       "      <td>0.001863</td>\n",
       "    </tr>\n",
       "    <tr>\n",
       "      <th>25</th>\n",
       "      <td>V7</td>\n",
       "      <td>0.010852</td>\n",
       "      <td>0.010852</td>\n",
       "      <td>0.001754</td>\n",
       "    </tr>\n",
       "    <tr>\n",
       "      <th>26</th>\n",
       "      <td>V28</td>\n",
       "      <td>0.010032</td>\n",
       "      <td>0.010032</td>\n",
       "      <td>0.001621</td>\n",
       "    </tr>\n",
       "    <tr>\n",
       "      <th>27</th>\n",
       "      <td>V6</td>\n",
       "      <td>0.009226</td>\n",
       "      <td>0.009226</td>\n",
       "      <td>0.001491</td>\n",
       "    </tr>\n",
       "    <tr>\n",
       "      <th>28</th>\n",
       "      <td>V5</td>\n",
       "      <td>0.008362</td>\n",
       "      <td>0.008362</td>\n",
       "      <td>0.001351</td>\n",
       "    </tr>\n",
       "  </tbody>\n",
       "</table>\n",
       "</div>"
      ],
      "text/plain": [
       "   variable  relative_importance  scaled_importance  percentage\n",
       "0       V15             1.000000           1.000000    0.161584\n",
       "1       V18             0.996071           0.996071    0.160949\n",
       "2       V24             0.977187           0.977187    0.157897\n",
       "3       V26             0.974182           0.974182    0.157412\n",
       "4       V11             0.960662           0.960662    0.155227\n",
       "5       V13             0.944150           0.944150    0.152559\n",
       "6       V19             0.021366           0.021366    0.003452\n",
       "7       V14             0.020123           0.020123    0.003252\n",
       "8       V12             0.019865           0.019865    0.003210\n",
       "9       V25             0.019436           0.019436    0.003141\n",
       "10      V27             0.018300           0.018300    0.002957\n",
       "11      V10             0.017594           0.017594    0.002843\n",
       "12       V3             0.017496           0.017496    0.002827\n",
       "13       V4             0.016186           0.016186    0.002615\n",
       "14      V16             0.015304           0.015304    0.002473\n",
       "15       V2             0.015090           0.015090    0.002438\n",
       "16       V9             0.014900           0.014900    0.002408\n",
       "17   Amount             0.013987           0.013987    0.002260\n",
       "18       V1             0.013606           0.013606    0.002199\n",
       "19      V21             0.013160           0.013160    0.002126\n",
       "20      V22             0.013020           0.013020    0.002104\n",
       "21       V8             0.012730           0.012730    0.002057\n",
       "22      V17             0.012203           0.012203    0.001972\n",
       "23      V20             0.012124           0.012124    0.001959\n",
       "24      V23             0.011530           0.011530    0.001863\n",
       "25       V7             0.010852           0.010852    0.001754\n",
       "26      V28             0.010032           0.010032    0.001621\n",
       "27       V6             0.009226           0.009226    0.001491\n",
       "28       V5             0.008362           0.008362    0.001351"
      ]
     },
     "execution_count": 16,
     "metadata": {},
     "output_type": "execute_result"
    }
   ],
   "source": [
    "anomaly_model._model_json['output']['variable_importances'].as_data_frame()"
   ]
  },
  {
   "cell_type": "markdown",
   "metadata": {},
   "source": [
    "## Visualization of the feature importance"
   ]
  },
  {
   "cell_type": "code",
   "execution_count": 10,
   "metadata": {},
   "outputs": [
    {
     "data": {
      "image/png": "[encoded data removed]",
      "text/plain": [
       "<Figure size 1008x576 with 1 Axes>"
      ]
     },
     "metadata": {},
     "output_type": "display_data"
    }
   ],
   "source": [
    "# plotting the variable importance\n",
    "rcParams['figure.figsize'] = 14, 8\n",
    "#plt.rcdefaults()\n",
    "fig, ax = plt.subplots()\n",
    "\n",
    "variables = anomaly_model._model_json['output']['variable_importances']['variable']\n",
    "var = variables[0:15]\n",
    "y_pos = np.arange(len(var))\n",
    "\n",
    "scaled_importance = anomaly_model._model_json['output']['variable_importances']['scaled_importance']\n",
    "sc = scaled_importance[0:15]\n",
    "\n",
    "ax.barh(y_pos, sc, align='center', color='green', ecolor='black')\n",
    "ax.set_yticks(y_pos)\n",
    "ax.set_yticklabels(variables)\n",
    "ax.invert_yaxis()\n",
    "ax.set_xlabel('Scaled Importance')\n",
    "ax.set_title('Variable Importance')\n",
    "plt.show()"
   ]
  },
  {
   "cell_type": "markdown",
   "metadata": {},
   "source": [
    "## Visualize the model lose"
   ]
  },
  {
   "cell_type": "code",
   "execution_count": 20,
   "metadata": {},
   "outputs": [
    {
     "data": {
      "text/plain": [
       "Text(0.5, 0, 'epoch')"
      ]
     },
     "execution_count": 20,
     "metadata": {},
     "output_type": "execute_result"
    },
    {
     "data": {
      "image/png": "[encoded data removed]",
      "text/plain": [
       "<Figure size 1008x576 with 1 Axes>"
      ]
     },
     "metadata": {
      "needs_background": "light"
     },
     "output_type": "display_data"
    }
   ],
   "source": [
    "# plotting the loss\n",
    "scoring_history = anomaly_model.score_history()\n",
    "%matplotlib inline\n",
    "rcParams['figure.figsize'] = 14, 8\n",
    "plt.plot(scoring_history['training_mse'])\n",
    "plt.title('model loss')\n",
    "plt.ylabel('loss')\n",
    "plt.xlabel('epoch')"
   ]
  },
  {
   "cell_type": "code",
   "execution_count": 11,
   "metadata": {},
   "outputs": [
    {
     "data": {
      "text/plain": [
       "Text(0.5, 0, 'epoch')"
      ]
     },
     "execution_count": 11,
     "metadata": {},
     "output_type": "execute_result"
    },
    {
     "data": {
      "image/png": "[encoded data removed]",
      "text/plain": [
       "<Figure size 1008x576 with 1 Axes>"
      ]
     },
     "metadata": {},
     "output_type": "display_data"
    }
   ],
   "source": [
    "# plotting the loss\n",
    "scoring_history = anomaly_model.score_history()\n",
    "%matplotlib inline\n",
    "rcParams['figure.figsize'] = 14, 8\n",
    "plt.plot(scoring_history['training_mse'])\n",
    "plt.title('model loss')\n",
    "plt.ylabel('loss')\n",
    "plt.xlabel('epoch')"
   ]
  },
  {
   "cell_type": "markdown",
   "metadata": {},
   "source": [
    "## Visualize the scatter plot across the dataset"
   ]
  },
  {
   "cell_type": "code",
   "execution_count": 12,
   "metadata": {},
   "outputs": [
    {
     "data": {
      "image/png": "[encoded data removed]",
      "text/plain": [
       "<Figure size 1008x576 with 1 Axes>"
      ]
     },
     "metadata": {},
     "output_type": "display_data"
    }
   ],
   "source": [
    "test_rec_error = anomaly_model.anomaly(test_h2o) \n",
    "# anomaly is a H2O function which calculates the error for the dataset\n",
    "# converting to pandas dataframe\n",
    "test_rec_error_df = test_rec_error.as_data_frame()\n",
    "# plotting the testing dataset against the error\n",
    "test_rec_error_df['id']=test_rec_error_df.index\n",
    "rcParams['figure.figsize'] = 14, 8\n",
    "test_rec_error_df.plot(kind=\"scatter\", x='id', y=\"Reconstruction.MSE\")\n",
    "plt.show()"
   ]
  },
  {
   "cell_type": "code",
   "execution_count": 21,
   "metadata": {},
   "outputs": [
    {
     "data": {
      "image/png": "[encoded data removed]",
      "text/plain": [
       "<Figure size 1008x576 with 1 Axes>"
      ]
     },
     "metadata": {
      "needs_background": "light"
     },
     "output_type": "display_data"
    }
   ],
   "source": [
    "test_rec_error = anomaly_model.anomaly(test_h2o) \n",
    "# anomaly is a H2O function which calculates the error for the dataset\n",
    "# converting to pandas dataframe\n",
    "test_rec_error_df = test_rec_error.as_data_frame()\n",
    "# plotting the testing dataset against the error\n",
    "test_rec_error_df['id']=test_rec_error_df.index\n",
    "rcParams['figure.figsize'] = 14, 8\n",
    "test_rec_error_df.plot(kind=\"scatter\", x='id', y=\"Reconstruction.MSE\")\n",
    "plt.show()"
   ]
  },
  {
   "cell_type": "code",
   "execution_count": 20,
   "metadata": {},
   "outputs": [
    {
     "name": "stdout",
     "output_type": "stream",
     "text": [
      "deeplearning prediction progress: |███████████████████████████████████████| 100%\n"
     ]
    },
    {
     "data": {
      "text/html": [
       "<div>\n",
       "<style scoped>\n",
       "    .dataframe tbody tr th:only-of-type {\n",
       "        vertical-align: middle;\n",
       "    }\n",
       "\n",
       "    .dataframe tbody tr th {\n",
       "        vertical-align: top;\n",
       "    }\n",
       "\n",
       "    .dataframe thead th {\n",
       "        text-align: right;\n",
       "    }\n",
       "</style>\n",
       "<table border=\"1\" class=\"dataframe\">\n",
       "  <thead>\n",
       "    <tr style=\"text-align: right;\">\n",
       "      <th></th>\n",
       "      <th>reconstruction_error</th>\n",
       "    </tr>\n",
       "    <tr>\n",
       "      <th>true_class</th>\n",
       "      <th></th>\n",
       "    </tr>\n",
       "  </thead>\n",
       "  <tbody>\n",
       "    <tr>\n",
       "      <th>0</th>\n",
       "      <td>57120</td>\n",
       "    </tr>\n",
       "    <tr>\n",
       "      <th>1</th>\n",
       "      <td>100</td>\n",
       "    </tr>\n",
       "  </tbody>\n",
       "</table>\n",
       "</div>"
      ],
      "text/plain": [
       "            reconstruction_error\n",
       "true_class                      \n",
       "0                          57120\n",
       "1                            100"
      ]
     },
     "execution_count": 20,
     "metadata": {},
     "output_type": "execute_result"
    }
   ],
   "source": [
    "# predicting the class for the testing dataset\n",
    "predictions = anomaly_model.predict(test_h2o)\n",
    "error_df = pd.DataFrame({'reconstruction_error': test_rec_error_df['Reconstruction.MSE'],\n",
    "                        'true_class': Y_test_df})\n",
    "error_df.groupby('true_class').count()"
   ]
  },
  {
   "cell_type": "code",
   "execution_count": 31,
   "metadata": {},
   "outputs": [
    {
     "data": {
      "text/html": [
       "<table>\n",
       "<thead>\n",
       "<tr><th style=\"text-align: right;\">  reconstr_V1</th><th style=\"text-align: right;\">  reconstr_V2</th><th style=\"text-align: right;\">  reconstr_V3</th><th style=\"text-align: right;\">  reconstr_V4</th><th style=\"text-align: right;\">  reconstr_V5</th><th style=\"text-align: right;\">  reconstr_V6</th><th style=\"text-align: right;\">  reconstr_V7</th><th style=\"text-align: right;\">  reconstr_V8</th><th style=\"text-align: right;\">  reconstr_V9</th><th style=\"text-align: right;\">  reconstr_V10</th><th style=\"text-align: right;\">  reconstr_V11</th><th style=\"text-align: right;\">  reconstr_V12</th><th style=\"text-align: right;\">  reconstr_V13</th><th style=\"text-align: right;\">  reconstr_V14</th><th style=\"text-align: right;\">  reconstr_V15</th><th style=\"text-align: right;\">  reconstr_V16</th><th style=\"text-align: right;\">  reconstr_V17</th><th style=\"text-align: right;\">  reconstr_V18</th><th style=\"text-align: right;\">  reconstr_V19</th><th style=\"text-align: right;\">  reconstr_V20</th><th style=\"text-align: right;\">  reconstr_V21</th><th style=\"text-align: right;\">  reconstr_V22</th><th style=\"text-align: right;\">  reconstr_V23</th><th style=\"text-align: right;\">  reconstr_V24</th><th style=\"text-align: right;\">  reconstr_V25</th><th style=\"text-align: right;\">  reconstr_V26</th><th style=\"text-align: right;\">  reconstr_V27</th><th style=\"text-align: right;\">  reconstr_V28</th><th style=\"text-align: right;\">  reconstr_Amount</th></tr>\n",
       "</thead>\n",
       "<tbody>\n",
       "<tr><td style=\"text-align: right;\">    0.101295 </td><td style=\"text-align: right;\">     0.770254</td><td style=\"text-align: right;\">     0.449071</td><td style=\"text-align: right;\">   -0.145119 </td><td style=\"text-align: right;\">   -0.053443 </td><td style=\"text-align: right;\">   0.0416656 </td><td style=\"text-align: right;\">     0.120387</td><td style=\"text-align: right;\">   0.0247328 </td><td style=\"text-align: right;\">     0.246201</td><td style=\"text-align: right;\">   -0.0390272 </td><td style=\"text-align: right;\">      0.696157</td><td style=\"text-align: right;\">     -0.116022</td><td style=\"text-align: right;\">      0.72466 </td><td style=\"text-align: right;\">      0.308402</td><td style=\"text-align: right;\">      2.10501 </td><td style=\"text-align: right;\">    0.129974  </td><td style=\"text-align: right;\">   -0.0576533 </td><td style=\"text-align: right;\">    -0.172459 </td><td style=\"text-align: right;\">   -0.0306523 </td><td style=\"text-align: right;\">    0.00151013</td><td style=\"text-align: right;\">   -0.0238928 </td><td style=\"text-align: right;\">   -0.1198    </td><td style=\"text-align: right;\">  -0.0089477  </td><td style=\"text-align: right;\">    -0.748334 </td><td style=\"text-align: right;\">    -0.028687 </td><td style=\"text-align: right;\">    -0.150558 </td><td style=\"text-align: right;\">     -0.193604</td><td style=\"text-align: right;\">    -0.0328379</td><td style=\"text-align: right;\">          6.44142</td></tr>\n",
       "<tr><td style=\"text-align: right;\">   -0.116794 </td><td style=\"text-align: right;\">     0.783053</td><td style=\"text-align: right;\">     0.34714 </td><td style=\"text-align: right;\">   -0.0208785</td><td style=\"text-align: right;\">    0.0347185</td><td style=\"text-align: right;\">  -0.107319  </td><td style=\"text-align: right;\">     0.165418</td><td style=\"text-align: right;\">  -0.013406  </td><td style=\"text-align: right;\">     0.246205</td><td style=\"text-align: right;\">   -0.0583695 </td><td style=\"text-align: right;\">     -0.739075</td><td style=\"text-align: right;\">     -0.22286 </td><td style=\"text-align: right;\">      1.24777 </td><td style=\"text-align: right;\">      0.264067</td><td style=\"text-align: right;\">      0.23057 </td><td style=\"text-align: right;\">    0.00211164</td><td style=\"text-align: right;\">   -0.185784  </td><td style=\"text-align: right;\">    -0.0305504</td><td style=\"text-align: right;\">    0.0342977 </td><td style=\"text-align: right;\">   -0.0194259 </td><td style=\"text-align: right;\">   -0.0171784 </td><td style=\"text-align: right;\">   -0.0429388 </td><td style=\"text-align: right;\">  -0.00404558 </td><td style=\"text-align: right;\">     0.134422 </td><td style=\"text-align: right;\">    -0.0661394</td><td style=\"text-align: right;\">     0.540747 </td><td style=\"text-align: right;\">     -0.190083</td><td style=\"text-align: right;\">    -0.0396029</td><td style=\"text-align: right;\">         17.7499 </td></tr>\n",
       "<tr><td style=\"text-align: right;\">   -0.192481 </td><td style=\"text-align: right;\">     0.728534</td><td style=\"text-align: right;\">     0.33067 </td><td style=\"text-align: right;\">    0.108085 </td><td style=\"text-align: right;\">    0.16096  </td><td style=\"text-align: right;\">  -0.00607568</td><td style=\"text-align: right;\">     0.205884</td><td style=\"text-align: right;\">  -0.00443493</td><td style=\"text-align: right;\">     0.217081</td><td style=\"text-align: right;\">   -0.10031   </td><td style=\"text-align: right;\">     -0.667475</td><td style=\"text-align: right;\">     -0.216056</td><td style=\"text-align: right;\">     -0.403282</td><td style=\"text-align: right;\">      0.229772</td><td style=\"text-align: right;\">     -0.353666</td><td style=\"text-align: right;\">    0.010552  </td><td style=\"text-align: right;\">   -0.192441  </td><td style=\"text-align: right;\">     0.15566  </td><td style=\"text-align: right;\">   -0.0120084 </td><td style=\"text-align: right;\">   -0.028019  </td><td style=\"text-align: right;\">   -0.0113519 </td><td style=\"text-align: right;\">   -0.0474205 </td><td style=\"text-align: right;\">  -0.0185241  </td><td style=\"text-align: right;\">     0.929902 </td><td style=\"text-align: right;\">    -0.0654633</td><td style=\"text-align: right;\">    -0.406941 </td><td style=\"text-align: right;\">     -0.178386</td><td style=\"text-align: right;\">    -0.032073 </td><td style=\"text-align: right;\">         22.5035 </td></tr>\n",
       "<tr><td style=\"text-align: right;\">    0.0729236</td><td style=\"text-align: right;\">     0.739816</td><td style=\"text-align: right;\">     0.473193</td><td style=\"text-align: right;\">   -0.0601481</td><td style=\"text-align: right;\">    0.0682403</td><td style=\"text-align: right;\">   0.0251861 </td><td style=\"text-align: right;\">     0.213236</td><td style=\"text-align: right;\">  -0.0294262 </td><td style=\"text-align: right;\">     0.240115</td><td style=\"text-align: right;\">    0.00608201</td><td style=\"text-align: right;\">      0.32341 </td><td style=\"text-align: right;\">     -0.105138</td><td style=\"text-align: right;\">      1.17487 </td><td style=\"text-align: right;\">      0.342041</td><td style=\"text-align: right;\">      0.770706</td><td style=\"text-align: right;\">    0.0867451 </td><td style=\"text-align: right;\">   -0.0103726 </td><td style=\"text-align: right;\">    -0.883082 </td><td style=\"text-align: right;\">    0.00807567</td><td style=\"text-align: right;\">   -0.00348907</td><td style=\"text-align: right;\">   -0.0033204 </td><td style=\"text-align: right;\">   -0.0489422 </td><td style=\"text-align: right;\">  -0.000801371</td><td style=\"text-align: right;\">     0.412962 </td><td style=\"text-align: right;\">    -0.0589445</td><td style=\"text-align: right;\">    -0.35162  </td><td style=\"text-align: right;\">     -0.185864</td><td style=\"text-align: right;\">    -0.0339897</td><td style=\"text-align: right;\">          8.13705</td></tr>\n",
       "<tr><td style=\"text-align: right;\">    0.0262342</td><td style=\"text-align: right;\">     0.552204</td><td style=\"text-align: right;\">     0.393882</td><td style=\"text-align: right;\">   -0.0161514</td><td style=\"text-align: right;\">    0.094937 </td><td style=\"text-align: right;\">   0.165374  </td><td style=\"text-align: right;\">     0.174596</td><td style=\"text-align: right;\">   0.0339897 </td><td style=\"text-align: right;\">     0.219714</td><td style=\"text-align: right;\">   -0.0697061 </td><td style=\"text-align: right;\">      0.988479</td><td style=\"text-align: right;\">     -0.133164</td><td style=\"text-align: right;\">     -0.361522</td><td style=\"text-align: right;\">      0.329866</td><td style=\"text-align: right;\">     -0.555097</td><td style=\"text-align: right;\">    0.128065  </td><td style=\"text-align: right;\">   -0.0491333 </td><td style=\"text-align: right;\">     0.0905398</td><td style=\"text-align: right;\">   -0.0342092 </td><td style=\"text-align: right;\">   -0.0416294 </td><td style=\"text-align: right;\">   -0.0228253 </td><td style=\"text-align: right;\">   -0.11778   </td><td style=\"text-align: right;\">  -0.0162185  </td><td style=\"text-align: right;\">     0.0172168</td><td style=\"text-align: right;\">    -0.0752779</td><td style=\"text-align: right;\">    -0.616199 </td><td style=\"text-align: right;\">     -0.169655</td><td style=\"text-align: right;\">    -0.0237773</td><td style=\"text-align: right;\">         23.8089 </td></tr>\n",
       "<tr><td style=\"text-align: right;\">   -0.172754 </td><td style=\"text-align: right;\">     0.850601</td><td style=\"text-align: right;\">     0.352516</td><td style=\"text-align: right;\">    0.0482158</td><td style=\"text-align: right;\">    0.0676168</td><td style=\"text-align: right;\">  -0.0490177 </td><td style=\"text-align: right;\">     0.147978</td><td style=\"text-align: right;\">   0.0124234 </td><td style=\"text-align: right;\">     0.226988</td><td style=\"text-align: right;\">   -0.121946  </td><td style=\"text-align: right;\">     -0.577802</td><td style=\"text-align: right;\">     -0.206793</td><td style=\"text-align: right;\">     -0.522744</td><td style=\"text-align: right;\">      0.193849</td><td style=\"text-align: right;\">      1.50439 </td><td style=\"text-align: right;\">    0.029475  </td><td style=\"text-align: right;\">   -0.21856   </td><td style=\"text-align: right;\">     0.45035  </td><td style=\"text-align: right;\">   -0.0432399 </td><td style=\"text-align: right;\">   -0.00403867</td><td style=\"text-align: right;\">   -0.0182309 </td><td style=\"text-align: right;\">   -0.0723733 </td><td style=\"text-align: right;\">  -0.0197799  </td><td style=\"text-align: right;\">     0.378554 </td><td style=\"text-align: right;\">    -0.0304489</td><td style=\"text-align: right;\">    -0.274674 </td><td style=\"text-align: right;\">     -0.191536</td><td style=\"text-align: right;\">    -0.0334842</td><td style=\"text-align: right;\">         14.1238 </td></tr>\n",
       "<tr><td style=\"text-align: right;\">    0.092342 </td><td style=\"text-align: right;\">     0.432738</td><td style=\"text-align: right;\">     0.376509</td><td style=\"text-align: right;\">   -0.0168898</td><td style=\"text-align: right;\">    0.119122 </td><td style=\"text-align: right;\">   0.205415  </td><td style=\"text-align: right;\">     0.210566</td><td style=\"text-align: right;\">   0.0357451 </td><td style=\"text-align: right;\">     0.213315</td><td style=\"text-align: right;\">   -0.0295877 </td><td style=\"text-align: right;\">      0.959569</td><td style=\"text-align: right;\">     -0.121705</td><td style=\"text-align: right;\">     -0.704274</td><td style=\"text-align: right;\">      0.369709</td><td style=\"text-align: right;\">     -1.49894 </td><td style=\"text-align: right;\">    0.159944  </td><td style=\"text-align: right;\">   -0.00878877</td><td style=\"text-align: right;\">    -0.407647 </td><td style=\"text-align: right;\">   -0.0101966 </td><td style=\"text-align: right;\">   -0.053763  </td><td style=\"text-align: right;\">   -0.019526  </td><td style=\"text-align: right;\">   -0.128428  </td><td style=\"text-align: right;\">  -0.0189515  </td><td style=\"text-align: right;\">    -0.0196388</td><td style=\"text-align: right;\">    -0.0843763</td><td style=\"text-align: right;\">    -0.54609  </td><td style=\"text-align: right;\">     -0.159991</td><td style=\"text-align: right;\">    -0.0218748</td><td style=\"text-align: right;\">         28.1959 </td></tr>\n",
       "<tr><td style=\"text-align: right;\">    0.092342 </td><td style=\"text-align: right;\">     0.432738</td><td style=\"text-align: right;\">     0.376509</td><td style=\"text-align: right;\">   -0.0168898</td><td style=\"text-align: right;\">    0.119122 </td><td style=\"text-align: right;\">   0.205415  </td><td style=\"text-align: right;\">     0.210566</td><td style=\"text-align: right;\">   0.0357451 </td><td style=\"text-align: right;\">     0.213315</td><td style=\"text-align: right;\">   -0.0295877 </td><td style=\"text-align: right;\">      0.959569</td><td style=\"text-align: right;\">     -0.121705</td><td style=\"text-align: right;\">     -0.704274</td><td style=\"text-align: right;\">      0.369709</td><td style=\"text-align: right;\">     -1.49894 </td><td style=\"text-align: right;\">    0.159944  </td><td style=\"text-align: right;\">   -0.00878877</td><td style=\"text-align: right;\">    -0.407647 </td><td style=\"text-align: right;\">   -0.0101966 </td><td style=\"text-align: right;\">   -0.053763  </td><td style=\"text-align: right;\">   -0.019526  </td><td style=\"text-align: right;\">   -0.128428  </td><td style=\"text-align: right;\">  -0.0189515  </td><td style=\"text-align: right;\">    -0.0196388</td><td style=\"text-align: right;\">    -0.0843763</td><td style=\"text-align: right;\">    -0.54609  </td><td style=\"text-align: right;\">     -0.159991</td><td style=\"text-align: right;\">    -0.0218748</td><td style=\"text-align: right;\">         28.1959 </td></tr>\n",
       "<tr><td style=\"text-align: right;\">   -0.144941 </td><td style=\"text-align: right;\">     0.786951</td><td style=\"text-align: right;\">     0.385536</td><td style=\"text-align: right;\">    0.0542786</td><td style=\"text-align: right;\">    0.0548798</td><td style=\"text-align: right;\">  -0.189306  </td><td style=\"text-align: right;\">     0.182412</td><td style=\"text-align: right;\">  -0.0332664 </td><td style=\"text-align: right;\">     0.248324</td><td style=\"text-align: right;\">   -0.0864583 </td><td style=\"text-align: right;\">     -0.431578</td><td style=\"text-align: right;\">     -0.185519</td><td style=\"text-align: right;\">     -0.118882</td><td style=\"text-align: right;\">      0.265912</td><td style=\"text-align: right;\">      0.375097</td><td style=\"text-align: right;\">    0.0251871 </td><td style=\"text-align: right;\">   -0.166722  </td><td style=\"text-align: right;\">     0.136518 </td><td style=\"text-align: right;\">    0.00806636</td><td style=\"text-align: right;\">   -0.00685754</td><td style=\"text-align: right;\">   -0.00726056</td><td style=\"text-align: right;\">   -0.00592906</td><td style=\"text-align: right;\">   0.00664208 </td><td style=\"text-align: right;\">     0.996543 </td><td style=\"text-align: right;\">    -0.0726314</td><td style=\"text-align: right;\">     1.07581  </td><td style=\"text-align: right;\">     -0.187958</td><td style=\"text-align: right;\">    -0.030789 </td><td style=\"text-align: right;\">         20.4126 </td></tr>\n",
       "<tr><td style=\"text-align: right;\">   -0.031105 </td><td style=\"text-align: right;\">     0.788263</td><td style=\"text-align: right;\">     0.388261</td><td style=\"text-align: right;\">   -0.045719 </td><td style=\"text-align: right;\">    0.0508769</td><td style=\"text-align: right;\">  -0.0391512 </td><td style=\"text-align: right;\">     0.190565</td><td style=\"text-align: right;\">  -0.0174259 </td><td style=\"text-align: right;\">     0.240018</td><td style=\"text-align: right;\">   -0.0182804 </td><td style=\"text-align: right;\">     -0.600897</td><td style=\"text-align: right;\">     -0.18173 </td><td style=\"text-align: right;\">      1.30791 </td><td style=\"text-align: right;\">      0.283198</td><td style=\"text-align: right;\">      0.720237</td><td style=\"text-align: right;\">    0.0329895 </td><td style=\"text-align: right;\">   -0.123522  </td><td style=\"text-align: right;\">    -0.591028 </td><td style=\"text-align: right;\">    0.0276569 </td><td style=\"text-align: right;\">   -0.00926618</td><td style=\"text-align: right;\">   -0.0108122 </td><td style=\"text-align: right;\">   -0.0543499 </td><td style=\"text-align: right;\">  -0.00874    </td><td style=\"text-align: right;\">     0.0977767</td><td style=\"text-align: right;\">    -0.0502227</td><td style=\"text-align: right;\">    -0.0719396</td><td style=\"text-align: right;\">     -0.190062</td><td style=\"text-align: right;\">    -0.0401919</td><td style=\"text-align: right;\">         10.8484 </td></tr>\n",
       "</tbody>\n",
       "</table>"
      ]
     },
     "metadata": {},
     "output_type": "display_data"
    },
    {
     "data": {
      "text/plain": []
     },
     "execution_count": 31,
     "metadata": {},
     "output_type": "execute_result"
    }
   ],
   "source": [
    "predictions"
   ]
  },
  {
   "cell_type": "code",
   "execution_count": 22,
   "metadata": {},
   "outputs": [
    {
     "name": "stdout",
     "output_type": "stream",
     "text": [
      "deeplearning prediction progress: |██████████████████████████████████████████████| (done) 100%\n"
     ]
    },
    {
     "data": {
      "text/html": [
       "<div>\n",
       "<style scoped>\n",
       "    .dataframe tbody tr th:only-of-type {\n",
       "        vertical-align: middle;\n",
       "    }\n",
       "\n",
       "    .dataframe tbody tr th {\n",
       "        vertical-align: top;\n",
       "    }\n",
       "\n",
       "    .dataframe thead th {\n",
       "        text-align: right;\n",
       "    }\n",
       "</style>\n",
       "<table border=\"1\" class=\"dataframe\">\n",
       "  <thead>\n",
       "    <tr style=\"text-align: right;\">\n",
       "      <th></th>\n",
       "      <th>reconstruction_error</th>\n",
       "    </tr>\n",
       "    <tr>\n",
       "      <th>true_class</th>\n",
       "      <th></th>\n",
       "    </tr>\n",
       "  </thead>\n",
       "  <tbody>\n",
       "    <tr>\n",
       "      <th>0</th>\n",
       "      <td>56724</td>\n",
       "    </tr>\n",
       "    <tr>\n",
       "      <th>1</th>\n",
       "      <td>104</td>\n",
       "    </tr>\n",
       "  </tbody>\n",
       "</table>\n",
       "</div>"
      ],
      "text/plain": [
       "            reconstruction_error\n",
       "true_class                      \n",
       "0                          56724\n",
       "1                            104"
      ]
     },
     "execution_count": 22,
     "metadata": {},
     "output_type": "execute_result"
    }
   ],
   "source": [
    "# predicting the class for the testing dataset\n",
    "predictions = anomaly_model.predict(test_h2o)\n",
    "error_df = pd.DataFrame({'reconstruction_error': test_rec_error_df['Reconstruction.MSE'],\n",
    "                        'true_class': Y_test_df})\n",
    "error_df.groupby('true_class').count()"
   ]
  },
  {
   "cell_type": "markdown",
   "metadata": {},
   "source": [
    "## Calculate the threshold score/ cutoff score"
   ]
  },
  {
   "cell_type": "code",
   "execution_count": 27,
   "metadata": {},
   "outputs": [
    {
     "data": {
      "text/plain": [
       "0.012424082716339331"
      ]
     },
     "execution_count": 27,
     "metadata": {},
     "output_type": "execute_result"
    }
   ],
   "source": [
    "score_mean = error_df['reconstruction_error'].mean()\n",
    "score_std = error_df['reconstruction_error'].std()\n",
    "score_cutoff = score_mean + 4*score_std\n",
    "score_cutoff"
   ]
  },
  {
   "cell_type": "code",
   "execution_count": 23,
   "metadata": {},
   "outputs": [
    {
     "data": {
      "text/plain": [
       "0.012741764269150156"
      ]
     },
     "execution_count": 23,
     "metadata": {},
     "output_type": "execute_result"
    }
   ],
   "source": [
    "score_mean = error_df['reconstruction_error'].mean()\n",
    "score_std = error_df['reconstruction_error'].std()\n",
    "score_cutoff = score_mean + 4*score_std\n",
    "score_cutoff"
   ]
  },
  {
   "cell_type": "code",
   "execution_count": 22,
   "metadata": {},
   "outputs": [
    {
     "data": {
      "text/plain": [
       "reconstruction_error    100\n",
       "true_class              100\n",
       "dtype: int64"
      ]
     },
     "execution_count": 22,
     "metadata": {},
     "output_type": "execute_result"
    }
   ],
   "source": [
    "error_df[(error_df['true_class'] == 1) & error_df['reconstruction_error'] > 0.0095].count()"
   ]
  },
  {
   "cell_type": "code",
   "execution_count": 24,
   "metadata": {},
   "outputs": [
    {
     "data": {
      "text/plain": [
       "reconstruction_error    104\n",
       "true_class              104\n",
       "dtype: int64"
      ]
     },
     "execution_count": 24,
     "metadata": {},
     "output_type": "execute_result"
    }
   ],
   "source": [
    "error_df[(error_df['true_class'] == 1) & error_df['reconstruction_error'] > 0.0095].count()"
   ]
  },
  {
   "cell_type": "markdown",
   "metadata": {},
   "source": [
    "## Print out the confusion matrix\n",
    "\n",
    "Adjust and tune the confusion matrix from the threshold."
   ]
  },
  {
   "cell_type": "code",
   "execution_count": 30,
   "metadata": {},
   "outputs": [
    {
     "data": {
      "image/png": "[encoded data removed]",
      "text/plain": [
       "<Figure size 864x864 with 2 Axes>"
      ]
     },
     "metadata": {},
     "output_type": "display_data"
    }
   ],
   "source": [
    "import seaborn as sns\n",
    "from sklearn.metrics import (confusion_matrix, precision_recall_curve, auc,\n",
    "                             roc_curve, recall_score, classification_report, f1_score,\n",
    "                             precision_recall_fscore_support)\n",
    "threshold = 0.009\n",
    "LABELS = ['Normal', 'Fraud']\n",
    "y_pred = [1 if e > threshold else 0 for e in error_df.reconstruction_error.values]\n",
    "conf_matrix = confusion_matrix(error_df.true_class, y_pred)\n",
    "plt.figure(figsize=(12, 12))\n",
    "sns.heatmap(conf_matrix, xticklabels=LABELS, yticklabels=LABELS, annot=True, fmt=\"d\");\n",
    "plt.title(\"Confusion matrix\")\n",
    "plt.ylabel('True class')\n",
    "plt.xlabel('Predicted class')\n",
    "plt.show()"
   ]
  },
  {
   "cell_type": "code",
   "execution_count": 30,
   "metadata": {},
   "outputs": [
    {
     "data": {
      "image/png": "[encoded data removed]",
      "text/plain": [
       "<Figure size 864x864 with 2 Axes>"
      ]
     },
     "metadata": {
      "needs_background": "light"
     },
     "output_type": "display_data"
    }
   ],
   "source": [
    "import seaborn as sns\n",
    "from sklearn.metrics import (confusion_matrix, precision_recall_curve, auc,\n",
    "                             roc_curve, recall_score, classification_report, f1_score,\n",
    "                             precision_recall_fscore_support)\n",
    "threshold = 0.006\n",
    "LABELS = ['Normal', 'Fraud']\n",
    "y_pred = [1 if e > threshold else 0 for e in error_df.reconstruction_error.values]\n",
    "conf_matrix = confusion_matrix(error_df.true_class, y_pred)\n",
    "plt.figure(figsize=(12, 12))\n",
    "sns.heatmap(conf_matrix, xticklabels=LABELS, yticklabels=LABELS, annot=True, fmt=\"d\");\n",
    "plt.title(\"Confusion matrix\")\n",
    "plt.ylabel('True class')\n",
    "plt.xlabel('Predicted class')\n",
    "plt.show()"
   ]
  },
  {
   "cell_type": "code",
   "execution_count": null,
   "metadata": {},
   "outputs": [],
   "source": []
  }
 ],
 "metadata": {
  "kernelspec": {
   "display_name": "Python 3 (ipykernel)",
   "language": "python",
   "name": "python3"
  },
  "language_info": {
   "codemirror_mode": {
    "name": "ipython",
    "version": 3
   },
   "file_extension": ".py",
   "mimetype": "text/x-python",
   "name": "python",
   "nbconvert_exporter": "python",
   "pygments_lexer": "ipython3",
   "version": "3.8.5"
  },
  "toc": {
   "base_numbering": 1,
   "nav_menu": {},
   "number_sections": true,
   "sideBar": true,
   "skip_h1_title": false,
   "title_cell": "Table of Contents",
   "title_sidebar": "Contents",
   "toc_cell": false,
   "toc_position": {},
   "toc_section_display": true,
   "toc_window_display": false
  }
 },
 "nbformat": 4,
 "nbformat_minor": 2
}
