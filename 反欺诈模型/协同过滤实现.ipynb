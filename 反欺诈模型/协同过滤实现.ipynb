{
 "cells": [
  {
   "cell_type": "code",
   "execution_count": 116,
   "id": "3cb7d924",
   "metadata": {
    "ExecuteTime": {
     "end_time": "2022-03-04T07:43:08.736251Z",
     "start_time": "2022-03-04T07:43:08.721099Z"
    }
   },
   "outputs": [],
   "source": [
    "#/python/Item_CF.py\n",
    "# -*- coding: UTF-8 -*-\n",
    "from math import sqrt\n",
    "import operator\n",
    "import pandas as pd\n",
    "#1.构建用户-->物品的倒排\n",
    "def loadData(files):\n",
    "    data ={}\n",
    "    for line in files:\n",
    "        user,score,item=line.split(\",\")\n",
    "        data.setdefault(user,{})\n",
    "        data[user][item]=score\n",
    "    print(\"----1.用户：物品的倒排----\")\n",
    "    print(data)\n",
    "    return data\n",
    "\n",
    "def loadData2(files):\n",
    "    data={}\n",
    "    for line in files:\n",
    "        user,item,score,timestamp=line.split(\",\")\n",
    "        data.setdefault(user,{})\n",
    "        data[user][item]=score\n",
    "    print(\"----1.用户：物品的倒排----\")\n",
    "    print(data)\n",
    "    return data\n",
    "\n",
    "#2.计算\n",
    "# 2.1 构造物品-->物品的共现矩阵\n",
    "# 2.2 计算物品与物品的相似矩阵\n",
    "#(这里采用的是余弦相似度算法计算的物品间的相似度)\n",
    "def similarity(data):\n",
    "    # 2.1 构造物品：物品的共现矩阵\n",
    "    N={}#喜欢物品i的总人数\n",
    "    C={}#喜欢物品i也喜欢物品j的人数\n",
    "    for user,item in data.items():\n",
    "        for i,score in item.items():\n",
    "            N.setdefault(i,0)\n",
    "            N[i]+=1\n",
    "            C.setdefault(i,{})\n",
    "            for j,scores in item.items():\n",
    "                if j not in i:\n",
    "                    C[i].setdefault(j,0)\n",
    "                    C[i][j]+=1\n",
    "                    \n",
    "    print(\"---2.构造的共现矩阵---\")\n",
    "    print ('进行i行为的总人数:',N)\n",
    "    print ('进行i行为也进行j行为的人数:',C)\n",
    "\n",
    "    #2.2 计算物品与物品的相似矩阵\n",
    "    W={}\n",
    "    for i,item in C.items():\n",
    "        W.setdefault(i,{})\n",
    "        for j,item2 in item.items():\n",
    "            W[i].setdefault(j,0)\n",
    "            W[i][j]=C[i][j]/sqrt(N[i]*N[j])\n",
    "            \n",
    "    print(\"---3.构造的相似矩阵---\")\n",
    "    print(W)\n",
    "    return W,N,C\n",
    "\n",
    "#3.根据用户的历史记录，给用户推荐物品\n",
    "def recommandList(data,W,user,k=3,N=10):\n",
    "    rank={}\n",
    "    for i,score in data[user].items():\t#获得用户user历史记录，如A用户的历史记录为{'a': '1', 'b': '1', 'd': '1'}\n",
    "        for j,w in sorted(W[i].items(),key=operator.itemgetter(1),reverse=True)[0:k]:\t#获得与物品i相似的k个物品\n",
    "            if j not in data[user].keys():\t#该相似的物品不在用户user的记录里\n",
    "                rank.setdefault(j,0)\n",
    "                rank[j]+=float(score) * w\n",
    "                \n",
    "    print(\"---4.推荐----\")\n",
    "    print(sorted(rank.items(),key=operator.itemgetter(1),reverse=True)[0:N])\n",
    "    return sorted(rank.items(),key=operator.itemgetter(1),reverse=True)[0:N]"
   ]
  },
  {
   "cell_type": "code",
   "execution_count": 117,
   "id": "1ae3f350",
   "metadata": {
    "ExecuteTime": {
     "end_time": "2022-03-04T07:43:10.630550Z",
     "start_time": "2022-03-04T07:43:10.622547Z"
    }
   },
   "outputs": [],
   "source": [
    "df = pd.DataFrame([['A','a',1],['A','b',2],['B','c',3],['B','a',4],['C','b',5],['D','c',6],['E','a',7],['E','c',8],\n",
    "                   ['A','e',9],['F','b',10],['D','e',11],['F','e',12],['B','a',13]],columns=['user','behaviors','id'])"
   ]
  },
  {
   "cell_type": "code",
   "execution_count": 118,
   "id": "ffe3b19a",
   "metadata": {
    "ExecuteTime": {
     "end_time": "2022-03-04T07:43:11.489234Z",
     "start_time": "2022-03-04T07:43:11.469229Z"
    }
   },
   "outputs": [
    {
     "data": {
      "text/html": [
       "<div>\n",
       "<style scoped>\n",
       "    .dataframe tbody tr th:only-of-type {\n",
       "        vertical-align: middle;\n",
       "    }\n",
       "\n",
       "    .dataframe tbody tr th {\n",
       "        vertical-align: top;\n",
       "    }\n",
       "\n",
       "    .dataframe thead th {\n",
       "        text-align: right;\n",
       "    }\n",
       "</style>\n",
       "<table border=\"1\" class=\"dataframe\">\n",
       "  <thead>\n",
       "    <tr style=\"text-align: right;\">\n",
       "      <th></th>\n",
       "      <th>user</th>\n",
       "      <th>behaviors</th>\n",
       "      <th>id</th>\n",
       "    </tr>\n",
       "  </thead>\n",
       "  <tbody>\n",
       "    <tr>\n",
       "      <th>0</th>\n",
       "      <td>A</td>\n",
       "      <td>a</td>\n",
       "      <td>1</td>\n",
       "    </tr>\n",
       "    <tr>\n",
       "      <th>1</th>\n",
       "      <td>A</td>\n",
       "      <td>b</td>\n",
       "      <td>2</td>\n",
       "    </tr>\n",
       "    <tr>\n",
       "      <th>2</th>\n",
       "      <td>B</td>\n",
       "      <td>c</td>\n",
       "      <td>3</td>\n",
       "    </tr>\n",
       "    <tr>\n",
       "      <th>3</th>\n",
       "      <td>B</td>\n",
       "      <td>a</td>\n",
       "      <td>4</td>\n",
       "    </tr>\n",
       "    <tr>\n",
       "      <th>4</th>\n",
       "      <td>C</td>\n",
       "      <td>b</td>\n",
       "      <td>5</td>\n",
       "    </tr>\n",
       "    <tr>\n",
       "      <th>5</th>\n",
       "      <td>D</td>\n",
       "      <td>c</td>\n",
       "      <td>6</td>\n",
       "    </tr>\n",
       "    <tr>\n",
       "      <th>6</th>\n",
       "      <td>E</td>\n",
       "      <td>a</td>\n",
       "      <td>7</td>\n",
       "    </tr>\n",
       "    <tr>\n",
       "      <th>7</th>\n",
       "      <td>E</td>\n",
       "      <td>c</td>\n",
       "      <td>8</td>\n",
       "    </tr>\n",
       "    <tr>\n",
       "      <th>8</th>\n",
       "      <td>A</td>\n",
       "      <td>e</td>\n",
       "      <td>9</td>\n",
       "    </tr>\n",
       "    <tr>\n",
       "      <th>9</th>\n",
       "      <td>F</td>\n",
       "      <td>b</td>\n",
       "      <td>10</td>\n",
       "    </tr>\n",
       "    <tr>\n",
       "      <th>10</th>\n",
       "      <td>D</td>\n",
       "      <td>e</td>\n",
       "      <td>11</td>\n",
       "    </tr>\n",
       "    <tr>\n",
       "      <th>11</th>\n",
       "      <td>F</td>\n",
       "      <td>e</td>\n",
       "      <td>12</td>\n",
       "    </tr>\n",
       "    <tr>\n",
       "      <th>12</th>\n",
       "      <td>B</td>\n",
       "      <td>a</td>\n",
       "      <td>13</td>\n",
       "    </tr>\n",
       "  </tbody>\n",
       "</table>\n",
       "</div>"
      ],
      "text/plain": [
       "   user behaviors  id\n",
       "0     A         a   1\n",
       "1     A         b   2\n",
       "2     B         c   3\n",
       "3     B         a   4\n",
       "4     C         b   5\n",
       "5     D         c   6\n",
       "6     E         a   7\n",
       "7     E         c   8\n",
       "8     A         e   9\n",
       "9     F         b  10\n",
       "10    D         e  11\n",
       "11    F         e  12\n",
       "12    B         a  13"
      ]
     },
     "execution_count": 118,
     "metadata": {},
     "output_type": "execute_result"
    }
   ],
   "source": [
    "df"
   ]
  },
  {
   "cell_type": "code",
   "execution_count": 119,
   "id": "bcf4dd14",
   "metadata": {
    "ExecuteTime": {
     "end_time": "2022-03-04T07:43:15.098238Z",
     "start_time": "2022-03-04T07:43:15.090236Z"
    }
   },
   "outputs": [
    {
     "name": "stdout",
     "output_type": "stream",
     "text": [
      "---1.构造行为倒排表---\n",
      "{'C': {'b': 1}, 'B': {'a': 2, 'c': 1}, 'A': {'a': 1, 'b': 1, 'e': 1}, 'F': {'b': 1, 'e': 1}, 'E': {'a': 1, 'c': 1}, 'D': {'c': 1, 'e': 1}}\n"
     ]
    }
   ],
   "source": [
    "bhs_num = df.groupby('user')['behaviors'].value_counts()\n",
    "bhslis= {}\n",
    "for i in set(df['user']):\n",
    "    bhs = bhs_num[i].to_dict()\n",
    "    bhslis[i] = bhs\n",
    "print('---1.构造行为倒排表---')\n",
    "print(bhslis)"
   ]
  },
  {
   "cell_type": "code",
   "execution_count": 120,
   "id": "8465b063",
   "metadata": {
    "ExecuteTime": {
     "end_time": "2022-03-04T07:43:15.685930Z",
     "start_time": "2022-03-04T07:43:15.675926Z"
    }
   },
   "outputs": [
    {
     "data": {
      "text/plain": [
       "{'C': {'b': 1},\n",
       " 'B': {'a': 2, 'c': 1},\n",
       " 'A': {'a': 1, 'b': 1, 'e': 1},\n",
       " 'F': {'b': 1, 'e': 1},\n",
       " 'E': {'a': 1, 'c': 1},\n",
       " 'D': {'c': 1, 'e': 1}}"
      ]
     },
     "execution_count": 120,
     "metadata": {},
     "output_type": "execute_result"
    }
   ],
   "source": [
    "bhslis"
   ]
  },
  {
   "cell_type": "code",
   "execution_count": 121,
   "id": "e130a71d",
   "metadata": {
    "ExecuteTime": {
     "end_time": "2022-03-04T07:43:17.482942Z",
     "start_time": "2022-03-04T07:43:17.468931Z"
    }
   },
   "outputs": [
    {
     "name": "stdout",
     "output_type": "stream",
     "text": [
      "---2.构造的共现矩阵---\n",
      "进行i行为的总人数: {'b': 3, 'a': 3, 'c': 3, 'e': 3}\n",
      "进行i行为也进行j行为的人数: {'b': {'a': 1, 'e': 2}, 'a': {'c': 2, 'b': 1, 'e': 1}, 'c': {'a': 2, 'e': 1}, 'e': {'a': 1, 'b': 2, 'c': 1}}\n",
      "---3.构造的相似矩阵---\n",
      "{'b': {'a': 0.3333333333333333, 'e': 0.6666666666666666}, 'a': {'c': 0.6666666666666666, 'b': 0.3333333333333333, 'e': 0.3333333333333333}, 'c': {'a': 0.6666666666666666, 'e': 0.3333333333333333}, 'e': {'a': 0.3333333333333333, 'b': 0.6666666666666666, 'c': 0.3333333333333333}}\n"
     ]
    }
   ],
   "source": [
    "W,N,C=similarity(bhslis)"
   ]
  },
  {
   "cell_type": "code",
   "execution_count": 6,
   "id": "62052d75",
   "metadata": {
    "ExecuteTime": {
     "end_time": "2022-03-04T06:25:01.814250Z",
     "start_time": "2022-03-04T06:25:01.796321Z"
    }
   },
   "outputs": [
    {
     "name": "stdout",
     "output_type": "stream",
     "text": [
      "---4.推荐----\n",
      "[('c', 1.2440169358562925), ('e', 0.5773502691896258)]\n"
     ]
    },
    {
     "data": {
      "text/plain": [
       "[('c', 1.2440169358562925), ('e', 0.5773502691896258)]"
      ]
     },
     "execution_count": 6,
     "metadata": {},
     "output_type": "execute_result"
    }
   ],
   "source": [
    "recommandList(data,W,'A',3,10)\t#推荐"
   ]
  },
  {
   "cell_type": "code",
   "execution_count": null,
   "id": "6e4ef646",
   "metadata": {},
   "outputs": [],
   "source": []
  }
 ],
 "metadata": {
  "kernelspec": {
   "display_name": "Python 3",
   "language": "python",
   "name": "python3"
  },
  "language_info": {
   "codemirror_mode": {
    "name": "ipython",
    "version": 3
   },
   "file_extension": ".py",
   "mimetype": "text/x-python",
   "name": "python",
   "nbconvert_exporter": "python",
   "pygments_lexer": "ipython3",
   "version": "3.8.8"
  },
  "varInspector": {
   "cols": {
    "lenName": 16,
    "lenType": 16,
    "lenVar": 40
   },
   "kernels_config": {
    "python": {
     "delete_cmd_postfix": "",
     "delete_cmd_prefix": "del ",
     "library": "var_list.py",
     "varRefreshCmd": "print(var_dic_list())"
    },
    "r": {
     "delete_cmd_postfix": ") ",
     "delete_cmd_prefix": "rm(",
     "library": "var_list.r",
     "varRefreshCmd": "cat(var_dic_list()) "
    }
   },
   "types_to_exclude": [
    "module",
    "function",
    "builtin_function_or_method",
    "instance",
    "_Feature"
   ],
   "window_display": false
  }
 },
 "nbformat": 4,
 "nbformat_minor": 5
}
