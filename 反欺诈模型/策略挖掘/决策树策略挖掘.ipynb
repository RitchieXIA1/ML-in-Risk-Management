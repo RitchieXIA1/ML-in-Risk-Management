{
 "cells": [
  {
   "cell_type": "code",
   "execution_count": 32,
   "id": "647f7054",
   "metadata": {
    "ExecuteTime": {
     "end_time": "2022-02-24T02:45:00.903793Z",
     "start_time": "2022-02-24T02:45:00.876601Z"
    }
   },
   "outputs": [],
   "source": [
    "#数据读取\n",
    "import pandas as pd\n",
    "from sklearn.datasets import load_breast_cancer\n",
    "from sklearn import tree\n",
    "import matplotlib.pyplot as plt\n",
    "breast = load_breast_cancer()\n",
    "X=pd.DataFrame(breast.data,columns=breast.feature_names)\n",
    "Y=breast.target"
   ]
  },
  {
   "cell_type": "code",
   "execution_count": 82,
   "id": "ecb5a9ec",
   "metadata": {
    "ExecuteTime": {
     "end_time": "2022-02-24T03:08:23.785367Z",
     "start_time": "2022-02-24T03:08:23.779363Z"
    }
   },
   "outputs": [],
   "source": [
    "len_X = len(X)\n",
    "depth = 3\n",
    "min_on_leafs = int(len_X/(2**(depth+1)))"
   ]
  },
  {
   "cell_type": "code",
   "execution_count": 83,
   "id": "b1808ea7",
   "metadata": {
    "ExecuteTime": {
     "end_time": "2022-02-24T03:08:25.026876Z",
     "start_time": "2022-02-24T03:08:25.014259Z"
    }
   },
   "outputs": [],
   "source": [
    "#训练一个决策树，对规则进行提取\n",
    "clf = tree.DecisionTreeClassifier(max_depth=3,min_samples_leaf=min_on_leafs)\n",
    "clf = clf.fit(X, Y)"
   ]
  },
  {
   "cell_type": "code",
   "execution_count": 84,
   "id": "1e136d8e",
   "metadata": {
    "ExecuteTime": {
     "end_time": "2022-02-24T03:08:27.869944Z",
     "start_time": "2022-02-24T03:08:27.855322Z"
    }
   },
   "outputs": [],
   "source": [
    "def Get_Rules_From_Tree(clf,X):\n",
    "    n_nodes = clf.tree_.node_count\n",
    "    children_left = clf.tree_.children_left\n",
    "    children_right = clf.tree_.children_right\n",
    "    feature = clf.tree_.feature\n",
    "    threshold = clf.tree_.threshold\n",
    "    value = clf.tree_.value\n",
    "\n",
    "    node_depth = np.zeros(shape=n_nodes, dtype=np.int64)\n",
    "    is_leaves  = np.zeros(shape=n_nodes, dtype=bool)\n",
    "    stack = [(0, 0)]\n",
    "\n",
    "    while len(stack) > 0:\n",
    "\n",
    "        node_id, depth = stack.pop()\n",
    "        node_depth[node_id] = depth\n",
    "\n",
    "        is_split_node = children_left[node_id] != children_right[node_id]\n",
    "\n",
    "        if is_split_node:\n",
    "            stack.append((children_left[node_id],  depth+1))\n",
    "            stack.append((children_right[node_id], depth+1))\n",
    "        else:\n",
    "            is_leaves[node_id] = True  \n",
    "    feature_name = [\n",
    "            X.columns[i] if i != _tree.TREE_UNDEFINED else \"undefined!\"\n",
    "            for i in clf.tree_.feature]\n",
    "\n",
    "    ways  = []\n",
    "    depth = []\n",
    "    feat = []\n",
    "    nodes = []\n",
    "    rules = []\n",
    "    for i in range(n_nodes):   \n",
    "        if  is_leaves[i]: \n",
    "            while depth[-1] >= node_depth[i]:\n",
    "                depth.pop()\n",
    "                ways.pop()    \n",
    "                feat.pop()\n",
    "                nodes.pop()\n",
    "            if children_left[i-1]==i:#当前节点是上一个节点的左节点，则是小于\n",
    "                a='{f}<={th}'.format(f=feat[-1],th=round(threshold[nodes[-1]],4))\n",
    "                ways[-1]=a              \n",
    "                last =' & '.join(ways)+':'+str(value[i][0][0])+':'+str(value[i][0][1])\n",
    "                rules.append(last)\n",
    "            else:\n",
    "                a='{f}>{th}'.format(f=feat[-1],th=round(threshold[nodes[-1]],4))\n",
    "                ways[-1]=a\n",
    "                last = ' & '.join(ways)+':'+str(value[i][0][0])+':'+str(value[i][0][1])\n",
    "                rules.append(last)\n",
    "\n",
    "        else: #不是叶子节点 入栈\n",
    "            if i==0:\n",
    "                ways.append(round(threshold[i],4))\n",
    "                depth.append(node_depth[i])\n",
    "                feat.append(feature_name[i])\n",
    "                nodes.append(i)             \n",
    "            else: \n",
    "                while depth[-1] >= node_depth[i]:\n",
    "                    depth.pop()\n",
    "                    ways.pop()\n",
    "                    feat.pop()\n",
    "                    nodes.pop()\n",
    "                if i==children_left[nodes[-1]]:\n",
    "                    w='{f}<={th}'.format(f=feat[-1],th=round(threshold[nodes[-1]],4))\n",
    "                else:\n",
    "                    w='{f}>{th}'.format(f=feat[-1],th=round(threshold[nodes[-1]],4))              \n",
    "                ways[-1] = w  \n",
    "                ways.append(round(threshold[i],4))\n",
    "                depth.append(node_depth[i]) \n",
    "                feat.append(feature_name[i])\n",
    "                nodes.append(i)\n",
    "                rules\n",
    "    return rules"
   ]
  },
  {
   "cell_type": "code",
   "execution_count": 85,
   "id": "eb2a55f7",
   "metadata": {
    "ExecuteTime": {
     "end_time": "2022-02-24T03:08:31.684485Z",
     "start_time": "2022-02-24T03:08:31.588341Z"
    }
   },
   "outputs": [
    {
     "data": {
      "image/svg+xml": [
       "<?xml version=\"1.0\" encoding=\"UTF-8\" standalone=\"no\"?>\r\n",
       "<!DOCTYPE svg PUBLIC \"-//W3C//DTD SVG 1.1//EN\"\r\n",
       " \"http://www.w3.org/Graphics/SVG/1.1/DTD/svg11.dtd\">\r\n",
       "<!-- Generated by graphviz version 2.38.0 (20140413.2041)\r\n",
       " -->\r\n",
       "<!-- Title: Tree Pages: 1 -->\r\n",
       "<svg width=\"646pt\" height=\"433pt\"\r\n",
       " viewBox=\"0.00 0.00 646.00 433.00\" xmlns=\"http://www.w3.org/2000/svg\" xmlns:xlink=\"http://www.w3.org/1999/xlink\">\r\n",
       "<g id=\"graph0\" class=\"graph\" transform=\"scale(1 1) rotate(0) translate(4 429)\">\r\n",
       "<title>Tree</title>\r\n",
       "<polygon fill=\"white\" stroke=\"none\" points=\"-4,4 -4,-429 642,-429 642,4 -4,4\"/>\r\n",
       "<!-- 0 -->\r\n",
       "<g id=\"node1\" class=\"node\"><title>0</title>\r\n",
       "<path fill=\"#afd7f4\" stroke=\"black\" d=\"M426.5,-425C426.5,-425 298.5,-425 298.5,-425 292.5,-425 286.5,-419 286.5,-413 286.5,-413 286.5,-354 286.5,-354 286.5,-348 292.5,-342 298.5,-342 298.5,-342 426.5,-342 426.5,-342 432.5,-342 438.5,-348 438.5,-354 438.5,-354 438.5,-413 438.5,-413 438.5,-419 432.5,-425 426.5,-425\"/>\r\n",
       "<text text-anchor=\"start\" x=\"294.5\" y=\"-409.8\" font-family=\"Helvetica,sans-Serif\" font-size=\"14.00\">worst radius ≤ 16.795</text>\r\n",
       "<text text-anchor=\"start\" x=\"325\" y=\"-394.8\" font-family=\"Helvetica,sans-Serif\" font-size=\"14.00\">gini = 0.468</text>\r\n",
       "<text text-anchor=\"start\" x=\"315\" y=\"-379.8\" font-family=\"Helvetica,sans-Serif\" font-size=\"14.00\">samples = 569</text>\r\n",
       "<text text-anchor=\"start\" x=\"305.5\" y=\"-364.8\" font-family=\"Helvetica,sans-Serif\" font-size=\"14.00\">value = [212, 357]</text>\r\n",
       "<text text-anchor=\"start\" x=\"326\" y=\"-349.8\" font-family=\"Helvetica,sans-Serif\" font-size=\"14.00\">class = bad</text>\r\n",
       "</g>\r\n",
       "<!-- 1 -->\r\n",
       "<g id=\"node2\" class=\"node\"><title>1</title>\r\n",
       "<path fill=\"#4ca6e7\" stroke=\"black\" d=\"M342,-306C342,-306 165,-306 165,-306 159,-306 153,-300 153,-294 153,-294 153,-235 153,-235 153,-229 159,-223 165,-223 165,-223 342,-223 342,-223 348,-223 354,-229 354,-235 354,-235 354,-294 354,-294 354,-300 348,-306 342,-306\"/>\r\n",
       "<text text-anchor=\"start\" x=\"161\" y=\"-290.8\" font-family=\"Helvetica,sans-Serif\" font-size=\"14.00\">worst concave points ≤ 0.136</text>\r\n",
       "<text text-anchor=\"start\" x=\"216\" y=\"-275.8\" font-family=\"Helvetica,sans-Serif\" font-size=\"14.00\">gini = 0.159</text>\r\n",
       "<text text-anchor=\"start\" x=\"206\" y=\"-260.8\" font-family=\"Helvetica,sans-Serif\" font-size=\"14.00\">samples = 379</text>\r\n",
       "<text text-anchor=\"start\" x=\"200.5\" y=\"-245.8\" font-family=\"Helvetica,sans-Serif\" font-size=\"14.00\">value = [33, 346]</text>\r\n",
       "<text text-anchor=\"start\" x=\"217\" y=\"-230.8\" font-family=\"Helvetica,sans-Serif\" font-size=\"14.00\">class = bad</text>\r\n",
       "</g>\r\n",
       "<!-- 0&#45;&gt;1 -->\r\n",
       "<g id=\"edge1\" class=\"edge\"><title>0&#45;&gt;1</title>\r\n",
       "<path fill=\"none\" stroke=\"black\" d=\"M324.683,-341.907C316.144,-332.742 307,-322.927 298.208,-313.489\"/>\r\n",
       "<polygon fill=\"black\" stroke=\"black\" points=\"300.628,-310.952 291.25,-306.021 295.506,-315.723 300.628,-310.952\"/>\r\n",
       "<text text-anchor=\"middle\" x=\"290.366\" y=\"-327.305\" font-family=\"Helvetica,sans-Serif\" font-size=\"14.00\">True</text>\r\n",
       "</g>\r\n",
       "<!-- 6 -->\r\n",
       "<g id=\"node7\" class=\"node\"><title>6</title>\r\n",
       "<path fill=\"#e78945\" stroke=\"black\" d=\"M561,-306C561,-306 384,-306 384,-306 378,-306 372,-300 372,-294 372,-294 372,-235 372,-235 372,-229 378,-223 384,-223 384,-223 561,-223 561,-223 567,-223 573,-229 573,-235 573,-235 573,-294 573,-294 573,-300 567,-306 561,-306\"/>\r\n",
       "<text text-anchor=\"start\" x=\"380\" y=\"-290.8\" font-family=\"Helvetica,sans-Serif\" font-size=\"14.00\">worst concave points ≤ 0.145</text>\r\n",
       "<text text-anchor=\"start\" x=\"435\" y=\"-275.8\" font-family=\"Helvetica,sans-Serif\" font-size=\"14.00\">gini = 0.109</text>\r\n",
       "<text text-anchor=\"start\" x=\"425\" y=\"-260.8\" font-family=\"Helvetica,sans-Serif\" font-size=\"14.00\">samples = 190</text>\r\n",
       "<text text-anchor=\"start\" x=\"419.5\" y=\"-245.8\" font-family=\"Helvetica,sans-Serif\" font-size=\"14.00\">value = [179, 11]</text>\r\n",
       "<text text-anchor=\"start\" x=\"431.5\" y=\"-230.8\" font-family=\"Helvetica,sans-Serif\" font-size=\"14.00\">class = good</text>\r\n",
       "</g>\r\n",
       "<!-- 0&#45;&gt;6 -->\r\n",
       "<g id=\"edge6\" class=\"edge\"><title>0&#45;&gt;6</title>\r\n",
       "<path fill=\"none\" stroke=\"black\" d=\"M400.664,-341.907C409.281,-332.742 418.509,-322.927 427.382,-313.489\"/>\r\n",
       "<polygon fill=\"black\" stroke=\"black\" points=\"430.104,-315.704 434.404,-306.021 425.004,-310.909 430.104,-315.704\"/>\r\n",
       "<text text-anchor=\"middle\" x=\"435.174\" y=\"-327.309\" font-family=\"Helvetica,sans-Serif\" font-size=\"14.00\">False</text>\r\n",
       "</g>\r\n",
       "<!-- 2 -->\r\n",
       "<g id=\"node3\" class=\"node\"><title>2</title>\r\n",
       "<path fill=\"#3c9ee5\" stroke=\"black\" d=\"M189,-187C189,-187 50,-187 50,-187 44,-187 38,-181 38,-175 38,-175 38,-116 38,-116 38,-110 44,-104 50,-104 50,-104 189,-104 189,-104 195,-104 201,-110 201,-116 201,-116 201,-175 201,-175 201,-181 195,-187 189,-187\"/>\r\n",
       "<text text-anchor=\"start\" x=\"46\" y=\"-171.8\" font-family=\"Helvetica,sans-Serif\" font-size=\"14.00\">perimeter error ≤ 3.016</text>\r\n",
       "<text text-anchor=\"start\" x=\"86\" y=\"-156.8\" font-family=\"Helvetica,sans-Serif\" font-size=\"14.00\">gini = 0.03</text>\r\n",
       "<text text-anchor=\"start\" x=\"72\" y=\"-141.8\" font-family=\"Helvetica,sans-Serif\" font-size=\"14.00\">samples = 333</text>\r\n",
       "<text text-anchor=\"start\" x=\"71\" y=\"-126.8\" font-family=\"Helvetica,sans-Serif\" font-size=\"14.00\">value = [5, 328]</text>\r\n",
       "<text text-anchor=\"start\" x=\"83\" y=\"-111.8\" font-family=\"Helvetica,sans-Serif\" font-size=\"14.00\">class = bad</text>\r\n",
       "</g>\r\n",
       "<!-- 1&#45;&gt;2 -->\r\n",
       "<g id=\"edge2\" class=\"edge\"><title>1&#45;&gt;2</title>\r\n",
       "<path fill=\"none\" stroke=\"black\" d=\"M207.009,-222.907C196.2,-213.469 184.602,-203.343 173.5,-193.649\"/>\r\n",
       "<polygon fill=\"black\" stroke=\"black\" points=\"175.743,-190.961 165.908,-187.021 171.139,-196.234 175.743,-190.961\"/>\r\n",
       "</g>\r\n",
       "<!-- 5 -->\r\n",
       "<g id=\"node6\" class=\"node\"><title>5</title>\r\n",
       "<path fill=\"#f6d2b8\" stroke=\"black\" d=\"M320,-179.5C320,-179.5 231,-179.5 231,-179.5 225,-179.5 219,-173.5 219,-167.5 219,-167.5 219,-123.5 219,-123.5 219,-117.5 225,-111.5 231,-111.5 231,-111.5 320,-111.5 320,-111.5 326,-111.5 332,-117.5 332,-123.5 332,-123.5 332,-167.5 332,-167.5 332,-173.5 326,-179.5 320,-179.5\"/>\r\n",
       "<text text-anchor=\"start\" x=\"238\" y=\"-164.3\" font-family=\"Helvetica,sans-Serif\" font-size=\"14.00\">gini = 0.476</text>\r\n",
       "<text text-anchor=\"start\" x=\"232\" y=\"-149.3\" font-family=\"Helvetica,sans-Serif\" font-size=\"14.00\">samples = 46</text>\r\n",
       "<text text-anchor=\"start\" x=\"227\" y=\"-134.3\" font-family=\"Helvetica,sans-Serif\" font-size=\"14.00\">value = [28, 18]</text>\r\n",
       "<text text-anchor=\"start\" x=\"234.5\" y=\"-119.3\" font-family=\"Helvetica,sans-Serif\" font-size=\"14.00\">class = good</text>\r\n",
       "</g>\r\n",
       "<!-- 1&#45;&gt;5 -->\r\n",
       "<g id=\"edge5\" class=\"edge\"><title>1&#45;&gt;5</title>\r\n",
       "<path fill=\"none\" stroke=\"black\" d=\"M261.133,-222.907C263.145,-212.204 265.324,-200.615 267.363,-189.776\"/>\r\n",
       "<polygon fill=\"black\" stroke=\"black\" points=\"270.855,-190.142 269.263,-179.667 263.976,-188.848 270.855,-190.142\"/>\r\n",
       "</g>\r\n",
       "<!-- 3 -->\r\n",
       "<g id=\"node4\" class=\"node\"><title>3</title>\r\n",
       "<path fill=\"#3a9ee5\" stroke=\"black\" d=\"M101,-68C101,-68 12,-68 12,-68 6,-68 0,-62 0,-56 0,-56 0,-12 0,-12 0,-6 6,-0 12,-0 12,-0 101,-0 101,-0 107,-0 113,-6 113,-12 113,-12 113,-56 113,-56 113,-62 107,-68 101,-68\"/>\r\n",
       "<text text-anchor=\"start\" x=\"19\" y=\"-52.8\" font-family=\"Helvetica,sans-Serif\" font-size=\"14.00\">gini = 0.013</text>\r\n",
       "<text text-anchor=\"start\" x=\"9\" y=\"-37.8\" font-family=\"Helvetica,sans-Serif\" font-size=\"14.00\">samples = 298</text>\r\n",
       "<text text-anchor=\"start\" x=\"8\" y=\"-22.8\" font-family=\"Helvetica,sans-Serif\" font-size=\"14.00\">value = [2, 296]</text>\r\n",
       "<text text-anchor=\"start\" x=\"20\" y=\"-7.8\" font-family=\"Helvetica,sans-Serif\" font-size=\"14.00\">class = bad</text>\r\n",
       "</g>\r\n",
       "<!-- 2&#45;&gt;3 -->\r\n",
       "<g id=\"edge3\" class=\"edge\"><title>2&#45;&gt;3</title>\r\n",
       "<path fill=\"none\" stroke=\"black\" d=\"M96.0411,-103.726C91.0559,-95.0615 85.7827,-85.8962 80.768,-77.1802\"/>\r\n",
       "<polygon fill=\"black\" stroke=\"black\" points=\"83.6794,-75.2219 75.6587,-68.2996 77.6119,-78.7128 83.6794,-75.2219\"/>\r\n",
       "</g>\r\n",
       "<!-- 4 -->\r\n",
       "<g id=\"node5\" class=\"node\"><title>4</title>\r\n",
       "<path fill=\"#4ca6e7\" stroke=\"black\" d=\"M224,-68C224,-68 143,-68 143,-68 137,-68 131,-62 131,-56 131,-56 131,-12 131,-12 131,-6 137,-0 143,-0 143,-0 224,-0 224,-0 230,-0 236,-6 236,-12 236,-12 236,-56 236,-56 236,-62 230,-68 224,-68\"/>\r\n",
       "<text text-anchor=\"start\" x=\"146\" y=\"-52.8\" font-family=\"Helvetica,sans-Serif\" font-size=\"14.00\">gini = 0.157</text>\r\n",
       "<text text-anchor=\"start\" x=\"140\" y=\"-37.8\" font-family=\"Helvetica,sans-Serif\" font-size=\"14.00\">samples = 35</text>\r\n",
       "<text text-anchor=\"start\" x=\"139\" y=\"-22.8\" font-family=\"Helvetica,sans-Serif\" font-size=\"14.00\">value = [3, 32]</text>\r\n",
       "<text text-anchor=\"start\" x=\"147\" y=\"-7.8\" font-family=\"Helvetica,sans-Serif\" font-size=\"14.00\">class = bad</text>\r\n",
       "</g>\r\n",
       "<!-- 2&#45;&gt;4 -->\r\n",
       "<g id=\"edge4\" class=\"edge\"><title>2&#45;&gt;4</title>\r\n",
       "<path fill=\"none\" stroke=\"black\" d=\"M143.331,-103.726C148.396,-95.0615 153.752,-85.8962 158.847,-77.1802\"/>\r\n",
       "<polygon fill=\"black\" stroke=\"black\" points=\"162.013,-78.6992 164.037,-68.2996 155.969,-75.167 162.013,-78.6992\"/>\r\n",
       "</g>\r\n",
       "<!-- 7 -->\r\n",
       "<g id=\"node8\" class=\"node\"><title>7</title>\r\n",
       "<path fill=\"#f0b48a\" stroke=\"black\" d=\"M495,-179.5C495,-179.5 406,-179.5 406,-179.5 400,-179.5 394,-173.5 394,-167.5 394,-167.5 394,-123.5 394,-123.5 394,-117.5 400,-111.5 406,-111.5 406,-111.5 495,-111.5 495,-111.5 501,-111.5 507,-117.5 507,-123.5 507,-123.5 507,-167.5 507,-167.5 507,-173.5 501,-179.5 495,-179.5\"/>\r\n",
       "<text text-anchor=\"start\" x=\"413\" y=\"-164.3\" font-family=\"Helvetica,sans-Serif\" font-size=\"14.00\">gini = 0.411</text>\r\n",
       "<text text-anchor=\"start\" x=\"407\" y=\"-149.3\" font-family=\"Helvetica,sans-Serif\" font-size=\"14.00\">samples = 38</text>\r\n",
       "<text text-anchor=\"start\" x=\"402\" y=\"-134.3\" font-family=\"Helvetica,sans-Serif\" font-size=\"14.00\">value = [27, 11]</text>\r\n",
       "<text text-anchor=\"start\" x=\"409.5\" y=\"-119.3\" font-family=\"Helvetica,sans-Serif\" font-size=\"14.00\">class = good</text>\r\n",
       "</g>\r\n",
       "<!-- 6&#45;&gt;7 -->\r\n",
       "<g id=\"edge7\" class=\"edge\"><title>6&#45;&gt;7</title>\r\n",
       "<path fill=\"none\" stroke=\"black\" d=\"M464.867,-222.907C462.855,-212.204 460.676,-200.615 458.637,-189.776\"/>\r\n",
       "<polygon fill=\"black\" stroke=\"black\" points=\"462.024,-188.848 456.737,-179.667 455.145,-190.142 462.024,-188.848\"/>\r\n",
       "</g>\r\n",
       "<!-- 8 -->\r\n",
       "<g id=\"node9\" class=\"node\"><title>8</title>\r\n",
       "<path fill=\"#e58139\" stroke=\"black\" d=\"M626,-179.5C626,-179.5 537,-179.5 537,-179.5 531,-179.5 525,-173.5 525,-167.5 525,-167.5 525,-123.5 525,-123.5 525,-117.5 531,-111.5 537,-111.5 537,-111.5 626,-111.5 626,-111.5 632,-111.5 638,-117.5 638,-123.5 638,-123.5 638,-167.5 638,-167.5 638,-173.5 632,-179.5 626,-179.5\"/>\r\n",
       "<text text-anchor=\"start\" x=\"552.5\" y=\"-164.3\" font-family=\"Helvetica,sans-Serif\" font-size=\"14.00\">gini = 0.0</text>\r\n",
       "<text text-anchor=\"start\" x=\"534\" y=\"-149.3\" font-family=\"Helvetica,sans-Serif\" font-size=\"14.00\">samples = 152</text>\r\n",
       "<text text-anchor=\"start\" x=\"533\" y=\"-134.3\" font-family=\"Helvetica,sans-Serif\" font-size=\"14.00\">value = [152, 0]</text>\r\n",
       "<text text-anchor=\"start\" x=\"540.5\" y=\"-119.3\" font-family=\"Helvetica,sans-Serif\" font-size=\"14.00\">class = good</text>\r\n",
       "</g>\r\n",
       "<!-- 6&#45;&gt;8 -->\r\n",
       "<g id=\"edge8\" class=\"edge\"><title>6&#45;&gt;8</title>\r\n",
       "<path fill=\"none\" stroke=\"black\" d=\"M510.317,-222.907C521.111,-211.321 532.871,-198.698 543.666,-187.111\"/>\r\n",
       "<polygon fill=\"black\" stroke=\"black\" points=\"546.345,-189.37 550.601,-179.667 541.223,-184.598 546.345,-189.37\"/>\r\n",
       "</g>\r\n",
       "</g>\r\n",
       "</svg>\r\n"
      ],
      "text/plain": [
       "<graphviz.files.Source at 0x1c004726d90>"
      ]
     },
     "execution_count": 85,
     "metadata": {},
     "output_type": "execute_result"
    }
   ],
   "source": [
    "import graphviz \n",
    "dot_data = tree.export_graphviz(\n",
    "                     clf, \n",
    "                     out_file=None, \n",
    "                     feature_names=X.columns,  \n",
    "                     class_names=['good','bad'],  \n",
    "                     filled=True, rounded=True,  \n",
    "                     special_characters=True)  \n",
    "graph = graphviz.Source(dot_data)  \n",
    "graph"
   ]
  },
  {
   "cell_type": "code",
   "execution_count": 87,
   "id": "784c5777",
   "metadata": {
    "ExecuteTime": {
     "end_time": "2022-02-24T03:09:14.894358Z",
     "start_time": "2022-02-24T03:09:14.885355Z"
    }
   },
   "outputs": [],
   "source": [
    "Rules = Get_Rules_From_Tree(clf,X)\n",
    "rules = []\n",
    "bad_rate = []\n",
    "num_good=[]\n",
    "num_bad = []\n",
    "for i in Rules:\n",
    "    rules.append(i.split(':')[0])\n",
    "    num_good.append(float(i.split(':')[1]))\n",
    "    num_bad.append(float(i.split(':')[2]))\n",
    "    bad_rate.append(float(i.split(':')[2])/(float(i.split(':')[1])+float(i.split(':')[2])))\n",
    "rules_report=pd.DataFrame()\n",
    "rules_report['rules'] = rules\n",
    "rules_report['num_good'] = num_good\n",
    "rules_report['num_bad'] = num_bad\n",
    "rules_report['bad_rate'] = bad_rate\n",
    "rules_report.to_csv('rules_report.csv')"
   ]
  }
 ],
 "metadata": {
  "kernelspec": {
   "display_name": "Python 3",
   "language": "python",
   "name": "python3"
  },
  "language_info": {
   "codemirror_mode": {
    "name": "ipython",
    "version": 3
   },
   "file_extension": ".py",
   "mimetype": "text/x-python",
   "name": "python",
   "nbconvert_exporter": "python",
   "pygments_lexer": "ipython3",
   "version": "3.8.8"
  },
  "varInspector": {
   "cols": {
    "lenName": 16,
    "lenType": 16,
    "lenVar": 40
   },
   "kernels_config": {
    "python": {
     "delete_cmd_postfix": "",
     "delete_cmd_prefix": "del ",
     "library": "var_list.py",
     "varRefreshCmd": "print(var_dic_list())"
    },
    "r": {
     "delete_cmd_postfix": ") ",
     "delete_cmd_prefix": "rm(",
     "library": "var_list.r",
     "varRefreshCmd": "cat(var_dic_list()) "
    }
   },
   "types_to_exclude": [
    "module",
    "function",
    "builtin_function_or_method",
    "instance",
    "_Feature"
   ],
   "window_display": false
  }
 },
 "nbformat": 4,
 "nbformat_minor": 5
}
