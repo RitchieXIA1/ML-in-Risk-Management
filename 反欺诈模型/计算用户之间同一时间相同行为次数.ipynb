{
 "cells": [
  {
   "cell_type": "code",
   "execution_count": 3,
   "id": "8c2680a9",
   "metadata": {
    "ExecuteTime": {
     "end_time": "2022-02-28T02:27:21.666122Z",
     "start_time": "2022-02-28T02:27:21.650112Z"
    }
   },
   "outputs": [],
   "source": [
    "import pandas as pd\n",
    "import datetime\n",
    "def Time2Str(tsm):\n",
    "    t1 = datetime.datetime.fromisoformat(tsm)\n",
    "    t0 = t1-datetime.timedelta(days=0, hours=1)\n",
    "    t2 = t1+datetime.timedelta(days=0, hours=1)\n",
    "    str1 = t0.strftime(\"%Y%m%d\")+'(' +str(t0.hour).rjust(2,'0')+'#'+str(t1.hour).rjust(2,'0')+')'\n",
    "    str2 = t1.strftime(\"%Y%m%d\")+'(' +str(t1.hour).rjust(2,'0')+'#'+str(t2.hour).rjust(2,'0')+')'\n",
    "    return str1+';'+str2\n"
   ]
  },
  {
   "cell_type": "code",
   "execution_count": 5,
   "id": "f4dd8d50",
   "metadata": {
    "ExecuteTime": {
     "end_time": "2022-02-28T02:27:43.343946Z",
     "start_time": "2022-02-28T02:27:43.329746Z"
    }
   },
   "outputs": [
    {
     "data": {
      "text/plain": [
       "'20211116(14#15);20211116(15#16)'"
      ]
     },
     "execution_count": 5,
     "metadata": {},
     "output_type": "execute_result"
    }
   ],
   "source": [
    "Time2Str('2021-11-16 15:51:39')"
   ]
  },
  {
   "cell_type": "code",
   "execution_count": 4,
   "id": "ac7cdc0c",
   "metadata": {
    "ExecuteTime": {
     "end_time": "2022-02-28T02:27:22.725157Z",
     "start_time": "2022-02-28T02:27:22.715155Z"
    }
   },
   "outputs": [],
   "source": [
    "df = pd.DataFrame({\n",
    "    'Buy':['BUY_03','BUY_02','BUY_01','BUY_04','BUY_03','BUY_02','BUY_01','BUY_04'],\n",
    "    'Times':['2021-11-16 00:03:32','2021-11-16 00:12:23','2021-11-16 00:22:07','2021-11-16 21:10:24',\\\n",
    "    '2021-11-16 21:18:05','2021-11-16 21:22:02','2021-11-16 21:42:57','2021-11-16 23:51:39'],\n",
    "    'Seller':['Y','Y','Y','E','E','E','E','Y']\n",
    "    })\n"
   ]
  },
  {
   "cell_type": "code",
   "execution_count": 6,
   "id": "2ec9f9c8",
   "metadata": {
    "ExecuteTime": {
     "end_time": "2022-02-28T02:28:38.076572Z",
     "start_time": "2022-02-28T02:28:38.062505Z"
    }
   },
   "outputs": [],
   "source": [
    "# 时间离散化\n",
    "df['tsm'] = df['Times'].apply(Time2Str)"
   ]
  },
  {
   "cell_type": "code",
   "execution_count": 7,
   "id": "a9b297bc",
   "metadata": {
    "ExecuteTime": {
     "end_time": "2022-02-28T02:29:10.117023Z",
     "start_time": "2022-02-28T02:29:10.092010Z"
    }
   },
   "outputs": [
    {
     "data": {
      "text/html": [
       "<div>\n",
       "<style scoped>\n",
       "    .dataframe tbody tr th:only-of-type {\n",
       "        vertical-align: middle;\n",
       "    }\n",
       "\n",
       "    .dataframe tbody tr th {\n",
       "        vertical-align: top;\n",
       "    }\n",
       "\n",
       "    .dataframe thead th {\n",
       "        text-align: right;\n",
       "    }\n",
       "</style>\n",
       "<table border=\"1\" class=\"dataframe\">\n",
       "  <thead>\n",
       "    <tr style=\"text-align: right;\">\n",
       "      <th></th>\n",
       "      <th>Buy</th>\n",
       "      <th>Times</th>\n",
       "      <th>Seller</th>\n",
       "      <th>tsm</th>\n",
       "    </tr>\n",
       "  </thead>\n",
       "  <tbody>\n",
       "    <tr>\n",
       "      <th>0</th>\n",
       "      <td>BUY_03</td>\n",
       "      <td>2021-11-16 00:03:32</td>\n",
       "      <td>Y</td>\n",
       "      <td>20211115(23#00);20211116(00#01)</td>\n",
       "    </tr>\n",
       "    <tr>\n",
       "      <th>1</th>\n",
       "      <td>BUY_02</td>\n",
       "      <td>2021-11-16 00:12:23</td>\n",
       "      <td>Y</td>\n",
       "      <td>20211115(23#00);20211116(00#01)</td>\n",
       "    </tr>\n",
       "    <tr>\n",
       "      <th>2</th>\n",
       "      <td>BUY_01</td>\n",
       "      <td>2021-11-16 00:22:07</td>\n",
       "      <td>Y</td>\n",
       "      <td>20211115(23#00);20211116(00#01)</td>\n",
       "    </tr>\n",
       "    <tr>\n",
       "      <th>3</th>\n",
       "      <td>BUY_04</td>\n",
       "      <td>2021-11-16 21:10:24</td>\n",
       "      <td>E</td>\n",
       "      <td>20211116(20#21);20211116(21#22)</td>\n",
       "    </tr>\n",
       "    <tr>\n",
       "      <th>4</th>\n",
       "      <td>BUY_03</td>\n",
       "      <td>2021-11-16 21:18:05</td>\n",
       "      <td>E</td>\n",
       "      <td>20211116(20#21);20211116(21#22)</td>\n",
       "    </tr>\n",
       "    <tr>\n",
       "      <th>5</th>\n",
       "      <td>BUY_02</td>\n",
       "      <td>2021-11-16 21:22:02</td>\n",
       "      <td>E</td>\n",
       "      <td>20211116(20#21);20211116(21#22)</td>\n",
       "    </tr>\n",
       "    <tr>\n",
       "      <th>6</th>\n",
       "      <td>BUY_01</td>\n",
       "      <td>2021-11-16 21:42:57</td>\n",
       "      <td>E</td>\n",
       "      <td>20211116(20#21);20211116(21#22)</td>\n",
       "    </tr>\n",
       "    <tr>\n",
       "      <th>7</th>\n",
       "      <td>BUY_04</td>\n",
       "      <td>2021-11-16 23:51:39</td>\n",
       "      <td>Y</td>\n",
       "      <td>20211116(22#23);20211116(23#00)</td>\n",
       "    </tr>\n",
       "  </tbody>\n",
       "</table>\n",
       "</div>"
      ],
      "text/plain": [
       "      Buy                Times Seller                              tsm\n",
       "0  BUY_03  2021-11-16 00:03:32      Y  20211115(23#00);20211116(00#01)\n",
       "1  BUY_02  2021-11-16 00:12:23      Y  20211115(23#00);20211116(00#01)\n",
       "2  BUY_01  2021-11-16 00:22:07      Y  20211115(23#00);20211116(00#01)\n",
       "3  BUY_04  2021-11-16 21:10:24      E  20211116(20#21);20211116(21#22)\n",
       "4  BUY_03  2021-11-16 21:18:05      E  20211116(20#21);20211116(21#22)\n",
       "5  BUY_02  2021-11-16 21:22:02      E  20211116(20#21);20211116(21#22)\n",
       "6  BUY_01  2021-11-16 21:42:57      E  20211116(20#21);20211116(21#22)\n",
       "7  BUY_04  2021-11-16 23:51:39      Y  20211116(22#23);20211116(23#00)"
      ]
     },
     "execution_count": 7,
     "metadata": {},
     "output_type": "execute_result"
    }
   ],
   "source": [
    "df"
   ]
  },
  {
   "cell_type": "code",
   "execution_count": 13,
   "id": "bfdd7ffc",
   "metadata": {
    "ExecuteTime": {
     "end_time": "2022-02-28T02:32:57.881734Z",
     "start_time": "2022-02-28T02:32:57.865852Z"
    }
   },
   "outputs": [
    {
     "name": "stdout",
     "output_type": "stream",
     "text": [
      "       Buy                Times Seller              tsm\n",
      "0   BUY_03  2021-11-16 00:03:32      Y  20211115(23#00)\n",
      "1   BUY_03  2021-11-16 00:03:32      Y  20211116(00#01)\n",
      "2   BUY_02  2021-11-16 00:12:23      Y  20211115(23#00)\n",
      "3   BUY_02  2021-11-16 00:12:23      Y  20211116(00#01)\n",
      "4   BUY_01  2021-11-16 00:22:07      Y  20211115(23#00)\n",
      "5   BUY_01  2021-11-16 00:22:07      Y  20211116(00#01)\n",
      "6   BUY_04  2021-11-16 21:10:24      E  20211116(20#21)\n",
      "7   BUY_04  2021-11-16 21:10:24      E  20211116(21#22)\n",
      "8   BUY_03  2021-11-16 21:18:05      E  20211116(20#21)\n",
      "9   BUY_03  2021-11-16 21:18:05      E  20211116(21#22)\n",
      "10  BUY_02  2021-11-16 21:22:02      E  20211116(20#21)\n",
      "11  BUY_02  2021-11-16 21:22:02      E  20211116(21#22)\n",
      "12  BUY_01  2021-11-16 21:42:57      E  20211116(20#21)\n",
      "13  BUY_01  2021-11-16 21:42:57      E  20211116(21#22)\n",
      "14  BUY_04  2021-11-16 23:51:39      Y  20211116(22#23)\n",
      "15  BUY_04  2021-11-16 23:51:39      Y  20211116(23#00)\n"
     ]
    }
   ],
   "source": [
    "df = df.set_index([\"Buy\", \"Times\",'Seller'])[\"tsm\"].str.split(\";\", expand=True)\\\n",
    "    .stack().reset_index(drop=True, level=-1).reset_index().rename(columns={0: \"tsm\"})\n",
    "print(df)"
   ]
  },
  {
   "cell_type": "code",
   "execution_count": 19,
   "id": "3a9b78b0",
   "metadata": {
    "ExecuteTime": {
     "end_time": "2022-02-28T02:38:31.023825Z",
     "start_time": "2022-02-28T02:38:30.980006Z"
    }
   },
   "outputs": [
    {
     "name": "stderr",
     "output_type": "stream",
     "text": [
      "<ipython-input-19-3d6d32a84a4f>:3: SettingWithCopyWarning: \n",
      "A value is trying to be set on a copy of a slice from a DataFrame.\n",
      "Try using .loc[row_indexer,col_indexer] = value instead\n",
      "\n",
      "See the caveats in the documentation: https://pandas.pydata.org/pandas-docs/stable/user_guide/indexing.html#returning-a-view-versus-a-copy\n",
      "  df_1['diff'] = (pd.to_datetime(df_0['Times_x'])-\\\n"
     ]
    }
   ],
   "source": [
    "df_0 = pd.merge(df,df,on =['Seller','tsm'],how='inner')\n",
    "df_1 = df_0[df_0['Buy_x']!=df_0['Buy_y']]\n",
    "df_1['diff'] = (pd.to_datetime(df_0['Times_x'])-\\\n",
    "pd.to_datetime(df_0['Times_y'])).dt.seconds/3600/24"
   ]
  },
  {
   "cell_type": "code",
   "execution_count": 23,
   "id": "c1f77167",
   "metadata": {
    "ExecuteTime": {
     "end_time": "2022-02-28T02:40:46.623537Z",
     "start_time": "2022-02-28T02:40:46.611234Z"
    }
   },
   "outputs": [
    {
     "data": {
      "text/plain": [
       "1     0.993854\n",
       "2     0.987095\n",
       "3     0.006146\n",
       "5     0.993241\n",
       "6     0.012905\n",
       "7     0.006759\n",
       "10    0.993854\n",
       "11    0.987095\n",
       "12    0.006146\n",
       "14    0.993241\n",
       "15    0.012905\n",
       "16    0.006759\n",
       "19    0.994664\n",
       "20    0.991921\n",
       "21    0.977396\n",
       "22    0.005336\n",
       "24    0.997257\n",
       "25    0.982731\n",
       "26    0.008079\n",
       "27    0.002743\n",
       "29    0.985475\n",
       "30    0.022604\n",
       "31    0.017269\n",
       "32    0.014525\n",
       "35    0.994664\n",
       "36    0.991921\n",
       "37    0.977396\n",
       "38    0.005336\n",
       "40    0.997257\n",
       "41    0.982731\n",
       "42    0.008079\n",
       "43    0.002743\n",
       "45    0.985475\n",
       "46    0.022604\n",
       "47    0.017269\n",
       "48    0.014525\n",
       "Name: diff, dtype: float64"
      ]
     },
     "execution_count": 23,
     "metadata": {},
     "output_type": "execute_result"
    }
   ],
   "source": [
    "df_1['diff']"
   ]
  },
  {
   "cell_type": "code",
   "execution_count": 24,
   "id": "40f81387",
   "metadata": {
    "ExecuteTime": {
     "end_time": "2022-02-28T02:41:13.980781Z",
     "start_time": "2022-02-28T02:41:13.947776Z"
    }
   },
   "outputs": [
    {
     "data": {
      "text/html": [
       "<div>\n",
       "<style scoped>\n",
       "    .dataframe tbody tr th:only-of-type {\n",
       "        vertical-align: middle;\n",
       "    }\n",
       "\n",
       "    .dataframe tbody tr th {\n",
       "        vertical-align: top;\n",
       "    }\n",
       "\n",
       "    .dataframe thead th {\n",
       "        text-align: right;\n",
       "    }\n",
       "</style>\n",
       "<table border=\"1\" class=\"dataframe\">\n",
       "  <thead>\n",
       "    <tr style=\"text-align: right;\">\n",
       "      <th></th>\n",
       "      <th>Buy_x</th>\n",
       "      <th>Buy_y</th>\n",
       "      <th>Seller</th>\n",
       "    </tr>\n",
       "  </thead>\n",
       "  <tbody>\n",
       "    <tr>\n",
       "      <th>0</th>\n",
       "      <td>BUY_01</td>\n",
       "      <td>BUY_02</td>\n",
       "      <td>2</td>\n",
       "    </tr>\n",
       "    <tr>\n",
       "      <th>1</th>\n",
       "      <td>BUY_01</td>\n",
       "      <td>BUY_03</td>\n",
       "      <td>2</td>\n",
       "    </tr>\n",
       "    <tr>\n",
       "      <th>2</th>\n",
       "      <td>BUY_01</td>\n",
       "      <td>BUY_04</td>\n",
       "      <td>1</td>\n",
       "    </tr>\n",
       "    <tr>\n",
       "      <th>3</th>\n",
       "      <td>BUY_02</td>\n",
       "      <td>BUY_01</td>\n",
       "      <td>2</td>\n",
       "    </tr>\n",
       "    <tr>\n",
       "      <th>4</th>\n",
       "      <td>BUY_02</td>\n",
       "      <td>BUY_03</td>\n",
       "      <td>2</td>\n",
       "    </tr>\n",
       "    <tr>\n",
       "      <th>5</th>\n",
       "      <td>BUY_02</td>\n",
       "      <td>BUY_04</td>\n",
       "      <td>1</td>\n",
       "    </tr>\n",
       "    <tr>\n",
       "      <th>6</th>\n",
       "      <td>BUY_03</td>\n",
       "      <td>BUY_01</td>\n",
       "      <td>2</td>\n",
       "    </tr>\n",
       "    <tr>\n",
       "      <th>7</th>\n",
       "      <td>BUY_03</td>\n",
       "      <td>BUY_02</td>\n",
       "      <td>2</td>\n",
       "    </tr>\n",
       "    <tr>\n",
       "      <th>8</th>\n",
       "      <td>BUY_03</td>\n",
       "      <td>BUY_04</td>\n",
       "      <td>1</td>\n",
       "    </tr>\n",
       "    <tr>\n",
       "      <th>9</th>\n",
       "      <td>BUY_04</td>\n",
       "      <td>BUY_01</td>\n",
       "      <td>1</td>\n",
       "    </tr>\n",
       "    <tr>\n",
       "      <th>10</th>\n",
       "      <td>BUY_04</td>\n",
       "      <td>BUY_02</td>\n",
       "      <td>1</td>\n",
       "    </tr>\n",
       "    <tr>\n",
       "      <th>11</th>\n",
       "      <td>BUY_04</td>\n",
       "      <td>BUY_03</td>\n",
       "      <td>1</td>\n",
       "    </tr>\n",
       "  </tbody>\n",
       "</table>\n",
       "</div>"
      ],
      "text/plain": [
       "     Buy_x   Buy_y  Seller\n",
       "0   BUY_01  BUY_02       2\n",
       "1   BUY_01  BUY_03       2\n",
       "2   BUY_01  BUY_04       1\n",
       "3   BUY_02  BUY_01       2\n",
       "4   BUY_02  BUY_03       2\n",
       "5   BUY_02  BUY_04       1\n",
       "6   BUY_03  BUY_01       2\n",
       "7   BUY_03  BUY_02       2\n",
       "8   BUY_03  BUY_04       1\n",
       "9   BUY_04  BUY_01       1\n",
       "10  BUY_04  BUY_02       1\n",
       "11  BUY_04  BUY_03       1"
      ]
     },
     "execution_count": 24,
     "metadata": {},
     "output_type": "execute_result"
    }
   ],
   "source": [
    "df_1.groupby(['Buy_x','Buy_y']).agg({'Seller': pd.Series.nunique}).reset_index()"
   ]
  },
  {
   "cell_type": "markdown",
   "id": "de268d14",
   "metadata": {},
   "source": [
    "# 接下来再分别计算X的总次数Y的总次数，XY的并集和交集，再计算一下相似度。如果相似度非常高那么是欺诈的可能性很大"
   ]
  },
  {
   "cell_type": "code",
   "execution_count": null,
   "id": "c9cac507",
   "metadata": {},
   "outputs": [],
   "source": []
  }
 ],
 "metadata": {
  "kernelspec": {
   "display_name": "Python 3",
   "language": "python",
   "name": "python3"
  },
  "language_info": {
   "codemirror_mode": {
    "name": "ipython",
    "version": 3
   },
   "file_extension": ".py",
   "mimetype": "text/x-python",
   "name": "python",
   "nbconvert_exporter": "python",
   "pygments_lexer": "ipython3",
   "version": "3.8.8"
  },
  "varInspector": {
   "cols": {
    "lenName": 16,
    "lenType": 16,
    "lenVar": 40
   },
   "kernels_config": {
    "python": {
     "delete_cmd_postfix": "",
     "delete_cmd_prefix": "del ",
     "library": "var_list.py",
     "varRefreshCmd": "print(var_dic_list())"
    },
    "r": {
     "delete_cmd_postfix": ") ",
     "delete_cmd_prefix": "rm(",
     "library": "var_list.r",
     "varRefreshCmd": "cat(var_dic_list()) "
    }
   },
   "types_to_exclude": [
    "module",
    "function",
    "builtin_function_or_method",
    "instance",
    "_Feature"
   ],
   "window_display": false
  }
 },
 "nbformat": 4,
 "nbformat_minor": 5
}
