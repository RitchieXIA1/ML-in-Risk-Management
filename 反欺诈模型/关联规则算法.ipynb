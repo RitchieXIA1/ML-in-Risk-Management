{
 "cells": [
  {
   "cell_type": "code",
   "execution_count": 14,
   "id": "4f2ab353",
   "metadata": {
    "ExecuteTime": {
     "end_time": "2022-03-07T02:02:15.339161Z",
     "start_time": "2022-03-07T02:02:15.333160Z"
    }
   },
   "outputs": [],
   "source": [
    "from mlxtend.frequent_patterns import apriori,association_rules\n",
    "import pandas as pd"
   ]
  },
  {
   "cell_type": "code",
   "execution_count": 55,
   "id": "66bd85a3",
   "metadata": {
    "ExecuteTime": {
     "end_time": "2022-03-07T02:15:55.904105Z",
     "start_time": "2022-03-07T02:15:55.895103Z"
    }
   },
   "outputs": [],
   "source": [
    "warning_list = [['逾期','小贷过多','入不敷出'],\n",
    "\t        ['入不敷出','小贷过多','房租','低学历'],\n",
    "\t        ['房租','逾期','近期到期笔数过多','小贷过多'],\n",
    "\t        ['近期到期笔数过多','入不敷出','逾期','存在司法记录'],\n",
    "\t        ['房租','入不敷出','地址变动频繁','小贷过多']]\n",
    "warning_df = pd.DataFrame(warning_list)"
   ]
  },
  {
   "cell_type": "code",
   "execution_count": 56,
   "id": "d9cfb86e",
   "metadata": {
    "ExecuteTime": {
     "end_time": "2022-03-07T02:15:56.266651Z",
     "start_time": "2022-03-07T02:15:56.258649Z"
    }
   },
   "outputs": [
    {
     "data": {
      "text/html": [
       "<div>\n",
       "<style scoped>\n",
       "    .dataframe tbody tr th:only-of-type {\n",
       "        vertical-align: middle;\n",
       "    }\n",
       "\n",
       "    .dataframe tbody tr th {\n",
       "        vertical-align: top;\n",
       "    }\n",
       "\n",
       "    .dataframe thead th {\n",
       "        text-align: right;\n",
       "    }\n",
       "</style>\n",
       "<table border=\"1\" class=\"dataframe\">\n",
       "  <thead>\n",
       "    <tr style=\"text-align: right;\">\n",
       "      <th></th>\n",
       "      <th>0</th>\n",
       "      <th>1</th>\n",
       "      <th>2</th>\n",
       "      <th>3</th>\n",
       "    </tr>\n",
       "  </thead>\n",
       "  <tbody>\n",
       "    <tr>\n",
       "      <th>0</th>\n",
       "      <td>逾期</td>\n",
       "      <td>小贷过多</td>\n",
       "      <td>入不敷出</td>\n",
       "      <td>None</td>\n",
       "    </tr>\n",
       "    <tr>\n",
       "      <th>1</th>\n",
       "      <td>入不敷出</td>\n",
       "      <td>小贷过多</td>\n",
       "      <td>房租</td>\n",
       "      <td>低学历</td>\n",
       "    </tr>\n",
       "    <tr>\n",
       "      <th>2</th>\n",
       "      <td>房租</td>\n",
       "      <td>逾期</td>\n",
       "      <td>近期到期笔数过多</td>\n",
       "      <td>小贷过多</td>\n",
       "    </tr>\n",
       "    <tr>\n",
       "      <th>3</th>\n",
       "      <td>近期到期笔数过多</td>\n",
       "      <td>入不敷出</td>\n",
       "      <td>逾期</td>\n",
       "      <td>存在司法记录</td>\n",
       "    </tr>\n",
       "    <tr>\n",
       "      <th>4</th>\n",
       "      <td>房租</td>\n",
       "      <td>入不敷出</td>\n",
       "      <td>地址变动频繁</td>\n",
       "      <td>小贷过多</td>\n",
       "    </tr>\n",
       "  </tbody>\n",
       "</table>\n",
       "</div>"
      ],
      "text/plain": [
       "          0     1         2       3\n",
       "0        逾期  小贷过多      入不敷出    None\n",
       "1      入不敷出  小贷过多        房租     低学历\n",
       "2        房租    逾期  近期到期笔数过多    小贷过多\n",
       "3  近期到期笔数过多  入不敷出        逾期  存在司法记录\n",
       "4        房租  入不敷出    地址变动频繁    小贷过多"
      ]
     },
     "execution_count": 56,
     "metadata": {},
     "output_type": "execute_result"
    }
   ],
   "source": [
    "warning_df"
   ]
  },
  {
   "cell_type": "code",
   "execution_count": 57,
   "id": "4b9eea1d",
   "metadata": {
    "ExecuteTime": {
     "end_time": "2022-03-07T02:15:56.643162Z",
     "start_time": "2022-03-07T02:15:56.625156Z"
    }
   },
   "outputs": [],
   "source": [
    "def deal(data):\n",
    "\treturn data.dropna().tolist()\n",
    "df_arr = warning_df.apply(deal,axis=1).tolist()\t"
   ]
  },
  {
   "cell_type": "code",
   "execution_count": 58,
   "id": "0aebe095",
   "metadata": {
    "ExecuteTime": {
     "end_time": "2022-03-07T02:15:57.215136Z",
     "start_time": "2022-03-07T02:15:57.211134Z"
    }
   },
   "outputs": [
    {
     "data": {
      "text/plain": [
       "[['逾期', '小贷过多', '入不敷出'],\n",
       " ['入不敷出', '小贷过多', '房租', '低学历'],\n",
       " ['房租', '逾期', '近期到期笔数过多', '小贷过多'],\n",
       " ['近期到期笔数过多', '入不敷出', '逾期', '存在司法记录'],\n",
       " ['房租', '入不敷出', '地址变动频繁', '小贷过多']]"
      ]
     },
     "execution_count": 58,
     "metadata": {},
     "output_type": "execute_result"
    }
   ],
   "source": [
    "df_arr"
   ]
  },
  {
   "cell_type": "code",
   "execution_count": 59,
   "id": "cc39628a",
   "metadata": {
    "ExecuteTime": {
     "end_time": "2022-03-07T02:15:57.657164Z",
     "start_time": "2022-03-07T02:15:57.642159Z"
    }
   },
   "outputs": [],
   "source": [
    "from mlxtend.preprocessing import TransactionEncoder\t# 传入模型的数据需要满足特定的格式，可以用这种方法来转换为bool值，也可以用函数转换为0、1\n",
    " \n",
    "te = TransactionEncoder()\t# 定义模型\n",
    "df_tf = te.fit_transform(df_arr)\n",
    "# df_01 = df_tf.astype('int')\t\t\t# 将 True、False 转换为 0、1 # 官方给的其它方法\n",
    "# df_name = te.inverse_transform(df_tf)\t\t# 将编码值再次转化为原来的商品名\n",
    "df = pd.DataFrame(df_tf,columns=te.columns_)"
   ]
  },
  {
   "cell_type": "code",
   "execution_count": 60,
   "id": "d7c283b2",
   "metadata": {
    "ExecuteTime": {
     "end_time": "2022-03-07T02:15:58.114986Z",
     "start_time": "2022-03-07T02:15:58.099984Z"
    }
   },
   "outputs": [
    {
     "data": {
      "text/html": [
       "<div>\n",
       "<style scoped>\n",
       "    .dataframe tbody tr th:only-of-type {\n",
       "        vertical-align: middle;\n",
       "    }\n",
       "\n",
       "    .dataframe tbody tr th {\n",
       "        vertical-align: top;\n",
       "    }\n",
       "\n",
       "    .dataframe thead th {\n",
       "        text-align: right;\n",
       "    }\n",
       "</style>\n",
       "<table border=\"1\" class=\"dataframe\">\n",
       "  <thead>\n",
       "    <tr style=\"text-align: right;\">\n",
       "      <th></th>\n",
       "      <th>低学历</th>\n",
       "      <th>入不敷出</th>\n",
       "      <th>地址变动频繁</th>\n",
       "      <th>存在司法记录</th>\n",
       "      <th>小贷过多</th>\n",
       "      <th>房租</th>\n",
       "      <th>近期到期笔数过多</th>\n",
       "      <th>逾期</th>\n",
       "    </tr>\n",
       "  </thead>\n",
       "  <tbody>\n",
       "    <tr>\n",
       "      <th>0</th>\n",
       "      <td>False</td>\n",
       "      <td>True</td>\n",
       "      <td>False</td>\n",
       "      <td>False</td>\n",
       "      <td>True</td>\n",
       "      <td>False</td>\n",
       "      <td>False</td>\n",
       "      <td>True</td>\n",
       "    </tr>\n",
       "    <tr>\n",
       "      <th>1</th>\n",
       "      <td>True</td>\n",
       "      <td>True</td>\n",
       "      <td>False</td>\n",
       "      <td>False</td>\n",
       "      <td>True</td>\n",
       "      <td>True</td>\n",
       "      <td>False</td>\n",
       "      <td>False</td>\n",
       "    </tr>\n",
       "    <tr>\n",
       "      <th>2</th>\n",
       "      <td>False</td>\n",
       "      <td>False</td>\n",
       "      <td>False</td>\n",
       "      <td>False</td>\n",
       "      <td>True</td>\n",
       "      <td>True</td>\n",
       "      <td>True</td>\n",
       "      <td>True</td>\n",
       "    </tr>\n",
       "    <tr>\n",
       "      <th>3</th>\n",
       "      <td>False</td>\n",
       "      <td>True</td>\n",
       "      <td>False</td>\n",
       "      <td>True</td>\n",
       "      <td>False</td>\n",
       "      <td>False</td>\n",
       "      <td>True</td>\n",
       "      <td>True</td>\n",
       "    </tr>\n",
       "    <tr>\n",
       "      <th>4</th>\n",
       "      <td>False</td>\n",
       "      <td>True</td>\n",
       "      <td>True</td>\n",
       "      <td>False</td>\n",
       "      <td>True</td>\n",
       "      <td>True</td>\n",
       "      <td>False</td>\n",
       "      <td>False</td>\n",
       "    </tr>\n",
       "  </tbody>\n",
       "</table>\n",
       "</div>"
      ],
      "text/plain": [
       "     低学历   入不敷出  地址变动频繁  存在司法记录   小贷过多     房租  近期到期笔数过多     逾期\n",
       "0  False   True   False   False   True  False     False   True\n",
       "1   True   True   False   False   True   True     False  False\n",
       "2  False  False   False   False   True   True      True   True\n",
       "3  False   True   False    True  False  False      True   True\n",
       "4  False   True    True   False   True   True     False  False"
      ]
     },
     "execution_count": 60,
     "metadata": {},
     "output_type": "execute_result"
    }
   ],
   "source": [
    "df"
   ]
  },
  {
   "cell_type": "code",
   "execution_count": 61,
   "id": "89b25b1f",
   "metadata": {
    "ExecuteTime": {
     "end_time": "2022-03-07T02:15:58.475985Z",
     "start_time": "2022-03-07T02:15:58.469983Z"
    }
   },
   "outputs": [],
   "source": [
    "#按照0.5的支持度求频繁项集\n",
    "frequent_itemsets = apriori(df,min_support=0.5,use_colnames=True)\n",
    "frequent_itemsets.sort_values(by='support',ascending=False,inplace=True)"
   ]
  },
  {
   "cell_type": "code",
   "execution_count": 62,
   "id": "4d63bafc",
   "metadata": {
    "ExecuteTime": {
     "end_time": "2022-03-07T02:15:59.241027Z",
     "start_time": "2022-03-07T02:15:59.223023Z"
    }
   },
   "outputs": [
    {
     "data": {
      "text/html": [
       "<div>\n",
       "<style scoped>\n",
       "    .dataframe tbody tr th:only-of-type {\n",
       "        vertical-align: middle;\n",
       "    }\n",
       "\n",
       "    .dataframe tbody tr th {\n",
       "        vertical-align: top;\n",
       "    }\n",
       "\n",
       "    .dataframe thead th {\n",
       "        text-align: right;\n",
       "    }\n",
       "</style>\n",
       "<table border=\"1\" class=\"dataframe\">\n",
       "  <thead>\n",
       "    <tr style=\"text-align: right;\">\n",
       "      <th></th>\n",
       "      <th>support</th>\n",
       "      <th>itemsets</th>\n",
       "    </tr>\n",
       "  </thead>\n",
       "  <tbody>\n",
       "    <tr>\n",
       "      <th>0</th>\n",
       "      <td>0.8</td>\n",
       "      <td>(入不敷出)</td>\n",
       "    </tr>\n",
       "    <tr>\n",
       "      <th>1</th>\n",
       "      <td>0.8</td>\n",
       "      <td>(小贷过多)</td>\n",
       "    </tr>\n",
       "    <tr>\n",
       "      <th>2</th>\n",
       "      <td>0.6</td>\n",
       "      <td>(房租)</td>\n",
       "    </tr>\n",
       "    <tr>\n",
       "      <th>3</th>\n",
       "      <td>0.6</td>\n",
       "      <td>(逾期)</td>\n",
       "    </tr>\n",
       "    <tr>\n",
       "      <th>4</th>\n",
       "      <td>0.6</td>\n",
       "      <td>(小贷过多, 入不敷出)</td>\n",
       "    </tr>\n",
       "    <tr>\n",
       "      <th>5</th>\n",
       "      <td>0.6</td>\n",
       "      <td>(小贷过多, 房租)</td>\n",
       "    </tr>\n",
       "  </tbody>\n",
       "</table>\n",
       "</div>"
      ],
      "text/plain": [
       "   support      itemsets\n",
       "0      0.8        (入不敷出)\n",
       "1      0.8        (小贷过多)\n",
       "2      0.6          (房租)\n",
       "3      0.6          (逾期)\n",
       "4      0.6  (小贷过多, 入不敷出)\n",
       "5      0.6    (小贷过多, 房租)"
      ]
     },
     "execution_count": 62,
     "metadata": {},
     "output_type": "execute_result"
    }
   ],
   "source": [
    "frequent_itemsets"
   ]
  },
  {
   "cell_type": "code",
   "execution_count": 63,
   "id": "3b5858e0",
   "metadata": {
    "ExecuteTime": {
     "end_time": "2022-03-07T02:15:59.889655Z",
     "start_time": "2022-03-07T02:15:59.871651Z"
    }
   },
   "outputs": [],
   "source": [
    "association_rule = association_rules(frequent_itemsets,metric='confidence',min_threshold=0.6)\t# metric可以有很多的度量选项，返回的表列名都可以作为参数\n",
    "association_rule.sort_values(by='leverage',ascending=False,inplace=True)    #关联规则可以按leverage排序\n",
    "# print(association_rule)"
   ]
  },
  {
   "cell_type": "code",
   "execution_count": 64,
   "id": "49bd87ee",
   "metadata": {
    "ExecuteTime": {
     "end_time": "2022-03-07T02:16:00.618585Z",
     "start_time": "2022-03-07T02:16:00.591574Z"
    }
   },
   "outputs": [
    {
     "data": {
      "text/html": [
       "<div>\n",
       "<style scoped>\n",
       "    .dataframe tbody tr th:only-of-type {\n",
       "        vertical-align: middle;\n",
       "    }\n",
       "\n",
       "    .dataframe tbody tr th {\n",
       "        vertical-align: top;\n",
       "    }\n",
       "\n",
       "    .dataframe thead th {\n",
       "        text-align: right;\n",
       "    }\n",
       "</style>\n",
       "<table border=\"1\" class=\"dataframe\">\n",
       "  <thead>\n",
       "    <tr style=\"text-align: right;\">\n",
       "      <th></th>\n",
       "      <th>antecedents</th>\n",
       "      <th>consequents</th>\n",
       "      <th>antecedent support</th>\n",
       "      <th>consequent support</th>\n",
       "      <th>support</th>\n",
       "      <th>confidence</th>\n",
       "      <th>lift</th>\n",
       "      <th>leverage</th>\n",
       "      <th>conviction</th>\n",
       "    </tr>\n",
       "  </thead>\n",
       "  <tbody>\n",
       "    <tr>\n",
       "      <th>2</th>\n",
       "      <td>(小贷过多)</td>\n",
       "      <td>(房租)</td>\n",
       "      <td>0.8</td>\n",
       "      <td>0.6</td>\n",
       "      <td>0.6</td>\n",
       "      <td>0.75</td>\n",
       "      <td>1.2500</td>\n",
       "      <td>0.12</td>\n",
       "      <td>1.6</td>\n",
       "    </tr>\n",
       "    <tr>\n",
       "      <th>3</th>\n",
       "      <td>(房租)</td>\n",
       "      <td>(小贷过多)</td>\n",
       "      <td>0.6</td>\n",
       "      <td>0.8</td>\n",
       "      <td>0.6</td>\n",
       "      <td>1.00</td>\n",
       "      <td>1.2500</td>\n",
       "      <td>0.12</td>\n",
       "      <td>inf</td>\n",
       "    </tr>\n",
       "    <tr>\n",
       "      <th>0</th>\n",
       "      <td>(小贷过多)</td>\n",
       "      <td>(入不敷出)</td>\n",
       "      <td>0.8</td>\n",
       "      <td>0.8</td>\n",
       "      <td>0.6</td>\n",
       "      <td>0.75</td>\n",
       "      <td>0.9375</td>\n",
       "      <td>-0.04</td>\n",
       "      <td>0.8</td>\n",
       "    </tr>\n",
       "    <tr>\n",
       "      <th>1</th>\n",
       "      <td>(入不敷出)</td>\n",
       "      <td>(小贷过多)</td>\n",
       "      <td>0.8</td>\n",
       "      <td>0.8</td>\n",
       "      <td>0.6</td>\n",
       "      <td>0.75</td>\n",
       "      <td>0.9375</td>\n",
       "      <td>-0.04</td>\n",
       "      <td>0.8</td>\n",
       "    </tr>\n",
       "  </tbody>\n",
       "</table>\n",
       "</div>"
      ],
      "text/plain": [
       "  antecedents consequents  antecedent support  consequent support  support  confidence    lift  leverage  conviction\n",
       "2      (小贷过多)        (房租)                 0.8                 0.6      0.6        0.75  1.2500      0.12         1.6\n",
       "3        (房租)      (小贷过多)                 0.6                 0.8      0.6        1.00  1.2500      0.12         inf\n",
       "0      (小贷过多)      (入不敷出)                 0.8                 0.8      0.6        0.75  0.9375     -0.04         0.8\n",
       "1      (入不敷出)      (小贷过多)                 0.8                 0.8      0.6        0.75  0.9375     -0.04         0.8"
      ]
     },
     "execution_count": 64,
     "metadata": {},
     "output_type": "execute_result"
    }
   ],
   "source": [
    "association_rule"
   ]
  },
  {
   "cell_type": "code",
   "execution_count": null,
   "id": "3902ccd5",
   "metadata": {},
   "outputs": [],
   "source": []
  }
 ],
 "metadata": {
  "kernelspec": {
   "display_name": "Python 3",
   "language": "python",
   "name": "python3"
  },
  "language_info": {
   "codemirror_mode": {
    "name": "ipython",
    "version": 3
   },
   "file_extension": ".py",
   "mimetype": "text/x-python",
   "name": "python",
   "nbconvert_exporter": "python",
   "pygments_lexer": "ipython3",
   "version": "3.8.8"
  },
  "varInspector": {
   "cols": {
    "lenName": 16,
    "lenType": 16,
    "lenVar": 40
   },
   "kernels_config": {
    "python": {
     "delete_cmd_postfix": "",
     "delete_cmd_prefix": "del ",
     "library": "var_list.py",
     "varRefreshCmd": "print(var_dic_list())"
    },
    "r": {
     "delete_cmd_postfix": ") ",
     "delete_cmd_prefix": "rm(",
     "library": "var_list.r",
     "varRefreshCmd": "cat(var_dic_list()) "
    }
   },
   "types_to_exclude": [
    "module",
    "function",
    "builtin_function_or_method",
    "instance",
    "_Feature"
   ],
   "window_display": false
  }
 },
 "nbformat": 4,
 "nbformat_minor": 5
}
