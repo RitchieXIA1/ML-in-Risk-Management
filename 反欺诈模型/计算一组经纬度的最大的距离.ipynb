{
 "cells": [
  {
   "cell_type": "code",
   "execution_count": 12,
   "id": "6144ea81",
   "metadata": {
    "ExecuteTime": {
     "end_time": "2022-08-23T02:40:05.027817Z",
     "start_time": "2022-08-23T02:40:04.989277Z"
    }
   },
   "outputs": [],
   "source": [
    "\n",
    "from math import radians, cos, sin, asin, sqrt\n",
    "import numpy as np\n",
    "from tqdm import tqdm\n",
    "\n",
    "def get_max_index(la_ls, lo_ls, la_point, lo_point):\n",
    "    max_index = 0\n",
    "    max_dis=0\n",
    "    for i in range(len(la_ls)):\n",
    "        tmp_dis = havesine(la_ls[i], lo_ls[i], la_point, lo_point)\n",
    "        if tmp_dis > max_dis:\n",
    "            max_index = i\n",
    "        else:\n",
    "            continue\n",
    "    return max_index\n",
    "\n",
    "\n",
    "def havesine(lon1, lat1, lon2, lat2):\n",
    "    \"\"\"\n",
    "    :param lon1: eg. 116.8066522020\n",
    "    :param lat1: eg. 39.6057017009\n",
    "    :param lon2: eg. 121.6406127537\n",
    "    :param lat2: eg. 31.0152769039\n",
    "    :return: diatance units: meters eg. 1050657.1943454074\n",
    "    \"\"\"\n",
    "    lon1, lat1, lon2, lat2 = map(radians, [lon1, lat1, lon2, lat2])\n",
    "    dlon = lon2 - lon1\n",
    "    dlat = lat2 - lat1\n",
    "    a = sin(dlat / 2) ** 2 + cos(lat1) * cos(lat2) * sin(dlon / 2) ** 2\n",
    "    c = 2 * asin(sqrt(a))\n",
    "    r = 6371  # Earth radius\n",
    "    return c * r * 1000\n",
    "\n",
    "\n",
    "def get_max_distance(coordinate):\n",
    "    \"\"\"\n",
    "    :param coordinate: list eg. ['39.60570,116.806','29.60570,126.806',]\n",
    "    :return: diatance units: meters\n",
    "    \"\"\"\n",
    "    coords = set(coordinate)\n",
    "    if len(coords) < 2:\n",
    "        return 0\n",
    "    la_ls = list()\n",
    "    lo_ls = list()\n",
    "    for i in tqdm(coords):\n",
    "        la_ls.append(float(i.split(',')[0]))\n",
    "        lo_ls.append(float(i.split(',')[1]))\n",
    "        la_mean = np.array(la_ls).mean()\n",
    "        lo_mean = np.array(lo_ls).mean()\n",
    "        max_to_mean_index = get_max_index(la_ls, lo_ls, la_mean, lo_mean)\n",
    "        max_to_max_index = get_max_index(la_ls, lo_ls, la_ls[max_to_mean_index], lo_ls[max_to_mean_index])\n",
    "        max_distence = havesine(la_ls[max_to_max_index], lo_ls[max_to_max_index], la_ls[max_to_mean_index],\n",
    "                                lo_ls[max_to_mean_index])\n",
    "    return max_distence"
   ]
  },
  {
   "cell_type": "code",
   "execution_count": 13,
   "id": "4dcdd8e2",
   "metadata": {
    "ExecuteTime": {
     "end_time": "2022-08-23T02:40:13.539087Z",
     "start_time": "2022-08-23T02:40:08.667395Z"
    }
   },
   "outputs": [
    {
     "name": "stderr",
     "output_type": "stream",
     "text": [
      "100%|█████████████████████████████████████████████████████████████████████████████| 2000/2000 [00:04<00:00, 422.14it/s]"
     ]
    },
    {
     "name": "stdout",
     "output_type": "stream",
     "text": [
      "distiance 675351.2915850359 cost time 4.862130641937256\n"
     ]
    },
    {
     "name": "stderr",
     "output_type": "stream",
     "text": [
      "\n"
     ]
    }
   ],
   "source": [
    "import random \n",
    "import time\n",
    "coords = list()\n",
    "for k in range(2000):\n",
    "    coords.append('{},{}'.format(random.uniform(20,30)\n",
    "                                 ,random.uniform(110,130)))\n",
    "begin = time.time()\n",
    "max_dis= get_max_distance(coords)\n",
    "end = time.time()\n",
    "print('distiance',max_dis,'cost time',end-begin)"
   ]
  },
  {
   "cell_type": "code",
   "execution_count": null,
   "id": "1be8199f",
   "metadata": {},
   "outputs": [],
   "source": [
    "\n"
   ]
  },
  {
   "cell_type": "code",
   "execution_count": null,
   "id": "f9118a3a",
   "metadata": {},
   "outputs": [],
   "source": []
  }
 ],
 "metadata": {
  "kernelspec": {
   "display_name": "Python 3",
   "language": "python",
   "name": "python3"
  },
  "language_info": {
   "codemirror_mode": {
    "name": "ipython",
    "version": 3
   },
   "file_extension": ".py",
   "mimetype": "text/x-python",
   "name": "python",
   "nbconvert_exporter": "python",
   "pygments_lexer": "ipython3",
   "version": "3.8.8"
  },
  "varInspector": {
   "cols": {
    "lenName": 16,
    "lenType": 16,
    "lenVar": 40
   },
   "kernels_config": {
    "python": {
     "delete_cmd_postfix": "",
     "delete_cmd_prefix": "del ",
     "library": "var_list.py",
     "varRefreshCmd": "print(var_dic_list())"
    },
    "r": {
     "delete_cmd_postfix": ") ",
     "delete_cmd_prefix": "rm(",
     "library": "var_list.r",
     "varRefreshCmd": "cat(var_dic_list()) "
    }
   },
   "types_to_exclude": [
    "module",
    "function",
    "builtin_function_or_method",
    "instance",
    "_Feature"
   ],
   "window_display": false
  }
 },
 "nbformat": 4,
 "nbformat_minor": 5
}
