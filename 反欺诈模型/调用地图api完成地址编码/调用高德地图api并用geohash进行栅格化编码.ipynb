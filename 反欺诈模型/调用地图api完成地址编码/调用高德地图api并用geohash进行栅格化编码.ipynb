{
 "cells": [
  {
   "cell_type": "code",
   "execution_count": 1,
   "id": "f0aa305c",
   "metadata": {},
   "outputs": [],
   "source": [
    "import json\n",
    "import requests\n",
    "import geohash\n",
    "import pandas as pd"
   ]
  },
  {
   "cell_type": "markdown",
   "id": "52222fc0",
   "metadata": {},
   "source": [
    "geohash原理\n",
    "https://blog.csdn.net/zhufenghao/article/details/85568340?ops_request_misc=&request_id=&biz_id=102&utm_term=geohash%E4%BB%A3%E7%A0%81python&utm_medium=distribute.pc_search_result.none-task-blog-2~all~sobaiduweb~default-3-85568340.142^v9^pc_search_result_control_group,157^v4^control&spm=1018.2226.3001.4187"
   ]
  },
  {
   "cell_type": "code",
   "execution_count": 102,
   "id": "c223fd2c",
   "metadata": {},
   "outputs": [],
   "source": [
    "def get_location_x_y(address):\n",
    "    url = 'https://restapi.amap.com/v3/geocode/geo?parameters'\n",
    "    parameters = {\n",
    "        'key':'353a73428cfd9ff2d2750223f9525618',#这里是我申请的key，个人key每天查询有上限\n",
    "        'address':'%s' % address\n",
    "    }\n",
    "    page_resource = requests.get(url,params=parameters)\n",
    "    text = page_resource.text       #获得数据是json格式\n",
    "    data = json.loads(text)         #把数据变成字典格式\n",
    "    location = data[\"geocodes\"][0]['location']\n",
    "    longitude = float(location.split(',')[0])\n",
    "    latitude = float(location.split(',')[1])\n",
    "    return [longitude,latitude]"
   ]
  },
  {
   "cell_type": "code",
   "execution_count": 100,
   "id": "b70613b1",
   "metadata": {},
   "outputs": [],
   "source": [
    "def get_location_x_y(address):\n",
    "    url = 'https://restapi.amap.com/v3/geocode/geo?parameters'#这里是我申请的key，个人key每天查询上限是500个\n",
    "    parameters = {\n",
    "        'key':'353a73428cfd9ff2d2750223f9525618',\n",
    "        'address':'%s' % address\n",
    "    }\n",
    "    page_resource = requests.get(url,params=parameters)\n",
    "    text = page_resource.text       #获得数据是json格式\n",
    "    data = json.loads(text)         #把数据变成字典格式\n",
    "    location = data[\"geocodes\"][0]['location']\n",
    "    return location"
   ]
  },
  {
   "cell_type": "code",
   "execution_count": 10,
   "id": "750ac4ec",
   "metadata": {},
   "outputs": [],
   "source": [
    "def get_geohash(location):\n",
    "    longitude,latitude = location\n",
    "    code = geohash.encode(longitude,latitude,precision=6)\n",
    "    return code"
   ]
  },
  {
   "cell_type": "markdown",
   "id": "64692ebe",
   "metadata": {},
   "source": [
    "正大广场和悦樘公寓不是一个地方，浙桥路99号和悦樘公寓是一个地方"
   ]
  },
  {
   "cell_type": "code",
   "execution_count": 81,
   "id": "2d1eca3a",
   "metadata": {},
   "outputs": [
    {
     "name": "stdout",
     "output_type": "stream",
     "text": [
      "121.499004 31.236444\n",
      "uxypyz\n"
     ]
    }
   ],
   "source": [
    "x,y = get_location_x_y('上海市浦东新区正大广场')\n",
    "print(x,y)\n",
    "code = geohash.encode(x,y,precision=6)\n",
    "print(code)"
   ]
  },
  {
   "cell_type": "markdown",
   "id": "9505cdb9",
   "metadata": {},
   "source": [
    "可以看出来，如果相同地址的不同表达通过地图api还是能识别出来的，并且也会被编码到同一栅格里"
   ]
  },
  {
   "cell_type": "code",
   "execution_count": 45,
   "id": "85849265",
   "metadata": {},
   "outputs": [
    {
     "name": "stdout",
     "output_type": "stream",
     "text": [
      "121.598806 31.251504\n",
      "uxypzp\n"
     ]
    }
   ],
   "source": [
    "x,y = get_location_x_y('上海市浦东新区悦樘公寓')\n",
    "print(x,y)\n",
    "code = geohash.encode(x,y,precision=6)\n",
    "print(code)"
   ]
  },
  {
   "cell_type": "code",
   "execution_count": 44,
   "id": "61f509a6",
   "metadata": {},
   "outputs": [
    {
     "name": "stdout",
     "output_type": "stream",
     "text": [
      "121.598916 31.251536\n",
      "uxypzp\n"
     ]
    }
   ],
   "source": [
    "x,y = get_location_x_y('上海市浦东新区浙桥路99号')\n",
    "print(x,y)\n",
    "code = geohash.encode(x,y,precision=6)\n",
    "print(code)"
   ]
  },
  {
   "cell_type": "code",
   "execution_count": 2,
   "id": "d7ccb661",
   "metadata": {},
   "outputs": [
    {
     "name": "stderr",
     "output_type": "stream",
     "text": [
      "C:\\ProgramData\\Anaconda3\\lib\\site-packages\\openpyxl\\styles\\stylesheet.py:226: UserWarning: Workbook contains no default style, apply openpyxl's default\n",
      "  warn(\"Workbook contains no default style, apply openpyxl's default\")\n"
     ]
    }
   ],
   "source": [
    "df = pd.read_excel('中小企业板.xlsx')"
   ]
  },
  {
   "cell_type": "code",
   "execution_count": 91,
   "id": "266d0a97",
   "metadata": {},
   "outputs": [],
   "source": [
    "df['经纬度'] = df['注册地址'].apply(get_location_x_y)"
   ]
  },
  {
   "cell_type": "code",
   "execution_count": 92,
   "id": "083cdea2",
   "metadata": {},
   "outputs": [],
   "source": [
    "df['geocode'] = df['经纬度'].apply(get_geohash)"
   ]
  },
  {
   "cell_type": "code",
   "execution_count": 93,
   "id": "0d451f1b",
   "metadata": {},
   "outputs": [],
   "source": [
    "result = df[['公司代码','公司全称','经纬度','geocode']]\n",
    "result = result.groupby(['geocode'])['公司全称'].agg([list,'count'])\n",
    "result = result.sort_values('count',ascending=False)"
   ]
  },
  {
   "cell_type": "code",
   "execution_count": 177,
   "id": "6cef6cef",
   "metadata": {},
   "outputs": [
    {
     "data": {
      "text/html": [
       "<div>\n",
       "<style scoped>\n",
       "    .dataframe tbody tr th:only-of-type {\n",
       "        vertical-align: middle;\n",
       "    }\n",
       "\n",
       "    .dataframe tbody tr th {\n",
       "        vertical-align: top;\n",
       "    }\n",
       "\n",
       "    .dataframe thead th {\n",
       "        text-align: right;\n",
       "    }\n",
       "</style>\n",
       "<table border=\"1\" class=\"dataframe\">\n",
       "  <thead>\n",
       "    <tr style=\"text-align: right;\">\n",
       "      <th></th>\n",
       "      <th>list</th>\n",
       "      <th>count</th>\n",
       "    </tr>\n",
       "    <tr>\n",
       "      <th>geocode</th>\n",
       "      <th></th>\n",
       "      <th></th>\n",
       "    </tr>\n",
       "  </thead>\n",
       "  <tbody>\n",
       "    <tr>\n",
       "      <th>uxbpbz</th>\n",
       "      <td>[大族激光科技产业集团股份有限公司, 深圳市宝鹰建设控股集团股份有限公司, 深圳劲嘉集团股份...</td>\n",
       "      <td>22</td>\n",
       "    </tr>\n",
       "    <tr>\n",
       "      <th>uxbpcp</th>\n",
       "      <td>[深圳市同洲电子股份有限公司, 深圳市怡亚通供应链股份有限公司, 深圳市飞马国际供应链股份有...</td>\n",
       "      <td>20</td>\n",
       "    </tr>\n",
       "    <tr>\n",
       "      <th>uxbpbx</th>\n",
       "      <td>[深圳拓邦股份有限公司, 深圳市远望谷信息技术股份有限公司, 深圳市芭田生态工程股份有限公司...</td>\n",
       "      <td>12</td>\n",
       "    </tr>\n",
       "    <tr>\n",
       "      <th>uxbpcr</th>\n",
       "      <td>[深圳莱宝高科技股份有限公司, 深圳市天威视讯股份有限公司, 深圳市兆新能源股份有限公司, ...</td>\n",
       "      <td>10</td>\n",
       "    </tr>\n",
       "    <tr>\n",
       "      <th>uxbryp</th>\n",
       "      <td>[广东水电二局股份有限公司, 广州市广百股份有限公司, 融捷股份有限公司, 广州普邦园林股份...</td>\n",
       "      <td>9</td>\n",
       "    </tr>\n",
       "    <tr>\n",
       "      <th>...</th>\n",
       "      <td>...</td>\n",
       "      <td>...</td>\n",
       "    </tr>\n",
       "    <tr>\n",
       "      <th>uxcxvx</th>\n",
       "      <td>[恺英网络股份有限公司]</td>\n",
       "      <td>1</td>\n",
       "    </tr>\n",
       "    <tr>\n",
       "      <th>uxcxyp</th>\n",
       "      <td>[云南罗平锌电股份有限公司]</td>\n",
       "      <td>1</td>\n",
       "    </tr>\n",
       "    <tr>\n",
       "      <th>uxvzvr</th>\n",
       "      <td>[成都云图控股股份有限公司]</td>\n",
       "      <td>1</td>\n",
       "    </tr>\n",
       "    <tr>\n",
       "      <th>uxvzvp</th>\n",
       "      <td>[上海柘中集团股份有限公司]</td>\n",
       "      <td>1</td>\n",
       "    </tr>\n",
       "    <tr>\n",
       "      <th>urvpcr</th>\n",
       "      <td>[海南瑞泽新型建材股份有限公司]</td>\n",
       "      <td>1</td>\n",
       "    </tr>\n",
       "  </tbody>\n",
       "</table>\n",
       "<p>569 rows × 2 columns</p>\n",
       "</div>"
      ],
      "text/plain": [
       "                                                      list  count\n",
       "geocode                                                          \n",
       "uxbpbz   [大族激光科技产业集团股份有限公司, 深圳市宝鹰建设控股集团股份有限公司, 深圳劲嘉集团股份...     22\n",
       "uxbpcp   [深圳市同洲电子股份有限公司, 深圳市怡亚通供应链股份有限公司, 深圳市飞马国际供应链股份有...     20\n",
       "uxbpbx   [深圳拓邦股份有限公司, 深圳市远望谷信息技术股份有限公司, 深圳市芭田生态工程股份有限公司...     12\n",
       "uxbpcr   [深圳莱宝高科技股份有限公司, 深圳市天威视讯股份有限公司, 深圳市兆新能源股份有限公司, ...     10\n",
       "uxbryp   [广东水电二局股份有限公司, 广州市广百股份有限公司, 融捷股份有限公司, 广州普邦园林股份...      9\n",
       "...                                                    ...    ...\n",
       "uxcxvx                                        [恺英网络股份有限公司]      1\n",
       "uxcxyp                                      [云南罗平锌电股份有限公司]      1\n",
       "uxvzvr                                      [成都云图控股股份有限公司]      1\n",
       "uxvzvp                                      [上海柘中集团股份有限公司]      1\n",
       "urvpcr                                    [海南瑞泽新型建材股份有限公司]      1\n",
       "\n",
       "[569 rows x 2 columns]"
      ]
     },
     "execution_count": 177,
     "metadata": {},
     "output_type": "execute_result"
    }
   ],
   "source": [
    "result"
   ]
  },
  {
   "cell_type": "markdown",
   "id": "a3fdbe96",
   "metadata": {},
   "source": [
    "为了检验效果，这里把公司数量最多的那个栅格拿出来观察一下是否是在同一片区域，发现基本上都是以深圳开头，可以肯定这个栅格位置是在深圳"
   ]
  },
  {
   "cell_type": "code",
   "execution_count": 178,
   "id": "8b5e2f33",
   "metadata": {},
   "outputs": [
    {
     "data": {
      "text/html": [
       "<div>\n",
       "<style scoped>\n",
       "    .dataframe tbody tr th:only-of-type {\n",
       "        vertical-align: middle;\n",
       "    }\n",
       "\n",
       "    .dataframe tbody tr th {\n",
       "        vertical-align: top;\n",
       "    }\n",
       "\n",
       "    .dataframe thead th {\n",
       "        text-align: right;\n",
       "    }\n",
       "</style>\n",
       "<table border=\"1\" class=\"dataframe\">\n",
       "  <thead>\n",
       "    <tr style=\"text-align: right;\">\n",
       "      <th></th>\n",
       "      <th>公司代码</th>\n",
       "      <th>公司全称</th>\n",
       "      <th>经纬度</th>\n",
       "      <th>geocode</th>\n",
       "    </tr>\n",
       "  </thead>\n",
       "  <tbody>\n",
       "    <tr>\n",
       "      <th>7</th>\n",
       "      <td>2008</td>\n",
       "      <td>大族激光科技产业集团股份有限公司</td>\n",
       "      <td>[113.935373, 22.540436]</td>\n",
       "      <td>uxbpbz</td>\n",
       "    </tr>\n",
       "    <tr>\n",
       "      <th>45</th>\n",
       "      <td>2047</td>\n",
       "      <td>深圳市宝鹰建设控股集团股份有限公司</td>\n",
       "      <td>[113.993427, 22.537359]</td>\n",
       "      <td>uxbpbz</td>\n",
       "    </tr>\n",
       "    <tr>\n",
       "      <th>187</th>\n",
       "      <td>2191</td>\n",
       "      <td>深圳劲嘉集团股份有限公司</td>\n",
       "      <td>[113.937511, 22.543597]</td>\n",
       "      <td>uxbpbz</td>\n",
       "    </tr>\n",
       "    <tr>\n",
       "      <th>289</th>\n",
       "      <td>2294</td>\n",
       "      <td>深圳信立泰药业股份有限公司</td>\n",
       "      <td>[114.030136, 22.535875]</td>\n",
       "      <td>uxbpbz</td>\n",
       "    </tr>\n",
       "    <tr>\n",
       "      <th>296</th>\n",
       "      <td>2301</td>\n",
       "      <td>深圳齐心集团股份有限公司</td>\n",
       "      <td>[114.083175, 22.539629]</td>\n",
       "      <td>uxbpbz</td>\n",
       "    </tr>\n",
       "    <tr>\n",
       "      <th>311</th>\n",
       "      <td>2316</td>\n",
       "      <td>深圳亚联发展科技股份有限公司</td>\n",
       "      <td>[113.941975, 22.535004]</td>\n",
       "      <td>uxbpbz</td>\n",
       "    </tr>\n",
       "    <tr>\n",
       "      <th>336</th>\n",
       "      <td>2341</td>\n",
       "      <td>深圳市新纶科技股份有限公司</td>\n",
       "      <td>[113.931076, 22.542173]</td>\n",
       "      <td>uxbpbz</td>\n",
       "    </tr>\n",
       "    <tr>\n",
       "      <th>346</th>\n",
       "      <td>2351</td>\n",
       "      <td>深圳市漫步者科技股份有限公司</td>\n",
       "      <td>[113.933759, 22.540582]</td>\n",
       "      <td>uxbpbz</td>\n",
       "    </tr>\n",
       "    <tr>\n",
       "      <th>397</th>\n",
       "      <td>2402</td>\n",
       "      <td>深圳和而泰智能控制股份有限公司</td>\n",
       "      <td>[113.954321, 22.537689]</td>\n",
       "      <td>uxbpbz</td>\n",
       "    </tr>\n",
       "    <tr>\n",
       "      <th>411</th>\n",
       "      <td>2416</td>\n",
       "      <td>深圳市爱施德股份有限公司</td>\n",
       "      <td>[114.029932, 22.534519]</td>\n",
       "      <td>uxbpbz</td>\n",
       "    </tr>\n",
       "    <tr>\n",
       "      <th>613</th>\n",
       "      <td>2620</td>\n",
       "      <td>深圳瑞和建筑装饰股份有限公司</td>\n",
       "      <td>[114.121078, 22.543226]</td>\n",
       "      <td>uxbpbz</td>\n",
       "    </tr>\n",
       "    <tr>\n",
       "      <th>750</th>\n",
       "      <td>2763</td>\n",
       "      <td>深圳汇洁集团股份有限公司</td>\n",
       "      <td>[114.071685, 22.541802]</td>\n",
       "      <td>uxbpbz</td>\n",
       "    </tr>\n",
       "    <tr>\n",
       "      <th>755</th>\n",
       "      <td>2769</td>\n",
       "      <td>深圳市普路通供应链管理股份有限公司</td>\n",
       "      <td>[114.071685, 22.541802]</td>\n",
       "      <td>uxbpbz</td>\n",
       "    </tr>\n",
       "    <tr>\n",
       "      <th>761</th>\n",
       "      <td>2775</td>\n",
       "      <td>深圳文科园林股份有限公司</td>\n",
       "      <td>[114.071685, 22.541802]</td>\n",
       "      <td>uxbpbz</td>\n",
       "    </tr>\n",
       "    <tr>\n",
       "      <th>781</th>\n",
       "      <td>2797</td>\n",
       "      <td>第一创业证券股份有限公司</td>\n",
       "      <td>[114.051801, 22.53641]</td>\n",
       "      <td>uxbpbz</td>\n",
       "    </tr>\n",
       "    <tr>\n",
       "      <th>794</th>\n",
       "      <td>2811</td>\n",
       "      <td>深圳市郑中设计股份有限公司</td>\n",
       "      <td>[114.057148, 22.534135]</td>\n",
       "      <td>uxbpbz</td>\n",
       "    </tr>\n",
       "    <tr>\n",
       "      <th>804</th>\n",
       "      <td>2822</td>\n",
       "      <td>深圳市中装建设集团股份有限公司</td>\n",
       "      <td>[114.114633, 22.543149]</td>\n",
       "      <td>uxbpbz</td>\n",
       "    </tr>\n",
       "    <tr>\n",
       "      <th>888</th>\n",
       "      <td>2912</td>\n",
       "      <td>深圳市中新赛克科技股份有限公司</td>\n",
       "      <td>[113.948557, 22.534616]</td>\n",
       "      <td>uxbpbz</td>\n",
       "    </tr>\n",
       "    <tr>\n",
       "      <th>892</th>\n",
       "      <td>2917</td>\n",
       "      <td>深圳市金奥博科技股份有限公司</td>\n",
       "      <td>[113.942608, 22.53604]</td>\n",
       "      <td>uxbpbz</td>\n",
       "    </tr>\n",
       "    <tr>\n",
       "      <th>928</th>\n",
       "      <td>2957</td>\n",
       "      <td>深圳科瑞技术股份有限公司</td>\n",
       "      <td>[113.94008, 22.541297]</td>\n",
       "      <td>uxbpbz</td>\n",
       "    </tr>\n",
       "    <tr>\n",
       "      <th>942</th>\n",
       "      <td>2972</td>\n",
       "      <td>深圳科安达电子科技股份有限公司</td>\n",
       "      <td>[114.070666, 22.541528]</td>\n",
       "      <td>uxbpbz</td>\n",
       "    </tr>\n",
       "    <tr>\n",
       "      <th>958</th>\n",
       "      <td>3816</td>\n",
       "      <td>中国广核电力股份有限公司</td>\n",
       "      <td>[114.067046, 22.541651]</td>\n",
       "      <td>uxbpbz</td>\n",
       "    </tr>\n",
       "  </tbody>\n",
       "</table>\n",
       "</div>"
      ],
      "text/plain": [
       "     公司代码               公司全称                      经纬度 geocode\n",
       "7    2008   大族激光科技产业集团股份有限公司  [113.935373, 22.540436]  uxbpbz\n",
       "45   2047  深圳市宝鹰建设控股集团股份有限公司  [113.993427, 22.537359]  uxbpbz\n",
       "187  2191       深圳劲嘉集团股份有限公司  [113.937511, 22.543597]  uxbpbz\n",
       "289  2294      深圳信立泰药业股份有限公司  [114.030136, 22.535875]  uxbpbz\n",
       "296  2301       深圳齐心集团股份有限公司  [114.083175, 22.539629]  uxbpbz\n",
       "311  2316     深圳亚联发展科技股份有限公司  [113.941975, 22.535004]  uxbpbz\n",
       "336  2341      深圳市新纶科技股份有限公司  [113.931076, 22.542173]  uxbpbz\n",
       "346  2351     深圳市漫步者科技股份有限公司  [113.933759, 22.540582]  uxbpbz\n",
       "397  2402    深圳和而泰智能控制股份有限公司  [113.954321, 22.537689]  uxbpbz\n",
       "411  2416       深圳市爱施德股份有限公司  [114.029932, 22.534519]  uxbpbz\n",
       "613  2620     深圳瑞和建筑装饰股份有限公司  [114.121078, 22.543226]  uxbpbz\n",
       "750  2763       深圳汇洁集团股份有限公司  [114.071685, 22.541802]  uxbpbz\n",
       "755  2769  深圳市普路通供应链管理股份有限公司  [114.071685, 22.541802]  uxbpbz\n",
       "761  2775       深圳文科园林股份有限公司  [114.071685, 22.541802]  uxbpbz\n",
       "781  2797       第一创业证券股份有限公司   [114.051801, 22.53641]  uxbpbz\n",
       "794  2811      深圳市郑中设计股份有限公司  [114.057148, 22.534135]  uxbpbz\n",
       "804  2822    深圳市中装建设集团股份有限公司  [114.114633, 22.543149]  uxbpbz\n",
       "888  2912    深圳市中新赛克科技股份有限公司  [113.948557, 22.534616]  uxbpbz\n",
       "892  2917     深圳市金奥博科技股份有限公司   [113.942608, 22.53604]  uxbpbz\n",
       "928  2957       深圳科瑞技术股份有限公司   [113.94008, 22.541297]  uxbpbz\n",
       "942  2972    深圳科安达电子科技股份有限公司  [114.070666, 22.541528]  uxbpbz\n",
       "958  3816       中国广核电力股份有限公司  [114.067046, 22.541651]  uxbpbz"
      ]
     },
     "execution_count": 178,
     "metadata": {},
     "output_type": "execute_result"
    }
   ],
   "source": [
    "df_result = df.loc[df['公司全称'].isin(result['list'][0]),['公司代码','公司全称','经纬度','geocode']]\n",
    "df_result_gaode= df_result\n",
    "df_result"
   ]
  },
  {
   "cell_type": "code",
   "execution_count": 175,
   "id": "18ddd1cd",
   "metadata": {},
   "outputs": [],
   "source": [
    "#高德地图可视化需要改成符合要求的格式\n",
    "df_result_gaode['经纬度']=df_result_gaode['经纬度'].apply(lambda x: str(x)[1:-1])\n",
    "df_result_gaode.to_csv('demo.csv')"
   ]
  },
  {
   "cell_type": "markdown",
   "id": "518ec62b",
   "metadata": {},
   "source": [
    "输出的结果可以导出成csv文件，用高德地图的可视化工具展示，需要在高德的开发者工作台完成"
   ]
  },
  {
   "cell_type": "markdown",
   "id": "c8b7cdc8",
   "metadata": {},
   "source": [
    "![avatar](高德可视化.png)"
   ]
  },
  {
   "cell_type": "markdown",
   "id": "dd5a76d0",
   "metadata": {},
   "source": [
    "也可以用folium库来完成，会有些卡"
   ]
  },
  {
   "cell_type": "code",
   "execution_count": 112,
   "id": "19816deb",
   "metadata": {},
   "outputs": [],
   "source": [
    "import folium"
   ]
  },
  {
   "cell_type": "code",
   "execution_count": 170,
   "id": "0a95b2b3",
   "metadata": {},
   "outputs": [],
   "source": [
    "# 按照深圳的经纬度生成地图，把之前表中的经纬度加到地图上。注意folium默认纬度在前，经度在后。\n",
    "shenzhen_map = folium.Map(location=[22.53, 114], zoom_start=12)\n",
    "# display national map\n",
    "for i,j in df_result['经纬度']:\n",
    "    folium.Marker(\n",
    "    [j, i],\n",
    "    popup='Camp Muir').add_to(shenzhen_map)"
   ]
  },
  {
   "cell_type": "code",
   "execution_count": 171,
   "id": "f257bb89",
   "metadata": {},
   "outputs": [
    {
     "data": {
      "text/html": [
       "<div style=\"width:100%;\"><div style=\"position:relative;width:100%;height:0;padding-bottom:60%;\"><span style=\"color:#565656\">Make this Notebook Trusted to load map: File -> Trust Notebook</span><iframe src=\"about:blank\" style=\"position:absolute;width:100%;height:100%;left:0;top:0;border:none !important;\" data-html=%3C%21DOCTYPE%20html%3E%0A%3Chead%3E%20%20%20%20%0A%20%20%20%20%3Cmeta%20http-equiv%3D%22content-type%22%20content%3D%22text/html%3B%20charset%3DUTF-8%22%20/%3E%0A%20%20%20%20%0A%20%20%20%20%20%20%20%20%3Cscript%3E%0A%20%20%20%20%20%20%20%20%20%20%20%20L_NO_TOUCH%20%3D%20false%3B%0A%20%20%20%20%20%20%20%20%20%20%20%20L_DISABLE_3D%20%3D%20false%3B%0A%20%20%20%20%20%20%20%20%3C/script%3E%0A%20%20%20%20%0A%20%20%20%20%3Cstyle%3Ehtml%2C%20body%20%7Bwidth%3A%20100%25%3Bheight%3A%20100%25%3Bmargin%3A%200%3Bpadding%3A%200%3B%7D%3C/style%3E%0A%20%20%20%20%3Cstyle%3E%23map%20%7Bposition%3Aabsolute%3Btop%3A0%3Bbottom%3A0%3Bright%3A0%3Bleft%3A0%3B%7D%3C/style%3E%0A%20%20%20%20%3Cscript%20src%3D%22https%3A//cdn.jsdelivr.net/npm/leaflet%401.6.0/dist/leaflet.js%22%3E%3C/script%3E%0A%20%20%20%20%3Cscript%20src%3D%22https%3A//code.jquery.com/jquery-1.12.4.min.js%22%3E%3C/script%3E%0A%20%20%20%20%3Cscript%20src%3D%22https%3A//maxcdn.bootstrapcdn.com/bootstrap/3.2.0/js/bootstrap.min.js%22%3E%3C/script%3E%0A%20%20%20%20%3Cscript%20src%3D%22https%3A//cdnjs.cloudflare.com/ajax/libs/Leaflet.awesome-markers/2.0.2/leaflet.awesome-markers.js%22%3E%3C/script%3E%0A%20%20%20%20%3Clink%20rel%3D%22stylesheet%22%20href%3D%22https%3A//cdn.jsdelivr.net/npm/leaflet%401.6.0/dist/leaflet.css%22/%3E%0A%20%20%20%20%3Clink%20rel%3D%22stylesheet%22%20href%3D%22https%3A//maxcdn.bootstrapcdn.com/bootstrap/3.2.0/css/bootstrap.min.css%22/%3E%0A%20%20%20%20%3Clink%20rel%3D%22stylesheet%22%20href%3D%22https%3A//maxcdn.bootstrapcdn.com/bootstrap/3.2.0/css/bootstrap-theme.min.css%22/%3E%0A%20%20%20%20%3Clink%20rel%3D%22stylesheet%22%20href%3D%22https%3A//maxcdn.bootstrapcdn.com/font-awesome/4.6.3/css/font-awesome.min.css%22/%3E%0A%20%20%20%20%3Clink%20rel%3D%22stylesheet%22%20href%3D%22https%3A//cdnjs.cloudflare.com/ajax/libs/Leaflet.awesome-markers/2.0.2/leaflet.awesome-markers.css%22/%3E%0A%20%20%20%20%3Clink%20rel%3D%22stylesheet%22%20href%3D%22https%3A//cdn.jsdelivr.net/gh/python-visualization/folium/folium/templates/leaflet.awesome.rotate.min.css%22/%3E%0A%20%20%20%20%0A%20%20%20%20%20%20%20%20%20%20%20%20%3Cmeta%20name%3D%22viewport%22%20content%3D%22width%3Ddevice-width%2C%0A%20%20%20%20%20%20%20%20%20%20%20%20%20%20%20%20initial-scale%3D1.0%2C%20maximum-scale%3D1.0%2C%20user-scalable%3Dno%22%20/%3E%0A%20%20%20%20%20%20%20%20%20%20%20%20%3Cstyle%3E%0A%20%20%20%20%20%20%20%20%20%20%20%20%20%20%20%20%23map_f517431e07e94faab5c12829349465c5%20%7B%0A%20%20%20%20%20%20%20%20%20%20%20%20%20%20%20%20%20%20%20%20position%3A%20relative%3B%0A%20%20%20%20%20%20%20%20%20%20%20%20%20%20%20%20%20%20%20%20width%3A%20100.0%25%3B%0A%20%20%20%20%20%20%20%20%20%20%20%20%20%20%20%20%20%20%20%20height%3A%20100.0%25%3B%0A%20%20%20%20%20%20%20%20%20%20%20%20%20%20%20%20%20%20%20%20left%3A%200.0%25%3B%0A%20%20%20%20%20%20%20%20%20%20%20%20%20%20%20%20%20%20%20%20top%3A%200.0%25%3B%0A%20%20%20%20%20%20%20%20%20%20%20%20%20%20%20%20%7D%0A%20%20%20%20%20%20%20%20%20%20%20%20%3C/style%3E%0A%20%20%20%20%20%20%20%20%0A%3C/head%3E%0A%3Cbody%3E%20%20%20%20%0A%20%20%20%20%0A%20%20%20%20%20%20%20%20%20%20%20%20%3Cdiv%20class%3D%22folium-map%22%20id%3D%22map_f517431e07e94faab5c12829349465c5%22%20%3E%3C/div%3E%0A%20%20%20%20%20%20%20%20%0A%3C/body%3E%0A%3Cscript%3E%20%20%20%20%0A%20%20%20%20%0A%20%20%20%20%20%20%20%20%20%20%20%20var%20map_f517431e07e94faab5c12829349465c5%20%3D%20L.map%28%0A%20%20%20%20%20%20%20%20%20%20%20%20%20%20%20%20%22map_f517431e07e94faab5c12829349465c5%22%2C%0A%20%20%20%20%20%20%20%20%20%20%20%20%20%20%20%20%7B%0A%20%20%20%20%20%20%20%20%20%20%20%20%20%20%20%20%20%20%20%20center%3A%20%5B22.53%2C%20114.0%5D%2C%0A%20%20%20%20%20%20%20%20%20%20%20%20%20%20%20%20%20%20%20%20crs%3A%20L.CRS.EPSG3857%2C%0A%20%20%20%20%20%20%20%20%20%20%20%20%20%20%20%20%20%20%20%20zoom%3A%2012%2C%0A%20%20%20%20%20%20%20%20%20%20%20%20%20%20%20%20%20%20%20%20zoomControl%3A%20true%2C%0A%20%20%20%20%20%20%20%20%20%20%20%20%20%20%20%20%20%20%20%20preferCanvas%3A%20false%2C%0A%20%20%20%20%20%20%20%20%20%20%20%20%20%20%20%20%7D%0A%20%20%20%20%20%20%20%20%20%20%20%20%29%3B%0A%0A%20%20%20%20%20%20%20%20%20%20%20%20%0A%0A%20%20%20%20%20%20%20%20%0A%20%20%20%20%0A%20%20%20%20%20%20%20%20%20%20%20%20var%20tile_layer_5c050f32668b433bb1245f06f3e97e3f%20%3D%20L.tileLayer%28%0A%20%20%20%20%20%20%20%20%20%20%20%20%20%20%20%20%22https%3A//%7Bs%7D.tile.openstreetmap.org/%7Bz%7D/%7Bx%7D/%7By%7D.png%22%2C%0A%20%20%20%20%20%20%20%20%20%20%20%20%20%20%20%20%7B%22attribution%22%3A%20%22Data%20by%20%5Cu0026copy%3B%20%5Cu003ca%20href%3D%5C%22http%3A//openstreetmap.org%5C%22%5Cu003eOpenStreetMap%5Cu003c/a%5Cu003e%2C%20under%20%5Cu003ca%20href%3D%5C%22http%3A//www.openstreetmap.org/copyright%5C%22%5Cu003eODbL%5Cu003c/a%5Cu003e.%22%2C%20%22detectRetina%22%3A%20false%2C%20%22maxNativeZoom%22%3A%2018%2C%20%22maxZoom%22%3A%2018%2C%20%22minZoom%22%3A%200%2C%20%22noWrap%22%3A%20false%2C%20%22opacity%22%3A%201%2C%20%22subdomains%22%3A%20%22abc%22%2C%20%22tms%22%3A%20false%7D%0A%20%20%20%20%20%20%20%20%20%20%20%20%29.addTo%28map_f517431e07e94faab5c12829349465c5%29%3B%0A%20%20%20%20%20%20%20%20%0A%20%20%20%20%0A%20%20%20%20%20%20%20%20%20%20%20%20var%20marker_6a49f9ed475649478cf4a6cd6acf6db7%20%3D%20L.marker%28%0A%20%20%20%20%20%20%20%20%20%20%20%20%20%20%20%20%5B22.540436%2C%20113.935373%5D%2C%0A%20%20%20%20%20%20%20%20%20%20%20%20%20%20%20%20%7B%7D%0A%20%20%20%20%20%20%20%20%20%20%20%20%29.addTo%28map_f517431e07e94faab5c12829349465c5%29%3B%0A%20%20%20%20%20%20%20%20%0A%20%20%20%20%0A%20%20%20%20%20%20%20%20var%20popup_ae6f42b47f5f4fb0951f0a7be2a54d0f%20%3D%20L.popup%28%7B%22maxWidth%22%3A%20%22100%25%22%7D%29%3B%0A%0A%20%20%20%20%20%20%20%20%0A%20%20%20%20%20%20%20%20%20%20%20%20var%20html_45dfbddf225849419891264982d6a8b6%20%3D%20%24%28%60%3Cdiv%20id%3D%22html_45dfbddf225849419891264982d6a8b6%22%20style%3D%22width%3A%20100.0%25%3B%20height%3A%20100.0%25%3B%22%3ECamp%20Muir%3C/div%3E%60%29%5B0%5D%3B%0A%20%20%20%20%20%20%20%20%20%20%20%20popup_ae6f42b47f5f4fb0951f0a7be2a54d0f.setContent%28html_45dfbddf225849419891264982d6a8b6%29%3B%0A%20%20%20%20%20%20%20%20%0A%0A%20%20%20%20%20%20%20%20marker_6a49f9ed475649478cf4a6cd6acf6db7.bindPopup%28popup_ae6f42b47f5f4fb0951f0a7be2a54d0f%29%0A%20%20%20%20%20%20%20%20%3B%0A%0A%20%20%20%20%20%20%20%20%0A%20%20%20%20%0A%20%20%20%20%0A%20%20%20%20%20%20%20%20%20%20%20%20var%20marker_0bf81c42a85547019ca89f7d71fcb783%20%3D%20L.marker%28%0A%20%20%20%20%20%20%20%20%20%20%20%20%20%20%20%20%5B22.537359%2C%20113.993427%5D%2C%0A%20%20%20%20%20%20%20%20%20%20%20%20%20%20%20%20%7B%7D%0A%20%20%20%20%20%20%20%20%20%20%20%20%29.addTo%28map_f517431e07e94faab5c12829349465c5%29%3B%0A%20%20%20%20%20%20%20%20%0A%20%20%20%20%0A%20%20%20%20%20%20%20%20var%20popup_ade68eff70f1454eb140e98c8524bf9b%20%3D%20L.popup%28%7B%22maxWidth%22%3A%20%22100%25%22%7D%29%3B%0A%0A%20%20%20%20%20%20%20%20%0A%20%20%20%20%20%20%20%20%20%20%20%20var%20html_71881b9b60bd4cf9bf0901619f550261%20%3D%20%24%28%60%3Cdiv%20id%3D%22html_71881b9b60bd4cf9bf0901619f550261%22%20style%3D%22width%3A%20100.0%25%3B%20height%3A%20100.0%25%3B%22%3ECamp%20Muir%3C/div%3E%60%29%5B0%5D%3B%0A%20%20%20%20%20%20%20%20%20%20%20%20popup_ade68eff70f1454eb140e98c8524bf9b.setContent%28html_71881b9b60bd4cf9bf0901619f550261%29%3B%0A%20%20%20%20%20%20%20%20%0A%0A%20%20%20%20%20%20%20%20marker_0bf81c42a85547019ca89f7d71fcb783.bindPopup%28popup_ade68eff70f1454eb140e98c8524bf9b%29%0A%20%20%20%20%20%20%20%20%3B%0A%0A%20%20%20%20%20%20%20%20%0A%20%20%20%20%0A%20%20%20%20%0A%20%20%20%20%20%20%20%20%20%20%20%20var%20marker_0860acd7f4d348629675f8e9d6e8d446%20%3D%20L.marker%28%0A%20%20%20%20%20%20%20%20%20%20%20%20%20%20%20%20%5B22.543597%2C%20113.937511%5D%2C%0A%20%20%20%20%20%20%20%20%20%20%20%20%20%20%20%20%7B%7D%0A%20%20%20%20%20%20%20%20%20%20%20%20%29.addTo%28map_f517431e07e94faab5c12829349465c5%29%3B%0A%20%20%20%20%20%20%20%20%0A%20%20%20%20%0A%20%20%20%20%20%20%20%20var%20popup_7aebfca4befa41019dd93db2bbf7fbcf%20%3D%20L.popup%28%7B%22maxWidth%22%3A%20%22100%25%22%7D%29%3B%0A%0A%20%20%20%20%20%20%20%20%0A%20%20%20%20%20%20%20%20%20%20%20%20var%20html_e710bab46e5a45bdb8e8b43209abc67f%20%3D%20%24%28%60%3Cdiv%20id%3D%22html_e710bab46e5a45bdb8e8b43209abc67f%22%20style%3D%22width%3A%20100.0%25%3B%20height%3A%20100.0%25%3B%22%3ECamp%20Muir%3C/div%3E%60%29%5B0%5D%3B%0A%20%20%20%20%20%20%20%20%20%20%20%20popup_7aebfca4befa41019dd93db2bbf7fbcf.setContent%28html_e710bab46e5a45bdb8e8b43209abc67f%29%3B%0A%20%20%20%20%20%20%20%20%0A%0A%20%20%20%20%20%20%20%20marker_0860acd7f4d348629675f8e9d6e8d446.bindPopup%28popup_7aebfca4befa41019dd93db2bbf7fbcf%29%0A%20%20%20%20%20%20%20%20%3B%0A%0A%20%20%20%20%20%20%20%20%0A%20%20%20%20%0A%20%20%20%20%0A%20%20%20%20%20%20%20%20%20%20%20%20var%20marker_ded47c4b570c4d47a53762ad72d88f84%20%3D%20L.marker%28%0A%20%20%20%20%20%20%20%20%20%20%20%20%20%20%20%20%5B22.535875%2C%20114.030136%5D%2C%0A%20%20%20%20%20%20%20%20%20%20%20%20%20%20%20%20%7B%7D%0A%20%20%20%20%20%20%20%20%20%20%20%20%29.addTo%28map_f517431e07e94faab5c12829349465c5%29%3B%0A%20%20%20%20%20%20%20%20%0A%20%20%20%20%0A%20%20%20%20%20%20%20%20var%20popup_68cb2be6752b4089b216b0800b26b855%20%3D%20L.popup%28%7B%22maxWidth%22%3A%20%22100%25%22%7D%29%3B%0A%0A%20%20%20%20%20%20%20%20%0A%20%20%20%20%20%20%20%20%20%20%20%20var%20html_609bd89ebb244c2489e863fbe9649362%20%3D%20%24%28%60%3Cdiv%20id%3D%22html_609bd89ebb244c2489e863fbe9649362%22%20style%3D%22width%3A%20100.0%25%3B%20height%3A%20100.0%25%3B%22%3ECamp%20Muir%3C/div%3E%60%29%5B0%5D%3B%0A%20%20%20%20%20%20%20%20%20%20%20%20popup_68cb2be6752b4089b216b0800b26b855.setContent%28html_609bd89ebb244c2489e863fbe9649362%29%3B%0A%20%20%20%20%20%20%20%20%0A%0A%20%20%20%20%20%20%20%20marker_ded47c4b570c4d47a53762ad72d88f84.bindPopup%28popup_68cb2be6752b4089b216b0800b26b855%29%0A%20%20%20%20%20%20%20%20%3B%0A%0A%20%20%20%20%20%20%20%20%0A%20%20%20%20%0A%20%20%20%20%0A%20%20%20%20%20%20%20%20%20%20%20%20var%20marker_8b4ef81c21d743c3a8807dbd1312ba29%20%3D%20L.marker%28%0A%20%20%20%20%20%20%20%20%20%20%20%20%20%20%20%20%5B22.539629%2C%20114.083175%5D%2C%0A%20%20%20%20%20%20%20%20%20%20%20%20%20%20%20%20%7B%7D%0A%20%20%20%20%20%20%20%20%20%20%20%20%29.addTo%28map_f517431e07e94faab5c12829349465c5%29%3B%0A%20%20%20%20%20%20%20%20%0A%20%20%20%20%0A%20%20%20%20%20%20%20%20var%20popup_27b402b082054c3fb5f2398994bde3c4%20%3D%20L.popup%28%7B%22maxWidth%22%3A%20%22100%25%22%7D%29%3B%0A%0A%20%20%20%20%20%20%20%20%0A%20%20%20%20%20%20%20%20%20%20%20%20var%20html_f5c728ac3ab84b19bd99ff0e95f78a0c%20%3D%20%24%28%60%3Cdiv%20id%3D%22html_f5c728ac3ab84b19bd99ff0e95f78a0c%22%20style%3D%22width%3A%20100.0%25%3B%20height%3A%20100.0%25%3B%22%3ECamp%20Muir%3C/div%3E%60%29%5B0%5D%3B%0A%20%20%20%20%20%20%20%20%20%20%20%20popup_27b402b082054c3fb5f2398994bde3c4.setContent%28html_f5c728ac3ab84b19bd99ff0e95f78a0c%29%3B%0A%20%20%20%20%20%20%20%20%0A%0A%20%20%20%20%20%20%20%20marker_8b4ef81c21d743c3a8807dbd1312ba29.bindPopup%28popup_27b402b082054c3fb5f2398994bde3c4%29%0A%20%20%20%20%20%20%20%20%3B%0A%0A%20%20%20%20%20%20%20%20%0A%20%20%20%20%0A%20%20%20%20%0A%20%20%20%20%20%20%20%20%20%20%20%20var%20marker_7d346c5683c149a2936e475a3ef1caaf%20%3D%20L.marker%28%0A%20%20%20%20%20%20%20%20%20%20%20%20%20%20%20%20%5B22.535004%2C%20113.941975%5D%2C%0A%20%20%20%20%20%20%20%20%20%20%20%20%20%20%20%20%7B%7D%0A%20%20%20%20%20%20%20%20%20%20%20%20%29.addTo%28map_f517431e07e94faab5c12829349465c5%29%3B%0A%20%20%20%20%20%20%20%20%0A%20%20%20%20%0A%20%20%20%20%20%20%20%20var%20popup_6247b9a817704b5f85dbd67485381adf%20%3D%20L.popup%28%7B%22maxWidth%22%3A%20%22100%25%22%7D%29%3B%0A%0A%20%20%20%20%20%20%20%20%0A%20%20%20%20%20%20%20%20%20%20%20%20var%20html_233508065f444a1daeba4ff50bd4f059%20%3D%20%24%28%60%3Cdiv%20id%3D%22html_233508065f444a1daeba4ff50bd4f059%22%20style%3D%22width%3A%20100.0%25%3B%20height%3A%20100.0%25%3B%22%3ECamp%20Muir%3C/div%3E%60%29%5B0%5D%3B%0A%20%20%20%20%20%20%20%20%20%20%20%20popup_6247b9a817704b5f85dbd67485381adf.setContent%28html_233508065f444a1daeba4ff50bd4f059%29%3B%0A%20%20%20%20%20%20%20%20%0A%0A%20%20%20%20%20%20%20%20marker_7d346c5683c149a2936e475a3ef1caaf.bindPopup%28popup_6247b9a817704b5f85dbd67485381adf%29%0A%20%20%20%20%20%20%20%20%3B%0A%0A%20%20%20%20%20%20%20%20%0A%20%20%20%20%0A%20%20%20%20%0A%20%20%20%20%20%20%20%20%20%20%20%20var%20marker_ba266dcfad7e4eb2a35b131bd0186d62%20%3D%20L.marker%28%0A%20%20%20%20%20%20%20%20%20%20%20%20%20%20%20%20%5B22.542173%2C%20113.931076%5D%2C%0A%20%20%20%20%20%20%20%20%20%20%20%20%20%20%20%20%7B%7D%0A%20%20%20%20%20%20%20%20%20%20%20%20%29.addTo%28map_f517431e07e94faab5c12829349465c5%29%3B%0A%20%20%20%20%20%20%20%20%0A%20%20%20%20%0A%20%20%20%20%20%20%20%20var%20popup_4ef273dd786945a3b7ebc5dd54f88655%20%3D%20L.popup%28%7B%22maxWidth%22%3A%20%22100%25%22%7D%29%3B%0A%0A%20%20%20%20%20%20%20%20%0A%20%20%20%20%20%20%20%20%20%20%20%20var%20html_33dac857ead34b93b767176307f2f2e5%20%3D%20%24%28%60%3Cdiv%20id%3D%22html_33dac857ead34b93b767176307f2f2e5%22%20style%3D%22width%3A%20100.0%25%3B%20height%3A%20100.0%25%3B%22%3ECamp%20Muir%3C/div%3E%60%29%5B0%5D%3B%0A%20%20%20%20%20%20%20%20%20%20%20%20popup_4ef273dd786945a3b7ebc5dd54f88655.setContent%28html_33dac857ead34b93b767176307f2f2e5%29%3B%0A%20%20%20%20%20%20%20%20%0A%0A%20%20%20%20%20%20%20%20marker_ba266dcfad7e4eb2a35b131bd0186d62.bindPopup%28popup_4ef273dd786945a3b7ebc5dd54f88655%29%0A%20%20%20%20%20%20%20%20%3B%0A%0A%20%20%20%20%20%20%20%20%0A%20%20%20%20%0A%20%20%20%20%0A%20%20%20%20%20%20%20%20%20%20%20%20var%20marker_c7ac57ede33a4d36b9e855b358e4684c%20%3D%20L.marker%28%0A%20%20%20%20%20%20%20%20%20%20%20%20%20%20%20%20%5B22.540582%2C%20113.933759%5D%2C%0A%20%20%20%20%20%20%20%20%20%20%20%20%20%20%20%20%7B%7D%0A%20%20%20%20%20%20%20%20%20%20%20%20%29.addTo%28map_f517431e07e94faab5c12829349465c5%29%3B%0A%20%20%20%20%20%20%20%20%0A%20%20%20%20%0A%20%20%20%20%20%20%20%20var%20popup_9987b3be795847e2be016a4e2771518e%20%3D%20L.popup%28%7B%22maxWidth%22%3A%20%22100%25%22%7D%29%3B%0A%0A%20%20%20%20%20%20%20%20%0A%20%20%20%20%20%20%20%20%20%20%20%20var%20html_9807b81f0e80499cbddaf35c053adcc4%20%3D%20%24%28%60%3Cdiv%20id%3D%22html_9807b81f0e80499cbddaf35c053adcc4%22%20style%3D%22width%3A%20100.0%25%3B%20height%3A%20100.0%25%3B%22%3ECamp%20Muir%3C/div%3E%60%29%5B0%5D%3B%0A%20%20%20%20%20%20%20%20%20%20%20%20popup_9987b3be795847e2be016a4e2771518e.setContent%28html_9807b81f0e80499cbddaf35c053adcc4%29%3B%0A%20%20%20%20%20%20%20%20%0A%0A%20%20%20%20%20%20%20%20marker_c7ac57ede33a4d36b9e855b358e4684c.bindPopup%28popup_9987b3be795847e2be016a4e2771518e%29%0A%20%20%20%20%20%20%20%20%3B%0A%0A%20%20%20%20%20%20%20%20%0A%20%20%20%20%0A%20%20%20%20%0A%20%20%20%20%20%20%20%20%20%20%20%20var%20marker_4ecb3024f60640e8a9b3615f1cbebf46%20%3D%20L.marker%28%0A%20%20%20%20%20%20%20%20%20%20%20%20%20%20%20%20%5B22.537689%2C%20113.954321%5D%2C%0A%20%20%20%20%20%20%20%20%20%20%20%20%20%20%20%20%7B%7D%0A%20%20%20%20%20%20%20%20%20%20%20%20%29.addTo%28map_f517431e07e94faab5c12829349465c5%29%3B%0A%20%20%20%20%20%20%20%20%0A%20%20%20%20%0A%20%20%20%20%20%20%20%20var%20popup_11d8f9208b1941ee870454db874661af%20%3D%20L.popup%28%7B%22maxWidth%22%3A%20%22100%25%22%7D%29%3B%0A%0A%20%20%20%20%20%20%20%20%0A%20%20%20%20%20%20%20%20%20%20%20%20var%20html_1aff57b158bb40559521d97844c96591%20%3D%20%24%28%60%3Cdiv%20id%3D%22html_1aff57b158bb40559521d97844c96591%22%20style%3D%22width%3A%20100.0%25%3B%20height%3A%20100.0%25%3B%22%3ECamp%20Muir%3C/div%3E%60%29%5B0%5D%3B%0A%20%20%20%20%20%20%20%20%20%20%20%20popup_11d8f9208b1941ee870454db874661af.setContent%28html_1aff57b158bb40559521d97844c96591%29%3B%0A%20%20%20%20%20%20%20%20%0A%0A%20%20%20%20%20%20%20%20marker_4ecb3024f60640e8a9b3615f1cbebf46.bindPopup%28popup_11d8f9208b1941ee870454db874661af%29%0A%20%20%20%20%20%20%20%20%3B%0A%0A%20%20%20%20%20%20%20%20%0A%20%20%20%20%0A%20%20%20%20%0A%20%20%20%20%20%20%20%20%20%20%20%20var%20marker_0ba97d4dbb604b5b8b186ba2b66c212c%20%3D%20L.marker%28%0A%20%20%20%20%20%20%20%20%20%20%20%20%20%20%20%20%5B22.534519%2C%20114.029932%5D%2C%0A%20%20%20%20%20%20%20%20%20%20%20%20%20%20%20%20%7B%7D%0A%20%20%20%20%20%20%20%20%20%20%20%20%29.addTo%28map_f517431e07e94faab5c12829349465c5%29%3B%0A%20%20%20%20%20%20%20%20%0A%20%20%20%20%0A%20%20%20%20%20%20%20%20var%20popup_06049aea775c4e5c887e808669a463df%20%3D%20L.popup%28%7B%22maxWidth%22%3A%20%22100%25%22%7D%29%3B%0A%0A%20%20%20%20%20%20%20%20%0A%20%20%20%20%20%20%20%20%20%20%20%20var%20html_5b51c5658faa4a21b76fc4a2f09be44e%20%3D%20%24%28%60%3Cdiv%20id%3D%22html_5b51c5658faa4a21b76fc4a2f09be44e%22%20style%3D%22width%3A%20100.0%25%3B%20height%3A%20100.0%25%3B%22%3ECamp%20Muir%3C/div%3E%60%29%5B0%5D%3B%0A%20%20%20%20%20%20%20%20%20%20%20%20popup_06049aea775c4e5c887e808669a463df.setContent%28html_5b51c5658faa4a21b76fc4a2f09be44e%29%3B%0A%20%20%20%20%20%20%20%20%0A%0A%20%20%20%20%20%20%20%20marker_0ba97d4dbb604b5b8b186ba2b66c212c.bindPopup%28popup_06049aea775c4e5c887e808669a463df%29%0A%20%20%20%20%20%20%20%20%3B%0A%0A%20%20%20%20%20%20%20%20%0A%20%20%20%20%0A%20%20%20%20%0A%20%20%20%20%20%20%20%20%20%20%20%20var%20marker_3620fe7bd2d34c158c593132c00848cd%20%3D%20L.marker%28%0A%20%20%20%20%20%20%20%20%20%20%20%20%20%20%20%20%5B22.543226%2C%20114.121078%5D%2C%0A%20%20%20%20%20%20%20%20%20%20%20%20%20%20%20%20%7B%7D%0A%20%20%20%20%20%20%20%20%20%20%20%20%29.addTo%28map_f517431e07e94faab5c12829349465c5%29%3B%0A%20%20%20%20%20%20%20%20%0A%20%20%20%20%0A%20%20%20%20%20%20%20%20var%20popup_afe56b8dc4544645bf344dea357ae52c%20%3D%20L.popup%28%7B%22maxWidth%22%3A%20%22100%25%22%7D%29%3B%0A%0A%20%20%20%20%20%20%20%20%0A%20%20%20%20%20%20%20%20%20%20%20%20var%20html_feacd62ab36643a29f857a715a6faa38%20%3D%20%24%28%60%3Cdiv%20id%3D%22html_feacd62ab36643a29f857a715a6faa38%22%20style%3D%22width%3A%20100.0%25%3B%20height%3A%20100.0%25%3B%22%3ECamp%20Muir%3C/div%3E%60%29%5B0%5D%3B%0A%20%20%20%20%20%20%20%20%20%20%20%20popup_afe56b8dc4544645bf344dea357ae52c.setContent%28html_feacd62ab36643a29f857a715a6faa38%29%3B%0A%20%20%20%20%20%20%20%20%0A%0A%20%20%20%20%20%20%20%20marker_3620fe7bd2d34c158c593132c00848cd.bindPopup%28popup_afe56b8dc4544645bf344dea357ae52c%29%0A%20%20%20%20%20%20%20%20%3B%0A%0A%20%20%20%20%20%20%20%20%0A%20%20%20%20%0A%20%20%20%20%0A%20%20%20%20%20%20%20%20%20%20%20%20var%20marker_b6f3defc502547cc8236e7fd179600d6%20%3D%20L.marker%28%0A%20%20%20%20%20%20%20%20%20%20%20%20%20%20%20%20%5B22.541802%2C%20114.071685%5D%2C%0A%20%20%20%20%20%20%20%20%20%20%20%20%20%20%20%20%7B%7D%0A%20%20%20%20%20%20%20%20%20%20%20%20%29.addTo%28map_f517431e07e94faab5c12829349465c5%29%3B%0A%20%20%20%20%20%20%20%20%0A%20%20%20%20%0A%20%20%20%20%20%20%20%20var%20popup_e2d7e6be575a42fdbb96e36eb1455dc7%20%3D%20L.popup%28%7B%22maxWidth%22%3A%20%22100%25%22%7D%29%3B%0A%0A%20%20%20%20%20%20%20%20%0A%20%20%20%20%20%20%20%20%20%20%20%20var%20html_3fae4ddb832842a1abaa3b436e9148d5%20%3D%20%24%28%60%3Cdiv%20id%3D%22html_3fae4ddb832842a1abaa3b436e9148d5%22%20style%3D%22width%3A%20100.0%25%3B%20height%3A%20100.0%25%3B%22%3ECamp%20Muir%3C/div%3E%60%29%5B0%5D%3B%0A%20%20%20%20%20%20%20%20%20%20%20%20popup_e2d7e6be575a42fdbb96e36eb1455dc7.setContent%28html_3fae4ddb832842a1abaa3b436e9148d5%29%3B%0A%20%20%20%20%20%20%20%20%0A%0A%20%20%20%20%20%20%20%20marker_b6f3defc502547cc8236e7fd179600d6.bindPopup%28popup_e2d7e6be575a42fdbb96e36eb1455dc7%29%0A%20%20%20%20%20%20%20%20%3B%0A%0A%20%20%20%20%20%20%20%20%0A%20%20%20%20%0A%20%20%20%20%0A%20%20%20%20%20%20%20%20%20%20%20%20var%20marker_35bc72919ab140119e17c86f97f41168%20%3D%20L.marker%28%0A%20%20%20%20%20%20%20%20%20%20%20%20%20%20%20%20%5B22.541802%2C%20114.071685%5D%2C%0A%20%20%20%20%20%20%20%20%20%20%20%20%20%20%20%20%7B%7D%0A%20%20%20%20%20%20%20%20%20%20%20%20%29.addTo%28map_f517431e07e94faab5c12829349465c5%29%3B%0A%20%20%20%20%20%20%20%20%0A%20%20%20%20%0A%20%20%20%20%20%20%20%20var%20popup_46f86b836cc54191866985dcc5301ee1%20%3D%20L.popup%28%7B%22maxWidth%22%3A%20%22100%25%22%7D%29%3B%0A%0A%20%20%20%20%20%20%20%20%0A%20%20%20%20%20%20%20%20%20%20%20%20var%20html_2c7036f301884f74b3c81c059763b453%20%3D%20%24%28%60%3Cdiv%20id%3D%22html_2c7036f301884f74b3c81c059763b453%22%20style%3D%22width%3A%20100.0%25%3B%20height%3A%20100.0%25%3B%22%3ECamp%20Muir%3C/div%3E%60%29%5B0%5D%3B%0A%20%20%20%20%20%20%20%20%20%20%20%20popup_46f86b836cc54191866985dcc5301ee1.setContent%28html_2c7036f301884f74b3c81c059763b453%29%3B%0A%20%20%20%20%20%20%20%20%0A%0A%20%20%20%20%20%20%20%20marker_35bc72919ab140119e17c86f97f41168.bindPopup%28popup_46f86b836cc54191866985dcc5301ee1%29%0A%20%20%20%20%20%20%20%20%3B%0A%0A%20%20%20%20%20%20%20%20%0A%20%20%20%20%0A%20%20%20%20%0A%20%20%20%20%20%20%20%20%20%20%20%20var%20marker_1f2363aa6d204bcf848427fe6a87705b%20%3D%20L.marker%28%0A%20%20%20%20%20%20%20%20%20%20%20%20%20%20%20%20%5B22.541802%2C%20114.071685%5D%2C%0A%20%20%20%20%20%20%20%20%20%20%20%20%20%20%20%20%7B%7D%0A%20%20%20%20%20%20%20%20%20%20%20%20%29.addTo%28map_f517431e07e94faab5c12829349465c5%29%3B%0A%20%20%20%20%20%20%20%20%0A%20%20%20%20%0A%20%20%20%20%20%20%20%20var%20popup_7af80909a2bd48ce96a781d66618f0d1%20%3D%20L.popup%28%7B%22maxWidth%22%3A%20%22100%25%22%7D%29%3B%0A%0A%20%20%20%20%20%20%20%20%0A%20%20%20%20%20%20%20%20%20%20%20%20var%20html_844d117e97e44dac8541b2e1b27e391a%20%3D%20%24%28%60%3Cdiv%20id%3D%22html_844d117e97e44dac8541b2e1b27e391a%22%20style%3D%22width%3A%20100.0%25%3B%20height%3A%20100.0%25%3B%22%3ECamp%20Muir%3C/div%3E%60%29%5B0%5D%3B%0A%20%20%20%20%20%20%20%20%20%20%20%20popup_7af80909a2bd48ce96a781d66618f0d1.setContent%28html_844d117e97e44dac8541b2e1b27e391a%29%3B%0A%20%20%20%20%20%20%20%20%0A%0A%20%20%20%20%20%20%20%20marker_1f2363aa6d204bcf848427fe6a87705b.bindPopup%28popup_7af80909a2bd48ce96a781d66618f0d1%29%0A%20%20%20%20%20%20%20%20%3B%0A%0A%20%20%20%20%20%20%20%20%0A%20%20%20%20%0A%20%20%20%20%0A%20%20%20%20%20%20%20%20%20%20%20%20var%20marker_e75ad40501db4f74a8f9e1be84e63608%20%3D%20L.marker%28%0A%20%20%20%20%20%20%20%20%20%20%20%20%20%20%20%20%5B22.53641%2C%20114.051801%5D%2C%0A%20%20%20%20%20%20%20%20%20%20%20%20%20%20%20%20%7B%7D%0A%20%20%20%20%20%20%20%20%20%20%20%20%29.addTo%28map_f517431e07e94faab5c12829349465c5%29%3B%0A%20%20%20%20%20%20%20%20%0A%20%20%20%20%0A%20%20%20%20%20%20%20%20var%20popup_69551a90c51f46f7a8de39d255fcac49%20%3D%20L.popup%28%7B%22maxWidth%22%3A%20%22100%25%22%7D%29%3B%0A%0A%20%20%20%20%20%20%20%20%0A%20%20%20%20%20%20%20%20%20%20%20%20var%20html_50996a2b258a4ea49c81d5f090028ada%20%3D%20%24%28%60%3Cdiv%20id%3D%22html_50996a2b258a4ea49c81d5f090028ada%22%20style%3D%22width%3A%20100.0%25%3B%20height%3A%20100.0%25%3B%22%3ECamp%20Muir%3C/div%3E%60%29%5B0%5D%3B%0A%20%20%20%20%20%20%20%20%20%20%20%20popup_69551a90c51f46f7a8de39d255fcac49.setContent%28html_50996a2b258a4ea49c81d5f090028ada%29%3B%0A%20%20%20%20%20%20%20%20%0A%0A%20%20%20%20%20%20%20%20marker_e75ad40501db4f74a8f9e1be84e63608.bindPopup%28popup_69551a90c51f46f7a8de39d255fcac49%29%0A%20%20%20%20%20%20%20%20%3B%0A%0A%20%20%20%20%20%20%20%20%0A%20%20%20%20%0A%20%20%20%20%0A%20%20%20%20%20%20%20%20%20%20%20%20var%20marker_66f494b9b28c444091fa6e53547d4df4%20%3D%20L.marker%28%0A%20%20%20%20%20%20%20%20%20%20%20%20%20%20%20%20%5B22.534135%2C%20114.057148%5D%2C%0A%20%20%20%20%20%20%20%20%20%20%20%20%20%20%20%20%7B%7D%0A%20%20%20%20%20%20%20%20%20%20%20%20%29.addTo%28map_f517431e07e94faab5c12829349465c5%29%3B%0A%20%20%20%20%20%20%20%20%0A%20%20%20%20%0A%20%20%20%20%20%20%20%20var%20popup_e9ea0666581c427696d6f69e6e8e0bd3%20%3D%20L.popup%28%7B%22maxWidth%22%3A%20%22100%25%22%7D%29%3B%0A%0A%20%20%20%20%20%20%20%20%0A%20%20%20%20%20%20%20%20%20%20%20%20var%20html_835c64f388f54abfba2f539db1d98d83%20%3D%20%24%28%60%3Cdiv%20id%3D%22html_835c64f388f54abfba2f539db1d98d83%22%20style%3D%22width%3A%20100.0%25%3B%20height%3A%20100.0%25%3B%22%3ECamp%20Muir%3C/div%3E%60%29%5B0%5D%3B%0A%20%20%20%20%20%20%20%20%20%20%20%20popup_e9ea0666581c427696d6f69e6e8e0bd3.setContent%28html_835c64f388f54abfba2f539db1d98d83%29%3B%0A%20%20%20%20%20%20%20%20%0A%0A%20%20%20%20%20%20%20%20marker_66f494b9b28c444091fa6e53547d4df4.bindPopup%28popup_e9ea0666581c427696d6f69e6e8e0bd3%29%0A%20%20%20%20%20%20%20%20%3B%0A%0A%20%20%20%20%20%20%20%20%0A%20%20%20%20%0A%20%20%20%20%0A%20%20%20%20%20%20%20%20%20%20%20%20var%20marker_2eea63e209994dafa456946bb703ae1a%20%3D%20L.marker%28%0A%20%20%20%20%20%20%20%20%20%20%20%20%20%20%20%20%5B22.543149%2C%20114.114633%5D%2C%0A%20%20%20%20%20%20%20%20%20%20%20%20%20%20%20%20%7B%7D%0A%20%20%20%20%20%20%20%20%20%20%20%20%29.addTo%28map_f517431e07e94faab5c12829349465c5%29%3B%0A%20%20%20%20%20%20%20%20%0A%20%20%20%20%0A%20%20%20%20%20%20%20%20var%20popup_ee1dc012363e4aa9b2003917726e86d9%20%3D%20L.popup%28%7B%22maxWidth%22%3A%20%22100%25%22%7D%29%3B%0A%0A%20%20%20%20%20%20%20%20%0A%20%20%20%20%20%20%20%20%20%20%20%20var%20html_e6bd016057f94c44ad58f136147840d7%20%3D%20%24%28%60%3Cdiv%20id%3D%22html_e6bd016057f94c44ad58f136147840d7%22%20style%3D%22width%3A%20100.0%25%3B%20height%3A%20100.0%25%3B%22%3ECamp%20Muir%3C/div%3E%60%29%5B0%5D%3B%0A%20%20%20%20%20%20%20%20%20%20%20%20popup_ee1dc012363e4aa9b2003917726e86d9.setContent%28html_e6bd016057f94c44ad58f136147840d7%29%3B%0A%20%20%20%20%20%20%20%20%0A%0A%20%20%20%20%20%20%20%20marker_2eea63e209994dafa456946bb703ae1a.bindPopup%28popup_ee1dc012363e4aa9b2003917726e86d9%29%0A%20%20%20%20%20%20%20%20%3B%0A%0A%20%20%20%20%20%20%20%20%0A%20%20%20%20%0A%20%20%20%20%0A%20%20%20%20%20%20%20%20%20%20%20%20var%20marker_71073b46d47044039c343c600f553d0c%20%3D%20L.marker%28%0A%20%20%20%20%20%20%20%20%20%20%20%20%20%20%20%20%5B22.534616%2C%20113.948557%5D%2C%0A%20%20%20%20%20%20%20%20%20%20%20%20%20%20%20%20%7B%7D%0A%20%20%20%20%20%20%20%20%20%20%20%20%29.addTo%28map_f517431e07e94faab5c12829349465c5%29%3B%0A%20%20%20%20%20%20%20%20%0A%20%20%20%20%0A%20%20%20%20%20%20%20%20var%20popup_e11e3142ca7e4d5893161e41b56da8f7%20%3D%20L.popup%28%7B%22maxWidth%22%3A%20%22100%25%22%7D%29%3B%0A%0A%20%20%20%20%20%20%20%20%0A%20%20%20%20%20%20%20%20%20%20%20%20var%20html_ea0aab376420438abb181fb5758df808%20%3D%20%24%28%60%3Cdiv%20id%3D%22html_ea0aab376420438abb181fb5758df808%22%20style%3D%22width%3A%20100.0%25%3B%20height%3A%20100.0%25%3B%22%3ECamp%20Muir%3C/div%3E%60%29%5B0%5D%3B%0A%20%20%20%20%20%20%20%20%20%20%20%20popup_e11e3142ca7e4d5893161e41b56da8f7.setContent%28html_ea0aab376420438abb181fb5758df808%29%3B%0A%20%20%20%20%20%20%20%20%0A%0A%20%20%20%20%20%20%20%20marker_71073b46d47044039c343c600f553d0c.bindPopup%28popup_e11e3142ca7e4d5893161e41b56da8f7%29%0A%20%20%20%20%20%20%20%20%3B%0A%0A%20%20%20%20%20%20%20%20%0A%20%20%20%20%0A%20%20%20%20%0A%20%20%20%20%20%20%20%20%20%20%20%20var%20marker_319d7b237e1741beb1c428fe33faf705%20%3D%20L.marker%28%0A%20%20%20%20%20%20%20%20%20%20%20%20%20%20%20%20%5B22.53604%2C%20113.942608%5D%2C%0A%20%20%20%20%20%20%20%20%20%20%20%20%20%20%20%20%7B%7D%0A%20%20%20%20%20%20%20%20%20%20%20%20%29.addTo%28map_f517431e07e94faab5c12829349465c5%29%3B%0A%20%20%20%20%20%20%20%20%0A%20%20%20%20%0A%20%20%20%20%20%20%20%20var%20popup_0390d641a37a4abb8cede5895eccbbd9%20%3D%20L.popup%28%7B%22maxWidth%22%3A%20%22100%25%22%7D%29%3B%0A%0A%20%20%20%20%20%20%20%20%0A%20%20%20%20%20%20%20%20%20%20%20%20var%20html_658086edd702478fad03c3df29f5b505%20%3D%20%24%28%60%3Cdiv%20id%3D%22html_658086edd702478fad03c3df29f5b505%22%20style%3D%22width%3A%20100.0%25%3B%20height%3A%20100.0%25%3B%22%3ECamp%20Muir%3C/div%3E%60%29%5B0%5D%3B%0A%20%20%20%20%20%20%20%20%20%20%20%20popup_0390d641a37a4abb8cede5895eccbbd9.setContent%28html_658086edd702478fad03c3df29f5b505%29%3B%0A%20%20%20%20%20%20%20%20%0A%0A%20%20%20%20%20%20%20%20marker_319d7b237e1741beb1c428fe33faf705.bindPopup%28popup_0390d641a37a4abb8cede5895eccbbd9%29%0A%20%20%20%20%20%20%20%20%3B%0A%0A%20%20%20%20%20%20%20%20%0A%20%20%20%20%0A%20%20%20%20%0A%20%20%20%20%20%20%20%20%20%20%20%20var%20marker_93050d805d454badaf8ae23b62a324fc%20%3D%20L.marker%28%0A%20%20%20%20%20%20%20%20%20%20%20%20%20%20%20%20%5B22.541297%2C%20113.94008%5D%2C%0A%20%20%20%20%20%20%20%20%20%20%20%20%20%20%20%20%7B%7D%0A%20%20%20%20%20%20%20%20%20%20%20%20%29.addTo%28map_f517431e07e94faab5c12829349465c5%29%3B%0A%20%20%20%20%20%20%20%20%0A%20%20%20%20%0A%20%20%20%20%20%20%20%20var%20popup_6b1c7c1f1773451c9ea327f2f7d2e6c5%20%3D%20L.popup%28%7B%22maxWidth%22%3A%20%22100%25%22%7D%29%3B%0A%0A%20%20%20%20%20%20%20%20%0A%20%20%20%20%20%20%20%20%20%20%20%20var%20html_38e112ddeaab46e3a149fbd9b18e5eb7%20%3D%20%24%28%60%3Cdiv%20id%3D%22html_38e112ddeaab46e3a149fbd9b18e5eb7%22%20style%3D%22width%3A%20100.0%25%3B%20height%3A%20100.0%25%3B%22%3ECamp%20Muir%3C/div%3E%60%29%5B0%5D%3B%0A%20%20%20%20%20%20%20%20%20%20%20%20popup_6b1c7c1f1773451c9ea327f2f7d2e6c5.setContent%28html_38e112ddeaab46e3a149fbd9b18e5eb7%29%3B%0A%20%20%20%20%20%20%20%20%0A%0A%20%20%20%20%20%20%20%20marker_93050d805d454badaf8ae23b62a324fc.bindPopup%28popup_6b1c7c1f1773451c9ea327f2f7d2e6c5%29%0A%20%20%20%20%20%20%20%20%3B%0A%0A%20%20%20%20%20%20%20%20%0A%20%20%20%20%0A%20%20%20%20%0A%20%20%20%20%20%20%20%20%20%20%20%20var%20marker_9320e8707e904e9fb9152aa3aa06a1bd%20%3D%20L.marker%28%0A%20%20%20%20%20%20%20%20%20%20%20%20%20%20%20%20%5B22.541528%2C%20114.070666%5D%2C%0A%20%20%20%20%20%20%20%20%20%20%20%20%20%20%20%20%7B%7D%0A%20%20%20%20%20%20%20%20%20%20%20%20%29.addTo%28map_f517431e07e94faab5c12829349465c5%29%3B%0A%20%20%20%20%20%20%20%20%0A%20%20%20%20%0A%20%20%20%20%20%20%20%20var%20popup_2e31e698a4bb47dea4000edac94be8ee%20%3D%20L.popup%28%7B%22maxWidth%22%3A%20%22100%25%22%7D%29%3B%0A%0A%20%20%20%20%20%20%20%20%0A%20%20%20%20%20%20%20%20%20%20%20%20var%20html_9f8eb03132f4471abf2cf757ae41b25f%20%3D%20%24%28%60%3Cdiv%20id%3D%22html_9f8eb03132f4471abf2cf757ae41b25f%22%20style%3D%22width%3A%20100.0%25%3B%20height%3A%20100.0%25%3B%22%3ECamp%20Muir%3C/div%3E%60%29%5B0%5D%3B%0A%20%20%20%20%20%20%20%20%20%20%20%20popup_2e31e698a4bb47dea4000edac94be8ee.setContent%28html_9f8eb03132f4471abf2cf757ae41b25f%29%3B%0A%20%20%20%20%20%20%20%20%0A%0A%20%20%20%20%20%20%20%20marker_9320e8707e904e9fb9152aa3aa06a1bd.bindPopup%28popup_2e31e698a4bb47dea4000edac94be8ee%29%0A%20%20%20%20%20%20%20%20%3B%0A%0A%20%20%20%20%20%20%20%20%0A%20%20%20%20%0A%20%20%20%20%0A%20%20%20%20%20%20%20%20%20%20%20%20var%20marker_aca3232c6d144143a35582db17d85c3b%20%3D%20L.marker%28%0A%20%20%20%20%20%20%20%20%20%20%20%20%20%20%20%20%5B22.541651%2C%20114.067046%5D%2C%0A%20%20%20%20%20%20%20%20%20%20%20%20%20%20%20%20%7B%7D%0A%20%20%20%20%20%20%20%20%20%20%20%20%29.addTo%28map_f517431e07e94faab5c12829349465c5%29%3B%0A%20%20%20%20%20%20%20%20%0A%20%20%20%20%0A%20%20%20%20%20%20%20%20var%20popup_942cca0ab51446d0b1faa12aefb5eb93%20%3D%20L.popup%28%7B%22maxWidth%22%3A%20%22100%25%22%7D%29%3B%0A%0A%20%20%20%20%20%20%20%20%0A%20%20%20%20%20%20%20%20%20%20%20%20var%20html_8509a7db92d8444681b1549864b820ae%20%3D%20%24%28%60%3Cdiv%20id%3D%22html_8509a7db92d8444681b1549864b820ae%22%20style%3D%22width%3A%20100.0%25%3B%20height%3A%20100.0%25%3B%22%3ECamp%20Muir%3C/div%3E%60%29%5B0%5D%3B%0A%20%20%20%20%20%20%20%20%20%20%20%20popup_942cca0ab51446d0b1faa12aefb5eb93.setContent%28html_8509a7db92d8444681b1549864b820ae%29%3B%0A%20%20%20%20%20%20%20%20%0A%0A%20%20%20%20%20%20%20%20marker_aca3232c6d144143a35582db17d85c3b.bindPopup%28popup_942cca0ab51446d0b1faa12aefb5eb93%29%0A%20%20%20%20%20%20%20%20%3B%0A%0A%20%20%20%20%20%20%20%20%0A%20%20%20%20%0A%3C/script%3E onload=\"this.contentDocument.open();this.contentDocument.write(    decodeURIComponent(this.getAttribute('data-html')));this.contentDocument.close();\" allowfullscreen webkitallowfullscreen mozallowfullscreen></iframe></div></div>"
      ],
      "text/plain": [
       "<folium.folium.Map at 0x1e63c76b970>"
      ]
     },
     "execution_count": 171,
     "metadata": {},
     "output_type": "execute_result"
    }
   ],
   "source": [
    "shenzhen_map"
   ]
  }
 ],
 "metadata": {
  "kernelspec": {
   "display_name": "Python 3 (ipykernel)",
   "language": "python",
   "name": "python3"
  },
  "language_info": {
   "codemirror_mode": {
    "name": "ipython",
    "version": 3
   },
   "file_extension": ".py",
   "mimetype": "text/x-python",
   "name": "python",
   "nbconvert_exporter": "python",
   "pygments_lexer": "ipython3",
   "version": "3.8.5"
  },
  "toc": {
   "base_numbering": 1,
   "nav_menu": {},
   "number_sections": true,
   "sideBar": true,
   "skip_h1_title": false,
   "title_cell": "Table of Contents",
   "title_sidebar": "Contents",
   "toc_cell": false,
   "toc_position": {},
   "toc_section_display": true,
   "toc_window_display": false
  }
 },
 "nbformat": 4,
 "nbformat_minor": 5
}
