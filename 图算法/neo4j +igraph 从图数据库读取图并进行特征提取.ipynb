{
 "cells": [
  {
   "cell_type": "code",
   "execution_count": 71,
   "id": "dec3d1f5",
   "metadata": {
    "ExecuteTime": {
     "end_time": "2022-08-23T04:47:14.213276Z",
     "start_time": "2022-08-23T04:47:14.209136Z"
    }
   },
   "outputs": [],
   "source": [
    "import seaborn as sns\n",
    "from igraph import Graph as iGraph\n",
    "from py2neo import Graph as pGraph\n",
    "import pandas as pd"
   ]
  },
  {
   "cell_type": "code",
   "execution_count": 9,
   "id": "8bdc0ecc",
   "metadata": {
    "ExecuteTime": {
     "end_time": "2022-08-23T03:31:48.839965Z",
     "start_time": "2022-08-23T03:31:46.783585Z"
    }
   },
   "outputs": [],
   "source": [
    "g = pGraph('http://localhost:7474',auth=(\"neo4j\", \"123456\"))"
   ]
  },
  {
   "cell_type": "code",
   "execution_count": 12,
   "id": "66886b35",
   "metadata": {
    "ExecuteTime": {
     "end_time": "2022-08-23T03:33:02.176035Z",
     "start_time": "2022-08-23T03:33:02.170070Z"
    }
   },
   "outputs": [],
   "source": [
    "query = \"\"\"\n",
    "MATCH (p1:gzh)-[:gzh]->(p2:gzh) \n",
    "return p1.item,p2.item\n",
    "\n",
    "\"\"\""
   ]
  },
  {
   "cell_type": "code",
   "execution_count": 24,
   "id": "8f06a370",
   "metadata": {
    "ExecuteTime": {
     "end_time": "2022-08-23T03:38:18.334827Z",
     "start_time": "2022-08-23T03:38:13.508256Z"
    }
   },
   "outputs": [],
   "source": [
    "data  = g.run(query)"
   ]
  },
  {
   "cell_type": "markdown",
   "id": "a47f8927",
   "metadata": {},
   "source": [
    "读入iGraph"
   ]
  },
  {
   "cell_type": "code",
   "execution_count": 25,
   "id": "bebfdb72",
   "metadata": {
    "ExecuteTime": {
     "end_time": "2022-08-23T03:38:20.480437Z",
     "start_time": "2022-08-23T03:38:19.493362Z"
    }
   },
   "outputs": [],
   "source": [
    "ig = iGraph.TupleList(data)"
   ]
  },
  {
   "cell_type": "code",
   "execution_count": 42,
   "id": "4362e1ff",
   "metadata": {
    "ExecuteTime": {
     "end_time": "2022-08-23T04:22:19.699334Z",
     "start_time": "2022-08-23T04:22:19.689926Z"
    }
   },
   "outputs": [
    {
     "name": "stdout",
     "output_type": "stream",
     "text": [
      "顶点数: 15644\n",
      "边数: 212371\n"
     ]
    }
   ],
   "source": [
    "print('顶点数:',ig.vcount())\n",
    "print('边数:',ig.ecount())"
   ]
  },
  {
   "cell_type": "markdown",
   "id": "b8d82b8e",
   "metadata": {},
   "source": [
    "获得顶点和边的DataFrame"
   ]
  },
  {
   "cell_type": "code",
   "execution_count": 50,
   "id": "86c16e0c",
   "metadata": {
    "ExecuteTime": {
     "end_time": "2022-08-23T04:25:07.570674Z",
     "start_time": "2022-08-23T04:25:07.555201Z"
    }
   },
   "outputs": [
    {
     "data": {
      "text/html": [
       "<div>\n",
       "<style scoped>\n",
       "    .dataframe tbody tr th:only-of-type {\n",
       "        vertical-align: middle;\n",
       "    }\n",
       "\n",
       "    .dataframe tbody tr th {\n",
       "        vertical-align: top;\n",
       "    }\n",
       "\n",
       "    .dataframe thead th {\n",
       "        text-align: right;\n",
       "    }\n",
       "</style>\n",
       "<table border=\"1\" class=\"dataframe\">\n",
       "  <thead>\n",
       "    <tr style=\"text-align: right;\">\n",
       "      <th></th>\n",
       "      <th>name</th>\n",
       "    </tr>\n",
       "    <tr>\n",
       "      <th>vertex ID</th>\n",
       "      <th></th>\n",
       "    </tr>\n",
       "  </thead>\n",
       "  <tbody>\n",
       "    <tr>\n",
       "      <th>0</th>\n",
       "      <td>30</td>\n",
       "    </tr>\n",
       "    <tr>\n",
       "      <th>1</th>\n",
       "      <td>4102</td>\n",
       "    </tr>\n",
       "    <tr>\n",
       "      <th>2</th>\n",
       "      <td>33</td>\n",
       "    </tr>\n",
       "    <tr>\n",
       "      <th>3</th>\n",
       "      <td>103</td>\n",
       "    </tr>\n",
       "    <tr>\n",
       "      <th>4</th>\n",
       "      <td>35</td>\n",
       "    </tr>\n",
       "    <tr>\n",
       "      <th>...</th>\n",
       "      <td>...</td>\n",
       "    </tr>\n",
       "    <tr>\n",
       "      <th>15639</th>\n",
       "      <td>26066</td>\n",
       "    </tr>\n",
       "    <tr>\n",
       "      <th>15640</th>\n",
       "      <td>25069</td>\n",
       "    </tr>\n",
       "    <tr>\n",
       "      <th>15641</th>\n",
       "      <td>26068</td>\n",
       "    </tr>\n",
       "    <tr>\n",
       "      <th>15642</th>\n",
       "      <td>26070</td>\n",
       "    </tr>\n",
       "    <tr>\n",
       "      <th>15643</th>\n",
       "      <td>26072</td>\n",
       "    </tr>\n",
       "  </tbody>\n",
       "</table>\n",
       "<p>15644 rows × 1 columns</p>\n",
       "</div>"
      ],
      "text/plain": [
       "            name\n",
       "vertex ID       \n",
       "0             30\n",
       "1           4102\n",
       "2             33\n",
       "3            103\n",
       "4             35\n",
       "...          ...\n",
       "15639      26066\n",
       "15640      25069\n",
       "15641      26068\n",
       "15642      26070\n",
       "15643      26072\n",
       "\n",
       "[15644 rows x 1 columns]"
      ]
     },
     "execution_count": 50,
     "metadata": {},
     "output_type": "execute_result"
    }
   ],
   "source": [
    "nodes = ig.get_vertex_dataframe()\n",
    "nodes"
   ]
  },
  {
   "cell_type": "code",
   "execution_count": 51,
   "id": "e406fba8",
   "metadata": {
    "ExecuteTime": {
     "end_time": "2022-08-23T04:26:30.581328Z",
     "start_time": "2022-08-23T04:26:30.420157Z"
    }
   },
   "outputs": [
    {
     "data": {
      "text/html": [
       "<div>\n",
       "<style scoped>\n",
       "    .dataframe tbody tr th:only-of-type {\n",
       "        vertical-align: middle;\n",
       "    }\n",
       "\n",
       "    .dataframe tbody tr th {\n",
       "        vertical-align: top;\n",
       "    }\n",
       "\n",
       "    .dataframe thead th {\n",
       "        text-align: right;\n",
       "    }\n",
       "</style>\n",
       "<table border=\"1\" class=\"dataframe\">\n",
       "  <thead>\n",
       "    <tr style=\"text-align: right;\">\n",
       "      <th></th>\n",
       "      <th>source</th>\n",
       "      <th>target</th>\n",
       "    </tr>\n",
       "    <tr>\n",
       "      <th>edge ID</th>\n",
       "      <th></th>\n",
       "      <th></th>\n",
       "    </tr>\n",
       "  </thead>\n",
       "  <tbody>\n",
       "    <tr>\n",
       "      <th>0</th>\n",
       "      <td>0</td>\n",
       "      <td>1</td>\n",
       "    </tr>\n",
       "    <tr>\n",
       "      <th>1</th>\n",
       "      <td>2</td>\n",
       "      <td>3</td>\n",
       "    </tr>\n",
       "    <tr>\n",
       "      <th>2</th>\n",
       "      <td>4</td>\n",
       "      <td>5</td>\n",
       "    </tr>\n",
       "    <tr>\n",
       "      <th>3</th>\n",
       "      <td>4</td>\n",
       "      <td>6</td>\n",
       "    </tr>\n",
       "    <tr>\n",
       "      <th>4</th>\n",
       "      <td>7</td>\n",
       "      <td>8</td>\n",
       "    </tr>\n",
       "    <tr>\n",
       "      <th>...</th>\n",
       "      <td>...</td>\n",
       "      <td>...</td>\n",
       "    </tr>\n",
       "    <tr>\n",
       "      <th>212366</th>\n",
       "      <td>1889</td>\n",
       "      <td>1898</td>\n",
       "    </tr>\n",
       "    <tr>\n",
       "      <th>212367</th>\n",
       "      <td>1889</td>\n",
       "      <td>1925</td>\n",
       "    </tr>\n",
       "    <tr>\n",
       "      <th>212368</th>\n",
       "      <td>15639</td>\n",
       "      <td>15640</td>\n",
       "    </tr>\n",
       "    <tr>\n",
       "      <th>212369</th>\n",
       "      <td>15641</td>\n",
       "      <td>15642</td>\n",
       "    </tr>\n",
       "    <tr>\n",
       "      <th>212370</th>\n",
       "      <td>15641</td>\n",
       "      <td>15643</td>\n",
       "    </tr>\n",
       "  </tbody>\n",
       "</table>\n",
       "<p>212371 rows × 2 columns</p>\n",
       "</div>"
      ],
      "text/plain": [
       "         source  target\n",
       "edge ID                \n",
       "0             0       1\n",
       "1             2       3\n",
       "2             4       5\n",
       "3             4       6\n",
       "4             7       8\n",
       "...         ...     ...\n",
       "212366     1889    1898\n",
       "212367     1889    1925\n",
       "212368    15639   15640\n",
       "212369    15641   15642\n",
       "212370    15641   15643\n",
       "\n",
       "[212371 rows x 2 columns]"
      ]
     },
     "execution_count": 51,
     "metadata": {},
     "output_type": "execute_result"
    }
   ],
   "source": [
    "relation = ig.get_edge_dataframe()\n",
    "relation"
   ]
  },
  {
   "cell_type": "markdown",
   "id": "31517aef",
   "metadata": {},
   "source": [
    "查看邻居节点，可以用于计算一度联系人特征"
   ]
  },
  {
   "cell_type": "code",
   "execution_count": 62,
   "id": "efd0cb9d",
   "metadata": {
    "ExecuteTime": {
     "end_time": "2022-08-23T04:30:24.481466Z",
     "start_time": "2022-08-23T04:30:24.462183Z"
    },
    "scrolled": true
   },
   "outputs": [
    {
     "data": {
      "text/plain": [
       "[[5, 4],\n",
       " [47,\n",
       "  26,\n",
       "  27,\n",
       "  28,\n",
       "  29,\n",
       "  30,\n",
       "  31,\n",
       "  32,\n",
       "  33,\n",
       "  34,\n",
       "  35,\n",
       "  36,\n",
       "  37,\n",
       "  38,\n",
       "  39,\n",
       "  40,\n",
       "  41,\n",
       "  42,\n",
       "  43,\n",
       "  44,\n",
       "  45,\n",
       "  46,\n",
       "  48,\n",
       "  49,\n",
       "  50,\n",
       "  51,\n",
       "  52,\n",
       "  53,\n",
       "  54,\n",
       "  55,\n",
       "  56,\n",
       "  57,\n",
       "  58,\n",
       "  59,\n",
       "  60,\n",
       "  61,\n",
       "  62,\n",
       "  63,\n",
       "  64,\n",
       "  65,\n",
       "  66,\n",
       "  67,\n",
       "  68,\n",
       "  69,\n",
       "  70,\n",
       "  71,\n",
       "  72,\n",
       "  73,\n",
       "  74,\n",
       "  75,\n",
       "  76,\n",
       "  77,\n",
       "  78,\n",
       "  79,\n",
       "  80],\n",
       " [14, 13]]"
      ]
     },
     "execution_count": 62,
     "metadata": {},
     "output_type": "execute_result"
    }
   ],
   "source": [
    "ig.neighborhood([5, 47,14], order=1)"
   ]
  },
  {
   "cell_type": "code",
   "execution_count": 75,
   "id": "d2726ad6",
   "metadata": {
    "ExecuteTime": {
     "end_time": "2022-08-23T04:49:49.666452Z",
     "start_time": "2022-08-23T04:49:47.325711Z"
    }
   },
   "outputs": [],
   "source": [
    "nodes['degree'] =ig.degree()\n",
    "nodes['pagerank'] = ig.pagerank()\n",
    "nodes['harmonic_centrality'] = ig.harmonic_centrality()\n",
    "nodes['betweenness'] = ig.betweenness()"
   ]
  },
  {
   "cell_type": "code",
   "execution_count": 95,
   "id": "d6978cce",
   "metadata": {
    "ExecuteTime": {
     "end_time": "2022-08-23T04:56:51.817014Z",
     "start_time": "2022-08-23T04:56:43.491140Z"
    }
   },
   "outputs": [],
   "source": [
    "nodes['infomap_cluster'] = ig.community_infomap().membership\n",
    "nodes['multilevel_cluster'] = ig.community_multilevel().membership"
   ]
  },
  {
   "cell_type": "code",
   "execution_count": 96,
   "id": "f40870aa",
   "metadata": {
    "ExecuteTime": {
     "end_time": "2022-08-23T04:56:52.587922Z",
     "start_time": "2022-08-23T04:56:52.574347Z"
    }
   },
   "outputs": [
    {
     "data": {
      "text/html": [
       "<div>\n",
       "<style scoped>\n",
       "    .dataframe tbody tr th:only-of-type {\n",
       "        vertical-align: middle;\n",
       "    }\n",
       "\n",
       "    .dataframe tbody tr th {\n",
       "        vertical-align: top;\n",
       "    }\n",
       "\n",
       "    .dataframe thead th {\n",
       "        text-align: right;\n",
       "    }\n",
       "</style>\n",
       "<table border=\"1\" class=\"dataframe\">\n",
       "  <thead>\n",
       "    <tr style=\"text-align: right;\">\n",
       "      <th></th>\n",
       "      <th>name</th>\n",
       "      <th>degree</th>\n",
       "      <th>pagerank</th>\n",
       "      <th>harmonic_centrality</th>\n",
       "      <th>betweenness</th>\n",
       "      <th>infomap_cluster</th>\n",
       "      <th>multilevel_cluster</th>\n",
       "    </tr>\n",
       "    <tr>\n",
       "      <th>vertex ID</th>\n",
       "      <th></th>\n",
       "      <th></th>\n",
       "      <th></th>\n",
       "      <th></th>\n",
       "      <th></th>\n",
       "      <th></th>\n",
       "      <th></th>\n",
       "    </tr>\n",
       "  </thead>\n",
       "  <tbody>\n",
       "    <tr>\n",
       "      <th>0</th>\n",
       "      <td>30</td>\n",
       "      <td>1</td>\n",
       "      <td>0.000064</td>\n",
       "      <td>0.000064</td>\n",
       "      <td>0.0</td>\n",
       "      <td>0</td>\n",
       "      <td>0</td>\n",
       "    </tr>\n",
       "    <tr>\n",
       "      <th>1</th>\n",
       "      <td>4102</td>\n",
       "      <td>1</td>\n",
       "      <td>0.000064</td>\n",
       "      <td>0.000064</td>\n",
       "      <td>0.0</td>\n",
       "      <td>0</td>\n",
       "      <td>0</td>\n",
       "    </tr>\n",
       "    <tr>\n",
       "      <th>2</th>\n",
       "      <td>33</td>\n",
       "      <td>1</td>\n",
       "      <td>0.000064</td>\n",
       "      <td>0.000064</td>\n",
       "      <td>0.0</td>\n",
       "      <td>1</td>\n",
       "      <td>1</td>\n",
       "    </tr>\n",
       "    <tr>\n",
       "      <th>3</th>\n",
       "      <td>103</td>\n",
       "      <td>1</td>\n",
       "      <td>0.000064</td>\n",
       "      <td>0.000064</td>\n",
       "      <td>0.0</td>\n",
       "      <td>1</td>\n",
       "      <td>1</td>\n",
       "    </tr>\n",
       "    <tr>\n",
       "      <th>4</th>\n",
       "      <td>35</td>\n",
       "      <td>2</td>\n",
       "      <td>0.000093</td>\n",
       "      <td>0.000128</td>\n",
       "      <td>1.0</td>\n",
       "      <td>2</td>\n",
       "      <td>2</td>\n",
       "    </tr>\n",
       "    <tr>\n",
       "      <th>...</th>\n",
       "      <td>...</td>\n",
       "      <td>...</td>\n",
       "      <td>...</td>\n",
       "      <td>...</td>\n",
       "      <td>...</td>\n",
       "      <td>...</td>\n",
       "      <td>...</td>\n",
       "    </tr>\n",
       "    <tr>\n",
       "      <th>15639</th>\n",
       "      <td>26066</td>\n",
       "      <td>1</td>\n",
       "      <td>0.000064</td>\n",
       "      <td>0.000064</td>\n",
       "      <td>0.0</td>\n",
       "      <td>6254</td>\n",
       "      <td>4376</td>\n",
       "    </tr>\n",
       "    <tr>\n",
       "      <th>15640</th>\n",
       "      <td>25069</td>\n",
       "      <td>1</td>\n",
       "      <td>0.000064</td>\n",
       "      <td>0.000064</td>\n",
       "      <td>0.0</td>\n",
       "      <td>6254</td>\n",
       "      <td>4376</td>\n",
       "    </tr>\n",
       "    <tr>\n",
       "      <th>15641</th>\n",
       "      <td>26068</td>\n",
       "      <td>2</td>\n",
       "      <td>0.000093</td>\n",
       "      <td>0.000128</td>\n",
       "      <td>1.0</td>\n",
       "      <td>6255</td>\n",
       "      <td>4377</td>\n",
       "    </tr>\n",
       "    <tr>\n",
       "      <th>15642</th>\n",
       "      <td>26070</td>\n",
       "      <td>1</td>\n",
       "      <td>0.000049</td>\n",
       "      <td>0.000096</td>\n",
       "      <td>0.0</td>\n",
       "      <td>6255</td>\n",
       "      <td>4377</td>\n",
       "    </tr>\n",
       "    <tr>\n",
       "      <th>15643</th>\n",
       "      <td>26072</td>\n",
       "      <td>1</td>\n",
       "      <td>0.000049</td>\n",
       "      <td>0.000096</td>\n",
       "      <td>0.0</td>\n",
       "      <td>6255</td>\n",
       "      <td>4377</td>\n",
       "    </tr>\n",
       "  </tbody>\n",
       "</table>\n",
       "<p>15644 rows × 7 columns</p>\n",
       "</div>"
      ],
      "text/plain": [
       "            name  degree  pagerank  harmonic_centrality  betweenness  \\\n",
       "vertex ID                                                              \n",
       "0             30       1  0.000064             0.000064          0.0   \n",
       "1           4102       1  0.000064             0.000064          0.0   \n",
       "2             33       1  0.000064             0.000064          0.0   \n",
       "3            103       1  0.000064             0.000064          0.0   \n",
       "4             35       2  0.000093             0.000128          1.0   \n",
       "...          ...     ...       ...                  ...          ...   \n",
       "15639      26066       1  0.000064             0.000064          0.0   \n",
       "15640      25069       1  0.000064             0.000064          0.0   \n",
       "15641      26068       2  0.000093             0.000128          1.0   \n",
       "15642      26070       1  0.000049             0.000096          0.0   \n",
       "15643      26072       1  0.000049             0.000096          0.0   \n",
       "\n",
       "           infomap_cluster  multilevel_cluster  \n",
       "vertex ID                                       \n",
       "0                        0                   0  \n",
       "1                        0                   0  \n",
       "2                        1                   1  \n",
       "3                        1                   1  \n",
       "4                        2                   2  \n",
       "...                    ...                 ...  \n",
       "15639                 6254                4376  \n",
       "15640                 6254                4376  \n",
       "15641                 6255                4377  \n",
       "15642                 6255                4377  \n",
       "15643                 6255                4377  \n",
       "\n",
       "[15644 rows x 7 columns]"
      ]
     },
     "execution_count": 96,
     "metadata": {},
     "output_type": "execute_result"
    }
   ],
   "source": [
    "nodes"
   ]
  },
  {
   "cell_type": "code",
   "execution_count": null,
   "id": "80fd1eb1",
   "metadata": {},
   "outputs": [],
   "source": []
  }
 ],
 "metadata": {
  "kernelspec": {
   "display_name": "Python 3",
   "language": "python",
   "name": "python3"
  },
  "language_info": {
   "codemirror_mode": {
    "name": "ipython",
    "version": 3
   },
   "file_extension": ".py",
   "mimetype": "text/x-python",
   "name": "python",
   "nbconvert_exporter": "python",
   "pygments_lexer": "ipython3",
   "version": "3.8.8"
  },
  "varInspector": {
   "cols": {
    "lenName": 16,
    "lenType": 16,
    "lenVar": 40
   },
   "kernels_config": {
    "python": {
     "delete_cmd_postfix": "",
     "delete_cmd_prefix": "del ",
     "library": "var_list.py",
     "varRefreshCmd": "print(var_dic_list())"
    },
    "r": {
     "delete_cmd_postfix": ") ",
     "delete_cmd_prefix": "rm(",
     "library": "var_list.r",
     "varRefreshCmd": "cat(var_dic_list()) "
    }
   },
   "types_to_exclude": [
    "module",
    "function",
    "builtin_function_or_method",
    "instance",
    "_Feature"
   ],
   "window_display": false
  }
 },
 "nbformat": 4,
 "nbformat_minor": 5
}
