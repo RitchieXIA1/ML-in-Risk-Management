{
 "cells": [
  {
   "cell_type": "code",
   "execution_count": 27,
   "id": "626a0c24",
   "metadata": {
    "ExecuteTime": {
     "end_time": "2022-08-19T02:56:59.764789Z",
     "start_time": "2022-08-19T02:56:59.759634Z"
    }
   },
   "outputs": [],
   "source": [
    "from py2neo import Graph, Node, Relationship, Subgraph,NodeMatcher,RelationshipMatcher"
   ]
  },
  {
   "cell_type": "code",
   "execution_count": 40,
   "id": "e90ac619",
   "metadata": {
    "ExecuteTime": {
     "end_time": "2022-08-19T03:09:55.610651Z",
     "start_time": "2022-08-19T03:09:53.510081Z"
    }
   },
   "outputs": [],
   "source": [
    "g = Graph('http://localhost:7474',auth=(\"neo4j\", \"123456\"))\n",
    "#在任何一个cell运行时必须得有该语句\n",
    "tx = g.begin() \n",
    "\n",
    "jiazhen = Node(\"Person\", name=\"陈家珍\", age=66)\n",
    "fugui = Node(\"Person\", name='徐福贵', age=67)\n",
    "youqian = Node(\"Person\", name=\"徐有钱\")\n",
    "renxing = Node(\"Person\", name=\"徐任性\")\n",
    "cat = Node(\"Person\", name='cat')\n",
    "dog = Node(\"Person\", name='dog')\n",
    "\n",
    "wife = Relationship(fugui, \"WIFE\", jiazhen)\n",
    "brother_1 = Relationship(fugui, \"BROTHER\", youqian)\n",
    "brother_2 = Relationship(fugui, \"BROTHER\", renxing)\n",
    "hus = Relationship(jiazhen, 'HUS', fugui)\n",
    "know = Relationship(cat, 'KNOWS', dog)\n",
    "\n",
    "#先构建Subgraph实例，再创建图\n",
    "relation_list = Subgraph(relationships=[wife, brother_2, brother_1, hus,know])\n",
    "\n",
    "tx.create(relation_list)\n",
    "#类似spark必须要有action才会进行操作，neo4j也需要用commit来执行操作\n",
    "g.commit(tx)"
   ]
  },
  {
   "cell_type": "markdown",
   "id": "9fe8c20f",
   "metadata": {},
   "source": [
    "## query"
   ]
  },
  {
   "cell_type": "markdown",
   "id": "ebe95472",
   "metadata": {},
   "source": [
    "所有节点"
   ]
  },
  {
   "cell_type": "code",
   "execution_count": 31,
   "id": "f0d7ca5f",
   "metadata": {
    "ExecuteTime": {
     "end_time": "2022-08-19T03:00:13.488282Z",
     "start_time": "2022-08-19T03:00:13.474367Z"
    }
   },
   "outputs": [
    {
     "name": "stdout",
     "output_type": "stream",
     "text": [
      "(_0:Person {name: '\\u2b50Alice'})\n",
      "(_1:Person {name: '\\u2b50Bob'})\n",
      "(_2:Person {age: 67, name: '\\u5f90\\u798f\\u8d35'})\n",
      "(_3:Person {age: 66, name: '\\u2b50\\u9648\\u5bb6\\u73cd'})\n",
      "(_4:Person {name: '\\u2b50dog'})\n",
      "(_5:Person {name: '\\u2b50\\u5f90\\u4efb\\u6027'})\n",
      "(_6:Person {name: '\\u5f90\\u6709\\u94b1'})\n",
      "(_7:Person {name: '\\u2b50cat'})\n",
      "(_8:Person {name: '\\u5f90\\u4efb\\u6027'})\n",
      "(_9:Person {age: 66, name: '\\u9648\\u5bb6\\u73cd'})\n",
      "(_10:Person {name: 'cat'})\n",
      "(_11:Person {name: 'dog'})\n",
      "dict_items([('name', 'dog')])\n",
      ":Person\n"
     ]
    }
   ],
   "source": [
    "nodes = g.nodes.match()\n",
    "\n",
    "for node in nodes:\n",
    "    print(node)\n",
    "print(node.items())\n",
    "print(node.labels)"
   ]
  },
  {
   "cell_type": "markdown",
   "id": "e579a30d",
   "metadata": {},
   "source": [
    "限定条件"
   ]
  },
  {
   "cell_type": "code",
   "execution_count": 32,
   "id": "fc71f37b",
   "metadata": {
    "ExecuteTime": {
     "end_time": "2022-08-19T03:00:47.968103Z",
     "start_time": "2022-08-19T03:00:45.810271Z"
    }
   },
   "outputs": [
    {
     "name": "stdout",
     "output_type": "stream",
     "text": [
      "(_6:Person {name: '\\u5f90\\u6709\\u94b1'})\n",
      "徐有钱\n",
      "⭐Alice\n",
      "None\n",
      "⭐Bob\n",
      "None\n",
      "徐福贵\n",
      "67\n",
      "⭐陈家珍\n",
      "66\n",
      "⭐dog\n",
      "None\n",
      "⭐徐任性\n",
      "None\n",
      "徐有钱\n",
      "None\n",
      "⭐cat\n",
      "None\n",
      "徐任性\n",
      "None\n",
      "陈家珍\n",
      "66\n",
      "cat\n",
      "None\n",
      "dog\n",
      "None\n",
      "*************************年龄66的节点*************************\n",
      "⭐陈家珍\n",
      "66\n",
      "陈家珍\n",
      "66\n",
      "*************************姓徐的节点*************************\n",
      "徐福贵\n",
      "67\n",
      "徐有钱\n",
      "None\n",
      "徐任性\n",
      "None\n"
     ]
    }
   ],
   "source": [
    "# 用来查找节点的对象\n",
    "matcher = NodeMatcher(g)\n",
    "\n",
    "# first 返回第一个符合条件的节点\n",
    "node1 = matcher.match('Person', name='徐有钱').first()\n",
    "print(node1)\n",
    "print(node1['name'])\n",
    "\n",
    "# all 返回所有符合条件的节点\n",
    "nodes = matcher.match('Person').all()\n",
    "\n",
    "for node in nodes:\n",
    "    print(node['name'])\n",
    "    print(node['age'])\n",
    "\n",
    "nodes = matcher.match('Person', age=66).all()\n",
    "print('*' * 25 + '年龄66的节点' + '*' * 25)\n",
    "for node in nodes:\n",
    "    print(node['name'])\n",
    "    print(node['age'])\n",
    "# 模糊匹配 要用Cypher\n",
    "nodes = matcher.match(\"Person\").where(\"_.name =~ '徐.*'\").all()\n",
    "\n",
    "print('*' * 25 + '姓徐的节点' + '*' * 25)\n",
    "for node in nodes:\n",
    "    print(node['name'])\n",
    "    print(node['age'])"
   ]
  },
  {
   "cell_type": "markdown",
   "id": "64d1ccea",
   "metadata": {},
   "source": [
    "## 更新 Update\n",
    "更新先要找出Nodes，再使用事务的push更新"
   ]
  },
  {
   "cell_type": "code",
   "execution_count": 33,
   "id": "85395da8",
   "metadata": {
    "ExecuteTime": {
     "end_time": "2022-08-19T03:00:54.018042Z",
     "start_time": "2022-08-19T03:00:53.922537Z"
    }
   },
   "outputs": [
    {
     "name": "stderr",
     "output_type": "stream",
     "text": [
      "<ipython-input-33-e6272f81e8d6>:22: DeprecationWarning: The transaction.commit() method is deprecated, use graph.commit(transaction) instead\n",
      "  tx.commit()\n"
     ]
    }
   ],
   "source": [
    "tx = g.begin()\n",
    "# 找到你要找的Nodes\n",
    "matcher = NodeMatcher(g)\n",
    "\n",
    "# 修改单个节点\n",
    "# init_node = matcher.match(\"Person\", name=\"福贵\")\n",
    "# new_node = init_node.first()\n",
    "# new_node['name'] = \"徐福贵\"\n",
    "# sub = Subgraph(nodes=[new_node])\n",
    "# tx.push(sub)\n",
    "# tx.commit()\n",
    "\n",
    "# 修改多个节点\n",
    "init_node = matcher.match(\"Person\")\n",
    "new_nodes = []\n",
    "for node in init_node.all():\n",
    "    node['name'] = '⭐'+node['name']\n",
    "    new_nodes.append(node)\n",
    "\n",
    "sub = Subgraph(nodes=new_nodes)\n",
    "tx.push(sub)\n",
    "g.commit(tx)"
   ]
  },
  {
   "cell_type": "markdown",
   "id": "170bdf79",
   "metadata": {},
   "source": [
    "两个节点新加关系"
   ]
  },
  {
   "cell_type": "code",
   "execution_count": 34,
   "id": "3653e828",
   "metadata": {
    "ExecuteTime": {
     "end_time": "2022-08-19T03:01:04.814509Z",
     "start_time": "2022-08-19T03:01:04.766038Z"
    }
   },
   "outputs": [],
   "source": [
    "matcher = NodeMatcher(g)\n",
    "\n",
    "fugui = matcher.match('Person', name='⭐徐福贵').first()\n",
    "youqian = matcher.match('Person', name='⭐徐有钱').first()\n",
    "\n",
    "relation = Relationship(fugui, 'Brother', youqian)\n",
    "\n",
    "g.create(relation)"
   ]
  },
  {
   "cell_type": "markdown",
   "id": "fa020435",
   "metadata": {},
   "source": [
    "## 删除\n",
    "删除关系链\n",
    "delete方法\n",
    "\n",
    "注意！！这一方法会同时把节点给删除！！！"
   ]
  },
  {
   "cell_type": "code",
   "execution_count": 35,
   "id": "e720e16f",
   "metadata": {
    "ExecuteTime": {
     "end_time": "2022-08-19T03:04:33.232717Z",
     "start_time": "2022-08-19T03:04:31.113718Z"
    }
   },
   "outputs": [
    {
     "name": "stdout",
     "output_type": "stream",
     "text": [
      "(⭐徐福贵)-[:Brother {}]->(⭐徐有钱)\n"
     ]
    }
   ],
   "source": [
    "matcher = NodeMatcher(g)\n",
    "r_matcher = RelationshipMatcher(g)\n",
    "fugui = matcher.match('Person', name='⭐徐福贵').first()\n",
    "youqian = matcher.match('Person', name='⭐徐有钱').first()\n",
    "\n",
    "relation = r_matcher.match(nodes=[fugui, youqian]).first()\n",
    "print(relation)\n",
    "g.delete(relation)"
   ]
  },
  {
   "cell_type": "markdown",
   "id": "6cf4e435",
   "metadata": {},
   "source": [
    "只删除关系\n",
    "\n",
    "sepatate 方法 \\\n",
    "很明显这才符合常理"
   ]
  },
  {
   "cell_type": "code",
   "execution_count": 36,
   "id": "ca8f076e",
   "metadata": {
    "ExecuteTime": {
     "end_time": "2022-08-19T03:06:05.598554Z",
     "start_time": "2022-08-19T03:06:03.445286Z"
    }
   },
   "outputs": [
    {
     "name": "stdout",
     "output_type": "stream",
     "text": [
      "(⭐cat)-[:KNOWS {}]->(⭐dog)\n"
     ]
    }
   ],
   "source": [
    "matcher = NodeMatcher(g)\n",
    "r_matcher = RelationshipMatcher(g)\n",
    "cat = matcher.match('Person', name='⭐cat').first()\n",
    "dog = matcher.match('Person', name='⭐dog').first()\n",
    "\n",
    "relation = r_matcher.match(nodes=[cat, dog]).first()\n",
    "print(relation)\n",
    "g.separate(relation)"
   ]
  },
  {
   "cell_type": "markdown",
   "id": "06822714",
   "metadata": {},
   "source": [
    "## 批处理\n",
    "对于大量的插入一般是很费时的，首先我们可以使用事务，加快一定速度，\\\n",
    "而插入的方法一样重要，我们很多时候是遍历一个文件然后生成图，例子中我们生成每个Node后,  \\\n",
    "先把他们放入一个List中，再变为Subgraph实例,然后再create(),耗时比一条条插入至少快10倍以上"
   ]
  },
  {
   "cell_type": "markdown",
   "id": "57a136dc",
   "metadata": {},
   "source": [
    "创建多个节点"
   ]
  },
  {
   "cell_type": "code",
   "execution_count": 38,
   "id": "1c2360b0",
   "metadata": {
    "ExecuteTime": {
     "end_time": "2022-08-19T03:07:52.727691Z",
     "start_time": "2022-08-19T03:07:50.640947Z"
    }
   },
   "outputs": [
    {
     "name": "stderr",
     "output_type": "stream",
     "text": [
      "<ipython-input-38-e6f4a29426ad>:7: DeprecationWarning: The transaction.commit() method is deprecated, use graph.commit(transaction) instead\n",
      "  tx.commit()\n"
     ]
    }
   ],
   "source": [
    "tx = g.begin()\n",
    "node_list = [Node(\"Num\", name=str(i)) for i in range(4)]\n",
    "\n",
    "node_list = Subgraph(nodes=node_list)\n",
    "\n",
    "tx.create(node_list)\n",
    "tx.commit()"
   ]
  },
  {
   "cell_type": "markdown",
   "id": "8734afd3",
   "metadata": {},
   "source": [
    "删除所有的关系"
   ]
  },
  {
   "cell_type": "code",
   "execution_count": 41,
   "id": "d0b06a1e",
   "metadata": {
    "ExecuteTime": {
     "end_time": "2022-08-19T03:12:13.020682Z",
     "start_time": "2022-08-19T03:12:10.680551Z"
    }
   },
   "outputs": [],
   "source": [
    "matcher = RelationshipMatcher(g)\n",
    "tx = g.begin()\n",
    "relationship_list = matcher.match().all()\n",
    "\n",
    "node_list = Subgraph(relationships=relationship_list)\n",
    "\n",
    "tx.separate(node_list)\n",
    "g.commit(tx)"
   ]
  },
  {
   "cell_type": "code",
   "execution_count": 42,
   "id": "c72a4ef9",
   "metadata": {
    "ExecuteTime": {
     "end_time": "2022-08-19T04:37:05.216142Z",
     "start_time": "2022-08-19T04:37:04.669507Z"
    }
   },
   "outputs": [],
   "source": [
    "import pandas as pd\n",
    "import os\n",
    "import numpy as np\n",
    "\n",
    "file_name = 'ownthink_v2.csv'\n",
    "data = pd.read_csv(file_name, chunksize=1000)  # chunksize用于指定每次提取的行数"
   ]
  },
  {
   "cell_type": "code",
   "execution_count": 43,
   "id": "9bbf1ffd",
   "metadata": {
    "ExecuteTime": {
     "end_time": "2022-08-19T04:37:19.440256Z",
     "start_time": "2022-08-19T04:37:19.430062Z"
    }
   },
   "outputs": [],
   "source": [
    "def save_signal_chunk(index, data, base_path):\n",
    "    if not os.path.exists(base_path):\n",
    "        os.mkdir(base_path)\n",
    "\n",
    "    line_count = data.shape[0]\n",
    "    entity_df = pd.DataFrame()\n",
    "    relationship_df = pd.DataFrame()\n",
    "\n",
    "    for _, line in data.iterrows():\n",
    "        # 不要用data.loc[0] 会报错\n",
    "        entity0 = line.实体\n",
    "        label = line.属性\n",
    "        entity1 = line.值\n",
    "\n",
    "        entity_df = entity_df.append({\n",
    "            \":ID\": hash(entity0),\n",
    "            \"name\": entity0,\n",
    "            \":LABEL\": 'ENTITY'\n",
    "        }, ignore_index=True)\n",
    "\n",
    "        entity_df = entity_df.append({\n",
    "            \":ID\": hash(entity1),\n",
    "            \"name\": entity1,\n",
    "            \":LABEL\": 'ENTITY'\n",
    "        }, ignore_index=True)\n",
    "\n",
    "        relationship_df = relationship_df.append({\n",
    "            ':START_ID': hash(entity0),\n",
    "            'name': label,\n",
    "            ':END_ID': hash(entity1),\n",
    "            ':TYPE': 'RELATIONSHIP'\n",
    "        }, ignore_index=True)\n",
    "\n",
    "    entity_df.to_csv('{}/entity{}.csv'.format(base_path, index), index=None)\n",
    "    relationship_df.to_csv('{}/relationship{}.csv'.format(base_path, index), index=None)"
   ]
  },
  {
   "cell_type": "code",
   "execution_count": 46,
   "id": "d876a0fc",
   "metadata": {
    "ExecuteTime": {
     "end_time": "2022-08-19T05:08:33.115162Z",
     "start_time": "2022-08-19T05:08:09.937848Z"
    }
   },
   "outputs": [],
   "source": [
    "for index, d in enumerate(data):\n",
    "    save_signal_chunk(index, d, 'out')\n",
    "    if index == 4:\n",
    "        break"
   ]
  },
  {
   "cell_type": "code",
   "execution_count": 47,
   "id": "2038ddcd",
   "metadata": {
    "ExecuteTime": {
     "end_time": "2022-08-19T05:08:57.359802Z",
     "start_time": "2022-08-19T05:08:57.223110Z"
    }
   },
   "outputs": [],
   "source": [
    "import pandas as pd\n",
    "import os\n",
    "\n",
    "from joblib import Parallel, delayed\n",
    "\n",
    "\n",
    "def save_signal_chunk(index, data, base_path):\n",
    "    if not os.path.exists(base_path):\n",
    "        os.mkdir(base_path)\n",
    "\n",
    "    entity_df = pd.DataFrame()\n",
    "    relationship_df = pd.DataFrame()\n",
    "\n",
    "    for _, line in data.iterrows():\n",
    "        # 不要用data.loc[0] 会报错\n",
    "        entity0 = line.实体\n",
    "        label = line.属性\n",
    "        entity1 = line.值\n",
    "\n",
    "        entity_df = entity_df.append({\n",
    "            \":ID\": hash(entity0),\n",
    "            \"name\": entity0,\n",
    "            \":LABEL\": 'ENTITY'\n",
    "        }, ignore_index=True)\n",
    "\n",
    "        entity_df = entity_df.append({\n",
    "            \":ID\": hash(entity1),\n",
    "            \"name\": entity1,\n",
    "            \":LABEL\": 'ENTITY'\n",
    "        }, ignore_index=True)\n",
    "\n",
    "        relationship_df = relationship_df.append({\n",
    "            ':START_ID': hash(entity0),\n",
    "            'name': label,\n",
    "            ':END_ID': hash(entity1),\n",
    "            ':TYPE': 'RELATIONSHIP'\n",
    "        }, ignore_index=True)\n",
    "\n",
    "    # 实体要去重\n",
    "    entity_df = entity_df.drop_duplicates(subset=':ID')\n",
    "    entity_df = entity_df[[':ID', 'name', ':LABEL']]\n",
    "\n",
    "    entity_df.to_csv('{}/entity{}.csv'.format(base_path, index), index=None)\n",
    "    relationship_df.to_csv('{}/relationship{}.csv'.format(base_path, index), index=None)\n",
    "\n",
    "    if index <= 4:\n",
    "        print('index:', index, 'time:', round(time.time() - star, 2))\n",
    "\n",
    "\n"
   ]
  },
  {
   "cell_type": "code",
   "execution_count": null,
   "id": "b3afbece",
   "metadata": {},
   "outputs": [],
   "source": [
    "'''\n",
    "并行前\n",
    "for index, d in enumerate(data):\n",
    "    save_signal_chunk(index, d, 'out')\n",
    "'''\n",
    "import time\n",
    "\n",
    "star = time.time()\n",
    "\n",
    "Parallel(n_jobs=5)(delayed(save_signal_chunk)(index, d, 'out') for index, d in enumerate(data))"
   ]
  },
  {
   "cell_type": "code",
   "execution_count": 50,
   "id": "c532b103",
   "metadata": {
    "ExecuteTime": {
     "end_time": "2022-08-19T05:59:29.078213Z",
     "start_time": "2022-08-19T05:59:29.008265Z"
    }
   },
   "outputs": [],
   "source": [
    "import pandas as pd\n",
    "tmp = [pd.read_csv('out/relationship'+str(i)+'.csv') for i in range(10)]\n",
    "tmp = pd.concat(tmp)\n",
    "tmp[':TYPE'] = tmp['name']\n",
    "tmp.to_csv('out/relationship.csv', index=False)"
   ]
  },
  {
   "cell_type": "code",
   "execution_count": 52,
   "id": "7457c0e8",
   "metadata": {
    "ExecuteTime": {
     "end_time": "2022-08-19T06:00:23.602808Z",
     "start_time": "2022-08-19T06:00:23.509441Z"
    }
   },
   "outputs": [
    {
     "name": "stderr",
     "output_type": "stream",
     "text": [
      "100%|███████████████████████████████████████████████████████████████████████| 10000/10000 [00:00<00:00, 2000335.75it/s]\n"
     ]
    },
    {
     "data": {
      "text/plain": [
       "(           :END_ID     :START_ID :TYPE  name\n",
       " 0     2.145722e+18  1.450828e+18   中文名   中文名\n",
       " 1     3.544093e+18  1.450828e+18    别称    别称\n",
       " 2    -8.656026e+18  1.450828e+18  形成时期  形成时期\n",
       " 3    -5.112965e+18  1.450828e+18  流行时期  流行时期\n",
       " 4    -8.111141e+18  1.450828e+18  代表诗人  代表诗人\n",
       " ...            ...           ...   ...   ...\n",
       " 9995  5.196552e+18  7.076521e+18     目     目\n",
       " 9996  4.312501e+18  7.076521e+18    亚目    亚目\n",
       " 9997  2.799001e+18  7.076521e+18     科     科\n",
       " 9998  4.255932e+18  7.076521e+18    亚科    亚科\n",
       " 9999 -3.854866e+17  7.076521e+18     属     属\n",
       " \n",
       " [10000 rows x 4 columns],\n",
       " 1528)"
      ]
     },
     "execution_count": 52,
     "metadata": {},
     "output_type": "execute_result"
    }
   ],
   "source": [
    "from tqdm import tqdm\n",
    "tmp = pd.read_csv('out/relationship.csv')\n",
    "max_len = 65535-1\n",
    "counts = {}\n",
    "for i in tqdm(tmp[':TYPE']):\n",
    "    if i in counts:\n",
    "        counts[i] += 1\n",
    "    else:\n",
    "        counts[i] = 1\n",
    "counts = sorted(counts.items(), key=lambda counts:counts[1], reverse=True)\n",
    "no_name = [i[0] for i in counts[max_len:]]\n",
    "new = tmp[tmp[':TYPE'].isin(no_name)]\n",
    "new[':TYPE'] = 'RELATIONSHIP'\n",
    "tmp[tmp[':TYPE'].isin(no_name)] = new\n",
    "tmp.to_csv('out/relationship.csv', index=False)\n",
    "tmp,len(set(tmp[':TYPE']))"
   ]
  },
  {
   "cell_type": "markdown",
   "id": "9381d7f2",
   "metadata": {},
   "source": [
    "## 用py2neo进行CSV文件导入"
   ]
  },
  {
   "cell_type": "code",
   "execution_count": 2,
   "id": "e3c57177",
   "metadata": {
    "ExecuteTime": {
     "end_time": "2022-08-19T08:31:17.122710Z",
     "start_time": "2022-08-19T08:31:17.114289Z"
    }
   },
   "outputs": [],
   "source": [
    "from py2neo import Graph,Node,Relationship"
   ]
  },
  {
   "cell_type": "code",
   "execution_count": 30,
   "id": "f27bfcb5",
   "metadata": {
    "ExecuteTime": {
     "end_time": "2022-08-19T09:13:00.767321Z",
     "start_time": "2022-08-19T09:12:58.711994Z"
    }
   },
   "outputs": [],
   "source": [
    "graph = Graph('http://localhost:7474',auth=(\"neo4j\", \"123456\"))"
   ]
  },
  {
   "cell_type": "markdown",
   "id": "9c537b69",
   "metadata": {},
   "source": [
    "删除所有已知节点"
   ]
  },
  {
   "cell_type": "code",
   "execution_count": 46,
   "id": "594342d1",
   "metadata": {
    "ExecuteTime": {
     "end_time": "2022-08-19T10:00:40.753086Z",
     "start_time": "2022-08-19T10:00:38.677459Z"
    }
   },
   "outputs": [
    {
     "data": {
      "text/html": [
       "(No data)"
      ],
      "text/plain": [
       "(No data)"
      ]
     },
     "execution_count": 46,
     "metadata": {},
     "output_type": "execute_result"
    }
   ],
   "source": [
    "graph.run('MATCH (r) DETACH DELETE r')"
   ]
  },
  {
   "cell_type": "markdown",
   "id": "b6c2248c",
   "metadata": {},
   "source": [
    "导入节点数据\n",
    "\n",
    "注意要提前把节点和关系文件放入该数据库的import文件夹内"
   ]
  },
  {
   "cell_type": "code",
   "execution_count": 42,
   "id": "71796d66",
   "metadata": {
    "ExecuteTime": {
     "end_time": "2022-08-19T09:40:16.524403Z",
     "start_time": "2022-08-19T09:40:16.184211Z"
    }
   },
   "outputs": [
    {
     "data": {
      "text/html": [
       "(No data)"
      ],
      "text/plain": [
       "(No data)"
      ]
     },
     "execution_count": 42,
     "metadata": {},
     "output_type": "execute_result"
    }
   ],
   "source": [
    "graph.run('using periodic commit 10000 load csv with headers from \"file:/node_gzh.csv\" \\\n",
    "as line with line create (:gzh {item:line.item,  trans_amount_sum:line.trans_amount_sum,\\\n",
    "trans_cnt:line.trans_cnt,  type:line.type});')"
   ]
  },
  {
   "cell_type": "code",
   "execution_count": 43,
   "id": "b87ab644",
   "metadata": {
    "ExecuteTime": {
     "end_time": "2022-08-19T09:40:17.145593Z",
     "start_time": "2022-08-19T09:40:17.125109Z"
    }
   },
   "outputs": [
    {
     "ename": "ClientError",
     "evalue": "[Schema.EquivalentSchemaRuleAlreadyExists] An equivalent index already exists, 'Index( id=1, name='index_70d15b32', type='GENERAL BTREE', schema=(:gzh {item}), indexProvider='native-btree-1.0' )'.",
     "output_type": "error",
     "traceback": [
      "\u001b[1;31m---------------------------------------------------------------------------\u001b[0m",
      "\u001b[1;31mClientError\u001b[0m                               Traceback (most recent call last)",
      "\u001b[1;32m<ipython-input-43-c44e217e87e6>\u001b[0m in \u001b[0;36m<module>\u001b[1;34m\u001b[0m\n\u001b[1;32m----> 1\u001b[1;33m \u001b[0mgraph\u001b[0m\u001b[1;33m.\u001b[0m\u001b[0mrun\u001b[0m\u001b[1;33m(\u001b[0m\u001b[1;34m'CREATE INDEX ON :gzh(item)'\u001b[0m\u001b[1;33m)\u001b[0m\u001b[1;33m\u001b[0m\u001b[1;33m\u001b[0m\u001b[0m\n\u001b[0m",
      "\u001b[1;32m~\\anaconda3\\lib\\site-packages\\py2neo\\database.py\u001b[0m in \u001b[0;36mrun\u001b[1;34m(self, cypher, parameters, **kwparameters)\u001b[0m\n\u001b[0;32m    403\u001b[0m         \u001b[1;33m:\u001b[0m\u001b[1;32mreturn\u001b[0m\u001b[1;33m:\u001b[0m\u001b[1;33m\u001b[0m\u001b[1;33m\u001b[0m\u001b[0m\n\u001b[0;32m    404\u001b[0m         \"\"\"\n\u001b[1;32m--> 405\u001b[1;33m         \u001b[1;32mreturn\u001b[0m \u001b[0mself\u001b[0m\u001b[1;33m.\u001b[0m\u001b[0mauto\u001b[0m\u001b[1;33m(\u001b[0m\u001b[1;33m)\u001b[0m\u001b[1;33m.\u001b[0m\u001b[0mrun\u001b[0m\u001b[1;33m(\u001b[0m\u001b[0mcypher\u001b[0m\u001b[1;33m,\u001b[0m \u001b[0mparameters\u001b[0m\u001b[1;33m,\u001b[0m \u001b[1;33m**\u001b[0m\u001b[0mkwparameters\u001b[0m\u001b[1;33m)\u001b[0m\u001b[1;33m\u001b[0m\u001b[1;33m\u001b[0m\u001b[0m\n\u001b[0m\u001b[0;32m    406\u001b[0m \u001b[1;33m\u001b[0m\u001b[0m\n\u001b[0;32m    407\u001b[0m     \u001b[1;32mdef\u001b[0m \u001b[0mevaluate\u001b[0m\u001b[1;33m(\u001b[0m\u001b[0mself\u001b[0m\u001b[1;33m,\u001b[0m \u001b[0mcypher\u001b[0m\u001b[1;33m,\u001b[0m \u001b[0mparameters\u001b[0m\u001b[1;33m=\u001b[0m\u001b[1;32mNone\u001b[0m\u001b[1;33m,\u001b[0m \u001b[1;33m**\u001b[0m\u001b[0mkwparameters\u001b[0m\u001b[1;33m)\u001b[0m\u001b[1;33m:\u001b[0m\u001b[1;33m\u001b[0m\u001b[1;33m\u001b[0m\u001b[0m\n",
      "\u001b[1;32m~\\anaconda3\\lib\\site-packages\\py2neo\\database.py\u001b[0m in \u001b[0;36mrun\u001b[1;34m(self, cypher, parameters, **kwparameters)\u001b[0m\n\u001b[0;32m    987\u001b[0m                 \u001b[0mresult\u001b[0m \u001b[1;33m=\u001b[0m \u001b[0mself\u001b[0m\u001b[1;33m.\u001b[0m\u001b[0m_connector\u001b[0m\u001b[1;33m.\u001b[0m\u001b[0mrun\u001b[0m\u001b[1;33m(\u001b[0m\u001b[0mself\u001b[0m\u001b[1;33m.\u001b[0m\u001b[0mref\u001b[0m\u001b[1;33m,\u001b[0m \u001b[0mcypher\u001b[0m\u001b[1;33m,\u001b[0m \u001b[0mparameters\u001b[0m\u001b[1;33m)\u001b[0m\u001b[1;33m\u001b[0m\u001b[1;33m\u001b[0m\u001b[0m\n\u001b[0;32m    988\u001b[0m             \u001b[1;32melse\u001b[0m\u001b[1;33m:\u001b[0m\u001b[1;33m\u001b[0m\u001b[1;33m\u001b[0m\u001b[0m\n\u001b[1;32m--> 989\u001b[1;33m                 result = self._connector.auto_run(cypher, parameters,\n\u001b[0m\u001b[0;32m    990\u001b[0m                                                   \u001b[0mgraph_name\u001b[0m\u001b[1;33m=\u001b[0m\u001b[0mself\u001b[0m\u001b[1;33m.\u001b[0m\u001b[0mgraph\u001b[0m\u001b[1;33m.\u001b[0m\u001b[0mname\u001b[0m\u001b[1;33m,\u001b[0m\u001b[1;33m\u001b[0m\u001b[1;33m\u001b[0m\u001b[0m\n\u001b[0;32m    991\u001b[0m                                                   readonly=self.readonly)\n",
      "\u001b[1;32m~\\anaconda3\\lib\\site-packages\\py2neo\\client\\__init__.py\u001b[0m in \u001b[0;36mauto_run\u001b[1;34m(self, cypher, parameters, graph_name, readonly)\u001b[0m\n\u001b[0;32m   1338\u001b[0m         \u001b[0mcx\u001b[0m \u001b[1;33m=\u001b[0m \u001b[0mself\u001b[0m\u001b[1;33m.\u001b[0m\u001b[0m_acquire\u001b[0m\u001b[1;33m(\u001b[0m\u001b[0mgraph_name\u001b[0m\u001b[1;33m)\u001b[0m\u001b[1;33m\u001b[0m\u001b[1;33m\u001b[0m\u001b[0m\n\u001b[0;32m   1339\u001b[0m         \u001b[1;32mtry\u001b[0m\u001b[1;33m:\u001b[0m\u001b[1;33m\u001b[0m\u001b[1;33m\u001b[0m\u001b[0m\n\u001b[1;32m-> 1340\u001b[1;33m             \u001b[1;32mreturn\u001b[0m \u001b[0mcx\u001b[0m\u001b[1;33m.\u001b[0m\u001b[0mauto_run\u001b[0m\u001b[1;33m(\u001b[0m\u001b[0mcypher\u001b[0m\u001b[1;33m,\u001b[0m \u001b[0mparameters\u001b[0m\u001b[1;33m,\u001b[0m \u001b[0mgraph_name\u001b[0m\u001b[1;33m=\u001b[0m\u001b[0mgraph_name\u001b[0m\u001b[1;33m,\u001b[0m \u001b[0mreadonly\u001b[0m\u001b[1;33m=\u001b[0m\u001b[0mreadonly\u001b[0m\u001b[1;33m)\u001b[0m\u001b[1;33m\u001b[0m\u001b[1;33m\u001b[0m\u001b[0m\n\u001b[0m\u001b[0;32m   1341\u001b[0m         \u001b[1;32mexcept\u001b[0m \u001b[1;33m(\u001b[0m\u001b[0mConnectionUnavailable\u001b[0m\u001b[1;33m,\u001b[0m \u001b[0mConnectionBroken\u001b[0m\u001b[1;33m)\u001b[0m\u001b[1;33m:\u001b[0m\u001b[1;33m\u001b[0m\u001b[1;33m\u001b[0m\u001b[0m\n\u001b[0;32m   1342\u001b[0m             \u001b[0mself\u001b[0m\u001b[1;33m.\u001b[0m\u001b[0mprune\u001b[0m\u001b[1;33m(\u001b[0m\u001b[0mcx\u001b[0m\u001b[1;33m.\u001b[0m\u001b[0mprofile\u001b[0m\u001b[1;33m)\u001b[0m\u001b[1;33m\u001b[0m\u001b[1;33m\u001b[0m\u001b[0m\n",
      "\u001b[1;32m~\\anaconda3\\lib\\site-packages\\py2neo\\client\\http.py\u001b[0m in \u001b[0;36mauto_run\u001b[1;34m(self, cypher, parameters, graph_name, readonly)\u001b[0m\n\u001b[0;32m    176\u001b[0m             \u001b[0mr\u001b[0m \u001b[1;33m=\u001b[0m \u001b[0mself\u001b[0m\u001b[1;33m.\u001b[0m\u001b[0m_post\u001b[0m\u001b[1;33m(\u001b[0m\u001b[0mHTTPTransactionRef\u001b[0m\u001b[1;33m.\u001b[0m\u001b[0mautocommit_uri\u001b[0m\u001b[1;33m(\u001b[0m\u001b[0mgraph_name\u001b[0m\u001b[1;33m)\u001b[0m\u001b[1;33m,\u001b[0m \u001b[0mcypher\u001b[0m\u001b[1;33m,\u001b[0m \u001b[0mparameters\u001b[0m\u001b[1;33m)\u001b[0m\u001b[1;33m\u001b[0m\u001b[1;33m\u001b[0m\u001b[0m\n\u001b[0;32m    177\u001b[0m             \u001b[0mrs\u001b[0m \u001b[1;33m=\u001b[0m \u001b[0mHTTPResponse\u001b[0m\u001b[1;33m.\u001b[0m\u001b[0mfrom_json\u001b[0m\u001b[1;33m(\u001b[0m\u001b[0mr\u001b[0m\u001b[1;33m.\u001b[0m\u001b[0mstatus\u001b[0m\u001b[1;33m,\u001b[0m \u001b[0mr\u001b[0m\u001b[1;33m.\u001b[0m\u001b[0mdata\u001b[0m\u001b[1;33m.\u001b[0m\u001b[0mdecode\u001b[0m\u001b[1;33m(\u001b[0m\u001b[1;34m\"utf-8\"\u001b[0m\u001b[1;33m)\u001b[0m\u001b[1;33m)\u001b[0m\u001b[1;33m\u001b[0m\u001b[1;33m\u001b[0m\u001b[0m\n\u001b[1;32m--> 178\u001b[1;33m             \u001b[0mrs\u001b[0m\u001b[1;33m.\u001b[0m\u001b[0maudit\u001b[0m\u001b[1;33m(\u001b[0m\u001b[1;33m)\u001b[0m\u001b[1;33m\u001b[0m\u001b[1;33m\u001b[0m\u001b[0m\n\u001b[0m\u001b[0;32m    179\u001b[0m             \u001b[1;32mreturn\u001b[0m \u001b[0mHTTPResult\u001b[0m\u001b[1;33m(\u001b[0m\u001b[0mHTTPTransactionRef\u001b[0m\u001b[1;33m(\u001b[0m\u001b[0mgraph_name\u001b[0m\u001b[1;33m)\u001b[0m\u001b[1;33m,\u001b[0m \u001b[0mrs\u001b[0m\u001b[1;33m.\u001b[0m\u001b[0mresult\u001b[0m\u001b[1;33m(\u001b[0m\u001b[1;33m)\u001b[0m\u001b[1;33m,\u001b[0m \u001b[0mprofile\u001b[0m\u001b[1;33m=\u001b[0m\u001b[0mself\u001b[0m\u001b[1;33m.\u001b[0m\u001b[0mprofile\u001b[0m\u001b[1;33m)\u001b[0m\u001b[1;33m\u001b[0m\u001b[1;33m\u001b[0m\u001b[0m\n\u001b[0;32m    180\u001b[0m         \u001b[1;32mfinally\u001b[0m\u001b[1;33m:\u001b[0m\u001b[1;33m\u001b[0m\u001b[1;33m\u001b[0m\u001b[0m\n",
      "\u001b[1;32m~\\anaconda3\\lib\\site-packages\\py2neo\\client\\http.py\u001b[0m in \u001b[0;36maudit\u001b[1;34m(self, tx)\u001b[0m\n\u001b[0;32m    480\u001b[0m             \u001b[1;32mif\u001b[0m \u001b[0mtx\u001b[0m \u001b[1;32mis\u001b[0m \u001b[1;32mnot\u001b[0m \u001b[1;32mNone\u001b[0m\u001b[1;33m:\u001b[0m\u001b[1;33m\u001b[0m\u001b[1;33m\u001b[0m\u001b[0m\n\u001b[0;32m    481\u001b[0m                 \u001b[0mtx\u001b[0m\u001b[1;33m.\u001b[0m\u001b[0mmark_broken\u001b[0m\u001b[1;33m(\u001b[0m\u001b[1;33m)\u001b[0m\u001b[1;33m\u001b[0m\u001b[1;33m\u001b[0m\u001b[0m\n\u001b[1;32m--> 482\u001b[1;33m             \u001b[1;32mraise\u001b[0m \u001b[0mfailure\u001b[0m\u001b[1;33m\u001b[0m\u001b[1;33m\u001b[0m\u001b[0m\n\u001b[0m",
      "\u001b[1;31mClientError\u001b[0m: [Schema.EquivalentSchemaRuleAlreadyExists] An equivalent index already exists, 'Index( id=1, name='index_70d15b32', type='GENERAL BTREE', schema=(:gzh {item}), indexProvider='native-btree-1.0' )'."
     ]
    }
   ],
   "source": [
    "graph.run('CREATE INDEX ON :gzh(item)')"
   ]
  },
  {
   "cell_type": "code",
   "execution_count": 44,
   "id": "5f7c6e55",
   "metadata": {
    "ExecuteTime": {
     "end_time": "2022-08-19T09:40:26.303168Z",
     "start_time": "2022-08-19T09:40:21.186216Z"
    }
   },
   "outputs": [
    {
     "data": {
      "text/html": [
       "(No data)"
      ],
      "text/plain": [
       "(No data)"
      ]
     },
     "execution_count": 44,
     "metadata": {},
     "output_type": "execute_result"
    }
   ],
   "source": [
    "graph.run('using periodic commit 10000 load csv with headers from \"file:/node_rela_gzh.csv\" as line \\\n",
    "match (from:gzh {item: line.item_l}),(to:gzh {item:line.item_r}) merge (from)-[c:gzh{relation:line.relation}]->(to)')"
   ]
  },
  {
   "cell_type": "markdown",
   "id": "6fab5f2a",
   "metadata": {},
   "source": [
    "以函数的形式进行批量输入"
   ]
  },
  {
   "cell_type": "code",
   "execution_count": null,
   "id": "a4de759a",
   "metadata": {},
   "outputs": [],
   "source": [
    "#读取节点数据\n",
    "def LoacCsvNodes(num,files_csv,list_label):\n",
    "    '''\n",
    "    num: 每次导入的行数，用来防止内存溢出，str类型\n",
    "    files_csv: csv文件名列表\n",
    "    list_label: 节点标签列表，和file_csv同长度\n",
    "    '''\n",
    "    for i  in range(len(files_csv)):\n",
    "        # graph.run ()中为cypher 语句\n",
    "        graph.run('USING PERIODIC COMMIT '+num+' \\\n",
    "                    LOAD CSV  WITH HEADERS FROM \"file:///'+files_csv[i]+'\" AS line \\\n",
    "                    merge (n:'+list_label[i][0]+ ':'+list_label[i][1]+ \\\n",
    "                  '{ID:line.ID,name:line.name,card:line.card,IP:line.IP})') \n",
    "LoacCsvNodes(\"3\",files_node_csv,list_label)"
   ]
  },
  {
   "cell_type": "code",
   "execution_count": null,
   "id": "2846ad1e",
   "metadata": {},
   "outputs": [],
   "source": [
    "# 读取关系数据\n",
    "files_rel_csv = list(filter(lambda x: x[-8:]=='_rel.csv' , dirs))\n",
    "print(\"the csv files under path1:\\n\",files_rel_csv)\n",
    "\n",
    "# 导入关系数据函数\n",
    "def LoadCsvRel(num,files_csv,list_rel_label,node_label1=\"\",node_label2=\"\"):\n",
    "    '''\n",
    "    num: 每次导入的行数，防止内存溢出，str类型\n",
    "    files_csv:文件名列表\n",
    "    list_label: 节点标签列表，和file_csv同长度\n",
    "    '''\n",
    "    for i  in range(len(files_csv)):\n",
    "        graph.run('USING PERIODIC COMMIT '+num+' \\\n",
    "                    LOAD CSV  FROM \"file:///'+files_csv[i]+'\" AS line \\\n",
    "                    MATCH (a'+node_label1+'{ID:line[0]}),(b'+node_label2+'{ID:line[2]}) \\\n",
    "                    merge (a)-[r:'+list_rel_label[i]+'{prop:line[1]}]-> (b) '\n",
    "                 )\n",
    "\n",
    "list_rel_label=[\"contacter\",\"IP_equal\",\"phone_equal\"]# 和file_rel_csv 对应\n",
    "LoadCsvRel(\"3\",files_rel_csv,list_rel_label)"
   ]
  }
 ],
 "metadata": {
  "kernelspec": {
   "display_name": "Python 3",
   "language": "python",
   "name": "python3"
  },
  "language_info": {
   "codemirror_mode": {
    "name": "ipython",
    "version": 3
   },
   "file_extension": ".py",
   "mimetype": "text/x-python",
   "name": "python",
   "nbconvert_exporter": "python",
   "pygments_lexer": "ipython3",
   "version": "3.8.8"
  },
  "varInspector": {
   "cols": {
    "lenName": 16,
    "lenType": 16,
    "lenVar": 40
   },
   "kernels_config": {
    "python": {
     "delete_cmd_postfix": "",
     "delete_cmd_prefix": "del ",
     "library": "var_list.py",
     "varRefreshCmd": "print(var_dic_list())"
    },
    "r": {
     "delete_cmd_postfix": ") ",
     "delete_cmd_prefix": "rm(",
     "library": "var_list.r",
     "varRefreshCmd": "cat(var_dic_list()) "
    }
   },
   "types_to_exclude": [
    "module",
    "function",
    "builtin_function_or_method",
    "instance",
    "_Feature"
   ],
   "window_display": false
  }
 },
 "nbformat": 4,
 "nbformat_minor": 5
}
