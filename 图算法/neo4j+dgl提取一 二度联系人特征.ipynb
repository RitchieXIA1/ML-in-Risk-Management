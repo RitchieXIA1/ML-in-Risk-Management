{
 "cells": [
  {
   "cell_type": "code",
   "execution_count": 1,
   "id": "43ea1443",
   "metadata": {
    "ExecuteTime": {
     "end_time": "2022-09-08T01:27:34.500199Z",
     "start_time": "2022-09-08T01:27:30.821317Z"
    }
   },
   "outputs": [
    {
     "name": "stderr",
     "output_type": "stream",
     "text": [
      "Using backend: pytorch\n"
     ]
    }
   ],
   "source": [
    "import seaborn as sns\n",
    "from igraph import Graph as iGraph\n",
    "from py2neo import Graph as pGraph\n",
    "import pandas as pd\n",
    "import dgl\n",
    "import torch"
   ]
  },
  {
   "cell_type": "markdown",
   "id": "120de861",
   "metadata": {
    "ExecuteTime": {
     "end_time": "2022-09-08T08:24:30.341808Z",
     "start_time": "2022-09-08T08:24:30.331523Z"
    }
   },
   "source": [
    "链接图数据库，导入csv文件，分别是  \n",
    "node_gzh.csv 包含节点属性  \n",
    "node_rela_gzh.csv 包含节点间关系"
   ]
  },
  {
   "cell_type": "code",
   "execution_count": null,
   "id": "8e7541bb",
   "metadata": {},
   "outputs": [],
   "source": [
    "g = pGraph('http://localhost:7474',auth=(\"neo4j\", \"123456\"))"
   ]
  },
  {
   "cell_type": "code",
   "execution_count": null,
   "id": "b9d0e509",
   "metadata": {},
   "outputs": [],
   "source": [
    "g.run('CREATE INDEX ON :gzh(item)')"
   ]
  },
  {
   "cell_type": "code",
   "execution_count": null,
   "id": "8c7739b3",
   "metadata": {},
   "outputs": [],
   "source": [
    "g.run('using periodic commit 10000 load csv with headers from \"file:/node_gzh.csv\" \\\n",
    "as line with line create (:gzh {item:line.item,  trans_amount_sum:line.trans_amount_sum,\\\n",
    "trans_cnt:line.trans_cnt,  type:line.type});')"
   ]
  },
  {
   "cell_type": "code",
   "execution_count": null,
   "id": "89b5d7ac",
   "metadata": {},
   "outputs": [],
   "source": [
    "g.run('using periodic commit 10000 load csv with headers from \"file:/node_rela_gzh.csv\" as line \\\n",
    "match (from:gzh {item: line.item_l}),(to:gzh {item:line.item_r}) merge (from)-[c:gzh{relation:line.relation}]->(to)')"
   ]
  },
  {
   "cell_type": "markdown",
   "id": "ffbe628a",
   "metadata": {},
   "source": [
    "首先查询所有需要的节点，然后要统计出节点数量，这个很关键。在建图时需要用到"
   ]
  },
  {
   "cell_type": "code",
   "execution_count": 322,
   "id": "af752e85",
   "metadata": {
    "ExecuteTime": {
     "end_time": "2022-09-08T07:46:27.161702Z",
     "start_time": "2022-09-08T07:46:27.149237Z"
    }
   },
   "outputs": [],
   "source": [
    "query = \"\"\"\n",
    "MATCH (n) RETURN n.item\n",
    "\"\"\""
   ]
  },
  {
   "cell_type": "code",
   "execution_count": 327,
   "id": "b726c5f8",
   "metadata": {
    "ExecuteTime": {
     "end_time": "2022-09-08T07:47:41.173366Z",
     "start_time": "2022-09-08T07:47:41.157149Z"
    }
   },
   "outputs": [
    {
     "data": {
      "text/plain": [
       "26077"
      ]
     },
     "execution_count": 327,
     "metadata": {},
     "output_type": "execute_result"
    }
   ],
   "source": [
    "ndata  = g.run(query)\n",
    "number_of_nodes=len(ndata.to_data_frame().astype('int'))\n",
    "number_of_nodes"
   ]
  },
  {
   "cell_type": "markdown",
   "id": "4e5bd2a2",
   "metadata": {},
   "source": [
    "读入边关系，边属性和节点属性,需要注意，你用来当做节点索引的属性必须是从0开始的，否则会导致数据无法对齐，会默认创造一个0节点  \n",
    "但是我在这个数据正好是从1开始，需要处理一下"
   ]
  },
  {
   "cell_type": "code",
   "execution_count": 278,
   "id": "9f0bc4f0",
   "metadata": {
    "ExecuteTime": {
     "end_time": "2022-09-08T07:20:34.413151Z",
     "start_time": "2022-09-08T07:20:34.400336Z"
    }
   },
   "outputs": [],
   "source": [
    "all_query = \"\"\"\n",
    "MATCH (p1:gzh)-[e:gzh]->(p2:gzh) \n",
    "return (p1.item) as src,(p2.item) as dst,e.relation as relation\n",
    "\"\"\""
   ]
  },
  {
   "cell_type": "markdown",
   "id": "c429a6d3",
   "metadata": {
    "ExecuteTime": {
     "end_time": "2022-09-08T07:22:23.467888Z",
     "start_time": "2022-09-08T07:22:23.442435Z"
    }
   },
   "source": [
    "没想到什么好办法，直接减个1吧。。这样就是从0开始了。  \n",
    "ps:后面还有个坑，因为这个是按照边关系建图，恰好最后一个节点他没有边关系，  \n",
    "所以在导入节点特征的时候汇报错，在这里要按照节点的真实数量预设好num_nodes = number_of_nodes"
   ]
  },
  {
   "cell_type": "code",
   "execution_count": 329,
   "id": "6a4d1130",
   "metadata": {
    "ExecuteTime": {
     "end_time": "2022-09-08T07:48:39.337492Z",
     "start_time": "2022-09-08T07:48:32.409311Z"
    }
   },
   "outputs": [],
   "source": [
    "data  = g.run(all_query)\n",
    "graphdf=data.to_data_frame()\n",
    "src,dst =  (graphdf[graphdf.columns[0]].astype('int').to_numpy()-1),(graphdf[graphdf.columns[1]].astype('int').to_numpy()-1)\n",
    "test=dgl.graph((src, dst),num_nodes=number_of_nodes)"
   ]
  },
  {
   "cell_type": "code",
   "execution_count": 378,
   "id": "6a0f10b4",
   "metadata": {
    "ExecuteTime": {
     "end_time": "2022-09-08T08:04:33.753837Z",
     "start_time": "2022-09-08T08:04:33.671846Z"
    }
   },
   "outputs": [
    {
     "data": {
      "text/plain": [
       "src    26067\n",
       "dst    26075\n",
       "dtype: int32"
      ]
     },
     "execution_count": 378,
     "metadata": {},
     "output_type": "execute_result"
    }
   ],
   "source": [
    "rquery = graphdf[['src','dst']].astype('int')-1\n",
    "rquery.max()"
   ]
  },
  {
   "cell_type": "code",
   "execution_count": 331,
   "id": "f08bc804",
   "metadata": {
    "ExecuteTime": {
     "end_time": "2022-09-08T07:51:17.547594Z",
     "start_time": "2022-09-08T07:51:17.537856Z"
    }
   },
   "outputs": [
    {
     "data": {
      "text/plain": [
       "Graph(num_nodes=26077, num_edges=212371,\n",
       "      ndata_schemes={}\n",
       "      edata_schemes={})"
      ]
     },
     "execution_count": 331,
     "metadata": {},
     "output_type": "execute_result"
    }
   ],
   "source": [
    "test"
   ]
  },
  {
   "cell_type": "code",
   "execution_count": 332,
   "id": "90304295",
   "metadata": {
    "ExecuteTime": {
     "end_time": "2022-09-08T07:51:20.301501Z",
     "start_time": "2022-09-08T07:51:20.291861Z"
    }
   },
   "outputs": [
    {
     "data": {
      "text/plain": [
       "tensor([    0,     1,     2,  ..., 26074, 26075, 26076])"
      ]
     },
     "execution_count": 332,
     "metadata": {},
     "output_type": "execute_result"
    }
   ],
   "source": [
    "test.nodes()"
   ]
  },
  {
   "cell_type": "markdown",
   "id": "b32c2a8c",
   "metadata": {},
   "source": [
    "可以设置边的属性，作为权重，但必须要转化为tensor的形式"
   ]
  },
  {
   "cell_type": "code",
   "execution_count": 333,
   "id": "6196e6cc",
   "metadata": {
    "ExecuteTime": {
     "end_time": "2022-09-08T07:51:26.330017Z",
     "start_time": "2022-09-08T07:51:26.312655Z"
    }
   },
   "outputs": [],
   "source": [
    "test.edata['weight']  = torch.rand([len(src),1]).double()"
   ]
  },
  {
   "cell_type": "markdown",
   "id": "fdc12d94",
   "metadata": {},
   "source": [
    "这意味着如果是字符串的类别变量必须进行编码"
   ]
  },
  {
   "cell_type": "code",
   "execution_count": 334,
   "id": "7779fe0e",
   "metadata": {
    "ExecuteTime": {
     "end_time": "2022-09-08T07:51:28.262592Z",
     "start_time": "2022-09-08T07:51:28.233580Z"
    }
   },
   "outputs": [
    {
     "data": {
      "text/plain": [
       "交易卡号    152903\n",
       "设备关联     39881\n",
       "身份证号     19587\n",
       "Name: relation, dtype: int64"
      ]
     },
     "execution_count": 334,
     "metadata": {},
     "output_type": "execute_result"
    }
   ],
   "source": [
    "graphdf['relation'].value_counts()"
   ]
  },
  {
   "cell_type": "code",
   "execution_count": 335,
   "id": "97c8e9f6",
   "metadata": {
    "ExecuteTime": {
     "end_time": "2022-09-08T07:51:30.865548Z",
     "start_time": "2022-09-08T07:51:30.399595Z"
    }
   },
   "outputs": [],
   "source": [
    "codes,keys=pd.factorize(graphdf['relation'])\n",
    "relation_dict = {key: values for (key, values) in zip(keys, np.unique(codes))}\n",
    "graphdf['label'] = codes\n",
    "test.edata['label']  = torch.tensor(graphdf['label'])"
   ]
  },
  {
   "cell_type": "code",
   "execution_count": 336,
   "id": "f8a59248",
   "metadata": {
    "ExecuteTime": {
     "end_time": "2022-09-08T07:51:31.514397Z",
     "start_time": "2022-09-08T07:51:31.509715Z"
    }
   },
   "outputs": [
    {
     "data": {
      "text/plain": [
       "{'设备关联': 0, '交易卡号': 1, '身份证号': 2}"
      ]
     },
     "execution_count": 336,
     "metadata": {},
     "output_type": "execute_result"
    }
   ],
   "source": [
    "relation_dict"
   ]
  },
  {
   "cell_type": "markdown",
   "id": "d298ecb7",
   "metadata": {},
   "source": [
    "可以查看某一边属性"
   ]
  },
  {
   "cell_type": "code",
   "execution_count": 337,
   "id": "8e1e64bb",
   "metadata": {
    "ExecuteTime": {
     "end_time": "2022-09-08T07:51:32.880124Z",
     "start_time": "2022-09-08T07:51:32.871302Z"
    }
   },
   "outputs": [
    {
     "data": {
      "text/plain": [
       "tensor([0, 0, 0,  ..., 2, 2, 2])"
      ]
     },
     "execution_count": 337,
     "metadata": {},
     "output_type": "execute_result"
    }
   ],
   "source": [
    "test.edata['label']"
   ]
  },
  {
   "cell_type": "markdown",
   "id": "a53d23e3",
   "metadata": {},
   "source": [
    "可以对边属性进行筛选"
   ]
  },
  {
   "cell_type": "code",
   "execution_count": 299,
   "id": "93cfe533",
   "metadata": {
    "ExecuteTime": {
     "end_time": "2022-09-08T07:31:34.070633Z",
     "start_time": "2022-09-08T07:31:34.058498Z"
    }
   },
   "outputs": [],
   "source": [
    "def edges_with_feature_more_than_x(edges):\n",
    "    return (edges.data['weight'] < 0.5).squeeze(1)"
   ]
  },
  {
   "cell_type": "code",
   "execution_count": 300,
   "id": "64414890",
   "metadata": {
    "ExecuteTime": {
     "end_time": "2022-09-08T07:31:34.356151Z",
     "start_time": "2022-09-08T07:31:34.351140Z"
    }
   },
   "outputs": [],
   "source": [
    "def edges_with_feature_one(edges):\n",
    "    return (edges.data['label'] == 1)"
   ]
  },
  {
   "cell_type": "code",
   "execution_count": 338,
   "id": "415fec84",
   "metadata": {
    "ExecuteTime": {
     "end_time": "2022-09-08T07:51:37.612138Z",
     "start_time": "2022-09-08T07:51:37.604109Z"
    }
   },
   "outputs": [
    {
     "data": {
      "text/plain": [
       "tensor([     1,      2,      4,  ..., 212366, 212368, 212370])"
      ]
     },
     "execution_count": 338,
     "metadata": {},
     "output_type": "execute_result"
    }
   ],
   "source": [
    "test.filter_edges(edges_with_feature_more_than_x)"
   ]
  },
  {
   "cell_type": "code",
   "execution_count": 339,
   "id": "fa280992",
   "metadata": {
    "ExecuteTime": {
     "end_time": "2022-09-08T07:51:41.062597Z",
     "start_time": "2022-09-08T07:51:41.053597Z"
    }
   },
   "outputs": [
    {
     "data": {
      "text/plain": [
       "Graph(num_nodes=26077, num_edges=212371,\n",
       "      ndata_schemes={}\n",
       "      edata_schemes={'weight': Scheme(shape=(1,), dtype=torch.float64), 'label': Scheme(shape=(), dtype=torch.int64)})"
      ]
     },
     "execution_count": 339,
     "metadata": {},
     "output_type": "execute_result"
    }
   ],
   "source": [
    "test"
   ]
  },
  {
   "cell_type": "markdown",
   "id": "74088203",
   "metadata": {},
   "source": [
    "在完成边的建立和属性设置后，可以把节点的属性导入"
   ]
  },
  {
   "cell_type": "code",
   "execution_count": 340,
   "id": "26bc04ec",
   "metadata": {
    "ExecuteTime": {
     "end_time": "2022-09-08T07:51:44.246462Z",
     "start_time": "2022-09-08T07:51:44.238341Z"
    }
   },
   "outputs": [],
   "source": [
    "node_query = \"\"\"\n",
    "MATCH (p1:gzh)\n",
    "return p1.item as id,p1.trans_amount_sum as trans_amount_sum,p1.trans_cnt as trans_cnt\n",
    "\"\"\""
   ]
  },
  {
   "cell_type": "code",
   "execution_count": 343,
   "id": "dc43fc07",
   "metadata": {
    "ExecuteTime": {
     "end_time": "2022-09-08T07:52:14.929993Z",
     "start_time": "2022-09-08T07:52:14.426887Z"
    }
   },
   "outputs": [],
   "source": [
    "ndata = g.run(node_query)\n",
    "nodedf = ndata.to_data_frame().astype('float').sort_values(by='id').reset_index(drop=True)\n",
    "nodedf['id'] = nodedf['id']-1\n",
    "trans_amount_sum = nodedf['trans_amount_sum'].to_numpy()\n",
    "test.ndata['trans_amount_sum']  = torch.tensor(trans_amount_sum)"
   ]
  },
  {
   "cell_type": "markdown",
   "id": "bd2c6703",
   "metadata": {
    "ExecuteTime": {
     "end_time": "2022-09-08T01:30:35.837813Z",
     "start_time": "2022-09-08T01:30:35.819811Z"
    }
   },
   "source": [
    "可以对节点属性进行筛选"
   ]
  },
  {
   "cell_type": "code",
   "execution_count": 345,
   "id": "8d4f5b92",
   "metadata": {
    "ExecuteTime": {
     "end_time": "2022-09-08T07:52:25.632874Z",
     "start_time": "2022-09-08T07:52:25.624295Z"
    }
   },
   "outputs": [],
   "source": [
    "def nodes_with_feature_one(edges):\n",
    "    return (edges.data['trans_amount_sum'] <1000)"
   ]
  },
  {
   "cell_type": "markdown",
   "id": "4af1bfee",
   "metadata": {
    "ExecuteTime": {
     "end_time": "2022-09-08T01:30:48.556719Z",
     "start_time": "2022-09-08T01:30:48.546232Z"
    }
   },
   "source": [
    "可以通过节点列表来构建子图"
   ]
  },
  {
   "cell_type": "code",
   "execution_count": 346,
   "id": "dfc857eb",
   "metadata": {
    "ExecuteTime": {
     "end_time": "2022-09-08T07:52:32.735621Z",
     "start_time": "2022-09-08T07:52:32.707093Z"
    }
   },
   "outputs": [
    {
     "data": {
      "text/plain": [
       "Graph(num_nodes=5674, num_edges=196738,\n",
       "      ndata_schemes={'trans_amount_sum': Scheme(shape=(), dtype=torch.float64), '_ID': Scheme(shape=(), dtype=torch.int64)}\n",
       "      edata_schemes={'weight': Scheme(shape=(1,), dtype=torch.float64), 'label': Scheme(shape=(), dtype=torch.int64), '_ID': Scheme(shape=(), dtype=torch.int64)})"
      ]
     },
     "execution_count": 346,
     "metadata": {},
     "output_type": "execute_result"
    }
   ],
   "source": [
    "subtest = test.subgraph(test.filter_nodes(nodes_with_feature_one))\n",
    "subtest"
   ]
  },
  {
   "cell_type": "code",
   "execution_count": 29,
   "id": "bd267733",
   "metadata": {
    "ExecuteTime": {
     "end_time": "2022-09-08T02:00:25.913922Z",
     "start_time": "2022-09-08T02:00:25.898802Z"
    }
   },
   "outputs": [],
   "source": [
    "def neo4j_to_dgl(graphdata):\n",
    "    graphdf=graphdata.to_data_frame()\n",
    "    columns1,columns2= graphdf.columns[0],graphdf.columns[1]\n",
    "    columns3 = graphdf.columns[2]\n",
    "    src,dst = graphdf[columns1].astype('int').to_numpy(),graphdf[columns2].astype('int').to_numpy()\n",
    "    relation = graphdf[columns3].astype('float').to_numpy()\n",
    "    g=dgl.graph((src, dst))\n",
    "    g.edata[columns3]  = torch.tensor(relation)\n",
    "    return g"
   ]
  },
  {
   "cell_type": "code",
   "execution_count": 347,
   "id": "04e6b76a",
   "metadata": {
    "ExecuteTime": {
     "end_time": "2022-09-08T07:52:49.321258Z",
     "start_time": "2022-09-08T07:52:49.315231Z"
    }
   },
   "outputs": [
    {
     "data": {
      "text/plain": [
       "Graph(num_nodes=26077, num_edges=212371,\n",
       "      ndata_schemes={'trans_amount_sum': Scheme(shape=(), dtype=torch.float64)}\n",
       "      edata_schemes={'weight': Scheme(shape=(1,), dtype=torch.float64), 'label': Scheme(shape=(), dtype=torch.int64)})"
      ]
     },
     "execution_count": 347,
     "metadata": {},
     "output_type": "execute_result"
    }
   ],
   "source": [
    "test"
   ]
  },
  {
   "cell_type": "markdown",
   "id": "60757042",
   "metadata": {},
   "source": [
    "## 提取聚合特征"
   ]
  },
  {
   "cell_type": "markdown",
   "id": "9ceca728",
   "metadata": {},
   "source": [
    "dgl内置消息传递和聚合函数  \n",
    "https://docs.dgl.ai/api/python/dgl.function.html#message-functions"
   ]
  },
  {
   "cell_type": "markdown",
   "id": "878784f0",
   "metadata": {},
   "source": [
    "在DGL中，消息函数 接受一个参数 edges，这是一个 EdgeBatch 的实例,  \n",
    "在消息传递时，它被DGL在内部生成以表示一批边。  \n",
    "edges 有 src、 dst 和 data 共3个成员属性， 分别用于访问源节点、目标节点和边的特征"
   ]
  },
  {
   "cell_type": "markdown",
   "id": "9b5827e1",
   "metadata": {},
   "source": [
    "可以使用内部的函数也可以自定义，注意下面两个函数的效果是一样的,都是把source的信息乘以边的属性，再传递到destination"
   ]
  },
  {
   "cell_type": "code",
   "execution_count": 348,
   "id": "66ed8be5",
   "metadata": {
    "ExecuteTime": {
     "end_time": "2022-09-08T07:52:51.925844Z",
     "start_time": "2022-09-08T07:52:51.913143Z"
    }
   },
   "outputs": [],
   "source": [
    "def udf_u_mul_e(edges):\n",
    "    return {'m' : edges.src['trans_amount_sum'] * edges.data['weight']}"
   ]
  },
  {
   "cell_type": "code",
   "execution_count": 349,
   "id": "875726d6",
   "metadata": {
    "ExecuteTime": {
     "end_time": "2022-09-08T07:52:52.838660Z",
     "start_time": "2022-09-08T07:52:52.830929Z"
    }
   },
   "outputs": [
    {
     "data": {
      "text/plain": [
       "<dgl.function.message.BinaryMessageFunction at 0x1a3ac5ba7f0>"
      ]
     },
     "execution_count": 349,
     "metadata": {},
     "output_type": "execute_result"
    }
   ],
   "source": [
    "dgl.function.u_mul_e('trans_amount_sum', 'weight', 'm')"
   ]
  },
  {
   "cell_type": "markdown",
   "id": "7084bb06",
   "metadata": {},
   "source": [
    "还可把source的信息和边上的信息直接拼接。"
   ]
  },
  {
   "cell_type": "code",
   "execution_count": 350,
   "id": "c5e58e60",
   "metadata": {
    "ExecuteTime": {
     "end_time": "2022-09-08T07:52:55.109957Z",
     "start_time": "2022-09-08T07:52:55.102837Z"
    }
   },
   "outputs": [],
   "source": [
    "def u_cat_e(edges):\n",
    "    return {'m': torch.hstack([edges.src['trans_amount_sum'],edges.data['trans_amount_sum']])}  "
   ]
  },
  {
   "cell_type": "markdown",
   "id": "944effb0",
   "metadata": {},
   "source": [
    "DGL支持内置的聚合函数 sum、 max、 min 和 mean 操作。 聚合函数通常有两个参数，  \n",
    "它们的类型都是字符串。一个用于指定 mailbox 中的字段名，一个用于指示目标节点特征的字段名，  \n",
    "nodes.mailbox['m']是之前在消息传递函数里，该节点从其他节点收集到的聚合信息，可以对他进行求和，求均值等操作。    \n",
    "这个m是自己设置的，取决于之前在消息传递的时候把这些暂存的聚合信息命名为什么。"
   ]
  },
  {
   "cell_type": "markdown",
   "id": "44fca261",
   "metadata": {},
   "source": [
    "对接收到消息求和的用户定义函数 sum的两种写法，直接内置的函数比自定义的效率高。"
   ]
  },
  {
   "cell_type": "code",
   "execution_count": 351,
   "id": "20d5fd79",
   "metadata": {
    "ExecuteTime": {
     "end_time": "2022-09-08T07:52:56.975284Z",
     "start_time": "2022-09-08T07:52:56.958216Z"
    }
   },
   "outputs": [],
   "source": [
    "def reduce_func(nodes):\n",
    "     return {'h': torch.sum(nodes.mailbox['m'], dim=1)}"
   ]
  },
  {
   "cell_type": "code",
   "execution_count": 352,
   "id": "feef3f92",
   "metadata": {
    "ExecuteTime": {
     "end_time": "2022-09-08T07:52:57.467148Z",
     "start_time": "2022-09-08T07:52:57.456238Z"
    }
   },
   "outputs": [
    {
     "data": {
      "text/plain": [
       "<dgl.function.reducer.SimpleReduceFunction at 0x1a3ab840370>"
      ]
     },
     "execution_count": 352,
     "metadata": {},
     "output_type": "execute_result"
    }
   ],
   "source": [
    "dgl.function.sum('m','agg_trans_amount_sum')"
   ]
  },
  {
   "cell_type": "markdown",
   "id": "2fde8b6c",
   "metadata": {},
   "source": [
    "在DGL中，也可以在不涉及消息传递的情况下，通过 apply_edges() 单独调用逐边计算。  \n",
    "apply_edges() 的参数是一个消息函数。并且在默认情况下，这个接口将更新所有的边。例如："
   ]
  },
  {
   "cell_type": "code",
   "execution_count": 353,
   "id": "9818366b",
   "metadata": {
    "ExecuteTime": {
     "end_time": "2022-09-08T07:53:08.135601Z",
     "start_time": "2022-09-08T07:53:08.130605Z"
    }
   },
   "outputs": [],
   "source": [
    "test.apply_edges(dgl.function.copy_u('trans_amount_sum', 'm'))"
   ]
  },
  {
   "cell_type": "markdown",
   "id": "9d82d516",
   "metadata": {},
   "source": [
    "可以发现边属性多了一个m  \n",
    "个人理解m就是个公路，apply_edges就是把货物从出发点发出，在公路上运输的阶段"
   ]
  },
  {
   "cell_type": "markdown",
   "id": "1424332f",
   "metadata": {},
   "source": [
    "举个例子，m的第一个值61769 对应29到4101这条关系，  \n",
    "代表着从29号节点发出了61769个货物给4101号节点，这些货物还没到4101节点，暂存在公路m上  \n",
    "可以发现29的trans_amount_sum 确实是61769"
   ]
  },
  {
   "cell_type": "code",
   "execution_count": 361,
   "id": "d63ccefc",
   "metadata": {
    "ExecuteTime": {
     "end_time": "2022-09-08T07:55:30.554620Z",
     "start_time": "2022-09-08T07:55:30.545643Z"
    }
   },
   "outputs": [
    {
     "data": {
      "text/plain": [
       "tensor([61769.0000, 87632.5000, 26290.0000,  ..., 53494.0000, 43699.0000,\n",
       "        43699.0000], dtype=torch.float64)"
      ]
     },
     "execution_count": 361,
     "metadata": {},
     "output_type": "execute_result"
    }
   ],
   "source": [
    "test.edata['m']"
   ]
  },
  {
   "cell_type": "code",
   "execution_count": 354,
   "id": "604c2ca9",
   "metadata": {
    "ExecuteTime": {
     "end_time": "2022-09-08T07:53:11.583414Z",
     "start_time": "2022-09-08T07:53:11.568035Z"
    }
   },
   "outputs": [
    {
     "data": {
      "text/plain": [
       "(tensor([   29,    32,    34,  ..., 26065, 26067, 26067]),\n",
       " tensor([ 4101,   102,  1393,  ..., 25068, 26069, 26071]))"
      ]
     },
     "execution_count": 354,
     "metadata": {},
     "output_type": "execute_result"
    }
   ],
   "source": [
    "test.edges()"
   ]
  },
  {
   "cell_type": "code",
   "execution_count": 358,
   "id": "c304a914",
   "metadata": {
    "ExecuteTime": {
     "end_time": "2022-09-08T07:54:19.605402Z",
     "start_time": "2022-09-08T07:54:19.588199Z"
    }
   },
   "outputs": [
    {
     "data": {
      "text/html": [
       "<div>\n",
       "<style scoped>\n",
       "    .dataframe tbody tr th:only-of-type {\n",
       "        vertical-align: middle;\n",
       "    }\n",
       "\n",
       "    .dataframe tbody tr th {\n",
       "        vertical-align: top;\n",
       "    }\n",
       "\n",
       "    .dataframe thead th {\n",
       "        text-align: right;\n",
       "    }\n",
       "</style>\n",
       "<table border=\"1\" class=\"dataframe\">\n",
       "  <thead>\n",
       "    <tr style=\"text-align: right;\">\n",
       "      <th></th>\n",
       "      <th>id</th>\n",
       "      <th>trans_amount_sum</th>\n",
       "      <th>trans_cnt</th>\n",
       "    </tr>\n",
       "  </thead>\n",
       "  <tbody>\n",
       "    <tr>\n",
       "      <th>29</th>\n",
       "      <td>29.0</td>\n",
       "      <td>61769.0</td>\n",
       "      <td>7.0</td>\n",
       "    </tr>\n",
       "  </tbody>\n",
       "</table>\n",
       "</div>"
      ],
      "text/plain": [
       "      id  trans_amount_sum  trans_cnt\n",
       "29  29.0           61769.0        7.0"
      ]
     },
     "execution_count": 358,
     "metadata": {},
     "output_type": "execute_result"
    }
   ],
   "source": [
    "nodedf[29:30]"
   ]
  },
  {
   "cell_type": "markdown",
   "id": "099a605c",
   "metadata": {
    "ExecuteTime": {
     "end_time": "2022-09-08T02:56:36.819652Z",
     "start_time": "2022-09-08T02:56:36.802153Z"
    }
   },
   "source": [
    "对于消息传递， update_all() 是一个高级API。它在单个API调用里合并了消息生成、 消息聚合和节点特征更新，  \n",
    "这为从整体上进行系统优化提供了空间。\n",
    "\n",
    "直接用apply edges很容易占用大量内存，\n",
    "因为作为计算的中间变量没必要保存下来，\n",
    "最好是计算完毕得到结果之后直接存储到目标节点的属性中，\n",
    "这样时间和空间上的效率都高的多。\n",
    "\n",
    "update_all() 的参数是一个消息函数、一个聚合函数和一个更新函数。   \n",
    "更新函数是一个可选择的参数，用户也可以不使用它，而是在 update_all 执行完后直接对节点特征进行操作。  \n",
    "由于更新函数通常可以用纯张量操作实现，所以DGL不推荐在 update_all 中指定更新函数。例如："
   ]
  },
  {
   "cell_type": "code",
   "execution_count": 362,
   "id": "f2e5b583",
   "metadata": {
    "ExecuteTime": {
     "end_time": "2022-09-08T07:58:58.669758Z",
     "start_time": "2022-09-08T07:58:58.659327Z"
    }
   },
   "outputs": [],
   "source": [
    "def update_all_example(graph):\n",
    "    # 在graph.ndata['ft']中存储结果\n",
    "    graph.update_all(fn.u_mul_e('ft', 'a', 'm'),\n",
    "                     fn.sum('m', 'ft'))\n",
    "    # 在update_all外调用更新函数会带来大量额外计算\n",
    "    #相当于 final_fti=2∗∑j∈N(i)(ftj∗aij)\n",
    "    final_ft = graph.ndata['ft'] * 2\n",
    "    return final_ft"
   ]
  },
  {
   "cell_type": "markdown",
   "id": "1b741b2a",
   "metadata": {
    "ExecuteTime": {
     "end_time": "2022-09-08T04:21:42.731851Z",
     "start_time": "2022-09-08T04:21:42.719851Z"
    }
   },
   "source": [
    "一般来说对一度联系人进行聚合的话只需要"
   ]
  },
  {
   "cell_type": "code",
   "execution_count": 363,
   "id": "a2d30324",
   "metadata": {
    "ExecuteTime": {
     "end_time": "2022-09-08T07:59:55.290037Z",
     "start_time": "2022-09-08T07:59:55.281040Z"
    }
   },
   "outputs": [],
   "source": [
    "#未加权\n",
    "test.update_all(dgl.function.copy_u('trans_amount_sum', 'm'),dgl.function.sum('m','aggsum_trans_amount_sum'))"
   ]
  },
  {
   "cell_type": "code",
   "execution_count": 364,
   "id": "8faa5485",
   "metadata": {
    "ExecuteTime": {
     "end_time": "2022-09-08T07:59:55.811229Z",
     "start_time": "2022-09-08T07:59:55.801157Z"
    }
   },
   "outputs": [],
   "source": [
    "#加权\n",
    "test.update_all(dgl.function.u_mul_e('trans_amount_sum', 'weight', 'm'),dgl.function.sum('m','weighted_aggsum_trans_amount_sum'))"
   ]
  },
  {
   "cell_type": "markdown",
   "id": "e8c17e22",
   "metadata": {},
   "source": [
    "检查一下是否正确  \n",
    "可以看到1号节点的值为15  "
   ]
  },
  {
   "cell_type": "code",
   "execution_count": 375,
   "id": "5ba64489",
   "metadata": {
    "ExecuteTime": {
     "end_time": "2022-09-08T08:02:48.812513Z",
     "start_time": "2022-09-08T08:02:48.806405Z"
    }
   },
   "outputs": [
    {
     "data": {
      "text/plain": [
       "tensor([0.0000e+00, 1.5000e+01, 0.0000e+00, 0.0000e+00, 0.0000e+00, 0.0000e+00,\n",
       "        9.0145e+04, 0.0000e+00, 0.0000e+00, 2.4481e+05], dtype=torch.float64)"
      ]
     },
     "execution_count": 375,
     "metadata": {},
     "output_type": "execute_result"
    }
   ],
   "source": [
    "test.ndata['aggsum_trans_amount_sum'][:10]"
   ]
  },
  {
   "cell_type": "markdown",
   "id": "a81b3055",
   "metadata": {},
   "source": [
    "查看有哪些节点的目的地是1号节点，发现只有一个44号节点。对应的是关系表里的14号关系"
   ]
  },
  {
   "cell_type": "code",
   "execution_count": 381,
   "id": "7cca7810",
   "metadata": {
    "ExecuteTime": {
     "end_time": "2022-09-08T08:05:01.798535Z",
     "start_time": "2022-09-08T08:05:01.787491Z"
    }
   },
   "outputs": [
    {
     "data": {
      "text/html": [
       "<div>\n",
       "<style scoped>\n",
       "    .dataframe tbody tr th:only-of-type {\n",
       "        vertical-align: middle;\n",
       "    }\n",
       "\n",
       "    .dataframe tbody tr th {\n",
       "        vertical-align: top;\n",
       "    }\n",
       "\n",
       "    .dataframe thead th {\n",
       "        text-align: right;\n",
       "    }\n",
       "</style>\n",
       "<table border=\"1\" class=\"dataframe\">\n",
       "  <thead>\n",
       "    <tr style=\"text-align: right;\">\n",
       "      <th></th>\n",
       "      <th>src</th>\n",
       "      <th>dst</th>\n",
       "    </tr>\n",
       "  </thead>\n",
       "  <tbody>\n",
       "    <tr>\n",
       "      <th>14</th>\n",
       "      <td>44</td>\n",
       "      <td>1</td>\n",
       "    </tr>\n",
       "  </tbody>\n",
       "</table>\n",
       "</div>"
      ],
      "text/plain": [
       "    src  dst\n",
       "14   44    1"
      ]
     },
     "execution_count": 381,
     "metadata": {},
     "output_type": "execute_result"
    }
   ],
   "source": [
    "rquery[rquery['dst']==1]"
   ]
  },
  {
   "cell_type": "markdown",
   "id": "642e3f31",
   "metadata": {},
   "source": [
    "44号节点的值确实是15，聚合计算结果与实际情况一致。"
   ]
  },
  {
   "cell_type": "code",
   "execution_count": 382,
   "id": "0dc3e978",
   "metadata": {
    "ExecuteTime": {
     "end_time": "2022-09-08T08:06:52.440909Z",
     "start_time": "2022-09-08T08:06:52.432443Z"
    }
   },
   "outputs": [
    {
     "data": {
      "text/html": [
       "<div>\n",
       "<style scoped>\n",
       "    .dataframe tbody tr th:only-of-type {\n",
       "        vertical-align: middle;\n",
       "    }\n",
       "\n",
       "    .dataframe tbody tr th {\n",
       "        vertical-align: top;\n",
       "    }\n",
       "\n",
       "    .dataframe thead th {\n",
       "        text-align: right;\n",
       "    }\n",
       "</style>\n",
       "<table border=\"1\" class=\"dataframe\">\n",
       "  <thead>\n",
       "    <tr style=\"text-align: right;\">\n",
       "      <th></th>\n",
       "      <th>id</th>\n",
       "      <th>trans_amount_sum</th>\n",
       "      <th>trans_cnt</th>\n",
       "    </tr>\n",
       "  </thead>\n",
       "  <tbody>\n",
       "    <tr>\n",
       "      <th>44</th>\n",
       "      <td>44.0</td>\n",
       "      <td>15.0</td>\n",
       "      <td>1.0</td>\n",
       "    </tr>\n",
       "  </tbody>\n",
       "</table>\n",
       "</div>"
      ],
      "text/plain": [
       "      id  trans_amount_sum  trans_cnt\n",
       "44  44.0              15.0        1.0"
      ]
     },
     "execution_count": 382,
     "metadata": {},
     "output_type": "execute_result"
    }
   ],
   "source": [
    "nodedf[nodedf['id']==44]"
   ]
  },
  {
   "cell_type": "markdown",
   "id": "f3689b7a",
   "metadata": {},
   "source": [
    "接下来检查加权聚合结果  \n",
    "可以看到1号节点加权聚合结果为4.989 "
   ]
  },
  {
   "cell_type": "code",
   "execution_count": 384,
   "id": "657c1117",
   "metadata": {
    "ExecuteTime": {
     "end_time": "2022-09-08T08:08:33.629350Z",
     "start_time": "2022-09-08T08:08:33.623233Z"
    }
   },
   "outputs": [
    {
     "data": {
      "text/plain": [
       "tensor([4.9893], dtype=torch.float64)"
      ]
     },
     "execution_count": 384,
     "metadata": {},
     "output_type": "execute_result"
    }
   ],
   "source": [
    "test.ndata['weighted_aggsum_trans_amount_sum'][1]"
   ]
  },
  {
   "cell_type": "markdown",
   "id": "39db48d5",
   "metadata": {},
   "source": [
    "由于他们对应的是第14号关系，故查的权重为0.3326"
   ]
  },
  {
   "cell_type": "code",
   "execution_count": 386,
   "id": "e4fd345f",
   "metadata": {
    "ExecuteTime": {
     "end_time": "2022-09-08T08:09:53.892293Z",
     "start_time": "2022-09-08T08:09:53.875288Z"
    }
   },
   "outputs": [
    {
     "data": {
      "text/plain": [
       "tensor([0.3326], dtype=torch.float64)"
      ]
     },
     "execution_count": 386,
     "metadata": {},
     "output_type": "execute_result"
    }
   ],
   "source": [
    "test.edata['weight'][14]"
   ]
  },
  {
   "cell_type": "markdown",
   "id": "818ad955",
   "metadata": {},
   "source": [
    "这就是一度联系人加权特征的计算过程"
   ]
  },
  {
   "cell_type": "code",
   "execution_count": 387,
   "id": "65361b77",
   "metadata": {
    "ExecuteTime": {
     "end_time": "2022-09-08T08:11:42.214336Z",
     "start_time": "2022-09-08T08:11:42.200234Z"
    }
   },
   "outputs": [
    {
     "data": {
      "text/plain": [
       "True"
      ]
     },
     "execution_count": 387,
     "metadata": {},
     "output_type": "execute_result"
    }
   ],
   "source": [
    "0.3326*15 ==4.989"
   ]
  },
  {
   "cell_type": "markdown",
   "id": "b0607cd2",
   "metadata": {},
   "source": [
    "要提取二度联系人聚合特征，就是在一度联系人聚合特征的基础上再做一次聚合即可。"
   ]
  },
  {
   "cell_type": "code",
   "execution_count": 388,
   "id": "132f8e5e",
   "metadata": {
    "ExecuteTime": {
     "end_time": "2022-09-08T08:15:34.207832Z",
     "start_time": "2022-09-08T08:15:34.202031Z"
    }
   },
   "outputs": [],
   "source": [
    "test.update_all(dgl.function.copy_u('aggsum_trans_amount_sum', 'm'),dgl.function.sum('m','2d-aggsum_trans_amount_sum'))"
   ]
  },
  {
   "cell_type": "markdown",
   "id": "93dd5e29",
   "metadata": {},
   "source": [
    "总节点数为26077，有1度联系人的节点有11669个，但是有二度联系人就只有6872个了。"
   ]
  },
  {
   "cell_type": "code",
   "execution_count": 397,
   "id": "3102bffb",
   "metadata": {
    "ExecuteTime": {
     "end_time": "2022-09-08T08:16:56.845937Z",
     "start_time": "2022-09-08T08:16:56.716588Z"
    }
   },
   "outputs": [
    {
     "data": {
      "text/plain": [
       "tensor(11669)"
      ]
     },
     "execution_count": 397,
     "metadata": {},
     "output_type": "execute_result"
    }
   ],
   "source": [
    "sum(test.ndata['aggsum_trans_amount_sum']>0)"
   ]
  },
  {
   "cell_type": "code",
   "execution_count": 396,
   "id": "9d273bb9",
   "metadata": {
    "ExecuteTime": {
     "end_time": "2022-09-08T08:16:47.310013Z",
     "start_time": "2022-09-08T08:16:47.172187Z"
    }
   },
   "outputs": [
    {
     "data": {
      "text/plain": [
       "tensor(6872)"
      ]
     },
     "execution_count": 396,
     "metadata": {},
     "output_type": "execute_result"
    }
   ],
   "source": [
    "sum(test.ndata['2d-aggsum_trans_amount_sum']>0)"
   ]
  }
 ],
 "metadata": {
  "kernelspec": {
   "display_name": "Python 3",
   "language": "python",
   "name": "python3"
  },
  "language_info": {
   "codemirror_mode": {
    "name": "ipython",
    "version": 3
   },
   "file_extension": ".py",
   "mimetype": "text/x-python",
   "name": "python",
   "nbconvert_exporter": "python",
   "pygments_lexer": "ipython3",
   "version": "3.8.8"
  },
  "varInspector": {
   "cols": {
    "lenName": 16,
    "lenType": 16,
    "lenVar": 40
   },
   "kernels_config": {
    "python": {
     "delete_cmd_postfix": "",
     "delete_cmd_prefix": "del ",
     "library": "var_list.py",
     "varRefreshCmd": "print(var_dic_list())"
    },
    "r": {
     "delete_cmd_postfix": ") ",
     "delete_cmd_prefix": "rm(",
     "library": "var_list.r",
     "varRefreshCmd": "cat(var_dic_list()) "
    }
   },
   "types_to_exclude": [
    "module",
    "function",
    "builtin_function_or_method",
    "instance",
    "_Feature"
   ],
   "window_display": false
  }
 },
 "nbformat": 4,
 "nbformat_minor": 5
}
