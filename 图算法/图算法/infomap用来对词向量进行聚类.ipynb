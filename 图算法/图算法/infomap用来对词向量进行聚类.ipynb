{
 "cells": [
  {
   "cell_type": "code",
   "execution_count": null,
   "id": "f8a627e9",
   "metadata": {},
   "outputs": [],
   "source": [
    "import numpy as np\n",
    "from gensim.models import Word2Vec\n",
    "from tqdm import tqdm\n",
    "from infomap import infomap\n",
    "\n",
    "\n",
    "num_words = 10000 # 只保留前10000个词\n",
    "min_sim = 0.6\n",
    "\n",
    "\n",
    "word2vec = Word2Vec.load('word2vec_baike')\n",
    "\n",
    "word_vecs = word2vec.wv.syn0[:num_words]\n",
    "word_vecs /= (word_vecs**2).sum(axis=1, keepdims=True)**0.5\n",
    "id2word = word2vec.wv.index2word[:num_words]\n",
    "word2id = {j: i for i, j in enumerate(id2word)}\n",
    "\n",
    "links = {}\n",
    "\n",
    "\n",
    "# 每个词找与它相似度不小于0.6的词（不超过50个），来作为图上的边\n",
    "for i in tqdm(range(num_words)):\n",
    "    sims = np.dot(word_vecs, word_vecs[i])\n",
    "    idxs = sims.argsort()[::-1][1:]\n",
    "    for j in idxs[:50]:\n",
    "        if sims[j] >= min_sim:\n",
    "            links[(i, j)] = float(sims[j])\n",
    "        else:\n",
    "            break\n",
    "\n",
    "\n",
    "infomapWrapper = infomap.Infomap(\"--two-level --directed\")\n",
    "# 如果重叠社区发现，则只需要：\n",
    "# infomapWrapper = infomap.Infomap(\"--two-level --directed --overlapping\")\n",
    "\n",
    "\n",
    "for (i, j), sim in tqdm(links.items()):\n",
    "    _ = infomapWrapper.addLink(i, j, sim)\n",
    "\n",
    "infomapWrapper.run()\n",
    "tree = infomapWrapper.tree\n",
    "\n",
    "\n",
    "word2class = {}\n",
    "class2word = {}\n",
    "for node in tree.leafIter():\n",
    "    if id2word[node.physIndex] not in word2class:\n",
    "        word2class[id2word[node.physIndex]] = []\n",
    "    word2class[id2word[node.physIndex]].append(node.moduleIndex())\n",
    "    if node.moduleIndex() not in class2word:\n",
    "        class2word[node.moduleIndex()] = []\n",
    "    class2word[node.moduleIndex()].append(id2word[node.physIndex])\n",
    "\n",
    "\n",
    "# len([(k, v) for k, v in word2class.items() if len(v) > 1])\n",
    "\n",
    "\n",
    "for i in range(100):\n",
    "    print class2word[i]\n",
    "    print\n"
   ]
  }
 ],
 "metadata": {
  "kernelspec": {
   "display_name": "Python 3",
   "language": "python",
   "name": "python3"
  },
  "language_info": {
   "codemirror_mode": {
    "name": "ipython",
    "version": 3
   },
   "file_extension": ".py",
   "mimetype": "text/x-python",
   "name": "python",
   "nbconvert_exporter": "python",
   "pygments_lexer": "ipython3",
   "version": "3.8.8"
  },
  "varInspector": {
   "cols": {
    "lenName": 16,
    "lenType": 16,
    "lenVar": 40
   },
   "kernels_config": {
    "python": {
     "delete_cmd_postfix": "",
     "delete_cmd_prefix": "del ",
     "library": "var_list.py",
     "varRefreshCmd": "print(var_dic_list())"
    },
    "r": {
     "delete_cmd_postfix": ") ",
     "delete_cmd_prefix": "rm(",
     "library": "var_list.r",
     "varRefreshCmd": "cat(var_dic_list()) "
    }
   },
   "types_to_exclude": [
    "module",
    "function",
    "builtin_function_or_method",
    "instance",
    "_Feature"
   ],
   "window_display": false
  }
 },
 "nbformat": 4,
 "nbformat_minor": 5
}
