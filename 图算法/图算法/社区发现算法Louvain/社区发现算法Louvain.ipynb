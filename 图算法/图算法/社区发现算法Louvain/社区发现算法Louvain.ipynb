{
 "cells": [
  {
   "cell_type": "code",
   "execution_count": 1,
   "id": "cd50d449",
   "metadata": {
    "ExecuteTime": {
     "end_time": "2022-03-03T09:12:43.469064Z",
     "start_time": "2022-03-03T09:12:43.461063Z"
    }
   },
   "outputs": [],
   "source": [
    "import math\n",
    "from pylouvain import PyLouvain"
   ]
  },
  {
   "cell_type": "code",
   "execution_count": 6,
   "id": "f6de8bd8",
   "metadata": {
    "ExecuteTime": {
     "end_time": "2022-03-03T09:15:50.358304Z",
     "start_time": "2022-03-03T09:15:50.063587Z"
    }
   },
   "outputs": [],
   "source": [
    "import networkx as nx"
   ]
  },
  {
   "cell_type": "code",
   "execution_count": 7,
   "id": "69e5da47",
   "metadata": {
    "ExecuteTime": {
     "end_time": "2022-03-03T09:16:34.385267Z",
     "start_time": "2022-03-03T09:16:34.370579Z"
    }
   },
   "outputs": [],
   "source": [
    "G = nx.karate_club_graph()\n",
    "nx.write_gml(G,\"test.gml\")"
   ]
  },
  {
   "cell_type": "code",
   "execution_count": 8,
   "id": "ad58b7dd",
   "metadata": {
    "ExecuteTime": {
     "end_time": "2022-03-03T09:16:53.762923Z",
     "start_time": "2022-03-03T09:16:53.753260Z"
    }
   },
   "outputs": [
    {
     "name": "stdout",
     "output_type": "stream",
     "text": [
      "34 nodes, 78 edges\n"
     ]
    }
   ],
   "source": []
  },
  {
   "cell_type": "code",
   "execution_count": 9,
   "id": "b88b0054",
   "metadata": {
    "ExecuteTime": {
     "end_time": "2022-03-03T09:17:19.645361Z",
     "start_time": "2022-03-03T09:17:19.633768Z"
    }
   },
   "outputs": [
    {
     "data": {
      "text/plain": [
       "[[4, 10, 2, 3, 7, 9, 12, 13],\n",
       " [5, 6, 16, 0, 1, 11, 17, 19, 21],\n",
       " [23, 24, 25, 27, 28, 31],\n",
       " [8, 14, 15, 18, 20, 22, 26, 29, 30, 32, 33]]"
      ]
     },
     "execution_count": 9,
     "metadata": {},
     "output_type": "execute_result"
    }
   ],
   "source": [
    "partition, q = pyl.apply_method()\n",
    "partition"
   ]
  },
  {
   "cell_type": "code",
   "execution_count": 10,
   "id": "1ba8d4c4",
   "metadata": {
    "ExecuteTime": {
     "end_time": "2022-03-03T09:17:23.747503Z",
     "start_time": "2022-03-03T09:17:23.743503Z"
    }
   },
   "outputs": [
    {
     "data": {
      "text/plain": [
       "0.4188034188034188"
      ]
     },
     "execution_count": 10,
     "metadata": {},
     "output_type": "execute_result"
    }
   ],
   "source": [
    "q"
   ]
  },
  {
   "cell_type": "code",
   "execution_count": 2,
   "id": "dad871c2",
   "metadata": {
    "ExecuteTime": {
     "end_time": "2022-03-03T09:12:44.353585Z",
     "start_time": "2022-03-03T09:12:44.333221Z"
    }
   },
   "outputs": [
    {
     "name": "stdout",
     "output_type": "stream",
     "text": [
      "77 nodes, 254 edges\n"
     ]
    }
   ],
   "source": [
    "pyl = PyLouvain.from_gml_file(\"data/lesmis.gml\")"
   ]
  },
  {
   "cell_type": "code",
   "execution_count": 3,
   "id": "e52e0ebc",
   "metadata": {
    "ExecuteTime": {
     "end_time": "2022-03-03T09:12:45.052634Z",
     "start_time": "2022-03-03T09:12:45.034094Z"
    }
   },
   "outputs": [],
   "source": [
    "partition, q = pyl.apply_method()"
   ]
  },
  {
   "cell_type": "code",
   "execution_count": 4,
   "id": "e17740b4",
   "metadata": {
    "ExecuteTime": {
     "end_time": "2022-03-03T09:12:45.675436Z",
     "start_time": "2022-03-03T09:12:45.658505Z"
    }
   },
   "outputs": [
    {
     "data": {
      "text/plain": [
       "[[0, 1, 4, 5, 6, 7, 8, 9],\n",
       " [30, 31],\n",
       " [2, 3, 10, 11, 12, 13, 14, 15, 32, 33, 72, 28, 44, 45, 46, 47],\n",
       " [16, 17, 18, 19, 20, 21, 22, 23, 39, 52],\n",
       " [29, 34, 35, 36, 37, 38, 26, 43, 49, 50, 51, 53, 54, 55, 56],\n",
       " [48,\n",
       "  57,\n",
       "  58,\n",
       "  59,\n",
       "  60,\n",
       "  61,\n",
       "  62,\n",
       "  63,\n",
       "  64,\n",
       "  65,\n",
       "  66,\n",
       "  67,\n",
       "  76,\n",
       "  73,\n",
       "  74,\n",
       "  24,\n",
       "  25,\n",
       "  27,\n",
       "  40,\n",
       "  41,\n",
       "  42,\n",
       "  68,\n",
       "  69,\n",
       "  70,\n",
       "  71,\n",
       "  75]]"
      ]
     },
     "execution_count": 4,
     "metadata": {},
     "output_type": "execute_result"
    }
   ],
   "source": [
    "partition"
   ]
  },
  {
   "cell_type": "code",
   "execution_count": 5,
   "id": "82f20d5e",
   "metadata": {
    "ExecuteTime": {
     "end_time": "2022-03-03T09:12:46.354773Z",
     "start_time": "2022-03-03T09:12:46.349656Z"
    }
   },
   "outputs": [
    {
     "data": {
      "text/plain": [
       "0.5555521111042222"
      ]
     },
     "execution_count": 5,
     "metadata": {},
     "output_type": "execute_result"
    }
   ],
   "source": [
    "q"
   ]
  }
 ],
 "metadata": {
  "kernelspec": {
   "display_name": "Python 3",
   "language": "python",
   "name": "python3"
  },
  "language_info": {
   "codemirror_mode": {
    "name": "ipython",
    "version": 3
   },
   "file_extension": ".py",
   "mimetype": "text/x-python",
   "name": "python",
   "nbconvert_exporter": "python",
   "pygments_lexer": "ipython3",
   "version": "3.8.8"
  },
  "varInspector": {
   "cols": {
    "lenName": 16,
    "lenType": 16,
    "lenVar": 40
   },
   "kernels_config": {
    "python": {
     "delete_cmd_postfix": "",
     "delete_cmd_prefix": "del ",
     "library": "var_list.py",
     "varRefreshCmd": "print(var_dic_list())"
    },
    "r": {
     "delete_cmd_postfix": ") ",
     "delete_cmd_prefix": "rm(",
     "library": "var_list.r",
     "varRefreshCmd": "cat(var_dic_list()) "
    }
   },
   "types_to_exclude": [
    "module",
    "function",
    "builtin_function_or_method",
    "instance",
    "_Feature"
   ],
   "window_display": false
  }
 },
 "nbformat": 4,
 "nbformat_minor": 5
}
