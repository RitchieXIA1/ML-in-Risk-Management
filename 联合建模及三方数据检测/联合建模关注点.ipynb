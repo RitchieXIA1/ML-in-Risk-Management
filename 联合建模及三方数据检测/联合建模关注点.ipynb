{
 "cells": [
  {
   "cell_type": "code",
   "execution_count": 1,
   "id": "5ab49fe0",
   "metadata": {},
   "outputs": [],
   "source": [
    "import numpy as np \n",
    "import pandas as pd\n",
    "import matplotlib.pyplot as plt \n",
    "import seaborn as sns\n",
    "%matplotlib inline\n",
    "from datetime import datetime as dt\n",
    "from sklearn.model_selection import train_test_split\n",
    "import lightgbm as lgb\n",
    "import math\n",
    "import warnings\n",
    "warnings.filterwarnings(\"ignore\")"
   ]
  },
  {
   "cell_type": "code",
   "execution_count": 2,
   "id": "cbdb574b",
   "metadata": {},
   "outputs": [],
   "source": [
    "# 联合建模数据\n",
    "df_lianhe = pd.read_csv('lianhe_data.csv')"
   ]
  },
  {
   "cell_type": "code",
   "execution_count": 4,
   "id": "e81a2749",
   "metadata": {
    "scrolled": false
   },
   "outputs": [
    {
     "data": {
      "text/html": [
       "<div>\n",
       "<style scoped>\n",
       "    .dataframe tbody tr th:only-of-type {\n",
       "        vertical-align: middle;\n",
       "    }\n",
       "\n",
       "    .dataframe tbody tr th {\n",
       "        vertical-align: top;\n",
       "    }\n",
       "\n",
       "    .dataframe thead th {\n",
       "        text-align: right;\n",
       "    }\n",
       "</style>\n",
       "<table border=\"1\" class=\"dataframe\">\n",
       "  <thead>\n",
       "    <tr style=\"text-align: right;\">\n",
       "      <th></th>\n",
       "      <th>user_id</th>\n",
       "      <th>apply_date</th>\n",
       "      <th>label</th>\n",
       "      <th>s1</th>\n",
       "      <th>s2</th>\n",
       "      <th>s3</th>\n",
       "      <th>s4</th>\n",
       "      <th>s5</th>\n",
       "      <th>s6</th>\n",
       "      <th>s7</th>\n",
       "      <th>...</th>\n",
       "      <th>s38</th>\n",
       "      <th>s39</th>\n",
       "      <th>s40</th>\n",
       "      <th>s41</th>\n",
       "      <th>s42</th>\n",
       "      <th>s43</th>\n",
       "      <th>s44</th>\n",
       "      <th>s45</th>\n",
       "      <th>s46</th>\n",
       "      <th>s47</th>\n",
       "    </tr>\n",
       "  </thead>\n",
       "  <tbody>\n",
       "    <tr>\n",
       "      <th>0</th>\n",
       "      <td>uid1</td>\n",
       "      <td>2021-07-04</td>\n",
       "      <td>0</td>\n",
       "      <td>0.0</td>\n",
       "      <td>4.0</td>\n",
       "      <td>0.0</td>\n",
       "      <td>0.0</td>\n",
       "      <td>0.0</td>\n",
       "      <td>7.0</td>\n",
       "      <td>1.0</td>\n",
       "      <td>...</td>\n",
       "      <td>0.0</td>\n",
       "      <td>5.0</td>\n",
       "      <td>4.0</td>\n",
       "      <td>7.0</td>\n",
       "      <td>6.0</td>\n",
       "      <td>5.0</td>\n",
       "      <td>0.0</td>\n",
       "      <td>4.0</td>\n",
       "      <td>6.0</td>\n",
       "      <td>0.0</td>\n",
       "    </tr>\n",
       "    <tr>\n",
       "      <th>1</th>\n",
       "      <td>uid2</td>\n",
       "      <td>2021-07-04</td>\n",
       "      <td>1</td>\n",
       "      <td>1.0</td>\n",
       "      <td>8.0</td>\n",
       "      <td>0.0</td>\n",
       "      <td>1.0</td>\n",
       "      <td>1.0</td>\n",
       "      <td>9.0</td>\n",
       "      <td>1.0</td>\n",
       "      <td>...</td>\n",
       "      <td>0.0</td>\n",
       "      <td>5.0</td>\n",
       "      <td>5.0</td>\n",
       "      <td>5.0</td>\n",
       "      <td>6.0</td>\n",
       "      <td>5.0</td>\n",
       "      <td>1.0</td>\n",
       "      <td>8.0</td>\n",
       "      <td>4.0</td>\n",
       "      <td>0.0</td>\n",
       "    </tr>\n",
       "  </tbody>\n",
       "</table>\n",
       "<p>2 rows × 50 columns</p>\n",
       "</div>"
      ],
      "text/plain": [
       "  user_id  apply_date  label   s1   s2   s3   s4   s5   s6   s7  ...  s38  \\\n",
       "0    uid1  2021-07-04      0  0.0  4.0  0.0  0.0  0.0  7.0  1.0  ...  0.0   \n",
       "1    uid2  2021-07-04      1  1.0  8.0  0.0  1.0  1.0  9.0  1.0  ...  0.0   \n",
       "\n",
       "   s39  s40  s41  s42  s43  s44  s45  s46  s47  \n",
       "0  5.0  4.0  7.0  6.0  5.0  0.0  4.0  6.0  0.0  \n",
       "1  5.0  5.0  5.0  6.0  5.0  1.0  8.0  4.0  0.0  \n",
       "\n",
       "[2 rows x 50 columns]"
      ]
     },
     "execution_count": 4,
     "metadata": {},
     "output_type": "execute_result"
    }
   ],
   "source": [
    "df_lianhe.head(2)"
   ]
  },
  {
   "cell_type": "code",
   "execution_count": 5,
   "id": "ba91e588",
   "metadata": {},
   "outputs": [],
   "source": [
    "# 划分出训练数据和OOT数据，OOT上的KS作为模型的评价标准\n",
    "\n",
    "data_lianhe = df_lianhe[df_lianhe.apply_date<'2021-07-08']\n",
    "oot_lianhe = df_lianhe[df_lianhe.apply_date>='2021-07-08']"
   ]
  },
  {
   "cell_type": "code",
   "execution_count": 6,
   "id": "636a833c",
   "metadata": {},
   "outputs": [],
   "source": [
    "# 训练数据按8:2划分出训练集和验证集\n",
    "train_lianhe = data_lianhe.sample(frac=0.8,random_state=2011)\n",
    "valid_lianhe = data_lianhe[~(data_lianhe.user_id.isin(train_lianhe.user_id))]"
   ]
  },
  {
   "cell_type": "code",
   "execution_count": 7,
   "id": "c19916fd",
   "metadata": {},
   "outputs": [],
   "source": [
    "# 定义计算KS的函数\n",
    "def cal_score_ks(df,score_col,target):\n",
    "    \n",
    "    total_bad = df[target].sum()\n",
    "    total_good = df[target].count()-total_bad\n",
    "    score_list = list(df[score_col])\n",
    "    target_list = list(df[target])\n",
    "    items = sorted(zip(score_list,target_list),key=lambda x:x[0]) \n",
    "    step = (max(score_list)-min(score_list))/200 \n",
    "    \n",
    "    score_bin=[] \n",
    "    good_rate=[] \n",
    "    bad_rate=[] \n",
    "    ks_list = [] \n",
    "    for i in range(1,201):\n",
    "        idx = min(score_list)+i*step \n",
    "        score_bin.append(idx) \n",
    "        target_bin = [x[1] for x in items if x[0]<idx]  \n",
    "        bad_num = sum(target_bin)\n",
    "        good_num = len(target_bin)-bad_num \n",
    "        goodrate = good_num/total_good \n",
    "        badrate = bad_num/total_bad\n",
    "        ks = abs(goodrate-badrate) \n",
    "        good_rate.append(goodrate)\n",
    "        bad_rate.append(badrate)\n",
    "        ks_list.append(ks)\n",
    "        \n",
    "    ks = max(ks_list)\n",
    "    \n",
    "    return ks"
   ]
  },
  {
   "cell_type": "code",
   "execution_count": 8,
   "id": "a9e3c72c",
   "metadata": {},
   "outputs": [],
   "source": [
    "# 定义lightgbm训练的函数\n",
    "def get_lgb_model(train_data,valid_data,eta,num_leaves,min_child_samples,colsample_bytree,stop_rounds):\n",
    "    \n",
    "    lgb_x_train = train_data.drop(['user_id','apply_date','label'],axis=1)\n",
    "    lgb_y_train = train_data['label']\n",
    "    lgb_x_valid = valid_data.drop(['user_id','apply_date','label'],axis=1)\n",
    "    lgb_y_valid = valid_data['label']\n",
    "\n",
    "    lgb_params={'learning_rate':eta,\n",
    "                 'n_estimators':10000,\n",
    "                 'num_leaves':num_leaves,\n",
    "                 'min_child_samples':min_child_samples,\n",
    "                 'subsample':0.9,\n",
    "                 'colsample_bytree':colsample_bytree}\n",
    "    \n",
    "    model = lgb.LGBMClassifier(**lgb_params)\n",
    "    model.fit(lgb_x_train,\n",
    "                  lgb_y_train,\n",
    "                  early_stopping_rounds=stop_rounds,\n",
    "                  eval_set=[(lgb_x_train,lgb_y_train),(lgb_x_valid,lgb_y_valid)],\n",
    "                  eval_metric='auc',\n",
    "                  verbose=50)\n",
    "    \n",
    "    imp_df = pd.DataFrame({'col':lgb_x_train.columns,\n",
    "                       'imp':model.feature_importances_}).sort_values('imp',ascending=0).reset_index(drop=1)\n",
    "    \n",
    "    model_col = list(lgb_x_train.columns)\n",
    "    \n",
    "    return model,model_col"
   ]
  },
  {
   "cell_type": "code",
   "execution_count": 9,
   "id": "fb82fb76",
   "metadata": {
    "scrolled": false
   },
   "outputs": [
    {
     "name": "stdout",
     "output_type": "stream",
     "text": [
      "Training until validation scores don't improve for 100 rounds\n",
      "[50]\ttraining's auc: 0.72153\ttraining's binary_logloss: 0.28904\tvalid_1's auc: 0.648873\tvalid_1's binary_logloss: 0.302653\n",
      "[100]\ttraining's auc: 0.74695\ttraining's binary_logloss: 0.280625\tvalid_1's auc: 0.650445\tvalid_1's binary_logloss: 0.302768\n",
      "[150]\ttraining's auc: 0.76967\ttraining's binary_logloss: 0.274286\tvalid_1's auc: 0.648606\tvalid_1's binary_logloss: 0.303467\n",
      "Early stopping, best iteration is:\n",
      "[65]\ttraining's auc: 0.728607\ttraining's binary_logloss: 0.286212\tvalid_1's auc: 0.649983\tvalid_1's binary_logloss: 0.302507\n"
     ]
    }
   ],
   "source": [
    "# 融合模型训练\n",
    "model_ronghe,model_col_ronghe = get_lgb_model(train_ronghe,valid_ronghe,0.05,6,50,0.8,100)"
   ]
  },
  {
   "cell_type": "code",
   "execution_count": 10,
   "id": "2525464b",
   "metadata": {
    "scrolled": false
   },
   "outputs": [
    {
     "name": "stdout",
     "output_type": "stream",
     "text": [
      "融合建模 oot ks\n",
      "0.257074997742874\n"
     ]
    }
   ],
   "source": [
    "# 融合模型OOT的KS计算\n",
    "oot_pre_ronghe = model_ronghe.predict_proba(oot_ronghe.loc[:,model_col_ronghe])[:,1]\n",
    "oot_ronghe_score = oot_ronghe.copy()\n",
    "oot_ronghe_score['ronghe_score'] = [round(300-100*math.log(x/(1-x))) for x in oot_pre_ronghe]\n",
    "print('融合建模 oot ks')\n",
    "print(cal_score_ks(oot_ronghe_score,'ronghe_score','label'))"
   ]
  },
  {
   "cell_type": "code",
   "execution_count": 11,
   "id": "3dd88dda",
   "metadata": {
    "scrolled": true
   },
   "outputs": [
    {
     "name": "stdout",
     "output_type": "stream",
     "text": [
      "Training until validation scores don't improve for 40 rounds\n",
      "[50]\ttraining's auc: 0.717941\ttraining's binary_logloss: 0.290681\tvalid_1's auc: 0.63122\tvalid_1's binary_logloss: 0.304138\n",
      "[100]\ttraining's auc: 0.752608\ttraining's binary_logloss: 0.280897\tvalid_1's auc: 0.645034\tvalid_1's binary_logloss: 0.301637\n",
      "[150]\ttraining's auc: 0.779282\ttraining's binary_logloss: 0.273307\tvalid_1's auc: 0.64829\tvalid_1's binary_logloss: 0.30074\n",
      "[200]\ttraining's auc: 0.801145\ttraining's binary_logloss: 0.266878\tvalid_1's auc: 0.649048\tvalid_1's binary_logloss: 0.300674\n",
      "Early stopping, best iteration is:\n",
      "[181]\ttraining's auc: 0.792868\ttraining's binary_logloss: 0.269213\tvalid_1's auc: 0.650027\tvalid_1's binary_logloss: 0.300526\n"
     ]
    }
   ],
   "source": [
    "# 联合建模的模型训练\n",
    "model_lianhe,model_col_lianhe = get_lgb_model(train_lianhe,valid_lianhe,0.05,8,50,0.8,40)"
   ]
  },
  {
   "cell_type": "code",
   "execution_count": 12,
   "id": "ccf78c17",
   "metadata": {},
   "outputs": [
    {
     "name": "stdout",
     "output_type": "stream",
     "text": [
      "联合建模 验证集 ks\n",
      "0.2344313349703539\n"
     ]
    }
   ],
   "source": [
    "# 联合建模计算验证集KS，后面用CV方法输出train的模型分时要做参考\n",
    "valid_pre_lianhe = model_lianhe.predict_proba(valid_lianhe.loc[:,model_col_lianhe])[:,1]\n",
    "valid_lianhe_score = valid_lianhe.copy()\n",
    "valid_lianhe_score['lianhe_score'] = [round(300-100*math.log(x/(1-x))) for x in valid_pre_lianhe]\n",
    "print('联合建模 验证集 ks')\n",
    "print(cal_score_ks(valid_lianhe_score,'lianhe_score','label'))"
   ]
  },
  {
   "cell_type": "code",
   "execution_count": 13,
   "id": "f82b62e7",
   "metadata": {
    "scrolled": true
   },
   "outputs": [
    {
     "name": "stdout",
     "output_type": "stream",
     "text": [
      "联合建模 oot ks\n",
      "0.21627780997620555\n"
     ]
    }
   ],
   "source": [
    "# 联合模型OOT的KS计算\n",
    "oot_pre_lianhe = model_lianhe.predict_proba(oot_lianhe.loc[:,model_col_lianhe])[:,1]\n",
    "oot_lianhe_score = oot_lianhe.copy()\n",
    "oot_lianhe_score['lianhe_score'] = [round(300-100*math.log(x/(1-x))) for x in oot_pre_lianhe]\n",
    "print('联合建模 oot ks')\n",
    "print(cal_score_ks(oot_lianhe_score,'lianhe_score','label'))"
   ]
  },
  {
   "cell_type": "code",
   "execution_count": 14,
   "id": "272615d8",
   "metadata": {},
   "outputs": [],
   "source": [
    "# 用K折将联合建模的训练数据data_lianhe划分成5部分\n",
    "from sklearn.model_selection import KFold\n",
    "kf_split = KFold(n_splits = 5, shuffle=True, random_state=2022)\n",
    "\n",
    "# 每部分的train和valid的索引\n",
    "train_index_list=[]\n",
    "valid_index_list=[]\n",
    "for train_index,valid_index in kf_split.split(data_lianhe):\n",
    "    train_index_list.append(train_index)\n",
    "    valid_index_list.append(valid_index)"
   ]
  },
  {
   "cell_type": "code",
   "execution_count": 15,
   "id": "47ff0161",
   "metadata": {},
   "outputs": [],
   "source": [
    "# 定义计算valid模型分的函数\n",
    "def get_valid_score(model,valid_data,model_col,score_col):\n",
    "\n",
    "    print('valid ks:')\n",
    "    valid_data2 = valid_data.copy()\n",
    "    valid_pre = model.predict_proba(valid_data2.loc[:,model_col])[:,1]\n",
    "    valid_data2[score_col] = [round(300-100*math.log(x/(1-x))) for x in valid_pre]\n",
    "    print(cal_score_ks(valid_data2,score_col,'label'))\n",
    "    \n",
    "    return valid_data2\n",
    "\n",
    "# 定义比较CV的valid分布 和 联合建模模型valid分布 的函数，两者的分布要尽量一致，这样CV的5个模型能近似和联合建模模型一致\n",
    "def plot_score(data1,data2,score_col):\n",
    "    \n",
    "    sns.kdeplot(data1[score_col],label='1')\n",
    "    sns.kdeplot(data2[score_col],label='2')\n",
    "    plt.legend()\n",
    "    plt.show()"
   ]
  },
  {
   "cell_type": "code",
   "execution_count": 16,
   "id": "46408e2f",
   "metadata": {
    "scrolled": false
   },
   "outputs": [
    {
     "name": "stdout",
     "output_type": "stream",
     "text": [
      "Training until validation scores don't improve for 40 rounds\n",
      "[50]\ttraining's auc: 0.723632\ttraining's binary_logloss: 0.289213\tvalid_1's auc: 0.606006\tvalid_1's binary_logloss: 0.308088\n",
      "[100]\ttraining's auc: 0.750929\ttraining's binary_logloss: 0.279604\tvalid_1's auc: 0.615097\tvalid_1's binary_logloss: 0.307294\n",
      "[150]\ttraining's auc: 0.779015\ttraining's binary_logloss: 0.27185\tvalid_1's auc: 0.620272\tvalid_1's binary_logloss: 0.306801\n",
      "[200]\ttraining's auc: 0.800856\ttraining's binary_logloss: 0.265141\tvalid_1's auc: 0.624589\tvalid_1's binary_logloss: 0.306412\n",
      "Early stopping, best iteration is:\n",
      "[187]\ttraining's auc: 0.795376\ttraining's binary_logloss: 0.266879\tvalid_1's auc: 0.625148\tvalid_1's binary_logloss: 0.306296\n",
      "valid ks:\n",
      "0.20730049195395733\n"
     ]
    }
   ],
   "source": [
    "# 训练第一个CV模型，通过参数调整让CV valid的KS和模型分分布与 联合建模模型的valid趋于一致\n",
    "lianhe_train1 = data_lianhe.iloc[train_index_list[0]]\n",
    "lianhe_valid1 = data_lianhe.iloc[valid_index_list[0]]\n",
    "\n",
    "lianhe_model1,lianhe_model_col1 = get_lgb_model(lianhe_train1,lianhe_valid1,0.05,8,50,0.9,40)\n",
    "lianhe_valid_score1 = get_valid_score(lianhe_model1,lianhe_valid1,lianhe_model_col1,'lianhe_score')"
   ]
  },
  {
   "cell_type": "code",
   "execution_count": 17,
   "id": "8bed602b",
   "metadata": {},
   "outputs": [
    {
     "data": {
      "image/png": "[encoded data removed]",
      "text/plain": [
       "<Figure size 432x288 with 1 Axes>"
      ]
     },
     "metadata": {
      "needs_background": "light"
     },
     "output_type": "display_data"
    }
   ],
   "source": [
    "plot_score(valid_lianhe_score,lianhe_valid_score1,'lianhe_score')"
   ]
  },
  {
   "cell_type": "code",
   "execution_count": 18,
   "id": "eca340b7",
   "metadata": {},
   "outputs": [
    {
     "name": "stdout",
     "output_type": "stream",
     "text": [
      "Training until validation scores don't improve for 40 rounds\n",
      "[50]\ttraining's auc: 0.718617\ttraining's binary_logloss: 0.291613\tvalid_1's auc: 0.629731\tvalid_1's binary_logloss: 0.299125\n",
      "[100]\ttraining's auc: 0.750225\ttraining's binary_logloss: 0.281822\tvalid_1's auc: 0.643059\tvalid_1's binary_logloss: 0.297591\n",
      "[150]\ttraining's auc: 0.776109\ttraining's binary_logloss: 0.274291\tvalid_1's auc: 0.647829\tvalid_1's binary_logloss: 0.29699\n",
      "Early stopping, best iteration is:\n",
      "[158]\ttraining's auc: 0.782175\ttraining's binary_logloss: 0.27308\tvalid_1's auc: 0.648754\tvalid_1's binary_logloss: 0.29686\n",
      "valid ks:\n",
      "0.21702309895998562\n"
     ]
    }
   ],
   "source": [
    "# 训练第二个CV模型，通过参数调整让CV valid的KS和模型分分布与 联合建模模型的valid趋于一致\n",
    "lianhe_train2 = data_lianhe.iloc[train_index_list[1]]\n",
    "lianhe_valid2 = data_lianhe.iloc[valid_index_list[1]]\n",
    "\n",
    "lianhe_model2,lianhe_model_col2 = get_lgb_model(lianhe_train2,lianhe_valid2,0.05,8,50,0.8,40)\n",
    "lianhe_valid_score2 = get_valid_score(lianhe_model2,lianhe_valid2,lianhe_model_col2,'lianhe_score')"
   ]
  },
  {
   "cell_type": "code",
   "execution_count": 19,
   "id": "d733cf8f",
   "metadata": {
    "scrolled": true
   },
   "outputs": [
    {
     "data": {
      "image/png": "[encoded data removed]",
      "text/plain": [
       "<Figure size 432x288 with 1 Axes>"
      ]
     },
     "metadata": {
      "needs_background": "light"
     },
     "output_type": "display_data"
    }
   ],
   "source": [
    "plot_score(valid_lianhe_score,lianhe_valid_score2,'lianhe_score')"
   ]
  },
  {
   "cell_type": "code",
   "execution_count": 20,
   "id": "ff233f8b",
   "metadata": {
    "scrolled": true
   },
   "outputs": [
    {
     "name": "stdout",
     "output_type": "stream",
     "text": [
      "Training until validation scores don't improve for 50 rounds\n",
      "[50]\ttraining's auc: 0.728885\ttraining's binary_logloss: 0.290447\tvalid_1's auc: 0.65043\tvalid_1's binary_logloss: 0.293089\n",
      "[100]\ttraining's auc: 0.767931\ttraining's binary_logloss: 0.279009\tvalid_1's auc: 0.66213\tvalid_1's binary_logloss: 0.290145\n",
      "[150]\ttraining's auc: 0.799134\ttraining's binary_logloss: 0.270263\tvalid_1's auc: 0.664552\tvalid_1's binary_logloss: 0.289299\n",
      "[200]\ttraining's auc: 0.824574\ttraining's binary_logloss: 0.262391\tvalid_1's auc: 0.663541\tvalid_1's binary_logloss: 0.289093\n",
      "Early stopping, best iteration is:\n",
      "[151]\ttraining's auc: 0.799849\ttraining's binary_logloss: 0.27009\tvalid_1's auc: 0.665001\tvalid_1's binary_logloss: 0.289216\n",
      "valid ks:\n",
      "0.24336119241165455\n"
     ]
    }
   ],
   "source": [
    "# 训练第三个CV模型，通过参数调整让CV valid的KS和模型分分布与 联合建模模型的valid趋于一致\n",
    "lianhe_train3 = data_lianhe.iloc[train_index_list[2]]\n",
    "lianhe_valid3 = data_lianhe.iloc[valid_index_list[2]]\n",
    "\n",
    "lianhe_model3,lianhe_model_col3 = get_lgb_model(lianhe_train3,lianhe_valid3,0.05,10,50,0.7,50)\n",
    "lianhe_valid_score3 = get_valid_score(lianhe_model3,lianhe_valid3,lianhe_model_col3,'lianhe_score')"
   ]
  },
  {
   "cell_type": "code",
   "execution_count": 21,
   "id": "c31e5c6b",
   "metadata": {
    "scrolled": true
   },
   "outputs": [
    {
     "data": {
      "image/png": "[encoded data removed]",
      "text/plain": [
       "<Figure size 432x288 with 1 Axes>"
      ]
     },
     "metadata": {
      "needs_background": "light"
     },
     "output_type": "display_data"
    }
   ],
   "source": [
    "plot_score(valid_lianhe_score,lianhe_valid_score3,'lianhe_score')"
   ]
  },
  {
   "cell_type": "code",
   "execution_count": 22,
   "id": "ea2c85af",
   "metadata": {
    "scrolled": false
   },
   "outputs": [
    {
     "name": "stdout",
     "output_type": "stream",
     "text": [
      "Training until validation scores don't improve for 100 rounds\n",
      "[50]\ttraining's auc: 0.738462\ttraining's binary_logloss: 0.287963\tvalid_1's auc: 0.631609\tvalid_1's binary_logloss: 0.301685\n",
      "[100]\ttraining's auc: 0.777827\ttraining's binary_logloss: 0.275977\tvalid_1's auc: 0.637491\tvalid_1's binary_logloss: 0.299739\n",
      "[150]\ttraining's auc: 0.80768\ttraining's binary_logloss: 0.266946\tvalid_1's auc: 0.63622\tvalid_1's binary_logloss: 0.299937\n",
      "[200]\ttraining's auc: 0.829356\ttraining's binary_logloss: 0.259316\tvalid_1's auc: 0.6356\tvalid_1's binary_logloss: 0.300292\n",
      "Early stopping, best iteration is:\n",
      "[114]\ttraining's auc: 0.786435\ttraining's binary_logloss: 0.27326\tvalid_1's auc: 0.639202\tvalid_1's binary_logloss: 0.29951\n",
      "valid ks:\n",
      "0.1992685452845921\n"
     ]
    }
   ],
   "source": [
    "# 训练第四个CV模型，通过参数调整让CV valid的KS和模型分分布与 联合建模模型的valid趋于一致\n",
    "lianhe_train4 = data_lianhe.iloc[train_index_list[3]]\n",
    "lianhe_valid4 = data_lianhe.iloc[valid_index_list[3]]\n",
    "\n",
    "lianhe_model4,lianhe_model_col4 = get_lgb_model(lianhe_train4,lianhe_valid4,0.05,10,50,0.7,100)\n",
    "lianhe_valid_score4 = get_valid_score(lianhe_model4,lianhe_valid4,lianhe_model_col4,'lianhe_score')"
   ]
  },
  {
   "cell_type": "code",
   "execution_count": 23,
   "id": "f1d5feab",
   "metadata": {
    "scrolled": true
   },
   "outputs": [
    {
     "data": {
      "image/png": "[encoded data removed]",
      "text/plain": [
       "<Figure size 432x288 with 1 Axes>"
      ]
     },
     "metadata": {
      "needs_background": "light"
     },
     "output_type": "display_data"
    }
   ],
   "source": [
    "plot_score(valid_lianhe_score,lianhe_valid_score4,'lianhe_score')"
   ]
  },
  {
   "cell_type": "code",
   "execution_count": 24,
   "id": "2e9584a0",
   "metadata": {
    "scrolled": true
   },
   "outputs": [
    {
     "name": "stdout",
     "output_type": "stream",
     "text": [
      "Training until validation scores don't improve for 50 rounds\n",
      "[50]\ttraining's auc: 0.716132\ttraining's binary_logloss: 0.289829\tvalid_1's auc: 0.653969\tvalid_1's binary_logloss: 0.308539\n",
      "[100]\ttraining's auc: 0.750567\ttraining's binary_logloss: 0.280499\tvalid_1's auc: 0.659497\tvalid_1's binary_logloss: 0.305998\n",
      "[150]\ttraining's auc: 0.778153\ttraining's binary_logloss: 0.272981\tvalid_1's auc: 0.660508\tvalid_1's binary_logloss: 0.304755\n",
      "[200]\ttraining's auc: 0.799047\ttraining's binary_logloss: 0.266465\tvalid_1's auc: 0.66133\tvalid_1's binary_logloss: 0.303939\n",
      "Early stopping, best iteration is:\n",
      "[196]\ttraining's auc: 0.798161\ttraining's binary_logloss: 0.266919\tvalid_1's auc: 0.662137\tvalid_1's binary_logloss: 0.303872\n",
      "valid ks:\n",
      "0.24448153338877288\n"
     ]
    }
   ],
   "source": [
    "# 训练第五个CV模型，通过参数调整让CV valid的KS和模型分分布与 联合建模模型的valid趋于一致\n",
    "lianhe_train5 = data_lianhe.iloc[train_index_list[4]]\n",
    "lianhe_valid5 = data_lianhe.iloc[valid_index_list[4]]\n",
    "\n",
    "lianhe_model5,lianhe_model_col5 = get_lgb_model(lianhe_train5,lianhe_valid5,0.05,8,50,0.8,50)\n",
    "lianhe_valid_score5 = get_valid_score(lianhe_model5,lianhe_valid5,lianhe_model_col5,'lianhe_score')"
   ]
  },
  {
   "cell_type": "code",
   "execution_count": 25,
   "id": "aba21de8",
   "metadata": {
    "scrolled": false
   },
   "outputs": [
    {
     "data": {
      "image/png": "[encoded data removed]",
      "text/plain": [
       "<Figure size 432x288 with 1 Axes>"
      ]
     },
     "metadata": {
      "needs_background": "light"
     },
     "output_type": "display_data"
    }
   ],
   "source": [
    "plot_score(valid_lianhe_score,lianhe_valid_score5,'lianhe_score')"
   ]
  },
  {
   "cell_type": "code",
   "execution_count": 26,
   "id": "877680c4",
   "metadata": {
    "scrolled": true
   },
   "outputs": [
    {
     "data": {
      "text/plain": [
       "(19780, 3)"
      ]
     },
     "execution_count": 26,
     "metadata": {},
     "output_type": "execute_result"
    }
   ],
   "source": [
    "# 合并每个CV valid的lianhe_score和OOT的lianhe_score\n",
    "lianhe_score_df = pd.concat([lianhe_valid_score1[['user_id','apply_date','lianhe_score']],\n",
    "                            lianhe_valid_score2[['user_id','apply_date','lianhe_score']],\n",
    "                            lianhe_valid_score3[['user_id','apply_date','lianhe_score']],\n",
    "                            lianhe_valid_score4[['user_id','apply_date','lianhe_score']],\n",
    "                            lianhe_valid_score5[['user_id','apply_date','lianhe_score']],\n",
    "                            oot_lianhe_score[['user_id','apply_date','lianhe_score']]\n",
    "                            ],axis=0)\n",
    "lianhe_score_df.shape"
   ]
  },
  {
   "cell_type": "code",
   "execution_count": 28,
   "id": "c20ebd89",
   "metadata": {
    "scrolled": true
   },
   "outputs": [],
   "source": [
    "# 将lianhe_score加到融合模型的train，valid，OOT中去\n",
    "train_ronghe2 = pd.merge(train_ronghe,lianhe_score_df,on=['user_id','apply_date'])\n",
    "valid_ronghe2 = pd.merge(valid_ronghe,lianhe_score_df,on=['user_id','apply_date'])\n",
    "oot_ronghe2 = pd.merge(oot_ronghe,lianhe_score_df,on=['user_id','apply_date'])"
   ]
  },
  {
   "cell_type": "code",
   "execution_count": 29,
   "id": "10297557",
   "metadata": {
    "scrolled": true
   },
   "outputs": [
    {
     "name": "stdout",
     "output_type": "stream",
     "text": [
      "Training until validation scores don't improve for 100 rounds\n",
      "[50]\ttraining's auc: 0.730887\ttraining's binary_logloss: 0.284186\tvalid_1's auc: 0.66399\tvalid_1's binary_logloss: 0.298648\n",
      "[100]\ttraining's auc: 0.75681\ttraining's binary_logloss: 0.275427\tvalid_1's auc: 0.668155\tvalid_1's binary_logloss: 0.298206\n",
      "[150]\ttraining's auc: 0.775711\ttraining's binary_logloss: 0.269124\tvalid_1's auc: 0.667716\tvalid_1's binary_logloss: 0.298963\n",
      "Early stopping, best iteration is:\n",
      "[91]\ttraining's auc: 0.752959\ttraining's binary_logloss: 0.276723\tvalid_1's auc: 0.667426\tvalid_1's binary_logloss: 0.298169\n"
     ]
    }
   ],
   "source": [
    "# 开发model_ronghe2\n",
    "model_ronghe2,model_col_ronghe2 = get_lgb_model(train_ronghe2,valid_ronghe2,0.05,6,50,0.9,100)"
   ]
  },
  {
   "cell_type": "code",
   "execution_count": 30,
   "id": "31845c3b",
   "metadata": {},
   "outputs": [
    {
     "data": {
      "text/plain": [
       "0.2868413924865374"
      ]
     },
     "execution_count": 30,
     "metadata": {},
     "output_type": "execute_result"
    }
   ],
   "source": [
    "# 计算model_ronghe2的OOT KS\n",
    "oot_pre_ronghe2 = model_ronghe2.predict_proba(oot_ronghe2.loc[:,model_col_ronghe2])[:,1]\n",
    "oot_ronghe_score2 = oot_ronghe2.copy()\n",
    "oot_ronghe_score2['ronghe_score2'] = [round(300-100*math.log(x/(1-x))) for x in oot_pre_ronghe2]\n",
    "cal_score_ks(oot_ronghe_score2,'ronghe_score2','label')"
   ]
  }
 ],
 "metadata": {
  "kernelspec": {
   "display_name": "Python 3 (ipykernel)",
   "language": "python",
   "name": "python3"
  },
  "language_info": {
   "codemirror_mode": {
    "name": "ipython",
    "version": 3
   },
   "file_extension": ".py",
   "mimetype": "text/x-python",
   "name": "python",
   "nbconvert_exporter": "python",
   "pygments_lexer": "ipython3",
   "version": "3.8.5"
  },
  "toc": {
   "base_numbering": 1,
   "nav_menu": {},
   "number_sections": true,
   "sideBar": true,
   "skip_h1_title": false,
   "title_cell": "Table of Contents",
   "title_sidebar": "Contents",
   "toc_cell": false,
   "toc_position": {},
   "toc_section_display": true,
   "toc_window_display": false
  }
 },
 "nbformat": 4,
 "nbformat_minor": 5
}
