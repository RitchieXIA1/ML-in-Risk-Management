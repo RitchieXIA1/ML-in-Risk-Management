{
 "cells": [
  {
   "cell_type": "code",
   "execution_count": 26,
   "id": "c8d424be",
   "metadata": {
    "ExecuteTime": {
     "end_time": "2022-03-04T09:50:58.722013Z",
     "start_time": "2022-03-04T09:50:58.713008Z"
    }
   },
   "outputs": [],
   "source": [
    "import pandas as pd\n",
    "import numpy as np\n",
    "from sklearn.linear_model import LogisticRegression\n",
    "from sklearn.model_selection import train_test_split\n",
    "from sklearn.datasets import load_iris\n",
    "from sklearn.preprocessing import MinMaxScaler\n",
    "from sklearn.cluster import KMeans"
   ]
  },
  {
   "cell_type": "code",
   "execution_count": 65,
   "id": "8ee93fc6",
   "metadata": {
    "ExecuteTime": {
     "end_time": "2022-03-04T09:59:03.490419Z",
     "start_time": "2022-03-04T09:59:03.481981Z"
    }
   },
   "outputs": [],
   "source": [
    "iris = load_iris()\n",
    "min_max_scaler = MinMaxScaler()\n",
    "data = min_max_scaler.fit_transform(iris.data)\n",
    "data = pd.DataFrame(data, columns=iris.feature_names)\n",
    "data[\"target\"] = iris.target\n",
    "X_train, X_test, y_train, y_test = train_test_split(data[data.columns[:-1]], data[data.columns[-1:]]\n",
    "                                                    , test_size=0.3, random_state=1000)"
   ]
  },
  {
   "cell_type": "code",
   "execution_count": 66,
   "id": "0049b888",
   "metadata": {
    "ExecuteTime": {
     "end_time": "2022-03-04T09:59:04.123844Z",
     "start_time": "2022-03-04T09:59:04.119844Z"
    }
   },
   "outputs": [],
   "source": [
    "train_model1 = KMeans(n_clusters=3)\n",
    "train_model2 = LogisticRegression(multi_class=\"multinomial\",solver=\"newton-cg\", max_iter=1000)"
   ]
  },
  {
   "cell_type": "code",
   "execution_count": 67,
   "id": "499c9e94",
   "metadata": {
    "ExecuteTime": {
     "end_time": "2022-03-04T09:59:05.962246Z",
     "start_time": "2022-03-04T09:59:05.884229Z"
    }
   },
   "outputs": [
    {
     "name": "stderr",
     "output_type": "stream",
     "text": [
      "C:\\Users\\ASUS\\anaconda3\\lib\\site-packages\\sklearn\\utils\\validation.py:993: DataConversionWarning: A column-vector y was passed when a 1d array was expected. Please change the shape of y to (n_samples, ), for example using ravel().\n",
      "  y = column_or_1d(y, warn=True)\n"
     ]
    },
    {
     "data": {
      "text/plain": [
       "LogisticRegression(max_iter=1000, multi_class='multinomial', solver='newton-cg')"
      ]
     },
     "execution_count": 67,
     "metadata": {},
     "output_type": "execute_result"
    }
   ],
   "source": [
    "train_model1.fit(X_train)\n",
    "X_train['cluster'] = train_model1.predict(X_train)\n",
    "train_model2.fit(X_train,y_train)"
   ]
  },
  {
   "cell_type": "code",
   "execution_count": 68,
   "id": "185d462b",
   "metadata": {
    "ExecuteTime": {
     "end_time": "2022-03-04T09:59:08.624516Z",
     "start_time": "2022-03-04T09:59:08.613514Z"
    }
   },
   "outputs": [],
   "source": [
    "import pickle\n",
    "f = open(\"train_model_lr.pkl\",'wb')\n",
    "pickle.dump({'model1':train_model1,'model2':train_model2}, f)\n",
    "f.close()"
   ]
  },
  {
   "cell_type": "code",
   "execution_count": 69,
   "id": "2ab485a3",
   "metadata": {
    "ExecuteTime": {
     "end_time": "2022-03-04T09:59:09.243832Z",
     "start_time": "2022-03-04T09:59:09.225857Z"
    }
   },
   "outputs": [],
   "source": [
    "file = open('train_model_lr.pkl','rb')\n",
    "model = pickle.load(file)"
   ]
  },
  {
   "cell_type": "code",
   "execution_count": 70,
   "id": "bc426ab2",
   "metadata": {
    "ExecuteTime": {
     "end_time": "2022-03-04T09:59:09.769423Z",
     "start_time": "2022-03-04T09:59:09.735270Z"
    }
   },
   "outputs": [
    {
     "data": {
      "text/plain": [
       "array([2, 1, 2, 0, 1, 1, 2, 2, 1, 2, 0, 2, 1, 1, 0, 2, 2, 2, 1, 1, 2, 2,\n",
       "       0, 0, 2, 1, 2, 2, 2, 0, 1, 2, 0, 2, 1, 0, 0, 2, 2, 0, 2, 0, 0, 2,\n",
       "       2])"
      ]
     },
     "execution_count": 70,
     "metadata": {},
     "output_type": "execute_result"
    }
   ],
   "source": [
    "model['model1'].predict(X_test)"
   ]
  },
  {
   "cell_type": "code",
   "execution_count": 71,
   "id": "75857bc9",
   "metadata": {
    "ExecuteTime": {
     "end_time": "2022-03-04T09:59:15.358926Z",
     "start_time": "2022-03-04T09:59:15.323919Z"
    }
   },
   "outputs": [],
   "source": [
    "X_test['cluster']=model['model1'].predict(X_test)"
   ]
  },
  {
   "cell_type": "code",
   "execution_count": 72,
   "id": "742d4cab",
   "metadata": {
    "ExecuteTime": {
     "end_time": "2022-03-04T09:59:17.141954Z",
     "start_time": "2022-03-04T09:59:17.134843Z"
    }
   },
   "outputs": [
    {
     "data": {
      "text/plain": [
       "array([[0.09112157, 0.7443119 , 0.16456652],\n",
       "       [0.89172934, 0.08259628, 0.02567438],\n",
       "       [0.02890093, 0.69810508, 0.27299399],\n",
       "       [0.03428504, 0.064015  , 0.90169996],\n",
       "       [0.89502674, 0.07769833, 0.02727493],\n",
       "       [0.89674337, 0.07977368, 0.02348295],\n",
       "       [0.06952147, 0.7050905 , 0.22538803],\n",
       "       [0.02900783, 0.77092036, 0.20007182],\n",
       "       [0.91901851, 0.06109822, 0.01988326],\n",
       "       [0.02190941, 0.71472282, 0.26336778],\n",
       "       [0.0429871 , 0.0658365 , 0.8911764 ],\n",
       "       [0.05157257, 0.78146704, 0.16696039],\n",
       "       [0.87894845, 0.0862085 , 0.03484306],\n",
       "       [0.91608422, 0.0640523 , 0.01986348],\n",
       "       [0.02832724, 0.05274229, 0.91893047],\n",
       "       [0.0928002 , 0.7715029 , 0.1356969 ],\n",
       "       [0.0256304 , 0.75060985, 0.22375975],\n",
       "       [0.08386526, 0.76358363, 0.15255111],\n",
       "       [0.92792854, 0.05584596, 0.0162255 ],\n",
       "       [0.90172141, 0.07540312, 0.02287547],\n",
       "       [0.10960068, 0.7624176 , 0.12798172],\n",
       "       [0.03772191, 0.68552238, 0.27675571],\n",
       "       [0.05603437, 0.09164515, 0.85232048],\n",
       "       [0.0467153 , 0.07122099, 0.88206371],\n",
       "       [0.173658  , 0.70433181, 0.12201019],\n",
       "       [0.89948046, 0.07456387, 0.02595567],\n",
       "       [0.05681603, 0.71457285, 0.22861112],\n",
       "       [0.05748756, 0.77141018, 0.17110226],\n",
       "       [0.12503141, 0.74660906, 0.12835953],\n",
       "       [0.09828223, 0.08432752, 0.81739024],\n",
       "       [0.84297634, 0.11160541, 0.04541824],\n",
       "       [0.06645759, 0.80473691, 0.1288055 ],\n",
       "       [0.03166982, 0.06073101, 0.90759917],\n",
       "       [0.10706493, 0.73467386, 0.15826121],\n",
       "       [0.8974862 , 0.07849067, 0.02402313],\n",
       "       [0.05457037, 0.0916271 , 0.85380254],\n",
       "       [0.07801272, 0.08512108, 0.8368662 ],\n",
       "       [0.06258213, 0.71673174, 0.22068613],\n",
       "       [0.02331596, 0.66976015, 0.30692389],\n",
       "       [0.03484007, 0.07557224, 0.8895877 ],\n",
       "       [0.02567774, 0.71085132, 0.26347094],\n",
       "       [0.06054176, 0.05750718, 0.88195106],\n",
       "       [0.05358915, 0.06199361, 0.88441724],\n",
       "       [0.05068345, 0.75158919, 0.19772736],\n",
       "       [0.02701019, 0.64842717, 0.32456265]])"
      ]
     },
     "execution_count": 72,
     "metadata": {},
     "output_type": "execute_result"
    }
   ],
   "source": [
    "model['model2'].predict_proba(X_test)"
   ]
  },
  {
   "cell_type": "code",
   "execution_count": null,
   "id": "de1e545a",
   "metadata": {},
   "outputs": [],
   "source": []
  }
 ],
 "metadata": {
  "kernelspec": {
   "display_name": "Python 3",
   "language": "python",
   "name": "python3"
  },
  "language_info": {
   "codemirror_mode": {
    "name": "ipython",
    "version": 3
   },
   "file_extension": ".py",
   "mimetype": "text/x-python",
   "name": "python",
   "nbconvert_exporter": "python",
   "pygments_lexer": "ipython3",
   "version": "3.8.8"
  },
  "varInspector": {
   "cols": {
    "lenName": 16,
    "lenType": 16,
    "lenVar": 40
   },
   "kernels_config": {
    "python": {
     "delete_cmd_postfix": "",
     "delete_cmd_prefix": "del ",
     "library": "var_list.py",
     "varRefreshCmd": "print(var_dic_list())"
    },
    "r": {
     "delete_cmd_postfix": ") ",
     "delete_cmd_prefix": "rm(",
     "library": "var_list.r",
     "varRefreshCmd": "cat(var_dic_list()) "
    }
   },
   "types_to_exclude": [
    "module",
    "function",
    "builtin_function_or_method",
    "instance",
    "_Feature"
   ],
   "window_display": false
  }
 },
 "nbformat": 4,
 "nbformat_minor": 5
}
