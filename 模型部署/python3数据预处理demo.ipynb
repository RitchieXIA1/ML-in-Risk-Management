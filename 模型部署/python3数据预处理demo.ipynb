{
 "cells": [
  {
   "cell_type": "markdown",
   "metadata": {},
   "source": [
    "## LR模型demo"
   ]
  },
  {
   "cell_type": "code",
   "execution_count": 1,
   "metadata": {
    "ExecuteTime": {
     "end_time": "2022-03-04T09:34:10.437654Z",
     "start_time": "2022-03-04T09:34:09.951537Z"
    }
   },
   "outputs": [],
   "source": [
    "import pandas as pd\n",
    "import numpy as np\n",
    "from sklearn.linear_model import LogisticRegression\n",
    "from sklearn.model_selection import train_test_split\n",
    "from sklearn.datasets import load_iris"
   ]
  },
  {
   "cell_type": "markdown",
   "metadata": {},
   "source": [
    "### 1.载入数据"
   ]
  },
  {
   "cell_type": "code",
   "execution_count": 2,
   "metadata": {
    "ExecuteTime": {
     "end_time": "2022-03-04T09:34:11.104595Z",
     "start_time": "2022-03-04T09:34:11.086638Z"
    }
   },
   "outputs": [],
   "source": [
    "iris = load_iris()"
   ]
  },
  {
   "cell_type": "markdown",
   "metadata": {},
   "source": [
    "### 2.特征工程"
   ]
  },
  {
   "cell_type": "code",
   "execution_count": 3,
   "metadata": {
    "ExecuteTime": {
     "end_time": "2022-03-04T09:34:12.063909Z",
     "start_time": "2022-03-04T09:34:12.057906Z"
    }
   },
   "outputs": [],
   "source": [
    "from sklearn.preprocessing import MinMaxScaler"
   ]
  },
  {
   "cell_type": "code",
   "execution_count": 4,
   "metadata": {
    "ExecuteTime": {
     "end_time": "2022-03-04T09:34:12.507754Z",
     "start_time": "2022-03-04T09:34:12.488750Z"
    }
   },
   "outputs": [],
   "source": [
    "min_max_scaler = MinMaxScaler()\n",
    "data = min_max_scaler.fit_transform(iris.data)\n",
    "data = pd.DataFrame(data, columns=iris.feature_names)\n",
    "data[\"target\"] = iris.target"
   ]
  },
  {
   "cell_type": "code",
   "execution_count": 5,
   "metadata": {
    "ExecuteTime": {
     "end_time": "2022-03-04T09:34:13.284000Z",
     "start_time": "2022-03-04T09:34:13.269998Z"
    }
   },
   "outputs": [
    {
     "data": {
      "text/html": [
       "<div>\n",
       "<style scoped>\n",
       "    .dataframe tbody tr th:only-of-type {\n",
       "        vertical-align: middle;\n",
       "    }\n",
       "\n",
       "    .dataframe tbody tr th {\n",
       "        vertical-align: top;\n",
       "    }\n",
       "\n",
       "    .dataframe thead th {\n",
       "        text-align: right;\n",
       "    }\n",
       "</style>\n",
       "<table border=\"1\" class=\"dataframe\">\n",
       "  <thead>\n",
       "    <tr style=\"text-align: right;\">\n",
       "      <th></th>\n",
       "      <th>sepal length (cm)</th>\n",
       "      <th>sepal width (cm)</th>\n",
       "      <th>petal length (cm)</th>\n",
       "      <th>petal width (cm)</th>\n",
       "      <th>target</th>\n",
       "    </tr>\n",
       "  </thead>\n",
       "  <tbody>\n",
       "    <tr>\n",
       "      <th>0</th>\n",
       "      <td>0.222222</td>\n",
       "      <td>0.625000</td>\n",
       "      <td>0.067797</td>\n",
       "      <td>0.041667</td>\n",
       "      <td>0</td>\n",
       "    </tr>\n",
       "    <tr>\n",
       "      <th>1</th>\n",
       "      <td>0.166667</td>\n",
       "      <td>0.416667</td>\n",
       "      <td>0.067797</td>\n",
       "      <td>0.041667</td>\n",
       "      <td>0</td>\n",
       "    </tr>\n",
       "    <tr>\n",
       "      <th>2</th>\n",
       "      <td>0.111111</td>\n",
       "      <td>0.500000</td>\n",
       "      <td>0.050847</td>\n",
       "      <td>0.041667</td>\n",
       "      <td>0</td>\n",
       "    </tr>\n",
       "    <tr>\n",
       "      <th>3</th>\n",
       "      <td>0.083333</td>\n",
       "      <td>0.458333</td>\n",
       "      <td>0.084746</td>\n",
       "      <td>0.041667</td>\n",
       "      <td>0</td>\n",
       "    </tr>\n",
       "    <tr>\n",
       "      <th>4</th>\n",
       "      <td>0.194444</td>\n",
       "      <td>0.666667</td>\n",
       "      <td>0.067797</td>\n",
       "      <td>0.041667</td>\n",
       "      <td>0</td>\n",
       "    </tr>\n",
       "    <tr>\n",
       "      <th>...</th>\n",
       "      <td>...</td>\n",
       "      <td>...</td>\n",
       "      <td>...</td>\n",
       "      <td>...</td>\n",
       "      <td>...</td>\n",
       "    </tr>\n",
       "    <tr>\n",
       "      <th>145</th>\n",
       "      <td>0.666667</td>\n",
       "      <td>0.416667</td>\n",
       "      <td>0.711864</td>\n",
       "      <td>0.916667</td>\n",
       "      <td>2</td>\n",
       "    </tr>\n",
       "    <tr>\n",
       "      <th>146</th>\n",
       "      <td>0.555556</td>\n",
       "      <td>0.208333</td>\n",
       "      <td>0.677966</td>\n",
       "      <td>0.750000</td>\n",
       "      <td>2</td>\n",
       "    </tr>\n",
       "    <tr>\n",
       "      <th>147</th>\n",
       "      <td>0.611111</td>\n",
       "      <td>0.416667</td>\n",
       "      <td>0.711864</td>\n",
       "      <td>0.791667</td>\n",
       "      <td>2</td>\n",
       "    </tr>\n",
       "    <tr>\n",
       "      <th>148</th>\n",
       "      <td>0.527778</td>\n",
       "      <td>0.583333</td>\n",
       "      <td>0.745763</td>\n",
       "      <td>0.916667</td>\n",
       "      <td>2</td>\n",
       "    </tr>\n",
       "    <tr>\n",
       "      <th>149</th>\n",
       "      <td>0.444444</td>\n",
       "      <td>0.416667</td>\n",
       "      <td>0.694915</td>\n",
       "      <td>0.708333</td>\n",
       "      <td>2</td>\n",
       "    </tr>\n",
       "  </tbody>\n",
       "</table>\n",
       "<p>150 rows × 5 columns</p>\n",
       "</div>"
      ],
      "text/plain": [
       "     sepal length (cm)  sepal width (cm)  petal length (cm)  petal width (cm)  \\\n",
       "0             0.222222          0.625000           0.067797          0.041667   \n",
       "1             0.166667          0.416667           0.067797          0.041667   \n",
       "2             0.111111          0.500000           0.050847          0.041667   \n",
       "3             0.083333          0.458333           0.084746          0.041667   \n",
       "4             0.194444          0.666667           0.067797          0.041667   \n",
       "..                 ...               ...                ...               ...   \n",
       "145           0.666667          0.416667           0.711864          0.916667   \n",
       "146           0.555556          0.208333           0.677966          0.750000   \n",
       "147           0.611111          0.416667           0.711864          0.791667   \n",
       "148           0.527778          0.583333           0.745763          0.916667   \n",
       "149           0.444444          0.416667           0.694915          0.708333   \n",
       "\n",
       "     target  \n",
       "0         0  \n",
       "1         0  \n",
       "2         0  \n",
       "3         0  \n",
       "4         0  \n",
       "..      ...  \n",
       "145       2  \n",
       "146       2  \n",
       "147       2  \n",
       "148       2  \n",
       "149       2  \n",
       "\n",
       "[150 rows x 5 columns]"
      ]
     },
     "execution_count": 5,
     "metadata": {},
     "output_type": "execute_result"
    }
   ],
   "source": [
    "data"
   ]
  },
  {
   "cell_type": "code",
   "execution_count": 8,
   "metadata": {
    "ExecuteTime": {
     "end_time": "2022-03-04T09:34:17.545081Z",
     "start_time": "2022-03-04T09:34:17.533079Z"
    }
   },
   "outputs": [],
   "source": [
    "X_train, X_test, y_train, y_test = train_test_split(data[data.columns[:-1]], data[data.columns[-1:]]\n",
    "                                                    , test_size=0.3, random_state=1000)"
   ]
  },
  {
   "cell_type": "markdown",
   "metadata": {},
   "source": [
    "### 3.模型搭建"
   ]
  },
  {
   "cell_type": "code",
   "execution_count": 10,
   "metadata": {
    "ExecuteTime": {
     "end_time": "2022-03-04T09:34:27.562143Z",
     "start_time": "2022-03-04T09:34:27.559684Z"
    }
   },
   "outputs": [],
   "source": [
    "train_model1 = LogisticRegression(multi_class=\"multinomial\", solver=\"newton-cg\", max_iter=100)"
   ]
  },
  {
   "cell_type": "code",
   "execution_count": 11,
   "metadata": {
    "ExecuteTime": {
     "end_time": "2022-03-04T09:34:44.516199Z",
     "start_time": "2022-03-04T09:34:44.512198Z"
    }
   },
   "outputs": [],
   "source": [
    "train_model2 = LogisticRegression(multi_class=\"multinomial\", max_iter=100)"
   ]
  },
  {
   "cell_type": "code",
   "execution_count": 34,
   "metadata": {
    "ExecuteTime": {
     "end_time": "2022-03-04T09:42:39.703025Z",
     "start_time": "2022-03-04T09:42:39.676013Z"
    }
   },
   "outputs": [
    {
     "name": "stderr",
     "output_type": "stream",
     "text": [
      "C:\\Users\\ASUS\\anaconda3\\lib\\site-packages\\sklearn\\utils\\validation.py:993: DataConversionWarning: A column-vector y was passed when a 1d array was expected. Please change the shape of y to (n_samples, ), for example using ravel().\n",
      "  y = column_or_1d(y, warn=True)\n",
      "C:\\Users\\ASUS\\anaconda3\\lib\\site-packages\\sklearn\\utils\\validation.py:993: DataConversionWarning: A column-vector y was passed when a 1d array was expected. Please change the shape of y to (n_samples, ), for example using ravel().\n",
      "  y = column_or_1d(y, warn=True)\n"
     ]
    },
    {
     "data": {
      "text/plain": [
       "LogisticRegression(multi_class='multinomial')"
      ]
     },
     "execution_count": 34,
     "metadata": {},
     "output_type": "execute_result"
    }
   ],
   "source": [
    "train_model1.fit(X_train,y_train)\n",
    "X_train['test'] = train_model1.predict_log_proba(X_train)[:,0]\n",
    "train_model2.fit(X_train,y_train)"
   ]
  },
  {
   "cell_type": "code",
   "execution_count": null,
   "metadata": {},
   "outputs": [],
   "source": [
    "import pickle\n",
    "f = open(\"train_model_lr.pkl\",'wb')\n",
    "pickle.dump({'model1':train_model1,'model2':train_model1}, f)\n",
    "f.close()"
   ]
  },
  {
   "cell_type": "markdown",
   "metadata": {},
   "source": [
    "### 4.模型输出"
   ]
  },
  {
   "cell_type": "code",
   "execution_count": 14,
   "metadata": {
    "ExecuteTime": {
     "end_time": "2022-03-04T09:10:13.731127Z",
     "start_time": "2022-03-04T09:10:13.718124Z"
    }
   },
   "outputs": [],
   "source": [
    "x_train_per = train_model.predict_proba(X_train)\n",
    "x_test_per = train_model.predict_proba(X_test)"
   ]
  },
  {
   "cell_type": "code",
   "execution_count": 15,
   "metadata": {
    "ExecuteTime": {
     "end_time": "2022-03-04T09:10:14.693425Z",
     "start_time": "2022-03-04T09:10:14.684421Z"
    }
   },
   "outputs": [],
   "source": [
    "df_train_score = pd.DataFrame({'score':x_train_per[:,0]})\n",
    "df_test_score = pd.DataFrame({'score':x_test_per[:,0]})"
   ]
  },
  {
   "cell_type": "code",
   "execution_count": 16,
   "metadata": {
    "ExecuteTime": {
     "end_time": "2022-03-04T09:10:19.819981Z",
     "start_time": "2022-03-04T09:10:19.811856Z"
    }
   },
   "outputs": [],
   "source": [
    "res_train = pd.concat([df_train_score, y_train.reset_index(drop=True)],axis=1)\n",
    "res_test= pd.concat([df_test_score, y_test.reset_index(drop=True)],axis=1)"
   ]
  },
  {
   "cell_type": "code",
   "execution_count": 17,
   "metadata": {
    "ExecuteTime": {
     "end_time": "2022-03-04T09:10:21.181968Z",
     "start_time": "2022-03-04T09:10:21.165965Z"
    }
   },
   "outputs": [
    {
     "data": {
      "text/plain": [
       "array([1, 0, 2, 2, 0, 0, 1, 1, 0, 2, 2, 1, 0, 0, 2, 1, 1, 1, 0, 0, 1, 2,\n",
       "       2, 2, 1, 0, 2, 1, 1, 2, 0, 1, 2, 1, 0, 2, 2, 1, 2, 2, 2, 2, 2, 1,\n",
       "       2])"
      ]
     },
     "execution_count": 17,
     "metadata": {},
     "output_type": "execute_result"
    }
   ],
   "source": [
    "train_model.predict(X_test)"
   ]
  },
  {
   "cell_type": "code",
   "execution_count": 18,
   "metadata": {
    "ExecuteTime": {
     "end_time": "2022-03-04T09:10:26.294785Z",
     "start_time": "2022-03-04T09:10:26.288785Z"
    },
    "jupyter": {
     "outputs_hidden": true
    }
   },
   "outputs": [
    {
     "data": {
      "text/plain": [
       "array([[0.20249665, 0.54657937, 0.25092398],\n",
       "       [0.8380418 , 0.15270283, 0.00925537],\n",
       "       [0.05426725, 0.42523139, 0.52050136],\n",
       "       [0.01026372, 0.2148763 , 0.77485998],\n",
       "       [0.85869081, 0.13081153, 0.01049766],\n",
       "       [0.86707064, 0.12369691, 0.00923245],\n",
       "       [0.1423091 , 0.51073792, 0.34695298],\n",
       "       [0.05198401, 0.64308888, 0.30492711],\n",
       "       [0.86594731, 0.12772917, 0.00632353],\n",
       "       [0.03928828, 0.46824488, 0.49246684],\n",
       "       [0.01349931, 0.3051486 , 0.6813521 ],\n",
       "       [0.11898034, 0.56369512, 0.31732454],\n",
       "       [0.86729273, 0.11668605, 0.01602122],\n",
       "       [0.89827149, 0.09404875, 0.00767976],\n",
       "       [0.00844403, 0.17365578, 0.81790019],\n",
       "       [0.19826543, 0.618165  , 0.18356958],\n",
       "       [0.04335872, 0.62634593, 0.33029535],\n",
       "       [0.17859552, 0.60549674, 0.21590774],\n",
       "       [0.91079039, 0.0832765 , 0.00593311],\n",
       "       [0.86542396, 0.12602748, 0.00854856],\n",
       "       [0.20953818, 0.65347572, 0.1369861 ],\n",
       "       [0.07348853, 0.40245232, 0.52405915],\n",
       "       [0.01707048, 0.30057308, 0.68235645],\n",
       "       [0.01462746, 0.25492626, 0.73044627],\n",
       "       [0.30363913, 0.59551744, 0.10084343],\n",
       "       [0.91784297, 0.06864363, 0.0135134 ],\n",
       "       [0.12656149, 0.41892187, 0.45451664],\n",
       "       [0.13003274, 0.56336531, 0.30660195],\n",
       "       [0.19956952, 0.70075892, 0.09967156],\n",
       "       [0.03423737, 0.36853065, 0.59723197],\n",
       "       [0.79592039, 0.18428897, 0.01979064],\n",
       "       [0.12721633, 0.71584093, 0.15694274],\n",
       "       [0.00944601, 0.20853721, 0.78201678],\n",
       "       [0.23234466, 0.54668812, 0.22096723],\n",
       "       [0.86649767, 0.12413366, 0.00936867],\n",
       "       [0.01566018, 0.43181749, 0.55252233],\n",
       "       [0.02501752, 0.41517416, 0.55980832],\n",
       "       [0.13016939, 0.5108648 , 0.35896581],\n",
       "       [0.03881007, 0.44665085, 0.51453908],\n",
       "       [0.01007615, 0.26433419, 0.72558966],\n",
       "       [0.04734094, 0.4602924 , 0.49236667],\n",
       "       [0.02128562, 0.22585567, 0.75285871],\n",
       "       [0.01799939, 0.24781509, 0.73418552],\n",
       "       [0.11123178, 0.52349589, 0.36527233],\n",
       "       [0.04508285, 0.42208318, 0.53283397]])"
      ]
     },
     "execution_count": 18,
     "metadata": {},
     "output_type": "execute_result"
    }
   ],
   "source": [
    "train_model.predict_proba(X_test)"
   ]
  },
  {
   "cell_type": "markdown",
   "metadata": {},
   "source": [
    "### 5. 模型保存"
   ]
  },
  {
   "cell_type": "code",
   "execution_count": 17,
   "metadata": {
    "ExecuteTime": {
     "end_time": "2022-03-04T09:38:00.944042Z",
     "start_time": "2022-03-04T09:38:00.940041Z"
    }
   },
   "outputs": [],
   "source": [
    "import pickle\n",
    "f = open(\"train_model_lr.pkl\",'wb')\n",
    "pickle.dump({'model1':train_model1,'model2':train_model1}, f)\n",
    "f.close()"
   ]
  },
  {
   "cell_type": "code",
   "execution_count": 18,
   "metadata": {
    "ExecuteTime": {
     "end_time": "2022-03-04T09:38:46.354616Z",
     "start_time": "2022-03-04T09:38:46.346607Z"
    }
   },
   "outputs": [],
   "source": [
    "file = open('train_model_lr.pkl','rb')\n",
    "model = pickle.load(file)"
   ]
  },
  {
   "cell_type": "code",
   "execution_count": 22,
   "metadata": {
    "ExecuteTime": {
     "end_time": "2022-03-04T09:39:32.227471Z",
     "start_time": "2022-03-04T09:39:32.219371Z"
    }
   },
   "outputs": [
    {
     "data": {
      "text/plain": [
       "array([[-1.59703194, -0.60407575, -1.38260525],\n",
       "       [-0.1766873 , -1.87926151, -4.68255178],\n",
       "       [-2.91383432, -0.85512181, -0.65296279],\n",
       "       [-4.57913992, -1.53769277, -0.25507294],\n",
       "       [-0.15234636, -2.03399772, -4.55660268],\n",
       "       [-0.14263482, -2.089921  , -4.6850311 ],\n",
       "       [-1.94975386, -0.67189869, -1.05856601],\n",
       "       [-2.95681919, -0.44147233, -1.18768251],\n",
       "       [-0.14393122, -2.05784314, -5.06347831],\n",
       "       [-3.23682915, -0.75876386, -0.70832815],\n",
       "       [-4.30511696, -1.18695641, -0.38367608],\n",
       "       [-2.12879701, -0.57324175, -1.14783023],\n",
       "       [-0.14237872, -2.14826827, -4.13384137],\n",
       "       [-0.10728293, -2.36394203, -4.86916642],\n",
       "       [-4.77429566, -1.75068022, -0.20101497],\n",
       "       [-1.6181486 , -0.48099987, -1.69516152],\n",
       "       [-3.13824735, -0.46785246, -1.10776803],\n",
       "       [-1.7226317 , -0.5017061 , -1.53290409],\n",
       "       [-0.0934425 , -2.48558889, -5.12720666],\n",
       "       [-0.14453576, -2.07125531, -4.76199248],\n",
       "       [-1.56284933, -0.4254499 , -1.98787579],\n",
       "       [-2.61062598, -0.91017864, -0.64615072],\n",
       "       [-4.0704047 , -1.20206438, -0.38220311],\n",
       "       [-4.22485443, -1.36678094, -0.3140996 ],\n",
       "       [-1.19191535, -0.5183246 , -2.29418617],\n",
       "       [-0.08572896, -2.67882694, -4.30407335],\n",
       "       [-2.06702698, -0.87007085, -0.78852075],\n",
       "       [-2.03996903, -0.57382699, -1.18220495],\n",
       "       [-1.61159262, -0.35559136, -2.30587492],\n",
       "       [-3.37443741, -0.99823139, -0.51544968],\n",
       "       [-0.22825611, -1.69125024, -3.92254629],\n",
       "       [-2.06186625, -0.3342973 , -1.85187426],\n",
       "       [-4.66216285, -1.56763781, -0.24587908],\n",
       "       [-1.45953341, -0.60387681, -1.50974089],\n",
       "       [-0.14329586, -2.08639639, -4.67038441],\n",
       "       [-4.15663396, -0.83975225, -0.59326144],\n",
       "       [-3.68817879, -0.8790572 , -0.58016084],\n",
       "       [-2.03891868, -0.67165029, -1.02452814],\n",
       "       [-3.2490755 , -0.80597809, -0.66448377],\n",
       "       [-4.59758431, -1.3305411 , -0.32077063],\n",
       "       [-3.05037991, -0.77589334, -0.70853159],\n",
       "       [-3.84972354, -1.48785913, -0.2838777 ],\n",
       "       [-4.01741751, -1.39507242, -0.30899352],\n",
       "       [-2.19613912, -0.6472261 , -1.0071121 ],\n",
       "       [-3.09925338, -0.86255287, -0.62954541]])"
      ]
     },
     "execution_count": 22,
     "metadata": {},
     "output_type": "execute_result"
    }
   ],
   "source": [
    "model['model1'].predict_log_proba(X_test)"
   ]
  },
  {
   "cell_type": "code",
   "execution_count": 23,
   "metadata": {
    "ExecuteTime": {
     "end_time": "2022-03-04T09:40:02.990459Z",
     "start_time": "2022-03-04T09:40:02.976457Z"
    }
   },
   "outputs": [
    {
     "data": {
      "text/html": [
       "<div>\n",
       "<style scoped>\n",
       "    .dataframe tbody tr th:only-of-type {\n",
       "        vertical-align: middle;\n",
       "    }\n",
       "\n",
       "    .dataframe tbody tr th {\n",
       "        vertical-align: top;\n",
       "    }\n",
       "\n",
       "    .dataframe thead th {\n",
       "        text-align: right;\n",
       "    }\n",
       "</style>\n",
       "<table border=\"1\" class=\"dataframe\">\n",
       "  <thead>\n",
       "    <tr style=\"text-align: right;\">\n",
       "      <th></th>\n",
       "      <th>sepal length (cm)</th>\n",
       "      <th>sepal width (cm)</th>\n",
       "      <th>petal length (cm)</th>\n",
       "      <th>petal width (cm)</th>\n",
       "    </tr>\n",
       "  </thead>\n",
       "  <tbody>\n",
       "    <tr>\n",
       "      <th>95</th>\n",
       "      <td>0.388889</td>\n",
       "      <td>0.416667</td>\n",
       "      <td>0.542373</td>\n",
       "      <td>0.458333</td>\n",
       "    </tr>\n",
       "    <tr>\n",
       "      <th>34</th>\n",
       "      <td>0.166667</td>\n",
       "      <td>0.458333</td>\n",
       "      <td>0.084746</td>\n",
       "      <td>0.041667</td>\n",
       "    </tr>\n",
       "    <tr>\n",
       "      <th>127</th>\n",
       "      <td>0.500000</td>\n",
       "      <td>0.416667</td>\n",
       "      <td>0.661017</td>\n",
       "      <td>0.708333</td>\n",
       "    </tr>\n",
       "    <tr>\n",
       "      <th>120</th>\n",
       "      <td>0.722222</td>\n",
       "      <td>0.500000</td>\n",
       "      <td>0.796610</td>\n",
       "      <td>0.916667</td>\n",
       "    </tr>\n",
       "    <tr>\n",
       "      <th>24</th>\n",
       "      <td>0.138889</td>\n",
       "      <td>0.583333</td>\n",
       "      <td>0.152542</td>\n",
       "      <td>0.041667</td>\n",
       "    </tr>\n",
       "    <tr>\n",
       "      <th>28</th>\n",
       "      <td>0.250000</td>\n",
       "      <td>0.583333</td>\n",
       "      <td>0.067797</td>\n",
       "      <td>0.041667</td>\n",
       "    </tr>\n",
       "    <tr>\n",
       "      <th>84</th>\n",
       "      <td>0.305556</td>\n",
       "      <td>0.416667</td>\n",
       "      <td>0.593220</td>\n",
       "      <td>0.583333</td>\n",
       "    </tr>\n",
       "    <tr>\n",
       "      <th>68</th>\n",
       "      <td>0.527778</td>\n",
       "      <td>0.083333</td>\n",
       "      <td>0.593220</td>\n",
       "      <td>0.583333</td>\n",
       "    </tr>\n",
       "    <tr>\n",
       "      <th>38</th>\n",
       "      <td>0.027778</td>\n",
       "      <td>0.416667</td>\n",
       "      <td>0.050847</td>\n",
       "      <td>0.041667</td>\n",
       "    </tr>\n",
       "    <tr>\n",
       "      <th>123</th>\n",
       "      <td>0.555556</td>\n",
       "      <td>0.291667</td>\n",
       "      <td>0.661017</td>\n",
       "      <td>0.708333</td>\n",
       "    </tr>\n",
       "    <tr>\n",
       "      <th>132</th>\n",
       "      <td>0.583333</td>\n",
       "      <td>0.333333</td>\n",
       "      <td>0.779661</td>\n",
       "      <td>0.875000</td>\n",
       "    </tr>\n",
       "    <tr>\n",
       "      <th>74</th>\n",
       "      <td>0.583333</td>\n",
       "      <td>0.375000</td>\n",
       "      <td>0.559322</td>\n",
       "      <td>0.500000</td>\n",
       "    </tr>\n",
       "    <tr>\n",
       "      <th>44</th>\n",
       "      <td>0.222222</td>\n",
       "      <td>0.750000</td>\n",
       "      <td>0.152542</td>\n",
       "      <td>0.125000</td>\n",
       "    </tr>\n",
       "    <tr>\n",
       "      <th>4</th>\n",
       "      <td>0.194444</td>\n",
       "      <td>0.666667</td>\n",
       "      <td>0.067797</td>\n",
       "      <td>0.041667</td>\n",
       "    </tr>\n",
       "    <tr>\n",
       "      <th>144</th>\n",
       "      <td>0.666667</td>\n",
       "      <td>0.541667</td>\n",
       "      <td>0.796610</td>\n",
       "      <td>1.000000</td>\n",
       "    </tr>\n",
       "    <tr>\n",
       "      <th>67</th>\n",
       "      <td>0.416667</td>\n",
       "      <td>0.291667</td>\n",
       "      <td>0.525424</td>\n",
       "      <td>0.375000</td>\n",
       "    </tr>\n",
       "    <tr>\n",
       "      <th>119</th>\n",
       "      <td>0.472222</td>\n",
       "      <td>0.083333</td>\n",
       "      <td>0.677966</td>\n",
       "      <td>0.583333</td>\n",
       "    </tr>\n",
       "    <tr>\n",
       "      <th>82</th>\n",
       "      <td>0.416667</td>\n",
       "      <td>0.291667</td>\n",
       "      <td>0.491525</td>\n",
       "      <td>0.458333</td>\n",
       "    </tr>\n",
       "    <tr>\n",
       "      <th>37</th>\n",
       "      <td>0.166667</td>\n",
       "      <td>0.666667</td>\n",
       "      <td>0.067797</td>\n",
       "      <td>0.000000</td>\n",
       "    </tr>\n",
       "    <tr>\n",
       "      <th>49</th>\n",
       "      <td>0.194444</td>\n",
       "      <td>0.541667</td>\n",
       "      <td>0.067797</td>\n",
       "      <td>0.041667</td>\n",
       "    </tr>\n",
       "    <tr>\n",
       "      <th>81</th>\n",
       "      <td>0.333333</td>\n",
       "      <td>0.166667</td>\n",
       "      <td>0.457627</td>\n",
       "      <td>0.375000</td>\n",
       "    </tr>\n",
       "    <tr>\n",
       "      <th>70</th>\n",
       "      <td>0.444444</td>\n",
       "      <td>0.500000</td>\n",
       "      <td>0.644068</td>\n",
       "      <td>0.708333</td>\n",
       "    </tr>\n",
       "    <tr>\n",
       "      <th>125</th>\n",
       "      <td>0.805556</td>\n",
       "      <td>0.500000</td>\n",
       "      <td>0.847458</td>\n",
       "      <td>0.708333</td>\n",
       "    </tr>\n",
       "    <tr>\n",
       "      <th>141</th>\n",
       "      <td>0.722222</td>\n",
       "      <td>0.458333</td>\n",
       "      <td>0.694915</td>\n",
       "      <td>0.916667</td>\n",
       "    </tr>\n",
       "    <tr>\n",
       "      <th>57</th>\n",
       "      <td>0.166667</td>\n",
       "      <td>0.166667</td>\n",
       "      <td>0.389831</td>\n",
       "      <td>0.375000</td>\n",
       "    </tr>\n",
       "    <tr>\n",
       "      <th>15</th>\n",
       "      <td>0.388889</td>\n",
       "      <td>1.000000</td>\n",
       "      <td>0.084746</td>\n",
       "      <td>0.125000</td>\n",
       "    </tr>\n",
       "    <tr>\n",
       "      <th>85</th>\n",
       "      <td>0.472222</td>\n",
       "      <td>0.583333</td>\n",
       "      <td>0.593220</td>\n",
       "      <td>0.625000</td>\n",
       "    </tr>\n",
       "    <tr>\n",
       "      <th>97</th>\n",
       "      <td>0.527778</td>\n",
       "      <td>0.375000</td>\n",
       "      <td>0.559322</td>\n",
       "      <td>0.500000</td>\n",
       "    </tr>\n",
       "    <tr>\n",
       "      <th>60</th>\n",
       "      <td>0.194444</td>\n",
       "      <td>0.000000</td>\n",
       "      <td>0.423729</td>\n",
       "      <td>0.375000</td>\n",
       "    </tr>\n",
       "    <tr>\n",
       "      <th>137</th>\n",
       "      <td>0.583333</td>\n",
       "      <td>0.458333</td>\n",
       "      <td>0.762712</td>\n",
       "      <td>0.708333</td>\n",
       "    </tr>\n",
       "    <tr>\n",
       "      <th>23</th>\n",
       "      <td>0.222222</td>\n",
       "      <td>0.541667</td>\n",
       "      <td>0.118644</td>\n",
       "      <td>0.166667</td>\n",
       "    </tr>\n",
       "    <tr>\n",
       "      <th>62</th>\n",
       "      <td>0.472222</td>\n",
       "      <td>0.083333</td>\n",
       "      <td>0.508475</td>\n",
       "      <td>0.375000</td>\n",
       "    </tr>\n",
       "    <tr>\n",
       "      <th>143</th>\n",
       "      <td>0.694444</td>\n",
       "      <td>0.500000</td>\n",
       "      <td>0.830508</td>\n",
       "      <td>0.916667</td>\n",
       "    </tr>\n",
       "    <tr>\n",
       "      <th>64</th>\n",
       "      <td>0.361111</td>\n",
       "      <td>0.375000</td>\n",
       "      <td>0.440678</td>\n",
       "      <td>0.500000</td>\n",
       "    </tr>\n",
       "    <tr>\n",
       "      <th>39</th>\n",
       "      <td>0.222222</td>\n",
       "      <td>0.583333</td>\n",
       "      <td>0.084746</td>\n",
       "      <td>0.041667</td>\n",
       "    </tr>\n",
       "    <tr>\n",
       "      <th>108</th>\n",
       "      <td>0.666667</td>\n",
       "      <td>0.208333</td>\n",
       "      <td>0.813559</td>\n",
       "      <td>0.708333</td>\n",
       "    </tr>\n",
       "    <tr>\n",
       "      <th>111</th>\n",
       "      <td>0.583333</td>\n",
       "      <td>0.291667</td>\n",
       "      <td>0.728814</td>\n",
       "      <td>0.750000</td>\n",
       "    </tr>\n",
       "    <tr>\n",
       "      <th>66</th>\n",
       "      <td>0.361111</td>\n",
       "      <td>0.416667</td>\n",
       "      <td>0.593220</td>\n",
       "      <td>0.583333</td>\n",
       "    </tr>\n",
       "    <tr>\n",
       "      <th>101</th>\n",
       "      <td>0.416667</td>\n",
       "      <td>0.291667</td>\n",
       "      <td>0.694915</td>\n",
       "      <td>0.750000</td>\n",
       "    </tr>\n",
       "    <tr>\n",
       "      <th>102</th>\n",
       "      <td>0.777778</td>\n",
       "      <td>0.416667</td>\n",
       "      <td>0.830508</td>\n",
       "      <td>0.833333</td>\n",
       "    </tr>\n",
       "    <tr>\n",
       "      <th>126</th>\n",
       "      <td>0.527778</td>\n",
       "      <td>0.333333</td>\n",
       "      <td>0.644068</td>\n",
       "      <td>0.708333</td>\n",
       "    </tr>\n",
       "    <tr>\n",
       "      <th>148</th>\n",
       "      <td>0.527778</td>\n",
       "      <td>0.583333</td>\n",
       "      <td>0.745763</td>\n",
       "      <td>0.916667</td>\n",
       "    </tr>\n",
       "    <tr>\n",
       "      <th>115</th>\n",
       "      <td>0.583333</td>\n",
       "      <td>0.500000</td>\n",
       "      <td>0.728814</td>\n",
       "      <td>0.916667</td>\n",
       "    </tr>\n",
       "    <tr>\n",
       "      <th>91</th>\n",
       "      <td>0.500000</td>\n",
       "      <td>0.416667</td>\n",
       "      <td>0.610169</td>\n",
       "      <td>0.541667</td>\n",
       "    </tr>\n",
       "    <tr>\n",
       "      <th>121</th>\n",
       "      <td>0.361111</td>\n",
       "      <td>0.333333</td>\n",
       "      <td>0.661017</td>\n",
       "      <td>0.791667</td>\n",
       "    </tr>\n",
       "  </tbody>\n",
       "</table>\n",
       "</div>"
      ],
      "text/plain": [
       "     sepal length (cm)  sepal width (cm)  petal length (cm)  petal width (cm)\n",
       "95            0.388889          0.416667           0.542373          0.458333\n",
       "34            0.166667          0.458333           0.084746          0.041667\n",
       "127           0.500000          0.416667           0.661017          0.708333\n",
       "120           0.722222          0.500000           0.796610          0.916667\n",
       "24            0.138889          0.583333           0.152542          0.041667\n",
       "28            0.250000          0.583333           0.067797          0.041667\n",
       "84            0.305556          0.416667           0.593220          0.583333\n",
       "68            0.527778          0.083333           0.593220          0.583333\n",
       "38            0.027778          0.416667           0.050847          0.041667\n",
       "123           0.555556          0.291667           0.661017          0.708333\n",
       "132           0.583333          0.333333           0.779661          0.875000\n",
       "74            0.583333          0.375000           0.559322          0.500000\n",
       "44            0.222222          0.750000           0.152542          0.125000\n",
       "4             0.194444          0.666667           0.067797          0.041667\n",
       "144           0.666667          0.541667           0.796610          1.000000\n",
       "67            0.416667          0.291667           0.525424          0.375000\n",
       "119           0.472222          0.083333           0.677966          0.583333\n",
       "82            0.416667          0.291667           0.491525          0.458333\n",
       "37            0.166667          0.666667           0.067797          0.000000\n",
       "49            0.194444          0.541667           0.067797          0.041667\n",
       "81            0.333333          0.166667           0.457627          0.375000\n",
       "70            0.444444          0.500000           0.644068          0.708333\n",
       "125           0.805556          0.500000           0.847458          0.708333\n",
       "141           0.722222          0.458333           0.694915          0.916667\n",
       "57            0.166667          0.166667           0.389831          0.375000\n",
       "15            0.388889          1.000000           0.084746          0.125000\n",
       "85            0.472222          0.583333           0.593220          0.625000\n",
       "97            0.527778          0.375000           0.559322          0.500000\n",
       "60            0.194444          0.000000           0.423729          0.375000\n",
       "137           0.583333          0.458333           0.762712          0.708333\n",
       "23            0.222222          0.541667           0.118644          0.166667\n",
       "62            0.472222          0.083333           0.508475          0.375000\n",
       "143           0.694444          0.500000           0.830508          0.916667\n",
       "64            0.361111          0.375000           0.440678          0.500000\n",
       "39            0.222222          0.583333           0.084746          0.041667\n",
       "108           0.666667          0.208333           0.813559          0.708333\n",
       "111           0.583333          0.291667           0.728814          0.750000\n",
       "66            0.361111          0.416667           0.593220          0.583333\n",
       "101           0.416667          0.291667           0.694915          0.750000\n",
       "102           0.777778          0.416667           0.830508          0.833333\n",
       "126           0.527778          0.333333           0.644068          0.708333\n",
       "148           0.527778          0.583333           0.745763          0.916667\n",
       "115           0.583333          0.500000           0.728814          0.916667\n",
       "91            0.500000          0.416667           0.610169          0.541667\n",
       "121           0.361111          0.333333           0.661017          0.791667"
      ]
     },
     "execution_count": 23,
     "metadata": {},
     "output_type": "execute_result"
    }
   ],
   "source": [
    "X_test['']"
   ]
  },
  {
   "cell_type": "code",
   "execution_count": null,
   "metadata": {},
   "outputs": [],
   "source": [
    "model['model2'].predict_log_proba(X_test)"
   ]
  },
  {
   "cell_type": "code",
   "execution_count": null,
   "metadata": {},
   "outputs": [],
   "source": []
  },
  {
   "cell_type": "code",
   "execution_count": null,
   "metadata": {},
   "outputs": [],
   "source": []
  },
  {
   "cell_type": "code",
   "execution_count": null,
   "metadata": {},
   "outputs": [],
   "source": []
  },
  {
   "cell_type": "code",
   "execution_count": null,
   "metadata": {},
   "outputs": [],
   "source": []
  },
  {
   "cell_type": "markdown",
   "metadata": {},
   "source": [
    "### 6. 模型部署\n",
    "### 见Paas模型平台-模型介绍.pdf"
   ]
  },
  {
   "cell_type": "code",
   "execution_count": 31,
   "metadata": {},
   "outputs": [],
   "source": [
    "##新方法\n",
    "#1.生成模板\n",
    "# import td.model.modelwise as mdwise\n",
    "from td.model import modelwise\n",
    "#2.提供模板种类\n",
    "# from td.model.modelwise import TemplateType\n",
    "# modelwise.model_build_template(TemplateType.lightGBM)"
   ]
  },
  {
   "cell_type": "code",
   "execution_count": 33,
   "metadata": {},
   "outputs": [],
   "source": [
    "from td.model.modelwise import TemplateType"
   ]
  },
  {
   "cell_type": "code",
   "execution_count": 36,
   "metadata": {},
   "outputs": [
    {
     "name": "stdout",
     "output_type": "stream",
     "text": [
      "获取模板模型.TemplateType可选项有:custom,lightGBM,sklearn,xgboost,scoreCard, 示例:TemplateType.custom\n",
      "已创建模型部署包模版，部署包内容请查看文件夹:model_template_sklearn\n"
     ]
    }
   ],
   "source": [
    "modelwise.model_build_template(TemplateType.sklearn)"
   ]
  },
  {
   "cell_type": "code",
   "execution_count": 38,
   "metadata": {},
   "outputs": [
    {
     "name": "stdout",
     "output_type": "stream",
     "text": [
      "# 参考的数据:\n",
      " type: <class 'pandas.core.frame.DataFrame'> dataFrame:\n",
      "      sepal length (cm)  sepal width (cm)  petal length (cm)  petal width (cm)\n",
      "106           0.166667          0.208333            0.59322          0.666667\n",
      "\n",
      "# 生成的特征描述(用于config.json#parameters):\n",
      " [{\"name\": \"sepal length (cm)\", \"datatype\": \"float\", \"defaultValue\": -999, \"description\": \"特征变量\"}, {\"name\": \"sepal width (cm)\", \"datatype\": \"float\", \"defaultValue\": -999, \"description\": \"特征变量\"}, {\"name\": \"petal length (cm)\", \"datatype\": \"float\", \"defaultValue\": -999, \"description\": \"特征变量\"}, {\"name\": \"petal width (cm)\", \"datatype\": \"float\", \"defaultValue\": -999, \"description\": \"特征变量\"}]\n"
     ]
    }
   ],
   "source": [
    "#3.数据填充【用作config修改】\n",
    "inputparam = modelwise.model_build_param_info(pd.DataFrame(X_train.head(1)))"
   ]
  },
  {
   "cell_type": "markdown",
   "metadata": {},
   "source": [
    "#### 需要修改的地方"
   ]
  },
  {
   "cell_type": "code",
   "execution_count": 42,
   "metadata": {},
   "outputs": [
    {
     "data": {
      "text/plain": [
       "{'json规则详见': 'README.md',\n",
       " 'modelName': 'model_template_sklearn',\n",
       " 'modelLib': 'sklearn',\n",
       " 'files': ['train_model_lr.pkl'],\n",
       " 'outputType': 'classifier_more',\n",
       " 'parameters': {'inputs': [{'name': 'sepal length (cm)',\n",
       "    'datatype': 'float',\n",
       "    'defaultValue': -999,\n",
       "    'description': '特征变量'},\n",
       "   {'name': 'sepal width (cm)',\n",
       "    'datatype': 'float',\n",
       "    'defaultValue': -999,\n",
       "    'description': '特征变量'},\n",
       "   {'name': 'petal length (cm)',\n",
       "    'datatype': 'float',\n",
       "    'defaultValue': -999,\n",
       "    'description': '特征变量'},\n",
       "   {'name': 'petal width (cm)',\n",
       "    'datatype': 'float',\n",
       "    'defaultValue': -999,\n",
       "    'description': '特征变量'}],\n",
       "  'outputs': [{'datatype': 'list',\n",
       "    'description': '输出二分类的概率',\n",
       "    'name': 'probability'},\n",
       "   {'datatype': 'int', 'description': '输出判别的类别结果', 'name': 'target'}]}}"
      ]
     },
     "execution_count": 42,
     "metadata": {},
     "output_type": "execute_result"
    }
   ],
   "source": [
    "{\n",
    "  \"json规则详见\": \"README.md\",\n",
    "  \"modelName\": \"model_template_sklearn\",\n",
    "  \"modelLib\": \"sklearn\",\n",
    "  \"files\": [\"train_model_lr.pkl\"], ##修改地方1：rf.pkl -〉train_model_lr.pkl\n",
    "  \"outputType\": \"classifier_more\", ##修改地方2：classifier_2 -〉classifier_more\n",
    "  \"parameters\": {\n",
    "    ##修改地方3：将生成的特征描述(用于config.json#parameters)信息粘贴至此处\n",
    "    \"inputs\": [{\"name\": \"sepal length (cm)\", \"datatype\": \"float\", \"defaultValue\": -999, \"description\": \"特征变量\"}, {\"name\": \"sepal width (cm)\", \"datatype\": \"float\", \"defaultValue\": -999, \"description\": \"特征变量\"}, {\"name\": \"petal length (cm)\", \"datatype\": \"float\", \"defaultValue\": -999, \"description\": \"特征变量\"}, {\"name\": \"petal width (cm)\", \"datatype\": \"float\", \"defaultValue\": -999, \"description\": \"特征变量\"}],\n",
    "    \"outputs\": [\n",
    "      {\"datatype\":\"list\",\"description\":\"输出二分类的概率\",\"name\":\"probability\"},\n",
    "      {\"datatype\":\"int\",\"description\":\"输出判别的类别结果\",\"name\":\"target\"}\n",
    "    ]\n",
    "  }\n",
    "}"
   ]
  },
  {
   "cell_type": "code",
   "execution_count": 39,
   "metadata": {},
   "outputs": [
    {
     "name": "stdout",
     "output_type": "stream",
     "text": [
      "model_path: ./model_template_sklearn test_data: [{'sepal length (cm)': 0.1666666667, 'sepal width (cm)': 0.2083333333, 'petal length (cm)': 0.593220339, 'petal width (cm)': 0.6666666667}, {'sepal length (cm)': 0.4166666667, 'sepal width (cm)': 0.2916666667, 'petal length (cm)': 0.6949152542, 'petal width (cm)': 0.75}, {'sepal length (cm)': 0.6944444444, 'sepal width (cm)': 0.4166666667, 'petal length (cm)': 0.7627118644, 'petal width (cm)': 0.8333333333}] tag:  desc: \n",
      "model_path_files: ['README.md', 'config.json', 'model_server.py', 'train_model_lr.pkl']\n",
      "model_name: model_template_sklearn\n",
      "1.test prepare ...\n",
      "\n",
      "filepath：/notebooks/ml_code/pyhtonworkspace/python3建模/model_template_sklearn\n",
      "used_model_file：train_model_lr.pkl\n",
      "outputType:classifier_more\n",
      "size of outputs: 2\n",
      "param_name: ['sepal length (cm)', 'sepal width (cm)', 'petal length (cm)', 'petal width (cm)']\n",
      "           Response: [{\"probability\": [0.09582880860302992, 0.571546630350727, 0.332624561046243], \"target\": 1}, {\"probability\": [0.03881007116168663, 0.4466508488014235, 0.51453908003689], \"target\": 2}, {\"probability\": [0.015655833978808046, 0.295360897703623, 0.688983268317569], \"target\": 2}] cost: 0.009999999999999787 ms\n",
      "1.test prepare is ok.\n",
      "\n",
      "Adding files in ./model_template_sklearn...\n",
      "Adding README.md\n",
      "Adding config.json\n",
      "Adding model_server.py\n",
      "Adding train_model_lr.pkl\n",
      "Adding files in ./model_template_sklearn/.ipynb_checkpoints...\n",
      "Adding config-checkpoint.json\n",
      "Adding model_server-checkpoint.py\n",
      "Done.\n",
      "2.make zip file is ok.\n",
      "\n",
      "_upload_file_to_hdfs path: /tmp/model_template_sklearn.zip\n",
      "文件内含.pkl或者.zip,变更编码\n",
      "to_hdfs file_url: http://enki-turing-service.apps-ambari.svc:8088/operator/model/deployJupyterModel \n",
      "data: {'userName': 'yongming.pang', 'length': 22639, 'fileName': 'model_template_sklearn.zip'}\n",
      "{'model': ('model_template_sklearn.zip', <_io.BufferedReader name='/tmp/model_template_sklearn.zip'>)}\n",
      "to_hdfs response: <Response [200]>\n",
      "to_hdfs response.json(): {'status': 0, 'success': True, 'code': '200', 'message': '保存成功.', 'data': '/user/turing/model/yongming.pang/model_template_sklearn.zip'}\n",
      "3.上传包完成\n",
      "\n",
      "build_version: 1 python_version_major: python3\n",
      "4.add model.\n",
      "请在 机器学习平台-建模-模型包管理 中查看\n",
      "success\n"
     ]
    }
   ],
   "source": [
    "modelwise.model_build('./model_template_sklearn',eval(X_train.head(3).to_json(orient=\"records\",force_ascii=False)))"
   ]
  },
  {
   "cell_type": "markdown",
   "metadata": {},
   "source": [
    "### 7.部署模型"
   ]
  },
  {
   "cell_type": "code",
   "execution_count": 124,
   "metadata": {},
   "outputs": [],
   "source": [
    "# 模型运行平台->上传pkl模型"
   ]
  },
  {
   "cell_type": "markdown",
   "metadata": {},
   "source": [
    "![Image](上传模型.jpg)"
   ]
  },
  {
   "cell_type": "code",
   "execution_count": 126,
   "metadata": {},
   "outputs": [],
   "source": [
    "# 传入数据对模型测试"
   ]
  },
  {
   "cell_type": "markdown",
   "metadata": {},
   "source": [
    "![Image](模型预测.jpg)"
   ]
  },
  {
   "cell_type": "markdown",
   "metadata": {},
   "source": [
    "### 8.数据预处理"
   ]
  },
  {
   "cell_type": "markdown",
   "metadata": {},
   "source": [
    "##### 数据预处理是将处理脚本作为模型测试的前置条件，即模型测试运行过程：数据预处理+模型，对于该模块的使用建议：\n",
    "1. 该过程常见实际使用情况是：天策+模型，天策中已经完成数据预处理\n",
    "##### 如下为测试脚本使用过程注意\n",
    "1. 其中已经在文本中标注的部分函数需要固定不允许修改，\n",
    "   def handler(inputs): ;def data_handler(inputs=None,*args, **kwargs):\n",
    "2. 输出必须为字典形式\n",
    "##### 注：函数是模仿建模过程中对数据做归一化 "
   ]
  },
  {
   "cell_type": "code",
   "execution_count": 183,
   "metadata": {},
   "outputs": [
    {
     "name": "stdout",
     "output_type": "stream",
     "text": [
      "{'data': {'sepal length (cm)': 0.22222222222222213, 'sepal width (cm)': 0.6249999999999999, 'petal length (cm)': 0.06779661016949151, 'petal width (cm)': 0.04166666666666667}, 'spendTimes': 6}\n"
     ]
    }
   ],
   "source": [
    "# coding=utf-8\n",
    "import json\n",
    "import sys\n",
    "import time\n",
    "import numpy as np\n",
    "import pandas as pd\n",
    "\n",
    "# 自定义执行方法体\n",
    "def handler(inputs):\n",
    "\n",
    "\t# 进行数据处理\n",
    "    max_data = [7.9, 4.4, 6.9, 2.5]\n",
    "    min_data = [4.3, 2. , 1. , 0.1]\n",
    "    # 以下list保证模型入参顺序\n",
    "    col_name = [\"sepal length (cm)\",\"sepal width (cm)\",\"petal length (cm)\",\"petal width (cm)\"]\n",
    "    input_df = pd.DataFrame(inputs, index=[0])\n",
    "    input_df = input_df[col_name]\n",
    "    data = np.array(input_df)\n",
    "    # 归一化处理\n",
    "    data = (data-np.array(min_data))/(np.array(max_data)-np.array(min_data))\n",
    "\t# 数据处理结束,输出必须为字典形式\n",
    "    return pd.DataFrame(data, columns=col_name).to_dict(orient=\"records\")[0]\n",
    "\n",
    "# 入口方法不可修改\n",
    "# inputs包含所有预测时调用的参数\n",
    "def data_handler(inputs=None,*args, **kwargs):\n",
    "    start = (int(round(time.time() * 1000)))\n",
    "    length = len(sys.argv)\n",
    "    if length == 1 and inputs is None:\n",
    "        print('参数缺失')\n",
    "        return\n",
    "\t# 获取入参\n",
    "    if inputs is None:\n",
    "        inputs = json.loads(sys.argv[1])\n",
    "    else:\n",
    "        inputs = json.loads(inputs)\n",
    "    response = {}\n",
    "\t# 处理数据\n",
    "    data = handler(inputs)\n",
    "\t# 将处理后的值塞进放回对象\n",
    "    response[\"data\"] = data\n",
    "    end = (int(round(time.time() * 1000)))\n",
    "    response[\"spendTimes\"] = end - start\n",
    "    return response\n",
    "# 不可修改\n",
    "if __name__ == '__main__':\n",
    "    print(data_handler('{\"sepal length (cm)\":5.1,\"sepal width (cm)\":3.5,\"petal length (cm)\":1.4,\"petal width (cm)\":0.2}'))\n"
   ]
  },
  {
   "cell_type": "markdown",
   "metadata": {},
   "source": [
    "#### 使用上传方式如下："
   ]
  },
  {
   "cell_type": "code",
   "execution_count": null,
   "metadata": {},
   "outputs": [],
   "source": [
    "#### 1. 脚本内容\n",
    "# coding=utf-8\n",
    "import json\n",
    "import sys\n",
    "import time\n",
    "import numpy as np\n",
    "import pandas as pd\n",
    "\n",
    "# 自定义执行方法体\n",
    "def handler(inputs):\n",
    "\n",
    "\t# 进行数据处理\n",
    "    max_data = [7.9, 4.4, 6.9, 2.5]\n",
    "    min_data = [4.3, 2. , 1. , 0.1]\n",
    "    # 以下list保证模型入参顺序\n",
    "    col_name = [\"sepal length (cm)\",\"sepal width (cm)\",\"petal length (cm)\",\"petal width (cm)\"]\n",
    "    input_df = pd.DataFrame(inputs, index=[0])\n",
    "    input_df = input_df[col_name]\n",
    "    data = np.array(input_df)\n",
    "    # 归一化处理\n",
    "    data = (data-np.array(min_data))/(np.array(max_data)-np.array(min_data))\n",
    "\t# 数据处理结束,输出必须为字典形式\n",
    "    return pd.DataFrame(data, columns=col_name).to_dict(orient=\"records\")[0]\n",
    "\n",
    "# 入口方法不可修改\n",
    "# inputs包含所有预测时调用的参数\n",
    "def data_handler(inputs=None,*args, **kwargs):\n",
    "    start = (int(round(time.time() * 1000)))\n",
    "    length = len(sys.argv)\n",
    "    if length == 1 and inputs is None:\n",
    "        print('参数缺失')\n",
    "        return\n",
    "\t# 获取入参\n",
    "    if inputs is None:\n",
    "        inputs = json.loads(sys.argv[1])\n",
    "    else:\n",
    "        inputs = json.loads(inputs)\n",
    "    response = {}\n",
    "\t# 处理数据\n",
    "    data = handler(inputs)\n",
    "\t# 将处理后的值塞进放回对象\n",
    "    response[\"data\"] = data\n",
    "    end = (int(round(time.time() * 1000)))\n",
    "    response[\"spendTimes\"] = end - start\n",
    "    return response\n",
    "# 不可修改\n",
    "if __name__ == '__main__':\n",
    "    print(data_handler())\n",
    "\n",
    "#### 2.脚本测试参数\n",
    "{\"sepal length (cm)\":5.1,\"sepal width (cm)\":3.5,\"petal length (cm)\":1.4,\"petal width (cm)\":0.2}"
   ]
  },
  {
   "cell_type": "markdown",
   "metadata": {},
   "source": [
    "![Image](数据预处理.jpg)"
   ]
  },
  {
   "cell_type": "markdown",
   "metadata": {},
   "source": [
    "### 9.上线之后进行模型预测"
   ]
  },
  {
   "cell_type": "markdown",
   "metadata": {},
   "source": [
    "![Image](模型预处理_模型预测.jpg)"
   ]
  },
  {
   "cell_type": "code",
   "execution_count": null,
   "metadata": {},
   "outputs": [],
   "source": []
  }
 ],
 "metadata": {
  "kernelspec": {
   "display_name": "Python 3",
   "language": "python",
   "name": "python3"
  },
  "language_info": {
   "codemirror_mode": {
    "name": "ipython",
    "version": 3
   },
   "file_extension": ".py",
   "mimetype": "text/x-python",
   "name": "python",
   "nbconvert_exporter": "python",
   "pygments_lexer": "ipython3",
   "version": "3.8.8"
  },
  "varInspector": {
   "cols": {
    "lenName": 16,
    "lenType": 16,
    "lenVar": 40
   },
   "kernels_config": {
    "python": {
     "delete_cmd_postfix": "",
     "delete_cmd_prefix": "del ",
     "library": "var_list.py",
     "varRefreshCmd": "print(var_dic_list())"
    },
    "r": {
     "delete_cmd_postfix": ") ",
     "delete_cmd_prefix": "rm(",
     "library": "var_list.r",
     "varRefreshCmd": "cat(var_dic_list()) "
    }
   },
   "types_to_exclude": [
    "module",
    "function",
    "builtin_function_or_method",
    "instance",
    "_Feature"
   ],
   "window_display": false
  }
 },
 "nbformat": 4,
 "nbformat_minor": 4
}
