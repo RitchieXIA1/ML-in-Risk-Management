{
 "cells": [
  {
   "cell_type": "code",
   "execution_count": null,
   "id": "4eb13f86",
   "metadata": {},
   "outputs": [],
   "source": [
    "#导入相关包\n",
    "import pandas as pd\n",
    "from sklearn.datasets import load_iris\n",
    "from sklearn import tree\n",
    "from sklearn2pmml import PMMLPipeline\n",
    "\n",
    "#读入数据\n",
    "iris = load_iris()\n",
    "X_train=pd.DataFrame(iris.data,columns=['sepal_length','sepal_width','petal_length', 'petal_width'])\n",
    "y_train=pd.DataFrame(iris.target,columns=['series'])\n",
    "\n",
    "#训练模型pipeline\n",
    "clf = tree.DecisionTreeClassifier(max_depth=2) #定义分类器\n",
    "pipeline = PMMLPipeline([(\"classifier\", clf)]) #定义pipeline\n",
    "pipeline.fit(X_train, y_train) #此处使用带columns变量名称的dataframe进行模型训练\n",
    "\n",
    "#模型导出为PMML\n",
    "from sklearn2pmml import sklearn2pmml\n",
    "sklearn2pmml(pipeline, \"DecisionTree_Iris_sklearn2pmml.pmml\", with_repr = True) #生成PMML时带变量名"
   ]
  },
  {
   "cell_type": "code",
   "execution_count": null,
   "id": "6a040c71",
   "metadata": {},
   "outputs": [],
   "source": [
    "# 下面代码使用Flask包实现在服务器部署模型\n",
    "# （1）首先将下面代码保存在服务器端，命名为main.py，然后在服务器端执行命令行：python main.py\n",
    "#导入相关包和模块\n",
    "import numpy as np\n",
    "import pandas as pd\n",
    "from pypmml import Model\n",
    "from flask import Flask\n",
    "from flask import request\n",
    "from flask import jsonify\n",
    "\n",
    "\n",
    "#导入模型\n",
    "model = Model.fromFile(\"DecisionTree_Iris_sklearn2pmml.pmml\")\n",
    " \n",
    "app = Flask(__name__)\n",
    " \n",
    "@app.route('/',methods=['POST','GET'])\n",
    "def scoring():\n",
    "    text=request.args.get('inputdata')\n",
    "    if text:\n",
    "        temp =  [float(x) for x in text.split(',')]\n",
    "        temp = pd.DataFrame(data=np.array(temp).reshape((1, -1)),columns=[\"sepal_length\", \"sepal_width\", \"petal_length\", \"petal_width\"])\n",
    "        ouputdata = model.predict(temp)\t#outputdata是DataFrame格式\n",
    "        return jsonify(dict(ouputdata.iloc[0])) #进行json化\n",
    "        \n",
    "if __name__ == '__main__':\n",
    "    app.config['JSON_AS_ASCII'] = False\n",
    "    app.run(host='127.0.0.1',port=5003)  # 127.0.0.1 #指的是本地ip"
   ]
  },
  {
   "cell_type": "code",
   "execution_count": 1,
   "id": "9206f68b",
   "metadata": {
    "ExecuteTime": {
     "end_time": "2022-07-20T03:41:16.044004Z",
     "start_time": "2022-07-20T03:41:15.937817Z"
    }
   },
   "outputs": [
    {
     "name": "stdout",
     "output_type": "stream",
     "text": [
      "{\"probability(0)\":1.0,\"probability(1)\":0.0,\"probability(2)\":0.0}\n",
      "\n",
      "预测结果 {'probability(0)': 1.0, 'probability(1)': 0.0, 'probability(2)': 0.0}\n"
     ]
    }
   ],
   "source": [
    "# （2）客户端执行如下代码，在服务器模式下执行时将127.0.0.1替换为服务器IP地址\n",
    "import requests\n",
    "\n",
    "base = 'http://127.0.0.1:5003/?inputdata=5.1,3.5,1.4,2'\n",
    "response = requests.get(base)\n",
    "print(response.text)\n",
    "answer = response.json()\n",
    "print('预测结果',answer)"
   ]
  }
 ],
 "metadata": {
  "kernelspec": {
   "display_name": "Python 3",
   "language": "python",
   "name": "python3"
  },
  "language_info": {
   "codemirror_mode": {
    "name": "ipython",
    "version": 3
   },
   "file_extension": ".py",
   "mimetype": "text/x-python",
   "name": "python",
   "nbconvert_exporter": "python",
   "pygments_lexer": "ipython3",
   "version": "3.8.8"
  },
  "varInspector": {
   "cols": {
    "lenName": 16,
    "lenType": 16,
    "lenVar": 40
   },
   "kernels_config": {
    "python": {
     "delete_cmd_postfix": "",
     "delete_cmd_prefix": "del ",
     "library": "var_list.py",
     "varRefreshCmd": "print(var_dic_list())"
    },
    "r": {
     "delete_cmd_postfix": ") ",
     "delete_cmd_prefix": "rm(",
     "library": "var_list.r",
     "varRefreshCmd": "cat(var_dic_list()) "
    }
   },
   "types_to_exclude": [
    "module",
    "function",
    "builtin_function_or_method",
    "instance",
    "_Feature"
   ],
   "window_display": false
  }
 },
 "nbformat": 4,
 "nbformat_minor": 5
}
