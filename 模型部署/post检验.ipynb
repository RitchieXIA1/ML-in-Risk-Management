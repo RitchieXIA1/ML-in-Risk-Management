{
 "cells": [
  {
   "cell_type": "code",
   "execution_count": 2,
   "id": "fb73341d",
   "metadata": {
    "ExecuteTime": {
     "end_time": "2022-03-08T09:23:27.618911Z",
     "start_time": "2022-03-08T09:23:27.606909Z"
    }
   },
   "outputs": [],
   "source": [
    "import requests\n",
    "import json\n",
    "\n",
    "base_url = 'http://127.0.0.1:5000//predict'\n",
    "data_json = {\"CRIM\":0.22927,\"ZN\":0.0,\"INDUS\":6.91,\"CHAS\":0.0,\"NOX\":0.448,\"RM\":6.03,\"AGE\":85.5,\"DIS\":5.6894,\"RAD\":3.0,\n",
    "             \"TAX\":233.0,\"PTRATIO\":17.9,\"B\":392.74,\"LSTAT\":17.8}\n"
   ]
  },
  {
   "cell_type": "code",
   "execution_count": 4,
   "id": "254c89c1",
   "metadata": {
    "ExecuteTime": {
     "end_time": "2022-03-08T09:23:48.762733Z",
     "start_time": "2022-03-08T09:23:48.752732Z"
    }
   },
   "outputs": [
    {
     "data": {
      "text/plain": [
       "dict_keys(['CRIM', 'ZN', 'INDUS', 'CHAS', 'NOX', 'RM', 'AGE', 'DIS', 'RAD', 'TAX', 'PTRATIO', 'B', 'LSTAT'])"
      ]
     },
     "execution_count": 4,
     "metadata": {},
     "output_type": "execute_result"
    }
   ],
   "source": [
    "data_json.keys()"
   ]
  },
  {
   "cell_type": "code",
   "execution_count": null,
   "id": "e62304b3",
   "metadata": {
    "ExecuteTime": {
     "end_time": "2022-03-07T10:24:23.915477Z",
     "start_time": "2022-03-07T10:24:20.253Z"
    }
   },
   "outputs": [],
   "source": [
    "response = requests.post(base_url,json=data_json)\n",
    "predict_data = response.json()\n",
    "print('predict_result',predict_data)"
   ]
  },
  {
   "cell_type": "code",
   "execution_count": null,
   "id": "306fd23c",
   "metadata": {},
   "outputs": [],
   "source": []
  }
 ],
 "metadata": {
  "kernelspec": {
   "display_name": "Python 3",
   "language": "python",
   "name": "python3"
  },
  "language_info": {
   "codemirror_mode": {
    "name": "ipython",
    "version": 3
   },
   "file_extension": ".py",
   "mimetype": "text/x-python",
   "name": "python",
   "nbconvert_exporter": "python",
   "pygments_lexer": "ipython3",
   "version": "3.8.8"
  },
  "varInspector": {
   "cols": {
    "lenName": 16,
    "lenType": 16,
    "lenVar": 40
   },
   "kernels_config": {
    "python": {
     "delete_cmd_postfix": "",
     "delete_cmd_prefix": "del ",
     "library": "var_list.py",
     "varRefreshCmd": "print(var_dic_list())"
    },
    "r": {
     "delete_cmd_postfix": ") ",
     "delete_cmd_prefix": "rm(",
     "library": "var_list.r",
     "varRefreshCmd": "cat(var_dic_list()) "
    }
   },
   "types_to_exclude": [
    "module",
    "function",
    "builtin_function_or_method",
    "instance",
    "_Feature"
   ],
   "window_display": false
  }
 },
 "nbformat": 4,
 "nbformat_minor": 5
}
