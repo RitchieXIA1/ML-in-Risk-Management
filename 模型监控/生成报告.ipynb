{
 "cells": [
  {
   "cell_type": "markdown",
   "id": "8fe6b9fa",
   "metadata": {
    "ExecuteTime": {
     "end_time": "2022-02-07T07:05:16.817589Z",
     "start_time": "2022-02-07T07:05:16.807173Z"
    }
   },
   "source": [
    "生成KS报告\n",
    "KS：KS值\n",
    "\n",
    "BAD：坏人人数\n",
    "\n",
    "GOOD：好人人数\n",
    "\n",
    "BAD_CNT：坏人累计人数\n",
    "\n",
    "GOOD_CNT：好人累计人数\n",
    "\n",
    "BAD_PCTG：坏人捕捉率\n",
    "\n",
    "BADRATE：坏人占比"
   ]
  },
  {
   "cell_type": "code",
   "execution_count": null,
   "id": "4678eca5",
   "metadata": {},
   "outputs": [],
   "source": [
    "#生成报告\n",
    "model = lr_model\n",
    "row_num, col_num = 0, 0\n",
    "bins = 20\n",
    "Y_predict = [s[1] for s in model.predict_proba(val_x)]\n",
    "Y = val_y\n",
    "nrows = Y.shape[0]\n",
    "lis = [(Y_predict[i], Y[i]) for i in range(nrows)]\n",
    "ks_lis = sorted(lis, key=lambda x: x[0], reverse=True)\n",
    "bin_num = int(nrows/bins+1)\n",
    "bad = sum([1 for (p, y) in ks_lis if y > 0.5])\n",
    "good = sum([1 for (p, y) in ks_lis if y <= 0.5])\n",
    "bad_cnt, good_cnt = 0, 0\n",
    "KS = []\n",
    "BAD = []\n",
    "GOOD = []\n",
    "BAD_CNT = []\n",
    "GOOD_CNT = []\n",
    "BAD_PCTG = []\n",
    "BADRATE = []\n",
    "dct_report = {}\n",
    "for j in range(bins):\n",
    "    ds = ks_lis[j*bin_num: min((j+1)*bin_num, nrows)]\n",
    "    bad1 = sum([1 for (p, y) in ds if y > 0.5])\n",
    "    good1 = sum([1 for (p, y) in ds if y <= 0.5])\n",
    "    bad_cnt += bad1\n",
    "    good_cnt += good1\n",
    "    bad_pctg = round(bad_cnt/sum(val_y),3)\n",
    "    badrate = round(bad1/(bad1+good1),3)\n",
    "    ks = round(math.fabs((bad_cnt / bad) - (good_cnt / good)),3)\n",
    "    KS.append(ks)\n",
    "    BAD.append(bad1)\n",
    "    GOOD.append(good1)\n",
    "    BAD_CNT.append(bad_cnt)\n",
    "    GOOD_CNT.append(good_cnt)\n",
    "    BAD_PCTG.append(bad_pctg)\n",
    "    BADRATE.append(badrate)\n",
    "    dct_report['KS'] = KS\n",
    "    dct_report['BAD'] = BAD\n",
    "    dct_report['GOOD'] = GOOD\n",
    "    dct_report['BAD_CNT'] = BAD_CNT\n",
    "    dct_report['GOOD_CNT'] = GOOD_CNT\n",
    "    dct_report['BAD_PCTG'] = BAD_PCTG\n",
    "    dct_report['BADRATE'] = BADRATE\n",
    "val_repot = pd.DataFrame(dct_report)\n",
    "val_repot"
   ]
  },
  {
   "cell_type": "code",
   "execution_count": null,
   "id": "f1cb142f",
   "metadata": {},
   "outputs": [],
   "source": [
    "#绘制ROC曲线\n",
    "from matplotlib import pyplot as plt\n",
    "plt.plot(fpr_lr_train,tpr_lr_train,label = 'train LR')\n",
    "plt.plot(fpr_lr,tpr_lr,label = 'evl LR')\n",
    "plt.plot([0,1],[0,1],'k--')\n",
    "plt.xlabel('False positive rate')\n",
    "plt.ylabel('True positive rate')\n",
    "plt.title('ROC Curve')\n",
    "plt.legend(loc = 'best')\n",
    "plt.show()"
   ]
  },
  {
   "cell_type": "code",
   "execution_count": null,
   "id": "083a1e26",
   "metadata": {},
   "outputs": [],
   "source": []
  }
 ],
 "metadata": {
  "kernelspec": {
   "display_name": "Python 3 (ipykernel)",
   "language": "python",
   "name": "python3"
  },
  "language_info": {
   "codemirror_mode": {
    "name": "ipython",
    "version": 3
   },
   "file_extension": ".py",
   "mimetype": "text/x-python",
   "name": "python",
   "nbconvert_exporter": "python",
   "pygments_lexer": "ipython3",
   "version": "3.8.5"
  },
  "toc": {
   "base_numbering": 1,
   "nav_menu": {},
   "number_sections": true,
   "sideBar": true,
   "skip_h1_title": false,
   "title_cell": "Table of Contents",
   "title_sidebar": "Contents",
   "toc_cell": false,
   "toc_position": {},
   "toc_section_display": true,
   "toc_window_display": false
  },
  "varInspector": {
   "cols": {
    "lenName": 16,
    "lenType": 16,
    "lenVar": 40
   },
   "kernels_config": {
    "python": {
     "delete_cmd_postfix": "",
     "delete_cmd_prefix": "del ",
     "library": "var_list.py",
     "varRefreshCmd": "print(var_dic_list())"
    },
    "r": {
     "delete_cmd_postfix": ") ",
     "delete_cmd_prefix": "rm(",
     "library": "var_list.r",
     "varRefreshCmd": "cat(var_dic_list()) "
    }
   },
   "types_to_exclude": [
    "module",
    "function",
    "builtin_function_or_method",
    "instance",
    "_Feature"
   ],
   "window_display": false
  }
 },
 "nbformat": 4,
 "nbformat_minor": 5
}
