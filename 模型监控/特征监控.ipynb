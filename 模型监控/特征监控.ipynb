{
 "cells": [
  {
   "cell_type": "code",
   "execution_count": 1,
   "id": "2b3f10e9",
   "metadata": {
    "ExecuteTime": {
     "end_time": "2022-07-26T08:55:23.318874Z",
     "start_time": "2022-07-26T08:55:22.905082Z"
    }
   },
   "outputs": [],
   "source": [
    "import sys\n",
    "import time\n",
    "import numpy as np\n",
    "import pandas as pd\n",
    "from scipy.stats import variation\n",
    "sys.path.append(\"./\")\n",
    "sys.path.append(\"../\")\n",
    "\n",
    "def cover_ratio(x):\n",
    "    \"\"\"\n",
    "    计算特征覆盖度\n",
    "    :param x: 特征向量\n",
    "    :return: cover_ratio, 特征覆盖度\n",
    "    \"\"\"\n",
    "    len_x = len(x)\n",
    "    len_nan = sum(pd.isnull(x))\n",
    "    ratio = 1 - len_nan / float(len_x)\n",
    "    return ratio\n",
    "\n",
    "\n",
    "def get_datestamps(begin_date, end_date):\n",
    "    \"\"\"\n",
    "    返回[begin_date,end_date]之间日期的时间戳\n",
    "    :param begin_date: 开始时间\n",
    "    :param end_date: 结束时间\n",
    "    :return: [begin_date,end_date]日期的时间戳\n",
    "    \"\"\"\n",
    "    date_arr = [int(time.mktime(x.timetuple())) for x in list(pd.date_range(start=begin_date, end=end_date))]\n",
    "    return date_arr\n",
    "\n",
    "\n"
   ]
  },
  {
   "cell_type": "code",
   "execution_count": 2,
   "id": "9e2ce1e1",
   "metadata": {
    "ExecuteTime": {
     "end_time": "2022-07-26T08:56:02.592157Z",
     "start_time": "2022-07-26T08:56:02.559034Z"
    }
   },
   "outputs": [
    {
     "name": "stdout",
     "output_type": "stream",
     "text": [
      "特征覆盖度:         cover_ratio\n",
      "fea_1     1.000000\n",
      "fea_2     1.000000\n",
      "fea_3     1.000000\n",
      "fea_4     1.000000\n",
      "fea_5     0.714286\n",
      "特征离散度:  0.0\n",
      "构造的特征为: \n",
      "    fea_1  fea_2  fea_3  fea_4  fea_5      tm_col\n",
      "0   -1.0    1.0    1.0    7.0    1.0  1601481600\n",
      "1   -1.0    1.0    2.0    6.0    2.0  1601568000\n",
      "2   -1.0    1.0    3.0    5.0    1.0  1601654400\n",
      "3    0.0    1.0    4.0    4.0    2.0  1601740800\n",
      "4    1.0    1.0    5.0    3.0    NaN  1601827200\n",
      "5    1.0    1.0    6.0    2.0    2.0  1601913600\n",
      "6    1.0    1.0    7.0    1.0    NaN  1602000000\n",
      "特征与时间的Peason系数计算结果: \n",
      "           tm_col\n",
      "fea_3   1.000000\n",
      "fea_4  -1.000000\n",
      "fea_5   0.569495\n",
      "tm_col  1.000000\n"
     ]
    }
   ],
   "source": [
    "fea_1 = [-1, -1, -1, 0, 1, 1, 1]  # 特征均值为0\n",
    "fea_2 = [1, 1, 1, 1, 1, 1, 1]  # 所有特征均为唯一指\n",
    "fea_3 = [1, 2, 3, 4, 5, 6, 7]  # 与时间正相关\n",
    "fea_4 = [7, 6, 5, 4, 3, 2, 1]  # 与时间负相关\n",
    "fea_5 = [1, 2, 1, 2, np.nan, 2, np.nan]  # 与时间无线性关系\n",
    "x_all = pd.DataFrame([fea_1, fea_2, fea_3, fea_4, fea_5]).T\n",
    "x_all.columns = ['fea_1', 'fea_2', 'fea_3', 'fea_4', 'fea_5']\n",
    "\n",
    "# 特征覆盖度\n",
    "fea_cover = x_all.apply(cover_ratio).to_frame('cover_ratio')\n",
    "print(\"特征覆盖度: \", fea_cover)\n",
    "\n",
    "# 特征离散度\n",
    "fea_variation = variation(fea_2)\n",
    "print(\"特征离散度: \", fea_variation)\n",
    "\n",
    "# 计算时间相关性\n",
    "x_all['tm_col'] = get_datestamps('2020-10-01', '2020-10-07')\n",
    "\n",
    "# 计算三个特征与时间的Peason系数\n",
    "fea_time_corr = x_all.loc[:, ['fea_3', 'fea_4', 'fea_5', 'tm_col']].corr().loc[:, ['tm_col']]\n",
    "\n",
    "print(\"构造的特征为: \\n\", x_all)\n",
    "print(\"特征与时间的Peason系数计算结果: \\n\", fea_time_corr)"
   ]
  },
  {
   "cell_type": "code",
   "execution_count": 4,
   "id": "32dceae8",
   "metadata": {
    "ExecuteTime": {
     "end_time": "2022-07-26T08:57:26.593398Z",
     "start_time": "2022-07-26T08:57:26.583286Z"
    }
   },
   "outputs": [
    {
     "data": {
      "text/plain": [
       "[1601481600,\n",
       " 1601568000,\n",
       " 1601654400,\n",
       " 1601740800,\n",
       " 1601827200,\n",
       " 1601913600,\n",
       " 1602000000]"
      ]
     },
     "execution_count": 4,
     "metadata": {},
     "output_type": "execute_result"
    }
   ],
   "source": [
    "get_datestamps('2020-10-01', '2020-10-07')"
   ]
  }
 ],
 "metadata": {
  "kernelspec": {
   "display_name": "Python 3",
   "language": "python",
   "name": "python3"
  },
  "language_info": {
   "codemirror_mode": {
    "name": "ipython",
    "version": 3
   },
   "file_extension": ".py",
   "mimetype": "text/x-python",
   "name": "python",
   "nbconvert_exporter": "python",
   "pygments_lexer": "ipython3",
   "version": "3.8.8"
  },
  "varInspector": {
   "cols": {
    "lenName": 16,
    "lenType": 16,
    "lenVar": 40
   },
   "kernels_config": {
    "python": {
     "delete_cmd_postfix": "",
     "delete_cmd_prefix": "del ",
     "library": "var_list.py",
     "varRefreshCmd": "print(var_dic_list())"
    },
    "r": {
     "delete_cmd_postfix": ") ",
     "delete_cmd_prefix": "rm(",
     "library": "var_list.r",
     "varRefreshCmd": "cat(var_dic_list()) "
    }
   },
   "types_to_exclude": [
    "module",
    "function",
    "builtin_function_or_method",
    "instance",
    "_Feature"
   ],
   "window_display": false
  }
 },
 "nbformat": 4,
 "nbformat_minor": 5
}
