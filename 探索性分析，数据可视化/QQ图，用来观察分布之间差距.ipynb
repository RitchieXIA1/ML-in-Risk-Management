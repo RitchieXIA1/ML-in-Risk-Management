{
 "cells": [
  {
   "cell_type": "code",
   "execution_count": null,
   "id": "1a4f0c57",
   "metadata": {},
   "outputs": [],
   "source": [
    "from scipy.stats import percentileofscore\n",
    "from sklearn.linear_model import LinearRegression\n",
    "import pandas as pd\n",
    "import matplotlib.pyplot as plt\n",
    "# df_samp, df_clu are two dataframes with input data set\n",
    "ref = np.asarray(df_clu)\n",
    "samp = np.asarray(df_samp)\n",
    "ref_id = df_clu.columns\n",
    "samp_id = df_samp.columns\n",
    "# theoretical quantiles\n",
    "samp_pct_x = np.asarray([percentileofscore(ref, x) for x in samp])\n",
    "# sample quantiles\n",
    "samp_pct_y = np.asarray([percentileofscore(samp, x) for x in samp])\n",
    "# estimated linear regression model\n",
    "p = np.polyfit(samp_pct_x, samp_pct_y, 1)\n",
    "\n",
    "regr = LinearRegression()\n",
    "\n",
    "model_x = samp_pct_x.reshape(len(samp_pct_x), 1)\n",
    "\n",
    "model_y = samp_pct_y.reshape(len(samp_pct_y), 1)\n",
    "\n",
    "regr.fit(model_x, model_y)\n",
    "\n",
    "r2 = regr.score(model_x, model_y)\n",
    "\n",
    "# get fit regression line\n",
    "\n",
    "if p[1] > 0:\n",
    "    p_function = \"y= %s x + %s, r-square = %s\" %(str(p[0]), str(p[1]), str(r2))\n",
    "elif p[1] < 0:\n",
    "    p_function = \"y= %s x - %s, r-square = %s\" %(str(p[0]), str(-p[1]), str(r2))\n",
    "else:\n",
    "    p_function = \"y= %s x, r-square = %s\" %(str(p[0]), str(r2))\n",
    "\n",
    "print \"The fitted linear regression model in Q-Q plot using data from enterprises %s and cluster %s is %s\" %(str(samp_id), str(ref_id), p_function)\n",
    "\n",
    "# plot q-q plot\n",
    "\n",
    "x_ticks = np.arange(0, 100, 20)\n",
    "\n",
    "y_ticks = np.arange(0, 100, 20)\n",
    "\n",
    "plt.scatter(x=samp_pct_x, y=samp_pct_y, color='blue')\n",
    "\n",
    "plt.xlim((0, 100))\n",
    "\n",
    "plt.ylim((0, 100))\n",
    "# add fit regression line\n",
    "plt.plot(samp_pct_x, regr.predict(model_x), color='red', linewidth=2)\n",
    "# add 45-degree reference line\n",
    "plt.plot([0, 100], [0, 100], linewidth=2)\n",
    "plt.text(10, 70, p_function)\n",
    "plt.xticks(x_ticks, x_ticks)\n",
    "plt.yticks(y_ticks, y_ticks)\n",
    "plt.xlabel('cluster quantiles - id: %s' %str(ref_id))\n",
    "plt.ylabel('sample quantiles - id: %s' %str(samp_id))\n",
    "plt.title('%s VS %s Q-Q plot' %(str(ref_id), str(samp_id)))\n",
    "plt.show()\n"
   ]
  }
 ],
 "metadata": {
  "kernelspec": {
   "display_name": "Python 3",
   "language": "python",
   "name": "python3"
  },
  "language_info": {
   "codemirror_mode": {
    "name": "ipython",
    "version": 3
   },
   "file_extension": ".py",
   "mimetype": "text/x-python",
   "name": "python",
   "nbconvert_exporter": "python",
   "pygments_lexer": "ipython3",
   "version": "3.8.8"
  },
  "varInspector": {
   "cols": {
    "lenName": 16,
    "lenType": 16,
    "lenVar": 40
   },
   "kernels_config": {
    "python": {
     "delete_cmd_postfix": "",
     "delete_cmd_prefix": "del ",
     "library": "var_list.py",
     "varRefreshCmd": "print(var_dic_list())"
    },
    "r": {
     "delete_cmd_postfix": ") ",
     "delete_cmd_prefix": "rm(",
     "library": "var_list.r",
     "varRefreshCmd": "cat(var_dic_list()) "
    }
   },
   "types_to_exclude": [
    "module",
    "function",
    "builtin_function_or_method",
    "instance",
    "_Feature"
   ],
   "window_display": false
  }
 },
 "nbformat": 4,
 "nbformat_minor": 5
}
