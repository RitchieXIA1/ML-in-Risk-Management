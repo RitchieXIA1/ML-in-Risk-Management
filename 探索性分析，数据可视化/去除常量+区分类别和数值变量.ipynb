{
 "cells": [
  {
   "cell_type": "code",
   "execution_count": null,
   "id": "bb60e6d1",
   "metadata": {},
   "outputs": [],
   "source": [
    "allFeatures = list(allData.columns)\n",
    "allFeatures.remove('target')\n",
    "if 'Idx' in allFeatures:\n",
    "    allFeatures.remove('Idx')\n",
    "allFeatures.remove('ListingInfo')"
   ]
  },
  {
   "cell_type": "code",
   "execution_count": null,
   "id": "a30465f8",
   "metadata": {},
   "outputs": [],
   "source": [
    "numerical_var = []\n",
    "for col in allFeatures:\n",
    "    if len(set(allData[col])) == 1:\n",
    "        print('delete {} from the dataset because it is a constant'.format(col))\n",
    "        del allData[col]\n",
    "        allFeatures.remove(col)\n",
    "    else:\n",
    "        #uniq_vals = list(set(allData[col]))\n",
    "        #if np.nan in uniq_vals:\n",
    "            #uniq_vals.remove(np.nan)\n",
    "        uniq_valid_vals = [i for i in allData[col] if i == i]\n",
    "        uniq_valid_vals = list(set(uniq_valid_vals))\n",
    "        #如果特征的集合大于10并且包含实数，则划分为数值型变量\n",
    "        if len(uniq_valid_vals) >= 10 and isinstance(uniq_valid_vals[0], numbers.Real):\n",
    "            numerical_var.append(col)\n",
    "\n",
    "categorical_var = [i for i in allFeatures if i not in numerical_var]"
   ]
  }
 ],
 "metadata": {
  "kernelspec": {
   "display_name": "Python 3 (ipykernel)",
   "language": "python",
   "name": "python3"
  },
  "language_info": {
   "codemirror_mode": {
    "name": "ipython",
    "version": 3
   },
   "file_extension": ".py",
   "mimetype": "text/x-python",
   "name": "python",
   "nbconvert_exporter": "python",
   "pygments_lexer": "ipython3",
   "version": "3.8.5"
  },
  "toc": {
   "base_numbering": 1,
   "nav_menu": {},
   "number_sections": true,
   "sideBar": true,
   "skip_h1_title": false,
   "title_cell": "Table of Contents",
   "title_sidebar": "Contents",
   "toc_cell": false,
   "toc_position": {},
   "toc_section_display": true,
   "toc_window_display": false
  },
  "varInspector": {
   "cols": {
    "lenName": 16,
    "lenType": 16,
    "lenVar": 40
   },
   "kernels_config": {
    "python": {
     "delete_cmd_postfix": "",
     "delete_cmd_prefix": "del ",
     "library": "var_list.py",
     "varRefreshCmd": "print(var_dic_list())"
    },
    "r": {
     "delete_cmd_postfix": ") ",
     "delete_cmd_prefix": "rm(",
     "library": "var_list.r",
     "varRefreshCmd": "cat(var_dic_list()) "
    }
   },
   "types_to_exclude": [
    "module",
    "function",
    "builtin_function_or_method",
    "instance",
    "_Feature"
   ],
   "window_display": false
  }
 },
 "nbformat": 4,
 "nbformat_minor": 5
}
