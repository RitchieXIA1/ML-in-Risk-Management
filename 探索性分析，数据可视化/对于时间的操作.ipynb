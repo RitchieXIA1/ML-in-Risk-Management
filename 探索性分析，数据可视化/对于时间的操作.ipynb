{
 "cells": [
  {
   "cell_type": "code",
   "execution_count": 11,
   "id": "20ff3e9b",
   "metadata": {
    "ExecuteTime": {
     "end_time": "2022-01-28T09:08:11.187262Z",
     "start_time": "2022-01-28T09:08:11.182780Z"
    }
   },
   "outputs": [
    {
     "name": "stdout",
     "output_type": "stream",
     "text": [
      "当前时间\n",
      "2022-01-28 17:08:11.184782\n",
      "2022-01-28 17:08:11.184781\n",
      "2022-01-28 09:08:11.184781\n"
     ]
    }
   ],
   "source": [
    "from datetime import datetime\n",
    "from datetime import timedelta\n",
    "import time\n",
    "\n",
    "# 1) 获取当前日期和时间\n",
    "now = datetime.now().strftime(\"%Y-%m-%d %H:%M:%S\")\t#  此时时间年月日时分秒\n",
    "now = time.strftime(\"%Y-%m-%d %H:%M:%S\")\t#  此时时间年月日时\n",
    "today = datetime.today()    # 返回当前时间时分秒都为0\n",
    "print(\"当前时间\")\n",
    "print(today)\n",
    "today1 = datetime.now()  # 返回当前日期和时间\n",
    "datetime.now().hour # 时\n",
    "datetime.now().minute # 分\n",
    "datetime.now().isoweekday()\n",
    "# 返回的1-7代表周一--周日；\n",
    "datetime.now().weekday()# 返回的0-6代表周一--到周日\n",
    "# 而标准格式种%w 1-6表示周一--周六，0代表周日\n",
    "print( today1 )\n",
    "today2 = datetime.utcnow()  # 返回当前东八区时间就是比当时时间少8个小时\n",
    "print(today2)"
   ]
  },
  {
   "cell_type": "code",
   "execution_count": 12,
   "id": "e85854ad",
   "metadata": {
    "ExecuteTime": {
     "end_time": "2022-01-28T09:08:22.865508Z",
     "start_time": "2022-01-28T09:08:22.852382Z"
    }
   },
   "outputs": [
    {
     "name": "stdout",
     "output_type": "stream",
     "text": [
      "2019-05-12 12:13:14\n",
      "2019-05-12 12:13:14\n",
      "2019-5-12 12:13:14\n",
      "2019-05-12 12:13:14\n",
      "2019-05-13 12:13:14\n",
      "2019-05-11 12:13:14\n",
      "20190512121314\n",
      "2019-05-12 12:13:14\n",
      "2019-05-13 12:13:14\n"
     ]
    }
   ],
   "source": [
    "# 2) 获取指定日期和时间,加减计算\n",
    "time= datetime(2019, 5, 12, 12, 13, 14)\n",
    "d= time + timedelta(weeks=0, days=0, hours=0, minutes=0,  seconds=0, milliseconds=0, microseconds=0, )\t\t\n",
    "#依次为 \"周\" \"天\", \"时\",\"分\",\"秒\",\"毫秒\",\"微秒\"\n",
    "print(time)\n",
    "print(d)\n",
    "\n",
    "time1= \"2019-5-12 12:13:14\"\t\t# 字符串 日期\n",
    "d1 = datetime.strptime(str(time1),'%Y-%m-%d %H:%M:%S')\n",
    "plus= d1 + timedelta(days=1)\t\t# 加\n",
    "minus = d1 - timedelta(days=1)\t\t# 减\n",
    "print(time1)\n",
    "print(d1)\n",
    "print(plus)\n",
    "print(minus )\n",
    "\n",
    "time2= 20190512121314\n",
    "d2 = datetime.strptime(str(time2),'%Y%m%d%H%M%S')\n",
    "delta = d2  + timedelta(days=1)\n",
    "print(time2)\n",
    "print(d2 )\n",
    "print(delta)\n"
   ]
  },
  {
   "cell_type": "code",
   "execution_count": 13,
   "id": "ef11f42a",
   "metadata": {
    "ExecuteTime": {
     "end_time": "2022-01-28T09:08:26.271855Z",
     "start_time": "2022-01-28T09:08:26.255750Z"
    }
   },
   "outputs": [
    {
     "name": "stdout",
     "output_type": "stream",
     "text": [
      "指定时间对应时间戳 : 1557634394.0\n",
      "对应本地时间 : 2019-05-12 12:13:14\n",
      "UTC标准时间 : 2019-05-12 04:13:14\n",
      "本周的第几天: 6\n"
     ]
    }
   ],
   "source": [
    "# 3) 日期datetime-timestamp 时间戳相互转\n",
    "now_stamp = time.timestamp()\n",
    "print('指定时间对应时间戳 :', now_stamp)\n",
    "\n",
    "print('对应本地时间 :', datetime.fromtimestamp(now_stamp ))\n",
    "print('UTC标准时间 :', datetime.utcfromtimestamp(now_stamp ))\n",
    "print('本周的第几天:', datetime.fromtimestamp(now_stamp ).weekday())"
   ]
  },
  {
   "cell_type": "code",
   "execution_count": 14,
   "id": "17c5e063",
   "metadata": {
    "ExecuteTime": {
     "end_time": "2022-01-28T09:08:27.653752Z",
     "start_time": "2022-01-28T09:08:27.639748Z"
    }
   },
   "outputs": [
    {
     "name": "stdout",
     "output_type": "stream",
     "text": [
      "当前时间 : 2022-01-28 17:08:27.639748\n",
      "20220128170827\n"
     ]
    }
   ],
   "source": [
    "# 4) datetime 时间 转换为str字符串\n",
    "now = datetime.now()\n",
    "print('当前时间 :', now)\n",
    "print(now.strftime('%Y%m%d%H%M%S'))"
   ]
  },
  {
   "cell_type": "code",
   "execution_count": null,
   "id": "798db58a",
   "metadata": {},
   "outputs": [],
   "source": []
  }
 ],
 "metadata": {
  "kernelspec": {
   "display_name": "Python 3",
   "language": "python",
   "name": "python3"
  },
  "language_info": {
   "codemirror_mode": {
    "name": "ipython",
    "version": 3
   },
   "file_extension": ".py",
   "mimetype": "text/x-python",
   "name": "python",
   "nbconvert_exporter": "python",
   "pygments_lexer": "ipython3",
   "version": "3.8.8"
  },
  "varInspector": {
   "cols": {
    "lenName": 16,
    "lenType": 16,
    "lenVar": 40
   },
   "kernels_config": {
    "python": {
     "delete_cmd_postfix": "",
     "delete_cmd_prefix": "del ",
     "library": "var_list.py",
     "varRefreshCmd": "print(var_dic_list())"
    },
    "r": {
     "delete_cmd_postfix": ") ",
     "delete_cmd_prefix": "rm(",
     "library": "var_list.r",
     "varRefreshCmd": "cat(var_dic_list()) "
    }
   },
   "types_to_exclude": [
    "module",
    "function",
    "builtin_function_or_method",
    "instance",
    "_Feature"
   ],
   "window_display": false
  }
 },
 "nbformat": 4,
 "nbformat_minor": 5
}
