{
 "cells": [
  {
   "cell_type": "code",
   "execution_count": null,
   "id": "e3a8a187",
   "metadata": {},
   "outputs": [],
   "source": [
    "#看有多少个月\n",
    "data.obs_mth.unique()"
   ]
  },
  {
   "cell_type": "code",
   "execution_count": null,
   "id": "2066b81b",
   "metadata": {},
   "outputs": [],
   "source": [
    "#选择最后一个月作为跨时间验证集\n",
    "df_train = data[data.obs_mth != '2018-11-30'].reset_index().copy()\n",
    "val = data[data.obs_mth == '2018-11-30'].reset_index().copy()"
   ]
  },
  {
   "cell_type": "code",
   "execution_count": null,
   "id": "74098966",
   "metadata": {},
   "outputs": [],
   "source": [
    "# 将训练集数据根据月份进行排序\n",
    "df_train = df_train.sort_values(by = 'obs_mth',ascending = False)\n",
    "df_train.head()"
   ]
  },
  {
   "cell_type": "code",
   "execution_count": null,
   "id": "4a4a30bd",
   "metadata": {},
   "outputs": [],
   "source": [
    "#按时间顺序分成五份rank1 -5\n",
    "f_train = df_train.sort_values(by = 'obs_mth',ascending = False)\n",
    "rank_lst = []\n",
    "for i in range(1,len(df_train)+1):\n",
    "    rank_lst.append(i)\n",
    "    \n",
    "df_train['rank'] = rank_lst\n",
    "\n",
    "df_train['rank'] = df_train['rank']/len(df_train)\n",
    "\n",
    "pct_lst = []\n",
    "for x in df_train['rank']:\n",
    "    if x <= 0.2:\n",
    "        x = 1\n",
    "    elif x <= 0.4:\n",
    "        x = 2\n",
    "    elif x <= 0.6:\n",
    "        x = 3\n",
    "    elif x <= 0.8:\n",
    "        x = 4\n",
    "    else:\n",
    "        x = 5\n",
    "    pct_lst.append(x)\n",
    "df_train['rank'] = pct_lst        \n",
    "#train = train.drop('obs_mth',axis = 1)\n",
    "df_train.head()"
   ]
  },
  {
   "cell_type": "code",
   "execution_count": null,
   "id": "8af3410d",
   "metadata": {},
   "outputs": [],
   "source": [
    "#看每个rank里面用户个数\n",
    "df_train['rank'].groupby(df_train['rank']).count()"
   ]
  },
  {
   "cell_type": "code",
   "execution_count": null,
   "id": "8bc8523e",
   "metadata": {},
   "outputs": [],
   "source": [
    "#定义lgb函数 ，分别以rank1-5作为测试集其他作为训练集 \n",
    "def LGB_test(train_x,train_y,test_x,test_y):\n",
    "    from multiprocessing import cpu_count\n",
    "    clf = lgb.LGBMClassifier(\n",
    "        boosting_type='gbdt', num_leaves=31, reg_alpha=0.0, reg_lambda=1,\n",
    "        max_depth=2, n_estimators=800,max_features = 140, objective='binary',\n",
    "        subsample=0.7, colsample_bytree=0.7, subsample_freq=1,\n",
    "        learning_rate=0.05, min_child_weight=50,random_state=None,n_jobs=cpu_count()-1,\n",
    "        num_iterations = 800 #迭代次数\n",
    "    )\n",
    "    clf.fit(train_x, train_y,eval_set=[(train_x, train_y),(test_x,test_y)],eval_metric='auc',early_stopping_rounds=100)\n",
    "    print(clf.n_features_)\n",
    "\n",
    "    return clf,clf.best_score_[ 'valid_1']['auc']\n",
    "feature_lst = {}\n",
    "ks_train_lst = []\n",
    "ks_test_lst = []\n",
    "for rk in set(df_train['rank']):   \n",
    "    \n",
    "    \n",
    "    #定义模型训练集与测试集\n",
    "    ttest = df_train[df_train['rank'] ==  rk]\n",
    "    ttrain = df_train[df_train['rank'] !=  rk]\n",
    "    \n",
    "    train = ttrain[lst]\n",
    "    train_y = ttrain.bad_ind\n",
    "    \n",
    "    test = ttest[lst]\n",
    "    test_y = ttest.bad_ind    \n",
    "    \n",
    "    start = time.time()\n",
    "    model,auc = LGB_test(train,train_y,test,test_y)                    \n",
    "    end = time.time()\n",
    "    \n",
    "    #模型贡献度放在feture中\n",
    "    feature = pd.DataFrame(\n",
    "                {'name' : model.booster_.feature_name(),\n",
    "                'importance' : model.feature_importances_\n",
    "              }).sort_values(by =  ['importance'],ascending = False)\n",
    "    \n",
    "       \n",
    "    #计算训练集、测试集、验证集上的KS和AUC\n",
    "\n",
    "    y_pred_train_lgb = model.predict_proba(train)[:, 1]\n",
    "    y_pred_test_lgb = model.predict_proba(test)[:, 1]\n",
    "\n",
    "\n",
    "    train_fpr_lgb, train_tpr_lgb, _ = roc_curve(train_y, y_pred_train_lgb)\n",
    "    test_fpr_lgb, test_tpr_lgb, _ = roc_curve(test_y, y_pred_test_lgb)\n",
    "\n",
    "\n",
    "    train_ks = abs(train_fpr_lgb - train_tpr_lgb).max()\n",
    "    test_ks = abs(test_fpr_lgb - test_tpr_lgb).max()\n",
    "\n",
    "\n",
    "    train_auc = metrics.auc(train_fpr_lgb, train_tpr_lgb)\n",
    "    test_auc = metrics.auc(test_fpr_lgb, test_tpr_lgb)\n",
    "    \n",
    "    ks_train_lst.append(train_ks)\n",
    "    ks_test_lst.append(test_ks)    \n",
    "\n",
    "    feature_lst[str(rk)] = feature[feature.importance>=20].name\n",
    "\n",
    "train_ks = np.mean(ks_train_lst)\n",
    "test_ks = np.mean(ks_test_lst)\n",
    "\n",
    "ft_lst = {}\n",
    "for i in range(1,6):\n",
    "    ft_lst[str(i)] = feature_lst[str(i)]\n",
    "\n",
    "fn_lst=list(set(ft_lst['1']) & set(ft_lst['2']) \n",
    "    & set(ft_lst['3']) & set(ft_lst['4']) &set(ft_lst['5']))\n",
    "\n",
    "print('train_ks: ',train_ks)\n",
    "print('test_ks: ',test_ks)\n",
    "print('ft_lst: ',fn_lst )"
   ]
  }
 ],
 "metadata": {
  "kernelspec": {
   "display_name": "Python 3 (ipykernel)",
   "language": "python",
   "name": "python3"
  },
  "language_info": {
   "codemirror_mode": {
    "name": "ipython",
    "version": 3
   },
   "file_extension": ".py",
   "mimetype": "text/x-python",
   "name": "python",
   "nbconvert_exporter": "python",
   "pygments_lexer": "ipython3",
   "version": "3.8.5"
  },
  "toc": {
   "base_numbering": 1,
   "nav_menu": {},
   "number_sections": true,
   "sideBar": true,
   "skip_h1_title": false,
   "title_cell": "Table of Contents",
   "title_sidebar": "Contents",
   "toc_cell": false,
   "toc_position": {},
   "toc_section_display": true,
   "toc_window_display": false
  },
  "varInspector": {
   "cols": {
    "lenName": 16,
    "lenType": 16,
    "lenVar": 40
   },
   "kernels_config": {
    "python": {
     "delete_cmd_postfix": "",
     "delete_cmd_prefix": "del ",
     "library": "var_list.py",
     "varRefreshCmd": "print(var_dic_list())"
    },
    "r": {
     "delete_cmd_postfix": ") ",
     "delete_cmd_prefix": "rm(",
     "library": "var_list.r",
     "varRefreshCmd": "cat(var_dic_list()) "
    }
   },
   "types_to_exclude": [
    "module",
    "function",
    "builtin_function_or_method",
    "instance",
    "_Feature"
   ],
   "window_display": false
  }
 },
 "nbformat": 4,
 "nbformat_minor": 5
}
