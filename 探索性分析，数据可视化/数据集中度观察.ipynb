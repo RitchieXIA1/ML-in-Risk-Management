{
 "cells": [
  {
   "cell_type": "code",
   "execution_count": null,
   "id": "7d494d56",
   "metadata": {},
   "outputs": [],
   "source": [
    "allFeatures = list(allData.columns)\n",
    "allFeatures.remove('target')\n",
    "if 'Idx' in allFeatures:\n",
    "    allFeatures.remove('Idx')\n",
    "allFeatures.remove('ListingInfo')"
   ]
  },
  {
   "cell_type": "code",
   "execution_count": null,
   "id": "d3cb88ab",
   "metadata": {},
   "outputs": [],
   "source": [
    "records_count = allData.shape[0]\n",
    "col_most_values,col_large_value = {},{}\n",
    "for col in allFeatures:\n",
    "    value_count = allData[col].groupby(allData[col]).count()\n",
    "    col_most_values[col] = max(value_count)/records_count\n",
    "    large_value = value_count[value_count== max(value_count)].index[0]\n",
    "    col_large_value[col] = large_value\n",
    "col_most_values_df = pd.DataFrame.from_dict(col_most_values, orient = 'index')\n",
    "col_most_values_df.columns = ['max percent']\n",
    "col_most_values_df = col_most_values_df.sort_values(by = 'max percent', ascending = False)\n",
    "pcnt = list(col_most_values_df[:500]['max percent'])\n",
    "vars = list(col_most_values_df[:500].index)\n",
    "plt.bar(range(len(pcnt)), height = pcnt)\n",
    "plt.title('Largest Percentage of Single Value in Each Variable')"
   ]
  },
  {
   "cell_type": "code",
   "execution_count": null,
   "id": "db642db6",
   "metadata": {},
   "outputs": [],
   "source": [
    "#注意10倍的对数为2.3\n",
    "#这里看的是单值占比90%以上的特征\n",
    "large_percent_cols = list(col_most_values_df[col_most_values_df['max percent']>=0.9].index)\n",
    "bad_rate_diff = {}\n",
    "for col in large_percent_cols:\n",
    "    large_value = col_large_value[col]\n",
    "    temp = allData[[col,'target']]\n",
    "    temp[col] = temp.apply(lambda x: int(x[col]==large_value),axis=1)\n",
    "    bad_rate = temp.groupby(col).mean()\n",
    "    if bad_rate.iloc[0]['target'] == 0:\n",
    "        bad_rate_diff[col] = 0\n",
    "        continue\n",
    "    bad_rate_diff[col] = np.log(bad_rate.iloc[0]['target']/bad_rate.iloc[1]['target'])  # 坏样本率 平均比值的对数\n",
    "bad_rate_diff_sorted = sorted(bad_rate_diff.items(),key=lambda x: x[1], reverse=True)\n",
    "bad_rate_diff_sorted_values = [x[1] for x in bad_rate_diff_sorted]\n",
    "plt.bar(x = range(len(bad_rate_diff_sorted_values)), height = bad_rate_diff_sorted_values)"
   ]
  }
 ],
 "metadata": {
  "kernelspec": {
   "display_name": "Python 3 (ipykernel)",
   "language": "python",
   "name": "python3"
  },
  "language_info": {
   "codemirror_mode": {
    "name": "ipython",
    "version": 3
   },
   "file_extension": ".py",
   "mimetype": "text/x-python",
   "name": "python",
   "nbconvert_exporter": "python",
   "pygments_lexer": "ipython3",
   "version": "3.8.5"
  },
  "toc": {
   "base_numbering": 1,
   "nav_menu": {},
   "number_sections": true,
   "sideBar": true,
   "skip_h1_title": false,
   "title_cell": "Table of Contents",
   "title_sidebar": "Contents",
   "toc_cell": false,
   "toc_position": {},
   "toc_section_display": true,
   "toc_window_display": false
  },
  "varInspector": {
   "cols": {
    "lenName": 16,
    "lenType": 16,
    "lenVar": 40
   },
   "kernels_config": {
    "python": {
     "delete_cmd_postfix": "",
     "delete_cmd_prefix": "del ",
     "library": "var_list.py",
     "varRefreshCmd": "print(var_dic_list())"
    },
    "r": {
     "delete_cmd_postfix": ") ",
     "delete_cmd_prefix": "rm(",
     "library": "var_list.r",
     "varRefreshCmd": "cat(var_dic_list()) "
    }
   },
   "types_to_exclude": [
    "module",
    "function",
    "builtin_function_or_method",
    "instance",
    "_Feature"
   ],
   "window_display": false
  }
 },
 "nbformat": 4,
 "nbformat_minor": 5
}
