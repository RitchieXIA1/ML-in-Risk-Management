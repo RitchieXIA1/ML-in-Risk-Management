{
 "cells": [
  {
   "cell_type": "code",
   "execution_count": null,
   "id": "4900ccbf",
   "metadata": {},
   "outputs": [],
   "source": [
    "#绘制与正态分布的分布差距和QQ图\n",
    "plt.figure(figsize=(10,5))\n",
    "\n",
    "ax=plt.subplot(1,2,1)\n",
    "sns.distplot(train_data['V0'],fit=stats.norm)\n",
    "ax=plt.subplot(1,2,2)\n",
    "res = stats.probplot(train_data['V0'], plot=plt)"
   ]
  },
  {
   "cell_type": "code",
   "execution_count": null,
   "id": "690b89f5",
   "metadata": {},
   "outputs": [],
   "source": [
    "#记得只选取数值型变量\n",
    "train_cols = 6\n",
    "train_rows = len(train_data.columns)\n",
    "plt.figure(figsize=(4*train_cols,4*train_rows))\n",
    "\n",
    "i=0\n",
    "for col in train_data.columns:\n",
    "    i+=1\n",
    "    ax=plt.subplot(train_rows,train_cols,i)\n",
    "    sns.distplot(train_data[col],fit=stats.norm)\n",
    "    \n",
    "    i+=1\n",
    "    ax=plt.subplot(train_rows,train_cols,i)\n",
    "    res = stats.probplot(train_data[col], plot=plt)\n",
    "plt.show()"
   ]
  }
 ],
 "metadata": {
  "kernelspec": {
   "display_name": "Python 3",
   "language": "python",
   "name": "python3"
  },
  "language_info": {
   "codemirror_mode": {
    "name": "ipython",
    "version": 3
   },
   "file_extension": ".py",
   "mimetype": "text/x-python",
   "name": "python",
   "nbconvert_exporter": "python",
   "pygments_lexer": "ipython3",
   "version": "3.8.8"
  },
  "varInspector": {
   "cols": {
    "lenName": 16,
    "lenType": 16,
    "lenVar": 40
   },
   "kernels_config": {
    "python": {
     "delete_cmd_postfix": "",
     "delete_cmd_prefix": "del ",
     "library": "var_list.py",
     "varRefreshCmd": "print(var_dic_list())"
    },
    "r": {
     "delete_cmd_postfix": ") ",
     "delete_cmd_prefix": "rm(",
     "library": "var_list.r",
     "varRefreshCmd": "cat(var_dic_list()) "
    }
   },
   "types_to_exclude": [
    "module",
    "function",
    "builtin_function_or_method",
    "instance",
    "_Feature"
   ],
   "window_display": false
  }
 },
 "nbformat": 4,
 "nbformat_minor": 5
}
