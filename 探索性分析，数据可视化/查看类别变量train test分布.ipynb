{
 "cells": [
  {
   "cell_type": "code",
   "execution_count": null,
   "id": "aa7111e5",
   "metadata": {},
   "outputs": [],
   "source": [
    "def cat_distribution_check(X_train,X_test,col,cat_threshold=50):\n",
    "    if X_train[col].nunique()<=cat_threshold:\n",
    "        plt.figure(figsize=(15,15))\n",
    "        plt.hist([X_train[col],X_test[col]],density=True)\n",
    "    print('训练集总类别数:'+str(X_train[col].nunique()))\n",
    "    print('训练集总样本数:'+str(X_train[col].shape[0]))\n",
    "    print('测试集总类别数:'+str(X_test[col].nunique()))\n",
    "    print('测试集总样本数:'+str(X_test[col].shape[0]))\n",
    "    print('未见类别数：'+str(len(set(X_test[col].dropna())-set(X_train[col].dropna()))))\n",
    "    unseen=list(set(X_test[col].dropna())-set(X_train[col].dropna()))\n",
    "    if_unseen=X_test[col].dropna().apply(lambda x: x in unseen)\n",
    "    print('未见样本数:'+str(sum(if_unseen)))"
   ]
  }
 ],
 "metadata": {
  "kernelspec": {
   "display_name": "Python 3 (ipykernel)",
   "language": "python",
   "name": "python3"
  },
  "language_info": {
   "codemirror_mode": {
    "name": "ipython",
    "version": 3
   },
   "file_extension": ".py",
   "mimetype": "text/x-python",
   "name": "python",
   "nbconvert_exporter": "python",
   "pygments_lexer": "ipython3",
   "version": "3.8.5"
  },
  "toc": {
   "base_numbering": 1,
   "nav_menu": {},
   "number_sections": true,
   "sideBar": true,
   "skip_h1_title": false,
   "title_cell": "Table of Contents",
   "title_sidebar": "Contents",
   "toc_cell": false,
   "toc_position": {},
   "toc_section_display": true,
   "toc_window_display": false
  },
  "varInspector": {
   "cols": {
    "lenName": 16,
    "lenType": 16,
    "lenVar": 40
   },
   "kernels_config": {
    "python": {
     "delete_cmd_postfix": "",
     "delete_cmd_prefix": "del ",
     "library": "var_list.py",
     "varRefreshCmd": "print(var_dic_list())"
    },
    "r": {
     "delete_cmd_postfix": ") ",
     "delete_cmd_prefix": "rm(",
     "library": "var_list.r",
     "varRefreshCmd": "cat(var_dic_list()) "
    }
   },
   "types_to_exclude": [
    "module",
    "function",
    "builtin_function_or_method",
    "instance",
    "_Feature"
   ],
   "window_display": false
  }
 },
 "nbformat": 4,
 "nbformat_minor": 5
}
