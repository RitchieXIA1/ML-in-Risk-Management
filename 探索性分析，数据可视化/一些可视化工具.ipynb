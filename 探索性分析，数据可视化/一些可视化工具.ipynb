{
 "cells": [
  {
   "cell_type": "code",
   "execution_count": null,
   "id": "380c0b3d",
   "metadata": {},
   "outputs": [],
   "source": [
    "import matplotlib.pyplot as plt\n",
    "import seaborn as sns"
   ]
  },
  {
   "cell_type": "code",
   "execution_count": null,
   "id": "1e2a131d",
   "metadata": {},
   "outputs": [],
   "source": [
    "sns.set()"
   ]
  },
  {
   "cell_type": "code",
   "execution_count": null,
   "id": "d7fca93c",
   "metadata": {},
   "outputs": [],
   "source": [
    "#大型分布图\n",
    "sns.set(rc={'figure.figsize':(15,5)})\n",
    "fig=plt.figure()\n",
    "sns.histplot(data=trainpt, x=\"Pawpularity\",kde=True, bins=100)\n",
    "#插入均值线\n",
    "plt.axvline(trainpt[\"Pawpularity\"].mean(),c=\"pink\",ls=\"-\", lw=3, label=\"Mean\")\n",
    "#插入中位数线\n",
    "plt.axvline(trainpt[\"Pawpularity\"].median(),c=\"darkseagreen\",ls=\"-\",lw=3,label=\"Median\")\n",
    "plt.title(\"Distribution of Pawpularity Scores\", fontsize=20,fontweight=\"bold\")\n",
    "plt.legend()\n",
    "plt.show()"
   ]
  },
  {
   "cell_type": "code",
   "execution_count": null,
   "id": "48d6318c",
   "metadata": {},
   "outputs": [],
   "source": [
    "#小提琴图，分布图和分类柱状图，可以根据需要调整\n",
    "def fplot(var,label,title):\n",
    "    fig, ax=plt.subplots(1,3)\n",
    "    sns.violinplot(x=var, y=\"Pawpularity\",data=trainpt,palette=\"Set2\",ax=ax[0])\n",
    "    sns.histplot(trainpt,x=\"Pawpularity\", hue=var, palette=\"Set2\",kde=True,ax=ax[1])\n",
    "    #按级别分类\n",
    "    sns.countplot(x=var,hue=\"Powcat\",data=trainpt,palette=\"Set2\", ax=ax[2])\n",
    "    plt.suptitle(title)\n",
    "    return plt\n",
    "fig.show()"
   ]
  },
  {
   "cell_type": "code",
   "execution_count": null,
   "id": "ef90e8e0",
   "metadata": {},
   "outputs": [],
   "source": [
    "#用pca降维可视化\n",
    "pca=PCA(n_components=5)\n",
    "pca.fit(pet_ft)\n",
    "x_pca=pca.fit_transform(pet_ft)\n",
    "ps=pd.DataFrame(x_pca)\n",
    "ps.head()\n",
    "#代表了每个维的解释比例\n",
    "print(pca.explained_variance_ratio_)"
   ]
  },
  {
   "cell_type": "code",
   "execution_count": null,
   "id": "a37de357",
   "metadata": {},
   "outputs": [],
   "source": [
    "topc=pd.DataFrame(ps[[3,4]])\n",
    "print(topc.shape)\n",
    "print(topc.head())\n",
    "fig=plt.figure(figsize=(8,8))\n",
    "plt.plot(topc[3],topc[4],\"o\")\n",
    "plt.xlabel(\"Features\")\n",
    "plt.ylabel(\"y\")\n",
    "plt.legend()\n",
    "plt.title(\"PCA Cluster \")\n",
    "plt.show()"
   ]
  },
  {
   "cell_type": "code",
   "execution_count": null,
   "id": "ca2b36f3",
   "metadata": {},
   "outputs": [],
   "source": [
    "#Choose the best cluster number\n",
    "cloud=KMeans(n_clusters=4,random_state=8).fit(topc)\n",
    "centers=cloud.cluster_centers_\n",
    "c_pred=cloud.predict(topc)"
   ]
  },
  {
   "cell_type": "code",
   "execution_count": null,
   "id": "79cf8492",
   "metadata": {},
   "outputs": [],
   "source": [
    "\n",
    "fig=plt.figure(figsize=(8,8))\n",
    "colors=[\"palegreen\", \"orange\",\"orchid\",\"cyan\"]\n",
    "colored=[colors[k] for k in c_pred]\n",
    "plt.scatter(topc[3],topc[4], color=colored)\n",
    "for ci,c in enumerate(centers):\n",
    "    plt.plot(c[0],c[1],\"o\",color=\"red\", alpha=0.9)\n",
    "plt.xlabel(\"x\")\n",
    "plt.ylabel(\"y\")\n",
    "plt.title(\"PCA Cluster Analysis\")\n",
    "plt.show()"
   ]
  },
  {
   "cell_type": "code",
   "execution_count": null,
   "id": "2f2f5b9e",
   "metadata": {},
   "outputs": [],
   "source": [
    "#在可视化之后可以考虑把标签加入原本的数据集作为新变量，并且可以从业务上研究各组有什么区别\n",
    "pet_ft=pet_ft.copy()\n",
    "pet_ft[\"cluster\"]=c_pred\n",
    "pet_ft[\"label\"]=trainpt.Powcat\n",
    "pet_ft.head(10)\n",
    "pd.crosstab(index=pet_ft[\"cluster\"],columns=pet_ft[\"label\"])"
   ]
  }
 ],
 "metadata": {
  "kernelspec": {
   "display_name": "Python 3 (ipykernel)",
   "language": "python",
   "name": "python3"
  },
  "language_info": {
   "codemirror_mode": {
    "name": "ipython",
    "version": 3
   },
   "file_extension": ".py",
   "mimetype": "text/x-python",
   "name": "python",
   "nbconvert_exporter": "python",
   "pygments_lexer": "ipython3",
   "version": "3.8.5"
  },
  "toc": {
   "base_numbering": 1,
   "nav_menu": {},
   "number_sections": true,
   "sideBar": true,
   "skip_h1_title": false,
   "title_cell": "Table of Contents",
   "title_sidebar": "Contents",
   "toc_cell": false,
   "toc_position": {},
   "toc_section_display": true,
   "toc_window_display": false
  },
  "varInspector": {
   "cols": {
    "lenName": 16,
    "lenType": 16,
    "lenVar": 40
   },
   "kernels_config": {
    "python": {
     "delete_cmd_postfix": "",
     "delete_cmd_prefix": "del ",
     "library": "var_list.py",
     "varRefreshCmd": "print(var_dic_list())"
    },
    "r": {
     "delete_cmd_postfix": ") ",
     "delete_cmd_prefix": "rm(",
     "library": "var_list.r",
     "varRefreshCmd": "cat(var_dic_list()) "
    }
   },
   "types_to_exclude": [
    "module",
    "function",
    "builtin_function_or_method",
    "instance",
    "_Feature"
   ],
   "window_display": false
  }
 },
 "nbformat": 4,
 "nbformat_minor": 5
}
