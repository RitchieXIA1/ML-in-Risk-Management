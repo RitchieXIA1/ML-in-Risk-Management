{
 "cells": [
  {
   "cell_type": "code",
   "execution_count": null,
   "id": "a12251e4",
   "metadata": {},
   "outputs": [],
   "source": [
    "#实际上计算的是比range小的样本有多少个\n",
    "def TimeWindowSelection(df, daysCol, time_windows):\n",
    "    '''\n",
    "    :param df: the dataset containg variabel of days\n",
    "    :param daysCol: the column of days\n",
    "    :param time_windows: the list of time window\n",
    "    :return:\n",
    "    '''\n",
    "    freq_tw = {}\n",
    "    for tw in time_windows:\n",
    "        freq = sum(df[daysCol].apply(lambda x: int(x<=tw)))\n",
    "        freq_tw[tw] = freq\n",
    "    return freq_tw"
   ]
  },
  {
   "cell_type": "code",
   "execution_count": null,
   "id": "f1bfa2f1",
   "metadata": {},
   "outputs": [],
   "source": [
    "timeWindows = TimeWindowSelection(data1, 'ListingGap', range(30,361,30))"
   ]
  },
  {
   "cell_type": "code",
   "execution_count": null,
   "id": "1980bc0e",
   "metadata": {},
   "outputs": [],
   "source": [
    "#比如发现小于180的样本数已经基本接近总体样本数了，那么久选用180作为时间窗口的上限，\n",
    "#7,30,60,90,180"
   ]
  }
 ],
 "metadata": {
  "kernelspec": {
   "display_name": "Python 3 (ipykernel)",
   "language": "python",
   "name": "python3"
  },
  "language_info": {
   "codemirror_mode": {
    "name": "ipython",
    "version": 3
   },
   "file_extension": ".py",
   "mimetype": "text/x-python",
   "name": "python",
   "nbconvert_exporter": "python",
   "pygments_lexer": "ipython3",
   "version": "3.8.5"
  },
  "toc": {
   "base_numbering": 1,
   "nav_menu": {},
   "number_sections": true,
   "sideBar": true,
   "skip_h1_title": false,
   "title_cell": "Table of Contents",
   "title_sidebar": "Contents",
   "toc_cell": false,
   "toc_position": {},
   "toc_section_display": true,
   "toc_window_display": false
  },
  "varInspector": {
   "cols": {
    "lenName": 16,
    "lenType": 16,
    "lenVar": 40
   },
   "kernels_config": {
    "python": {
     "delete_cmd_postfix": "",
     "delete_cmd_prefix": "del ",
     "library": "var_list.py",
     "varRefreshCmd": "print(var_dic_list())"
    },
    "r": {
     "delete_cmd_postfix": ") ",
     "delete_cmd_prefix": "rm(",
     "library": "var_list.r",
     "varRefreshCmd": "cat(var_dic_list()) "
    }
   },
   "types_to_exclude": [
    "module",
    "function",
    "builtin_function_or_method",
    "instance",
    "_Feature"
   ],
   "window_display": false
  }
 },
 "nbformat": 4,
 "nbformat_minor": 5
}
