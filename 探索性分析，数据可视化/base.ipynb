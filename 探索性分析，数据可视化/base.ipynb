{
 "cells": [
  {
   "cell_type": "code",
   "execution_count": 1,
   "metadata": {
    "collapsed": true
   },
   "outputs": [],
   "source": [
    "import math\n",
    "import numpy as np\n",
    "import pandas as pd\n",
    "import matplotlib.pyplot as plt\n",
    "import xgboost as xgb\n",
    "from sklearn.decomposition import LatentDirichletAllocation, NMF, TruncatedSVD\n",
    "from sklearn.feature_extraction.text import CountVectorizer, TfidfVectorizer\n",
    "from sklearn.metrics import f1_score, fbeta_score, precision_score, recall_score, roc_auc_score\n",
    "from sklearn.model_selection import StratifiedKFold\n",
    "from sklearn.preprocessing import LabelEncoder\n",
    "from tqdm import tqdm\n",
    "import warnings\n",
    "from datetime import datetime\n",
    "import lightgbm as lgb\n",
    "\n",
    "warnings.filterwarnings('ignore')"
   ]
  },
  {
   "cell_type": "code",
   "execution_count": 2,
   "metadata": {
    "collapsed": true
   },
   "outputs": [],
   "source": [
    "data = pd.read_csv('data/data_a.csv')\n",
    "data.replace('\\\\N', np.NaN, inplace=True)"
   ]
  },
  {
   "cell_type": "code",
   "execution_count": 3,
   "metadata": {
    "collapsed": true
   },
   "outputs": [],
   "source": [
    "f_features = ['gprs_fee', 'overrun_flux_fee', 'out_actvcall_dur', 'actvcall_fee',\n",
    "       'out_activcall_fee', 'monfix_fee', 'gift_acct_amt', 'call_cnt',\n",
    "       'up_flux', 'down_flux', 'p2psms_up_cnt',\n",
    "       'p2psms_cmnct_fee', 'p2psms_pkg_fee']\n",
    "data[f_features] = data[f_features].astype('float')"
   ]
  },
  {
   "cell_type": "code",
   "execution_count": 4,
   "metadata": {
    "collapsed": true
   },
   "outputs": [],
   "source": [
    "cat_cols = ['if_family', 'if_group', 'sms_inpkg_ind']\n",
    "data.sort_values('month', inplace=True)\n",
    "data.drop_duplicates('phone', inplace=True)\n",
    "data.reset_index(drop=True, inplace=True)\n",
    "data[cat_cols] = data[cat_cols].astype('category')"
   ]
  },
  {
   "cell_type": "code",
   "execution_count": 5,
   "metadata": {
    "collapsed": true
   },
   "outputs": [],
   "source": [
    "X_train = data[data['month'] == 202001]\n",
    "X_test = data[data['month'] == 202003]\n",
    "train_label = pd.read_csv('data/train_label.csv')\n",
    "X_train = pd.merge(train_label, X_train, on='phone', how='left')\n",
    "test_label = pd.read_csv('data/to_pred_a.csv')\n",
    "X_test = pd.merge(test_label, X_test, on='phone', how='left')\n",
    "y = X_train['label']\n",
    "drop_cols = ['month', 'label', 'phone']\n",
    "X_train.drop(drop_cols, axis=1, inplace=True)\n",
    "X_test.drop(drop_cols, axis=1, inplace=True)\n",
    "features = X_train.columns"
   ]
  },
  {
   "cell_type": "code",
   "execution_count": 6,
   "metadata": {},
   "outputs": [
    {
     "data": {
      "text/plain": [
       "Index(['if_family', 'if_group', 'chrg_cnt', 'chrg_amt', 'gprs_fee',\n",
       "       'overrun_flux_fee', 'out_actvcall_dur', 'actvcall_fee',\n",
       "       'out_activcall_fee', 'monfix_fee', 'gift_acct_amt', 'call_cnt',\n",
       "       'up_flux', 'down_flux', 'sms_inpkg_ind', 'p2psms_up_cnt',\n",
       "       'p2psms_cmnct_fee', 'p2psms_pkg_fee'],\n",
       "      dtype='object')"
      ]
     },
     "execution_count": 6,
     "metadata": {},
     "output_type": "execute_result"
    }
   ],
   "source": [
    "features"
   ]
  },
  {
   "cell_type": "code",
   "execution_count": 7,
   "metadata": {},
   "outputs": [
    {
     "name": "stdout",
     "output_type": "stream",
     "text": [
      "fold n°0\n",
      "trn_idx: [     0      2      3 ... 433410 433411 433412]\n",
      "val_idx: [     1     13     15 ... 433402 433408 433409]\n",
      "Training until validation scores don't improve for 200 rounds\n",
      "Early stopping, best iteration is:\n",
      "[207]\ttraining's binary_error: 0.00200444\tvalid_1's binary_error: 0.00203039\n",
      "fold n°1\n",
      "trn_idx: [     0      1      2 ... 433410 433411 433412]\n",
      "val_idx: [     6     16     27 ... 433393 433406 433407]\n",
      "Training until validation scores don't improve for 200 rounds\n",
      "Early stopping, best iteration is:\n",
      "[120]\ttraining's binary_error: 0.00196983\tvalid_1's binary_error: 0.00220343\n",
      "fold n°2\n",
      "trn_idx: [     0      1      3 ... 433409 433410 433412]\n",
      "val_idx: [     2      4      5 ... 433396 433404 433411]\n",
      "Training until validation scores don't improve for 200 rounds\n",
      "Early stopping, best iteration is:\n",
      "[160]\ttraining's binary_error: 0.00201886\tvalid_1's binary_error: 0.00197271\n",
      "fold n°3\n",
      "trn_idx: [     1      2      4 ... 433409 433410 433411]\n",
      "val_idx: [     0      3     10 ... 433394 433398 433412]\n",
      "Training until validation scores don't improve for 200 rounds\n",
      "Early stopping, best iteration is:\n",
      "[117]\ttraining's binary_error: 0.00202174\tvalid_1's binary_error: 0.00200734\n",
      "fold n°4\n",
      "trn_idx: [     0      1      2 ... 433409 433411 433412]\n",
      "val_idx: [     7      9     11 ... 433403 433405 433410]\n",
      "Training until validation scores don't improve for 200 rounds\n",
      "Early stopping, best iteration is:\n",
      "[111]\ttraining's binary_error: 0.0020477\tvalid_1's binary_error: 0.00191505\n",
      "AUC score: 0.9994364324594397\n",
      "F1 score: 0.9300286898310489\n",
      "Precision score: 0.8889396709323584\n",
      "Recall score: 0.9751002673796791\n"
     ]
    }
   ],
   "source": [
    "KF = StratifiedKFold(n_splits=5, random_state=2020, shuffle=True)\n",
    "params = {\n",
    "          'objective':'binary',\n",
    "          'metric':'binary_error', \n",
    "          'learning_rate':0.05, \n",
    "          'subsample':0.8, \n",
    "          'subsample_freq':3, \n",
    "          'colsample_btree':0.8,\n",
    "          'num_iterations': 10000, \n",
    "          'silent':True\n",
    "}\n",
    "\n",
    "oof_lgb = np.zeros(len(X_train))\n",
    "predictions_lgb = np.zeros((len(X_test)))\n",
    "\n",
    "# 五折交叉验证\n",
    "for fold_, (trn_idx, val_idx) in enumerate(KF.split(X_train.values, y.values)):\n",
    "    print(\"fold n°{}\".format(fold_))\n",
    "    print('trn_idx:',trn_idx)\n",
    "    print('val_idx:',val_idx)\n",
    "    trn_data = lgb.Dataset(X_train.iloc[trn_idx][features],label=y.iloc[trn_idx])    \n",
    "    val_data = lgb.Dataset(X_train.iloc[val_idx][features],label=y.iloc[val_idx])\n",
    "    num_round = 10000\n",
    "    clf = lgb.train(\n",
    "        params,\n",
    "        trn_data,\n",
    "        num_round,\n",
    "        valid_sets = [trn_data, val_data],\n",
    "        verbose_eval=500,\n",
    "        early_stopping_rounds=200,  \n",
    "        categorical_feature=cat_cols,    \n",
    "    )       \n",
    "    oof_lgb[val_idx] = clf.predict(X_train.iloc[val_idx][features], num_iteration=clf.best_iteration)\n",
    "    predictions_lgb[:] += clf.predict(X_test[features], num_iteration=clf.best_iteration) \n",
    "print(\"AUC score: {}\".format(roc_auc_score(y, oof_lgb)))\n",
    "print(\"F1 score: {}\".format(f1_score(y, [1 if i >= 0.5 else 0 for i in oof_lgb])))\n",
    "print(\"Precision score: {}\".format(precision_score(y, [1 if i >= 0.5 else 0 for i in oof_lgb])))\n",
    "print(\"Recall score: {}\".format(recall_score(y, [1 if i >= 0.5 else 0 for i in oof_lgb])))"
   ]
  },
  {
   "cell_type": "code",
   "execution_count": 42,
   "metadata": {
    "collapsed": true
   },
   "outputs": [],
   "source": [
    "# AUC score: 0.9994364324594397\n",
    "# F1 score: 0.9300286898310489\n",
    "# 2809  \n",
    "# 0.943803\n",
    "test_label['label'] = [1 if i >=2.5 else 0 for i in predictions_lgb]\n",
    "test_label.to_csv('submit.csv', index=False)"
   ]
  },
  {
   "cell_type": "code",
   "execution_count": 8,
   "metadata": {},
   "outputs": [
    {
     "name": "stderr",
     "output_type": "stream",
     "text": [
      "100%|████████████████████████████████████████| 400/400 [00:41<00:00,  9.66it/s]\n"
     ]
    }
   ],
   "source": [
    "def find_best_t(y_pred, y_true):\n",
    "    best_score = f1_score(y_true, np.where(y_pred >= 0.5, 1, 0))\n",
    "    t = 0.5\n",
    "    for i in tqdm(range(300, 700)):\n",
    "        current_score = f1_score(y_true, np.where(y_pred >= i / 1000, 1, 0))\n",
    "        if current_score > best_score:\n",
    "            best_score = current_score\n",
    "            t = i / 1000\n",
    "            print(f'best score: {best_score}, best t: {t}')\n",
    "    return t\n",
    "\n",
    "t = 0.5\n",
    "t = find_best_t(oof_lgb, y)"
   ]
  },
  {
   "cell_type": "code",
   "execution_count": 38,
   "metadata": {},
   "outputs": [
    {
     "data": {
      "text/plain": [
       "2809"
      ]
     },
     "execution_count": 38,
     "metadata": {},
     "output_type": "execute_result"
    }
   ],
   "source": [
    "sum(test_label['label'])"
   ]
  }
 ],
 "metadata": {
  "kernelspec": {
   "display_name": "Python 3 (ipykernel)",
   "language": "python",
   "name": "python3"
  },
  "language_info": {
   "codemirror_mode": {
    "name": "ipython",
    "version": 3
   },
   "file_extension": ".py",
   "mimetype": "text/x-python",
   "name": "python",
   "nbconvert_exporter": "python",
   "pygments_lexer": "ipython3",
   "version": "3.8.5"
  },
  "toc": {
   "base_numbering": 1,
   "nav_menu": {},
   "number_sections": true,
   "sideBar": true,
   "skip_h1_title": false,
   "title_cell": "Table of Contents",
   "title_sidebar": "Contents",
   "toc_cell": false,
   "toc_position": {},
   "toc_section_display": true,
   "toc_window_display": false
  }
 },
 "nbformat": 4,
 "nbformat_minor": 2
}
