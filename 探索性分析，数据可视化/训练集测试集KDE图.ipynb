{
 "cells": [
  {
   "cell_type": "code",
   "execution_count": null,
   "id": "f77b9f5b",
   "metadata": {},
   "outputs": [],
   "source": [
    "#通过kde图快速观察训练集和测试集的关系\n",
    "dist_cols = 6\n",
    "dist_rows = len(test_data.columns)\n",
    "plt.figure(figsize=(4*dist_cols,4*dist_rows))\n",
    "\n",
    "i=1\n",
    "for col in test_data.columns:\n",
    "    ax=plt.subplot(dist_rows,dist_cols,i)\n",
    "    ax = sns.kdeplot(train_data[col], color=\"Red\", shade=True)\n",
    "    ax = sns.kdeplot(test_data[col], color=\"Blue\", shade=True)\n",
    "    ax.set_xlabel(col)\n",
    "    ax.set_ylabel(\"Frequency\")\n",
    "    ax = ax.legend([\"train\",\"test\"])\n",
    "    \n",
    "    i+=1\n",
    "plt.show()"
   ]
  }
 ],
 "metadata": {
  "kernelspec": {
   "display_name": "Python 3",
   "language": "python",
   "name": "python3"
  },
  "language_info": {
   "codemirror_mode": {
    "name": "ipython",
    "version": 3
   },
   "file_extension": ".py",
   "mimetype": "text/x-python",
   "name": "python",
   "nbconvert_exporter": "python",
   "pygments_lexer": "ipython3",
   "version": "3.8.8"
  },
  "varInspector": {
   "cols": {
    "lenName": 16,
    "lenType": 16,
    "lenVar": 40
   },
   "kernels_config": {
    "python": {
     "delete_cmd_postfix": "",
     "delete_cmd_prefix": "del ",
     "library": "var_list.py",
     "varRefreshCmd": "print(var_dic_list())"
    },
    "r": {
     "delete_cmd_postfix": ") ",
     "delete_cmd_prefix": "rm(",
     "library": "var_list.r",
     "varRefreshCmd": "cat(var_dic_list()) "
    }
   },
   "types_to_exclude": [
    "module",
    "function",
    "builtin_function_or_method",
    "instance",
    "_Feature"
   ],
   "window_display": false
  }
 },
 "nbformat": 4,
 "nbformat_minor": 5
}
