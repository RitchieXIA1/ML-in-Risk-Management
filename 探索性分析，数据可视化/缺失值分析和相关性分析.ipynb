{
 "cells": [
  {
   "cell_type": "code",
   "execution_count": null,
   "id": "db24ecd0",
   "metadata": {},
   "outputs": [],
   "source": [
    "#获得各特征的缺失值个数，并且按缺失个数分组。\n",
    "nans_df = train.isna()\n",
    "nans_groups={}\n",
    "for col in train.columns:\n",
    "    cur_group = nans_df[col].sum()\n",
    "    try:\n",
    "        nans_groups[cur_group].append(col)\n",
    "    except:\n",
    "        nans_groups[cur_group]=[col]\n",
    "del nans_df; x=gc.collect()#释放内存\n",
    "for k,v in nans_groups.items():\n",
    "    print('####### NAN count =',k)\n",
    "    print(v)"
   ]
  },
  {
   "cell_type": "code",
   "execution_count": null,
   "id": "294d9adb",
   "metadata": {},
   "outputs": [],
   "source": [
    "#按照上面的分组，得到对应的一系列特征。\n",
    "Vs = nans_groups[279287]#这里输入缺失值数量"
   ]
  },
  {
   "cell_type": "code",
   "execution_count": null,
   "id": "e6c62692",
   "metadata": {},
   "outputs": [],
   "source": [
    "def make_plots(Vs):\n",
    "    col = 4\n",
    "    row = len(Vs)//4+1\n",
    "    plt.figure(figsize=(20,row*5))\n",
    "    idx = train[~train[Vs[0]].isna()].index\n",
    "    for i,v in enumerate(Vs):\n",
    "        plt.subplot(row,col,i+1)\n",
    "        n = train[v].nunique()\n",
    "        x = np.sum(train.loc[idx,v]!=train.loc[idx,v].astype(int))\n",
    "        y = np.round(100*np.sum(train[v].isna())/len(train),2)\n",
    "        t = 'int'\n",
    "        if x!=0: t = 'float'\n",
    "        plt.title(v+' has '+str(n)+' '+t+' and '+str(y)+'% nan')\n",
    "        plt.yticks([])\n",
    "        h = plt.hist(train.loc[idx,v],bins=100)\n",
    "        if len(h[0])>1: plt.ylim((0,np.sort(h[0])[-2]))\n",
    "    plt.show()\n",
    "make_plots(Vs)"
   ]
  },
  {
   "cell_type": "code",
   "execution_count": null,
   "id": "e5171149",
   "metadata": {},
   "outputs": [],
   "source": [
    "#获得这一分租特征的相关性和热力图\n",
    "def make_corr(Vs,Vtitle=''):\n",
    "    cols = ['TransactionDT'] + Vs\n",
    "    plt.figure(figsize=(15,15))\n",
    "    sns.heatmap(train[cols].corr(), cmap='RdBu_r', annot=True, center=0.0)\n",
    "    if Vtitle!='': plt.title(Vtitle,fontsize=14)\n",
    "    else: plt.title(Vs[0]+' - '+Vs[-1],fontsize=14)\n",
    "    plt.show()\n",
    "make_corr(Vs,Vtitle)"
   ]
  },
  {
   "cell_type": "code",
   "execution_count": null,
   "id": "c3fab877",
   "metadata": {},
   "outputs": [],
   "source": []
  }
 ],
 "metadata": {
  "kernelspec": {
   "display_name": "Python 3",
   "language": "python",
   "name": "python3"
  },
  "language_info": {
   "codemirror_mode": {
    "name": "ipython",
    "version": 3
   },
   "file_extension": ".py",
   "mimetype": "text/x-python",
   "name": "python",
   "nbconvert_exporter": "python",
   "pygments_lexer": "ipython3",
   "version": "3.8.8"
  },
  "varInspector": {
   "cols": {
    "lenName": 16,
    "lenType": 16,
    "lenVar": 40
   },
   "kernels_config": {
    "python": {
     "delete_cmd_postfix": "",
     "delete_cmd_prefix": "del ",
     "library": "var_list.py",
     "varRefreshCmd": "print(var_dic_list())"
    },
    "r": {
     "delete_cmd_postfix": ") ",
     "delete_cmd_prefix": "rm(",
     "library": "var_list.r",
     "varRefreshCmd": "cat(var_dic_list()) "
    }
   },
   "types_to_exclude": [
    "module",
    "function",
    "builtin_function_or_method",
    "instance",
    "_Feature"
   ],
   "window_display": false
  }
 },
 "nbformat": 4,
 "nbformat_minor": 5
}
