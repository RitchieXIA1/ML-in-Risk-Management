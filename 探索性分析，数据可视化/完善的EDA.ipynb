{
 "cells": [
  {
   "cell_type": "code",
   "execution_count": null,
   "id": "7cd025d1",
   "metadata": {},
   "outputs": [],
   "source": [
    "import numpy as np\n",
    "import pandas as pd\n",
    "import matplotlib.pyplot as plt\n",
    "from IPython.core.display import HTML\n",
    "import warnings\n",
    "warnings.filterwarnings(\"ignore\")"
   ]
  },
  {
   "cell_type": "code",
   "execution_count": null,
   "id": "db6af818",
   "metadata": {},
   "outputs": [],
   "source": [
    "label = 'm2h12'\n",
    "time = 'apply_date'\n",
    "COLS_TO_SHOW=150\n",
    "ID = 'loanid'"
   ]
  },
  {
   "cell_type": "code",
   "execution_count": null,
   "id": "6fbb9df3",
   "metadata": {},
   "outputs": [],
   "source": [
    "ex_list = []"
   ]
  },
  {
   "cell_type": "code",
   "execution_count": null,
   "id": "a3a669e7",
   "metadata": {},
   "outputs": [],
   "source": [
    "def h(content):\n",
    "    display(HTML(content))"
   ]
  },
  {
   "cell_type": "code",
   "execution_count": null,
   "id": "abacbd4e",
   "metadata": {},
   "outputs": [],
   "source": [
    "def timehist1(col):\n",
    "    N = 8000  # 选取8000个样本来做图\n",
    "    tr[tr[label] == 0].set_index(time)[col].clip(0, N).plot(style='.', title='Hist ' + col, figsize=(15, 3))\n",
    "    tr[tr[label] == 1].set_index(time)[col].clip(0, N).plot(style='.', title='Hist ' + col, figsize=(15, 3))\n",
    "    te.set_index(time)[col].clip(0, N).plot(style='.', title=col + ' values over time (blue=no-fraud, orange=fraud, green=test)'\n",
    "                                            , figsize=(15, 3))\n",
    "    plt.show()\n",
    "def _desc(data, col, label):\n",
    "    d0 = data.describe().reset_index()\n",
    "    d0.columns = [col, label]\n",
    "    return d0.append({col:'unique values', label:data.unique().shape[0]}, ignore_index=True) \\\n",
    "             .append({col:'NaNs', label:data.isnull().sum()}, ignore_index=True) \\\n",
    "             .append({col:'NaNs share', label:np.round(data.isnull().sum() / data.shape[0], 4)}, ignore_index=True) \\\n",
    "    \n",
    "def desc1(col):\n",
    "    d0 = _desc(tr[col], col, 'Train')\n",
    "    d1 = _desc(tr.loc[tr[label] == 1, col], col, 'Train fraud')\n",
    "    d2 = _desc(tr.loc[tr[label] == 0, col], col, 'Train Not fraud')\n",
    "    d3 = _desc(te[col], col, 'Test')\n",
    "    #\n",
    "    n_cut = int(te.shape[0] * 0.2)#这里是控制test后面的两部分分界线\n",
    "    d4 = _desc(te.loc[:n_cut, col], col, 'Test public')#这里将test又分为了两部分，我可以再按月划分\n",
    "    d5 = _desc(te.loc[n_cut:, col], col, 'Test private')\n",
    "    dd = d0.merge(d1).merge(d2).merge(d3).merge(d4).merge(d5)\n",
    "    display(dd)\n",
    "    \n",
    "    if col not in ex_list:\n",
    "        h('<b>Most popular values (NaN = -999):</b>')\n",
    "        N = 10\n",
    "        d0 = tr[[label,col]].fillna(-999).groupby(col)[label].agg(['size','mean','sum']\n",
    "                                                                 ).reset_index().sort_values('size', ascending=False).reset_index(drop=True)\n",
    "        d1 = te[[ID,col]].fillna(-999).groupby(col)[ID].count().reset_index()\n",
    "        dd = d0.merge(d1, how='left', on=col).head(N)\n",
    "        dd = dd.rename({'size':'Count in train (desc)','mean':'Mean target','sum':'Sum target',ID:'Count in test'}, axis=1)\n",
    "        display(dd)\n",
    "\n",
    "        h('<b>Biggest fraud sum values in train (NaN = -999):</b>')\n",
    "        dd = d0.sort_values('sum', ascending=False).reset_index(drop=True).head(N).merge(d1, how='left', on=col)\n",
    "        dd = dd.rename({'size':'Count in train','mean':'Mean target','sum':'Sum target (desc)',ID:'Count in test'}, axis=1)\n",
    "        display(dd)\n",
    "\n",
    "def hist1(col):\n",
    "    plt.figure(figsize=(15, 3))\n",
    "    plt.subplot(121)\n",
    "    plt.hist(tr[col], bins=70);\n",
    "    plt.title('Train histogram: ' + col);\n",
    "    plt.subplot(122)\n",
    "    plt.hist(te[col], bins=70);\n",
    "    plt.title('Test histogram: ' + col);\n",
    "    plt.show()\n",
    "\n",
    "def corr1(col):\n",
    "    N = None #10000\n",
    "    num_vars = [f for f in tr.columns if tr[f].dtype != 'object']\n",
    "    trx = tr.head(N) if N is not None else tr.copy()\n",
    "    corrs = trx[num_vars].corrwith(trx[col]).reset_index().sort_values(0, ascending=False).reset_index(drop=True).rename(\n",
    "        {'index':'Column',0:'Correlation with ' + col}, axis=1)\n",
    "    h('<b>Most correlated values with ' + col + ':</b>')\n",
    "    trx = pd.concat([corrs.head(6), corrs.dropna().tail(5)])\n",
    "    def linkx(val):\n",
    "        return '<a href=\"#c_{}\">{}</a>'.format(val, val) if val in included_cols else val\n",
    "    trx['Column'] = trx['Column'].apply(linkx)\n",
    "    h(trx.to_html(escape=False))\n",
    "    \n",
    "def numeric(col):\n",
    "    timehist1(col)\n",
    "    hist1(col)\n",
    "    desc1(col)\n",
    "    corr1(col) \n",
    "    \n",
    "def categorical(col):\n",
    "    desc1(col)\n",
    "\n",
    "def proc(col):\n",
    "    if col not in [label,time,ID]:\n",
    "        categorical(col) if tr[col].dtype == 'object' else numeric(col)"
   ]
  },
  {
   "cell_type": "code",
   "execution_count": null,
   "id": "573aab06",
   "metadata": {},
   "outputs": [],
   "source": [
    "included_cols = list(tr.columns.values[:COLS_TO_SHOW])"
   ]
  }
 ],
 "metadata": {
  "kernelspec": {
   "display_name": "Python 3 (ipykernel)",
   "language": "python",
   "name": "python3"
  },
  "language_info": {
   "codemirror_mode": {
    "name": "ipython",
    "version": 3
   },
   "file_extension": ".py",
   "mimetype": "text/x-python",
   "name": "python",
   "nbconvert_exporter": "python",
   "pygments_lexer": "ipython3",
   "version": "3.8.5"
  },
  "toc": {
   "base_numbering": 1,
   "nav_menu": {},
   "number_sections": true,
   "sideBar": true,
   "skip_h1_title": false,
   "title_cell": "Table of Contents",
   "title_sidebar": "Contents",
   "toc_cell": false,
   "toc_position": {},
   "toc_section_display": true,
   "toc_window_display": false
  },
  "varInspector": {
   "cols": {
    "lenName": 16,
    "lenType": 16,
    "lenVar": 40
   },
   "kernels_config": {
    "python": {
     "delete_cmd_postfix": "",
     "delete_cmd_prefix": "del ",
     "library": "var_list.py",
     "varRefreshCmd": "print(var_dic_list())"
    },
    "r": {
     "delete_cmd_postfix": ") ",
     "delete_cmd_prefix": "rm(",
     "library": "var_list.r",
     "varRefreshCmd": "cat(var_dic_list()) "
    }
   },
   "types_to_exclude": [
    "module",
    "function",
    "builtin_function_or_method",
    "instance",
    "_Feature"
   ],
   "window_display": false
  }
 },
 "nbformat": 4,
 "nbformat_minor": 5
}
