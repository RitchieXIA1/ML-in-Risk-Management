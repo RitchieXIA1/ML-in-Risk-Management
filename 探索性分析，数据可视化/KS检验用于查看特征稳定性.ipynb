{
 "cells": [
  {
   "cell_type": "code",
   "execution_count": null,
   "id": "533f49c7",
   "metadata": {},
   "outputs": [],
   "source": [
    "#KS检验，可以逐个分析两个数据集里各特征的分布是否一致\n",
    "#如果k值较高大于0.1，P值为0，则两个分布基本不一致\n",
    "from scipy.stats import ks_2samp\n",
    "\n",
    "def corr(train, test,cols):\n",
    "    # assuming first column is `class_name_id`\n",
    "\n",
    "\n",
    "    for class_name in cols:\n",
    "        # all correlations\n",
    "        print('\\n Class: %s' % class_name)\n",
    "\n",
    "        ks_stat, p_value = ks_2samp(train[class_name].values,\n",
    "                                    test[class_name].values)\n",
    "        print(' Kolmogorov-Smirnov test:    KS-stat = %.6f    p-value = %.3e\\n'\n",
    "              % (ks_stat, p_value))\n",
    "\n",
    "corr(train, test,cols=['year','month','day','hour','minute','weekday'])\n",
    "corr(train, test,cols=['year','month','day','hour','minute','weekday'])"
   ]
  },
  {
   "cell_type": "code",
   "execution_count": null,
   "id": "1cd0e3e4",
   "metadata": {},
   "outputs": [],
   "source": [
    "#类别型变量用value_count再核对以下\n",
    "#数值型变量可以画分布图\n",
    "train.year.value_counts()\n",
    "test.year.value_counts()"
   ]
  }
 ],
 "metadata": {
  "kernelspec": {
   "display_name": "Python 3 (ipykernel)",
   "language": "python",
   "name": "python3"
  },
  "language_info": {
   "codemirror_mode": {
    "name": "ipython",
    "version": 3
   },
   "file_extension": ".py",
   "mimetype": "text/x-python",
   "name": "python",
   "nbconvert_exporter": "python",
   "pygments_lexer": "ipython3",
   "version": "3.8.5"
  },
  "toc": {
   "base_numbering": 1,
   "nav_menu": {},
   "number_sections": true,
   "sideBar": true,
   "skip_h1_title": false,
   "title_cell": "Table of Contents",
   "title_sidebar": "Contents",
   "toc_cell": false,
   "toc_position": {},
   "toc_section_display": true,
   "toc_window_display": false
  },
  "varInspector": {
   "cols": {
    "lenName": 16,
    "lenType": 16,
    "lenVar": 40
   },
   "kernels_config": {
    "python": {
     "delete_cmd_postfix": "",
     "delete_cmd_prefix": "del ",
     "library": "var_list.py",
     "varRefreshCmd": "print(var_dic_list())"
    },
    "r": {
     "delete_cmd_postfix": ") ",
     "delete_cmd_prefix": "rm(",
     "library": "var_list.r",
     "varRefreshCmd": "cat(var_dic_list()) "
    }
   },
   "types_to_exclude": [
    "module",
    "function",
    "builtin_function_or_method",
    "instance",
    "_Feature"
   ],
   "window_display": false
  }
 },
 "nbformat": 4,
 "nbformat_minor": 5
}
