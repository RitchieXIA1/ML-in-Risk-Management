{
 "cells": [
  {
   "cell_type": "code",
   "execution_count": null,
   "id": "4a70abe6",
   "metadata": {},
   "outputs": [],
   "source": [
    "plt.figure(figsize=(20, 16))  \n",
    "column = train_data_scaler.columns.tolist()  \n",
    "mcorr = train_data_scaler[column].corr(method=\"spearman\")  \n",
    "mask = np.zeros_like(mcorr, dtype=np.bool)  \n",
    "mask[np.triu_indices_from(mask)] = True  "
   ]
  },
  {
   "cell_type": "code",
   "execution_count": null,
   "id": "dab32e6c",
   "metadata": {},
   "outputs": [],
   "source": [
    "#跟target相关性大于0.1\n",
    "mcorr=mcorr.abs()\n",
    "numerical_corr=mcorr[mcorr['target']>0.1]['target']\n",
    "print(numerical_corr.sort_values(ascending=False))\n",
    "\n",
    "index0 = numerical_corr.sort_values(ascending=False).index\n",
    "print(train_data_scaler[index0].corr('spearman'))"
   ]
  },
  {
   "cell_type": "code",
   "execution_count": null,
   "id": "25156664",
   "metadata": {},
   "outputs": [],
   "source": [
    "#筛选出要去除共线性的变量\n",
    "features_corr = numerical_corr.sort_values(ascending=False).reset_index()\n",
    "features_corr.columns = ['features_and_target', 'corr']\n",
    "features_corr_select = features_corr[features_corr['corr']>0.3] # 筛选出大于相关性大于0.3的特征\n",
    "print(features_corr_select)\n",
    "select_features = [col for col in features_corr_select['features_and_target'] if col not in ['target']]\n",
    "new_train_data_corr_select = train_data_scaler[select_features+['target']]\n",
    "new_test_data_corr_select = test_data_scaler[select_features]"
   ]
  },
  {
   "cell_type": "code",
   "execution_count": null,
   "id": "3e6df26d",
   "metadata": {},
   "outputs": [],
   "source": [
    "from statsmodels.stats.outliers_influence import variance_inflation_factor #多重共线性方差膨胀因子\n",
    "\n",
    "#多重共线性\n",
    "new_numerical=['V0', 'V2', 'V3', 'V4', 'V5', 'V6', 'V10','V11', \n",
    "                         'V13', 'V15', 'V16', 'V18', 'V19', 'V20', 'V22','V24','V30', 'V31', 'V37']\n",
    "X=np.matrix(train_data_scaler[new_numerical])\n",
    "VIF_list=[variance_inflation_factor(X, i) for i in range(X.shape[1])]\n",
    "VIF_list"
   ]
  },
  {
   "cell_type": "code",
   "execution_count": null,
   "id": "d8d101db",
   "metadata": {},
   "outputs": [],
   "source": [
    "from sklearn.decomposition import PCA   #主成分分析法\n",
    "\n",
    "#PCA方法降维\n",
    "#保持90%的信息\n",
    "pca = PCA(n_components=0.9)\n",
    "new_train_pca_90 = pca.fit_transform(train_data_scaler.iloc[:,0:-1])\n",
    "new_test_pca_90 = pca.transform(test_data_scaler)\n",
    "new_train_pca_90 = pd.DataFrame(new_train_pca_90)\n",
    "new_test_pca_90 = pd.DataFrame(new_test_pca_90)\n",
    "new_train_pca_90['target'] = train_data_scaler['target']\n",
    "new_train_pca_90.describe()"
   ]
  },
  {
   "cell_type": "code",
   "execution_count": null,
   "id": "f51261ce",
   "metadata": {},
   "outputs": [],
   "source": [
    "#对比一下\n",
    "train_data_scaler.describe()"
   ]
  },
  {
   "cell_type": "code",
   "execution_count": null,
   "id": "b2791478",
   "metadata": {},
   "outputs": [],
   "source": [
    "#保留16个主成分\n",
    "pca = PCA(n_components=0.95)\n",
    "new_train_pca_16 = pca.fit_transform(train_data_scaler.iloc[:,0:-1])\n",
    "new_test_pca_16 = pca.transform(test_data_scaler)\n",
    "new_train_pca_16 = pd.DataFrame(new_train_pca_16)\n",
    "new_test_pca_16 = pd.DataFrame(new_test_pca_16)\n",
    "new_train_pca_16['target'] = train_data_scaler['target']\n",
    "new_train_pca_16.describe()"
   ]
  }
 ],
 "metadata": {
  "kernelspec": {
   "display_name": "Python 3",
   "language": "python",
   "name": "python3"
  },
  "language_info": {
   "codemirror_mode": {
    "name": "ipython",
    "version": 3
   },
   "file_extension": ".py",
   "mimetype": "text/x-python",
   "name": "python",
   "nbconvert_exporter": "python",
   "pygments_lexer": "ipython3",
   "version": "3.8.8"
  },
  "varInspector": {
   "cols": {
    "lenName": 16,
    "lenType": 16,
    "lenVar": 40
   },
   "kernels_config": {
    "python": {
     "delete_cmd_postfix": "",
     "delete_cmd_prefix": "del ",
     "library": "var_list.py",
     "varRefreshCmd": "print(var_dic_list())"
    },
    "r": {
     "delete_cmd_postfix": ") ",
     "delete_cmd_prefix": "rm(",
     "library": "var_list.r",
     "varRefreshCmd": "cat(var_dic_list()) "
    }
   },
   "types_to_exclude": [
    "module",
    "function",
    "builtin_function_or_method",
    "instance",
    "_Feature"
   ],
   "window_display": false
  }
 },
 "nbformat": 4,
 "nbformat_minor": 5
}
