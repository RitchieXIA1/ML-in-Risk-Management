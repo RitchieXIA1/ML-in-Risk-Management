{
 "cells": [
  {
   "cell_type": "code",
   "execution_count": null,
   "id": "deb2ed13",
   "metadata": {},
   "outputs": [],
   "source": [
    "def missrate_by_month(x_with_month, month_col, x_cols):\n",
    "    \"\"\"\n",
    "    按月统计缺失率\n",
    "    :param x_cols: x变量列名\n",
    "    :param month_col: 月份时间列名\n",
    "    :param x_with_month: 包含月份的数据\n",
    "    :return:\n",
    "    \"\"\"\n",
    "    df = x_with_month.groupby(month_col)[x_cols].apply(lambda x: x.isna().sum() / len(x))\n",
    "    df = df.T\n",
    "    df['miss_rate_std'] = df.std(axis=1)\n",
    "    return df"
   ]
  },
  {
   "cell_type": "code",
   "execution_count": null,
   "id": "e4b16205",
   "metadata": {},
   "outputs": [],
   "source": [
    "# 定义分箱方法\n",
    "Combiner = toad.transform.Combiner()\n",
    "Combiner.fit(all_x_y,\n",
    "             y=data_utils.label,\n",
    "             n_bins=6,\n",
    "             method='quantile',\n",
    "             empty_separate=True)\n",
    "# 计算psi\n",
    "var_psi = toad.metrics.PSI(all_x_y.iloc[:500, :],\n",
    "                           all_x_y.iloc[500:, :],\n",
    "                           combiner=Combiner)\n",
    "var_psi_df = var_psi.to_frame(name='psi')\n",
    "\n",
    "selected_cols = var_psi[var_psi_df.psi < 0.1].index.tolist()\n",
    "print(\"各特征的psi值计算结果: \\n\", var_psi_df)\n",
    "print(\"设置psi阈值为0.1, 筛选得到%s个特征: \\n\" % len(selected_cols), selected_cols)\n"
   ]
  },
  {
   "cell_type": "code",
   "execution_count": 3,
   "id": "78334ded",
   "metadata": {
    "ExecuteTime": {
     "end_time": "2022-07-26T07:33:24.259406Z",
     "start_time": "2022-07-26T07:33:23.083895Z"
    }
   },
   "outputs": [
    {
     "name": "stdout",
     "output_type": "stream",
     "text": [
      "特征'age.in.years'的按月分箱逾期率统计结果: \n",
      "                   mean                                        \n",
      "month          2020-01   2020-02   2020-03   2020-04   2020-05\n",
      "age.in.years                                                  \n",
      "0             0.407407  0.304348  0.352941  0.439024  0.541667\n",
      "1             0.393939  0.314286  0.407407  0.210526  0.250000\n",
      "2             0.394737  0.218750  0.307692  0.350000  0.302326\n",
      "3             0.250000  0.232558  0.285714  0.216216  0.300000\n",
      "4             0.166667  0.266667  0.280000  0.311111  0.250000\n",
      "5             0.297297  0.352941  0.218750  0.230769  0.153846\n",
      "各特征按月逾期率的标准差: \n",
      "                                                     variation\n",
      "duration.in.month                                    0.837724\n",
      "credit.amount                                        1.378574\n",
      "age.in.years                                         1.445965\n",
      "present.residence.since                              1.189319\n",
      "number.of.existing.credits.at.this.bank              0.447214\n",
      "installment.rate.in.percentage.of.disposable.in...   1.058218\n",
      "number.of.people.being.liable.to.provide.mainte...   0.000000\n",
      "status.of.existing.checking.account                  0.298142\n",
      "credit.history                                       0.610532\n",
      "savings.account.and.bonds                            0.776598\n",
      "present.employment.since                             0.472341\n",
      "personal.status.and.sex                              0.814050\n",
      "other.debtors.or.guarantors                          0.547723\n",
      "property                                             0.533845\n",
      "other.installment.plans                              0.447214\n",
      "housing                                              0.000000\n",
      "job                                                  0.365148\n",
      "telephone                                            0.000000\n",
      "foreign.worker                                       0.447214\n",
      "purpose                                              0.726830\n",
      "设置标准差阈值为0.8, 筛选得到14个特征: \n",
      " ['number.of.existing.credits.at.this.bank', 'number.of.people.being.liable.to.provide.maintenance.for', 'status.of.existing.checking.account', 'credit.history', 'savings.account.and.bonds', 'present.employment.since', 'other.debtors.or.guarantors', 'property', 'other.installment.plans', 'housing', 'job', 'telephone', 'foreign.worker', 'purpose']\n"
     ]
    }
   ],
   "source": [
    "import sys\n",
    "sys.path.append(\"./\")\n",
    "sys.path.append(\"../\")\n",
    "\n",
    "import toad\n",
    "import pandas as pd\n",
    "from utils import data_utils\n",
    "\n",
    "\n",
    "# 导入添加month列的数据\n",
    "model_data = data_utils.get_data()\n",
    "\n",
    "x = model_data[data_utils.x_cols]\n",
    "y = model_data[data_utils.label]\n",
    "\n",
    "# 分箱\n",
    "Combiner = toad.transform.Combiner()\n",
    "x_cat = Combiner.fit_transform(x, y, n_bins=6, method='quantile', empty_separate=True)\n",
    "\n",
    "# 合并标签和month\n",
    "x_cat_with_month = x_cat.merge(model_data[['month', 'creditability']], left_index=True, right_index=True)\n",
    "\n",
    "# 单个特征对比逾期率\n",
    "feature_col = 'age.in.years'\n",
    "x_cat_one = x_cat_with_month[[feature_col, 'month', 'creditability']]\n",
    "feature_var = x_cat_one.pivot_table(index=feature_col,\n",
    "                                columns='month',\n",
    "                                values='creditability',\n",
    "                                aggfunc=['mean'])\n",
    "print(\"特征'age.in.years'的按月分箱逾期率统计结果: \\n\", feature_var)\n",
    "\n",
    "\n",
    "# 计算特征按月逾期率波动值\n",
    "def variation_by_month(df, time_col, columns, label_col):\n",
    "    variation_dict = {}\n",
    "    for col in columns:\n",
    "        feature_v = df.pivot_table(\n",
    "            index=col, columns=time_col, values=label_col, aggfunc=['mean'])\n",
    "        variation_dict[col] = feature_v.rank().std(axis=1).mean()\n",
    "\n",
    "    return pd.DataFrame([variation_dict], index=['variation']).T\n",
    "\n",
    "\n",
    "var_badrate = variation_by_month(x_cat_with_month, 'month', data_utils.x_cols, 'creditability')\n",
    "print(\"各特征按月逾期率的标准差: \\n\", var_badrate)\n",
    "\n",
    "selected_cols = var_badrate[var_badrate['variation'] < 0.8].index.tolist()\n",
    "print(\"设置标准差阈值为0.8, 筛选得到%s个特征: \\n\" % len(selected_cols), selected_cols)\n"
   ]
  },
  {
   "cell_type": "code",
   "execution_count": 5,
   "id": "d9f43afd",
   "metadata": {
    "ExecuteTime": {
     "end_time": "2022-07-26T07:39:16.697250Z",
     "start_time": "2022-07-26T07:39:16.689047Z"
    }
   },
   "outputs": [],
   "source": [
    "import sys\n",
    "sys.path.append(\"./\")\n",
    "sys.path.append(\"../\")\n",
    "\n",
    "import numpy as np\n",
    "import pandas as pd\n",
    "from utils.data_utils import stamp_to_date\n",
    "from utils.data_utils import date_to_week\n",
    "\n",
    "\n",
    "def data_preprocess(data, time_col, back_time, dtypes_dict):\n",
    "    \"\"\"\n",
    "    数据预处理函数\n",
    "    :param data: 待处理的数据\n",
    "    :param time_col: 回溯依据的时间列名称\n",
    "    :param back_time: 特征计算时间，datetime.datetime时间格式\n",
    "    :param dtypes_dict: 指定列字段类型的字典，如{'col1':int}\n",
    "    :return: 清洗完成的数据\n",
    "    \"\"\"\n",
    "    # 删除time_col为空的行\n",
    "    data = data[~data[time_col].isin(['nan', np.nan, 'NAN', 'null', 'NULL', 'Null'])]\n",
    "    # 将时间列的时间戳转为日期格式\n",
    "    data[time_col] = data[time_col].apply(stamp_to_date)\n",
    "    # 过滤订单创建时间在back_time之后的数据，避免特征穿越\n",
    "    data = data[data[time_col] <= back_time]\n",
    "    # 删除整条缺失的数据\n",
    "    data.dropna(how='all', inplace=True)\n",
    "    # 空字符串替换为np.nan\n",
    "    data.replace('', np.nan, inplace=True)\n",
    "    # 单个字段缺失填充为0\n",
    "    data.fillna(0, inplace=True)\n",
    "    # 去重\n",
    "    data.drop_duplicates(keep='first', inplace=True)\n",
    "    # 字段格式转换\n",
    "    data = data.astype(dtypes_dict)\n",
    "    # 补充字段\n",
    "    data['create_time_week'] = data[time_col].apply(date_to_week)\n",
    "    data['is_weekend'] = data['create_time_week'].apply(lambda x: 1 if x > 5 else 0)\n",
    "\n",
    "    return data"
   ]
  },
  {
   "cell_type": "code",
   "execution_count": null,
   "id": "a65f742a",
   "metadata": {},
   "outputs": [],
   "source": []
  }
 ],
 "metadata": {
  "kernelspec": {
   "display_name": "Python 3",
   "language": "python",
   "name": "python3"
  },
  "language_info": {
   "codemirror_mode": {
    "name": "ipython",
    "version": 3
   },
   "file_extension": ".py",
   "mimetype": "text/x-python",
   "name": "python",
   "nbconvert_exporter": "python",
   "pygments_lexer": "ipython3",
   "version": "3.8.8"
  },
  "varInspector": {
   "cols": {
    "lenName": 16,
    "lenType": 16,
    "lenVar": 40
   },
   "kernels_config": {
    "python": {
     "delete_cmd_postfix": "",
     "delete_cmd_prefix": "del ",
     "library": "var_list.py",
     "varRefreshCmd": "print(var_dic_list())"
    },
    "r": {
     "delete_cmd_postfix": ") ",
     "delete_cmd_prefix": "rm(",
     "library": "var_list.r",
     "varRefreshCmd": "cat(var_dic_list()) "
    }
   },
   "types_to_exclude": [
    "module",
    "function",
    "builtin_function_or_method",
    "instance",
    "_Feature"
   ],
   "window_display": false
  }
 },
 "nbformat": 4,
 "nbformat_minor": 5
}
