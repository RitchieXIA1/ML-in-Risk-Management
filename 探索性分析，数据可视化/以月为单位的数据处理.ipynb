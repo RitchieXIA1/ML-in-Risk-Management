{
 "cells": [
  {
   "cell_type": "code",
   "execution_count": null,
   "id": "b89bbf36",
   "metadata": {},
   "outputs": [],
   "source": [
    "#这只是申请表，对逾期表之类的其他表也可以做相同的操作，然后就可以得到每个月的逾期，还款，申请，用款情况\n",
    "# DAYS_DECISION为申请时间距离当前申请时刻的时间间隔，将其转为月份\n",
    "df_pre_application['appl_month'] = df_pre_application.DAYS_DECISION.apply(lambda x: int(x/30))\n",
    "# NAME_CONTRACT_TYPE为标的的类型，消费贷，现金贷，先进行onehot，后面求和得到每月各类型申请的次数\n",
    "df_pre_application = pd.concat([df_pre_application, pd.get_dummies(df_pre_application.NAME_CONTRACT_TYPE, prefix='pre_appl_type_cnt')], axis=1)\n",
    "# NAME_CONTRACT_STATUS为标的状态，与通过，拒绝，有额未使用等，同上\n",
    "df_pre_application = pd.concat([df_pre_application, pd.get_dummies(df_pre_application.NAME_CONTRACT_STATUS, prefix='pre_appl_type_status_cnt')], axis=1)\n",
    "\n",
    "# 按月聚合：NAME_CONTRACT_TYPE\n",
    "df_pre_type_sum_all = df_pre_application.groupby(['SK_ID_CURR', 'appl_month']).agg({'pre_appl_type_cnt_Cash loans': np.sum,\n",
    "'pre_appl_type_cnt_Consumer loans': np.sum,\n",
    "'pre_appl_type_cnt_Revolving loans':np.sum})\n",
    "df_pre_type_sum_all.reset_index(inplace=True)\n",
    "# 按月聚合：NAME_CONTRACT_STATUS\n",
    "df_pre_status_sum_all = df_pre_application.groupby([c]).agg({'pre_appl_type_status_cnt_Approved':np.sum,\n",
    "'pre_appl_type_status_cnt_Canceled':np.sum,\n",
    "'pre_appl_type_status_cnt_Refused':np.sum})\n",
    "df_pre_status_sum_all.reset_index(inplace=True)\n",
    "\n",
    "# 按月聚合： 对申请的金额，授信的额度，每月还款金额进行sum\n",
    "agg_dict = {'AMT_ANNUITY': np.sum,'AMT_APPLICATION': np.sum,'AMT_CREDIT': np.sum}\n",
    "df_pre_amt_sum_all = df_pre_application.groupby(['SK_ID_CURR', 'appl_month']).agg(agg_dict)\n",
    "df_pre_amt_sum_all.columns = ['pre_appl_month_sum_' + f for f in df_pre_amt_sum_all.columns.tolist()]\n",
    "df_pre_amt_sum_all.reset_index(inplace=True)\n",
    "\n",
    "# 按月聚合： 每月申请的总次数\n",
    "df_pre_app_cnt = df_pre_application.groupby(['SK_ID_CURR', 'appl_month']).agg({'SK_ID_PREV': np.size})\n",
    "df_pre_app_cnt.rename(columns={'SK_ID_PREV': 'pre_appl_cnt'}, inplace=True)\n",
    "df_pre_app_cnt.reset_index(inplace=True)\n",
    "\n",
    "# 合并上述信息，即可得到历史申请记录在每月的状态\n",
    "df_pre_app_combined = pd.merge(df_pre_amt_sum_all, df_pre_type_sum_all, on=['SK_ID_CURR', 'appl_month'], how='inner')\n",
    "df_pre_app_combined = pd.merge(df_pre_app_combined, df_pre_status_sum_all, on=['SK_ID_CURR', 'appl_month'], how='inner')\n",
    "df_pre_app_combined = pd.merge(df_pre_app_combined, df_pre_app_cnt, on=['SK_ID_CURR', 'appl_month'], how='inner')"
   ]
  },
  {
   "cell_type": "code",
   "execution_count": null,
   "id": "c662ea6a",
   "metadata": {},
   "outputs": [],
   "source": [
    "#之后可以把这些时序信息全部聚合起来建立模型"
   ]
  }
 ],
 "metadata": {
  "kernelspec": {
   "display_name": "Python 3",
   "language": "python",
   "name": "python3"
  },
  "language_info": {
   "codemirror_mode": {
    "name": "ipython",
    "version": 3
   },
   "file_extension": ".py",
   "mimetype": "text/x-python",
   "name": "python",
   "nbconvert_exporter": "python",
   "pygments_lexer": "ipython3",
   "version": "3.8.8"
  },
  "varInspector": {
   "cols": {
    "lenName": 16,
    "lenType": 16,
    "lenVar": 40
   },
   "kernels_config": {
    "python": {
     "delete_cmd_postfix": "",
     "delete_cmd_prefix": "del ",
     "library": "var_list.py",
     "varRefreshCmd": "print(var_dic_list())"
    },
    "r": {
     "delete_cmd_postfix": ") ",
     "delete_cmd_prefix": "rm(",
     "library": "var_list.r",
     "varRefreshCmd": "cat(var_dic_list()) "
    }
   },
   "types_to_exclude": [
    "module",
    "function",
    "builtin_function_or_method",
    "instance",
    "_Feature"
   ],
   "window_display": false
  }
 },
 "nbformat": 4,
 "nbformat_minor": 5
}
