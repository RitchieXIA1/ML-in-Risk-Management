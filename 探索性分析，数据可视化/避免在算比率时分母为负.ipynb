{
 "cells": [
  {
   "cell_type": "code",
   "execution_count": null,
   "id": "2689ed12",
   "metadata": {},
   "outputs": [],
   "source": [
    "def DeivdedByZero(nominator, denominator):\n",
    "    '''\n",
    "    当分母为0时，返回0；否则返回正常值\n",
    "    '''\n",
    "    if denominator == 0:\n",
    "        return 0\n",
    "    else:\n",
    "        return nominator*1.0/denominator"
   ]
  },
  {
   "cell_type": "code",
   "execution_count": null,
   "id": "e52e0b7e",
   "metadata": {},
   "outputs": [],
   "source": [
    "#将第一列和第二列数字依次相除 str（数字）可以让字符串能够相加减\n",
    "data1GroupbyIdx[str(var) + '_' + str(tw) + '_avg_count'] = data1GroupbyIdx[[str(var)+'_'+str(tw)+'_count',str(var) + '_' + str(tw) + '_unique']].\\\n",
    "            apply(lambda x: DeivdedByZero(x[0],x[1]), axis=1)"
   ]
  }
 ],
 "metadata": {
  "kernelspec": {
   "display_name": "Python 3",
   "language": "python",
   "name": "python3"
  },
  "language_info": {
   "codemirror_mode": {
    "name": "ipython",
    "version": 3
   },
   "file_extension": ".py",
   "mimetype": "text/x-python",
   "name": "python",
   "nbconvert_exporter": "python",
   "pygments_lexer": "ipython3",
   "version": "3.8.8"
  },
  "varInspector": {
   "cols": {
    "lenName": 16,
    "lenType": 16,
    "lenVar": 40
   },
   "kernels_config": {
    "python": {
     "delete_cmd_postfix": "",
     "delete_cmd_prefix": "del ",
     "library": "var_list.py",
     "varRefreshCmd": "print(var_dic_list())"
    },
    "r": {
     "delete_cmd_postfix": ") ",
     "delete_cmd_prefix": "rm(",
     "library": "var_list.r",
     "varRefreshCmd": "cat(var_dic_list()) "
    }
   },
   "types_to_exclude": [
    "module",
    "function",
    "builtin_function_or_method",
    "instance",
    "_Feature"
   ],
   "window_display": false
  }
 },
 "nbformat": 4,
 "nbformat_minor": 5
}
