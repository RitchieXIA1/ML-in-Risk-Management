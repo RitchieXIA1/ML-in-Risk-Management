{
 "cells": [
  {
   "cell_type": "code",
   "execution_count": null,
   "id": "9061bb39",
   "metadata": {},
   "outputs": [],
   "source": [
    "class ContinuousFeatureConverter:\n",
    "    def __init__(self, name, feature, log_transform):\n",
    "        self.name = name\n",
    "        self.skew = feature.skew()\n",
    "        self.log_transform = log_transform\n",
    "        \n",
    "    def transform(self, feature):\n",
    "        if self.skew > 1:\n",
    "            feature = self.log_transform(feature)\n",
    "        \n",
    "        mean = feature.mean()\n",
    "        std = feature.std()\n",
    "        return (feature - mean)/(std + 1e-6)        "
   ]
  },
  {
   "cell_type": "code",
   "execution_count": null,
   "id": "86a90e96",
   "metadata": {},
   "outputs": [],
   "source": [
    "from tqdm.autonotebook import tqdm\n",
    "\n",
    "feature_converters = {}\n",
    "continuous_features_processed = []\n",
    "continuous_features_processed_test = []\n",
    "\n",
    "for f in tqdm(continuous_features):\n",
    "    feature = X[f]\n",
    "    feature_test = X_test[f]\n",
    "    log = lambda x: np.log10(x + 1 - min(0, x.min()))\n",
    "    converter = ContinuousFeatureConverter(f, feature, log)\n",
    "    feature_converters[f] = converter\n",
    "    continuous_features_processed.append(converter.transform(feature))\n",
    "    continuous_features_processed_test.append(converter.transform(feature_test))\n",
    "    \n",
    "continuous_train = pd.DataFrame({s.name: s for s in continuous_features_processed}).astype(np.float32)\n",
    "continuous_test = pd.DataFrame({s.name: s for s in continuous_features_processed_test}).astype(np.float32)"
   ]
  },
  {
   "cell_type": "code",
   "execution_count": null,
   "id": "cc90717b",
   "metadata": {},
   "outputs": [],
   "source": [
    "from sklearn.preprocessing import LabelEncoder, OneHotEncoder\n",
    "from tqdm.autonotebook import tqdm\n",
    "\n",
    "def categorical_encode(df_train, df_test, categorical_features, n_values=140):\n",
    "    df_train = df_train[categorical_features].astype(str)\n",
    "    df_test = df_test[categorical_features].astype(str)\n",
    "    \n",
    "    categories = []\n",
    "    #频率编码\n",
    "    for column in tqdm(categorical_features):\n",
    "        categories.append(list(df_train[column].value_counts().iloc[: n_values - 1].index) + ['Other'])\n",
    "        values2use = categories[-1]\n",
    "        df_train[column] = df_train[column].apply(lambda x: x if x in values2use else 'Other')\n",
    "        df_test[column] = df_test[column].apply(lambda x: x if x in values2use else 'Other')\n",
    "        \n",
    "    #对频率编码后的结果进行onehot 本质上是减少了类别基数（把多余类别设为other）\n",
    "    ohe = OneHotEncoder(categories=categories)\n",
    "    ohe.fit(pd.concat([df_train, df_test]))\n",
    "    df_train = pd.DataFrame(ohe.transform(df_train).toarray()).astype(np.float16)\n",
    "    df_test = pd.DataFrame(ohe.transform(df_test).toarray()).astype(np.float16)\n",
    "    return df_train, df_test"
   ]
  },
  {
   "cell_type": "code",
   "execution_count": null,
   "id": "43666f3b",
   "metadata": {},
   "outputs": [],
   "source": [
    "for feat in categorical_features:\n",
    "    print(X[feat].nunique())"
   ]
  },
  {
   "cell_type": "code",
   "execution_count": null,
   "id": "680dd474",
   "metadata": {},
   "outputs": [],
   "source": [
    "train_categorical, test_categorical = categorical_encode(X, X_test, categorical_features)"
   ]
  }
 ],
 "metadata": {
  "kernelspec": {
   "display_name": "Python 3",
   "language": "python",
   "name": "python3"
  },
  "language_info": {
   "codemirror_mode": {
    "name": "ipython",
    "version": 3
   },
   "file_extension": ".py",
   "mimetype": "text/x-python",
   "name": "python",
   "nbconvert_exporter": "python",
   "pygments_lexer": "ipython3",
   "version": "3.8.8"
  },
  "varInspector": {
   "cols": {
    "lenName": 16,
    "lenType": 16,
    "lenVar": 40
   },
   "kernels_config": {
    "python": {
     "delete_cmd_postfix": "",
     "delete_cmd_prefix": "del ",
     "library": "var_list.py",
     "varRefreshCmd": "print(var_dic_list())"
    },
    "r": {
     "delete_cmd_postfix": ") ",
     "delete_cmd_prefix": "rm(",
     "library": "var_list.r",
     "varRefreshCmd": "cat(var_dic_list()) "
    }
   },
   "types_to_exclude": [
    "module",
    "function",
    "builtin_function_or_method",
    "instance",
    "_Feature"
   ],
   "window_display": false
  }
 },
 "nbformat": 4,
 "nbformat_minor": 5
}
