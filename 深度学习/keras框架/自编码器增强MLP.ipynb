{
 "cells": [
  {
   "attachments": {
    "AEMLP.png": {
     "image/png": "[encoded data removed]"
    }
   },
   "cell_type": "markdown",
   "id": "a860c5ce",
   "metadata": {
    "papermill": {
     "duration": 0.010278,
     "end_time": "2021-09-02T00:02:39.517594",
     "exception": false,
     "start_time": "2021-09-02T00:02:39.507316",
     "status": "completed"
    },
    "tags": []
   },
   "source": [
    "# Jane Street: Supervised Autoencoder MLP\n",
    "![AEMLP.png](attachment:AEMLP.png)\n",
    "\n",
    "Reference:\n",
    "[Bottleneck encoder + MLP + Keras Tuner 8601c5][1]\n",
    "\n",
    "[1]: https://www.kaggle.com/aimind/bottleneck-encoder-mlp-keras-tuner-8601c5"
   ]
  },
  {
   "cell_type": "code",
   "execution_count": 71,
   "id": "48c7c48d",
   "metadata": {
    "ExecuteTime": {
     "end_time": "2022-07-27T04:42:48.264699Z",
     "start_time": "2022-07-27T04:42:48.252592Z"
    },
    "_kg_hide-output": true,
    "execution": {
     "iopub.execute_input": "2021-09-02T00:02:39.548820Z",
     "iopub.status.busy": "2021-09-02T00:02:39.548199Z",
     "iopub.status.idle": "2021-09-02T00:02:44.950129Z",
     "shell.execute_reply": "2021-09-02T00:02:44.949544Z",
     "shell.execute_reply.started": "2021-09-01T23:54:48.425893Z"
    },
    "papermill": {
     "duration": 5.423485,
     "end_time": "2021-09-02T00:02:44.950275",
     "exception": false,
     "start_time": "2021-09-02T00:02:39.526790",
     "status": "completed"
    },
    "tags": []
   },
   "outputs": [],
   "source": [
    "import warnings\n",
    "warnings.filterwarnings('ignore')\n",
    "import os, gc\n",
    "import pandas as pd\n",
    "import numpy as np\n",
    "from hyperopt import hp, fmin, tpe, Trials\n",
    "from hyperopt.pyll.base import scope\n",
    "from sklearn.metrics import roc_auc_score, roc_curve\n",
    "from sklearn.model_selection import GroupKFold\n",
    "import matplotlib.pyplot as plt\n",
    "from tqdm.notebook import tqdm\n",
    "from joblib import dump, load\n",
    "from sklearn.model_selection import KFold\n",
    "from sklearn.model_selection import train_test_split\n",
    "import tensorflow as tf\n",
    "tf.random.set_seed(42)\n",
    "import tensorflow.keras.backend as K\n",
    "import tensorflow.keras.layers as layers\n",
    "from tensorflow.keras.callbacks import Callback, ReduceLROnPlateau, ModelCheckpoint, EarlyStopping\n",
    "from toad.metrics import AUC"
   ]
  },
  {
   "cell_type": "code",
   "execution_count": 20,
   "id": "e7e6cfe4",
   "metadata": {
    "ExecuteTime": {
     "end_time": "2022-07-27T03:36:56.430559Z",
     "start_time": "2022-07-27T03:36:56.378497Z"
    }
   },
   "outputs": [],
   "source": [
    "train = pd.read_csv('credit.csv')\n",
    "features = 23\n",
    "X= train\n",
    "Y= X.pop('default')\n",
    "X_train, X_test, y_train, y_test = train_test_split(X, Y, test_size=0.25, random_state=42,shuffle=False)"
   ]
  },
  {
   "cell_type": "code",
   "execution_count": 101,
   "id": "0540a2c6",
   "metadata": {
    "ExecuteTime": {
     "end_time": "2022-07-27T07:46:42.406024Z",
     "start_time": "2022-07-27T07:46:42.393024Z"
    }
   },
   "outputs": [],
   "source": [
    "class ContinuousFeatureConverter:\n",
    "    def __init__(self, name, feature, log_transform):\n",
    "        self.name = name\n",
    "        self.skew = feature.skew()\n",
    "        self.log_transform = log_transform\n",
    "        \n",
    "    def transform(self, feature):\n",
    "        if self.skew > 1:\n",
    "            feature = self.log_transform(feature)\n",
    "        \n",
    "        mean = feature.mean()\n",
    "        std = feature.std()\n",
    "        return (feature - mean)/(std + 1e-6)    "
   ]
  },
  {
   "cell_type": "code",
   "execution_count": 109,
   "id": "884bd9d6",
   "metadata": {
    "ExecuteTime": {
     "end_time": "2022-07-27T07:49:44.623887Z",
     "start_time": "2022-07-27T07:49:44.610520Z"
    }
   },
   "outputs": [],
   "source": [
    "continuous_features = ['LIMIT_BAL', 'BILL_AMT1', 'BILL_AMT2',\n",
    "       'BILL_AMT3', 'BILL_AMT4', 'BILL_AMT5', 'BILL_AMT6', 'PAY_AMT1',\n",
    "       'PAY_AMT2', 'PAY_AMT3', 'PAY_AMT4', 'PAY_AMT5', 'PAY_AMT6']\n",
    "categorical_features=[ 'SEX', 'EDUCATION', 'MARRIAGE', 'AGE', 'PAY_1', 'PAY_2',\n",
    "       'PAY_3', 'PAY_4', 'PAY_5', 'PAY_6']"
   ]
  },
  {
   "cell_type": "code",
   "execution_count": 148,
   "id": "23e96bbd",
   "metadata": {
    "ExecuteTime": {
     "end_time": "2022-07-27T08:21:00.174377Z",
     "start_time": "2022-07-27T08:21:00.120310Z"
    }
   },
   "outputs": [
    {
     "data": {
      "application/vnd.jupyter.widget-view+json": {
       "model_id": "beec1ef0bb50474694e318d4decfc647",
       "version_major": 2,
       "version_minor": 0
      },
      "text/plain": [
       "  0%|          | 0/13 [00:00<?, ?it/s]"
      ]
     },
     "metadata": {},
     "output_type": "display_data"
    }
   ],
   "source": [
    "from tqdm.autonotebook import tqdm\n",
    "\n",
    "feature_converters = {}\n",
    "continuous_features_processed = []\n",
    "continuous_features_processed_test = []\n",
    "\n",
    "for f in tqdm(continuous_features):\n",
    "    feature = X_train[f]\n",
    "    feature_test = X_test[f]\n",
    "    log = lambda x: np.log10(x + 1 - min(0, x.min()))\n",
    "    converter = ContinuousFeatureConverter(f, feature, log)\n",
    "    feature_converters[f] = converter\n",
    "    continuous_features_processed.append(converter.transform(feature))\n",
    "    continuous_features_processed_test.append(converter.transform(feature_test))\n",
    "    \n",
    "continuous_train = pd.DataFrame({s.name: s for s in continuous_features_processed}).astype(np.float32)\n",
    "continuous_test = pd.DataFrame({s.name: s for s in continuous_features_processed_test}).astype(np.float32)\n",
    "continuous_test.reset_index(inplace=True,drop=True)"
   ]
  },
  {
   "cell_type": "code",
   "execution_count": 108,
   "id": "148577d7",
   "metadata": {
    "ExecuteTime": {
     "end_time": "2022-07-27T07:49:08.329818Z",
     "start_time": "2022-07-27T07:49:08.323817Z"
    }
   },
   "outputs": [],
   "source": [
    "from sklearn.preprocessing import LabelEncoder, OneHotEncoder\n",
    "from tqdm.autonotebook import tqdm\n",
    "\n",
    "def categorical_encode(df_train, df_test, categorical_features, n_values=140):\n",
    "    df_train = df_train[categorical_features].astype(str)\n",
    "    df_test = df_test[categorical_features].astype(str)\n",
    "    \n",
    "    categories = []\n",
    "    #频率编码\n",
    "    for column in tqdm(categorical_features):\n",
    "        categories.append(list(df_train[column].value_counts().iloc[: n_values - 1].index) + ['Other'])\n",
    "        values2use = categories[-1]\n",
    "        df_train[column] = df_train[column].apply(lambda x: x if x in values2use else 'Other')\n",
    "        df_test[column] = df_test[column].apply(lambda x: x if x in values2use else 'Other')\n",
    "        \n",
    "    #对频率编码后的结果进行onehot 本质上是减少了类别基数（把多余类别设为other）\n",
    "    ohe = OneHotEncoder(categories=categories)\n",
    "    ohe.fit(pd.concat([df_train, df_test]))\n",
    "    df_train = pd.DataFrame(ohe.transform(df_train).toarray()).astype(np.float16)\n",
    "    df_test = pd.DataFrame(ohe.transform(df_test).toarray()).astype(np.float16)\n",
    "    return df_train, df_test"
   ]
  },
  {
   "cell_type": "code",
   "execution_count": 149,
   "id": "c5224c01",
   "metadata": {
    "ExecuteTime": {
     "end_time": "2022-07-27T08:21:19.542519Z",
     "start_time": "2022-07-27T08:21:19.265717Z"
    }
   },
   "outputs": [
    {
     "data": {
      "application/vnd.jupyter.widget-view+json": {
       "model_id": "d7e72138b97048c3a1ae10590fa6af9e",
       "version_major": 2,
       "version_minor": 0
      },
      "text/plain": [
       "  0%|          | 0/10 [00:00<?, ?it/s]"
      ]
     },
     "metadata": {},
     "output_type": "display_data"
    }
   ],
   "source": [
    "train_categorical, test_categorical = categorical_encode(X_train, X_test, categorical_features)"
   ]
  },
  {
   "cell_type": "code",
   "execution_count": 150,
   "id": "5e66cdc3",
   "metadata": {
    "ExecuteTime": {
     "end_time": "2022-07-27T08:21:20.831084Z",
     "start_time": "2022-07-27T08:21:20.815379Z"
    }
   },
   "outputs": [],
   "source": [
    "trainx = pd.concat([continuous_train,train_categorical],axis=1)\n",
    "testx = pd.concat([continuous_test,test_categorical],axis=1)"
   ]
  },
  {
   "cell_type": "code",
   "execution_count": 3,
   "id": "ba432216",
   "metadata": {
    "ExecuteTime": {
     "end_time": "2022-07-27T03:24:26.162483Z",
     "start_time": "2022-07-27T03:24:26.146325Z"
    }
   },
   "outputs": [],
   "source": [
    "def create_ae_mlp(num_columns, num_labels, hidden_units, dropout_rates, ls = 1e-2, lr = 1e-3):\n",
    "    \n",
    "    inp = tf.keras.layers.Input(shape = (num_columns, ))\n",
    "    x0 = tf.keras.layers.BatchNormalization()(inp)\n",
    "    \n",
    "    encoder = tf.keras.layers.GaussianNoise(dropout_rates[0])(x0)\n",
    "    encoder = tf.keras.layers.Dense(hidden_units[0])(encoder)\n",
    "    encoder = tf.keras.layers.BatchNormalization()(encoder)\n",
    "    encoder = tf.keras.layers.Activation('swish')(encoder)\n",
    "    \n",
    "    decoder = tf.keras.layers.Dropout(dropout_rates[1])(encoder)\n",
    "    decoder = tf.keras.layers.Dense(num_columns, name = 'decoder')(decoder)\n",
    "\n",
    "    x_ae = tf.keras.layers.Dense(hidden_units[1])(decoder)\n",
    "    x_ae = tf.keras.layers.BatchNormalization()(x_ae)\n",
    "    x_ae = tf.keras.layers.Activation('swish')(x_ae)\n",
    "    x_ae = tf.keras.layers.Dropout(dropout_rates[2])(x_ae)\n",
    "\n",
    "    out_ae = tf.keras.layers.Dense(num_labels, activation = 'sigmoid', name = 'ae_action')(x_ae)\n",
    "    \n",
    "    x = tf.keras.layers.Concatenate()([x0, encoder])\n",
    "    x = tf.keras.layers.BatchNormalization()(x)\n",
    "    x = tf.keras.layers.Dropout(dropout_rates[3])(x)\n",
    "    \n",
    "    for i in range(2, len(hidden_units)):\n",
    "        x = tf.keras.layers.Dense(hidden_units[i])(x)\n",
    "        x = tf.keras.layers.BatchNormalization()(x)\n",
    "        x = tf.keras.layers.Activation('swish')(x)\n",
    "        x = tf.keras.layers.Dropout(dropout_rates[i + 2])(x)\n",
    "        \n",
    "    out = tf.keras.layers.Dense(num_labels, activation = 'sigmoid', name = 'action')(x)\n",
    "    \n",
    "    model = tf.keras.models.Model(inputs = inp, outputs = [decoder, out_ae, out])\n",
    "    model.compile(optimizer = tf.keras.optimizers.Adam(learning_rate = lr),\n",
    "                  loss = {'decoder': tf.keras.losses.MeanSquaredError(), \n",
    "                          'ae_action': tf.keras.losses.BinaryCrossentropy(label_smoothing = ls),\n",
    "                          'action': tf.keras.losses.BinaryCrossentropy(label_smoothing = ls), \n",
    "                         },\n",
    "                  metrics = {'decoder': tf.keras.metrics.MeanAbsoluteError(name = 'MAE'), \n",
    "                             'ae_action': tf.keras.metrics.AUC(name = 'AUC'), \n",
    "                             'action': tf.keras.metrics.AUC(name = 'AUC'), \n",
    "                            }, \n",
    "                 )\n",
    "    \n",
    "    return model"
   ]
  },
  {
   "cell_type": "code",
   "execution_count": 170,
   "id": "f82478d5",
   "metadata": {
    "ExecuteTime": {
     "end_time": "2022-07-27T08:30:01.283338Z",
     "start_time": "2022-07-27T08:30:01.275048Z"
    }
   },
   "outputs": [],
   "source": [
    "params = {'num_columns': 155, \n",
    "          'num_labels': 1, \n",
    "          'hidden_units': [128, 256, 256, 512, 128], \n",
    "          'dropout_rates': [0.25,0.3,0.25,0.3,0.25,0.3,0.25], \n",
    "          'ls': 0, \n",
    "          'lr':1e-3, \n",
    "         }"
   ]
  },
  {
   "cell_type": "code",
   "execution_count": 2,
   "id": "7cdd6bed",
   "metadata": {
    "execution": {
     "iopub.execute_input": "2021-09-02T00:02:44.974468Z",
     "iopub.status.busy": "2021-09-02T00:02:44.973921Z",
     "iopub.status.idle": "2021-09-02T00:02:44.977763Z",
     "shell.execute_reply": "2021-09-02T00:02:44.977343Z",
     "shell.execute_reply.started": "2021-09-01T23:54:53.761929Z"
    },
    "papermill": {
     "duration": 0.017978,
     "end_time": "2021-09-02T00:02:44.977870",
     "exception": false,
     "start_time": "2021-09-02T00:02:44.959892",
     "status": "completed"
    },
    "tags": []
   },
   "outputs": [],
   "source": [
    "# weighted average as per Donate et al.'s formula\n",
    "# https://doi.org/10.1016/j.neucom.2012.02.053\n",
    "# [0.0625, 0.0625, 0.125, 0.25, 0.5] for 5 fold\n",
    "def weighted_average(a):\n",
    "    w = []\n",
    "    n = len(a)\n",
    "    for j in range(1, n + 1):\n",
    "        j = 2 if j == 1 else j\n",
    "        w.append(1 / (2**(n + 1 - j)))\n",
    "    return np.average(a, weights = w)"
   ]
  },
  {
   "cell_type": "code",
   "execution_count": 167,
   "id": "0b30fbf7",
   "metadata": {
    "ExecuteTime": {
     "end_time": "2022-07-27T08:26:51.615411Z",
     "start_time": "2022-07-27T08:26:27.283800Z"
    },
    "scrolled": true
   },
   "outputs": [
    {
     "name": "stdout",
     "output_type": "stream",
     "text": [
      "Epoch 1/30\n",
      "282/282 [==============================] - 3s 5ms/step - loss: 1.2591 - decoder_loss: 0.2075 - ae_action_loss: 0.5352 - action_loss: 0.5164 - decoder_MAE: 0.3129 - ae_action_AUC: 0.6689 - action_AUC: 0.6821 - val_loss: 0.9480 - val_decoder_loss: 0.1115 - val_ae_action_loss: 0.4262 - val_action_loss: 0.4103 - val_decoder_MAE: 0.2013 - val_ae_action_AUC: 0.7872 - val_action_AUC: 0.7868\n",
      "Epoch 2/30\n",
      "282/282 [==============================] - 1s 4ms/step - loss: 1.0667 - decoder_loss: 0.1239 - ae_action_loss: 0.4745 - action_loss: 0.4682 - decoder_MAE: 0.2296 - ae_action_AUC: 0.7265 - action_AUC: 0.7380 - val_loss: 0.9192 - val_decoder_loss: 0.0928 - val_ae_action_loss: 0.4134 - val_action_loss: 0.4129 - val_decoder_MAE: 0.1820 - val_ae_action_AUC: 0.7824 - val_action_AUC: 0.7811\n",
      "Epoch 3/30\n",
      "282/282 [==============================] - 1s 4ms/step - loss: 1.0216 - decoder_loss: 0.0994 - ae_action_loss: 0.4651 - action_loss: 0.4571 - decoder_MAE: 0.1961 - ae_action_AUC: 0.7389 - action_AUC: 0.7494 - val_loss: 0.9137 - val_decoder_loss: 0.0832 - val_ae_action_loss: 0.4083 - val_action_loss: 0.4222 - val_decoder_MAE: 0.1643 - val_ae_action_AUC: 0.7907 - val_action_AUC: 0.7848\n",
      "Epoch 4/30\n",
      "282/282 [==============================] - 1s 4ms/step - loss: 0.9978 - decoder_loss: 0.0880 - ae_action_loss: 0.4575 - action_loss: 0.4522 - decoder_MAE: 0.1773 - ae_action_AUC: 0.7467 - action_AUC: 0.7539 - val_loss: 0.9082 - val_decoder_loss: 0.0756 - val_ae_action_loss: 0.4122 - val_action_loss: 0.4204 - val_decoder_MAE: 0.1515 - val_ae_action_AUC: 0.7874 - val_action_AUC: 0.7854\n",
      "Epoch 5/30\n",
      "282/282 [==============================] - 1s 4ms/step - loss: 0.9846 - decoder_loss: 0.0810 - ae_action_loss: 0.4560 - action_loss: 0.4476 - decoder_MAE: 0.1649 - ae_action_AUC: 0.7486 - action_AUC: 0.7609 - val_loss: 0.8999 - val_decoder_loss: 0.0694 - val_ae_action_loss: 0.4072 - val_action_loss: 0.4233 - val_decoder_MAE: 0.1396 - val_ae_action_AUC: 0.7909 - val_action_AUC: 0.7823\n",
      "Epoch 6/30\n",
      "282/282 [==============================] - 1s 4ms/step - loss: 0.9754 - decoder_loss: 0.0754 - ae_action_loss: 0.4530 - action_loss: 0.4470 - decoder_MAE: 0.1543 - ae_action_AUC: 0.7550 - action_AUC: 0.7621 - val_loss: 0.8981 - val_decoder_loss: 0.0659 - val_ae_action_loss: 0.4068 - val_action_loss: 0.4254 - val_decoder_MAE: 0.1328 - val_ae_action_AUC: 0.7848 - val_action_AUC: 0.7839\n",
      "Epoch 7/30\n",
      "282/282 [==============================] - 1s 4ms/step - loss: 0.9650 - decoder_loss: 0.0715 - ae_action_loss: 0.4492 - action_loss: 0.4442 - decoder_MAE: 0.1466 - ae_action_AUC: 0.7602 - action_AUC: 0.7660 - val_loss: 0.9042 - val_decoder_loss: 0.0623 - val_ae_action_loss: 0.4087 - val_action_loss: 0.4332 - val_decoder_MAE: 0.1258 - val_ae_action_AUC: 0.7881 - val_action_AUC: 0.7822\n",
      "Epoch 8/30\n",
      "282/282 [==============================] - 1s 4ms/step - loss: 0.9603 - decoder_loss: 0.0689 - ae_action_loss: 0.4476 - action_loss: 0.4438 - decoder_MAE: 0.1408 - ae_action_AUC: 0.7630 - action_AUC: 0.7671 - val_loss: 0.8894 - val_decoder_loss: 0.0599 - val_ae_action_loss: 0.4037 - val_action_loss: 0.4258 - val_decoder_MAE: 0.1212 - val_ae_action_AUC: 0.7906 - val_action_AUC: 0.7837\n",
      "Epoch 9/30\n",
      "282/282 [==============================] - 1s 4ms/step - loss: 0.9542 - decoder_loss: 0.0666 - ae_action_loss: 0.4463 - action_loss: 0.4414 - decoder_MAE: 0.1361 - ae_action_AUC: 0.7647 - action_AUC: 0.7705 - val_loss: 0.8859 - val_decoder_loss: 0.0572 - val_ae_action_loss: 0.4035 - val_action_loss: 0.4251 - val_decoder_MAE: 0.1167 - val_ae_action_AUC: 0.7911 - val_action_AUC: 0.7865\n",
      "Epoch 10/30\n",
      "282/282 [==============================] - 1s 4ms/step - loss: 0.9511 - decoder_loss: 0.0644 - ae_action_loss: 0.4466 - action_loss: 0.4401 - decoder_MAE: 0.1314 - ae_action_AUC: 0.7626 - action_AUC: 0.7728 - val_loss: 0.8912 - val_decoder_loss: 0.0550 - val_ae_action_loss: 0.4054 - val_action_loss: 0.4307 - val_decoder_MAE: 0.1121 - val_ae_action_AUC: 0.7934 - val_action_AUC: 0.7888\n",
      "Epoch 11/30\n",
      "282/282 [==============================] - 1s 4ms/step - loss: 0.9527 - decoder_loss: 0.0626 - ae_action_loss: 0.4472 - action_loss: 0.4429 - decoder_MAE: 0.1273 - ae_action_AUC: 0.7624 - action_AUC: 0.7669 - val_loss: 0.8790 - val_decoder_loss: 0.0541 - val_ae_action_loss: 0.4039 - val_action_loss: 0.4210 - val_decoder_MAE: 0.1101 - val_ae_action_AUC: 0.7932 - val_action_AUC: 0.7885\n",
      "Epoch 12/30\n",
      "282/282 [==============================] - 1s 4ms/step - loss: 0.9457 - decoder_loss: 0.0611 - ae_action_loss: 0.4443 - action_loss: 0.4403 - decoder_MAE: 0.1244 - ae_action_AUC: 0.7662 - action_AUC: 0.7713 - val_loss: 0.8793 - val_decoder_loss: 0.0523 - val_ae_action_loss: 0.4029 - val_action_loss: 0.4241 - val_decoder_MAE: 0.1070 - val_ae_action_AUC: 0.7936 - val_action_AUC: 0.7885\n",
      "Epoch 13/30\n",
      "282/282 [==============================] - 1s 4ms/step - loss: 0.9419 - decoder_loss: 0.0599 - ae_action_loss: 0.4432 - action_loss: 0.4387 - decoder_MAE: 0.1214 - ae_action_AUC: 0.7670 - action_AUC: 0.7725 - val_loss: 0.8870 - val_decoder_loss: 0.0506 - val_ae_action_loss: 0.4064 - val_action_loss: 0.4300 - val_decoder_MAE: 0.1039 - val_ae_action_AUC: 0.7896 - val_action_AUC: 0.7820\n",
      "Epoch 14/30\n",
      "282/282 [==============================] - 1s 4ms/step - loss: 0.9428 - decoder_loss: 0.0584 - ae_action_loss: 0.4434 - action_loss: 0.4409 - decoder_MAE: 0.1185 - ae_action_AUC: 0.7683 - action_AUC: 0.7702 - val_loss: 0.8828 - val_decoder_loss: 0.0492 - val_ae_action_loss: 0.4056 - val_action_loss: 0.4280 - val_decoder_MAE: 0.1014 - val_ae_action_AUC: 0.7926 - val_action_AUC: 0.7866\n",
      "Epoch 15/30\n",
      "282/282 [==============================] - 1s 4ms/step - loss: 0.9409 - decoder_loss: 0.0578 - ae_action_loss: 0.4443 - action_loss: 0.4387 - decoder_MAE: 0.1166 - ae_action_AUC: 0.7661 - action_AUC: 0.7728 - val_loss: 0.8907 - val_decoder_loss: 0.0482 - val_ae_action_loss: 0.4072 - val_action_loss: 0.4353 - val_decoder_MAE: 0.0995 - val_ae_action_AUC: 0.7892 - val_action_AUC: 0.7810\n",
      "Epoch 16/30\n",
      "282/282 [==============================] - 1s 4ms/step - loss: 0.9336 - decoder_loss: 0.0567 - ae_action_loss: 0.4413 - action_loss: 0.4356 - decoder_MAE: 0.1140 - ae_action_AUC: 0.7712 - action_AUC: 0.7785 - val_loss: 0.8837 - val_decoder_loss: 0.0467 - val_ae_action_loss: 0.4037 - val_action_loss: 0.4333 - val_decoder_MAE: 0.0969 - val_ae_action_AUC: 0.7926 - val_action_AUC: 0.7843\n",
      "Epoch 17/30\n",
      "282/282 [==============================] - 1s 4ms/step - loss: 0.9337 - decoder_loss: 0.0560 - ae_action_loss: 0.4411 - action_loss: 0.4367 - decoder_MAE: 0.1118 - ae_action_AUC: 0.7697 - action_AUC: 0.7751 - val_loss: 0.8802 - val_decoder_loss: 0.0463 - val_ae_action_loss: 0.4034 - val_action_loss: 0.4306 - val_decoder_MAE: 0.0958 - val_ae_action_AUC: 0.7940 - val_action_AUC: 0.7869\n",
      "Epoch 18/30\n",
      "282/282 [==============================] - 1s 4ms/step - loss: 0.9310 - decoder_loss: 0.0553 - ae_action_loss: 0.4402 - action_loss: 0.4355 - decoder_MAE: 0.1104 - ae_action_AUC: 0.7723 - action_AUC: 0.7778 - val_loss: 0.8856 - val_decoder_loss: 0.0452 - val_ae_action_loss: 0.4042 - val_action_loss: 0.4362 - val_decoder_MAE: 0.0940 - val_ae_action_AUC: 0.7925 - val_action_AUC: 0.7844\n",
      "Epoch 19/30\n",
      "282/282 [==============================] - 1s 4ms/step - loss: 0.9286 - decoder_loss: 0.0544 - ae_action_loss: 0.4394 - action_loss: 0.4348 - decoder_MAE: 0.1086 - ae_action_AUC: 0.7731 - action_AUC: 0.7802 - val_loss: 0.8917 - val_decoder_loss: 0.0444 - val_ae_action_loss: 0.4067 - val_action_loss: 0.4406 - val_decoder_MAE: 0.0927 - val_ae_action_AUC: 0.7918 - val_action_AUC: 0.7839\n",
      "Epoch 20/30\n",
      "282/282 [==============================] - 1s 4ms/step - loss: 0.9302 - decoder_loss: 0.0539 - ae_action_loss: 0.4419 - action_loss: 0.4345 - decoder_MAE: 0.1070 - ae_action_AUC: 0.7685 - action_AUC: 0.7801 - val_loss: 0.8895 - val_decoder_loss: 0.0438 - val_ae_action_loss: 0.4076 - val_action_loss: 0.4381 - val_decoder_MAE: 0.0918 - val_ae_action_AUC: 0.7901 - val_action_AUC: 0.7820\n",
      "Fold 1 ROC AUC:\t 0.7887904644012451\n",
      "Weighted Average CV Score: 0.7900789976119995\n"
     ]
    }
   ],
   "source": [
    "ckp_path = f'Model_{fold}.hdf5'\n",
    "model = create_ae_mlp(**params)\n",
    "ckp = ModelCheckpoint(ckp_path, monitor = 'val_action_AUC', verbose = 0, \n",
    "                              save_best_only = True, save_weights_only = True, mode = 'max')\n",
    "es = EarlyStopping(monitor = 'val_action_AUC', min_delta = 1e-4, patience = 10, mode = 'max', \n",
    "                           baseline = None, restore_best_weights = True, verbose = 0)\n",
    "history = model.fit(trainx, [trainx, y_train, y_train], \n",
    "                        validation_data = (testx, [testx, y_test, y_test]),\n",
    "                            epochs = 30, batch_size = batch_size, callbacks = [ckp, es], verbose = 1)\n",
    "hist = pd.DataFrame(history.history)\n",
    "score = hist['val_action_AUC'].max()\n",
    "print(f'Fold {fold+1} ROC AUC:\\t', score)\n",
    "scores.append(score)\n",
    "print('Weighted Average CV Score:', weighted_average(scores))"
   ]
  },
  {
   "cell_type": "code",
   "execution_count": 165,
   "id": "eef62bfc",
   "metadata": {
    "ExecuteTime": {
     "end_time": "2022-07-27T08:26:02.597980Z",
     "start_time": "2022-07-27T08:26:02.452400Z"
    }
   },
   "outputs": [
    {
     "data": {
      "text/plain": [
       "array([0.04068986, 0.19667873, 0.6765232 , ..., 0.6672387 , 0.10541499,\n",
       "       0.15781888], dtype=float32)"
      ]
     },
     "execution_count": 165,
     "metadata": {},
     "output_type": "execute_result"
    }
   ],
   "source": [
    "model.predict(X_test)[2].flatten()"
   ]
  },
  {
   "cell_type": "code",
   "execution_count": 172,
   "id": "b11e1813",
   "metadata": {
    "ExecuteTime": {
     "end_time": "2022-07-27T08:31:03.722843Z",
     "start_time": "2022-07-27T08:31:03.717448Z"
    }
   },
   "outputs": [],
   "source": [
    "params = {'num_leaves': 88,\n",
    "          'colsample_bytree': 0.75,\n",
    "          'subsample': 0.75,\n",
    "          'min_data_in_leaf': 106,\n",
    "          'objective': 'binary',\n",
    "          'max_depth': -1,\n",
    "          'learning_rate': 0.02,\n",
    "          \"boosting_type\": \"gbdt\",\n",
    "          \"bagging_seed\": 11,\n",
    "          \"metric\": 'auc',\n",
    "          \"verbosity\": -1,\n",
    "          'reg_alpha': 0.45,\n",
    "          'reg_lambda': 0.65,\n",
    "          'random_state': 47,\n",
    "          'n_jobs':-1,\n",
    "          'n_estimators':10000,\n",
    "         }"
   ]
  },
  {
   "cell_type": "code",
   "execution_count": 176,
   "id": "55b884e6",
   "metadata": {
    "ExecuteTime": {
     "end_time": "2022-07-27T08:31:30.910714Z",
     "start_time": "2022-07-27T08:31:29.926846Z"
    }
   },
   "outputs": [
    {
     "name": "stdout",
     "output_type": "stream",
     "text": [
      "[LightGBM] [Warning] min_data_in_leaf is set=106, min_child_samples=20 will be ignored. Current value: min_data_in_leaf=106\n",
      "Training until validation scores don't improve for 200 rounds\n",
      "[100]\ttraining's auc: 0.855208\tvalid_1's auc: 0.796404\n",
      "[200]\ttraining's auc: 0.891143\tvalid_1's auc: 0.795955\n",
      "Early stopping, best iteration is:\n",
      "[69]\ttraining's auc: 0.843348\tvalid_1's auc: 0.79735\n"
     ]
    },
    {
     "data": {
      "text/plain": [
       "LGBMClassifier(bagging_seed=11, colsample_bytree=0.75, learning_rate=0.02,\n",
       "               metric='auc', min_data_in_leaf=106, n_estimators=10000,\n",
       "               num_leaves=88, objective='binary', random_state=47,\n",
       "               reg_alpha=0.45, reg_lambda=0.65, subsample=0.75, verbosity=-1)"
      ]
     },
     "execution_count": 176,
     "metadata": {},
     "output_type": "execute_result"
    }
   ],
   "source": [
    "clf = lgb.LGBMClassifier(**params)\n",
    "clf.fit(X_train,y_train,eval_set=[(X_train,y_train),(X_test,y_test)], \\\n",
    "                 eval_metric='auc', verbose=100, early_stopping_rounds=200)"
   ]
  },
  {
   "cell_type": "code",
   "execution_count": null,
   "id": "0ce1eb84",
   "metadata": {},
   "outputs": [],
   "source": []
  }
 ],
 "metadata": {
  "kernelspec": {
   "display_name": "Python 3",
   "language": "python",
   "name": "python3"
  },
  "language_info": {
   "codemirror_mode": {
    "name": "ipython",
    "version": 3
   },
   "file_extension": ".py",
   "mimetype": "text/x-python",
   "name": "python",
   "nbconvert_exporter": "python",
   "pygments_lexer": "ipython3",
   "version": "3.8.8"
  },
  "papermill": {
   "default_parameters": {},
   "duration": 858.823989,
   "end_time": "2021-09-02T00:16:51.679105",
   "environment_variables": {},
   "exception": null,
   "input_path": "__notebook__.ipynb",
   "output_path": "__notebook__.ipynb",
   "parameters": {},
   "start_time": "2021-09-02T00:02:32.855116",
   "version": "2.3.3"
  },
  "varInspector": {
   "cols": {
    "lenName": 16,
    "lenType": 16,
    "lenVar": 40
   },
   "kernels_config": {
    "python": {
     "delete_cmd_postfix": "",
     "delete_cmd_prefix": "del ",
     "library": "var_list.py",
     "varRefreshCmd": "print(var_dic_list())"
    },
    "r": {
     "delete_cmd_postfix": ") ",
     "delete_cmd_prefix": "rm(",
     "library": "var_list.r",
     "varRefreshCmd": "cat(var_dic_list()) "
    }
   },
   "types_to_exclude": [
    "module",
    "function",
    "builtin_function_or_method",
    "instance",
    "_Feature"
   ],
   "window_display": false
  }
 },
 "nbformat": 4,
 "nbformat_minor": 5
}
