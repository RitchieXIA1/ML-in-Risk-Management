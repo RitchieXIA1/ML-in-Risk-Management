{
 "cells": [
  {
   "cell_type": "code",
   "execution_count": null,
   "id": "76745c6e",
   "metadata": {},
   "outputs": [],
   "source": [
    "from keras.callbacks import ModelCheckpoint, LearningRateScheduler\n",
    "from keras import backend as K"
   ]
  },
  {
   "cell_type": "code",
   "execution_count": null,
   "id": "56ada561",
   "metadata": {},
   "outputs": [],
   "source": [
    "class WarmUpLearningRateScheduler(keras.callbacks.Callback):\n",
    "    \"\"\"Warmup learning rate scheduler\n",
    "    \"\"\"\n",
    "\n",
    "    def __init__(self, warmup_batches, init_lr, verbose=0):\n",
    "        \"\"\"Constructor for warmup learning rate scheduler\n",
    "\n",
    "        Arguments:\n",
    "            warmup_batches {int} -- Number of batch for warmup.\n",
    "            init_lr {float} -- Learning rate after warmup.\n",
    "\n",
    "        Keyword Arguments:\n",
    "            verbose {int} -- 0: quiet, 1: update messages. (default: {0})\n",
    "        \"\"\"\n",
    "\n",
    "        super(WarmUpLearningRateScheduler, self).__init__()\n",
    "        self.warmup_batches = warmup_batches\n",
    "        self.init_lr = init_lr\n",
    "        self.verbose = verbose\n",
    "        self.batch_count = 0\n",
    "        self.learning_rates = []\n",
    "\n",
    "    def on_batch_end(self, batch, logs=None):\n",
    "        self.batch_count = self.batch_count + 1\n",
    "        lr = K.get_value(self.model.optimizer.lr)\n",
    "        self.learning_rates.append(lr)\n",
    "\n",
    "    def on_batch_begin(self, batch, logs=None):\n",
    "        if self.batch_count <= self.warmup_batches:\n",
    "            lr = self.batch_count*self.init_lr/self.warmup_batches\n",
    "            K.set_value(self.model.optimizer.lr, lr)\n",
    "            if self.verbose > 0:\n",
    "                print('\\nBatch %05d: WarmUpLearningRateScheduler setting learning '\n",
    "                      'rate to %s.' % (self.batch_count + 1, lr))\n",
    "warm_up_lr = WarmUpLearningRateScheduler(400, init_lr=0.005)"
   ]
  },
  {
   "cell_type": "code",
   "execution_count": null,
   "id": "8e7b6751",
   "metadata": {},
   "outputs": [],
   "source": [
    "auto_ckpt = ModelCheckpoint(\"ae.model\", monitor='loss', verbose=1, save_best_only=True, save_weights_only=True, mode='min',save_freq='epoch')"
   ]
  },
  {
   "cell_type": "code",
   "execution_count": null,
   "id": "e5409aca",
   "metadata": {},
   "outputs": [],
   "source": [
    "hist = model.fit(train_gen, steps_per_epoch=len(X)//batch_size, epochs=epochs,\n",
    "                           verbose=1, workers=-1, \n",
    "                           use_multiprocessing=True,\n",
    "                              callbacks=[auto_ckpt, warm_up_lr])"
   ]
  }
 ],
 "metadata": {
  "kernelspec": {
   "display_name": "Python 3 (ipykernel)",
   "language": "python",
   "name": "python3"
  },
  "language_info": {
   "codemirror_mode": {
    "name": "ipython",
    "version": 3
   },
   "file_extension": ".py",
   "mimetype": "text/x-python",
   "name": "python",
   "nbconvert_exporter": "python",
   "pygments_lexer": "ipython3",
   "version": "3.8.5"
  },
  "toc": {
   "base_numbering": 1,
   "nav_menu": {},
   "number_sections": true,
   "sideBar": true,
   "skip_h1_title": false,
   "title_cell": "Table of Contents",
   "title_sidebar": "Contents",
   "toc_cell": false,
   "toc_position": {},
   "toc_section_display": true,
   "toc_window_display": false
  }
 },
 "nbformat": 4,
 "nbformat_minor": 5
}
