{
 "cells": [
  {
   "cell_type": "markdown",
   "metadata": {},
   "source": [
    "![](https://ai-studio-static-online.cdn.bcebos.com/02a111ca9add48deb48a1b7bf4660754898fa6f033bd44b88967632fdbec4134)\n",
    "\n",
    "# 赛题介绍\n",
    "\n",
    "[http://challenge.ai.iqiyi.com/detail?raceId=61600f6cef1b65639cd5eaa6](http://challenge.ai.iqiyi.com/detail?raceId=61600f6cef1b65639cd5eaa6)\n",
    "\n",
    "[https://www.datafountain.cn/competitions/551](https://www.datafountain.cn/competitions/551)\n",
    "\n",
    "## 运行说明【非常重要】\n",
    "\n",
    "1. `data.zip`是比赛原始数据集，`wsdm_model_data.zip`是比赛提取的特征。\n",
    "2. 代码第一部分是EDA，第二部分是提取特征，第三部分是训练模型。建议分开运行。\n",
    "3. 代码需要20G以上内存，需要有GPU，代码训练模型部分使用paddlepaddle搭建。\n",
    "\n",
    "## 赛题描述\n",
    "\n",
    "爱奇艺是中国和世界领先的高品质视频娱乐流媒体平台，每个月有超过5亿的用户在爱奇艺上享受娱乐服务。爱奇艺秉承“悦享品质”的品牌口号，打造涵盖影剧、综艺、动漫在内的专业正版视频内容库，和“随刻”等海量的用户原创内容，为用户提供丰富的专业视频体验。\n",
    "\n",
    "爱奇艺手机端APP，通过深度学习等最新的AI技术，提升用户个性化的产品体验，更好地让用户享受定制化的娱乐服务。我们用“N日留存分”这一关键指标来衡量用户的满意程度。例如，如果一个用户10月1日的“7日留存分”等于3，代表这个用户接下来的7天里（10月2日~8日），有3天会访问爱奇艺APP。预测用户的留存分是个充满挑战的难题：不同用户本身的偏好、活跃度差异很大，另外用户可支配的娱乐时间、热门内容的流行趋势等其他因素，也有很强的周期性特征。\n",
    "\n",
    "本次大赛基于爱奇艺APP脱敏和采样后的数据信息，预测用户的7日留存分。参赛队伍需要设计相应的算法进行数据分析和预测。\n",
    "\n",
    "## 数据描述\n",
    "\n",
    "本次比赛提供了丰富的数据集，包含视频数据、用户画像数据、用户启动日志、用户观影和互动行为日志等。针对测试集用户，需要预测每一位用户某一日的“7日留存分”。7日留存分取值范围从0到7，预测结果保留小数点后2位。\n",
    "\n",
    "\n",
    "## 评价指标\n",
    "\n",
    "\n",
    "本次比赛是一个数值预测类问题。评价函数使用：$100-(1-\\frac{1}{n}\\sum_{i=1}^{n}{|\\frac{F_i-A_i}{7}|})$。 \n",
    "\n",
    "$n$是测试集用户数量，$F$是参赛者对用户的7日留存分预测值，$A$是真实的7日留存分真实值。\n",
    "\n",
    "\n",
    "## 评审说明\n",
    "\n",
    "\n",
    "选手的提交应为UTF-8编码的csv文件。文件的格式和顺序需要和测试集保持一致。参见竞赛数据集下载部分“sample-a”。所有预测数据保留小数点后2位有效数字。不符合提交格式的文件被视为无效，并浪费一次提交机会。\n",
    "\n",
    "本次比赛分为A、B 2个阶段。2个阶段的训练集是一样的，但需要选手预测的测试集不同。\n",
    "\n",
    "- A阶段截止2022.01.17。A阶段测试集包含15001个需要预测的用户，用于A阶段比赛和排行榜。每个用户提供用户id和end_date日期。选手需要预测这个用户，对应[end_date+1 ~ end_date+7]，这未来7天里的7日留存分。\n",
    "- B阶段从2022.01.17开始，截止2022.01.20。届时系统会重新提供B阶段测试集。B阶段测试集更大，包含35000个需要预测的用户。B阶段使用单独的排行榜，其余细节和A阶段一致。\n",
    "\n",
    "最后比赛结果以B阶段成绩为准，同时选手需要提交辅助性材料，证明其成绩合法有效。\n",
    "\n",
    "## 特别说明\n",
    "\n",
    "- 爱奇艺AI竞赛平台作为大赛官网，是挑战赛主战场。若参与主赛场比赛，选手需登录大赛官网完成注册报名，并务必在大赛官网主赛场提交预测结果。\n",
    "- 每支参赛队伍的队伍人数最多5人。\n",
    "- DataFountain竞赛平台作为2022WSDM用户留存预测挑战赛的练习场，在A榜阶段为参赛选手提供每天额外2次的成绩测试提交机会，助力大家在大赛官网主赛场中取得优异成绩。\n",
    "- A榜阶段，DataFountain竞赛平台和大赛官网主赛场均可提交预测结果；B榜阶段，请参赛选手前往大赛官网主赛场提交预测结果。该赛题最终排名榜单以大赛官网主赛场发布的结果为准。\n",
    "\n",
    "\n",
    "## 数据集解释\n",
    "\n",
    " \n",
    "\n",
    "**1.**   **User portrait data**\n",
    "\n",
    "| Field name        | Description       |\n",
    "| ----------------- | ----------------- |\n",
    "| user_id           |                   |\n",
    "| device_type       | iOS, Android      |\n",
    "| device_rom        | rom of the device |\n",
    "| device_ram        | ram of the device |\n",
    "| sex               |                   |\n",
    "| age               |                   |\n",
    "| education         |                   |\n",
    "| occupation_status |                   |\n",
    "| territory_code    |                   |\n",
    "\n",
    "\n",
    "**2.**   **App launch logs**\n",
    "\n",
    "| Field name  | Description                                        |\n",
    "| ----------- | -------------------------------------------------- |\n",
    "| user_id     |                                                    |\n",
    "| date        | Desensitization, started from 0                    |\n",
    "| launch_type | spontaneous or launched by other apps & deep-links |\n",
    "\n",
    "**3.**   **Video related data**\n",
    "\n",
    "| Field name | Description                                                 |\n",
    "| ---------- | ----------------------------------------------------------- |\n",
    "| item_id    | id of the video                                             |\n",
    "| father_id  | album id, if the video is an episode of an album collection |\n",
    "| cast       | a list of actors/actresses                                  |\n",
    "| duration   | video length                                                |\n",
    "| tag_list   | a list of tags                                              |\n",
    "\n",
    "**4.**   **User playback data**\n",
    "\n",
    "| Field name | Description               |\n",
    "| ---------- | ------------------------- |\n",
    "| user_id    |                           |\n",
    "| item_id    |                           |\n",
    "| playtime   | video playback time       |\n",
    "| date       | timestamp of the behavior |\n",
    "\n",
    "**5.**   **User interaction data**\n",
    "\n",
    "| Field name    | Description                                      |\n",
    "| ------------- | ------------------------------------------------ |\n",
    "| user_id       |                                                  |\n",
    "| item_id       |                                                  |\n",
    "| interact_type | interaction types such as posting comments, etc. |\n",
    "| date          | timestamp of the behavior                        |\n",
    "\n",
    "## 时间线\n",
    "\n",
    "- 2021.10.15：赛事启动，赛题正式发布，开放赛题数据集，开放组队报名。\n",
    "- 2021.11.15：开放公开排名榜，参赛者可以提交预测结果。2021.12.20: 报名截止\n",
    "- 2022.01.17: A阶段停止提交结果，B阶段测试集、排行榜开放。\n",
    "- 2022.01.20: B阶段停止提交结果\n",
    "- 2022.01.21: B阶段TOP5团队解释文档停止提交（提交方式稍后公布）\n",
    "- 2022.01.25: 公布最终成绩\n",
    "- 2022.02.17: Top 3队伍报告会及奖项颁发\n",
    "\n",
    "## 奖项设置\n",
    "\n",
    "- 冠军队伍: 一支 ($2000) \n",
    "- 亚军队伍: 一支 ($800) \n",
    "- 季军队伍: 一支 ($500)\n",
    "\n"
   ]
  },
  {
   "cell_type": "code",
   "execution_count": null,
   "metadata": {},
   "outputs": [
    {
     "name": "stdout",
     "output_type": "stream",
     "text": [
      "Archive:  data.zip\n",
      "  inflating: app_launch_logs.csv     \n",
      "  inflating: sample-a.csv            \n",
      "  inflating: test-a.csv              \n",
      "  inflating: user_interaction_data.csv  \n",
      "  inflating: user_playback_data.csv  \n",
      "  inflating: user_portrait_data.csv  \n",
      "  inflating: video_related_data.csv  \n"
     ]
    }
   ],
   "source": [
    "!unzip data.zip"
   ]
  },
  {
   "cell_type": "code",
   "execution_count": null,
   "metadata": {},
   "outputs": [
    {
     "name": "stdout",
     "output_type": "stream",
     "text": [
      "Populating the interactive namespace from numpy and matplotlib\n"
     ]
    }
   ],
   "source": [
    "import pandas as pd\n",
    "import numpy as np\n",
    "from itertools import groupby\n",
    "\n",
    "%pylab inline\n",
    "import seaborn as sns\n",
    "\n",
    "PATH = './'"
   ]
  },
  {
   "cell_type": "code",
   "execution_count": null,
   "metadata": {},
   "outputs": [],
   "source": [
    "user_interaction = pd.read_csv(PATH + 'user_interaction_data.csv')\n",
    "user_portrait = pd.read_csv(PATH + 'user_portrait_data.csv')\n",
    "user_playback = pd.read_csv(PATH + 'user_playback_data.csv')\n",
    "\n",
    "app_launch = pd.read_csv(PATH + 'app_launch_logs.csv')\n",
    "video_related = pd.read_csv(PATH + 'video_related_data.csv')"
   ]
  },
  {
   "cell_type": "markdown",
   "metadata": {},
   "source": [
    "# 基础字段分析"
   ]
  },
  {
   "cell_type": "markdown",
   "metadata": {},
   "source": [
    "## user_portrait\n",
    "\n",
    "| Field name        | Description       |\n",
    "| ----------------- | ----------------- |\n",
    "| user_id           |                   |\n",
    "| device_type       | iOS, Android      |\n",
    "| device_rom        | rom of the device |\n",
    "| device_ram        | ram of the device |\n",
    "| sex               |                   |\n",
    "| age               |                   |\n",
    "| education         |                   |\n",
    "| occupation_status |                   |\n",
    "| territory_code    |                   |"
   ]
  },
  {
   "cell_type": "code",
   "execution_count": null,
   "metadata": {},
   "outputs": [
    {
     "data": {
      "text/html": [
       "<div>\n",
       "<style scoped>\n",
       "    .dataframe tbody tr th:only-of-type {\n",
       "        vertical-align: middle;\n",
       "    }\n",
       "\n",
       "    .dataframe tbody tr th {\n",
       "        vertical-align: top;\n",
       "    }\n",
       "\n",
       "    .dataframe thead th {\n",
       "        text-align: right;\n",
       "    }\n",
       "</style>\n",
       "<table border=\"1\" class=\"dataframe\">\n",
       "  <thead>\n",
       "    <tr style=\"text-align: right;\">\n",
       "      <th></th>\n",
       "      <th>user_id</th>\n",
       "      <th>device_type</th>\n",
       "      <th>device_ram</th>\n",
       "      <th>device_rom</th>\n",
       "      <th>sex</th>\n",
       "      <th>age</th>\n",
       "      <th>education</th>\n",
       "      <th>occupation_status</th>\n",
       "      <th>territory_code</th>\n",
       "    </tr>\n",
       "  </thead>\n",
       "  <tbody>\n",
       "    <tr>\n",
       "      <th>0</th>\n",
       "      <td>10209854</td>\n",
       "      <td>2.0</td>\n",
       "      <td>5731</td>\n",
       "      <td>109581</td>\n",
       "      <td>1.0</td>\n",
       "      <td>2.0</td>\n",
       "      <td>0.0</td>\n",
       "      <td>1.0</td>\n",
       "      <td>865101.0</td>\n",
       "    </tr>\n",
       "    <tr>\n",
       "      <th>1</th>\n",
       "      <td>10230057</td>\n",
       "      <td>2.0</td>\n",
       "      <td>1877</td>\n",
       "      <td>20888</td>\n",
       "      <td>1.0</td>\n",
       "      <td>4.0</td>\n",
       "      <td>0.0</td>\n",
       "      <td>1.0</td>\n",
       "      <td>864102.0</td>\n",
       "    </tr>\n",
       "  </tbody>\n",
       "</table>\n",
       "</div>"
      ],
      "text/plain": [
       "    user_id  device_type device_ram device_rom  sex  age  education  \\\n",
       "0  10209854          2.0       5731     109581  1.0  2.0        0.0   \n",
       "1  10230057          2.0       1877      20888  1.0  4.0        0.0   \n",
       "\n",
       "   occupation_status  territory_code  \n",
       "0                1.0        865101.0  \n",
       "1                1.0        864102.0  "
      ]
     },
     "execution_count": null,
     "metadata": {},
     "output_type": "execute_result"
    }
   ],
   "source": [
    "user_portrait.head(2)"
   ]
  },
  {
   "cell_type": "code",
   "execution_count": null,
   "metadata": {},
   "outputs": [
    {
     "name": "stdout",
     "output_type": "stream",
     "text": [
      "(596906, 9)\n",
      "user_id \t int64 596905\n",
      "device_type \t float64 4\n",
      "device_ram \t object 2049\n",
      "device_rom \t object 6217\n",
      "sex \t float64 2\n",
      "age \t float64 5\n",
      "education \t float64 3\n",
      "occupation_status \t float64 2\n",
      "territory_code \t float64 373\n"
     ]
    }
   ],
   "source": [
    "print(user_portrait.shape)\n",
    "for col in user_portrait.columns:\n",
    "    print(f'{col} \\t {user_portrait.dtypes[col]} {user_portrait[col].nunique()}')"
   ]
  },
  {
   "cell_type": "code",
   "execution_count": null,
   "metadata": {},
   "outputs": [
    {
     "data": {
      "text/plain": [
       "10268855    2\n",
       "10280241    1\n",
       "10444097    1\n",
       "10442048    1\n",
       "10267967    1\n",
       "           ..\n",
       "10037872    1\n",
       "10080879    1\n",
       "10082926    1\n",
       "10076781    1\n",
       "10485760    1\n",
       "Name: user_id, Length: 596905, dtype: int64"
      ]
     },
     "execution_count": null,
     "metadata": {},
     "output_type": "execute_result"
    }
   ],
   "source": [
    "user_portrait['user_id'].value_counts()"
   ]
  },
  {
   "cell_type": "code",
   "execution_count": null,
   "metadata": {},
   "outputs": [
    {
     "data": {
      "text/html": [
       "<div>\n",
       "<style scoped>\n",
       "    .dataframe tbody tr th:only-of-type {\n",
       "        vertical-align: middle;\n",
       "    }\n",
       "\n",
       "    .dataframe tbody tr th {\n",
       "        vertical-align: top;\n",
       "    }\n",
       "\n",
       "    .dataframe thead th {\n",
       "        text-align: right;\n",
       "    }\n",
       "</style>\n",
       "<table border=\"1\" class=\"dataframe\">\n",
       "  <thead>\n",
       "    <tr style=\"text-align: right;\">\n",
       "      <th></th>\n",
       "      <th>user_id</th>\n",
       "      <th>device_type</th>\n",
       "      <th>device_ram</th>\n",
       "      <th>device_rom</th>\n",
       "      <th>sex</th>\n",
       "      <th>age</th>\n",
       "      <th>education</th>\n",
       "      <th>occupation_status</th>\n",
       "      <th>territory_code</th>\n",
       "    </tr>\n",
       "  </thead>\n",
       "  <tbody>\n",
       "    <tr>\n",
       "      <th>596800</th>\n",
       "      <td>10268855</td>\n",
       "      <td>2.0</td>\n",
       "      <td>NaN</td>\n",
       "      <td>NaN</td>\n",
       "      <td>1.0</td>\n",
       "      <td>3.0</td>\n",
       "      <td>NaN</td>\n",
       "      <td>NaN</td>\n",
       "      <td>NaN</td>\n",
       "    </tr>\n",
       "    <tr>\n",
       "      <th>596801</th>\n",
       "      <td>10268855</td>\n",
       "      <td>2.0</td>\n",
       "      <td>NaN</td>\n",
       "      <td>NaN</td>\n",
       "      <td>1.0</td>\n",
       "      <td>3.0</td>\n",
       "      <td>NaN</td>\n",
       "      <td>NaN</td>\n",
       "      <td>NaN</td>\n",
       "    </tr>\n",
       "  </tbody>\n",
       "</table>\n",
       "</div>"
      ],
      "text/plain": [
       "         user_id  device_type device_ram device_rom  sex  age  education  \\\n",
       "596800  10268855          2.0        NaN        NaN  1.0  3.0        NaN   \n",
       "596801  10268855          2.0        NaN        NaN  1.0  3.0        NaN   \n",
       "\n",
       "        occupation_status  territory_code  \n",
       "596800                NaN             NaN  \n",
       "596801                NaN             NaN  "
      ]
     },
     "execution_count": null,
     "metadata": {},
     "output_type": "execute_result"
    }
   ],
   "source": [
    "user_portrait[user_portrait['user_id'] == 10268855]"
   ]
  },
  {
   "cell_type": "markdown",
   "metadata": {},
   "source": [
    "有一个用户记录存在重复，考虑剔除。"
   ]
  },
  {
   "cell_type": "code",
   "execution_count": null,
   "metadata": {},
   "outputs": [],
   "source": [
    "user_portrait = user_portrait.drop_duplicates()"
   ]
  },
  {
   "cell_type": "markdown",
   "metadata": {},
   "source": [
    "### device_type\n",
    "\n",
    "device_type 为类别类型，根据手机系统占比，猜测2为安卓，1为ios，3为wp，4为未知或其他\n",
    "\n",
    "![](https://ai-studio-static-online.cdn.bcebos.com/b78a549b18624f4f8dd746e68a687deaabd1969b09b843d689799fd749c79c1c)\n"
   ]
  },
  {
   "cell_type": "code",
   "execution_count": null,
   "metadata": {},
   "outputs": [
    {
     "data": {
      "text/plain": [
       "2.0    480055\n",
       "1.0     85322\n",
       "3.0     28909\n",
       "4.0      2280\n",
       "Name: device_type, dtype: int64"
      ]
     },
     "execution_count": null,
     "metadata": {},
     "output_type": "execute_result"
    }
   ],
   "source": [
    "user_portrait['device_type'].value_counts()"
   ]
  },
  {
   "cell_type": "markdown",
   "metadata": {},
   "source": [
    "### ram 和 rom\n",
    "\n",
    "在手机上，ROM用来存放数据，如系统程序，应用程序，音频，视频和文档的，由于视频等存储空间大，所以ROM比RAM大很多，现在主流手机都是8G的空间\n",
    "\n",
    "RAM又叫运行内存，存放临时程序的，速度要远大于ROM，现在主流手机都是1G的RAM,RAM越大，手机运行越快，玩大型游戏，也就越流畅"
   ]
  },
  {
   "cell_type": "code",
   "execution_count": null,
   "metadata": {},
   "outputs": [],
   "source": [
    "user_portrait['device_ram'] = user_portrait['device_ram'].apply(lambda x: str(x).split(';')[0])\n",
    "user_portrait['device_rom'] = user_portrait['device_rom'].apply(lambda x: str(x).split(';')[0])"
   ]
  },
  {
   "cell_type": "code",
   "execution_count": null,
   "metadata": {},
   "outputs": [
    {
     "data": {
      "text/plain": [
       "0         5731\n",
       "1         1877\n",
       "2         7593\n",
       "3          nan\n",
       "4         2816\n",
       "          ... \n",
       "596901    2084\n",
       "596902    3694\n",
       "596903    5709\n",
       "596904     nan\n",
       "596905    1035\n",
       "Name: device_ram, Length: 596905, dtype: object"
      ]
     },
     "execution_count": null,
     "metadata": {},
     "output_type": "execute_result"
    }
   ],
   "source": [
    "user_portrait['device_ram']"
   ]
  },
  {
   "cell_type": "code",
   "execution_count": null,
   "metadata": {},
   "outputs": [
    {
     "data": {
      "text/plain": [
       "<matplotlib.axes._subplots.AxesSubplot at 0x7f9e190c0a90>"
      ]
     },
     "execution_count": null,
     "metadata": {},
     "output_type": "execute_result"
    },
    {
     "data": {
      "image/png": "[encoded data removed]",
      "text/plain": [
       "<Figure size 432x288 with 1 Axes>"
      ]
     },
     "metadata": {},
     "output_type": "display_data"
    }
   ],
   "source": [
    "sns.distplot(user_portrait['device_ram'])"
   ]
  },
  {
   "cell_type": "code",
   "execution_count": null,
   "metadata": {},
   "outputs": [
    {
     "data": {
      "text/plain": [
       "<matplotlib.axes._subplots.AxesSubplot at 0x7f9e6d798290>"
      ]
     },
     "execution_count": null,
     "metadata": {},
     "output_type": "execute_result"
    },
    {
     "data": {
      "image/png": "[encoded data removed]",
      "text/plain": [
       "<Figure size 432x288 with 1 Axes>"
      ]
     },
     "metadata": {},
     "output_type": "display_data"
    }
   ],
   "source": [
    "sns.distplot(user_portrait['device_rom'])"
   ]
  },
  {
   "cell_type": "markdown",
   "metadata": {},
   "source": [
    "### sex"
   ]
  },
  {
   "cell_type": "code",
   "execution_count": null,
   "metadata": {},
   "outputs": [
    {
     "data": {
      "text/plain": [
       "1.0    308846\n",
       "2.0    281612\n",
       "Name: sex, dtype: int64"
      ]
     },
     "execution_count": null,
     "metadata": {},
     "output_type": "execute_result"
    }
   ],
   "source": [
    "user_portrait['sex'].value_counts()"
   ]
  },
  {
   "cell_type": "code",
   "execution_count": null,
   "metadata": {},
   "outputs": [],
   "source": []
  },
  {
   "cell_type": "markdown",
   "metadata": {},
   "source": [
    "### age"
   ]
  },
  {
   "cell_type": "code",
   "execution_count": null,
   "metadata": {},
   "outputs": [
    {
     "data": {
      "text/plain": [
       "<matplotlib.axes._subplots.AxesSubplot at 0x7f9760069950>"
      ]
     },
     "execution_count": null,
     "metadata": {},
     "output_type": "execute_result"
    },
    {
     "data": {
      "image/png": "[encoded data removed]",
      "text/plain": [
       "<Figure size 432x288 with 1 Axes>"
      ]
     },
     "metadata": {},
     "output_type": "display_data"
    }
   ],
   "source": [
    "sns.distplot(user_portrait['age'])"
   ]
  },
  {
   "cell_type": "markdown",
   "metadata": {},
   "source": [
    "### education\t"
   ]
  },
  {
   "cell_type": "code",
   "execution_count": null,
   "metadata": {},
   "outputs": [
    {
     "data": {
      "text/plain": [
       "<matplotlib.axes._subplots.AxesSubplot at 0x7f0cc1cd5610>"
      ]
     },
     "execution_count": null,
     "metadata": {},
     "output_type": "execute_result"
    },
    {
     "data": {
      "image/png": "[encoded data removed]",
      "text/plain": [
       "<Figure size 432x288 with 1 Axes>"
      ]
     },
     "metadata": {},
     "output_type": "display_data"
    }
   ],
   "source": [
    "sns.distplot(user_portrait['education'])"
   ]
  },
  {
   "cell_type": "markdown",
   "metadata": {},
   "source": [
    "### occupation_status"
   ]
  },
  {
   "cell_type": "code",
   "execution_count": null,
   "metadata": {},
   "outputs": [
    {
     "data": {
      "text/plain": [
       "<matplotlib.axes._subplots.AxesSubplot at 0x7f0c793e0d90>"
      ]
     },
     "execution_count": null,
     "metadata": {},
     "output_type": "execute_result"
    },
    {
     "data": {
      "image/png": "[encoded data removed]",
      "text/plain": [
       "<Figure size 432x288 with 1 Axes>"
      ]
     },
     "metadata": {},
     "output_type": "display_data"
    }
   ],
   "source": [
    "sns.distplot(user_portrait['occupation_status'])"
   ]
  },
  {
   "cell_type": "markdown",
   "metadata": {},
   "source": [
    "### territory_code\n",
    "\n",
    "用户常驻地域编号"
   ]
  },
  {
   "cell_type": "code",
   "execution_count": null,
   "metadata": {},
   "outputs": [
    {
     "data": {
      "text/plain": [
       "<matplotlib.axes._subplots.AxesSubplot at 0x7f0c791543d0>"
      ]
     },
     "execution_count": null,
     "metadata": {},
     "output_type": "execute_result"
    },
    {
     "data": {
      "image/png": "[encoded data removed]",
      "text/plain": [
       "<Figure size 432x288 with 1 Axes>"
      ]
     },
     "metadata": {},
     "output_type": "display_data"
    }
   ],
   "source": [
    "sns.distplot(user_portrait['territory_code'])"
   ]
  },
  {
   "cell_type": "markdown",
   "metadata": {},
   "source": [
    "## app_launch\n",
    "\n",
    "| Field name  | Description                                        |\n",
    "| ----------- | -------------------------------------------------- |\n",
    "| user_id     |                                                    |\n",
    "| date        | Desensitization, started from 0                    |\n",
    "| launch_type | spontaneous or launched by other apps & deep-links |\n",
    "\n"
   ]
  },
  {
   "cell_type": "code",
   "execution_count": null,
   "metadata": {},
   "outputs": [
    {
     "data": {
      "text/html": [
       "<div>\n",
       "<style scoped>\n",
       "    .dataframe tbody tr th:only-of-type {\n",
       "        vertical-align: middle;\n",
       "    }\n",
       "\n",
       "    .dataframe tbody tr th {\n",
       "        vertical-align: top;\n",
       "    }\n",
       "\n",
       "    .dataframe thead th {\n",
       "        text-align: right;\n",
       "    }\n",
       "</style>\n",
       "<table border=\"1\" class=\"dataframe\">\n",
       "  <thead>\n",
       "    <tr style=\"text-align: right;\">\n",
       "      <th></th>\n",
       "      <th>user_id</th>\n",
       "      <th>launch_type</th>\n",
       "      <th>date</th>\n",
       "    </tr>\n",
       "  </thead>\n",
       "  <tbody>\n",
       "    <tr>\n",
       "      <th>0</th>\n",
       "      <td>10157996</td>\n",
       "      <td>0</td>\n",
       "      <td>129</td>\n",
       "    </tr>\n",
       "    <tr>\n",
       "      <th>1</th>\n",
       "      <td>10139583</td>\n",
       "      <td>0</td>\n",
       "      <td>129</td>\n",
       "    </tr>\n",
       "  </tbody>\n",
       "</table>\n",
       "</div>"
      ],
      "text/plain": [
       "    user_id  launch_type  date\n",
       "0  10157996            0   129\n",
       "1  10139583            0   129"
      ]
     },
     "execution_count": null,
     "metadata": {},
     "output_type": "execute_result"
    }
   ],
   "source": [
    "app_launch.head(2)"
   ]
  },
  {
   "cell_type": "code",
   "execution_count": null,
   "metadata": {},
   "outputs": [
    {
     "name": "stdout",
     "output_type": "stream",
     "text": [
      "(8493878, 3)\n",
      "user_id \t int64 600000\n",
      "launch_type \t int64 2\n",
      "date \t int64 123\n"
     ]
    }
   ],
   "source": [
    "print(app_launch.shape)\n",
    "for col in app_launch.columns:\n",
    "    print(f'{col} \\t {app_launch.dtypes[col]} {app_launch[col].nunique()}')"
   ]
  },
  {
   "cell_type": "code",
   "execution_count": null,
   "metadata": {},
   "outputs": [
    {
     "data": {
      "text/plain": [
       "0    8110781\n",
       "1     383097\n",
       "Name: launch_type, dtype: int64"
      ]
     },
     "execution_count": null,
     "metadata": {},
     "output_type": "execute_result"
    }
   ],
   "source": [
    "app_launch['launch_type'].value_counts()"
   ]
  },
  {
   "cell_type": "code",
   "execution_count": null,
   "metadata": {},
   "outputs": [
    {
     "data": {
      "text/plain": [
       "user_id\n",
       "10000000    0.000000\n",
       "10000001    0.000000\n",
       "10000002    0.000000\n",
       "10000003    0.500000\n",
       "10000004    0.000000\n",
       "              ...   \n",
       "10599995    0.166667\n",
       "10599996    0.000000\n",
       "10599997    0.000000\n",
       "10599998    0.000000\n",
       "10599999    0.000000\n",
       "Name: launch_type, Length: 600000, dtype: float64"
      ]
     },
     "execution_count": null,
     "metadata": {},
     "output_type": "execute_result"
    }
   ],
   "source": [
    "app_launch.groupby('user_id')['launch_type'].mean()"
   ]
  },
  {
   "cell_type": "code",
   "execution_count": null,
   "metadata": {},
   "outputs": [],
   "source": [
    "app_launch = app_launch.sort_values(by=['user_id', 'date'])"
   ]
  },
  {
   "cell_type": "code",
   "execution_count": null,
   "metadata": {},
   "outputs": [
    {
     "data": {
      "text/html": [
       "<div>\n",
       "<style scoped>\n",
       "    .dataframe tbody tr th:only-of-type {\n",
       "        vertical-align: middle;\n",
       "    }\n",
       "\n",
       "    .dataframe tbody tr th {\n",
       "        vertical-align: top;\n",
       "    }\n",
       "\n",
       "    .dataframe thead th {\n",
       "        text-align: right;\n",
       "    }\n",
       "</style>\n",
       "<table border=\"1\" class=\"dataframe\">\n",
       "  <thead>\n",
       "    <tr style=\"text-align: right;\">\n",
       "      <th></th>\n",
       "      <th>user_id</th>\n",
       "      <th>launch_type</th>\n",
       "      <th>date</th>\n",
       "    </tr>\n",
       "  </thead>\n",
       "  <tbody>\n",
       "    <tr>\n",
       "      <th>4722964</th>\n",
       "      <td>10000000</td>\n",
       "      <td>0</td>\n",
       "      <td>131</td>\n",
       "    </tr>\n",
       "    <tr>\n",
       "      <th>4675122</th>\n",
       "      <td>10000000</td>\n",
       "      <td>0</td>\n",
       "      <td>132</td>\n",
       "    </tr>\n",
       "    <tr>\n",
       "      <th>1150520</th>\n",
       "      <td>10000000</td>\n",
       "      <td>0</td>\n",
       "      <td>141</td>\n",
       "    </tr>\n",
       "    <tr>\n",
       "      <th>4796452</th>\n",
       "      <td>10000000</td>\n",
       "      <td>0</td>\n",
       "      <td>164</td>\n",
       "    </tr>\n",
       "    <tr>\n",
       "      <th>6023992</th>\n",
       "      <td>10000000</td>\n",
       "      <td>0</td>\n",
       "      <td>179</td>\n",
       "    </tr>\n",
       "  </tbody>\n",
       "</table>\n",
       "</div>"
      ],
      "text/plain": [
       "          user_id  launch_type  date\n",
       "4722964  10000000            0   131\n",
       "4675122  10000000            0   132\n",
       "1150520  10000000            0   141\n",
       "4796452  10000000            0   164\n",
       "6023992  10000000            0   179"
      ]
     },
     "execution_count": null,
     "metadata": {},
     "output_type": "execute_result"
    }
   ],
   "source": [
    "app_launch.head()"
   ]
  },
  {
   "cell_type": "markdown",
   "metadata": {},
   "source": [
    "## video_related\n",
    "\n",
    "| Field name | Description                                                 |\n",
    "| ---------- | ----------------------------------------------------------- |\n",
    "| item_id    | id of the video                                             |\n",
    "| father_id  | album id, if the video is an episode of an album collection |\n",
    "| cast       | a list of actors/actresses                                  |\n",
    "| duration   | video length                                                |\n",
    "| tag_list   | a list of tags                                              |\n",
    "\n",
    " "
   ]
  },
  {
   "cell_type": "code",
   "execution_count": null,
   "metadata": {},
   "outputs": [
    {
     "data": {
      "text/html": [
       "<div>\n",
       "<style scoped>\n",
       "    .dataframe tbody tr th:only-of-type {\n",
       "        vertical-align: middle;\n",
       "    }\n",
       "\n",
       "    .dataframe tbody tr th {\n",
       "        vertical-align: top;\n",
       "    }\n",
       "\n",
       "    .dataframe thead th {\n",
       "        text-align: right;\n",
       "    }\n",
       "</style>\n",
       "<table border=\"1\" class=\"dataframe\">\n",
       "  <thead>\n",
       "    <tr style=\"text-align: right;\">\n",
       "      <th></th>\n",
       "      <th>item_id</th>\n",
       "      <th>duration</th>\n",
       "      <th>father_id</th>\n",
       "      <th>tag_list</th>\n",
       "      <th>cast</th>\n",
       "    </tr>\n",
       "  </thead>\n",
       "  <tbody>\n",
       "    <tr>\n",
       "      <th>0</th>\n",
       "      <td>24403453.0</td>\n",
       "      <td>6.0</td>\n",
       "      <td>NaN</td>\n",
       "      <td>50365080;50338575;50313222;50165986</td>\n",
       "      <td>NaN</td>\n",
       "    </tr>\n",
       "    <tr>\n",
       "      <th>1</th>\n",
       "      <td>22838795.0</td>\n",
       "      <td>7.0</td>\n",
       "      <td>NaN</td>\n",
       "      <td>50001708;50323515;50125414</td>\n",
       "      <td>NaN</td>\n",
       "    </tr>\n",
       "  </tbody>\n",
       "</table>\n",
       "</div>"
      ],
      "text/plain": [
       "      item_id  duration  father_id                             tag_list cast\n",
       "0  24403453.0       6.0        NaN  50365080;50338575;50313222;50165986  NaN\n",
       "1  22838795.0       7.0        NaN           50001708;50323515;50125414  NaN"
      ]
     },
     "execution_count": null,
     "metadata": {},
     "output_type": "execute_result"
    }
   ],
   "source": [
    "video_related.head(2)"
   ]
  },
  {
   "cell_type": "code",
   "execution_count": null,
   "metadata": {},
   "outputs": [
    {
     "data": {
      "text/plain": [
       "<matplotlib.axes._subplots.AxesSubplot at 0x7f9dcf693950>"
      ]
     },
     "execution_count": null,
     "metadata": {},
     "output_type": "execute_result"
    },
    {
     "data": {
      "image/png": "[encoded data removed]",
      "text/plain": [
       "<Figure size 432x288 with 1 Axes>"
      ]
     },
     "metadata": {},
     "output_type": "display_data"
    }
   ],
   "source": [
    "sns.distplot(video_related['duration'])"
   ]
  },
  {
   "cell_type": "markdown",
   "metadata": {},
   "source": [
    "## user_playback"
   ]
  },
  {
   "cell_type": "code",
   "execution_count": null,
   "metadata": {},
   "outputs": [
    {
     "data": {
      "text/html": [
       "<div>\n",
       "<style scoped>\n",
       "    .dataframe tbody tr th:only-of-type {\n",
       "        vertical-align: middle;\n",
       "    }\n",
       "\n",
       "    .dataframe tbody tr th {\n",
       "        vertical-align: top;\n",
       "    }\n",
       "\n",
       "    .dataframe thead th {\n",
       "        text-align: right;\n",
       "    }\n",
       "</style>\n",
       "<table border=\"1\" class=\"dataframe\">\n",
       "  <thead>\n",
       "    <tr style=\"text-align: right;\">\n",
       "      <th></th>\n",
       "      <th>user_id</th>\n",
       "      <th>item_id</th>\n",
       "      <th>playtime</th>\n",
       "      <th>date</th>\n",
       "    </tr>\n",
       "  </thead>\n",
       "  <tbody>\n",
       "    <tr>\n",
       "      <th>0</th>\n",
       "      <td>10057286</td>\n",
       "      <td>20628283.0</td>\n",
       "      <td>2208.612</td>\n",
       "      <td>145</td>\n",
       "    </tr>\n",
       "    <tr>\n",
       "      <th>1</th>\n",
       "      <td>10522615</td>\n",
       "      <td>23930557.0</td>\n",
       "      <td>31.054</td>\n",
       "      <td>145</td>\n",
       "    </tr>\n",
       "    <tr>\n",
       "      <th>2</th>\n",
       "      <td>10494028</td>\n",
       "      <td>20173699.0</td>\n",
       "      <td>115.952</td>\n",
       "      <td>145</td>\n",
       "    </tr>\n",
       "    <tr>\n",
       "      <th>3</th>\n",
       "      <td>10181987</td>\n",
       "      <td>21350426.0</td>\n",
       "      <td>1.585</td>\n",
       "      <td>145</td>\n",
       "    </tr>\n",
       "    <tr>\n",
       "      <th>4</th>\n",
       "      <td>10439175</td>\n",
       "      <td>22946929.0</td>\n",
       "      <td>51.726</td>\n",
       "      <td>145</td>\n",
       "    </tr>\n",
       "  </tbody>\n",
       "</table>\n",
       "</div>"
      ],
      "text/plain": [
       "    user_id     item_id  playtime  date\n",
       "0  10057286  20628283.0  2208.612   145\n",
       "1  10522615  23930557.0    31.054   145\n",
       "2  10494028  20173699.0   115.952   145\n",
       "3  10181987  21350426.0     1.585   145\n",
       "4  10439175  22946929.0    51.726   145"
      ]
     },
     "execution_count": null,
     "metadata": {},
     "output_type": "execute_result"
    }
   ],
   "source": [
    "user_playback.head()"
   ]
  },
  {
   "cell_type": "markdown",
   "metadata": {},
   "source": [
    "## user_interaction\n",
    "\n",
    "| Field name    | Description                                      |\n",
    "| ------------- | ------------------------------------------------ |\n",
    "| user_id       |                                                  |\n",
    "| item_id       |                                                  |\n",
    "| interact_type | interaction types such as posting comments, etc. |\n",
    "| date          | timestamp of the behavior                        |"
   ]
  },
  {
   "cell_type": "code",
   "execution_count": null,
   "metadata": {},
   "outputs": [
    {
     "data": {
      "text/html": [
       "<div>\n",
       "<style scoped>\n",
       "    .dataframe tbody tr th:only-of-type {\n",
       "        vertical-align: middle;\n",
       "    }\n",
       "\n",
       "    .dataframe tbody tr th {\n",
       "        vertical-align: top;\n",
       "    }\n",
       "\n",
       "    .dataframe thead th {\n",
       "        text-align: right;\n",
       "    }\n",
       "</style>\n",
       "<table border=\"1\" class=\"dataframe\">\n",
       "  <thead>\n",
       "    <tr style=\"text-align: right;\">\n",
       "      <th></th>\n",
       "      <th>user_id</th>\n",
       "      <th>item_id</th>\n",
       "      <th>interact_type</th>\n",
       "      <th>date</th>\n",
       "    </tr>\n",
       "  </thead>\n",
       "  <tbody>\n",
       "    <tr>\n",
       "      <th>0</th>\n",
       "      <td>10243056</td>\n",
       "      <td>22635954</td>\n",
       "      <td>1</td>\n",
       "      <td>213</td>\n",
       "    </tr>\n",
       "    <tr>\n",
       "      <th>1</th>\n",
       "      <td>10203565</td>\n",
       "      <td>24723827</td>\n",
       "      <td>3</td>\n",
       "      <td>213</td>\n",
       "    </tr>\n",
       "  </tbody>\n",
       "</table>\n",
       "</div>"
      ],
      "text/plain": [
       "    user_id   item_id  interact_type  date\n",
       "0  10243056  22635954              1   213\n",
       "1  10203565  24723827              3   213"
      ]
     },
     "execution_count": null,
     "metadata": {},
     "output_type": "execute_result"
    }
   ],
   "source": [
    "user_interaction.head(2)"
   ]
  },
  {
   "cell_type": "markdown",
   "metadata": {},
   "source": [
    "# 探索性数据分析\n",
    "\n",
    "- app_launch\n",
    "    - 历史一天、三天、一周、一个月、三个月的行为"
   ]
  },
  {
   "cell_type": "code",
   "execution_count": null,
   "metadata": {},
   "outputs": [
    {
     "name": "stdout",
     "output_type": "stream",
     "text": [
      "0.49971594390170543\n"
     ]
    }
   ],
   "source": [
    "def count_launch_by_day(day1, day2):\n",
    "    u1 = set(app_launch[app_launch['date'].isin(day1)]['user_id'].unique())\n",
    "    u2 = set(app_launch[app_launch['date'].isin(day2)]['user_id'].unique())\n",
    "\n",
    "    print(len(u1&u2)/len(u1))\n",
    "\n",
    "count_launch_by_day([131], [132])"
   ]
  },
  {
   "cell_type": "code",
   "execution_count": null,
   "metadata": {},
   "outputs": [
    {
     "data": {
      "text/plain": [
       "(100, 222)"
      ]
     },
     "execution_count": null,
     "metadata": {},
     "output_type": "execute_result"
    }
   ],
   "source": [
    "app_launch['date'].min(), app_launch['date'].max()"
   ]
  },
  {
   "cell_type": "code",
   "execution_count": null,
   "metadata": {},
   "outputs": [
    {
     "data": {
      "text/html": [
       "<div>\n",
       "<style scoped>\n",
       "    .dataframe tbody tr th:only-of-type {\n",
       "        vertical-align: middle;\n",
       "    }\n",
       "\n",
       "    .dataframe tbody tr th {\n",
       "        vertical-align: top;\n",
       "    }\n",
       "\n",
       "    .dataframe thead th {\n",
       "        text-align: right;\n",
       "    }\n",
       "</style>\n",
       "<table border=\"1\" class=\"dataframe\">\n",
       "  <thead>\n",
       "    <tr style=\"text-align: right;\">\n",
       "      <th></th>\n",
       "      <th>user_id</th>\n",
       "      <th>launch_type</th>\n",
       "      <th>date</th>\n",
       "    </tr>\n",
       "  </thead>\n",
       "  <tbody>\n",
       "    <tr>\n",
       "      <th>6547213</th>\n",
       "      <td>10052988</td>\n",
       "      <td>0</td>\n",
       "      <td>147</td>\n",
       "    </tr>\n",
       "    <tr>\n",
       "      <th>2524483</th>\n",
       "      <td>10052988</td>\n",
       "      <td>0</td>\n",
       "      <td>149</td>\n",
       "    </tr>\n",
       "  </tbody>\n",
       "</table>\n",
       "</div>"
      ],
      "text/plain": [
       "          user_id  launch_type  date\n",
       "6547213  10052988            0   147\n",
       "2524483  10052988            0   149"
      ]
     },
     "execution_count": null,
     "metadata": {},
     "output_type": "execute_result"
    }
   ],
   "source": [
    "app_launch[app_launch['user_id'] == 10052988]"
   ]
  },
  {
   "cell_type": "code",
   "execution_count": null,
   "metadata": {},
   "outputs": [
    {
     "data": {
      "text/html": [
       "<div>\n",
       "<style scoped>\n",
       "    .dataframe tbody tr th:only-of-type {\n",
       "        vertical-align: middle;\n",
       "    }\n",
       "\n",
       "    .dataframe tbody tr th {\n",
       "        vertical-align: top;\n",
       "    }\n",
       "\n",
       "    .dataframe thead th {\n",
       "        text-align: right;\n",
       "    }\n",
       "</style>\n",
       "<table border=\"1\" class=\"dataframe\">\n",
       "  <thead>\n",
       "    <tr style=\"text-align: right;\">\n",
       "      <th></th>\n",
       "      <th>user_id</th>\n",
       "      <th>end_date</th>\n",
       "    </tr>\n",
       "  </thead>\n",
       "  <tbody>\n",
       "    <tr>\n",
       "      <th>0</th>\n",
       "      <td>10007813</td>\n",
       "      <td>205</td>\n",
       "    </tr>\n",
       "    <tr>\n",
       "      <th>1</th>\n",
       "      <td>10052988</td>\n",
       "      <td>210</td>\n",
       "    </tr>\n",
       "    <tr>\n",
       "      <th>2</th>\n",
       "      <td>10279068</td>\n",
       "      <td>200</td>\n",
       "    </tr>\n",
       "    <tr>\n",
       "      <th>3</th>\n",
       "      <td>10546696</td>\n",
       "      <td>216</td>\n",
       "    </tr>\n",
       "    <tr>\n",
       "      <th>4</th>\n",
       "      <td>10406659</td>\n",
       "      <td>183</td>\n",
       "    </tr>\n",
       "    <tr>\n",
       "      <th>...</th>\n",
       "      <td>...</td>\n",
       "      <td>...</td>\n",
       "    </tr>\n",
       "    <tr>\n",
       "      <th>14996</th>\n",
       "      <td>10355586</td>\n",
       "      <td>205</td>\n",
       "    </tr>\n",
       "    <tr>\n",
       "      <th>14997</th>\n",
       "      <td>10589773</td>\n",
       "      <td>210</td>\n",
       "    </tr>\n",
       "    <tr>\n",
       "      <th>14998</th>\n",
       "      <td>10181954</td>\n",
       "      <td>218</td>\n",
       "    </tr>\n",
       "    <tr>\n",
       "      <th>14999</th>\n",
       "      <td>10544736</td>\n",
       "      <td>164</td>\n",
       "    </tr>\n",
       "    <tr>\n",
       "      <th>15000</th>\n",
       "      <td>10354569</td>\n",
       "      <td>187</td>\n",
       "    </tr>\n",
       "  </tbody>\n",
       "</table>\n",
       "<p>15001 rows × 2 columns</p>\n",
       "</div>"
      ],
      "text/plain": [
       "        user_id  end_date\n",
       "0      10007813       205\n",
       "1      10052988       210\n",
       "2      10279068       200\n",
       "3      10546696       216\n",
       "4      10406659       183\n",
       "...         ...       ...\n",
       "14996  10355586       205\n",
       "14997  10589773       210\n",
       "14998  10181954       218\n",
       "14999  10544736       164\n",
       "15000  10354569       187\n",
       "\n",
       "[15001 rows x 2 columns]"
      ]
     },
     "execution_count": null,
     "metadata": {},
     "output_type": "execute_result"
    }
   ],
   "source": [
    "test_a = pd.read_csv('test-a.csv')\n",
    "test_a"
   ]
  },
  {
   "cell_type": "markdown",
   "metadata": {},
   "source": [
    "# 特征工程"
   ]
  },
  {
   "cell_type": "code",
   "execution_count": null,
   "metadata": {},
   "outputs": [
    {
     "name": "stdout",
     "output_type": "stream",
     "text": [
      "mkdir: cannot create directory ‘wsdm_model_data’: File exists\r\n"
     ]
    }
   ],
   "source": [
    "# del user_interaction, user_portrait, user_playback, app_launch, video_related\n",
    "\n",
    "!mkdir wsdm_model_data\n",
    "!python3 baseline_feature_engineering.py"
   ]
  },
  {
   "cell_type": "markdown",
   "metadata": {},
   "source": [
    "# 构建模型 + 训练"
   ]
  },
  {
   "cell_type": "code",
   "execution_count": null,
   "metadata": {},
   "outputs": [
    {
     "name": "stdout",
     "output_type": "stream",
     "text": [
      "Archive:  data.zip\n",
      "replace app_launch_logs.csv? [y]es, [n]o, [A]ll, [N]one, [r]ename: ^C\n"
     ]
    }
   ],
   "source": [
    "!unzip data.zip"
   ]
  },
  {
   "cell_type": "code",
   "execution_count": 1,
   "metadata": {},
   "outputs": [],
   "source": [
    "import pandas as pd\n",
    "import numpy as np\n",
    "import json\n",
    "import math\n",
    "\n",
    "data_dir = \"./wsdm_model_data/\""
   ]
  },
  {
   "cell_type": "code",
   "execution_count": 2,
   "metadata": {},
   "outputs": [],
   "source": [
    "# train data\n",
    "data = pd.read_csv(data_dir + \"train_data.txt\", sep=\"\\t\")\n",
    "data[\"launch_seq\"] = data.launch_seq.apply(lambda x: json.loads(x))\n",
    "data[\"playtime_seq\"] = data.playtime_seq.apply(lambda x: json.loads(x))\n",
    "data[\"duration_prefer\"] = data.duration_prefer.apply(lambda x: json.loads(x))\n",
    "data[\"interact_prefer\"] = data.interact_prefer.apply(lambda x: json.loads(x))"
   ]
  },
  {
   "cell_type": "code",
   "execution_count": 3,
   "metadata": {},
   "outputs": [],
   "source": [
    "# shuffle data\n",
    "data = data.sample(frac=1).reset_index(drop=True)"
   ]
  },
  {
   "cell_type": "code",
   "execution_count": 4,
   "metadata": {},
   "outputs": [
    {
     "data": {
      "text/plain": [
       "Index(['user_id', 'end_date', 'label', 'launch_seq', 'playtime_seq',\n",
       "       'duration_prefer', 'father_id_score', 'cast_id_score', 'tag_score',\n",
       "       'device_type', 'device_ram', 'device_rom', 'sex', 'age', 'education',\n",
       "       'occupation_status', 'territory_score', 'interact_prefer'],\n",
       "      dtype='object')"
      ]
     },
     "execution_count": 4,
     "metadata": {},
     "output_type": "execute_result"
    }
   ],
   "source": [
    "data.columns"
   ]
  },
  {
   "cell_type": "code",
   "execution_count": 5,
   "metadata": {},
   "outputs": [
    {
     "data": {
      "text/html": [
       "<div>\n",
       "<style scoped>\n",
       "    .dataframe tbody tr th:only-of-type {\n",
       "        vertical-align: middle;\n",
       "    }\n",
       "\n",
       "    .dataframe tbody tr th {\n",
       "        vertical-align: top;\n",
       "    }\n",
       "\n",
       "    .dataframe thead th {\n",
       "        text-align: right;\n",
       "    }\n",
       "</style>\n",
       "<table border=\"1\" class=\"dataframe\">\n",
       "  <thead>\n",
       "    <tr style=\"text-align: right;\">\n",
       "      <th></th>\n",
       "      <th>user_id</th>\n",
       "      <th>end_date</th>\n",
       "      <th>label</th>\n",
       "      <th>launch_seq</th>\n",
       "      <th>playtime_seq</th>\n",
       "      <th>duration_prefer</th>\n",
       "      <th>father_id_score</th>\n",
       "      <th>cast_id_score</th>\n",
       "      <th>tag_score</th>\n",
       "      <th>device_type</th>\n",
       "      <th>device_ram</th>\n",
       "      <th>device_rom</th>\n",
       "      <th>sex</th>\n",
       "      <th>age</th>\n",
       "      <th>education</th>\n",
       "      <th>occupation_status</th>\n",
       "      <th>territory_score</th>\n",
       "      <th>interact_prefer</th>\n",
       "    </tr>\n",
       "  </thead>\n",
       "  <tbody>\n",
       "    <tr>\n",
       "      <th>0</th>\n",
       "      <td>10349162</td>\n",
       "      <td>198</td>\n",
       "      <td>3</td>\n",
       "      <td>[0, 0, 0, 0, 0, 0, 1, 0, 1, 0, 0, 1, 1, 1, 1, ...</td>\n",
       "      <td>[0, 0, 0, 0, 0, 0, 0.0524, 0, 0.0778, 0, 0, 0....</td>\n",
       "      <td>[0.0, 0.0, 0.0, 0.0, 0.0, 0.0, 0.2, 0.2, 0.0, ...</td>\n",
       "      <td>-0.038637</td>\n",
       "      <td>-0.137248</td>\n",
       "      <td>0.292091</td>\n",
       "      <td>0.194954</td>\n",
       "      <td>1.012626</td>\n",
       "      <td>-0.150114</td>\n",
       "      <td>-0.955892</td>\n",
       "      <td>0.828011</td>\n",
       "      <td>-0.544818</td>\n",
       "      <td>0.746096</td>\n",
       "      <td>-0.682642</td>\n",
       "      <td>[0, 0, 0, 0, 0, 0, 0, 0, 0, 0, 0]</td>\n",
       "    </tr>\n",
       "    <tr>\n",
       "      <th>1</th>\n",
       "      <td>10022248</td>\n",
       "      <td>159</td>\n",
       "      <td>3</td>\n",
       "      <td>[0, 0, 0, 0, 0, 0, 0, 0, 0, 1, 1, 1, 1, 1, 1, ...</td>\n",
       "      <td>[0, 0, 0, 0, 0, 0, 0, 0, 0, 0.4198, 0.6352, 0....</td>\n",
       "      <td>[0.0, 0.0, 0.0155, 0.0465, 0.2016, 0.0853, 0.1...</td>\n",
       "      <td>0.938688</td>\n",
       "      <td>0.000000</td>\n",
       "      <td>1.259644</td>\n",
       "      <td>0.194954</td>\n",
       "      <td>0.180240</td>\n",
       "      <td>-0.131413</td>\n",
       "      <td>-0.955892</td>\n",
       "      <td>0.828011</td>\n",
       "      <td>-0.544818</td>\n",
       "      <td>-1.340308</td>\n",
       "      <td>-1.373823</td>\n",
       "      <td>[0.0, 0.0, 0.0, 0.0, 0.0, 0.0, 0.0, 0.0, 1.0, ...</td>\n",
       "    </tr>\n",
       "    <tr>\n",
       "      <th>2</th>\n",
       "      <td>10255988</td>\n",
       "      <td>109</td>\n",
       "      <td>2</td>\n",
       "      <td>[0, 0, 0, 0, 0, 0, 0, 0, 0, 0, 0, 0, 0, 0, 0, ...</td>\n",
       "      <td>[0, 0, 0, 0, 0, 0, 0, 0, 0, 0, 0, 0, 0, 0, 0, ...</td>\n",
       "      <td>[0, 0, 0, 0, 0, 0, 0, 0, 0, 0, 0, 0, 0, 0, 0, 0]</td>\n",
       "      <td>0.000000</td>\n",
       "      <td>0.000000</td>\n",
       "      <td>0.000000</td>\n",
       "      <td>0.194954</td>\n",
       "      <td>0.213324</td>\n",
       "      <td>-0.172935</td>\n",
       "      <td>-0.955892</td>\n",
       "      <td>0.828011</td>\n",
       "      <td>-0.544818</td>\n",
       "      <td>0.746096</td>\n",
       "      <td>-2.258860</td>\n",
       "      <td>[0, 0, 0, 0, 0, 0, 0, 0, 0, 0, 0]</td>\n",
       "    </tr>\n",
       "    <tr>\n",
       "      <th>3</th>\n",
       "      <td>10259939</td>\n",
       "      <td>138</td>\n",
       "      <td>1</td>\n",
       "      <td>[0, 0, 0, 0, 0, 0, 0, 0, 0, 0, 0, 0, 0, 0, 0, ...</td>\n",
       "      <td>[0, 0, 0, 0, 0, 0, 0, 0, 0, 0, 0, 0, 0, 0, 0, ...</td>\n",
       "      <td>[0.0, 0.0, 0.0, 0.25, 0.0, 0.0, 1.0, 0.5, 0.0,...</td>\n",
       "      <td>0.488861</td>\n",
       "      <td>1.428504</td>\n",
       "      <td>0.951751</td>\n",
       "      <td>-2.041925</td>\n",
       "      <td>-1.121563</td>\n",
       "      <td>-0.700662</td>\n",
       "      <td>-0.955892</td>\n",
       "      <td>0.828011</td>\n",
       "      <td>-0.544818</td>\n",
       "      <td>0.746096</td>\n",
       "      <td>0.144053</td>\n",
       "      <td>[0, 0, 0, 0, 0, 0, 0, 0, 0, 0, 0]</td>\n",
       "    </tr>\n",
       "    <tr>\n",
       "      <th>4</th>\n",
       "      <td>10269691</td>\n",
       "      <td>123</td>\n",
       "      <td>3</td>\n",
       "      <td>[0, 0, 0, 0, 0, 0, 0, 0, 0, 0, 1, 0, 0, 0, 0, ...</td>\n",
       "      <td>[0, 0, 0, 0, 0, 0, 0, 0, 0, 0, 0.0477, 0, 0, 0...</td>\n",
       "      <td>[0, 0, 0, 0, 0, 0, 0, 0, 0, 0, 0, 0, 0, 0, 0, 0]</td>\n",
       "      <td>0.000000</td>\n",
       "      <td>0.000000</td>\n",
       "      <td>0.000000</td>\n",
       "      <td>-2.041925</td>\n",
       "      <td>-0.601322</td>\n",
       "      <td>1.515661</td>\n",
       "      <td>1.046141</td>\n",
       "      <td>-0.319111</td>\n",
       "      <td>0.755516</td>\n",
       "      <td>0.746096</td>\n",
       "      <td>1.174404</td>\n",
       "      <td>[0.0, 0.0, 0.0, 0.0, 0.0, 0.0, 0.0, 0.0, 0.0, ...</td>\n",
       "    </tr>\n",
       "    <tr>\n",
       "      <th>...</th>\n",
       "      <td>...</td>\n",
       "      <td>...</td>\n",
       "      <td>...</td>\n",
       "      <td>...</td>\n",
       "      <td>...</td>\n",
       "      <td>...</td>\n",
       "      <td>...</td>\n",
       "      <td>...</td>\n",
       "      <td>...</td>\n",
       "      <td>...</td>\n",
       "      <td>...</td>\n",
       "      <td>...</td>\n",
       "      <td>...</td>\n",
       "      <td>...</td>\n",
       "      <td>...</td>\n",
       "      <td>...</td>\n",
       "      <td>...</td>\n",
       "      <td>...</td>\n",
       "    </tr>\n",
       "    <tr>\n",
       "      <th>599996</th>\n",
       "      <td>10437362</td>\n",
       "      <td>208</td>\n",
       "      <td>2</td>\n",
       "      <td>[1, 1, 1, 1, 1, 1, 1, 0, 0, 0, 0, 0, 0, 0, 2, ...</td>\n",
       "      <td>[1.0, 0.9989, 1.0, 0.9999, 1.0, 1.0, 0.9685, 0...</td>\n",
       "      <td>[0.0, 0.0, 0.0, 0.0714, 0.2143, 0.2143, 0.0, 0...</td>\n",
       "      <td>-0.528174</td>\n",
       "      <td>-0.773590</td>\n",
       "      <td>0.285012</td>\n",
       "      <td>0.194954</td>\n",
       "      <td>0.147635</td>\n",
       "      <td>1.245125</td>\n",
       "      <td>1.046141</td>\n",
       "      <td>0.828011</td>\n",
       "      <td>-0.544818</td>\n",
       "      <td>0.746096</td>\n",
       "      <td>-1.586223</td>\n",
       "      <td>[0.0, 0.0, 0.0, 0.0, 0.0, 0.0, 0.0, 1.0, 0.0, ...</td>\n",
       "    </tr>\n",
       "    <tr>\n",
       "      <th>599997</th>\n",
       "      <td>10152780</td>\n",
       "      <td>187</td>\n",
       "      <td>3</td>\n",
       "      <td>[0, 1, 1, 0, 0, 0, 1, 1, 1, 0, 1, 1, 0, 1, 1, ...</td>\n",
       "      <td>[0, 0.0658, 0, 0, 0, 0, 0.0978, 0.9949, 0, 0, ...</td>\n",
       "      <td>[0.0, 0.0, 0.0, 0.0, 0.0, 0.2222, 0.1111, 0.11...</td>\n",
       "      <td>-1.318310</td>\n",
       "      <td>-1.175363</td>\n",
       "      <td>-0.151353</td>\n",
       "      <td>0.194954</td>\n",
       "      <td>1.109962</td>\n",
       "      <td>1.074015</td>\n",
       "      <td>1.046141</td>\n",
       "      <td>0.828011</td>\n",
       "      <td>-0.544818</td>\n",
       "      <td>0.746096</td>\n",
       "      <td>1.624790</td>\n",
       "      <td>[0, 0, 0, 0, 0, 0, 0, 0, 0, 0, 0]</td>\n",
       "    </tr>\n",
       "    <tr>\n",
       "      <th>599998</th>\n",
       "      <td>10556957</td>\n",
       "      <td>126</td>\n",
       "      <td>0</td>\n",
       "      <td>[0, 0, 0, 0, 0, 1, 0, 1, 1, 0, 0, 0, 0, 0, 0, ...</td>\n",
       "      <td>[0, 0, 0, 0, 0, 1.0, 0, 0.9368, 1.0, 0, 0, 0, ...</td>\n",
       "      <td>[0.0, 0.0, 0.0, 0.0, 0.0, 0.0, 0.0, 0.0, 0.0, ...</td>\n",
       "      <td>1.417115</td>\n",
       "      <td>1.371038</td>\n",
       "      <td>-0.060755</td>\n",
       "      <td>0.194954</td>\n",
       "      <td>0.958445</td>\n",
       "      <td>3.870703</td>\n",
       "      <td>-0.955892</td>\n",
       "      <td>-0.319111</td>\n",
       "      <td>0.755516</td>\n",
       "      <td>-1.340308</td>\n",
       "      <td>-0.485012</td>\n",
       "      <td>[0, 0, 0, 0, 0, 0, 0, 0, 0, 0, 0]</td>\n",
       "    </tr>\n",
       "    <tr>\n",
       "      <th>599999</th>\n",
       "      <td>10257880</td>\n",
       "      <td>164</td>\n",
       "      <td>0</td>\n",
       "      <td>[0, 1, 0, 0, 0, 0, 0, 0, 0, 0, 0, 0, 0, 0, 0, ...</td>\n",
       "      <td>[0, 0, 0, 0, 0, 0, 0, 0, 0, 0, 0, 0, 0, 0, 0, ...</td>\n",
       "      <td>[0, 0, 0, 0, 0, 0, 0, 0, 0, 0, 0, 0, 0, 0, 0, 0]</td>\n",
       "      <td>0.000000</td>\n",
       "      <td>0.000000</td>\n",
       "      <td>0.000000</td>\n",
       "      <td>0.194954</td>\n",
       "      <td>0.202775</td>\n",
       "      <td>-0.142737</td>\n",
       "      <td>1.046141</td>\n",
       "      <td>-1.466234</td>\n",
       "      <td>-0.544818</td>\n",
       "      <td>-1.340308</td>\n",
       "      <td>-0.590364</td>\n",
       "      <td>[0, 0, 0, 0, 0, 0, 0, 0, 0, 0, 0]</td>\n",
       "    </tr>\n",
       "    <tr>\n",
       "      <th>600000</th>\n",
       "      <td>10192840</td>\n",
       "      <td>147</td>\n",
       "      <td>0</td>\n",
       "      <td>[0, 0, 0, 0, 0, 0, 0, 0, 0, 0, 0, 0, 0, 0, 0, ...</td>\n",
       "      <td>[0, 0, 0, 0, 0, 0, 0, 0, 0, 0, 0, 0, 0, 0, 0, ...</td>\n",
       "      <td>[0, 0, 0, 0, 0, 0, 0, 0, 0, 0, 0, 0, 0, 0, 0, 0]</td>\n",
       "      <td>0.000000</td>\n",
       "      <td>0.000000</td>\n",
       "      <td>0.000000</td>\n",
       "      <td>2.431832</td>\n",
       "      <td>-1.052517</td>\n",
       "      <td>0.038659</td>\n",
       "      <td>-0.955892</td>\n",
       "      <td>-1.466234</td>\n",
       "      <td>2.055850</td>\n",
       "      <td>-1.340308</td>\n",
       "      <td>0.000000</td>\n",
       "      <td>[0, 0, 0, 0, 0, 0, 0, 0, 0, 0, 0]</td>\n",
       "    </tr>\n",
       "  </tbody>\n",
       "</table>\n",
       "<p>600001 rows × 18 columns</p>\n",
       "</div>"
      ],
      "text/plain": [
       "         user_id  end_date  label  \\\n",
       "0       10349162       198      3   \n",
       "1       10022248       159      3   \n",
       "2       10255988       109      2   \n",
       "3       10259939       138      1   \n",
       "4       10269691       123      3   \n",
       "...          ...       ...    ...   \n",
       "599996  10437362       208      2   \n",
       "599997  10152780       187      3   \n",
       "599998  10556957       126      0   \n",
       "599999  10257880       164      0   \n",
       "600000  10192840       147      0   \n",
       "\n",
       "                                               launch_seq  \\\n",
       "0       [0, 0, 0, 0, 0, 0, 1, 0, 1, 0, 0, 1, 1, 1, 1, ...   \n",
       "1       [0, 0, 0, 0, 0, 0, 0, 0, 0, 1, 1, 1, 1, 1, 1, ...   \n",
       "2       [0, 0, 0, 0, 0, 0, 0, 0, 0, 0, 0, 0, 0, 0, 0, ...   \n",
       "3       [0, 0, 0, 0, 0, 0, 0, 0, 0, 0, 0, 0, 0, 0, 0, ...   \n",
       "4       [0, 0, 0, 0, 0, 0, 0, 0, 0, 0, 1, 0, 0, 0, 0, ...   \n",
       "...                                                   ...   \n",
       "599996  [1, 1, 1, 1, 1, 1, 1, 0, 0, 0, 0, 0, 0, 0, 2, ...   \n",
       "599997  [0, 1, 1, 0, 0, 0, 1, 1, 1, 0, 1, 1, 0, 1, 1, ...   \n",
       "599998  [0, 0, 0, 0, 0, 1, 0, 1, 1, 0, 0, 0, 0, 0, 0, ...   \n",
       "599999  [0, 1, 0, 0, 0, 0, 0, 0, 0, 0, 0, 0, 0, 0, 0, ...   \n",
       "600000  [0, 0, 0, 0, 0, 0, 0, 0, 0, 0, 0, 0, 0, 0, 0, ...   \n",
       "\n",
       "                                             playtime_seq  \\\n",
       "0       [0, 0, 0, 0, 0, 0, 0.0524, 0, 0.0778, 0, 0, 0....   \n",
       "1       [0, 0, 0, 0, 0, 0, 0, 0, 0, 0.4198, 0.6352, 0....   \n",
       "2       [0, 0, 0, 0, 0, 0, 0, 0, 0, 0, 0, 0, 0, 0, 0, ...   \n",
       "3       [0, 0, 0, 0, 0, 0, 0, 0, 0, 0, 0, 0, 0, 0, 0, ...   \n",
       "4       [0, 0, 0, 0, 0, 0, 0, 0, 0, 0, 0.0477, 0, 0, 0...   \n",
       "...                                                   ...   \n",
       "599996  [1.0, 0.9989, 1.0, 0.9999, 1.0, 1.0, 0.9685, 0...   \n",
       "599997  [0, 0.0658, 0, 0, 0, 0, 0.0978, 0.9949, 0, 0, ...   \n",
       "599998  [0, 0, 0, 0, 0, 1.0, 0, 0.9368, 1.0, 0, 0, 0, ...   \n",
       "599999  [0, 0, 0, 0, 0, 0, 0, 0, 0, 0, 0, 0, 0, 0, 0, ...   \n",
       "600000  [0, 0, 0, 0, 0, 0, 0, 0, 0, 0, 0, 0, 0, 0, 0, ...   \n",
       "\n",
       "                                          duration_prefer  father_id_score  \\\n",
       "0       [0.0, 0.0, 0.0, 0.0, 0.0, 0.0, 0.2, 0.2, 0.0, ...        -0.038637   \n",
       "1       [0.0, 0.0, 0.0155, 0.0465, 0.2016, 0.0853, 0.1...         0.938688   \n",
       "2        [0, 0, 0, 0, 0, 0, 0, 0, 0, 0, 0, 0, 0, 0, 0, 0]         0.000000   \n",
       "3       [0.0, 0.0, 0.0, 0.25, 0.0, 0.0, 1.0, 0.5, 0.0,...         0.488861   \n",
       "4        [0, 0, 0, 0, 0, 0, 0, 0, 0, 0, 0, 0, 0, 0, 0, 0]         0.000000   \n",
       "...                                                   ...              ...   \n",
       "599996  [0.0, 0.0, 0.0, 0.0714, 0.2143, 0.2143, 0.0, 0...        -0.528174   \n",
       "599997  [0.0, 0.0, 0.0, 0.0, 0.0, 0.2222, 0.1111, 0.11...        -1.318310   \n",
       "599998  [0.0, 0.0, 0.0, 0.0, 0.0, 0.0, 0.0, 0.0, 0.0, ...         1.417115   \n",
       "599999   [0, 0, 0, 0, 0, 0, 0, 0, 0, 0, 0, 0, 0, 0, 0, 0]         0.000000   \n",
       "600000   [0, 0, 0, 0, 0, 0, 0, 0, 0, 0, 0, 0, 0, 0, 0, 0]         0.000000   \n",
       "\n",
       "        cast_id_score  tag_score  device_type  device_ram  device_rom  \\\n",
       "0           -0.137248   0.292091     0.194954    1.012626   -0.150114   \n",
       "1            0.000000   1.259644     0.194954    0.180240   -0.131413   \n",
       "2            0.000000   0.000000     0.194954    0.213324   -0.172935   \n",
       "3            1.428504   0.951751    -2.041925   -1.121563   -0.700662   \n",
       "4            0.000000   0.000000    -2.041925   -0.601322    1.515661   \n",
       "...               ...        ...          ...         ...         ...   \n",
       "599996      -0.773590   0.285012     0.194954    0.147635    1.245125   \n",
       "599997      -1.175363  -0.151353     0.194954    1.109962    1.074015   \n",
       "599998       1.371038  -0.060755     0.194954    0.958445    3.870703   \n",
       "599999       0.000000   0.000000     0.194954    0.202775   -0.142737   \n",
       "600000       0.000000   0.000000     2.431832   -1.052517    0.038659   \n",
       "\n",
       "             sex       age  education  occupation_status  territory_score  \\\n",
       "0      -0.955892  0.828011  -0.544818           0.746096        -0.682642   \n",
       "1      -0.955892  0.828011  -0.544818          -1.340308        -1.373823   \n",
       "2      -0.955892  0.828011  -0.544818           0.746096        -2.258860   \n",
       "3      -0.955892  0.828011  -0.544818           0.746096         0.144053   \n",
       "4       1.046141 -0.319111   0.755516           0.746096         1.174404   \n",
       "...          ...       ...        ...                ...              ...   \n",
       "599996  1.046141  0.828011  -0.544818           0.746096        -1.586223   \n",
       "599997  1.046141  0.828011  -0.544818           0.746096         1.624790   \n",
       "599998 -0.955892 -0.319111   0.755516          -1.340308        -0.485012   \n",
       "599999  1.046141 -1.466234  -0.544818          -1.340308        -0.590364   \n",
       "600000 -0.955892 -1.466234   2.055850          -1.340308         0.000000   \n",
       "\n",
       "                                          interact_prefer  \n",
       "0                       [0, 0, 0, 0, 0, 0, 0, 0, 0, 0, 0]  \n",
       "1       [0.0, 0.0, 0.0, 0.0, 0.0, 0.0, 0.0, 0.0, 1.0, ...  \n",
       "2                       [0, 0, 0, 0, 0, 0, 0, 0, 0, 0, 0]  \n",
       "3                       [0, 0, 0, 0, 0, 0, 0, 0, 0, 0, 0]  \n",
       "4       [0.0, 0.0, 0.0, 0.0, 0.0, 0.0, 0.0, 0.0, 0.0, ...  \n",
       "...                                                   ...  \n",
       "599996  [0.0, 0.0, 0.0, 0.0, 0.0, 0.0, 0.0, 1.0, 0.0, ...  \n",
       "599997                  [0, 0, 0, 0, 0, 0, 0, 0, 0, 0, 0]  \n",
       "599998                  [0, 0, 0, 0, 0, 0, 0, 0, 0, 0, 0]  \n",
       "599999                  [0, 0, 0, 0, 0, 0, 0, 0, 0, 0, 0]  \n",
       "600000                  [0, 0, 0, 0, 0, 0, 0, 0, 0, 0, 0]  \n",
       "\n",
       "[600001 rows x 18 columns]"
      ]
     },
     "execution_count": 5,
     "metadata": {},
     "output_type": "execute_result"
    }
   ],
   "source": [
    "data"
   ]
  },
  {
   "cell_type": "code",
   "execution_count": 6,
   "metadata": {},
   "outputs": [],
   "source": [
    "import paddle\n",
    "from paddle.io import DataLoader, Dataset\n",
    "\n",
    "class CoggleDataset(Dataset):\n",
    "    def __init__(self, df):\n",
    "        super(CoggleDataset, self).__init__()\n",
    "        self.df = df\n",
    "        self.feat_col = list(set(self.df.columns) - set(['user_id', 'end_date', 'label', 'launch_seq', 'playtime_seq', \n",
    "                'duration_prefer', 'interact_prefer']))\n",
    "        self.df_feat = self.df[self.feat_col]\n",
    "    \n",
    "    def __getitem__(self, index):\n",
    "        launch_seq = self.df['launch_seq'].iloc[index]\n",
    "        playtime_seq = self.df['playtime_seq'].iloc[index]\n",
    "        duration_prefer = self.df['duration_prefer'].iloc[index]\n",
    "        interact_prefer = self.df['interact_prefer'].iloc[index]\n",
    "\n",
    "        feat = self.df_feat.iloc[index].values.astype(np.float32)\n",
    "\n",
    "        launch_seq = paddle.to_tensor(launch_seq).astype(paddle.float32)\n",
    "        playtime_seq = paddle.to_tensor(playtime_seq).astype(paddle.float32)\n",
    "        duration_prefer = paddle.to_tensor(duration_prefer).astype(paddle.float32)\n",
    "        interact_prefer = paddle.to_tensor(interact_prefer).astype(paddle.float32)\n",
    "        feat = paddle.to_tensor(feat).astype(paddle.float32)\n",
    "\n",
    "        label = paddle.to_tensor(self.df['label'].iloc[index]).astype(paddle.float32)\n",
    "        return launch_seq, playtime_seq, duration_prefer, interact_prefer, feat, label\n",
    "\n",
    "    def __len__(self):\n",
    "        return len(self.df)"
   ]
  },
  {
   "cell_type": "code",
   "execution_count": 7,
   "metadata": {},
   "outputs": [],
   "source": [
    "import paddle\n",
    "class CoggleModel(paddle.nn.Layer):\n",
    "    def __init__(self):\n",
    "        super(CoggleModel, self).__init__()\n",
    "        \n",
    "        self.launch_seq_gru = paddle.nn.GRU(1, 32)\n",
    "        self.playtime_seq_gru = paddle.nn.GRU(1, 32)\n",
    "        self.fc1 = paddle.nn.Linear(102, 64)\n",
    "        self.fc2 = paddle.nn.Linear(64, 1)\n",
    "\n",
    "    def forward(self, launch_seq, playtime_seq, duration_prefer, interact_prefer, feat):\n",
    "        launch_seq = launch_seq.reshape((-1, 32, 1))\n",
    "        playtime_seq = playtime_seq.reshape((-1, 32, 1))\n",
    "\n",
    "        launch_seq_feat = self.launch_seq_gru(launch_seq)[0][:, :, 0]\n",
    "        playtime_seq_feat = self.playtime_seq_gru(playtime_seq)[0][:, :, 0]\n",
    "        \n",
    "        all_feat = paddle.concat([launch_seq_feat, playtime_seq_feat, duration_prefer, interact_prefer, feat], 1)\n",
    "        all_feat_fc1 = self.fc1(all_feat)\n",
    "        all_feat_fc2 = self.fc2(all_feat_fc1)\n",
    "\n",
    "        return all_feat_fc2"
   ]
  },
  {
   "cell_type": "markdown",
   "metadata": {},
   "source": [
    "# 模型训练"
   ]
  },
  {
   "cell_type": "code",
   "execution_count": 8,
   "metadata": {},
   "outputs": [],
   "source": [
    "from tqdm import tqdm\n",
    "import warnings\n",
    "warnings.filterwarnings(\"ignore\")\n",
    "\n",
    "def train(model, train_loader, optimizer, criterion):\n",
    "    model.train()\n",
    "    train_loss = []\n",
    "    for launch_seq, playtime_seq, duration_prefer, interact_prefer, feat, label in tqdm(train_loader):\n",
    "        pred = model(launch_seq, playtime_seq, duration_prefer, interact_prefer, feat)\n",
    "\n",
    "        loss = criterion(pred, label)\n",
    "        loss.backward()\n",
    "        optimizer.step()\n",
    "        optimizer.clear_grad()\n",
    "        train_loss.append(loss.item())\n",
    "    return np.mean(train_loss)\n",
    "\n",
    "\n",
    "def validate(model, val_loader, optimizer, criterion):\n",
    "    model.eval()\n",
    "    val_loss = []\n",
    "    for launch_seq, playtime_seq, duration_prefer, interact_prefer, feat, label in tqdm(val_loader):\n",
    "        pred = model(launch_seq, playtime_seq, duration_prefer, interact_prefer, feat)\n",
    "\n",
    "        loss = criterion(pred, label)\n",
    "        loss.backward()\n",
    "        optimizer.step()\n",
    "        optimizer.clear_grad()\n",
    "        val_loss.append(loss.item())\n",
    "\n",
    "    return np.mean(val_loss)\n",
    "\n",
    "def predict(model, test_loader):\n",
    "    model.eval()\n",
    "    test_pred = []\n",
    "    for launch_seq, playtime_seq, duration_prefer, interact_prefer, feat, label in tqdm(test_loader):\n",
    "        pred = model(launch_seq, playtime_seq, duration_prefer, interact_prefer, feat)\n",
    "        test_pred.append(pred.numpy())\n",
    "\n",
    "    return test_pred"
   ]
  },
  {
   "cell_type": "code",
   "execution_count": 9,
   "metadata": {},
   "outputs": [
    {
     "name": "stderr",
     "output_type": "stream",
     "text": [
      "W0126 17:18:45.778849  3489 device_context.cc:447] Please NOTE: device: 0, GPU Compute Capability: 7.0, Driver API Version: 10.1, Runtime API Version: 10.1\n",
      "W0126 17:18:45.784029  3489 device_context.cc:465] device: 0, cuDNN Version: 7.6.\n",
      "100%|██████████| 16072/16072 [01:36<00:00, 166.26it/s]\n",
      "100%|██████████| 2679/2679 [00:17<00:00, 149.71it/s]\n",
      "  0%|          | 0/16072 [00:00<?, ?it/s]"
     ]
    },
    {
     "name": "stdout",
     "output_type": "stream",
     "text": [
      "0 0 1.727737716247544 1.6646946044099913\n"
     ]
    },
    {
     "name": "stderr",
     "output_type": "stream",
     "text": [
      "100%|██████████| 16072/16072 [01:37<00:00, 164.71it/s]\n",
      "100%|██████████| 2679/2679 [00:17<00:00, 154.85it/s]\n",
      "  0%|          | 0/16072 [00:00<?, ?it/s]"
     ]
    },
    {
     "name": "stdout",
     "output_type": "stream",
     "text": [
      "0 1 1.6717472810793303 1.6506202513266517\n"
     ]
    },
    {
     "name": "stderr",
     "output_type": "stream",
     "text": [
      "100%|██████████| 16072/16072 [01:38<00:00, 163.39it/s]\n",
      "100%|██████████| 2679/2679 [00:18<00:00, 148.51it/s]\n"
     ]
    },
    {
     "name": "stdout",
     "output_type": "stream",
     "text": [
      "0 2 1.6611423064653719 1.6455763171706106\n"
     ]
    },
    {
     "name": "stderr",
     "output_type": "stream",
     "text": [
      "100%|██████████| 16072/16072 [01:37<00:00, 165.11it/s]\n",
      "100%|██████████| 2679/2679 [00:17<00:00, 149.59it/s]\n",
      "  0%|          | 0/16072 [00:00<?, ?it/s]"
     ]
    },
    {
     "name": "stdout",
     "output_type": "stream",
     "text": [
      "1 0 1.7239023763695691 1.671787894085834\n"
     ]
    },
    {
     "name": "stderr",
     "output_type": "stream",
     "text": [
      "100%|██████████| 16072/16072 [01:38<00:00, 163.62it/s]\n",
      "100%|██████████| 2679/2679 [00:17<00:00, 151.48it/s]\n",
      "  0%|          | 0/16072 [00:00<?, ?it/s]"
     ]
    },
    {
     "name": "stdout",
     "output_type": "stream",
     "text": [
      "1 1 1.6726098757231633 1.6535079412359763\n"
     ]
    },
    {
     "name": "stderr",
     "output_type": "stream",
     "text": [
      "100%|██████████| 16072/16072 [01:38<00:00, 163.92it/s]\n",
      "100%|██████████| 2679/2679 [00:17<00:00, 151.41it/s]\n"
     ]
    },
    {
     "name": "stdout",
     "output_type": "stream",
     "text": [
      "1 2 1.6627847992974083 1.6465713691026163\n"
     ]
    },
    {
     "name": "stderr",
     "output_type": "stream",
     "text": [
      "100%|██████████| 16072/16072 [01:37<00:00, 164.04it/s]\n",
      "100%|██████████| 2679/2679 [00:17<00:00, 150.70it/s]\n",
      "  0%|          | 0/16072 [00:00<?, ?it/s]"
     ]
    },
    {
     "name": "stdout",
     "output_type": "stream",
     "text": [
      "2 0 1.720550063608104 1.6872507549458007\n"
     ]
    },
    {
     "name": "stderr",
     "output_type": "stream",
     "text": [
      "100%|██████████| 16072/16072 [01:37<00:00, 164.38it/s]\n",
      "100%|██████████| 2679/2679 [00:17<00:00, 153.55it/s]\n",
      "  0%|          | 0/16072 [00:00<?, ?it/s]"
     ]
    },
    {
     "name": "stdout",
     "output_type": "stream",
     "text": [
      "2 1 1.6692980538632751 1.6657867554676715\n"
     ]
    },
    {
     "name": "stderr",
     "output_type": "stream",
     "text": [
      "100%|██████████| 16072/16072 [01:38<00:00, 162.97it/s]\n",
      "100%|██████████| 2679/2679 [00:18<00:00, 148.09it/s]\n"
     ]
    },
    {
     "name": "stdout",
     "output_type": "stream",
     "text": [
      "2 2 1.6584568838164722 1.6597858382922226\n"
     ]
    },
    {
     "name": "stderr",
     "output_type": "stream",
     "text": [
      "100%|██████████| 16072/16072 [01:37<00:00, 164.81it/s]\n",
      "100%|██████████| 2679/2679 [00:18<00:00, 147.48it/s]\n",
      "  0%|          | 0/16072 [00:00<?, ?it/s]"
     ]
    },
    {
     "name": "stdout",
     "output_type": "stream",
     "text": [
      "3 0 1.7150452121213309 1.7054837621406371\n"
     ]
    },
    {
     "name": "stderr",
     "output_type": "stream",
     "text": [
      "100%|██████████| 16072/16072 [01:38<00:00, 162.42it/s]\n",
      "100%|██████████| 2679/2679 [00:17<00:00, 150.80it/s]\n",
      "  0%|          | 0/16072 [00:00<?, ?it/s]"
     ]
    },
    {
     "name": "stdout",
     "output_type": "stream",
     "text": [
      "3 1 1.6653202730771053 1.6903254269174162\n"
     ]
    },
    {
     "name": "stderr",
     "output_type": "stream",
     "text": [
      "100%|██████████| 16072/16072 [01:38<00:00, 163.14it/s]\n",
      "100%|██████████| 2679/2679 [00:17<00:00, 150.27it/s]\n"
     ]
    },
    {
     "name": "stdout",
     "output_type": "stream",
     "text": [
      "3 2 1.6551241783129451 1.68543445504437\n"
     ]
    },
    {
     "name": "stderr",
     "output_type": "stream",
     "text": [
      "100%|██████████| 16072/16072 [01:38<00:00, 163.25it/s]\n",
      "100%|██████████| 2679/2679 [00:18<00:00, 147.89it/s]\n",
      "  0%|          | 0/16072 [00:00<?, ?it/s]"
     ]
    },
    {
     "name": "stdout",
     "output_type": "stream",
     "text": [
      "4 0 1.7298179928504482 1.672897274512415\n"
     ]
    },
    {
     "name": "stderr",
     "output_type": "stream",
     "text": [
      "100%|██████████| 16072/16072 [01:37<00:00, 164.44it/s]\n",
      "100%|██████████| 2679/2679 [00:17<00:00, 149.92it/s]\n",
      "  0%|          | 0/16072 [00:00<?, ?it/s]"
     ]
    },
    {
     "name": "stdout",
     "output_type": "stream",
     "text": [
      "4 1 1.6701055605385422 1.6594400050124822\n"
     ]
    },
    {
     "name": "stderr",
     "output_type": "stream",
     "text": [
      "100%|██████████| 16072/16072 [01:37<00:00, 170.56it/s]\n",
      "100%|██████████| 2679/2679 [00:18<00:00, 146.91it/s]\n"
     ]
    },
    {
     "name": "stdout",
     "output_type": "stream",
     "text": [
      "4 2 1.659637512800489 1.6535548911182771\n"
     ]
    },
    {
     "name": "stderr",
     "output_type": "stream",
     "text": [
      "100%|██████████| 16072/16072 [01:38<00:00, 163.85it/s]\n",
      "100%|██████████| 2679/2679 [00:18<00:00, 148.26it/s]\n",
      "  0%|          | 0/16072 [00:00<?, ?it/s]"
     ]
    },
    {
     "name": "stdout",
     "output_type": "stream",
     "text": [
      "5 0 1.7234561873155783 1.6630706430905433\n"
     ]
    },
    {
     "name": "stderr",
     "output_type": "stream",
     "text": [
      "100%|██████████| 16072/16072 [01:38<00:00, 163.03it/s]\n",
      "100%|██████████| 2679/2679 [00:17<00:00, 153.68it/s]\n",
      "  0%|          | 0/16072 [00:00<?, ?it/s]"
     ]
    },
    {
     "name": "stdout",
     "output_type": "stream",
     "text": [
      "5 1 1.6729760975454089 1.6452404334501527\n"
     ]
    },
    {
     "name": "stderr",
     "output_type": "stream",
     "text": [
      "100%|██████████| 16072/16072 [01:38<00:00, 162.81it/s]\n",
      "100%|██████████| 2679/2679 [00:17<00:00, 153.70it/s]\n"
     ]
    },
    {
     "name": "stdout",
     "output_type": "stream",
     "text": [
      "5 2 1.6628232037972135 1.6401183820896605\n"
     ]
    },
    {
     "name": "stderr",
     "output_type": "stream",
     "text": [
      "100%|██████████| 16072/16072 [01:38<00:00, 162.81it/s]\n",
      "100%|██████████| 2679/2679 [00:17<00:00, 153.21it/s]\n",
      "  0%|          | 0/16072 [00:00<?, ?it/s]"
     ]
    },
    {
     "name": "stdout",
     "output_type": "stream",
     "text": [
      "6 0 1.7308811070225973 1.6774325795963925\n"
     ]
    },
    {
     "name": "stderr",
     "output_type": "stream",
     "text": [
      "100%|██████████| 16072/16072 [01:38<00:00, 163.71it/s]\n",
      "100%|██████████| 2679/2679 [00:17<00:00, 166.91it/s]\n",
      "  0%|          | 0/16072 [00:00<?, ?it/s]"
     ]
    },
    {
     "name": "stdout",
     "output_type": "stream",
     "text": [
      "6 1 1.670210906411505 1.6614079273160869\n"
     ]
    },
    {
     "name": "stderr",
     "output_type": "stream",
     "text": [
      "100%|██████████| 16072/16072 [01:38<00:00, 163.07it/s]\n",
      "100%|██████████| 2679/2679 [00:18<00:00, 144.22it/s]"
     ]
    },
    {
     "name": "stdout",
     "output_type": "stream",
     "text": [
      "6 2 1.6596078097879619 1.6556491786951268\n"
     ]
    },
    {
     "name": "stderr",
     "output_type": "stream",
     "text": [
      "\n"
     ]
    }
   ],
   "source": [
    "from sklearn.model_selection import StratifiedKFold\n",
    "\n",
    "skf = StratifiedKFold(n_splits=7)\n",
    "fold = 0\n",
    "for tr_idx, val_idx in skf.split(data, data['label']):\n",
    "    train_dataset = CoggleDataset(data.iloc[tr_idx])\n",
    "    val_dataset = CoggleDataset(data.iloc[val_idx])\n",
    "\n",
    "    model = CoggleModel()\n",
    "    optimizer = paddle.optimizer.Adam(parameters=model.parameters(), learning_rate=0.001)\n",
    "    criterion = paddle.nn.MSELoss()\n",
    "\n",
    "    train_loader = DataLoader(train_dataset, batch_size=32, shuffle=True, num_workers=4)\n",
    "    val_loader = DataLoader(val_dataset, batch_size=32, shuffle=False, num_workers=4)\n",
    "    \n",
    "    for epoch in range(3):\n",
    "        train_loss = train(model, train_loader, optimizer, criterion)\n",
    "        val_loss = validate(model, val_loader, optimizer, criterion)\n",
    "\n",
    "        print(fold, epoch, train_loss, val_loss)\n",
    "\n",
    "        paddle.save(model.state_dict(), f\"model_{fold}.pdparams\")\n",
    "\n",
    "    fold += 1"
   ]
  },
  {
   "cell_type": "markdown",
   "metadata": {},
   "source": [
    "# 模型预测"
   ]
  },
  {
   "cell_type": "code",
   "execution_count": 10,
   "metadata": {},
   "outputs": [],
   "source": [
    "test_data = pd.read_csv(data_dir + \"test_data.txt\", sep=\"\\t\")\n",
    "test_data[\"launch_seq\"] = test_data.launch_seq.apply(lambda x: json.loads(x))\n",
    "test_data[\"playtime_seq\"] = test_data.playtime_seq.apply(lambda x: json.loads(x))\n",
    "test_data[\"duration_prefer\"] = test_data.duration_prefer.apply(lambda x: json.loads(x))\n",
    "test_data[\"interact_prefer\"] = test_data.interact_prefer.apply(lambda x: json.loads(x))\n",
    "test_data['label'] = 0\n",
    "\n",
    "test_dataset = CoggleDataset(test_data)\n",
    "test_loader = DataLoader(test_dataset, batch_size=64, shuffle=False, num_workers=4)"
   ]
  },
  {
   "cell_type": "code",
   "execution_count": 11,
   "metadata": {},
   "outputs": [
    {
     "name": "stderr",
     "output_type": "stream",
     "text": [
      "100%|██████████| 235/235 [00:02<00:00, 86.22it/s] \n",
      "100%|██████████| 235/235 [00:02<00:00, 87.57it/s] \n",
      "100%|██████████| 235/235 [00:02<00:00, 85.55it/s] \n",
      "100%|██████████| 235/235 [00:02<00:00, 87.00it/s] \n",
      "100%|██████████| 235/235 [00:02<00:00, 86.33it/s] \n",
      "100%|██████████| 235/235 [00:02<00:00, 85.93it/s] \n",
      "100%|██████████| 235/235 [00:02<00:00, 86.82it/s] \n"
     ]
    }
   ],
   "source": [
    "test_pred_fold = np.zeros(test_data.shape[0])\n",
    "for idx in range(7):\n",
    "    model = CoggleModel()\n",
    "    layer_state_dict = paddle.load(f\"model_{idx}.pdparams\")\n",
    "    model.set_state_dict(layer_state_dict)\n",
    "\n",
    "    model.eval()\n",
    "    test_pred = predict(model, test_loader)\n",
    "    test_pred = np.vstack(test_pred)\n",
    "    test_pred_fold += test_pred[:, 0]\n",
    "\n",
    "test_pred_fold /= 7"
   ]
  },
  {
   "cell_type": "code",
   "execution_count": 12,
   "metadata": {},
   "outputs": [],
   "source": [
    "test_data[\"prediction\"] = test_pred[:, 0]\n",
    "test_data = test_data[[\"user_id\", \"prediction\"]]\n",
    "# can clip outputs to [0, 7] or use other tricks\n",
    "test_data.to_csv(\"./baseline_submission.csv\", index=False, header=False, float_format=\"%.2f\")"
   ]
  },
  {
   "cell_type": "markdown",
   "metadata": {},
   "source": [
    "# 总结\n",
    "\n",
    "1. 本项目基于已有的比赛的数据，构建时序模型，对用户的留存进行预测。\n",
    "2. 与原有的keras代码相比，本项目将特征工程与构建模型进行拆分，更加适合迭代。\n",
    "3. 本项目在模型加入了序列建模，可以使用LSTM或GRU等。\n",
    "\n",
    "# 改进思路\n",
    "1. 用户行为特征可以加入注意力机制。\n",
    "2. 视频行为 与 用户行为可以进行交叉，参考DeepFM。\n"
   ]
  },
  {
   "cell_type": "code",
   "execution_count": null,
   "metadata": {},
   "outputs": [],
   "source": []
  }
 ],
 "metadata": {
  "kernelspec": {
   "display_name": "Python 3",
   "language": "python",
   "name": "python3"
  },
  "language_info": {
   "codemirror_mode": {
    "name": "ipython",
    "version": 3
   },
   "file_extension": ".py",
   "mimetype": "text/x-python",
   "name": "python",
   "nbconvert_exporter": "python",
   "pygments_lexer": "ipython3",
   "version": "3.8.8"
  },
  "varInspector": {
   "cols": {
    "lenName": 16,
    "lenType": 16,
    "lenVar": 40
   },
   "kernels_config": {
    "python": {
     "delete_cmd_postfix": "",
     "delete_cmd_prefix": "del ",
     "library": "var_list.py",
     "varRefreshCmd": "print(var_dic_list())"
    },
    "r": {
     "delete_cmd_postfix": ") ",
     "delete_cmd_prefix": "rm(",
     "library": "var_list.r",
     "varRefreshCmd": "cat(var_dic_list()) "
    }
   },
   "types_to_exclude": [
    "module",
    "function",
    "builtin_function_or_method",
    "instance",
    "_Feature"
   ],
   "window_display": false
  }
 },
 "nbformat": 4,
 "nbformat_minor": 1
}
