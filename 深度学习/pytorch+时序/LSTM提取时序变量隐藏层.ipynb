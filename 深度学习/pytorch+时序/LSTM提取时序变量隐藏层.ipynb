{
 "cells": [
  {
   "cell_type": "code",
   "execution_count": null,
   "id": "10171f91",
   "metadata": {},
   "outputs": [],
   "source": [
    "import gc\n",
    "import toad\n",
    "import numpy as np\n",
    "import pandas as pd\n",
    "import matplotlib.pyplot as plt\n",
    "import lightgbm as lgb\n",
    "import warnings\n",
    "warnings.filterwarnings(\"ignore\")\n",
    "from sklearn.model_selection import StratifiedKFold\n",
    "from sklearn.metrics import roc_auc_score,roc_curve,auc\n",
    "train = pd.read_csv('train.csv')\n",
    "test  = pd.read_csv('test.csv')\n",
    "\n",
    "params = {'num_leaves': 491,\n",
    "          'min_child_weight': 0.03454472573214212,\n",
    "          'feature_fraction': 0.3797454081646243,\n",
    "          'bagging_fraction': 0.4181193142567742,\n",
    "          'min_data_in_leaf': 106,\n",
    "          'objective': 'binary',\n",
    "          'max_depth': 5,\n",
    "          'learning_rate': 0.006883242363721497,\n",
    "          \"boosting_type\": \"gbdt\",\n",
    "          \"bagging_seed\": 11,\n",
    "          \"metric\": 'auc',\n",
    "          \"verbosity\": -1,\n",
    "          'reg_alpha': 0.3899927210061127,\n",
    "          'reg_lambda': 0.6485237330340494,\n",
    "          'random_state': 47,\n",
    "         }\n",
    "import random\n",
    "import os\n",
    "import numpy as np\n",
    "def seed_everything(seed=0):\n",
    "    random.seed(seed)\n",
    "    os.environ['PYTHONHASHSEED'] = str(seed)\n",
    "    np.random.seed(seed)\n",
    "seed_everything(123)   "
   ]
  },
  {
   "cell_type": "code",
   "execution_count": null,
   "id": "462fff93",
   "metadata": {},
   "outputs": [],
   "source": [
    "train.head(5)"
   ]
  },
  {
   "cell_type": "code",
   "execution_count": null,
   "id": "bc14d27a",
   "metadata": {},
   "outputs": [],
   "source": [
    "y=train.pop('label')"
   ]
  },
  {
   "cell_type": "code",
   "execution_count": null,
   "id": "2e43c377",
   "metadata": {},
   "outputs": [],
   "source": [
    "y.value_counts(1)"
   ]
  },
  {
   "cell_type": "code",
   "execution_count": null,
   "id": "2fcb1fa8",
   "metadata": {},
   "outputs": [],
   "source": [
    "X=train\n",
    "y_test=test.pop('label')\n",
    "X_test=test"
   ]
  },
  {
   "cell_type": "code",
   "execution_count": null,
   "id": "9562a6fd",
   "metadata": {},
   "outputs": [],
   "source": [
    "y_test.value_counts(1)"
   ]
  },
  {
   "cell_type": "code",
   "execution_count": null,
   "id": "ed2c58ad",
   "metadata": {},
   "outputs": [],
   "source": [
    "for data in [X,X_test]:\n",
    "    data.drop('CUST_ID',axis=1,inplace=True)"
   ]
  },
  {
   "cell_type": "code",
   "execution_count": null,
   "id": "d1da8b90",
   "metadata": {},
   "outputs": [],
   "source": [
    "NFOLDS = 5\n",
    "folds = StratifiedKFold(n_splits=NFOLDS)\n",
    "columns = X.columns\n",
    "splits = folds.split(X, y)\n",
    "y_preds = np.zeros(X_test.shape[0])\n",
    "y_oof = np.zeros(X.shape[0])\n",
    "score = 0\n",
    "\n",
    "feature_importances = pd.DataFrame()\n",
    "feature_importances['feature'] = columns\n",
    "  \n",
    "for fold_n, (train_index, valid_index) in enumerate(splits):\n",
    "    X_train, X_valid = X[columns].iloc[train_index], X[columns].iloc[valid_index]\n",
    "    y_train, y_valid = y.iloc[train_index], y.iloc[valid_index]\n",
    "    \n",
    "    dtrain = lgb.Dataset(X_train, label=y_train)\n",
    "    dvalid = lgb.Dataset(X_valid, label=y_valid)\n",
    "\n",
    "    clf = lgb.train(params, dtrain, 10000, valid_sets = [dtrain, dvalid], verbose_eval=200, early_stopping_rounds=500)\n",
    "    \n",
    "    feature_importances[f'fold_{fold_n + 1}'] = clf.feature_importance()\n",
    "    \n",
    "    y_pred_valid = clf.predict(X_valid)\n",
    "    y_oof[valid_index] = y_pred_valid\n",
    "    print(f\"Fold {fold_n + 1} | AUC: {roc_auc_score(y_valid, y_pred_valid)}\")\n",
    "    \n",
    "    score += roc_auc_score(y_valid, y_pred_valid) / NFOLDS\n",
    "    y_preds += clf.predict(X_test) / NFOLDS\n",
    "    \n",
    "    del X_train, X_valid, y_train, y_valid\n",
    "    gc.collect()\n",
    "    \n",
    "print(f\"\\nMean AUC = {score}\")\n",
    "print(f\"Out of folds AUC = {roc_auc_score(y, y_oof)}\")"
   ]
  },
  {
   "cell_type": "code",
   "execution_count": null,
   "id": "9293970a",
   "metadata": {},
   "outputs": [],
   "source": [
    "print(f\"oot test Out of folds AUC = {roc_auc_score(y_test, y_preds)}\")"
   ]
  },
  {
   "cell_type": "code",
   "execution_count": null,
   "id": "16b404e4",
   "metadata": {},
   "outputs": [],
   "source": [
    "X.head(5)"
   ]
  },
  {
   "cell_type": "code",
   "execution_count": null,
   "id": "e7ed95a3",
   "metadata": {},
   "outputs": [],
   "source": [
    "os=['OS_0',\n",
    " 'OS_1',\n",
    " 'OS_2',\n",
    " 'OS_3',\n",
    " 'OS_4',\n",
    " 'OS_5',\n",
    " 'OS_6',\n",
    " 'OS_7',\n",
    " 'OS_8',\n",
    " 'OS_9',\n",
    " 'OS_10',\n",
    " 'OS_11',\n",
    " 'OS_12',]\n",
    "payment=[\n",
    " 'Payment_1',\n",
    " 'Payment_2',\n",
    " 'Payment_3',\n",
    " 'Payment_4',\n",
    " 'Payment_5',\n",
    " 'Payment_6',\n",
    " 'Payment_7',\n",
    " 'Payment_8',\n",
    " 'Payment_9',\n",
    " 'Payment_10',\n",
    " 'Payment_11',\n",
    " 'Payment_12',]\n",
    "spend=[\n",
    " 'Spend_1',\n",
    " 'Spend_2',\n",
    " 'Spend_3',\n",
    " 'Spend_4',\n",
    " 'Spend_5',\n",
    " 'Spend_6',\n",
    " 'Spend_7',\n",
    " 'Spend_8',\n",
    " 'Spend_9',\n",
    " 'Spend_10',\n",
    " 'Spend_11',\n",
    " 'Spend_12',]"
   ]
  },
  {
   "cell_type": "code",
   "execution_count": null,
   "id": "dbc6e983",
   "metadata": {},
   "outputs": [],
   "source": [
    "os=train[os]\n",
    "payment=train[payment]\n",
    "spend=train[spend]"
   ]
  },
  {
   "cell_type": "code",
   "execution_count": null,
   "id": "b2b023ae",
   "metadata": {},
   "outputs": [],
   "source": [
    "payment.insert(0,'mask_payment',0)##序列长度不相等进行补0，后续要使用mask进行屏蔽\n",
    "spend.insert(0,'mask_spend',0)"
   ]
  },
  {
   "cell_type": "code",
   "execution_count": null,
   "id": "b4e68336",
   "metadata": {},
   "outputs": [],
   "source": [
    "t=pd.DataFrame()\n",
    "t['os']=os.head(1).T[0].values\n",
    "t['payment']=payment.head(1).T[0].values\n",
    "t['spend']=spend.head(1).T[0].values"
   ]
  },
  {
   "cell_type": "code",
   "execution_count": null,
   "id": "7538c2bd",
   "metadata": {},
   "outputs": [],
   "source": [
    "t.values.reshape(-1,13,3)"
   ]
  },
  {
   "cell_type": "code",
   "execution_count": null,
   "id": "0d41e4ad",
   "metadata": {},
   "outputs": [],
   "source": [
    "sequence_data=pd.concat([os,payment,spend],axis=1)"
   ]
  },
  {
   "cell_type": "code",
   "execution_count": null,
   "id": "15d6f940",
   "metadata": {},
   "outputs": [],
   "source": [
    "os=['OS_0',\n",
    " 'OS_1',\n",
    " 'OS_2',\n",
    " 'OS_3',\n",
    " 'OS_4',\n",
    " 'OS_5',\n",
    " 'OS_6',\n",
    " 'OS_7',\n",
    " 'OS_8',\n",
    " 'OS_9',\n",
    " 'OS_10',\n",
    " 'OS_11',\n",
    " 'OS_12',]\n",
    "payment=[\n",
    " 'Payment_1',\n",
    " 'Payment_2',\n",
    " 'Payment_3',\n",
    " 'Payment_4',\n",
    " 'Payment_5',\n",
    " 'Payment_6',\n",
    " 'Payment_7',\n",
    " 'Payment_8',\n",
    " 'Payment_9',\n",
    " 'Payment_10',\n",
    " 'Payment_11',\n",
    " 'Payment_12',]\n",
    "spend=[\n",
    " 'Spend_1',\n",
    " 'Spend_2',\n",
    " 'Spend_3',\n",
    " 'Spend_4',\n",
    " 'Spend_5',\n",
    " 'Spend_6',\n",
    " 'Spend_7',\n",
    " 'Spend_8',\n",
    " 'Spend_9',\n",
    " 'Spend_10',\n",
    " 'Spend_11',\n",
    " 'Spend_12',]\n",
    "os=test[os]\n",
    "payment=test[payment]\n",
    "spend=test[spend]\n",
    "payment.insert(0,'mask_payment',0)##序列长度不相等进行补0，后续要使用mask进行屏蔽\n",
    "spend.insert(0,'mask_spend',0)\n",
    "\n",
    "sequence_data_test=pd.concat([os,payment,spend],axis=1)\n",
    "sequence_data_test=sequence_data_test.values.reshape(12043,13,3,order='F')"
   ]
  },
  {
   "cell_type": "code",
   "execution_count": null,
   "id": "ec18c2b5",
   "metadata": {},
   "outputs": [],
   "source": [
    "sequence_data.shape"
   ]
  },
  {
   "cell_type": "code",
   "execution_count": null,
   "id": "34eb7204",
   "metadata": {},
   "outputs": [],
   "source": [
    "sequence_data=sequence_data.values.reshape(28099,13,3,order='F')"
   ]
  },
  {
   "cell_type": "code",
   "execution_count": null,
   "id": "109d4d31",
   "metadata": {},
   "outputs": [],
   "source": [
    "from tensorflow.keras.models import Model\n",
    "from tensorflow.keras.layers import Input\n",
    "from tensorflow.keras.layers import LSTM\n",
    "from tensorflow.keras.layers import Dense"
   ]
  },
  {
   "cell_type": "code",
   "execution_count": null,
   "id": "8f58995f",
   "metadata": {},
   "outputs": [],
   "source": [
    "inputs1 = Input(shape=(13,3))\n",
    "lstm1,state_h,state_c = LSTM(128,activation='tanh',return_sequences=True,return_state=True,recurrent_dropout=0.5)(inputs1)\n",
    "outputs=Dense(1,activation='sigmoid')(state_h)\n",
    "model = Model(inputs = inputs1,outputs = [outputs])\n",
    "model.compile(loss='binary_crossentropy',\n",
    "              optimizer='adam')"
   ]
  },
  {
   "cell_type": "code",
   "execution_count": null,
   "id": "3f65f187",
   "metadata": {},
   "outputs": [],
   "source": [
    "model.fit(sequence_data, y, batch_size = 100, epochs = 50, verbose = 10)"
   ]
  },
  {
   "cell_type": "code",
   "execution_count": null,
   "id": "df84ca20",
   "metadata": {},
   "outputs": [],
   "source": [
    "get_hidden_state=Model(inputs=inputs1,outputs=[lstm1,state_h,state_c])"
   ]
  },
  {
   "cell_type": "code",
   "execution_count": null,
   "id": "32b35ccd",
   "metadata": {},
   "outputs": [],
   "source": [
    "#提取隐藏层\n",
    "results=get_hidden_state.predict(sequence_data)\n",
    "results_test=get_hidden_state.predict(sequence_data_test)"
   ]
  },
  {
   "cell_type": "code",
   "execution_count": null,
   "id": "76b3ff92",
   "metadata": {},
   "outputs": [],
   "source": [
    "results[2]"
   ]
  },
  {
   "cell_type": "code",
   "execution_count": null,
   "id": "9fda160c",
   "metadata": {},
   "outputs": [],
   "source": [
    "#与原始特征合并\n",
    "times_feature=pd.DataFrame(results[2])\n",
    "for col in times_feature.columns:\n",
    "    X[col]=times_feature[col].values"
   ]
  },
  {
   "cell_type": "code",
   "execution_count": null,
   "id": "37a721b9",
   "metadata": {},
   "outputs": [],
   "source": [
    "times_feature_test=pd.DataFrame(get_hidden_state.predict(sequence_data_test)[2])\n",
    "for col in times_feature_test.columns:\n",
    "    X_test[col]=times_feature_test[col].values"
   ]
  },
  {
   "cell_type": "code",
   "execution_count": null,
   "id": "69d9ddbe",
   "metadata": {},
   "outputs": [],
   "source": [
    "NFOLDS = 5\n",
    "folds = StratifiedKFold(n_splits=NFOLDS)\n",
    "columns = X.columns\n",
    "splits = folds.split(X, y)\n",
    "y_preds = np.zeros(X_test.shape[0])\n",
    "y_oof = np.zeros(X.shape[0])\n",
    "score = 0\n",
    "\n",
    "feature_importances = pd.DataFrame()\n",
    "feature_importances['feature'] = columns\n",
    "  \n",
    "for fold_n, (train_index, valid_index) in enumerate(splits):\n",
    "    X_train, X_valid = X[columns].iloc[train_index], X[columns].iloc[valid_index]\n",
    "    y_train, y_valid = y.iloc[train_index], y.iloc[valid_index]\n",
    "    \n",
    "    dtrain = lgb.Dataset(X_train, label=y_train)\n",
    "    dvalid = lgb.Dataset(X_valid, label=y_valid)\n",
    "\n",
    "    clf = lgb.train(params, dtrain, 10000, valid_sets = [dtrain, dvalid], verbose_eval=200, early_stopping_rounds=500)\n",
    "    \n",
    "    feature_importances[f'fold_{fold_n + 1}'] = clf.feature_importance()\n",
    "    \n",
    "    y_pred_valid = clf.predict(X_valid)\n",
    "    y_oof[valid_index] = y_pred_valid\n",
    "    print(f\"Fold {fold_n + 1} | AUC: {roc_auc_score(y_valid, y_pred_valid)}\")\n",
    "    \n",
    "    score += roc_auc_score(y_valid, y_pred_valid) / NFOLDS\n",
    "    y_preds += clf.predict(X_test) / NFOLDS\n",
    "    \n",
    "    del X_train, X_valid, y_train, y_valid\n",
    "    gc.collect()\n",
    "    \n",
    "print(f\"\\nMean AUC = {score}\")\n",
    "print(f\"Out of folds AUC = {roc_auc_score(y, y_oof)}\")"
   ]
  },
  {
   "cell_type": "code",
   "execution_count": null,
   "id": "d3f7a0e6",
   "metadata": {},
   "outputs": [],
   "source": [
    "print(f\"oot test Out of folds AUC = {roc_auc_score(y_test, y_preds)}\")"
   ]
  }
 ],
 "metadata": {
  "kernelspec": {
   "display_name": "Python 3",
   "language": "python",
   "name": "python3"
  },
  "language_info": {
   "codemirror_mode": {
    "name": "ipython",
    "version": 3
   },
   "file_extension": ".py",
   "mimetype": "text/x-python",
   "name": "python",
   "nbconvert_exporter": "python",
   "pygments_lexer": "ipython3",
   "version": "3.8.8"
  },
  "varInspector": {
   "cols": {
    "lenName": 16,
    "lenType": 16,
    "lenVar": 40
   },
   "kernels_config": {
    "python": {
     "delete_cmd_postfix": "",
     "delete_cmd_prefix": "del ",
     "library": "var_list.py",
     "varRefreshCmd": "print(var_dic_list())"
    },
    "r": {
     "delete_cmd_postfix": ") ",
     "delete_cmd_prefix": "rm(",
     "library": "var_list.r",
     "varRefreshCmd": "cat(var_dic_list()) "
    }
   },
   "types_to_exclude": [
    "module",
    "function",
    "builtin_function_or_method",
    "instance",
    "_Feature"
   ],
   "window_display": false
  }
 },
 "nbformat": 4,
 "nbformat_minor": 5
}
