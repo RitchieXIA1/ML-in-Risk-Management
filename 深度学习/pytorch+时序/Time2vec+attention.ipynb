{
 "cells": [
  {
   "cell_type": "code",
   "execution_count": 1,
   "id": "c27b13cf",
   "metadata": {
    "ExecuteTime": {
     "end_time": "2022-07-29T04:34:53.857979Z",
     "start_time": "2022-07-29T04:34:47.762472Z"
    }
   },
   "outputs": [],
   "source": [
    "import numpy as np\n",
    "import pandas as pd   \n",
    "import matplotlib.pyplot as plt\n",
    "import random\n",
    "import os\n",
    "\n",
    "from sklearn.metrics import mean_absolute_error\n",
    "\n",
    "import tensorflow as tf\n",
    "from tensorflow.keras.layers import *\n",
    "from tensorflow.keras.models import *\n",
    "from tensorflow.keras.callbacks import * \n",
    "from tensorflow.keras.optimizers import *\n",
    "from tensorflow.keras import backend as K\n",
    "\n",
    "from kerashypetune import KerasGridSearch\n",
    "\n",
    "### READ DATA ###\n",
    "\n",
    "df = pd.read_csv('Punta_Salute_2009.csv', sep=';')\n",
    "df = df.dropna()"
   ]
  },
  {
   "cell_type": "code",
   "execution_count": 2,
   "id": "8b1b8761",
   "metadata": {
    "ExecuteTime": {
     "end_time": "2022-07-29T04:34:55.410061Z",
     "start_time": "2022-07-29T04:34:55.388062Z"
    }
   },
   "outputs": [
    {
     "data": {
      "text/html": [
       "<div>\n",
       "<style scoped>\n",
       "    .dataframe tbody tr th:only-of-type {\n",
       "        vertical-align: middle;\n",
       "    }\n",
       "\n",
       "    .dataframe tbody tr th {\n",
       "        vertical-align: top;\n",
       "    }\n",
       "\n",
       "    .dataframe thead th {\n",
       "        text-align: right;\n",
       "    }\n",
       "</style>\n",
       "<table border=\"1\" class=\"dataframe\">\n",
       "  <thead>\n",
       "    <tr style=\"text-align: right;\">\n",
       "      <th></th>\n",
       "      <th>Data</th>\n",
       "      <th>Ora solare</th>\n",
       "      <th>Livello P.Salute Canal Grande (cm)</th>\n",
       "    </tr>\n",
       "  </thead>\n",
       "  <tbody>\n",
       "    <tr>\n",
       "      <th>0</th>\n",
       "      <td>01-gen-09</td>\n",
       "      <td>01:00</td>\n",
       "      <td>34.0</td>\n",
       "    </tr>\n",
       "    <tr>\n",
       "      <th>1</th>\n",
       "      <td>01-gen-09</td>\n",
       "      <td>02:00</td>\n",
       "      <td>37.0</td>\n",
       "    </tr>\n",
       "    <tr>\n",
       "      <th>2</th>\n",
       "      <td>01-gen-09</td>\n",
       "      <td>03:00</td>\n",
       "      <td>36.0</td>\n",
       "    </tr>\n",
       "    <tr>\n",
       "      <th>3</th>\n",
       "      <td>01-gen-09</td>\n",
       "      <td>04:00</td>\n",
       "      <td>29.0</td>\n",
       "    </tr>\n",
       "    <tr>\n",
       "      <th>4</th>\n",
       "      <td>01-gen-09</td>\n",
       "      <td>05:00</td>\n",
       "      <td>20.0</td>\n",
       "    </tr>\n",
       "    <tr>\n",
       "      <th>...</th>\n",
       "      <td>...</td>\n",
       "      <td>...</td>\n",
       "      <td>...</td>\n",
       "    </tr>\n",
       "    <tr>\n",
       "      <th>8755</th>\n",
       "      <td>31-dic-09</td>\n",
       "      <td>20:00</td>\n",
       "      <td>49.0</td>\n",
       "    </tr>\n",
       "    <tr>\n",
       "      <th>8756</th>\n",
       "      <td>31-dic-09</td>\n",
       "      <td>21:00</td>\n",
       "      <td>69.0</td>\n",
       "    </tr>\n",
       "    <tr>\n",
       "      <th>8757</th>\n",
       "      <td>31-dic-09</td>\n",
       "      <td>22:00</td>\n",
       "      <td>85.0</td>\n",
       "    </tr>\n",
       "    <tr>\n",
       "      <th>8758</th>\n",
       "      <td>31-dic-09</td>\n",
       "      <td>23:00</td>\n",
       "      <td>97.0</td>\n",
       "    </tr>\n",
       "    <tr>\n",
       "      <th>8759</th>\n",
       "      <td>01-gen-10</td>\n",
       "      <td>00:00</td>\n",
       "      <td>102.0</td>\n",
       "    </tr>\n",
       "  </tbody>\n",
       "</table>\n",
       "<p>8760 rows × 3 columns</p>\n",
       "</div>"
      ],
      "text/plain": [
       "           Data Ora solare  Livello P.Salute Canal Grande (cm)\n",
       "0     01-gen-09      01:00                                34.0\n",
       "1     01-gen-09      02:00                                37.0\n",
       "2     01-gen-09      03:00                                36.0\n",
       "3     01-gen-09      04:00                                29.0\n",
       "4     01-gen-09      05:00                                20.0\n",
       "...         ...        ...                                 ...\n",
       "8755  31-dic-09      20:00                                49.0\n",
       "8756  31-dic-09      21:00                                69.0\n",
       "8757  31-dic-09      22:00                                85.0\n",
       "8758  31-dic-09      23:00                                97.0\n",
       "8759  01-gen-10      00:00                               102.0\n",
       "\n",
       "[8760 rows x 3 columns]"
      ]
     },
     "execution_count": 2,
     "metadata": {},
     "output_type": "execute_result"
    }
   ],
   "source": [
    "df"
   ]
  },
  {
   "cell_type": "code",
   "execution_count": 4,
   "id": "4d1b765f",
   "metadata": {
    "ExecuteTime": {
     "end_time": "2022-07-29T04:35:26.405878Z",
     "start_time": "2022-07-29T04:35:26.217157Z"
    }
   },
   "outputs": [
    {
     "data": {
      "text/plain": [
       "<AxesSubplot:>"
      ]
     },
     "execution_count": 4,
     "metadata": {},
     "output_type": "execute_result"
    },
    {
     "data": {
      "image/png": "[encoded data removed]",
      "text/plain": [
       "<Figure size 576x432 with 1 Axes>"
      ]
     },
     "metadata": {
      "needs_background": "light"
     },
     "output_type": "display_data"
    }
   ],
   "source": [
    "df['Livello P.Salute Canal Grande (cm)'].plot(y='Livello P.Salute Canal Grande (cm)', x='Ora solare', figsize=(8,6))\n",
    "df[:7*24]['Livello P.Salute Canal Grande (cm)'].plot(y='Livello P.Salute Canal Grande (cm)', x='Ora solare', figsize=(8,6))"
   ]
  },
  {
   "cell_type": "code",
   "execution_count": 5,
   "id": "213362b7",
   "metadata": {
    "ExecuteTime": {
     "end_time": "2022-07-29T04:36:16.419926Z",
     "start_time": "2022-07-29T04:36:16.409195Z"
    }
   },
   "outputs": [],
   "source": [
    "### DEFINE T2V LAYER ###\n",
    "\n",
    "class T2V(Layer):\n",
    "    \n",
    "    def __init__(self, output_dim=None, **kwargs):\n",
    "        self.output_dim = output_dim\n",
    "        super(T2V, self).__init__(**kwargs)\n",
    "        \n",
    "    def build(self, input_shape):\n",
    "\n",
    "        self.W = self.add_weight(name='W',\n",
    "                                shape=(1, self.output_dim),\n",
    "                                initializer='uniform',\n",
    "                                trainable=True)\n",
    "\n",
    "        self.P = self.add_weight(name='P',\n",
    "                                shape=(1, self.output_dim),\n",
    "                                initializer='uniform',\n",
    "                                trainable=True)\n",
    "\n",
    "        self.w = self.add_weight(name='w',\n",
    "                                shape=(1, 1),\n",
    "                                initializer='uniform',\n",
    "                                trainable=True)\n",
    "\n",
    "        self.p = self.add_weight(name='p',\n",
    "                                shape=(1, 1),\n",
    "                                initializer='uniform',\n",
    "                                trainable=True)\n",
    "\n",
    "        super(T2V, self).build(input_shape)\n",
    "        \n",
    "    def call(self, x):\n",
    "        \n",
    "        original = self.w * x + self.p\n",
    "        sin_trans = K.sin(K.dot(x, self.W) + self.P)\n",
    "        \n",
    "        return K.concatenate([sin_trans, original], -1)\n",
    "\n",
    "\n",
    "### CREATE GENERATOR FOR LSTM AND T2V ###\n",
    "\n",
    "sequence_length = 24\n",
    "\n",
    "def gen_sequence(id_df, seq_length, seq_cols):\n",
    "    \n",
    "    data_matrix = id_df[seq_cols].values\n",
    "    num_elements = data_matrix.shape[0]\n",
    "\n",
    "    for start, stop in zip(range(0, num_elements-seq_length), range(seq_length, num_elements)):\n",
    "        yield data_matrix[start:stop, :]\n",
    "\n",
    "def gen_labels(id_df, seq_length, label):\n",
    "    \n",
    "    data_matrix = id_df[label].values\n",
    "    num_elements = data_matrix.shape[0]\n",
    "    \n",
    "    return data_matrix[seq_length:num_elements, :]"
   ]
  },
  {
   "cell_type": "code",
   "execution_count": 69,
   "id": "f7c36aac",
   "metadata": {
    "ExecuteTime": {
     "end_time": "2022-07-29T08:50:09.026069Z",
     "start_time": "2022-07-29T08:50:09.006600Z"
    }
   },
   "outputs": [],
   "source": [
    "def set_seed_TF2(seed):\n",
    "    \n",
    "    tf.random.set_seed(seed)\n",
    "    os.environ['PYTHONHASHSEED'] = str(seed)\n",
    "    np.random.seed(seed)\n",
    "    random.seed(seed)\n",
    "    \n",
    "dim=24\n",
    "def T2V_NN(param):\n",
    "    \n",
    "    inp = Input(shape=(dim,1))\n",
    "    x = T2V(param['t2v_dim'])(inp)\n",
    "    x = LSTM(param['unit'], activation=param['act'])(x)\n",
    "    x = Dense(1)(x)\n",
    "    \n",
    "    m = Model(inp, x)\n",
    "    m.compile(loss='mse', optimizer=Adam(lr=param['lr']))\n",
    "    \n",
    "    return m\n",
    "\n",
    "\n",
    "def NN(param, dim):\n",
    "    \n",
    "    inp = Input(shape=(dim,1))\n",
    "    x = LSTM(param['unit'], activation=param['act'])(inp)\n",
    "    x = Dense(1)(x)\n",
    "    \n",
    "    m = Model(inp, x)\n",
    "    m.compile(loss='mse', optimizer=Adam(lr=param['lr']))\n",
    "    \n",
    "    return m"
   ]
  },
  {
   "cell_type": "code",
   "execution_count": 7,
   "id": "039c6e20",
   "metadata": {
    "ExecuteTime": {
     "end_time": "2022-07-29T06:30:17.824174Z",
     "start_time": "2022-07-29T06:30:17.797171Z"
    }
   },
   "outputs": [],
   "source": [
    "### PREPARE DATA TO FEED MODELS ###\n",
    "\n",
    "X, Y = [], []\n",
    "for sequence in gen_sequence(df, sequence_length, ['Livello P.Salute Canal Grande (cm)']):\n",
    "    X.append(sequence)\n",
    "    \n",
    "for sequence in gen_labels(df, sequence_length, ['Livello P.Salute Canal Grande (cm)']):\n",
    "    Y.append(sequence)\n",
    "    \n",
    "X = np.asarray(X)\n",
    "Y = np.asarray(Y)"
   ]
  },
  {
   "cell_type": "code",
   "execution_count": 15,
   "id": "dba87919",
   "metadata": {
    "ExecuteTime": {
     "end_time": "2022-07-29T07:23:00.083980Z",
     "start_time": "2022-07-29T07:23:00.079978Z"
    }
   },
   "outputs": [
    {
     "name": "stdout",
     "output_type": "stream",
     "text": [
      "(6132, 24, 1) (6132, 1)\n",
      "(2604, 24, 1) (2604, 1)\n"
     ]
    }
   ],
   "source": [
    "train_dim = int(0.7*len(df))\n",
    "X_train, X_test = X[:train_dim], X[train_dim:]\n",
    "y_train, y_test = Y[:train_dim], Y[train_dim:]\n",
    "\n",
    "print(X_train.shape, y_train.shape)\n",
    "print(X_test.shape, y_test.shape)"
   ]
  },
  {
   "cell_type": "code",
   "execution_count": 73,
   "id": "643d374c",
   "metadata": {
    "ExecuteTime": {
     "end_time": "2022-07-29T08:51:49.221422Z",
     "start_time": "2022-07-29T08:51:49.203170Z"
    }
   },
   "outputs": [],
   "source": [
    "param_grid = {\n",
    "    'unit': [64,32],\n",
    "    't2v_dim': [128,64],\n",
    "    'lr': [1e-2,1e-3], \n",
    "    'act': ['elu','relu'], \n",
    "    'epochs': 200,\n",
    "    'batch_size': [512,1024]\n",
    "}\n"
   ]
  },
  {
   "cell_type": "code",
   "execution_count": null,
   "id": "c82885a8",
   "metadata": {},
   "outputs": [],
   "source": [
    "### FIT T2V + LSTM ###\n",
    "es = EarlyStopping(patience=5, verbose=0, min_delta=0.001, monitor='val_loss', mode='auto', restore_best_weights=True)\n",
    "kgs_t2v = KerasGridSearch(T2V_NN, param_grid, monitor='val_loss', greater_is_better=False, tuner_verbose=1)\n",
    "kgs_t2v.search(X_train, y_train, validation_split=0.2, callbacks=[es], shuffle=False)"
   ]
  },
  {
   "cell_type": "code",
   "execution_count": 28,
   "id": "82d51571",
   "metadata": {
    "ExecuteTime": {
     "end_time": "2022-07-29T07:52:00.646558Z",
     "start_time": "2022-07-29T07:52:00.267598Z"
    }
   },
   "outputs": [
    {
     "data": {
      "text/plain": [
       "2.0710664785527175"
      ]
     },
     "execution_count": 28,
     "metadata": {},
     "output_type": "execute_result"
    }
   ],
   "source": [
    "pred_t2v = kgs_t2v.best_model.predict(X_test).ravel()\n",
    "mean_absolute_error(y_test.ravel(), pred_t2v)"
   ]
  },
  {
   "cell_type": "code",
   "execution_count": 30,
   "id": "63e382fd",
   "metadata": {
    "ExecuteTime": {
     "end_time": "2022-07-29T07:52:28.155859Z",
     "start_time": "2022-07-29T07:52:28.144985Z"
    }
   },
   "outputs": [
    {
     "data": {
      "text/plain": [
       "3.66899"
      ]
     },
     "execution_count": 30,
     "metadata": {},
     "output_type": "execute_result"
    }
   ],
   "source": [
    "kgs_t2v.best_score"
   ]
  },
  {
   "cell_type": "code",
   "execution_count": 21,
   "id": "25faeb5d",
   "metadata": {
    "ExecuteTime": {
     "end_time": "2022-07-29T07:42:09.680896Z",
     "start_time": "2022-07-29T07:42:09.525877Z"
    }
   },
   "outputs": [
    {
     "data": {
      "text/plain": [
       "<matplotlib.legend.Legend at 0x214e6dcbf10>"
      ]
     },
     "execution_count": 21,
     "metadata": {},
     "output_type": "execute_result"
    },
    {
     "data": {
      "image/png": "[encoded data removed]",
      "text/plain": [
       "<Figure size 576x360 with 1 Axes>"
      ]
     },
     "metadata": {
      "needs_background": "light"
     },
     "output_type": "display_data"
    }
   ],
   "source": [
    "plt.figure(figsize=(8,5))\n",
    "\n",
    "plt.plot(pred_t2v[:365], label='prediction')\n",
    "plt.plot(y_test.ravel()[:365], label='true')\n",
    "plt.title('T2V plus LSTM'); plt.legend()"
   ]
  },
  {
   "cell_type": "code",
   "execution_count": 25,
   "id": "e62fd466",
   "metadata": {
    "ExecuteTime": {
     "end_time": "2022-07-29T07:44:04.160178Z",
     "start_time": "2022-07-29T07:44:04.155178Z"
    }
   },
   "outputs": [
    {
     "data": {
      "text/plain": [
       "{'unit': [64, 32],\n",
       " 'lr': [0.01, 0.001],\n",
       " 'act': ['elu', 'relu'],\n",
       " 'epochs': 200,\n",
       " 'batch_size': [512, 1024]}"
      ]
     },
     "execution_count": 25,
     "metadata": {},
     "output_type": "execute_result"
    }
   ],
   "source": [
    "del param_grid['t2v_dim']"
   ]
  },
  {
   "cell_type": "markdown",
   "id": "c5d3e0d2",
   "metadata": {},
   "source": [
    "作为对比，拟合一个简单的LSTM"
   ]
  },
  {
   "cell_type": "code",
   "execution_count": 26,
   "id": "ff4857e6",
   "metadata": {
    "ExecuteTime": {
     "end_time": "2022-07-29T07:51:09.185261Z",
     "start_time": "2022-07-29T07:44:14.672447Z"
    },
    "scrolled": true
   },
   "outputs": [
    {
     "name": "stdout",
     "output_type": "stream",
     "text": [
      "\n",
      "16 trials detected for ('unit', 'lr', 'act', 'epochs', 'batch_size')\n",
      "\n",
      "***** (1/16) *****\n",
      "Search({'unit': 64, 'lr': 0.01, 'act': 'relu', 'epochs': 200, 'batch_size': 512})\n"
     ]
    },
    {
     "name": "stderr",
     "output_type": "stream",
     "text": [
      "C:\\Users\\ASUS\\anaconda3\\lib\\site-packages\\keras\\optimizer_v2\\optimizer_v2.py:355: UserWarning: The `lr` argument is deprecated, use `learning_rate` instead.\n",
      "  warnings.warn(\n"
     ]
    },
    {
     "name": "stdout",
     "output_type": "stream",
     "text": [
      "SCORE: 162.69057 at epoch 8\n",
      "\n",
      "***** (2/16) *****\n",
      "Search({'unit': 64, 'lr': 0.01, 'act': 'relu', 'epochs': 200, 'batch_size': 1024})\n",
      "SCORE: 109.89171 at epoch 10\n",
      "\n",
      "***** (3/16) *****\n",
      "Search({'unit': 64, 'lr': 0.01, 'act': 'elu', 'epochs': 200, 'batch_size': 512})\n",
      "SCORE: 526.79352 at epoch 4\n",
      "\n",
      "***** (4/16) *****\n",
      "Search({'unit': 64, 'lr': 0.01, 'act': 'elu', 'epochs': 200, 'batch_size': 1024})\n",
      "SCORE: 3.98499 at epoch 48\n",
      "\n",
      "***** (5/16) *****\n",
      "Search({'unit': 64, 'lr': 0.001, 'act': 'relu', 'epochs': 200, 'batch_size': 512})\n",
      "SCORE: 6.01605 at epoch 28\n",
      "\n",
      "***** (6/16) *****\n",
      "Search({'unit': 64, 'lr': 0.001, 'act': 'relu', 'epochs': 200, 'batch_size': 1024})\n",
      "SCORE: 14.85231 at epoch 53\n",
      "\n",
      "***** (7/16) *****\n",
      "Search({'unit': 64, 'lr': 0.001, 'act': 'elu', 'epochs': 200, 'batch_size': 512})\n",
      "SCORE: 5.8034 at epoch 62\n",
      "\n",
      "***** (8/16) *****\n",
      "Search({'unit': 64, 'lr': 0.001, 'act': 'elu', 'epochs': 200, 'batch_size': 1024})\n",
      "SCORE: 11.19497 at epoch 135\n",
      "\n",
      "***** (9/16) *****\n",
      "Search({'unit': 32, 'lr': 0.01, 'act': 'relu', 'epochs': 200, 'batch_size': 512})\n",
      "SCORE: 3.79813 at epoch 57\n",
      "\n",
      "***** (10/16) *****\n",
      "Search({'unit': 32, 'lr': 0.01, 'act': 'relu', 'epochs': 200, 'batch_size': 1024})\n",
      "SCORE: 639.55157 at epoch 1\n",
      "\n",
      "***** (11/16) *****\n",
      "Search({'unit': 32, 'lr': 0.01, 'act': 'elu', 'epochs': 200, 'batch_size': 512})\n",
      "SCORE: 332.72345 at epoch 1\n",
      "\n",
      "***** (12/16) *****\n",
      "Search({'unit': 32, 'lr': 0.01, 'act': 'elu', 'epochs': 200, 'batch_size': 1024})\n",
      "SCORE: 4.89534 at epoch 35\n",
      "\n",
      "***** (13/16) *****\n",
      "Search({'unit': 32, 'lr': 0.001, 'act': 'relu', 'epochs': 200, 'batch_size': 512})\n",
      "SCORE: 10.06293 at epoch 50\n",
      "\n",
      "***** (14/16) *****\n",
      "Search({'unit': 32, 'lr': 0.001, 'act': 'relu', 'epochs': 200, 'batch_size': 1024})\n",
      "SCORE: 4.96845 at epoch 161\n",
      "\n",
      "***** (15/16) *****\n",
      "Search({'unit': 32, 'lr': 0.001, 'act': 'elu', 'epochs': 200, 'batch_size': 512})\n",
      "SCORE: 4.88064 at epoch 128\n",
      "\n",
      "***** (16/16) *****\n",
      "Search({'unit': 32, 'lr': 0.001, 'act': 'elu', 'epochs': 200, 'batch_size': 1024})\n",
      "SCORE: 10.69279 at epoch 72\n"
     ]
    },
    {
     "data": {
      "text/plain": [
       "<kerashypetune.kerashypetune.KerasGridSearch at 0x2144803c4c0>"
      ]
     },
     "execution_count": 26,
     "metadata": {},
     "output_type": "execute_result"
    }
   ],
   "source": [
    "### FIT SIMPLE LSTM ###\n",
    "es = EarlyStopping(patience=5, verbose=0, min_delta=0.001, monitor='val_loss', mode='auto', restore_best_weights=True)\n",
    "\n",
    "hypermodel = lambda x: NN(param=x, dim=sequence_length)\n",
    "\n",
    "kgs = KerasGridSearch(hypermodel, param_grid, monitor='val_loss', greater_is_better=False, tuner_verbose=1)\n",
    "kgs.search(X_train, y_train, validation_split=0.2, callbacks=[es], shuffle=False)"
   ]
  },
  {
   "cell_type": "code",
   "execution_count": 27,
   "id": "7dd357fa",
   "metadata": {
    "ExecuteTime": {
     "end_time": "2022-07-29T07:51:40.013454Z",
     "start_time": "2022-07-29T07:51:39.730108Z"
    }
   },
   "outputs": [
    {
     "data": {
      "text/plain": [
       "1.949525034418487"
      ]
     },
     "execution_count": 27,
     "metadata": {},
     "output_type": "execute_result"
    }
   ],
   "source": [
    "pred = kgs.best_model.predict(X_test).ravel()\n",
    "mean_absolute_error(y_test.ravel(), pred)"
   ]
  },
  {
   "cell_type": "code",
   "execution_count": 32,
   "id": "509cb9bd",
   "metadata": {
    "ExecuteTime": {
     "end_time": "2022-07-29T07:53:49.201226Z",
     "start_time": "2022-07-29T07:53:49.080969Z"
    },
    "scrolled": true
   },
   "outputs": [
    {
     "data": {
      "text/plain": [
       "<tf.Tensor: shape=(6132, 24, 129), dtype=float32, numpy=\n",
       "array([[[ 0.98590136,  0.88047874,  0.9895088 , ..., -0.88675094,\n",
       "          0.4081091 , -1.6262245 ],\n",
       "        [ 0.9472808 ,  0.9186039 ,  0.99969816, ..., -0.92896354,\n",
       "          0.44244748, -1.7713    ],\n",
       "        [ 0.96283764,  0.906666  ,  0.9979072 , ..., -0.9159323 ,\n",
       "          0.4310697 , -1.7229415 ],\n",
       "        ...,\n",
       "        [-0.63215846, -0.26410767, -0.40817973, ...,  0.4471099 ,\n",
       "         -0.16072747,  0.59826577],\n",
       "        [ 0.10565707,  0.17019846,  0.18059087, ..., -0.04312882,\n",
       "          0.02828907, -0.12711151],\n",
       "        [ 0.6728147 ,  0.49833634,  0.6156608 , ..., -0.43359756,\n",
       "          0.1790977 , -0.7074133 ]],\n",
       "\n",
       "       [[ 0.9472808 ,  0.9186039 ,  0.99969816, ..., -0.92896354,\n",
       "          0.44244748, -1.7713    ],\n",
       "        [ 0.96283764,  0.906666  ,  0.9979072 , ..., -0.9159323 ,\n",
       "          0.4310697 , -1.7229415 ],\n",
       "        [ 0.99546444,  0.8020787 ,  0.94085133, ..., -0.79643506,\n",
       "          0.34959772, -1.3844321 ],\n",
       "        ...,\n",
       "        [ 0.10565707,  0.17019846,  0.18059087, ..., -0.04312882,\n",
       "          0.02828907, -0.12711151],\n",
       "        [ 0.6728147 ,  0.49833634,  0.6156608 , ..., -0.43359756,\n",
       "          0.1790977 , -0.7074133 ],\n",
       "        [ 0.8942543 ,  0.6640506 ,  0.8100159 , ..., -0.6326181 ,\n",
       "          0.26538718, -1.0459226 ]],\n",
       "\n",
       "       [[ 0.96283764,  0.906666  ,  0.9979072 , ..., -0.9159323 ,\n",
       "          0.4310697 , -1.7229415 ],\n",
       "        [ 0.99546444,  0.8020787 ,  0.94085133, ..., -0.79643506,\n",
       "          0.34959772, -1.3844321 ],\n",
       "        [ 0.8422286 ,  0.61924595,  0.76038545, ..., -0.5788948 ,\n",
       "          0.24091586, -0.94920576],\n",
       "        ...,\n",
       "        [ 0.6728147 ,  0.49833634,  0.6156608 , ..., -0.43359756,\n",
       "          0.1790977 , -0.7074133 ],\n",
       "        [ 0.8942543 ,  0.6640506 ,  0.8100159 , ..., -0.6326181 ,\n",
       "          0.26538718, -1.0459226 ],\n",
       "        [ 0.9680866 ,  0.74671257,  0.89334065, ..., -0.73117465,\n",
       "          0.3138048 , -1.2393566 ]],\n",
       "\n",
       "       ...,\n",
       "\n",
       "       [[ 0.90833306,  0.9401173 ,  0.998449  , ..., -0.951833  ,\n",
       "          0.4649889 , -1.868017  ],\n",
       "        [ 0.975723  ,  0.893954  ,  0.9945089 , ..., -0.90185606,\n",
       "          0.419623  , -1.674583  ],\n",
       "        [ 0.99803126,  0.85128516,  0.97473764, ..., -0.85352415,\n",
       "          0.3848874 , -1.5295075 ],\n",
       "        ...,\n",
       "        [ 0.57490474,  0.99845386,  0.89735097, ..., -0.9996582 ,\n",
       "          0.5729514 , -2.3516018 ],\n",
       "        [ 0.13793214,  0.97857577,  0.6834672 , ..., -0.94599366,\n",
       "          0.66233766, -2.7868283 ],\n",
       "        [-0.12469801,  0.93817604,  0.52423775, ..., -0.87804157,\n",
       "          0.708362  , -3.0286207 ]],\n",
       "\n",
       "       [[ 0.975723  ,  0.893954  ,  0.9945089 , ..., -0.90185606,\n",
       "          0.419623  , -1.674583  ],\n",
       "        [ 0.99803126,  0.85128516,  0.97473764, ..., -0.85352415,\n",
       "          0.3848874 , -1.5295075 ],\n",
       "        [ 0.99803126,  0.85128516,  0.97473764, ..., -0.85352415,\n",
       "          0.3848874 , -1.5295075 ],\n",
       "        ...,\n",
       "        [ 0.13793214,  0.97857577,  0.6834672 , ..., -0.94599366,\n",
       "          0.66233766, -2.7868283 ],\n",
       "        [-0.12469801,  0.93817604,  0.52423775, ..., -0.87804157,\n",
       "          0.708362  , -3.0286207 ],\n",
       "        [ 0.03300869,  0.96487963,  0.62273175, ..., -0.9219516 ,\n",
       "          0.6810757 , -2.8835452 ]],\n",
       "\n",
       "       [[ 0.99803126,  0.85128516,  0.97473764, ..., -0.85352415,\n",
       "          0.3848874 , -1.5295075 ],\n",
       "        [ 0.99803126,  0.85128516,  0.97473764, ..., -0.85352415,\n",
       "          0.3848874 , -1.5295075 ],\n",
       "        [ 0.975723  ,  0.893954  ,  0.9945089 , ..., -0.90185606,\n",
       "          0.419623  , -1.674583  ],\n",
       "        ...,\n",
       "        [-0.12469801,  0.93817604,  0.52423775, ..., -0.87804157,\n",
       "          0.708362  , -3.0286207 ],\n",
       "        [ 0.03300869,  0.96487963,  0.62273175, ..., -0.9219516 ,\n",
       "          0.6810757 , -2.8835452 ],\n",
       "        [ 0.24132612,  0.9889306 ,  0.73980117, ..., -0.96571994,\n",
       "          0.64317584, -2.6901112 ]]], dtype=float32)>"
      ]
     },
     "execution_count": 32,
     "metadata": {},
     "output_type": "execute_result"
    }
   ],
   "source": [
    "kgs_t2v.best_model.layers[1](X_train)"
   ]
  },
  {
   "cell_type": "code",
   "execution_count": 147,
   "id": "fc175871",
   "metadata": {
    "ExecuteTime": {
     "end_time": "2022-07-29T10:00:32.100067Z",
     "start_time": "2022-07-29T10:00:32.074968Z"
    }
   },
   "outputs": [],
   "source": [
    "from tensorflow.keras import backend as K\n",
    "from tensorflow import keras \n",
    "class Time2Vec(tf.keras.layers.Layer):\n",
    "    def __init__(self, kernel_size=1):\n",
    "        super(Time2Vec, self).__init__(trainable=True, name='Time2VecLayer')\n",
    "        self.k = kernel_size\n",
    "    \n",
    "    def build(self, input_shape):\n",
    "        # trend\n",
    "        self.wb = self.add_weight(name='wb',shape=(input_shape[1],),initializer='uniform',trainable=True)\n",
    "        self.bb = self.add_weight(name='bb',shape=(input_shape[1],),initializer='uniform',trainable=True)\n",
    "        # periodic\n",
    "        self.wa = self.add_weight(name='wa',shape=(1, input_shape[1], self.k),initializer='uniform',trainable=True)\n",
    "        self.ba = self.add_weight(name='ba',shape=(1, input_shape[1], self.k),initializer='uniform',trainable=True)\n",
    "        super(Time2Vec, self).build(input_shape)\n",
    "    \n",
    "    def call(self, inputs, **kwargs):\n",
    "        bias = self.wb * inputs + self.bb\n",
    "        dp = K.dot(inputs, self.wa) + self.ba\n",
    "        wgts = K.sin(dp) # or K.cos(.)\n",
    "\n",
    "        ret = K.concatenate([K.expand_dims(bias, -1), wgts], -1)\n",
    "        ret = K.reshape(ret, (-1, inputs.shape[1]*(self.k+1)))\n",
    "        return ret\n",
    "    \n",
    "    def compute_output_shape(self, input_shape):\n",
    "        return (input_shape[0], input_shape[1]*(self.k + 1))\n",
    "#\n",
    "class AttentionBlock(tf.keras.Model):\n",
    "    def __init__(self, name='AttentionBlock', num_heads=2, head_size=128, ff_dim=None, dropout=0, **kwargs):\n",
    "        super().__init__(name=name, **kwargs)\n",
    "\n",
    "        if ff_dim is None:\n",
    "            ff_dim = head_size\n",
    "        self.attention = keras.layers.MultiHeadAttention(num_heads=num_heads, key_dim=head_size, dropout=dropout)\n",
    "        self.attention_dropout = keras.layers.Dropout(dropout)\n",
    "        self.attention_norm = keras.layers.LayerNormalization(epsilon=1e-6)\n",
    "\n",
    "        self.ff_conv1 = keras.layers.Conv1D(filters=ff_dim, kernel_size=1, activation='relu')\n",
    "        # self.ff_conv2 at build()\n",
    "        self.ff_dropout = keras.layers.Dropout(dropout)\n",
    "        self.ff_norm = keras.layers.LayerNormalization(epsilon=1e-6)\n",
    "\n",
    "    def build(self, input_shape):\n",
    "        self.ff_conv2 = keras.layers.Conv1D(filters=input_shape[-1], kernel_size=1) \n",
    "\n",
    "    def call(self, inputs):\n",
    "        x = self.attention(inputs, inputs)\n",
    "        x = self.attention_dropout(x)\n",
    "        x = self.attention_norm(inputs + x)\n",
    "\n",
    "        x = self.ff_conv1(x)\n",
    "        x = self.ff_conv2(x)\n",
    "        x = self.ff_dropout(x)\n",
    "\n",
    "        x = self.ff_norm(inputs + x)\n",
    "        return x\n",
    "#\n",
    "class ModelTrunk(tf.keras.Model):\n",
    "    def __init__(self, name='ModelTrunk', time2vec_dim=1, num_heads=2, head_size=128, ff_dim=None, num_layers=1, dropout=0, **kwargs):\n",
    "        super().__init__(name=name, **kwargs)\n",
    "        self.time2vec = Time2Vec(kernel_size=time2vec_dim)\n",
    "        if ff_dim is None:\n",
    "            ff_dim = head_size\n",
    "        self.dropout = dropout\n",
    "        self.attention_layers = [AttentionBlock(num_heads=num_heads, head_size=head_size, ff_dim=ff_dim, dropout=dropout) for _ in range(num_layers)]\n",
    "        #self.pooling=tf.keras.layers.AveragePooling1D(pool_size=4,data_format='channels_first')\n",
    "        self.final_layer = Sequential([\n",
    "                Bidirectional(LSTM(128)),\n",
    "                Dense(32, activation='selu'),\n",
    "                Dense(1)])\n",
    "    def call(self, inputs):\n",
    "        time_embedding = tf.keras.layers.TimeDistributed(self.time2vec)(inputs)\n",
    "        #time_embedding=inputs\n",
    "        #print(time_embedding.shape)\n",
    "        x = K.concatenate([inputs, time_embedding], -1)\n",
    "        for attention_layer in self.attention_layers:\n",
    "            x = attention_layer(x)\n",
    "        x=  self.final_layer(x)\n",
    "        return x # flat vector of features out"
   ]
  },
  {
   "cell_type": "code",
   "execution_count": 149,
   "id": "9fd78107",
   "metadata": {
    "ExecuteTime": {
     "end_time": "2022-07-29T10:03:35.127992Z",
     "start_time": "2022-07-29T10:00:47.461169Z"
    }
   },
   "outputs": [
    {
     "name": "stdout",
     "output_type": "stream",
     "text": [
      "Epoch 1/10\n",
      "48/48 [==============================] - 21s 358ms/step - loss: 25.4587 - val_loss: 24.7011\n",
      "Epoch 2/10\n",
      "48/48 [==============================] - 17s 353ms/step - loss: 23.2916 - val_loss: 23.2629\n",
      "Epoch 3/10\n",
      "48/48 [==============================] - 16s 337ms/step - loss: 17.9008 - val_loss: 20.6093\n",
      "Epoch 4/10\n",
      "48/48 [==============================] - 16s 340ms/step - loss: 16.2374 - val_loss: 19.4206\n",
      "Epoch 5/10\n",
      "48/48 [==============================] - 16s 338ms/step - loss: 15.3367 - val_loss: 18.2247\n",
      "Epoch 6/10\n",
      "48/48 [==============================] - 16s 337ms/step - loss: 14.2932 - val_loss: 17.4102\n",
      "Epoch 7/10\n",
      "48/48 [==============================] - 16s 338ms/step - loss: 12.3209 - val_loss: 14.4868\n",
      "Epoch 8/10\n",
      "48/48 [==============================] - 16s 337ms/step - loss: 10.3932 - val_loss: 11.9102\n",
      "Epoch 9/10\n",
      "48/48 [==============================] - 16s 337ms/step - loss: 9.1091 - val_loss: 9.8900\n",
      "Epoch 10/10\n",
      "48/48 [==============================] - 16s 339ms/step - loss: 8.4301 - val_loss: 9.0748\n"
     ]
    }
   ],
   "source": [
    "scheduler = tf.keras.optimizers.schedules.ExponentialDecay(1e-3, 5, 0.9)\n",
    "es = EarlyStopping(monitor='val_loss',mode='min', patience=35, verbose=1,restore_best_weights=True)\n",
    "checkpoint_filepath = f\"folds1.tf\"\n",
    "model = ModelTrunk(ff_dim=64,num_heads=4,num_layers=2,)\n",
    "model.compile(optimizer=\"adam\",loss = \"mae\")\n",
    "history = model.fit(X_train, y_train, validation_data=(X_test, y_test), epochs=10, batch_size = 128,\n",
    "                        callbacks = [es,tf.keras.callbacks.LearningRateScheduler(scheduler)])"
   ]
  },
  {
   "cell_type": "code",
   "execution_count": 150,
   "id": "0a057aa5",
   "metadata": {
    "ExecuteTime": {
     "end_time": "2022-07-29T10:10:28.901733Z",
     "start_time": "2022-07-29T10:10:25.143521Z"
    }
   },
   "outputs": [],
   "source": [
    "pred =model.predict(X_test)"
   ]
  },
  {
   "cell_type": "code",
   "execution_count": 152,
   "id": "2bb8c7e7",
   "metadata": {
    "ExecuteTime": {
     "end_time": "2022-07-29T10:10:39.061320Z",
     "start_time": "2022-07-29T10:10:39.044217Z"
    }
   },
   "outputs": [
    {
     "data": {
      "text/plain": [
       "9.074774936194919"
      ]
     },
     "execution_count": 152,
     "metadata": {},
     "output_type": "execute_result"
    }
   ],
   "source": [
    "mean_absolute_error(y_test.ravel(), pred)"
   ]
  },
  {
   "cell_type": "code",
   "execution_count": null,
   "id": "daca14b3",
   "metadata": {},
   "outputs": [],
   "source": []
  }
 ],
 "metadata": {
  "kernelspec": {
   "display_name": "Python 3",
   "language": "python",
   "name": "python3"
  },
  "language_info": {
   "codemirror_mode": {
    "name": "ipython",
    "version": 3
   },
   "file_extension": ".py",
   "mimetype": "text/x-python",
   "name": "python",
   "nbconvert_exporter": "python",
   "pygments_lexer": "ipython3",
   "version": "3.8.8"
  },
  "varInspector": {
   "cols": {
    "lenName": 16,
    "lenType": 16,
    "lenVar": 40
   },
   "kernels_config": {
    "python": {
     "delete_cmd_postfix": "",
     "delete_cmd_prefix": "del ",
     "library": "var_list.py",
     "varRefreshCmd": "print(var_dic_list())"
    },
    "r": {
     "delete_cmd_postfix": ") ",
     "delete_cmd_prefix": "rm(",
     "library": "var_list.r",
     "varRefreshCmd": "cat(var_dic_list()) "
    }
   },
   "types_to_exclude": [
    "module",
    "function",
    "builtin_function_or_method",
    "instance",
    "_Feature"
   ],
   "window_display": false
  }
 },
 "nbformat": 4,
 "nbformat_minor": 5
}
