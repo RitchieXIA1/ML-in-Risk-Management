{
 "cells": [
  {
   "cell_type": "code",
   "execution_count": null,
   "id": "dabad172",
   "metadata": {},
   "outputs": [],
   "source": [
    "import paddle\n",
    "import paddle.fluid as fluid\n",
    "class WB_Dataset(paddle.io.Dataset):\n",
    "    def __init__(self, data, sparse_cols, dense_cols, lab=None, dev=False):\n",
    "        super().__init__()\n",
    "        self.sparse_col = sparse_cols\n",
    "        self.dense_cols = dense_cols\n",
    "        self.lens = data.shape[0]\n",
    "\n",
    "        self.dense_features = data[dense_cols].values.astype(np.float32)\n",
    "        self.sparse_features = data[sparse_cols].values.astype(np.float32)\n",
    "        self.lab = lab\n",
    "        self.dev = dev\n",
    "        if dev == False:\n",
    "            self.labels = lab.values.astype(np.int64)\n",
    "\n",
    "    def __getitem__(self, idx):\n",
    "        dense_features_input = list(self.dense_features[[idx]])\n",
    "        sparse_features_input = list(self.sparse_features[[idx]])\n",
    "        if self.dev == False:\n",
    "            label_input = self.labels[[idx]]\n",
    "            return dense_features_input, sparse_features_input, label_input\n",
    "        else:\n",
    "            return dense_features_input, sparse_features_input\n",
    "\n",
    "    def __len__(self):\n",
    "        return self.lens"
   ]
  }
 ],
 "metadata": {
  "kernelspec": {
   "display_name": "Python 3",
   "language": "python",
   "name": "python3"
  },
  "language_info": {
   "codemirror_mode": {
    "name": "ipython",
    "version": 3
   },
   "file_extension": ".py",
   "mimetype": "text/x-python",
   "name": "python",
   "nbconvert_exporter": "python",
   "pygments_lexer": "ipython3",
   "version": "3.8.8"
  },
  "varInspector": {
   "cols": {
    "lenName": 16,
    "lenType": 16,
    "lenVar": 40
   },
   "kernels_config": {
    "python": {
     "delete_cmd_postfix": "",
     "delete_cmd_prefix": "del ",
     "library": "var_list.py",
     "varRefreshCmd": "print(var_dic_list())"
    },
    "r": {
     "delete_cmd_postfix": ") ",
     "delete_cmd_prefix": "rm(",
     "library": "var_list.r",
     "varRefreshCmd": "cat(var_dic_list()) "
    }
   },
   "types_to_exclude": [
    "module",
    "function",
    "builtin_function_or_method",
    "instance",
    "_Feature"
   ],
   "window_display": false
  }
 },
 "nbformat": 4,
 "nbformat_minor": 5
}
