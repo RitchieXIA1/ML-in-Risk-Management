{
 "cells": [
  {
   "cell_type": "code",
   "execution_count": null,
   "id": "f091d7b6",
   "metadata": {},
   "outputs": [],
   "source": [
    "#先查看有多少个test上出现，train上没有的变量\n",
    "len(set(X_test.card2.dropna())-set(X_train.card2.dropna()))"
   ]
  },
  {
   "cell_type": "code",
   "execution_count": null,
   "id": "8d9039f0",
   "metadata": {},
   "outputs": [],
   "source": [
    "#看看有多少个样本存在这种未出现的变量\n",
    "unseen=list(set(X_test.card2)-set(X_train.card2))\n",
    "if_unseen=X_test.card2.apply(lambda x: x in unseen)\n",
    "sum(if_unseen)"
   ]
  }
 ],
 "metadata": {
  "kernelspec": {
   "display_name": "Python 3",
   "language": "python",
   "name": "python3"
  },
  "language_info": {
   "codemirror_mode": {
    "name": "ipython",
    "version": 3
   },
   "file_extension": ".py",
   "mimetype": "text/x-python",
   "name": "python",
   "nbconvert_exporter": "python",
   "pygments_lexer": "ipython3",
   "version": "3.8.8"
  },
  "varInspector": {
   "cols": {
    "lenName": 16,
    "lenType": 16,
    "lenVar": 40
   },
   "kernels_config": {
    "python": {
     "delete_cmd_postfix": "",
     "delete_cmd_prefix": "del ",
     "library": "var_list.py",
     "varRefreshCmd": "print(var_dic_list())"
    },
    "r": {
     "delete_cmd_postfix": ") ",
     "delete_cmd_prefix": "rm(",
     "library": "var_list.r",
     "varRefreshCmd": "cat(var_dic_list()) "
    }
   },
   "types_to_exclude": [
    "module",
    "function",
    "builtin_function_or_method",
    "instance",
    "_Feature"
   ],
   "window_display": false
  }
 },
 "nbformat": 4,
 "nbformat_minor": 5
}
