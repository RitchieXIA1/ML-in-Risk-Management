{
  "nbformat": 4,
  "nbformat_minor": 0,
  "metadata": {
    "colab": {
      "name": "01_json_normalize.ipynb",
      "provenance": [],
      "collapsed_sections": [],
      "authorship_tag": "ABX9TyNp7XbX7Hc6DWLUM2VWIBbv",
      "include_colab_link": true
    },
    "kernelspec": {
      "name": "python3",
      "display_name": "Python 3"
    }
  },
  "cells": [
    {
      "cell_type": "markdown",
      "metadata": {
        "id": "view-in-github",
        "colab_type": "text"
      },
      "source": [
        "<a href=\"https://colab.research.google.com/gist/dmort-ca/73719647d2fbe50cb0c695d38e8d5ee6/01_json_normalize.ipynb\" target=\"_parent\"><img src=\"https://colab.research.google.com/assets/colab-badge.svg\" alt=\"Open In Colab\"/></a>"
      ]
    },
    {
      "cell_type": "code",
      "metadata": {
        "id": "EgS_XdlpKKl8",
        "colab_type": "code",
        "colab": {}
      },
      "source": [
        "!pip install -q atlassian-python-api\n",
        "\n",
        "from atlassian import Jira\n",
        "from IPython.display import display, HTML, display_html\n",
        "import pandas as pd\n",
        "\n",
        "pd.set_option('max_colwidth', 140)"
      ],
      "execution_count": 0,
      "outputs": []
    },
    {
      "cell_type": "code",
      "metadata": {
        "id": "VVPxzPJrOajd",
        "colab_type": "code",
        "colab": {}
      },
      "source": [
        "jira = Jira(\n",
        "    url = \"\",\n",
        "    username = \"\",\n",
        "    password = \"\",\n",
        ")"
      ],
      "execution_count": 0,
      "outputs": []
    },
    {
      "cell_type": "code",
      "metadata": {
        "id": "X5dm2fb-PEns",
        "colab_type": "code",
        "colab": {}
      },
      "source": [
        "results = jira.jql(\"project = CAE\", limit=5, fields=[\"issuetype\", \"status\", \"status\", \"summary\"])"
      ],
      "execution_count": 0,
      "outputs": []
    },
    {
      "cell_type": "code",
      "metadata": {
        "id": "TWXA6A9YPHI0",
        "colab_type": "code",
        "colab": {}
      },
      "source": [
        "df = pd.DataFrame.from_records(results[\"issues\"], columns=[\"key\", \"fields\",])"
      ],
      "execution_count": 0,
      "outputs": []
    },
    {
      "cell_type": "code",
      "metadata": {
        "id": "y-hM4x3WTuLl",
        "colab_type": "code",
        "colab": {}
      },
      "source": [
        "df = pd.DataFrame.from_records(results[\"issues\"], columns=[\"key\", \"fields\",])\n",
        "\n",
        "df = (\n",
        "    df[\"fields\"]\n",
        "    .apply(pd.Series)\n",
        "    .merge(df, left_index=True, right_index = True)\n",
        ")\n",
        "df.drop(columns = \"fields\", inplace = True)"
      ],
      "execution_count": 0,
      "outputs": []
    },
    {
      "cell_type": "code",
      "metadata": {
        "id": "qfDJmQq7U7_t",
        "colab_type": "code",
        "colab": {}
      },
      "source": [
        "# Extract the issue type name and assign it to a new column called \"issue_type\"\n",
        "df_issue_type = (\n",
        "    df[\"issuetype\"]\n",
        "    .apply(pd.Series)\n",
        "    .rename(columns={\"name\": \"issue_type_name\"})[\"issue_type_name\"]\n",
        ")\n",
        "df = df.assign(issue_type_name = df_issue_type)\n",
        "df.drop(columns = \"issuetype\", inplace = True)\n",
        "df"
      ],
      "execution_count": 0,
      "outputs": []
    },
    {
      "cell_type": "code",
      "metadata": {
        "id": "we1-WQmrbE0u",
        "colab_type": "code",
        "colab": {}
      },
      "source": [
        "FIELDS = [\"key\", \"fields.summary\", \"fields.issuetype.name\", \"fields.status.name\", \"fields.status.statusCategory.name\"]\n",
        "df = pd.json_normalize(results[\"issues\"])\n",
        "df[FIELDS]"
      ],
      "execution_count": 0,
      "outputs": []
    },
    {
      "cell_type": "markdown",
      "metadata": {
        "id": "AIrmLg5A_mAi",
        "colab_type": "text"
      },
      "source": [
        "## Some Extras"
      ]
    },
    {
      "cell_type": "code",
      "metadata": {
        "id": "XDV6YkAM_qEh",
        "colab_type": "code",
        "colab": {}
      },
      "source": [
        "# Use record_path instead of passing the list contained in results[\"issues\"]\n",
        "pd.json_normalize(results, record_path=\"issues\")[FIELDS]"
      ],
      "execution_count": 0,
      "outputs": []
    },
    {
      "cell_type": "code",
      "metadata": {
        "id": "QZdtDUYaAVQO",
        "colab_type": "code",
        "colab": {}
      },
      "source": [
        "# Only recurse down to the second level, in this case the statusCategory name field won't be included in the resulting DataFrame.\n",
        "pd.json_normalize(results, record_path=\"issues\", max_level = 2)[FIELDS]"
      ],
      "execution_count": 0,
      "outputs": []
    },
    {
      "cell_type": "code",
      "metadata": {
        "id": "xOTdjI3i_vMm",
        "colab_type": "code",
        "colab": {}
      },
      "source": [
        "# Separate level prefixes with a \"-\" instead of the default \".\"\n",
        "FIELDS = [\"key\", \"fields-summary\", \"fields-issuetype-name\", \"fields-status-name\", \"fields-status-statusCategory-name\"]\n",
        "pd.json_normalize(results[\"issues\"], sep = \"-\")[FIELDS]"
      ],
      "execution_count": 0,
      "outputs": []
    }
  ]
}