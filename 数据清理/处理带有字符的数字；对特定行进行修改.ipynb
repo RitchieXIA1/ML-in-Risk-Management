{
 "cells": [
  {
   "cell_type": "code",
   "execution_count": null,
   "id": "c14df693",
   "metadata": {},
   "outputs": [],
   "source": [
    "#修改train的rom和ram格式\n",
    "rom2trans = np.where(train_df['device_rom'].str.contains(';')==True)[0]#先找到有字符的行index\n",
    "new_rom=list()\n",
    "for i in rom2trans:\n",
    "    first = int(train_df.iloc[i]['device_rom'].split(';')[0])#找到字符前后的数字\n",
    "    second = int(train_df.iloc[i]['device_rom'].split(';')[1])\n",
    "    new_rom.append((first+second)/2)\n",
    "ram2trans = np.where(train_df['device_ram'].str.contains(';')==True)[0]\n",
    "new_ram=list()\n",
    "for i in ram2trans:\n",
    "    first = int(train_df.iloc[i]['device_ram'].split(';')[0])\n",
    "    second = int(train_df.iloc[i]['device_ram'].split(';')[1])\n",
    "    new_ram.append((first+second)/2)\n",
    "train_df2 = train_df.copy()#建立镜像避免出问题\n",
    "train_df2.loc[ram2trans,'device_ram']=new_ram #只有这种形式才能修改特定行\n",
    "train_df2.loc[rom2trans,'device_rom'] =new_rom\n",
    "train_df[['device_rom','device_ram']] = train_df2[['device_rom','device_ram']]\n",
    "train_df['device_ram'] = train_df2['device_ram'].astype('float32')#把object格式改成数字格式\n",
    "train_df['device_rom'] = train_df2['device_rom'].astype('float32')"
   ]
  }
 ],
 "metadata": {
  "kernelspec": {
   "display_name": "Python 3",
   "language": "python",
   "name": "python3"
  },
  "language_info": {
   "codemirror_mode": {
    "name": "ipython",
    "version": 3
   },
   "file_extension": ".py",
   "mimetype": "text/x-python",
   "name": "python",
   "nbconvert_exporter": "python",
   "pygments_lexer": "ipython3",
   "version": "3.8.8"
  },
  "varInspector": {
   "cols": {
    "lenName": 16,
    "lenType": 16,
    "lenVar": 40
   },
   "kernels_config": {
    "python": {
     "delete_cmd_postfix": "",
     "delete_cmd_prefix": "del ",
     "library": "var_list.py",
     "varRefreshCmd": "print(var_dic_list())"
    },
    "r": {
     "delete_cmd_postfix": ") ",
     "delete_cmd_prefix": "rm(",
     "library": "var_list.r",
     "varRefreshCmd": "cat(var_dic_list()) "
    }
   },
   "types_to_exclude": [
    "module",
    "function",
    "builtin_function_or_method",
    "instance",
    "_Feature"
   ],
   "window_display": false
  }
 },
 "nbformat": 4,
 "nbformat_minor": 5
}
