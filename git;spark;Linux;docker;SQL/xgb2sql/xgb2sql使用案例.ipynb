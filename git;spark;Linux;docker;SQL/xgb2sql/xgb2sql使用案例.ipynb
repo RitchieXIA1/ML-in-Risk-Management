{
 "cells": [
  {
   "cell_type": "code",
   "execution_count": 1,
   "metadata": {},
   "outputs": [
    {
     "name": "stderr",
     "output_type": "stream",
     "text": [
      "C:\\ProgramData\\Anaconda3\\lib\\site-packages\\xgboost\\compat.py:31: FutureWarning: pandas.Int64Index is deprecated and will be removed from pandas in a future version. Use pandas.Index with the appropriate dtype instead.\n",
      "  from pandas import MultiIndex, Int64Index\n"
     ]
    }
   ],
   "source": [
    "import pandas as pd\n",
    "from xgb2sql import *\n",
    "import xgboost as xgb\n",
    "from sklearn.model_selection import train_test_split\n"
   ]
  },
  {
   "cell_type": "code",
   "execution_count": 2,
   "metadata": {},
   "outputs": [],
   "source": [
    "#数据读取\n",
    "pd.set_option('display.max_columns', None)#显示所有的列\n",
    "path  = './train.csv'\n",
    "train = pd.read_csv(path).fillna(-1)\n",
    "X = train.loc[:,:'DKLL']\n",
    "Y = train['label']\n",
    "\n",
    "x_train, x_test, y_train, y_test = train_test_split(X, Y, random_state=0, test_size=0.2)"
   ]
  },
  {
   "cell_type": "code",
   "execution_count": 3,
   "metadata": {},
   "outputs": [
    {
     "data": {
      "text/html": [
       "<div>\n",
       "<style scoped>\n",
       "    .dataframe tbody tr th:only-of-type {\n",
       "        vertical-align: middle;\n",
       "    }\n",
       "\n",
       "    .dataframe tbody tr th {\n",
       "        vertical-align: top;\n",
       "    }\n",
       "\n",
       "    .dataframe thead th {\n",
       "        text-align: right;\n",
       "    }\n",
       "</style>\n",
       "<table border=\"1\" class=\"dataframe\">\n",
       "  <thead>\n",
       "    <tr style=\"text-align: right;\">\n",
       "      <th></th>\n",
       "      <th>id</th>\n",
       "      <th>XINGBIE</th>\n",
       "      <th>CSNY</th>\n",
       "      <th>HYZK</th>\n",
       "      <th>ZHIYE</th>\n",
       "      <th>ZHICHEN</th>\n",
       "      <th>ZHIWU</th>\n",
       "      <th>XUELI</th>\n",
       "      <th>DWJJLX</th>\n",
       "      <th>DWSSHY</th>\n",
       "      <th>GRJCJS</th>\n",
       "      <th>GRZHZT</th>\n",
       "      <th>GRZHYE</th>\n",
       "      <th>GRZHSNJZYE</th>\n",
       "      <th>GRZHDNGJYE</th>\n",
       "      <th>GRYJCE</th>\n",
       "      <th>DWYJCE</th>\n",
       "      <th>DKFFE</th>\n",
       "      <th>DKYE</th>\n",
       "      <th>DKLL</th>\n",
       "    </tr>\n",
       "  </thead>\n",
       "  <tbody>\n",
       "    <tr>\n",
       "      <th>0</th>\n",
       "      <td>0</td>\n",
       "      <td>1</td>\n",
       "      <td>1.038672e+09</td>\n",
       "      <td>90</td>\n",
       "      <td>90</td>\n",
       "      <td>999</td>\n",
       "      <td>0</td>\n",
       "      <td>99</td>\n",
       "      <td>150</td>\n",
       "      <td>12</td>\n",
       "      <td>1737.0</td>\n",
       "      <td>1</td>\n",
       "      <td>3223.515</td>\n",
       "      <td>801.310</td>\n",
       "      <td>837.000</td>\n",
       "      <td>312.00</td>\n",
       "      <td>312.00</td>\n",
       "      <td>175237</td>\n",
       "      <td>154112.935</td>\n",
       "      <td>2.708</td>\n",
       "    </tr>\n",
       "    <tr>\n",
       "      <th>1</th>\n",
       "      <td>1</td>\n",
       "      <td>2</td>\n",
       "      <td>5.048928e+08</td>\n",
       "      <td>90</td>\n",
       "      <td>90</td>\n",
       "      <td>999</td>\n",
       "      <td>0</td>\n",
       "      <td>99</td>\n",
       "      <td>110</td>\n",
       "      <td>0</td>\n",
       "      <td>4894.0</td>\n",
       "      <td>1</td>\n",
       "      <td>18055.195</td>\n",
       "      <td>53213.220</td>\n",
       "      <td>1065.200</td>\n",
       "      <td>795.84</td>\n",
       "      <td>795.84</td>\n",
       "      <td>300237</td>\n",
       "      <td>298252.945</td>\n",
       "      <td>2.979</td>\n",
       "    </tr>\n",
       "    <tr>\n",
       "      <th>2</th>\n",
       "      <td>2</td>\n",
       "      <td>1</td>\n",
       "      <td>7.361856e+08</td>\n",
       "      <td>90</td>\n",
       "      <td>90</td>\n",
       "      <td>999</td>\n",
       "      <td>0</td>\n",
       "      <td>99</td>\n",
       "      <td>150</td>\n",
       "      <td>9</td>\n",
       "      <td>10297.0</td>\n",
       "      <td>1</td>\n",
       "      <td>27426.600</td>\n",
       "      <td>13963.140</td>\n",
       "      <td>7230.020</td>\n",
       "      <td>1444.20</td>\n",
       "      <td>1444.20</td>\n",
       "      <td>150237</td>\n",
       "      <td>147339.130</td>\n",
       "      <td>2.708</td>\n",
       "    </tr>\n",
       "    <tr>\n",
       "      <th>3</th>\n",
       "      <td>3</td>\n",
       "      <td>1</td>\n",
       "      <td>4.285152e+08</td>\n",
       "      <td>90</td>\n",
       "      <td>90</td>\n",
       "      <td>999</td>\n",
       "      <td>0</td>\n",
       "      <td>99</td>\n",
       "      <td>150</td>\n",
       "      <td>7</td>\n",
       "      <td>10071.5</td>\n",
       "      <td>1</td>\n",
       "      <td>111871.130</td>\n",
       "      <td>99701.265</td>\n",
       "      <td>2271.295</td>\n",
       "      <td>1417.14</td>\n",
       "      <td>1417.14</td>\n",
       "      <td>350237</td>\n",
       "      <td>300653.780</td>\n",
       "      <td>2.708</td>\n",
       "    </tr>\n",
       "    <tr>\n",
       "      <th>4</th>\n",
       "      <td>4</td>\n",
       "      <td>2</td>\n",
       "      <td>5.442048e+08</td>\n",
       "      <td>90</td>\n",
       "      <td>90</td>\n",
       "      <td>999</td>\n",
       "      <td>0</td>\n",
       "      <td>99</td>\n",
       "      <td>900</td>\n",
       "      <td>14</td>\n",
       "      <td>2007.0</td>\n",
       "      <td>1</td>\n",
       "      <td>237.000</td>\n",
       "      <td>11028.875</td>\n",
       "      <td>35.780</td>\n",
       "      <td>325.50</td>\n",
       "      <td>325.50</td>\n",
       "      <td>150237</td>\n",
       "      <td>145185.010</td>\n",
       "      <td>2.708</td>\n",
       "    </tr>\n",
       "  </tbody>\n",
       "</table>\n",
       "</div>"
      ],
      "text/plain": [
       "   id  XINGBIE          CSNY  HYZK  ZHIYE  ZHICHEN  ZHIWU  XUELI  DWJJLX  \\\n",
       "0   0        1  1.038672e+09    90     90      999      0     99     150   \n",
       "1   1        2  5.048928e+08    90     90      999      0     99     110   \n",
       "2   2        1  7.361856e+08    90     90      999      0     99     150   \n",
       "3   3        1  4.285152e+08    90     90      999      0     99     150   \n",
       "4   4        2  5.442048e+08    90     90      999      0     99     900   \n",
       "\n",
       "   DWSSHY   GRJCJS  GRZHZT      GRZHYE  GRZHSNJZYE  GRZHDNGJYE   GRYJCE  \\\n",
       "0      12   1737.0       1    3223.515     801.310     837.000   312.00   \n",
       "1       0   4894.0       1   18055.195   53213.220    1065.200   795.84   \n",
       "2       9  10297.0       1   27426.600   13963.140    7230.020  1444.20   \n",
       "3       7  10071.5       1  111871.130   99701.265    2271.295  1417.14   \n",
       "4      14   2007.0       1     237.000   11028.875      35.780   325.50   \n",
       "\n",
       "    DWYJCE   DKFFE        DKYE   DKLL  \n",
       "0   312.00  175237  154112.935  2.708  \n",
       "1   795.84  300237  298252.945  2.979  \n",
       "2  1444.20  150237  147339.130  2.708  \n",
       "3  1417.14  350237  300653.780  2.708  \n",
       "4   325.50  150237  145185.010  2.708  "
      ]
     },
     "execution_count": 3,
     "metadata": {},
     "output_type": "execute_result"
    }
   ],
   "source": [
    "X.head()"
   ]
  },
  {
   "cell_type": "code",
   "execution_count": 4,
   "metadata": {},
   "outputs": [],
   "source": [
    "tree_nums=20"
   ]
  },
  {
   "cell_type": "code",
   "execution_count": 5,
   "metadata": {},
   "outputs": [
    {
     "name": "stdout",
     "output_type": "stream",
     "text": [
      "[0]\ttrain-auc:0.72613\ttest-auc:0.73329\n",
      "[1]\ttrain-auc:0.72613\ttest-auc:0.73329\n",
      "[2]\ttrain-auc:0.75045\ttest-auc:0.75460\n",
      "[3]\ttrain-auc:0.75045\ttest-auc:0.75460\n",
      "[4]\ttrain-auc:0.81356\ttest-auc:0.82227\n",
      "[5]\ttrain-auc:0.81245\ttest-auc:0.82053\n",
      "[6]\ttrain-auc:0.81182\ttest-auc:0.82116\n",
      "[7]\ttrain-auc:0.81188\ttest-auc:0.82100\n",
      "[8]\ttrain-auc:0.81475\ttest-auc:0.82306\n",
      "[9]\ttrain-auc:0.82966\ttest-auc:0.83087\n",
      "[10]\ttrain-auc:0.83427\ttest-auc:0.83489\n",
      "[11]\ttrain-auc:0.83253\ttest-auc:0.83428\n",
      "[12]\ttrain-auc:0.83236\ttest-auc:0.83359\n",
      "[13]\ttrain-auc:0.85147\ttest-auc:0.85260\n",
      "[14]\ttrain-auc:0.85138\ttest-auc:0.85253\n",
      "[15]\ttrain-auc:0.85052\ttest-auc:0.85369\n",
      "[16]\ttrain-auc:0.85122\ttest-auc:0.85221\n",
      "[17]\ttrain-auc:0.85185\ttest-auc:0.85461\n",
      "[18]\ttrain-auc:0.85243\ttest-auc:0.85527\n",
      "[19]\ttrain-auc:0.85676\ttest-auc:0.86080\n"
     ]
    },
    {
     "name": "stderr",
     "output_type": "stream",
     "text": [
      "C:\\ProgramData\\Anaconda3\\lib\\site-packages\\xgboost\\data.py:200: FutureWarning: pandas.Int64Index is deprecated and will be removed from pandas in a future version. Use pandas.Index with the appropriate dtype instead.\n",
      "  from pandas import MultiIndex, Int64Index\n"
     ]
    }
   ],
   "source": [
    "x_train, x_test, y_train, y_test = train_test_split(X, Y, random_state=0, test_size=0.2)\n",
    "\n",
    "params = {\n",
    "    'eta': 0.1,\n",
    "    'max_depth': 2,\n",
    "    'min_child_weight': 3,\n",
    "    'gamma': 0,\n",
    "    'subsample': 0.8,\n",
    "    'objective': 'binary:logistic',\n",
    "    'eval_metric': 'auc'\n",
    "}\n",
    "\n",
    "dtrain = xgb.DMatrix(x_train, y_train)\n",
    "dtest = xgb.DMatrix(x_test, y_test)\n",
    "xgbclassifer = xgb.train(params=params,\n",
    "                         dtrain=dtrain,\n",
    "                         num_boost_round=tree_nums,\n",
    "                         early_stopping_rounds=5,\n",
    "                         evals=[(dtrain, 'train'), (dtest, 'test')])\n",
    "x_test = x_test.reset_index(drop=True)\n",
    "x_test.loc[:,'pred'] = xgbclassifer.predict(dtest)"
   ]
  },
  {
   "cell_type": "code",
   "execution_count": null,
   "metadata": {},
   "outputs": [],
   "source": []
  },
  {
   "cell_type": "code",
   "execution_count": 6,
   "metadata": {},
   "outputs": [],
   "source": [
    "#把XGB模型输出为json格式\n",
    "xgb_json = xgbclassifer.get_dump(dump_format='json')\n",
    "with codecs.open(r'./result/xgb_binary.json', 'w', encoding=\"utf-8\") as f:\n",
    "    for single_json in xgb_json:\n",
    "        single_json = single_json.replace('\\n', ' ').replace('\\r', ' ')\n",
    "        f.write(single_json + '\\n')"
   ]
  },
  {
   "cell_type": "code",
   "execution_count": 7,
   "metadata": {},
   "outputs": [],
   "source": [
    "#将json模型文件解析为sql文件\n",
    "with open(r'./result/xgb_binary.json', 'r') as f_read:\n",
    "    xgb_json = f_read.readlines()\n",
    "tree_sqls = parse_xgb_trees(xgb_json)\n",
    "final_sqls = ''\n",
    "for item_sql in tree_sqls:\n",
    "    final_sqls = final_sqls + item_sql"
   ]
  },
  {
   "cell_type": "code",
   "execution_count": 8,
   "metadata": {},
   "outputs": [],
   "source": [
    "#生成SQL逻辑\n",
    "with codecs.open(r'./result/xgb_binary_model.sql', 'w', encoding=\"utf-8\") as f:\n",
    "    for item_sql in tree_sqls:\n",
    "        f.write(item_sql + '\\n') "
   ]
  },
  {
   "cell_type": "code",
   "execution_count": 9,
   "metadata": {},
   "outputs": [],
   "source": [
    "#生成树的列表\n",
    "with codecs.open(r'./result/scores.sql', 'w', encoding=\"utf-8\") as f:\n",
    "    for i in range(tree_nums):\n",
    "        f.write('tree_{}_score+'.format(i)+ '\\n')"
   ]
  },
  {
   "cell_type": "code",
   "execution_count": 11,
   "metadata": {},
   "outputs": [],
   "source": [
    "import numpy as np"
   ]
  },
  {
   "cell_type": "markdown",
   "metadata": {},
   "source": [
    "可以选取几个客户的预测结果和sql生成的结果做对比"
   ]
  },
  {
   "cell_type": "code",
   "execution_count": 22,
   "metadata": {},
   "outputs": [
    {
     "data": {
      "text/plain": [
       "0    0.085718\n",
       "1    0.255263\n",
       "2    0.091822\n",
       "3    0.553855\n",
       "4    0.133879\n",
       "Name: pred, dtype: float32"
      ]
     },
     "execution_count": 22,
     "metadata": {},
     "output_type": "execute_result"
    }
   ],
   "source": [
    "x_test.loc[:,'pred'].head()"
   ]
  }
 ],
 "metadata": {
  "interpreter": {
   "hash": "0b44c525ca95e5dbf893da2282eb3ec3f420cb9fa59d94f9af90ca833dc1a37c"
  },
  "kernelspec": {
   "display_name": "Python 3 (ipykernel)",
   "language": "python",
   "name": "python3"
  },
  "language_info": {
   "codemirror_mode": {
    "name": "ipython",
    "version": 3
   },
   "file_extension": ".py",
   "mimetype": "text/x-python",
   "name": "python",
   "nbconvert_exporter": "python",
   "pygments_lexer": "ipython3",
   "version": "3.8.5"
  },
  "toc": {
   "base_numbering": 1,
   "nav_menu": {},
   "number_sections": true,
   "sideBar": true,
   "skip_h1_title": false,
   "title_cell": "Table of Contents",
   "title_sidebar": "Contents",
   "toc_cell": false,
   "toc_position": {},
   "toc_section_display": true,
   "toc_window_display": false
  }
 },
 "nbformat": 4,
 "nbformat_minor": 2
}
