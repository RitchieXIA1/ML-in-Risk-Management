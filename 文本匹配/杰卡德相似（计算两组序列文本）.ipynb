{
 "cells": [
  {
   "cell_type": "code",
   "execution_count": 1,
   "id": "58fabd49",
   "metadata": {
    "ExecuteTime": {
     "end_time": "2022-02-28T01:30:48.478407Z",
     "start_time": "2022-02-28T01:30:48.462404Z"
    }
   },
   "outputs": [],
   "source": [
    "S1 = '模具硅胶 翻模硅胶 指纹签到手指摸 指纹假膜 模具硅胶 液态硅胶 半透明硅胶 指模自制 指纹识别硅胶 打卡指纹透明膜 指纹膜 指纹 胶膜 手机指纹打卡假膜 指纹打卡机指纹胶膜 指纹识别贴打卡 diy硅胶模具材料 指纹打卡 指纹打卡道具 指纹打卡假膜人脸 指纹识别膜 硅胶 硅胶模具diy 模型制作材料 指模 液体硅胶 考勤指纹胶 指纹打卡假膜科密 指纹打卡假膜 硅橡胶 指纹胶膜制作 打卡 翻模硅胶材料 食品级硅胶 打卡考勤指纹 指模具考勤 翻模硅胶 diy 指纹打卡膜 指纹打卡假膜 打卡机指纹识别膜 指纹制作 diy液体材料 指纹制作工具 指模具 手指打卡 手办工具 签到指纹胶膜制作 模具硅胶翻模 翻模硅胶 指纹识别胶打卡 硅胶 硅胶打卡 打卡指纹胶膜 指纹识别膜套'\n",
    "S2 = '指纹打卡假膜科密 指纹签到手指摸 指纹识别膜 硅胶 指模具 手指打卡 指纹打卡膜 指纹打卡假膜人脸 打卡考勤指纹 指模具考勤 指纹打卡机指纹胶膜 指纹制作工具 指纹打卡 指纹识别套 硅胶 硅橡胶 指模 diy硅胶模具材料 指纹制作 指纹识别硅胶 指模自制 打卡指纹胶膜 指纹打卡假膜 指纹打卡道具 手机指纹打卡假膜 指纹假膜 指纹膜 指纹打卡假膜 硅橡胶 打卡机指纹识别膜 指纹识别模具 硅胶 指纹识别膜套 硅胶模具diy 打卡指纹透明膜 上班 打卡指纹透明膜 指纹识别胶打卡 硅胶 指纹识别打卡膜假手指 硅胶 考勤指纹胶 硅胶打卡 指纹胶膜制作 打卡 签到指纹胶膜制作 指纹 胶膜 指纹识别贴打卡 abcdedf'\n",
    "\n",
    "from collections import Counter\n",
    "\n",
    "class Similarty():\n",
    "    def __init__(self,S1,S2,topn):\n",
    "        self.S1 = S1\n",
    "        self.S2 = S2\n",
    "        self.topn = topn\n",
    "    ''' 标准杰卡德'''    \n",
    "    def normal_jaccard(self):\n",
    "        return len(set(self.S1)&set(self.S2))/len(set(self.S1) | set(self.S2))\n",
    "    \n",
    "    ''' 加权杰卡德'''      \n",
    "    def weight_jaccard(self):       \n",
    "        if self.S1 is not None and self.S2 is not None:\n",
    "            sim_0 = self.S1.replace(' ','')\n",
    "            sim_1 = self.S2.replace(' ','')\n",
    "            collect0 = Counter(dict(Counter(sim_0).most_common(self.topn)))\n",
    "            collect1 = Counter(dict(Counter(sim_1).most_common(self.topn)))       \n",
    "            jiao = collect0 & collect1\n",
    "            bing = collect0 | collect1       \n",
    "            sim = float(sum(jiao.values()))/float(sum(bing.values()))        \n",
    "            return(sim)              \n",
    "        else:\n",
    "             return 0.0\n",
    "         \n",
    "sim =   Similarty(S1,S2,50)#初始化         \n"
   ]
  },
  {
   "cell_type": "code",
   "execution_count": 2,
   "id": "ee7159f8",
   "metadata": {
    "ExecuteTime": {
     "end_time": "2022-02-28T01:31:04.117072Z",
     "start_time": "2022-02-28T01:31:04.090864Z"
    }
   },
   "outputs": [
    {
     "data": {
      "text/plain": [
       "0.6964285714285714"
      ]
     },
     "execution_count": 2,
     "metadata": {},
     "output_type": "execute_result"
    }
   ],
   "source": [
    "sim.normal_jaccard()"
   ]
  },
  {
   "cell_type": "code",
   "execution_count": 3,
   "id": "45290fd6",
   "metadata": {
    "ExecuteTime": {
     "end_time": "2022-02-28T01:31:11.528987Z",
     "start_time": "2022-02-28T01:31:11.521516Z"
    }
   },
   "outputs": [
    {
     "data": {
      "text/plain": [
       "0.7252396166134185"
      ]
     },
     "execution_count": 3,
     "metadata": {},
     "output_type": "execute_result"
    }
   ],
   "source": [
    "sim.weight_jaccard()"
   ]
  },
  {
   "cell_type": "code",
   "execution_count": null,
   "id": "cc433d05",
   "metadata": {},
   "outputs": [],
   "source": []
  }
 ],
 "metadata": {
  "kernelspec": {
   "display_name": "Python 3",
   "language": "python",
   "name": "python3"
  },
  "language_info": {
   "codemirror_mode": {
    "name": "ipython",
    "version": 3
   },
   "file_extension": ".py",
   "mimetype": "text/x-python",
   "name": "python",
   "nbconvert_exporter": "python",
   "pygments_lexer": "ipython3",
   "version": "3.8.8"
  },
  "varInspector": {
   "cols": {
    "lenName": 16,
    "lenType": 16,
    "lenVar": 40
   },
   "kernels_config": {
    "python": {
     "delete_cmd_postfix": "",
     "delete_cmd_prefix": "del ",
     "library": "var_list.py",
     "varRefreshCmd": "print(var_dic_list())"
    },
    "r": {
     "delete_cmd_postfix": ") ",
     "delete_cmd_prefix": "rm(",
     "library": "var_list.r",
     "varRefreshCmd": "cat(var_dic_list()) "
    }
   },
   "types_to_exclude": [
    "module",
    "function",
    "builtin_function_or_method",
    "instance",
    "_Feature"
   ],
   "window_display": false
  }
 },
 "nbformat": 4,
 "nbformat_minor": 5
}
