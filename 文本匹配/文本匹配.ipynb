{
 "cells": [
  {
   "cell_type": "code",
   "execution_count": 4,
   "id": "842cb611",
   "metadata": {
    "ExecuteTime": {
     "end_time": "2022-02-24T08:53:31.184686Z",
     "start_time": "2022-02-24T08:53:31.176681Z"
    }
   },
   "outputs": [
    {
     "data": {
      "text/plain": [
       "['南京市', '长江大桥']"
      ]
     },
     "execution_count": 4,
     "metadata": {},
     "output_type": "execute_result"
    }
   ],
   "source": [
    "s = '南京市长江大桥'\n",
    "\n",
    "# jieba\n",
    "# https://github.com/fxsjy/jieba\n",
    "import jieba\n",
    "\n",
    "list(jieba.cut(s, cut_all=False))"
   ]
  },
  {
   "cell_type": "code",
   "execution_count": 5,
   "id": "1225f7dc",
   "metadata": {
    "ExecuteTime": {
     "end_time": "2022-02-24T08:53:32.510948Z",
     "start_time": "2022-02-24T08:53:32.495945Z"
    }
   },
   "outputs": [
    {
     "data": {
      "text/plain": [
       "['南京', '南京市', '京市', '市长', '长江', '长江大桥', '大桥']"
      ]
     },
     "execution_count": 5,
     "metadata": {},
     "output_type": "execute_result"
    }
   ],
   "source": [
    "list(jieba.cut(s, cut_all=True))"
   ]
  },
  {
   "cell_type": "code",
   "execution_count": 6,
   "id": "6d823f33",
   "metadata": {
    "ExecuteTime": {
     "end_time": "2022-02-24T08:53:33.138118Z",
     "start_time": "2022-02-24T08:53:33.121117Z"
    }
   },
   "outputs": [
    {
     "data": {
      "text/plain": [
       "['南京', '京市', '南京市', '长江', '大桥', '长江大桥']"
      ]
     },
     "execution_count": 6,
     "metadata": {},
     "output_type": "execute_result"
    }
   ],
   "source": [
    "list(jieba.cut_for_search(s))"
   ]
  },
  {
   "cell_type": "code",
   "execution_count": 7,
   "id": "9264ffe9",
   "metadata": {
    "ExecuteTime": {
     "end_time": "2022-02-24T08:54:23.504640Z",
     "start_time": "2022-02-24T08:54:23.474101Z"
    }
   },
   "outputs": [],
   "source": [
    "import textdistance as td"
   ]
  },
  {
   "cell_type": "code",
   "execution_count": 54,
   "id": "e7c153c4",
   "metadata": {
    "ExecuteTime": {
     "end_time": "2022-02-24T09:07:52.269026Z",
     "start_time": "2022-02-24T09:07:52.251021Z"
    }
   },
   "outputs": [
    {
     "data": {
      "text/plain": [
       "0.5"
      ]
     },
     "execution_count": 54,
     "metadata": {},
     "output_type": "execute_result"
    }
   ],
   "source": [
    "s1 = '中国江苏省连云港市东海县牛山镇果园路16-6'\n",
    "s2 = '江苏省连云港市东海县牛果园路16-6'\n",
    "s3 = '东海县牛山街道果园路16-6'\n",
    "td.jaccard(s1,s3)"
   ]
  },
  {
   "cell_type": "code",
   "execution_count": 50,
   "id": "2d5f3b64",
   "metadata": {
    "ExecuteTime": {
     "end_time": "2022-02-24T09:07:22.403149Z",
     "start_time": "2022-02-24T09:07:22.396147Z"
    }
   },
   "outputs": [
    {
     "data": {
      "text/plain": [
       "0.6875"
      ]
     },
     "execution_count": 50,
     "metadata": {},
     "output_type": "execute_result"
    }
   ],
   "source": [
    "td.sorensen_dice(s2,s3)"
   ]
  },
  {
   "cell_type": "code",
   "execution_count": 52,
   "id": "78c1769d",
   "metadata": {
    "ExecuteTime": {
     "end_time": "2022-02-24T09:07:29.949635Z",
     "start_time": "2022-02-24T09:07:29.937632Z"
    }
   },
   "outputs": [
    {
     "data": {
      "text/plain": [
       "0.5"
      ]
     },
     "execution_count": 52,
     "metadata": {},
     "output_type": "execute_result"
    }
   ],
   "source": [
    "td.tversky(s1,s3)"
   ]
  },
  {
   "cell_type": "code",
   "execution_count": 36,
   "id": "10013d2f",
   "metadata": {
    "ExecuteTime": {
     "end_time": "2022-02-24T09:03:22.175324Z",
     "start_time": "2022-02-24T09:03:22.160995Z"
    }
   },
   "outputs": [
    {
     "data": {
      "text/plain": [
       "4"
      ]
     },
     "execution_count": 36,
     "metadata": {},
     "output_type": "execute_result"
    }
   ],
   "source": [
    "td.levenshtein(s1,s2)"
   ]
  },
  {
   "cell_type": "code",
   "execution_count": 53,
   "id": "5c08c4e3",
   "metadata": {
    "ExecuteTime": {
     "end_time": "2022-02-24T09:07:40.699487Z",
     "start_time": "2022-02-24T09:07:40.686482Z"
    }
   },
   "outputs": [
    {
     "data": {
      "text/plain": [
       "0.798941798941799"
      ]
     },
     "execution_count": 53,
     "metadata": {},
     "output_type": "execute_result"
    }
   ],
   "source": [
    "td.jaro(s2,s3)"
   ]
  },
  {
   "cell_type": "code",
   "execution_count": 39,
   "id": "82f43a7b",
   "metadata": {
    "ExecuteTime": {
     "end_time": "2022-02-24T09:03:34.616287Z",
     "start_time": "2022-02-24T09:03:34.608281Z"
    }
   },
   "outputs": [
    {
     "data": {
      "text/plain": [
       "22"
      ]
     },
     "execution_count": 39,
     "metadata": {},
     "output_type": "execute_result"
    }
   ],
   "source": [
    "td.hamming(s1, s2)"
   ]
  },
  {
   "cell_type": "code",
   "execution_count": 41,
   "id": "019e989b",
   "metadata": {
    "ExecuteTime": {
     "end_time": "2022-02-24T09:06:00.114938Z",
     "start_time": "2022-02-24T09:06:00.107936Z"
    }
   },
   "outputs": [
    {
     "data": {
      "text/plain": [
       "0.2558139534883721"
      ]
     },
     "execution_count": 41,
     "metadata": {},
     "output_type": "execute_result"
    }
   ],
   "source": [
    "s1 = '广西壮族自治区柳州市柳江县拉堡镇北大街77号'\n",
    "s2 = '广西壮族自治区柳州市鱼峰区蝴蝶山路11号白云小区五村11栋3单元'\n",
    "td.jaccard(s1, s2)"
   ]
  },
  {
   "cell_type": "code",
   "execution_count": 42,
   "id": "2fe8fbdf",
   "metadata": {
    "ExecuteTime": {
     "end_time": "2022-02-24T09:06:11.429412Z",
     "start_time": "2022-02-24T09:06:11.419405Z"
    }
   },
   "outputs": [
    {
     "data": {
      "text/plain": [
       "0.4074074074074074"
      ]
     },
     "execution_count": 42,
     "metadata": {},
     "output_type": "execute_result"
    }
   ],
   "source": [
    "td.sorensen_dice(s1, s2)"
   ]
  },
  {
   "cell_type": "code",
   "execution_count": 43,
   "id": "9839fabc",
   "metadata": {
    "ExecuteTime": {
     "end_time": "2022-02-24T09:06:22.922851Z",
     "start_time": "2022-02-24T09:06:22.911850Z"
    }
   },
   "outputs": [
    {
     "data": {
      "text/plain": [
       "0.2558139534883721"
      ]
     },
     "execution_count": 43,
     "metadata": {},
     "output_type": "execute_result"
    }
   ],
   "source": [
    "td.tversky(s1,s2)"
   ]
  },
  {
   "cell_type": "code",
   "execution_count": 44,
   "id": "01ccc861",
   "metadata": {
    "ExecuteTime": {
     "end_time": "2022-02-24T09:06:28.742532Z",
     "start_time": "2022-02-24T09:06:28.732412Z"
    }
   },
   "outputs": [
    {
     "data": {
      "text/plain": [
       "22"
      ]
     },
     "execution_count": 44,
     "metadata": {},
     "output_type": "execute_result"
    }
   ],
   "source": [
    "td.levenshtein(s1,s2)"
   ]
  },
  {
   "cell_type": "code",
   "execution_count": 45,
   "id": "08aef0ab",
   "metadata": {
    "ExecuteTime": {
     "end_time": "2022-02-24T09:06:37.422568Z",
     "start_time": "2022-02-24T09:06:37.409559Z"
    }
   },
   "outputs": [
    {
     "data": {
      "text/plain": [
       "0.6145833333333334"
      ]
     },
     "execution_count": 45,
     "metadata": {},
     "output_type": "execute_result"
    }
   ],
   "source": [
    "td.jaro(s1,s2)"
   ]
  },
  {
   "cell_type": "code",
   "execution_count": 46,
   "id": "fd9e79c5",
   "metadata": {
    "ExecuteTime": {
     "end_time": "2022-02-24T09:06:45.245462Z",
     "start_time": "2022-02-24T09:06:45.227459Z"
    }
   },
   "outputs": [
    {
     "data": {
      "text/plain": [
       "22"
      ]
     },
     "execution_count": 46,
     "metadata": {},
     "output_type": "execute_result"
    }
   ],
   "source": [
    "td.hamming(s1, s2)"
   ]
  },
  {
   "cell_type": "code",
   "execution_count": 86,
   "id": "6734722a",
   "metadata": {
    "ExecuteTime": {
     "end_time": "2022-02-24T09:17:09.912574Z",
     "start_time": "2022-02-24T09:17:09.902568Z"
    }
   },
   "outputs": [
    {
     "data": {
      "text/plain": [
       "0.5714285714285714"
      ]
     },
     "execution_count": 86,
     "metadata": {},
     "output_type": "execute_result"
    }
   ],
   "source": [
    "s1 = '北京市丰台去西四环南里62号'\n",
    "s2 = '北京市丰台区西四环南路62号1层107'\n",
    "td.jaccard(s1, s2)"
   ]
  },
  {
   "cell_type": "code",
   "execution_count": 87,
   "id": "a723b4af",
   "metadata": {
    "ExecuteTime": {
     "end_time": "2022-02-24T09:17:10.879137Z",
     "start_time": "2022-02-24T09:17:10.875136Z"
    }
   },
   "outputs": [
    {
     "data": {
      "text/plain": [
       "0.7272727272727273"
      ]
     },
     "execution_count": 87,
     "metadata": {},
     "output_type": "execute_result"
    }
   ],
   "source": [
    "td.sorensen_dice(s1, s2)"
   ]
  },
  {
   "cell_type": "code",
   "execution_count": 88,
   "id": "7371b980",
   "metadata": {
    "ExecuteTime": {
     "end_time": "2022-02-24T09:17:11.712673Z",
     "start_time": "2022-02-24T09:17:11.697720Z"
    }
   },
   "outputs": [
    {
     "data": {
      "text/plain": [
       "0.5714285714285714"
      ]
     },
     "execution_count": 88,
     "metadata": {},
     "output_type": "execute_result"
    }
   ],
   "source": [
    "td.tversky(s1,s2)"
   ]
  },
  {
   "cell_type": "code",
   "execution_count": 89,
   "id": "1d6b4b5b",
   "metadata": {
    "ExecuteTime": {
     "end_time": "2022-02-24T09:17:14.107434Z",
     "start_time": "2022-02-24T09:17:14.098321Z"
    }
   },
   "outputs": [
    {
     "data": {
      "text/plain": [
       "7"
      ]
     },
     "execution_count": 89,
     "metadata": {},
     "output_type": "execute_result"
    }
   ],
   "source": [
    "td.levenshtein(s1,s2)"
   ]
  },
  {
   "cell_type": "code",
   "execution_count": 90,
   "id": "6c4c67b0",
   "metadata": {
    "ExecuteTime": {
     "end_time": "2022-02-24T09:17:14.495071Z",
     "start_time": "2022-02-24T09:17:14.478596Z"
    }
   },
   "outputs": [
    {
     "data": {
      "text/plain": [
       "0.8295739348370926"
      ]
     },
     "execution_count": 90,
     "metadata": {},
     "output_type": "execute_result"
    }
   ],
   "source": [
    "td.jaro(s1,s2)"
   ]
  },
  {
   "cell_type": "code",
   "execution_count": 91,
   "id": "4164f4ef",
   "metadata": {
    "ExecuteTime": {
     "end_time": "2022-02-24T09:17:15.124691Z",
     "start_time": "2022-02-24T09:17:15.106687Z"
    }
   },
   "outputs": [
    {
     "data": {
      "text/plain": [
       "7"
      ]
     },
     "execution_count": 91,
     "metadata": {},
     "output_type": "execute_result"
    }
   ],
   "source": [
    "td.hamming(s1, s2)"
   ]
  }
 ],
 "metadata": {
  "kernelspec": {
   "display_name": "Python 3",
   "language": "python",
   "name": "python3"
  },
  "language_info": {
   "codemirror_mode": {
    "name": "ipython",
    "version": 3
   },
   "file_extension": ".py",
   "mimetype": "text/x-python",
   "name": "python",
   "nbconvert_exporter": "python",
   "pygments_lexer": "ipython3",
   "version": "3.8.8"
  },
  "varInspector": {
   "cols": {
    "lenName": 16,
    "lenType": 16,
    "lenVar": 40
   },
   "kernels_config": {
    "python": {
     "delete_cmd_postfix": "",
     "delete_cmd_prefix": "del ",
     "library": "var_list.py",
     "varRefreshCmd": "print(var_dic_list())"
    },
    "r": {
     "delete_cmd_postfix": ") ",
     "delete_cmd_prefix": "rm(",
     "library": "var_list.r",
     "varRefreshCmd": "cat(var_dic_list()) "
    }
   },
   "types_to_exclude": [
    "module",
    "function",
    "builtin_function_or_method",
    "instance",
    "_Feature"
   ],
   "window_display": false
  }
 },
 "nbformat": 4,
 "nbformat_minor": 5
}
