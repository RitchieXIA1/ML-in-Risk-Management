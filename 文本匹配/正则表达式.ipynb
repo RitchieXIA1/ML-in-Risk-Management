{
 "cells": [
  {
   "cell_type": "code",
   "execution_count": 3,
   "id": "cc1c625a",
   "metadata": {
    "ExecuteTime": {
     "end_time": "2022-03-07T02:43:03.122737Z",
     "start_time": "2022-03-07T02:43:03.112225Z"
    }
   },
   "outputs": [
    {
     "data": {
      "text/plain": [
       "['小', '伍', '哥', '真', '帅']"
      ]
     },
     "execution_count": 3,
     "metadata": {},
     "output_type": "execute_result"
    }
   ],
   "source": [
    "\n",
    "import re\n",
    "#除了换行符\\n，其他都匹配出来了\n",
    "re.findall(r'.','小伍哥\\n真帅')"
   ]
  },
  {
   "cell_type": "code",
   "execution_count": 2,
   "id": "93590611",
   "metadata": {
    "ExecuteTime": {
     "end_time": "2022-03-07T02:42:58.687927Z",
     "start_time": "2022-03-07T02:42:58.671447Z"
    }
   },
   "outputs": [
    {
     "data": {
      "text/plain": [
       "['小', '伍', '哥', '\\n', '真', '帅']"
      ]
     },
     "execution_count": 2,
     "metadata": {},
     "output_type": "execute_result"
    }
   ],
   "source": [
    "#在默认模式，匹配除了换行的任意字符。如果指定了标签re.DOTALL，它将匹配包括换行符的任意字符。\n",
    "re.findall(r'.','小伍哥\\n真帅',re.DOTALL)"
   ]
  },
  {
   "cell_type": "code",
   "execution_count": 8,
   "id": "70178521",
   "metadata": {
    "ExecuteTime": {
     "end_time": "2022-03-07T02:44:30.771944Z",
     "start_time": "2022-03-07T02:44:30.753935Z"
    }
   },
   "outputs": [
    {
     "data": {
      "text/plain": [
       "['abd9匹配c']"
      ]
     },
     "execution_count": 8,
     "metadata": {},
     "output_type": "execute_result"
    }
   ],
   "source": [
    "#匹配'a.....c'，五个点表示中间五个字符\n",
    "re.findall(r'a.....c','abd9匹配cdd')"
   ]
  },
  {
   "cell_type": "markdown",
   "id": "5be448e5",
   "metadata": {},
   "source": [
    "[]\n",
    "\n",
    "用于表示一个字符集合。在一个集合中：\n",
    "\n",
    "1）字符可以单独列出，比如[amk]匹配'a'，'m'，或者'k'。"
   ]
  },
  {
   "cell_type": "code",
   "execution_count": 9,
   "id": "37509841",
   "metadata": {
    "ExecuteTime": {
     "end_time": "2022-03-07T02:45:16.187961Z",
     "start_time": "2022-03-07T02:45:16.180957Z"
    }
   },
   "outputs": [
    {
     "data": {
      "text/plain": [
       "['小', '帅']"
      ]
     },
     "execution_count": 9,
     "metadata": {},
     "output_type": "execute_result"
    }
   ],
   "source": [
    "re.findall(r'[小帅]','小伍哥真帅')\n",
    "['小', '帅']"
   ]
  },
  {
   "cell_type": "markdown",
   "id": "4cd0fd7d",
   "metadata": {},
   "source": [
    "2）可以表示字符范围，通过用'-'将两个字符连起来。比如[a-z]将匹配任何小写ASCII字符，[0-5][0-9]将匹配从00到59的两位数字，[0-9A-Fa-f]将匹配任何十六进制数位。如果-进行了转义（比如[a\\-z]）或者它的位置在首位或者末尾（如[-a]或[a-]），它就只表示普通字符'-'。\n",
    "\n",
    "#匹配从00到59的两位数字"
   ]
  },
  {
   "cell_type": "code",
   "execution_count": 10,
   "id": "45f2aadd",
   "metadata": {
    "ExecuteTime": {
     "end_time": "2022-03-07T02:46:20.027157Z",
     "start_time": "2022-03-07T02:46:20.018155Z"
    }
   },
   "outputs": [
    {
     "data": {
      "text/plain": [
       "['01', '22', '34', '45']"
      ]
     },
     "execution_count": 10,
     "metadata": {},
     "output_type": "execute_result"
    }
   ],
   "source": [
    "re.findall(r'[0-5][0-9]','012234456789')#第一位和第二位分别用一个[]\n",
    "['01', '22', '34', '45']"
   ]
  },
  {
   "cell_type": "code",
   "execution_count": 13,
   "id": "7c19ac7a",
   "metadata": {
    "ExecuteTime": {
     "end_time": "2022-03-07T02:49:01.804176Z",
     "start_time": "2022-03-07T02:49:01.791540Z"
    }
   },
   "outputs": [
    {
     "data": {
      "text/plain": [
       "['1', '2', '2', '3']"
      ]
     },
     "execution_count": 13,
     "metadata": {},
     "output_type": "execute_result"
    }
   ],
   "source": [
    "re.findall(r'[1-3]','012234456789')#查找所有1-3之间的自然数\n",
    "['1', '2', '2', '3']"
   ]
  },
  {
   "cell_type": "markdown",
   "id": "313c3534",
   "metadata": {},
   "source": [
    "3）特殊字符在集合中，失去它的特殊含义。如[(+*)]只会匹配这几个文法字符'(', '+', '*', 或')'。\n",
    "\n",
    "4）字符类如\\w或者\\S(如下定义) 在集合内可以接受，它们可以匹配的字符由ASCII或LOCALE模式决定。\n",
    "\n",
    "5）不在集合范围内的字符可以通过取反来进行匹配。如果集合首字符是'^'，所有不在集合内的字符将会被匹配，比如[^5] 将匹配所有字符，除了'5'，[^^]将匹配所有字符，除了'^'.^如果不在集合首位，就没有特殊含义。\n"
   ]
  },
  {
   "cell_type": "code",
   "execution_count": 12,
   "id": "6d7aedf0",
   "metadata": {
    "ExecuteTime": {
     "end_time": "2022-03-07T02:47:28.550271Z",
     "start_time": "2022-03-07T02:47:28.541947Z"
    }
   },
   "outputs": [
    {
     "data": {
      "text/plain": [
       "['小', '伍', '哥', '真', '帅']"
      ]
     },
     "execution_count": 12,
     "metadata": {},
     "output_type": "execute_result"
    }
   ],
   "source": [
    "#除了TM都能匹配\n",
    "re.findall(r'[^TM]','小伍哥真TM帅')\n",
    "['小', '伍', '哥', '真', '帅']"
   ]
  },
  {
   "cell_type": "markdown",
   "id": "1e68d431",
   "metadata": {},
   "source": [
    "|\n",
    "\n",
    "A|B，A和B可以是任意正则表达式，创建一个正则表达式，匹配A或者B.，任意个正则表达式可以用'|'连接。它也可以在组合（见下列）内使用。扫描目标字符串时，'|'分隔开的正则样式从左到右进行匹配。当一个样式完全匹配时，这个分支就被接受。意思就是，一旦A匹配成功，B就不再进行匹配，即便它能产生一个更好的匹配。或者说'|'操作符绝不贪婪。如果要匹配'|'字符，使用\\|，或者把它包含在字符集里，比如[|]。"
   ]
  },
  {
   "cell_type": "markdown",
   "id": "9a63b3c8",
   "metadata": {},
   "source": [
    "2、数量元字符\n",
    "\n",
    "*\n",
    "\n",
    "对它前面的正则式匹配0到任意次重复，ab*会匹配 'a'，'ab'，'abbb...'，注意只重复b，尽量多的匹配字符串。"
   ]
  },
  {
   "cell_type": "code",
   "execution_count": 15,
   "id": "d7348677",
   "metadata": {
    "ExecuteTime": {
     "end_time": "2022-03-07T02:50:05.178154Z",
     "start_time": "2022-03-07T02:50:05.165257Z"
    }
   },
   "outputs": [
    {
     "data": {
      "text/plain": [
       "['ab', 'abbbb', 'a', 'abb', 'a', 'a']"
      ]
     },
     "execution_count": 15,
     "metadata": {},
     "output_type": "execute_result"
    }
   ],
   "source": [
    "re.findall(r'ab*','ababbbbaabbcaacb')"
   ]
  },
  {
   "cell_type": "code",
   "execution_count": 16,
   "id": "e74aba24",
   "metadata": {
    "ExecuteTime": {
     "end_time": "2022-03-07T02:50:14.981276Z",
     "start_time": "2022-03-07T02:50:14.976700Z"
    }
   },
   "outputs": [
    {
     "data": {
      "text/plain": [
       "['d9我爱学习c']"
      ]
     },
     "execution_count": 16,
     "metadata": {},
     "output_type": "execute_result"
    }
   ],
   "source": [
    "#重复.0到任意次，.有代表任意字符，所有d.*c能匹配dc之间包含任意字符\n",
    "re.findall(r'd.*c','abd9我爱学习cdd')"
   ]
  },
  {
   "cell_type": "markdown",
   "id": "cd5863d4",
   "metadata": {},
   "source": [
    "+\n",
    "\n",
    "对它前面的正则式匹配1到任意次重复。ab+会匹配'a'后面跟随1个以上到任意个'b'，它不会匹配'a'。"
   ]
  },
  {
   "cell_type": "code",
   "execution_count": 17,
   "id": "a097b828",
   "metadata": {
    "ExecuteTime": {
     "end_time": "2022-03-07T02:51:43.504558Z",
     "start_time": "2022-03-07T02:51:43.487758Z"
    }
   },
   "outputs": [
    {
     "data": {
      "text/plain": [
       "['ab', 'abbbb', 'abb']"
      ]
     },
     "execution_count": 17,
     "metadata": {},
     "output_type": "execute_result"
    }
   ],
   "source": [
    "re.findall(r'ab+','ababbbbaabbcaacb')"
   ]
  },
  {
   "cell_type": "markdown",
   "id": "2a2f4180",
   "metadata": {},
   "source": [
    "?\n",
    "\n",
    "对它前面的正则式匹配0到1次重复。ab?会匹配'a'或者'ab'。"
   ]
  },
  {
   "cell_type": "code",
   "execution_count": 18,
   "id": "d4334805",
   "metadata": {
    "ExecuteTime": {
     "end_time": "2022-03-07T02:54:27.977024Z",
     "start_time": "2022-03-07T02:54:27.969020Z"
    }
   },
   "outputs": [
    {
     "data": {
      "text/plain": [
       "['ab', 'ab', 'a', 'ab', 'a', 'a']"
      ]
     },
     "execution_count": 18,
     "metadata": {},
     "output_type": "execute_result"
    }
   ],
   "source": [
    "re.findall(r'ab?','ababbbbaabbcaacb')"
   ]
  },
  {
   "cell_type": "markdown",
   "id": "5cdf9a3a",
   "metadata": {},
   "source": [
    "*?, +?, ??\n",
    "\n",
    "'*','+'，和'?'的懒惰模式，'*','+'，'?'修饰符都是贪婪的，它们在字符串进行尽可能多的匹配。\n",
    "有时候并不需要这种行为。在修饰符之后添加'?'将使样式以非贪婪方式或者dfn最小方式进行匹配，尽量少的字符将会被匹配。"
   ]
  },
  {
   "cell_type": "code",
   "execution_count": 19,
   "id": "432b7467",
   "metadata": {
    "ExecuteTime": {
     "end_time": "2022-03-07T02:55:31.961268Z",
     "start_time": "2022-03-07T02:55:31.954537Z"
    }
   },
   "outputs": [
    {
     "data": {
      "text/plain": [
       "['a', 'a', 'a', 'a', 'a', 'a']"
      ]
     },
     "execution_count": 19,
     "metadata": {},
     "output_type": "execute_result"
    }
   ],
   "source": [
    "#只匹配了a\n",
    "re.findall(r'ab*?','ababbbbaabbcaacb')"
   ]
  },
  {
   "cell_type": "markdown",
   "id": "a62735d4",
   "metadata": {},
   "source": [
    "# 案例"
   ]
  },
  {
   "cell_type": "code",
   "execution_count": 1,
   "id": "ae92bcb2",
   "metadata": {
    "ExecuteTime": {
     "end_time": "2022-03-07T03:16:43.520214Z",
     "start_time": "2022-03-07T03:16:43.291566Z"
    }
   },
   "outputs": [],
   "source": [
    "import pandas as pd"
   ]
  },
  {
   "cell_type": "markdown",
   "id": "02441ea1",
   "metadata": {},
   "source": [
    "提取公司名"
   ]
  },
  {
   "cell_type": "code",
   "execution_count": 85,
   "id": "d98b8dce",
   "metadata": {
    "ExecuteTime": {
     "end_time": "2022-03-07T03:53:01.705458Z",
     "start_time": "2022-03-07T03:53:01.687335Z"
    }
   },
   "outputs": [
    {
     "data": {
      "text/html": [
       "<div>\n",
       "<style scoped>\n",
       "    .dataframe tbody tr th:only-of-type {\n",
       "        vertical-align: middle;\n",
       "    }\n",
       "\n",
       "    .dataframe tbody tr th {\n",
       "        vertical-align: top;\n",
       "    }\n",
       "\n",
       "    .dataframe thead th {\n",
       "        text-align: right;\n",
       "    }\n",
       "</style>\n",
       "<table border=\"1\" class=\"dataframe\">\n",
       "  <thead>\n",
       "    <tr style=\"text-align: right;\">\n",
       "      <th></th>\n",
       "      <th>ID</th>\n",
       "      <th>未清洗公司名</th>\n",
       "    </tr>\n",
       "  </thead>\n",
       "  <tbody>\n",
       "    <tr>\n",
       "      <th>0</th>\n",
       "      <td>111</td>\n",
       "      <td>上海昌腾机电设备有限公司（销售部）</td>\n",
       "    </tr>\n",
       "    <tr>\n",
       "      <th>1</th>\n",
       "      <td>112</td>\n",
       "      <td>上海明和超音波股份有限公司(上海嘉定办事处)</td>\n",
       "    </tr>\n",
       "    <tr>\n",
       "      <th>2</th>\n",
       "      <td>113</td>\n",
       "      <td>上海明国(集团)塑胶制品有限公司</td>\n",
       "    </tr>\n",
       "  </tbody>\n",
       "</table>\n",
       "</div>"
      ],
      "text/plain": [
       "    ID                  未清洗公司名\n",
       "0  111       上海昌腾机电设备有限公司（销售部）\n",
       "1  112  上海明和超音波股份有限公司(上海嘉定办事处)\n",
       "2  113        上海明国(集团)塑胶制品有限公司"
      ]
     },
     "execution_count": 85,
     "metadata": {},
     "output_type": "execute_result"
    }
   ],
   "source": [
    "se = pd.DataFrame([[111,'上海昌腾机电设备有限公司（销售部）'],[\n",
    "112,'上海明和超音波股份有限公司(上海嘉定办事处)'],[113,'上海明国(集团)塑胶制品有限公司']],columns=['ID','未清洗公司名'])\n",
    "se"
   ]
  },
  {
   "cell_type": "markdown",
   "id": "75e44bbf",
   "metadata": {},
   "source": [
    "如果要匹配(这样特殊字符要用/(提前转义，[\\u4e00-\\u9fa5]代表任意汉字，正则表达式里可以用+"
   ]
  },
  {
   "cell_type": "code",
   "execution_count": 84,
   "id": "6bdab470",
   "metadata": {
    "ExecuteTime": {
     "end_time": "2022-03-07T03:52:47.351196Z",
     "start_time": "2022-03-07T03:52:47.335189Z"
    }
   },
   "outputs": [
    {
     "data": {
      "text/html": [
       "<div>\n",
       "<style scoped>\n",
       "    .dataframe tbody tr th:only-of-type {\n",
       "        vertical-align: middle;\n",
       "    }\n",
       "\n",
       "    .dataframe tbody tr th {\n",
       "        vertical-align: top;\n",
       "    }\n",
       "\n",
       "    .dataframe thead th {\n",
       "        text-align: right;\n",
       "    }\n",
       "</style>\n",
       "<table border=\"1\" class=\"dataframe\">\n",
       "  <thead>\n",
       "    <tr style=\"text-align: right;\">\n",
       "      <th></th>\n",
       "      <th>公司名</th>\n",
       "    </tr>\n",
       "  </thead>\n",
       "  <tbody>\n",
       "    <tr>\n",
       "      <th>0</th>\n",
       "      <td>上海昌腾机电设备有限公司</td>\n",
       "    </tr>\n",
       "    <tr>\n",
       "      <th>1</th>\n",
       "      <td>上海明和超音波股份有限公司</td>\n",
       "    </tr>\n",
       "    <tr>\n",
       "      <th>2</th>\n",
       "      <td>上海明国(集团)塑胶制品有限公司</td>\n",
       "    </tr>\n",
       "  </tbody>\n",
       "</table>\n",
       "</div>"
      ],
      "text/plain": [
       "                公司名\n",
       "0      上海昌腾机电设备有限公司\n",
       "1     上海明和超音波股份有限公司\n",
       "2  上海明国(集团)塑胶制品有限公司"
      ]
     },
     "execution_count": 84,
     "metadata": {},
     "output_type": "execute_result"
    }
   ],
   "source": [
    "se['name'].str.extract('(?P<公司名>[\\(\\)（）\\u4e00-\\u9fa5]+有限公司)')"
   ]
  },
  {
   "cell_type": "markdown",
   "id": "7f178887",
   "metadata": {},
   "source": [
    "提取地址"
   ]
  },
  {
   "cell_type": "code",
   "execution_count": 75,
   "id": "452eb213",
   "metadata": {
    "ExecuteTime": {
     "end_time": "2022-03-07T03:47:11.050154Z",
     "start_time": "2022-03-07T03:47:11.030594Z"
    }
   },
   "outputs": [
    {
     "data": {
      "text/html": [
       "<div>\n",
       "<style scoped>\n",
       "    .dataframe tbody tr th:only-of-type {\n",
       "        vertical-align: middle;\n",
       "    }\n",
       "\n",
       "    .dataframe tbody tr th {\n",
       "        vertical-align: top;\n",
       "    }\n",
       "\n",
       "    .dataframe thead th {\n",
       "        text-align: right;\n",
       "    }\n",
       "</style>\n",
       "<table border=\"1\" class=\"dataframe\">\n",
       "  <thead>\n",
       "    <tr style=\"text-align: right;\">\n",
       "      <th></th>\n",
       "      <th>ID</th>\n",
       "      <th>address</th>\n",
       "    </tr>\n",
       "  </thead>\n",
       "  <tbody>\n",
       "    <tr>\n",
       "      <th>0</th>\n",
       "      <td>111</td>\n",
       "      <td>江苏省南京市雨花台区桃花路511号</td>\n",
       "    </tr>\n",
       "    <tr>\n",
       "      <th>1</th>\n",
       "      <td>112</td>\n",
       "      <td>上海市浦东新区梨花路319号</td>\n",
       "    </tr>\n",
       "    <tr>\n",
       "      <th>2</th>\n",
       "      <td>113</td>\n",
       "      <td>河南省郑州市樱花路211号</td>\n",
       "    </tr>\n",
       "  </tbody>\n",
       "</table>\n",
       "</div>"
      ],
      "text/plain": [
       "    ID            address\n",
       "0  111  江苏省南京市雨花台区桃花路511号\n",
       "1  112     上海市浦东新区梨花路319号\n",
       "2  113      河南省郑州市樱花路211号"
      ]
     },
     "execution_count": 75,
     "metadata": {},
     "output_type": "execute_result"
    }
   ],
   "source": [
    "#三种不同的情况\n",
    "ad = pd.DataFrame([[111,'江苏省南京市雨花台区桃花路511号'],[\n",
    "112,'上海市浦东新区梨花路319号'],[113,'河南省郑州市樱花路211号']],columns=['ID','address'])\n",
    "ad"
   ]
  },
  {
   "cell_type": "code",
   "execution_count": 74,
   "id": "cf50b01e",
   "metadata": {
    "ExecuteTime": {
     "end_time": "2022-03-07T03:46:37.764743Z",
     "start_time": "2022-03-07T03:46:37.749321Z"
    }
   },
   "outputs": [
    {
     "data": {
      "text/html": [
       "<div>\n",
       "<style scoped>\n",
       "    .dataframe tbody tr th:only-of-type {\n",
       "        vertical-align: middle;\n",
       "    }\n",
       "\n",
       "    .dataframe tbody tr th {\n",
       "        vertical-align: top;\n",
       "    }\n",
       "\n",
       "    .dataframe thead th {\n",
       "        text-align: right;\n",
       "    }\n",
       "</style>\n",
       "<table border=\"1\" class=\"dataframe\">\n",
       "  <thead>\n",
       "    <tr style=\"text-align: right;\">\n",
       "      <th></th>\n",
       "      <th>地址精确到路</th>\n",
       "    </tr>\n",
       "  </thead>\n",
       "  <tbody>\n",
       "    <tr>\n",
       "      <th>0</th>\n",
       "      <td>江苏省南京市雨花台区桃花路</td>\n",
       "    </tr>\n",
       "    <tr>\n",
       "      <th>1</th>\n",
       "      <td>上海市浦东新区梨花路</td>\n",
       "    </tr>\n",
       "    <tr>\n",
       "      <th>2</th>\n",
       "      <td>河南省郑州市樱花路</td>\n",
       "    </tr>\n",
       "  </tbody>\n",
       "</table>\n",
       "</div>"
      ],
      "text/plain": [
       "          地址精确到路\n",
       "0  江苏省南京市雨花台区桃花路\n",
       "1     上海市浦东新区梨花路\n",
       "2      河南省郑州市樱花路"
      ]
     },
     "execution_count": 74,
     "metadata": {},
     "output_type": "execute_result"
    }
   ],
   "source": [
    "#可以分别写三种不同的情况进行匹配,?P<xx>负责对生成的表起一个名字\n",
    "ad['address'].str.extract('(?P<地址精确到路>[\\u4e00-\\u9fa5]+省+[\\u4e00-\\u9fa5]+市+[\\u4e00-\\u9fa5]+区+[\\u4e00-\\u9fa5]+路|[\\u4e00-\\u9fa5]+市+[\\u4e00-\\u9fa5]+区+[\\u4e00-\\u9fa5]+路|[\\u4e00-\\u9fa5]+省+[\\u4e00-\\u9fa5]+市+[\\u4e00-\\u9fa5]+路)')"
   ]
  },
  {
   "cell_type": "code",
   "execution_count": 104,
   "id": "d45e514b",
   "metadata": {
    "ExecuteTime": {
     "end_time": "2022-03-07T04:05:00.812915Z",
     "start_time": "2022-03-07T04:05:00.795458Z"
    }
   },
   "outputs": [],
   "source": [
    "#也可以按省市区路分开，？加在()后表面对这个子式选择0或1次\n",
    "newad=ad['address'].str.extract('(?P<省>[\\u4e00-\\u9fa5]+省)?(?P<市>[\\u4e00-\\u9fa5]+市)?(?P<区>[\\u4e00-\\u9fa5]+区)?(?P<路>[\\u4e00-\\u9fa5]+路)?',expand=True)\n",
    "#把ID插入回第一列\n",
    "newad.insert(0,'ID',value=ad['ID'])"
   ]
  },
  {
   "cell_type": "code",
   "execution_count": 105,
   "id": "df5697a1",
   "metadata": {
    "ExecuteTime": {
     "end_time": "2022-03-07T04:05:12.412229Z",
     "start_time": "2022-03-07T04:05:12.391167Z"
    }
   },
   "outputs": [
    {
     "data": {
      "text/html": [
       "<div>\n",
       "<style scoped>\n",
       "    .dataframe tbody tr th:only-of-type {\n",
       "        vertical-align: middle;\n",
       "    }\n",
       "\n",
       "    .dataframe tbody tr th {\n",
       "        vertical-align: top;\n",
       "    }\n",
       "\n",
       "    .dataframe thead th {\n",
       "        text-align: right;\n",
       "    }\n",
       "</style>\n",
       "<table border=\"1\" class=\"dataframe\">\n",
       "  <thead>\n",
       "    <tr style=\"text-align: right;\">\n",
       "      <th></th>\n",
       "      <th>ID</th>\n",
       "      <th>省</th>\n",
       "      <th>市</th>\n",
       "      <th>区</th>\n",
       "      <th>路</th>\n",
       "    </tr>\n",
       "  </thead>\n",
       "  <tbody>\n",
       "    <tr>\n",
       "      <th>0</th>\n",
       "      <td>111</td>\n",
       "      <td>江苏省</td>\n",
       "      <td>南京市</td>\n",
       "      <td>雨花台区</td>\n",
       "      <td>桃花路</td>\n",
       "    </tr>\n",
       "    <tr>\n",
       "      <th>1</th>\n",
       "      <td>112</td>\n",
       "      <td>NaN</td>\n",
       "      <td>上海市</td>\n",
       "      <td>浦东新区</td>\n",
       "      <td>梨花路</td>\n",
       "    </tr>\n",
       "    <tr>\n",
       "      <th>2</th>\n",
       "      <td>113</td>\n",
       "      <td>河南省</td>\n",
       "      <td>郑州市</td>\n",
       "      <td>NaN</td>\n",
       "      <td>樱花路</td>\n",
       "    </tr>\n",
       "  </tbody>\n",
       "</table>\n",
       "</div>"
      ],
      "text/plain": [
       "    ID    省    市     区    路\n",
       "0  111  江苏省  南京市  雨花台区  桃花路\n",
       "1  112  NaN  上海市  浦东新区  梨花路\n",
       "2  113  河南省  郑州市   NaN  樱花路"
      ]
     },
     "execution_count": 105,
     "metadata": {},
     "output_type": "execute_result"
    }
   ],
   "source": [
    "newad"
   ]
  }
 ],
 "metadata": {
  "kernelspec": {
   "display_name": "Python 3",
   "language": "python",
   "name": "python3"
  },
  "language_info": {
   "codemirror_mode": {
    "name": "ipython",
    "version": 3
   },
   "file_extension": ".py",
   "mimetype": "text/x-python",
   "name": "python",
   "nbconvert_exporter": "python",
   "pygments_lexer": "ipython3",
   "version": "3.8.8"
  },
  "varInspector": {
   "cols": {
    "lenName": 16,
    "lenType": 16,
    "lenVar": 40
   },
   "kernels_config": {
    "python": {
     "delete_cmd_postfix": "",
     "delete_cmd_prefix": "del ",
     "library": "var_list.py",
     "varRefreshCmd": "print(var_dic_list())"
    },
    "r": {
     "delete_cmd_postfix": ") ",
     "delete_cmd_prefix": "rm(",
     "library": "var_list.r",
     "varRefreshCmd": "cat(var_dic_list()) "
    }
   },
   "types_to_exclude": [
    "module",
    "function",
    "builtin_function_or_method",
    "instance",
    "_Feature"
   ],
   "window_display": false
  }
 },
 "nbformat": 4,
 "nbformat_minor": 5
}
