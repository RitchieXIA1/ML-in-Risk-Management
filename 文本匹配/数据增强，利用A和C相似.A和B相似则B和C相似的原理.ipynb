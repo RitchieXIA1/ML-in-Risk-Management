{
 "cells": [
  {
   "cell_type": "code",
   "execution_count": 2,
   "id": "87bcff06",
   "metadata": {
    "ExecuteTime": {
     "end_time": "2022-03-09T02:50:18.523772Z",
     "start_time": "2022-03-09T02:50:16.280574Z"
    }
   },
   "outputs": [
    {
     "name": "stdout",
     "output_type": "stream",
     "text": [
      "                                                  text_a  \\\n",
      "10                 10月1日，军队包括第2步枪师，第8步枪师，第29步枪师和第140步枪师。   \n",
      "28     1236年，安格斯Mormaer的Gille Brigte的儿子Haakon Haakons...   \n",
      "31     1236年，安格斯Mormaer的Gille Brigte的儿子Magnus被Haakon ...   \n",
      "37     1281年，教皇马丁四世（Simon de Beaulieu），Simon de Brion...   \n",
      "38                              他于1298年3月获得蒙古官方承认的缅甸统治者。   \n",
      "...                                                  ...   \n",
      "20282  黑牛苦涩（``3.9％ABV''）是为了纪念Theakson的第一家酒吧而酿造的，那里的第一...   \n",
      "20292  黛比波斯纳是“希伯来和犹太研究的教师和计划”，而Debbi Benn则是“希伯来和犹太研究小...   \n",
      "20297  威廉姆斯，（1892-1962），Yr Academi Gymreig（威尔士学院）的第一任总统。   \n",
      "20298  威廉姆斯，（1892-1962），Yr Academi Gymreig（威尔士学院）的第一任总统。   \n",
      "20299   威廉姆斯（1892-1962）是威尔士学院（Yr Academi Gymreig）的第一任校长。   \n",
      "\n",
      "                                                  text_b  label  \n",
      "10                 10月1日，军队包括第140步枪师，第8步枪师，第29步枪师和第2步枪师。      1  \n",
      "28     1236年，安格斯Mormaer的Gille Brigte的儿子Haakon Haakons...      1  \n",
      "31     1236年，安格斯Mormaer的Gille Brigte的儿子Magnus被奥克尼的Jar...      1  \n",
      "37     1281年，西蒙·德·布里昂被教皇马丁四世（Simon de Beaulieu）任命为布尔日...      1  \n",
      "38                              他于1298年3月获得蒙古官方承认的缅甸统治者。      1  \n",
      "...                                                  ...    ...  \n",
      "20282  黑牛苦涩（``3.9％ABV''）是为了纪念第一家Theakson酒吧而酿造的，这是第一家T...      1  \n",
      "20292  黛比波斯纳是“希伯来语和犹太人研究的教师和计划”，而Debbi Benn则是“小学希伯来语和...      1  \n",
      "20297   威廉姆斯（1892-1962）是威尔士学院（Yr Academi Gymreig）的第一任校长。      1  \n",
      "20298   威廉姆斯（1892-1962）是威尔士学院（Yr Academi Gymreig）的第一任校长。      1  \n",
      "20299   威廉姆斯（1892-1962）是威尔士学院（Yr Academi Gymreig）的第一任校长。      1  \n",
      "\n",
      "[4300 rows x 3 columns]\n"
     ]
    }
   ],
   "source": [
    "import pandas as pd\n",
    "from collections import defaultdict\n",
    "\n",
    "\n",
    "def aug_group_by_a(df):\n",
    "    aug_data = defaultdict(list)\n",
    "    # 以text_a中的句子为 a\n",
    "    for g, data in df.groupby(by=['text_a']):\n",
    "        if len(data) < 2:\n",
    "            continue\n",
    "        for i in range(len(data)):\n",
    "            for j in range(i + 1, len(data)):\n",
    "                # 取出b的值，a,b的label\n",
    "                row_i_text = data.iloc[i, 1]\n",
    "                row_i_label = data.iloc[i, 2]\n",
    "\n",
    "                # 取出c的值，a,c的label\n",
    "                row_j_text = data.iloc[j, 1]\n",
    "                row_j_label = data.iloc[j, 2]\n",
    "\n",
    "                if row_i_label == row_j_label == 0:\n",
    "                    continue\n",
    "\n",
    "                aug_label = 1 if row_i_label == row_j_label == 1 else 0\n",
    "\n",
    "                aug_data['text_a'].append(row_i_text)\n",
    "                aug_data['text_b'].append(row_j_text)\n",
    "                aug_data['label'].append(aug_label)\n",
    "    return pd.DataFrame(aug_data)\n",
    "\n",
    "if __name__ == '__main__':\n",
    "    origin_df = pd.read_csv('data/paws-x/train.tsv', sep='\\t', names=['text_a', 'text_b', 'label'])\n",
    "    aug_df = aug_group_by_a(origin_df)\n",
    "    print(aug_df[aug_df['label'] == 1])"
   ]
  },
  {
   "cell_type": "code",
   "execution_count": 4,
   "id": "1215e24e",
   "metadata": {
    "ExecuteTime": {
     "end_time": "2022-03-09T02:57:40.533082Z",
     "start_time": "2022-03-09T02:57:40.516075Z"
    }
   },
   "outputs": [
    {
     "data": {
      "text/html": [
       "<div>\n",
       "<style scoped>\n",
       "    .dataframe tbody tr th:only-of-type {\n",
       "        vertical-align: middle;\n",
       "    }\n",
       "\n",
       "    .dataframe tbody tr th {\n",
       "        vertical-align: top;\n",
       "    }\n",
       "\n",
       "    .dataframe thead th {\n",
       "        text-align: right;\n",
       "    }\n",
       "</style>\n",
       "<table border=\"1\" class=\"dataframe\">\n",
       "  <thead>\n",
       "    <tr style=\"text-align: right;\">\n",
       "      <th></th>\n",
       "      <th>text_a</th>\n",
       "      <th>text_b</th>\n",
       "      <th>label</th>\n",
       "    </tr>\n",
       "  </thead>\n",
       "  <tbody>\n",
       "    <tr>\n",
       "      <th>10</th>\n",
       "      <td>10月1日，军队包括第2步枪师，第8步枪师，第29步枪师和第140步枪师。</td>\n",
       "      <td>10月1日，军队包括第140步枪师，第8步枪师，第29步枪师和第2步枪师。</td>\n",
       "      <td>1</td>\n",
       "    </tr>\n",
       "    <tr>\n",
       "      <th>28</th>\n",
       "      <td>1236年，安格斯Mormaer的Gille Brigte的儿子Haakon Haakons...</td>\n",
       "      <td>1236年，安格斯Mormaer的Gille Brigte的儿子Haakon Haakons...</td>\n",
       "      <td>1</td>\n",
       "    </tr>\n",
       "    <tr>\n",
       "      <th>31</th>\n",
       "      <td>1236年，安格斯Mormaer的Gille Brigte的儿子Magnus被Haakon ...</td>\n",
       "      <td>1236年，安格斯Mormaer的Gille Brigte的儿子Magnus被奥克尼的Jar...</td>\n",
       "      <td>1</td>\n",
       "    </tr>\n",
       "    <tr>\n",
       "      <th>37</th>\n",
       "      <td>1281年，教皇马丁四世（Simon de Beaulieu），Simon de Brion...</td>\n",
       "      <td>1281年，西蒙·德·布里昂被教皇马丁四世（Simon de Beaulieu）任命为布尔日...</td>\n",
       "      <td>1</td>\n",
       "    </tr>\n",
       "    <tr>\n",
       "      <th>38</th>\n",
       "      <td>他于1298年3月获得蒙古官方承认的缅甸统治者。</td>\n",
       "      <td>他于1298年3月获得蒙古官方承认的缅甸统治者。</td>\n",
       "      <td>1</td>\n",
       "    </tr>\n",
       "    <tr>\n",
       "      <th>...</th>\n",
       "      <td>...</td>\n",
       "      <td>...</td>\n",
       "      <td>...</td>\n",
       "    </tr>\n",
       "    <tr>\n",
       "      <th>20282</th>\n",
       "      <td>黑牛苦涩（``3.9％ABV''）是为了纪念Theakson的第一家酒吧而酿造的，那里的第一...</td>\n",
       "      <td>黑牛苦涩（``3.9％ABV''）是为了纪念第一家Theakson酒吧而酿造的，这是第一家T...</td>\n",
       "      <td>1</td>\n",
       "    </tr>\n",
       "    <tr>\n",
       "      <th>20292</th>\n",
       "      <td>黛比波斯纳是“希伯来和犹太研究的教师和计划”，而Debbi Benn则是“希伯来和犹太研究小...</td>\n",
       "      <td>黛比波斯纳是“希伯来语和犹太人研究的教师和计划”，而Debbi Benn则是“小学希伯来语和...</td>\n",
       "      <td>1</td>\n",
       "    </tr>\n",
       "    <tr>\n",
       "      <th>20297</th>\n",
       "      <td>威廉姆斯，（1892-1962），Yr Academi Gymreig（威尔士学院）的第一任总统。</td>\n",
       "      <td>威廉姆斯（1892-1962）是威尔士学院（Yr Academi Gymreig）的第一任校长。</td>\n",
       "      <td>1</td>\n",
       "    </tr>\n",
       "    <tr>\n",
       "      <th>20298</th>\n",
       "      <td>威廉姆斯，（1892-1962），Yr Academi Gymreig（威尔士学院）的第一任总统。</td>\n",
       "      <td>威廉姆斯（1892-1962）是威尔士学院（Yr Academi Gymreig）的第一任校长。</td>\n",
       "      <td>1</td>\n",
       "    </tr>\n",
       "    <tr>\n",
       "      <th>20299</th>\n",
       "      <td>威廉姆斯（1892-1962）是威尔士学院（Yr Academi Gymreig）的第一任校长。</td>\n",
       "      <td>威廉姆斯（1892-1962）是威尔士学院（Yr Academi Gymreig）的第一任校长。</td>\n",
       "      <td>1</td>\n",
       "    </tr>\n",
       "  </tbody>\n",
       "</table>\n",
       "<p>4300 rows × 3 columns</p>\n",
       "</div>"
      ],
      "text/plain": [
       "                                                  text_a  \\\n",
       "10                 10月1日，军队包括第2步枪师，第8步枪师，第29步枪师和第140步枪师。   \n",
       "28     1236年，安格斯Mormaer的Gille Brigte的儿子Haakon Haakons...   \n",
       "31     1236年，安格斯Mormaer的Gille Brigte的儿子Magnus被Haakon ...   \n",
       "37     1281年，教皇马丁四世（Simon de Beaulieu），Simon de Brion...   \n",
       "38                              他于1298年3月获得蒙古官方承认的缅甸统治者。   \n",
       "...                                                  ...   \n",
       "20282  黑牛苦涩（``3.9％ABV''）是为了纪念Theakson的第一家酒吧而酿造的，那里的第一...   \n",
       "20292  黛比波斯纳是“希伯来和犹太研究的教师和计划”，而Debbi Benn则是“希伯来和犹太研究小...   \n",
       "20297  威廉姆斯，（1892-1962），Yr Academi Gymreig（威尔士学院）的第一任总统。   \n",
       "20298  威廉姆斯，（1892-1962），Yr Academi Gymreig（威尔士学院）的第一任总统。   \n",
       "20299   威廉姆斯（1892-1962）是威尔士学院（Yr Academi Gymreig）的第一任校长。   \n",
       "\n",
       "                                                  text_b  label  \n",
       "10                 10月1日，军队包括第140步枪师，第8步枪师，第29步枪师和第2步枪师。      1  \n",
       "28     1236年，安格斯Mormaer的Gille Brigte的儿子Haakon Haakons...      1  \n",
       "31     1236年，安格斯Mormaer的Gille Brigte的儿子Magnus被奥克尼的Jar...      1  \n",
       "37     1281年，西蒙·德·布里昂被教皇马丁四世（Simon de Beaulieu）任命为布尔日...      1  \n",
       "38                              他于1298年3月获得蒙古官方承认的缅甸统治者。      1  \n",
       "...                                                  ...    ...  \n",
       "20282  黑牛苦涩（``3.9％ABV''）是为了纪念第一家Theakson酒吧而酿造的，这是第一家T...      1  \n",
       "20292  黛比波斯纳是“希伯来语和犹太人研究的教师和计划”，而Debbi Benn则是“小学希伯来语和...      1  \n",
       "20297   威廉姆斯（1892-1962）是威尔士学院（Yr Academi Gymreig）的第一任校长。      1  \n",
       "20298   威廉姆斯（1892-1962）是威尔士学院（Yr Academi Gymreig）的第一任校长。      1  \n",
       "20299   威廉姆斯（1892-1962）是威尔士学院（Yr Academi Gymreig）的第一任校长。      1  \n",
       "\n",
       "[4300 rows x 3 columns]"
      ]
     },
     "execution_count": 4,
     "metadata": {},
     "output_type": "execute_result"
    }
   ],
   "source": [
    "aug_df[aug_df['label'] == 1]"
   ]
  },
  {
   "cell_type": "code",
   "execution_count": null,
   "id": "2f706b77",
   "metadata": {},
   "outputs": [],
   "source": []
  },
  {
   "cell_type": "code",
   "execution_count": null,
   "id": "7891d2f6",
   "metadata": {},
   "outputs": [],
   "source": []
  }
 ],
 "metadata": {
  "kernelspec": {
   "display_name": "Python 3",
   "language": "python",
   "name": "python3"
  },
  "language_info": {
   "codemirror_mode": {
    "name": "ipython",
    "version": 3
   },
   "file_extension": ".py",
   "mimetype": "text/x-python",
   "name": "python",
   "nbconvert_exporter": "python",
   "pygments_lexer": "ipython3",
   "version": "3.8.8"
  },
  "varInspector": {
   "cols": {
    "lenName": 16,
    "lenType": 16,
    "lenVar": 40
   },
   "kernels_config": {
    "python": {
     "delete_cmd_postfix": "",
     "delete_cmd_prefix": "del ",
     "library": "var_list.py",
     "varRefreshCmd": "print(var_dic_list())"
    },
    "r": {
     "delete_cmd_postfix": ") ",
     "delete_cmd_prefix": "rm(",
     "library": "var_list.r",
     "varRefreshCmd": "cat(var_dic_list()) "
    }
   },
   "types_to_exclude": [
    "module",
    "function",
    "builtin_function_or_method",
    "instance",
    "_Feature"
   ],
   "window_display": false
  }
 },
 "nbformat": 4,
 "nbformat_minor": 5
}
