{
 "cells": [
  {
   "cell_type": "code",
   "execution_count": 3,
   "id": "21a13f51",
   "metadata": {
    "ExecuteTime": {
     "end_time": "2022-03-08T09:03:51.812789Z",
     "start_time": "2022-03-08T09:03:51.801551Z"
    }
   },
   "outputs": [],
   "source": [
    "import re\n",
    "import jieba\n",
    "import pandas as pd\n",
    "import numpy as np\n",
    "from gensim.models import Word2Vec\n",
    "import pickle\n",
    "from tqdm import tqdm"
   ]
  },
  {
   "cell_type": "code",
   "execution_count": 24,
   "id": "8ee6bb2c",
   "metadata": {
    "ExecuteTime": {
     "end_time": "2022-03-08T09:13:29.371203Z",
     "start_time": "2022-03-08T09:13:29.365202Z"
    }
   },
   "outputs": [],
   "source": [
    "class Config():\n",
    "    # 数据加载部分\n",
    "    dataset = 'paws-x'\n",
    "    build_vocab = True  # 是否重构词典\n",
    "    build_wv = True  # 是否重构词向量\n",
    "    load_with_words = False  # 加载带分词的数据\n",
    "    vocab_path = 'vocab'  # 路径\n",
    "    wv_model_path = 'wv_model'  # 词向量名\n",
    "    seq_len = 27  # 句子长度\n",
    "    # 模型部分\n",
    "    model_type = 'RNN'\n",
    "    embed_dim = 100  # 词向量或embedding维度\n",
    "    vocab_size = 100  # 词典大小，读取词典后会更新\n",
    "    update_embed = True  # embedding是否随网络训练更新\n",
    "    load_model = False  # 是否加载已有模型预测\n",
    "    save_model = True  # 是否保存训练好的模型\n",
    "    # 训练部分\n",
    "    device = 'cpu'\n",
    "    learning_rate = 5e-4\n",
    "    batch_size = 128  # batch大小\n",
    "    epochs = 25  # 训练次数\n",
    "    print_loss = 100  # 打印loss次数\n",
    "    dropout = 0.2   # dropout比例\n",
    "    hidden_size = 256  # rnn的大小\n",
    "    num_layers = 2  # rnn的层数\n",
    "    concat_layers = True  # 是否拼接\n",
    "    num_labels = 2  # 分类数"
   ]
  },
  {
   "cell_type": "code",
   "execution_count": 5,
   "id": "7776489a",
   "metadata": {
    "ExecuteTime": {
     "end_time": "2022-03-08T09:04:02.261435Z",
     "start_time": "2022-03-08T09:04:02.257434Z"
    }
   },
   "outputs": [],
   "source": [
    "# 读取数据\n",
    "def get_stopwords():\n",
    "    stop_words = []\n",
    "    with open('baidu_stopwords.txt', 'r', encoding='utf-8') as f:\n",
    "        for line in f.readlines():\n",
    "            stop_words.append(line.replace('\\n', ''))\n",
    "    return stop_words"
   ]
  },
  {
   "cell_type": "code",
   "execution_count": 6,
   "id": "fc067178",
   "metadata": {
    "ExecuteTime": {
     "end_time": "2022-03-08T09:04:05.380271Z",
     "start_time": "2022-03-08T09:04:05.373168Z"
    }
   },
   "outputs": [],
   "source": [
    "# jieba分词\n",
    "def cut(content, stop_words, config):\n",
    "    # 去除符号\n",
    "    content = re.sub(\"[\\s+\\.\\!\\/_,$%^*(+\\\"\\']+|[+——！，。？、~@#￥%……&*（）]\", \"\", content)\n",
    "\n",
    "    result = []\n",
    "\n",
    "    seg_list = jieba.lcut(content, cut_all=True)\n",
    "    for i in seg_list:\n",
    "        if i not in stop_words:\n",
    "            result.append(i)\n",
    "\n",
    "    if len(result) < config.seq_len:  # 小于规定长度，填充\n",
    "        new_result = ['PAD' for i in range(config.seq_len)]\n",
    "        new_result[:len(result)] = result\n",
    "        return new_result\n",
    "    else:\n",
    "        return result[:config.seq_len]\n"
   ]
  },
  {
   "cell_type": "code",
   "execution_count": 8,
   "id": "3196c724",
   "metadata": {
    "ExecuteTime": {
     "end_time": "2022-03-08T09:04:30.438428Z",
     "start_time": "2022-03-08T09:04:30.434427Z"
    }
   },
   "outputs": [],
   "source": [
    "# 保存pickle\n",
    "def dump_pickle(obj, file_path):\n",
    "    with open(file_path, 'wb') as f:\n",
    "        pickle.dump(obj, f, pickle.HIGHEST_PROTOCOL)\n",
    "\n",
    "\n",
    "# 加载pickle\n",
    "def load_pickle(file_path):\n",
    "    with open(file_path, 'rb') as f:\n",
    "        return pickle.load(f)"
   ]
  },
  {
   "cell_type": "code",
   "execution_count": 9,
   "id": "c740245f",
   "metadata": {
    "ExecuteTime": {
     "end_time": "2022-03-08T09:04:48.501275Z",
     "start_time": "2022-03-08T09:04:48.493166Z"
    }
   },
   "outputs": [],
   "source": [
    "# 分词并去除停用词\n",
    "def data_anaysis(df, stop_words, config):\n",
    "    # 分词\n",
    "    df['words_a'] = df['text_a'].apply(lambda x: cut(x, stop_words, config))\n",
    "    df['words_b'] = df['text_b'].apply(lambda x: cut(x, stop_words, config))\n",
    "    return df\n"
   ]
  },
  {
   "cell_type": "code",
   "execution_count": 10,
   "id": "27644815",
   "metadata": {
    "ExecuteTime": {
     "end_time": "2022-03-08T09:04:52.858173Z",
     "start_time": "2022-03-08T09:04:52.851172Z"
    }
   },
   "outputs": [],
   "source": [
    "# 将中文词转换为词典数字\n",
    "def word2num(content, vocab):\n",
    "    result = []\n",
    "    for word in content:\n",
    "        result.append(vocab[word])\n",
    "    return result\n"
   ]
  },
  {
   "cell_type": "code",
   "execution_count": 11,
   "id": "f9334293",
   "metadata": {
    "ExecuteTime": {
     "end_time": "2022-03-08T09:05:00.326876Z",
     "start_time": "2022-03-08T09:05:00.316705Z"
    }
   },
   "outputs": [],
   "source": [
    "# 构建词典\n",
    "def build_vocab(train, dev, test, config, file_name):\n",
    "    word_index = 1\n",
    "    vocab_dict = {\n",
    "        'PAD': 0  # 默认pad为0\n",
    "    }\n",
    "    dataset = [train, test, dev]\n",
    "    for data in tqdm(dataset, desc='构建词典'):\n",
    "        for i in range(len(data)):\n",
    "            row = data.iloc[i]\n",
    "            words_a = row['words_a']\n",
    "            words_b = row['words_b']\n",
    "            for word in words_a:\n",
    "                if word not in vocab_dict.keys():\n",
    "                    vocab_dict[word] = word_index\n",
    "                    word_index += 1\n",
    "            for word in words_b:\n",
    "                if word not in vocab_dict.keys():\n",
    "                    vocab_dict[word] = word_index\n",
    "                    word_index += 1\n",
    "    # 保存词典\n",
    "    dump_pickle(vocab_dict, config.vocab_path + '/vocab_' + file_name + '.pkl')\n",
    "    return vocab_dict"
   ]
  },
  {
   "cell_type": "code",
   "execution_count": 26,
   "id": "5d6ca84f",
   "metadata": {
    "ExecuteTime": {
     "end_time": "2022-03-08T09:13:48.310682Z",
     "start_time": "2022-03-08T09:13:48.291467Z"
    }
   },
   "outputs": [],
   "source": [
    "def data_reader(file_name, config):\n",
    "    print('加载数据...')\n",
    "    if config.load_with_words is True:\n",
    "        train = load_pickle('data/' + file_name + '_train.pkl')\n",
    "        dev = load_pickle('data/' + file_name + '_dev.pkl')\n",
    "        test = load_pickle('data/' + file_name + '_test.pkl')\n",
    "    else:\n",
    "        # 获取停用词\n",
    "        stop_words = get_stopwords()\n",
    "        train = pd.read_csv('data/' + file_name + '/train.tsv', sep='\\t', names=['text_a', 'text_b', 'label'])\n",
    "        dev = pd.read_csv('data/' + file_name + '/dev.tsv', sep='\\t', names=['text_a', 'text_b', 'label'])\n",
    "        test = pd.read_csv('data/' + file_name + '/test.tsv', sep='\\t', names=['text_a', 'text_b'])\n",
    "\n",
    "        if len(set(train['label'])) > 2:\n",
    "            train = train[train['label'].isin(['0', '1'])]\n",
    "            train['label'] = train['label'].astype('int')\n",
    "\n",
    "        if len(set(train['label'])) > 2:\n",
    "            dev = dev[dev['label'].isin(['0', '1'])]\n",
    "            dev['label'] = dev['label'].astype('int')\n",
    "\n",
    "        test['label'] = -1\n",
    "        train = train.dropna()\n",
    "        dev = dev.dropna()\n",
    "\n",
    "        # 分词并去除停用词\n",
    "        print('分词并去除停用词...')\n",
    "        train = data_anaysis(train, stop_words, config)\n",
    "        dev = data_anaysis(dev, stop_words, config)\n",
    "        test = data_anaysis(test, stop_words, config)\n",
    "        # 保存分词后的数据\n",
    "        dump_pickle(train, 'data/' + file_name + '_train.pkl')\n",
    "        dump_pickle(train, 'data/' + file_name + '_dev.pkl')\n",
    "        dump_pickle(test, 'data/' + file_name + '_test.pkl')\n",
    "\n",
    "    # 统计词典\n",
    "    print('加载词典...')\n",
    "    if config.build_vocab is True:\n",
    "        vocab = build_vocab(train, dev, test, config, file_name)\n",
    "    else:\n",
    "        vocab = load_pickle(config.vocab_path + '/vocab_' + file_name + '.pkl')\n",
    "\n",
    "    # 将每个词转为数字\n",
    "    print('将每个词转为词典数字...')\n",
    "    train['word2num_a'] = train['words_a'].apply(lambda x: word2num(x, vocab))\n",
    "    train['word2num_b'] = train['words_b'].apply(lambda x: word2num(x, vocab))\n",
    "    dev['word2num_a'] = dev['words_a'].apply(lambda x: word2num(x, vocab))\n",
    "    dev['word2num_b'] = dev['words_b'].apply(lambda x: word2num(x, vocab))\n",
    "    test['word2num_a'] = test['words_a'].apply(lambda x: word2num(x, vocab))\n",
    "    test['word2num_b'] = test['words_b'].apply(lambda x: word2num(x, vocab))\n",
    "\n",
    "    return train, dev, test, vocab"
   ]
  },
  {
   "cell_type": "code",
   "execution_count": 12,
   "id": "40f24cbc",
   "metadata": {
    "ExecuteTime": {
     "end_time": "2022-03-08T09:06:39.077529Z",
     "start_time": "2022-03-08T09:06:39.072529Z"
    }
   },
   "outputs": [],
   "source": [
    "# 加载词向量\n",
    "def load_wv(train, dev, test, config, file_name):\n",
    "    if config.build_wv is True:\n",
    "        print('构建词向量...')\n",
    "        # 若不存在词向量，则重新训练训练词向量\n",
    "        datalist = [train, dev, test]\n",
    "\n",
    "        context = []\n",
    "        for data in datalist:\n",
    "            for i in range(len(data)):\n",
    "                row = data.iloc[i]\n",
    "                context.append(row['word2num_a'])\n",
    "                context.append(row['word2num_b'])\n",
    "\n",
    "        wv_model = Word2Vec(sentences=context, vector_size=config.embed_dim, window=5, min_count=1, workers=4)\n",
    "        wv_model.train(context, total_examples=1, epochs=1)\n",
    "        wv_model.save(config.wv_model_path + '/wv_' + file_name)\n",
    "    else:\n",
    "        print('加载词向量...')\n",
    "        wv_model = Word2Vec.load(config.wv_model_path + '/wv_' + file_name)\n",
    "\n",
    "    return wv_model\n"
   ]
  },
  {
   "cell_type": "code",
   "execution_count": 13,
   "id": "c4a65c96",
   "metadata": {
    "ExecuteTime": {
     "end_time": "2022-03-08T09:06:44.842134Z",
     "start_time": "2022-03-08T09:06:44.837133Z"
    }
   },
   "outputs": [],
   "source": [
    "from torch.utils.data import DataLoader, Dataset"
   ]
  },
  {
   "cell_type": "code",
   "execution_count": 14,
   "id": "8ee736ba",
   "metadata": {
    "ExecuteTime": {
     "end_time": "2022-03-08T09:06:52.558535Z",
     "start_time": "2022-03-08T09:06:52.542135Z"
    }
   },
   "outputs": [],
   "source": [
    "# 自定义数据集\n",
    "class SimDataset(Dataset):\n",
    "    def __init__(self, df):\n",
    "        super(SimDataset, self).__init__()\n",
    "        self.text_a = df['word2num_a']\n",
    "        self.text_b = df['word2num_b']\n",
    "        self.label = df['label']\n",
    "        self.len = len(df)\n",
    "\n",
    "    def __getitem__(self, idx):\n",
    "        vector_a = np.array(self.text_a.iloc[idx], dtype='int64')\n",
    "        vector_b = np.array(self.text_b.iloc[idx], dtype='int64')\n",
    "        label = np.array(self.label.iloc[idx]).astype(\"int64\")\n",
    "\n",
    "        return {'vector_a': vector_a,\n",
    "                'vector_b': vector_b,\n",
    "                'label': label}\n",
    "\n",
    "    def __len__(self):\n",
    "        return self.len\n"
   ]
  },
  {
   "cell_type": "code",
   "execution_count": 15,
   "id": "98d406e9",
   "metadata": {
    "ExecuteTime": {
     "end_time": "2022-03-08T09:06:58.176225Z",
     "start_time": "2022-03-08T09:06:58.170223Z"
    }
   },
   "outputs": [],
   "source": [
    "from torch import nn\n",
    "from torch.nn import functional as F\n",
    "import torch\n",
    "import torch.nn as nn\n"
   ]
  },
  {
   "cell_type": "code",
   "execution_count": 16,
   "id": "b4c06946",
   "metadata": {
    "ExecuteTime": {
     "end_time": "2022-03-08T09:07:06.397675Z",
     "start_time": "2022-03-08T09:07:06.385673Z"
    }
   },
   "outputs": [],
   "source": [
    "class RNNDropout(nn.Dropout):\n",
    "    # 将词向量 某些维度 清0\n",
    "    def forward(self, sequences_batch):  # (B, L, D)\n",
    "        # 创建相同的全1张量 (B, D)\n",
    "        ones = sequences_batch.data.new_ones(sequences_batch.shape[0], sequences_batch.shape[-1])\n",
    "\n",
    "        # 创建随机mask (B, D)\n",
    "        dropout_mask = nn.functional.dropout(ones, self.p, self.training, inplace=False)\n",
    "\n",
    "        # dropout原数据 (B, L, D)， 这里需要给mask加一个维度\n",
    "        return dropout_mask.unsqueeze(1) * sequences_batch\n"
   ]
  },
  {
   "cell_type": "code",
   "execution_count": 17,
   "id": "77431316",
   "metadata": {
    "ExecuteTime": {
     "end_time": "2022-03-08T09:07:14.185974Z",
     "start_time": "2022-03-08T09:07:14.177972Z"
    }
   },
   "outputs": [],
   "source": [
    "# 自定义RNN\n",
    "class StackedBRNN(nn.Module):\n",
    "    def __init__(self, input_size, hidden_size, num_layers,\n",
    "                 dropout_rate=0, dropout_output=False, rnn_type=nn.LSTM,\n",
    "                 concat_layers=False):\n",
    "        super().__init__()\n",
    "        # 获取参数\n",
    "        self.dropout_output = dropout_output\n",
    "        self.dropout_rate = dropout_rate\n",
    "        self.num_layers = num_layers\n",
    "        self.concat_layers = concat_layers  # 使用最后一层结果或叠加结果\n",
    "        self.rnns = nn.ModuleList()\n",
    "        # 遍历设计的RNN层数，使用Modulelist堆叠\n",
    "        for i in range(num_layers):\n",
    "            # 如果不是第一层，把lstm的两个hidden_size作为输入\n",
    "            if i != 0:\n",
    "                input_size = 2 * hidden_size\n",
    "            self.rnns.append(rnn_type(input_size, hidden_size, num_layers=1, bidirectional=True))\n",
    "\n",
    "    def forward(self, x):  # (B, L, D)\n",
    "        # 转化成RNN能接收的维度\n",
    "        x = x.transpose(0, 1)  # (L, B, D)\n",
    "\n",
    "        # 用于记录不同层的RNN结果，初始是x\n",
    "        outputs = [x]\n",
    "        for i in range(self.num_layers):\n",
    "            rnn_input = outputs[-1]\n",
    "\n",
    "            # dropout\n",
    "            if self.dropout_rate > 0:\n",
    "                rnn_input = F.dropout(rnn_input, p=self.dropout_rate, training=self.training)\n",
    "\n",
    "            # 取上一层的RNN结果传入当前层的RNN\n",
    "            rnn_output = self.rnns[i](rnn_input)[0]  # 只获取output,无需使用h_n,c_n\n",
    "            # 添加结果\n",
    "            outputs.append(rnn_output)\n",
    "\n",
    "        if self.concat_layers:  # 如果使用拼接作为结果\n",
    "            # 这里0是X输入，所以只需要1开始取各层RNN的结果\n",
    "            output = torch.cat(outputs[1:], 2)  # (L, B, D)\n",
    "        else:  # 如果使用最后一层RNN作为结果\n",
    "            output = outputs[-1]  # (L, B, D)\n",
    "\n",
    "        # 还原维度\n",
    "        output = output.transpose(0, 1)  # (B, L, D)\n",
    "\n",
    "        # dropout\n",
    "        if self.dropout_output and self.dropout_rate > 0:\n",
    "            output = F.dropout(output, p=self.dropout_rate, training=self.training)  # (B, L, D)\n",
    "\n",
    "        # 进行 transpose之后，tensor在内存中不连续， contiguous将output内存连续\n",
    "        return output.contiguous()"
   ]
  },
  {
   "cell_type": "code",
   "execution_count": 18,
   "id": "69162e57",
   "metadata": {
    "ExecuteTime": {
     "end_time": "2022-03-08T09:07:22.596623Z",
     "start_time": "2022-03-08T09:07:22.590622Z"
    }
   },
   "outputs": [],
   "source": [
    "class BidirectionalAttention(nn.Module):\n",
    "    def __init__(self):\n",
    "        super().__init__()\n",
    "\n",
    "    def forward(self, v1, v1_mask, v2, v2_mask):\n",
    "        '''\n",
    "            v1 (B, L, H)\n",
    "            v1_mask (B, L)\n",
    "            v2 (B, R, H)\n",
    "            v2_mask (B, R)\n",
    "        '''\n",
    "        # v2:a v1:b\n",
    "\n",
    "        # 1.计算矩阵相似度 v1@v2\n",
    "        similarity_matrix = v1.bmm(v2.transpose(2, 1).contiguous())  # (B, L, R)\n",
    "\n",
    "        # 2.计算attention时没有必要计算pad=0, 要进行mask操作 3.进行softmax\n",
    "        # 将similarity_matrix v1中pad对应的权重给mask\n",
    "        # v1_mask (B, L) 加一维到第三维度成 (B, L, unsqueeze)\n",
    "\n",
    "        v2_v1_attn = F.softmax(\n",
    "            similarity_matrix.masked_fill(\n",
    "                v1_mask.unsqueeze(2), -1e7), dim=1)  # (B, L, R)\n",
    "\n",
    "        # 将similarity_matrix v2中pad对应的权重给mask\n",
    "        # 21_mask (B, R) 加一维到第三维度成 (B, unsqueeze, R)\n",
    "        v1_v2_attn = F.softmax(\n",
    "            similarity_matrix.masked_fill(\n",
    "                v2_mask.unsqueeze(1), -1e7), dim=2)  # (B, L, R)\n",
    "\n",
    "        # 4.计算attention\n",
    "        # 句子b 对a的影响\n",
    "        # attented_v1 (B, L, R) @ (B, R, H)\n",
    "        attented_v1 = v1_v2_attn.bmm(v2)  # (B, L, H)\n",
    "\n",
    "        # 句子a对b的影响\n",
    "        # v2_v1_attn (B, L, R) -> (B, R, L) @(B, L, H)\n",
    "        attented_v2 = v2_v1_attn.transpose(1, 2).bmm(v1)  # (B, R, H)\n",
    "\n",
    "        # attented_v1 将v1对应的pad填充为0\n",
    "        # attented_v2 将v2对应的pad填充为0\n",
    "        attented_v1.masked_fill(v1_mask.unsqueeze(2), 0)\n",
    "        attented_v2.masked_fill(v2_mask.unsqueeze(2), 0)\n",
    "        return attented_v1, attented_v2\n"
   ]
  },
  {
   "cell_type": "code",
   "execution_count": 19,
   "id": "2d15a54f",
   "metadata": {
    "ExecuteTime": {
     "end_time": "2022-03-08T09:07:36.951968Z",
     "start_time": "2022-03-08T09:07:36.927643Z"
    }
   },
   "outputs": [],
   "source": [
    "class ESIM(nn.Module):\n",
    "\n",
    "    def __init__(self, wv_mode, config: Config):\n",
    "        super(ESIM, self).__init__()\n",
    "\n",
    "        # -----------------------  encoding  ---------------------#\n",
    "        word_vectors = torch.randn([config.vocab_size, config.embed_dim])\n",
    "        for i in range(0, config.vocab_size):\n",
    "            word_vectors[i, :] = torch.from_numpy(wv_mode.wv[i])\n",
    "        # 创建embedding层\n",
    "        self.embedding = nn.Embedding.from_pretrained(word_vectors, freeze=config.update_embed)  # (32, 27, 100)\n",
    "        if config.update_embed is False:\n",
    "            self.embedding.weight.requires_grad = False\n",
    "\n",
    "        # 创建rnn的dropout\n",
    "        self.rnn_dropout = RNNDropout(config.dropout)\n",
    "        rnn_size = config.hidden_size\n",
    "\n",
    "        if config.concat_layers is True:\n",
    "            rnn_size //= config.num_layers\n",
    "            config.hidden_size = rnn_size // 2 *2 *2 # 第一个*2是双向 第二个*2是cat拼接\n",
    "\n",
    "        self.input_encoding = StackedBRNN(input_size=config.embed_dim,\n",
    "                                          hidden_size=rnn_size // 2,\n",
    "                                          num_layers=config.num_layers,\n",
    "                                          rnn_type=nn.LSTM,\n",
    "                                          concat_layers=config.concat_layers)\n",
    "\n",
    "        # -----------------------  encoding  ---------------------#\n",
    "\n",
    "        # -----------------------  注意力  ---------------------#\n",
    "        self.attention = BidirectionalAttention()\n",
    "        # -----------------------  注意力  ---------------------#\n",
    "\n",
    "        # -----------------------  组合层  ---------------------#\n",
    "        self.projection = nn.Sequential(\n",
    "            nn.Linear(4 * config.hidden_size, config.hidden_size),\n",
    "            nn.ReLU()\n",
    "        )\n",
    "\n",
    "        self.composition = StackedBRNN(input_size=config.hidden_size,\n",
    "                                       hidden_size=rnn_size // 2,\n",
    "                                       num_layers=config.num_layers,\n",
    "                                       rnn_type=nn.LSTM,\n",
    "                                       concat_layers=config.concat_layers)\n",
    "        # -----------------------  组合层  ---------------------#\n",
    "\n",
    "        # -----------------------  推理层 ---------------------#\n",
    "        self.classification = nn.Sequential(\n",
    "            nn.Dropout(p=config.dropout),\n",
    "            nn.Linear(4 * config.hidden_size, config.hidden_size),\n",
    "            nn.Tanh(),\n",
    "            nn.Dropout(p=config.dropout))\n",
    "\n",
    "        self.out = nn.Linear(config.hidden_size, config.num_labels)\n",
    "        # -----------------------  推理层 ---------------------#\n",
    "\n",
    "    def forward(self, words_a, words_b):\n",
    "\n",
    "        '''\n",
    "            维度说明表\n",
    "                B: batch_size\n",
    "                L: 句子a的长度\n",
    "                R: 句子b的长度\n",
    "                D: embedding长度\n",
    "                H: hidden长度\n",
    "        '''\n",
    "\n",
    "        # 读取数据\n",
    "        query = words_a  # (B, L)\n",
    "        doc = words_b  # (B, R)\n",
    "\n",
    "        # -----------------------  encoding  ---------------------#\n",
    "        # 获取mask,判断query,doc种每个数是不是0\n",
    "        # 是0则表示该位置是PAD\n",
    "        # 是1则表示该位置不是PAD\n",
    "        # query: [2,3,4,5,0,0,0] -> query_mask: [0,0,0,0,1,1,1]\n",
    "        query_mask = (query == 0)  # (B, L)\n",
    "        doc_mask = (query == 0)  # (B, R)\n",
    "\n",
    "        # 转换词向量\n",
    "        query = self.embedding(query)  # (B, L, D)\n",
    "        doc = self.embedding(doc)  # (B, R, D)\n",
    "\n",
    "        # dropout,随机对输出清零\n",
    "        query = self.rnn_dropout(query)  # (B, L, D)\n",
    "        doc = self.rnn_dropout(doc)  # (B, R, D)\n",
    "\n",
    "        # 使用ESIM叠加的双向RNN 进行编码\n",
    "        query = self.input_encoding(query)  # (B, L, H)\n",
    "        doc = self.input_encoding(doc)  # (B, R, H)\n",
    "        # -----------------------  encoding  ---------------------#\n",
    "\n",
    "        # -----------------------  注意力  ---------------------#\n",
    "        '''\n",
    "            1. 计算两个句子的矩阵相似度\n",
    "            2. 把PAD填充去掉，因为计算attention时先进行mask操作\n",
    "            3. 进行softmax\n",
    "            3. 计算attention\n",
    "        '''\n",
    "        attended_query, attended_doc = self.attention(query, query_mask, doc, doc_mask)\n",
    "        # -----------------------  注意力  ---------------------#\n",
    "\n",
    "        # -----------------------  拼接层  ---------------------#\n",
    "        # 得到拼接embedding和attention得到加强信息版query和doc, 对应论文中的m\n",
    "        enhanced_query = torch.cat([query, attended_query, query - attended_query, query * attended_query],\n",
    "                                   dim=-1)  # (B, L, 4*H)\n",
    "        enhanced_doc = torch.cat([doc, attended_doc, query - attended_doc, query * attended_doc], dim=-1)  # (B, R, 4*H)\n",
    "        # -----------------------  拼接层  ---------------------#\n",
    "\n",
    "        # -----------------------  组合层  ---------------------#\n",
    "        # 推理拼接后的张量, 对应论文中的F(m)\n",
    "        projected_query = self.projection(enhanced_query)  # (B, L, H)\n",
    "        projected_doc = self.projection(enhanced_doc)  # (B, R, H)\n",
    "\n",
    "        # 使用双向RNN\n",
    "        query = self.composition(projected_query)  # (B, L, H)\n",
    "        doc = self.composition(projected_doc)  # (B, R, H)\n",
    "        # -----------------------  组合层  ---------------------#\n",
    "\n",
    "        # -----------------------  池化层 ---------------------#\n",
    "        '''\n",
    "            1. 平均池化\n",
    "            2. 最大池化\n",
    "            3. 拼接 4个结果张量\n",
    "        '''\n",
    "        # 由于部分句子被pad，使用平均池化会不准，所以需要反推mask，然后求句子长度\n",
    "        # 0的位置为pad\n",
    "        reverse_query_mask = 1. - query_mask.float()  # (B, L)\n",
    "        reverse_doc_mask = 1. - doc_mask.float()  # (B, R)\n",
    "\n",
    "        # 平均池化\n",
    "        query_avg = torch.sum(query * reverse_query_mask.unsqueeze(2), dim=1) / (\n",
    "                torch.sum(reverse_query_mask, dim=1, keepdim=True) + 1e-8)  # (B, L, H)\n",
    "        doc_avg = torch.sum(doc * reverse_doc_mask.unsqueeze(2), dim=1) / (\n",
    "                torch.sum(reverse_doc_mask, dim=1, keepdim=True) + 1e-8)  # (B, R, H)\n",
    "\n",
    "        # 防止取出pad（也许部分值是负数，小于0）\n",
    "        query = query.masked_fill(query_mask.unsqueeze(2), -1e7)\n",
    "        doc = doc.masked_fill(doc_mask.unsqueeze(2), -1e7)\n",
    "        # 最大池化\n",
    "        query_max, _ = query.max(dim=1)  # (B, L, H)\n",
    "        doc_max, _ = doc.max(dim=1)  # (B, R, H)\n",
    "\n",
    "        # 拼接\n",
    "        X = torch.cat([query_avg, query_max, doc_avg, doc_max], dim=-1)\n",
    "        # -----------------------  池化层 ---------------------#\n",
    "\n",
    "        # -----------------------  推理层 ---------------------#\n",
    "        X = self.classification(X)\n",
    "        output = self.out(X)\n",
    "        # -----------------------  推理层 ---------------------#\n",
    "\n",
    "        return output\n"
   ]
  },
  {
   "cell_type": "code",
   "execution_count": 20,
   "id": "cf8fe8db",
   "metadata": {
    "ExecuteTime": {
     "end_time": "2022-03-08T09:07:42.125703Z",
     "start_time": "2022-03-08T09:07:42.112689Z"
    }
   },
   "outputs": [],
   "source": [
    "from torch.optim import AdamW\n",
    "from torch.optim.lr_scheduler import ExponentialLR\n",
    "from sklearn.metrics import f1_score, accuracy_score"
   ]
  },
  {
   "cell_type": "code",
   "execution_count": 21,
   "id": "fb9d45fe",
   "metadata": {
    "ExecuteTime": {
     "end_time": "2022-03-08T09:07:51.854656Z",
     "start_time": "2022-03-08T09:07:51.835635Z"
    }
   },
   "outputs": [],
   "source": [
    "def predict(config, model, test_df):\n",
    "    predict_labels = []\n",
    "    # 创建dataloader\n",
    "    test_dataset = SimDataset(test_df)\n",
    "    test_dataloader = DataLoader(test_dataset, batch_size=config.batch_size)\n",
    "    model.eval()\n",
    "    with torch.no_grad():\n",
    "        for mini_batch in test_dataloader:\n",
    "            mini_batch = {item: value.to(config.device) for item, value in mini_batch.items()}\n",
    "            # 获取数据\n",
    "            text_a = mini_batch['vector_a']\n",
    "            text_b = mini_batch['vector_b']\n",
    "            y_pred = model(text_a, text_b)\n",
    "            _, indices = torch.max(y_pred, dim=1)\n",
    "            predict_labels += indices\n",
    "    return torch.tensor(predict_labels).numpy()\n",
    "\n",
    "\n",
    "# 校验\n",
    "def evaluation(config, model, val_dataloader, loss_fn):\n",
    "    model.eval()\n",
    "    preds = []\n",
    "    labels = []\n",
    "    val_loss = 0.\n",
    "    # val_iterator = tqdm(val_dataloader, desc='Evaluation', total=len(val_dataloader))\n",
    "    with torch.no_grad():\n",
    "        for mini_batch in val_dataloader:\n",
    "            mini_batch = {item: value.to(config.device) for item, value in mini_batch.items()}\n",
    "            # 获取数据\n",
    "            text_a = mini_batch['vector_a']\n",
    "            text_b = mini_batch['vector_b']\n",
    "            label = mini_batch['label']\n",
    "            labels += label\n",
    "            y_pred = model(text_a, text_b)\n",
    "\n",
    "            loss = loss_fn(y_pred, label)\n",
    "\n",
    "            val_loss += loss.item()\n",
    "            # 返回逻辑值最大的位置，要么0，要么1\n",
    "            _, indices = torch.max(y_pred, dim=1)\n",
    "            preds += indices\n",
    "\n",
    "    avg_val_loss = val_loss / len(val_dataloader)\n",
    "    labels = torch.tensor(labels).numpy()\n",
    "    preds = torch.tensor(preds).numpy()\n",
    "    f1 = f1_score(labels, preds, average='macro')\n",
    "    # -----------new ----------------#\n",
    "    acc = accuracy_score(labels, preds)\n",
    "    # -----------new ----------------#\n",
    "    return avg_val_loss, f1, acc\n"
   ]
  },
  {
   "cell_type": "code",
   "execution_count": 22,
   "id": "0cdc4a08",
   "metadata": {
    "ExecuteTime": {
     "end_time": "2022-03-08T09:08:00.105710Z",
     "start_time": "2022-03-08T09:08:00.093617Z"
    }
   },
   "outputs": [],
   "source": [
    "#  训练数据\n",
    "def train(train_df, dev_df, wv_model, config):\n",
    "    # 创建数据集\n",
    "    train_dataset = SimDataset(train_df)\n",
    "    dev_dataset = SimDataset(dev_df)\n",
    "    train_dataloader = DataLoader(train_dataset, batch_size=config.batch_size, shuffle=True, drop_last=True)\n",
    "    dev_dataloader = DataLoader(dev_dataset, batch_size=config.batch_size)\n",
    "\n",
    "    # 创建模型\n",
    "    model = ESIM(wv_model, config)\n",
    "\n",
    "    model.to(config.device)\n",
    "    # 定义优化器\n",
    "    opt = AdamW(lr=config.learning_rate, params=model.parameters())\n",
    "    # scheduler = ExponentialLR(opt, gamma=0.9)\n",
    "    # 定义损失函数\n",
    "    loss_fn = nn.CrossEntropyLoss()\n",
    "\n",
    "    # 遍历epoch，开始训练\n",
    "    for epoch in range(config.epochs):\n",
    "        model.train()\n",
    "        for iter_id, mini_batch in enumerate(train_dataloader):\n",
    "            mini_batch = {item: value.to(config.device) for item, value in mini_batch.items()}\n",
    "            # 获取数据\n",
    "            text_a = mini_batch['vector_a']\n",
    "            text_b = mini_batch['vector_b']\n",
    "            label = mini_batch['label']\n",
    "            # 训练\n",
    "            y_pred = model(text_a, text_b)\n",
    "            # 计算损失\n",
    "            loss = loss_fn(y_pred, label)\n",
    "            # 打印loss\n",
    "            _, indices = torch.max(y_pred, dim=1)\n",
    "            correct = torch.sum(indices == label)\n",
    "\n",
    "            avg_loss = torch.mean(loss)\n",
    "            if iter_id % config.print_loss == 0:\n",
    "                print('epoch: {}, iter: {}, loss is: {}, acc is: {}'.format(epoch, iter_id, avg_loss,\n",
    "                                                                            correct.item() * 1.0 / len(text_a)))\n",
    "            # 反向传播\n",
    "            avg_loss.backward()\n",
    "            # 最小化loss,更新参数\n",
    "            opt.step()\n",
    "            # scheduler.step()\n",
    "            # 清除梯度\n",
    "            model.zero_grad()\n",
    "\n",
    "        # 完成1个epoch，验证\n",
    "        avg_val_loss, f1, acc = evaluation(config, model, dev_dataloader, loss_fn)\n",
    "        print('-' * 50)\n",
    "        print('epoch: {}, val_loss: {}, val_f1: {}, val_acc: {}'.format(epoch, avg_val_loss, f1, acc))\n",
    "        print('-' * 50)\n",
    "\n",
    "    return model"
   ]
  },
  {
   "cell_type": "code",
   "execution_count": 28,
   "id": "5925dae1",
   "metadata": {
    "ExecuteTime": {
     "end_time": "2022-03-08T09:14:22.035014Z",
     "start_time": "2022-03-08T09:14:22.022011Z"
    }
   },
   "outputs": [],
   "source": [
    "data_list = ['paws-x']"
   ]
  },
  {
   "cell_type": "code",
   "execution_count": 31,
   "id": "9cc8a023",
   "metadata": {
    "ExecuteTime": {
     "end_time": "2022-03-08T09:47:16.999011Z",
     "start_time": "2022-03-08T09:18:31.566829Z"
    },
    "scrolled": true
   },
   "outputs": [
    {
     "name": "stdout",
     "output_type": "stream",
     "text": [
      "加载数据...\n",
      "分词并去除停用词...\n"
     ]
    },
    {
     "name": "stderr",
     "output_type": "stream",
     "text": [
      "\r",
      "构建词典:   0%|                                                                                  | 0/3 [00:00<?, ?it/s]"
     ]
    },
    {
     "name": "stdout",
     "output_type": "stream",
     "text": [
      "加载词典...\n"
     ]
    },
    {
     "name": "stderr",
     "output_type": "stream",
     "text": [
      "构建词典: 100%|██████████████████████████████████████████████████████████████████████████| 3/3 [00:04<00:00,  1.38s/it]\n"
     ]
    },
    {
     "name": "stdout",
     "output_type": "stream",
     "text": [
      "将每个词转为词典数字...\n",
      "构建词向量...\n"
     ]
    },
    {
     "name": "stderr",
     "output_type": "stream",
     "text": [
      "<ipython-input-19-cbf6fd02c2ef>:9: UserWarning: The given NumPy array is not writeable, and PyTorch does not support non-writeable tensors. This means you can write to the underlying (supposedly non-writeable) NumPy array using the tensor. You may want to copy the array to protect its data or make it writeable before converting it to a tensor. This type of warning will be suppressed for the rest of this program. (Triggered internally at  ..\\torch\\csrc\\utils\\tensor_numpy.cpp:189.)\n",
      "  word_vectors[i, :] = torch.from_numpy(wv_mode.wv[i])\n"
     ]
    },
    {
     "name": "stdout",
     "output_type": "stream",
     "text": [
      "epoch: 0, iter: 0, loss is: 0.6931536197662354, acc is: 0.53125\n",
      "epoch: 0, iter: 100, loss is: 0.6927802562713623, acc is: 0.453125\n",
      "epoch: 0, iter: 200, loss is: 0.6349914073944092, acc is: 0.6484375\n",
      "epoch: 0, iter: 300, loss is: 0.6563880443572998, acc is: 0.5625\n",
      "--------------------------------------------------\n",
      "epoch: 0, val_loss: 0.6516451798379421, val_f1: 0.5878369943739211, val_acc: 0.617\n",
      "--------------------------------------------------\n",
      "epoch: 1, iter: 0, loss is: 0.6724767088890076, acc is: 0.5390625\n",
      "epoch: 1, iter: 100, loss is: 0.6074082851409912, acc is: 0.65625\n",
      "epoch: 1, iter: 200, loss is: 0.6234288215637207, acc is: 0.703125\n",
      "epoch: 1, iter: 300, loss is: 0.703704297542572, acc is: 0.5390625\n",
      "--------------------------------------------------\n",
      "epoch: 1, val_loss: 0.6446757204830647, val_f1: 0.6008846236284515, val_acc: 0.6355\n",
      "--------------------------------------------------\n",
      "epoch: 2, iter: 0, loss is: 0.6403411626815796, acc is: 0.6796875\n",
      "epoch: 2, iter: 100, loss is: 0.5929141640663147, acc is: 0.6796875\n",
      "epoch: 2, iter: 200, loss is: 0.6246820688247681, acc is: 0.6875\n",
      "epoch: 2, iter: 300, loss is: 0.5985366702079773, acc is: 0.6953125\n",
      "--------------------------------------------------\n",
      "epoch: 2, val_loss: 0.6484895646572113, val_f1: 0.5960011356547387, val_acc: 0.6375\n",
      "--------------------------------------------------\n",
      "epoch: 3, iter: 0, loss is: 0.6113834381103516, acc is: 0.6796875\n",
      "epoch: 3, iter: 100, loss is: 0.6250606179237366, acc is: 0.6796875\n",
      "epoch: 3, iter: 200, loss is: 0.6376572847366333, acc is: 0.640625\n",
      "epoch: 3, iter: 300, loss is: 0.5612004995346069, acc is: 0.6640625\n",
      "--------------------------------------------------\n",
      "epoch: 3, val_loss: 0.6232383586466312, val_f1: 0.6125800556321925, val_acc: 0.6455\n",
      "--------------------------------------------------\n",
      "epoch: 4, iter: 0, loss is: 0.5825719237327576, acc is: 0.703125\n",
      "epoch: 4, iter: 100, loss is: 0.5668030977249146, acc is: 0.703125\n",
      "epoch: 4, iter: 200, loss is: 0.5973437428474426, acc is: 0.6640625\n",
      "epoch: 4, iter: 300, loss is: 0.5874110460281372, acc is: 0.6796875\n",
      "--------------------------------------------------\n",
      "epoch: 4, val_loss: 0.6193996854126453, val_f1: 0.6186192702477002, val_acc: 0.6375\n",
      "--------------------------------------------------\n",
      "epoch: 5, iter: 0, loss is: 0.5769316554069519, acc is: 0.703125\n",
      "epoch: 5, iter: 100, loss is: 0.5114404559135437, acc is: 0.75\n",
      "epoch: 5, iter: 200, loss is: 0.5747405290603638, acc is: 0.6484375\n"
     ]
    },
    {
     "ename": "KeyboardInterrupt",
     "evalue": "",
     "output_type": "error",
     "traceback": [
      "\u001b[1;31m---------------------------------------------------------------------------\u001b[0m",
      "\u001b[1;31mKeyboardInterrupt\u001b[0m                         Traceback (most recent call last)",
      "\u001b[1;32m<ipython-input-31-3f871a20572f>\u001b[0m in \u001b[0;36m<module>\u001b[1;34m\u001b[0m\n\u001b[0;32m     13\u001b[0m         \u001b[0mconf\u001b[0m\u001b[1;33m.\u001b[0m\u001b[0mvocab_size\u001b[0m \u001b[1;33m=\u001b[0m \u001b[0mlen\u001b[0m\u001b[1;33m(\u001b[0m\u001b[0mvocab\u001b[0m\u001b[1;33m)\u001b[0m\u001b[1;33m\u001b[0m\u001b[1;33m\u001b[0m\u001b[0m\n\u001b[0;32m     14\u001b[0m         \u001b[1;31m# 训练模型\u001b[0m\u001b[1;33m\u001b[0m\u001b[1;33m\u001b[0m\u001b[1;33m\u001b[0m\u001b[0m\n\u001b[1;32m---> 15\u001b[1;33m         \u001b[0mmodel\u001b[0m \u001b[1;33m=\u001b[0m \u001b[0mtrain\u001b[0m\u001b[1;33m(\u001b[0m\u001b[0mtrain_df\u001b[0m\u001b[1;33m,\u001b[0m \u001b[0mdev_df\u001b[0m\u001b[1;33m,\u001b[0m \u001b[0mwv_model\u001b[0m\u001b[1;33m,\u001b[0m \u001b[0mconf\u001b[0m\u001b[1;33m)\u001b[0m\u001b[1;33m\u001b[0m\u001b[1;33m\u001b[0m\u001b[0m\n\u001b[0m\u001b[0;32m     16\u001b[0m         \u001b[1;32mif\u001b[0m \u001b[0mconf\u001b[0m\u001b[1;33m.\u001b[0m\u001b[0msave_model\u001b[0m \u001b[1;32mis\u001b[0m \u001b[1;32mTrue\u001b[0m\u001b[1;33m:\u001b[0m\u001b[1;33m\u001b[0m\u001b[1;33m\u001b[0m\u001b[0m\n\u001b[0;32m     17\u001b[0m             \u001b[0mtorch\u001b[0m\u001b[1;33m.\u001b[0m\u001b[0msave\u001b[0m\u001b[1;33m(\u001b[0m\u001b[0mmodel\u001b[0m\u001b[1;33m,\u001b[0m \u001b[1;34m'model/'\u001b[0m \u001b[1;33m+\u001b[0m \u001b[0mconf\u001b[0m\u001b[1;33m.\u001b[0m\u001b[0mdataset\u001b[0m \u001b[1;33m+\u001b[0m \u001b[1;34m'.pkl'\u001b[0m\u001b[1;33m)\u001b[0m\u001b[1;33m\u001b[0m\u001b[1;33m\u001b[0m\u001b[0m\n",
      "\u001b[1;32m<ipython-input-22-f6e842551a46>\u001b[0m in \u001b[0;36mtrain\u001b[1;34m(train_df, dev_df, wv_model, config)\u001b[0m\n\u001b[0;32m     27\u001b[0m             \u001b[0mlabel\u001b[0m \u001b[1;33m=\u001b[0m \u001b[0mmini_batch\u001b[0m\u001b[1;33m[\u001b[0m\u001b[1;34m'label'\u001b[0m\u001b[1;33m]\u001b[0m\u001b[1;33m\u001b[0m\u001b[1;33m\u001b[0m\u001b[0m\n\u001b[0;32m     28\u001b[0m             \u001b[1;31m# 训练\u001b[0m\u001b[1;33m\u001b[0m\u001b[1;33m\u001b[0m\u001b[1;33m\u001b[0m\u001b[0m\n\u001b[1;32m---> 29\u001b[1;33m             \u001b[0my_pred\u001b[0m \u001b[1;33m=\u001b[0m \u001b[0mmodel\u001b[0m\u001b[1;33m(\u001b[0m\u001b[0mtext_a\u001b[0m\u001b[1;33m,\u001b[0m \u001b[0mtext_b\u001b[0m\u001b[1;33m)\u001b[0m\u001b[1;33m\u001b[0m\u001b[1;33m\u001b[0m\u001b[0m\n\u001b[0m\u001b[0;32m     30\u001b[0m             \u001b[1;31m# 计算损失\u001b[0m\u001b[1;33m\u001b[0m\u001b[1;33m\u001b[0m\u001b[1;33m\u001b[0m\u001b[0m\n\u001b[0;32m     31\u001b[0m             \u001b[0mloss\u001b[0m \u001b[1;33m=\u001b[0m \u001b[0mloss_fn\u001b[0m\u001b[1;33m(\u001b[0m\u001b[0my_pred\u001b[0m\u001b[1;33m,\u001b[0m \u001b[0mlabel\u001b[0m\u001b[1;33m)\u001b[0m\u001b[1;33m\u001b[0m\u001b[1;33m\u001b[0m\u001b[0m\n",
      "\u001b[1;32m~\\anaconda3\\lib\\site-packages\\torch\\nn\\modules\\module.py\u001b[0m in \u001b[0;36m_call_impl\u001b[1;34m(self, *input, **kwargs)\u001b[0m\n\u001b[0;32m   1100\u001b[0m         if not (self._backward_hooks or self._forward_hooks or self._forward_pre_hooks or _global_backward_hooks\n\u001b[0;32m   1101\u001b[0m                 or _global_forward_hooks or _global_forward_pre_hooks):\n\u001b[1;32m-> 1102\u001b[1;33m             \u001b[1;32mreturn\u001b[0m \u001b[0mforward_call\u001b[0m\u001b[1;33m(\u001b[0m\u001b[1;33m*\u001b[0m\u001b[0minput\u001b[0m\u001b[1;33m,\u001b[0m \u001b[1;33m**\u001b[0m\u001b[0mkwargs\u001b[0m\u001b[1;33m)\u001b[0m\u001b[1;33m\u001b[0m\u001b[1;33m\u001b[0m\u001b[0m\n\u001b[0m\u001b[0;32m   1103\u001b[0m         \u001b[1;31m# Do not call functions when jit is used\u001b[0m\u001b[1;33m\u001b[0m\u001b[1;33m\u001b[0m\u001b[1;33m\u001b[0m\u001b[0m\n\u001b[0;32m   1104\u001b[0m         \u001b[0mfull_backward_hooks\u001b[0m\u001b[1;33m,\u001b[0m \u001b[0mnon_full_backward_hooks\u001b[0m \u001b[1;33m=\u001b[0m \u001b[1;33m[\u001b[0m\u001b[1;33m]\u001b[0m\u001b[1;33m,\u001b[0m \u001b[1;33m[\u001b[0m\u001b[1;33m]\u001b[0m\u001b[1;33m\u001b[0m\u001b[1;33m\u001b[0m\u001b[0m\n",
      "\u001b[1;32m<ipython-input-19-cbf6fd02c2ef>\u001b[0m in \u001b[0;36mforward\u001b[1;34m(self, words_a, words_b)\u001b[0m\n\u001b[0;32m     89\u001b[0m         \u001b[1;31m# 使用ESIM叠加的双向RNN 进行编码\u001b[0m\u001b[1;33m\u001b[0m\u001b[1;33m\u001b[0m\u001b[1;33m\u001b[0m\u001b[0m\n\u001b[0;32m     90\u001b[0m         \u001b[0mquery\u001b[0m \u001b[1;33m=\u001b[0m \u001b[0mself\u001b[0m\u001b[1;33m.\u001b[0m\u001b[0minput_encoding\u001b[0m\u001b[1;33m(\u001b[0m\u001b[0mquery\u001b[0m\u001b[1;33m)\u001b[0m  \u001b[1;31m# (B, L, H)\u001b[0m\u001b[1;33m\u001b[0m\u001b[1;33m\u001b[0m\u001b[0m\n\u001b[1;32m---> 91\u001b[1;33m         \u001b[0mdoc\u001b[0m \u001b[1;33m=\u001b[0m \u001b[0mself\u001b[0m\u001b[1;33m.\u001b[0m\u001b[0minput_encoding\u001b[0m\u001b[1;33m(\u001b[0m\u001b[0mdoc\u001b[0m\u001b[1;33m)\u001b[0m  \u001b[1;31m# (B, R, H)\u001b[0m\u001b[1;33m\u001b[0m\u001b[1;33m\u001b[0m\u001b[0m\n\u001b[0m\u001b[0;32m     92\u001b[0m         \u001b[1;31m# -----------------------  encoding  ---------------------#\u001b[0m\u001b[1;33m\u001b[0m\u001b[1;33m\u001b[0m\u001b[1;33m\u001b[0m\u001b[0m\n\u001b[0;32m     93\u001b[0m \u001b[1;33m\u001b[0m\u001b[0m\n",
      "\u001b[1;32m~\\anaconda3\\lib\\site-packages\\torch\\nn\\modules\\module.py\u001b[0m in \u001b[0;36m_call_impl\u001b[1;34m(self, *input, **kwargs)\u001b[0m\n\u001b[0;32m   1100\u001b[0m         if not (self._backward_hooks or self._forward_hooks or self._forward_pre_hooks or _global_backward_hooks\n\u001b[0;32m   1101\u001b[0m                 or _global_forward_hooks or _global_forward_pre_hooks):\n\u001b[1;32m-> 1102\u001b[1;33m             \u001b[1;32mreturn\u001b[0m \u001b[0mforward_call\u001b[0m\u001b[1;33m(\u001b[0m\u001b[1;33m*\u001b[0m\u001b[0minput\u001b[0m\u001b[1;33m,\u001b[0m \u001b[1;33m**\u001b[0m\u001b[0mkwargs\u001b[0m\u001b[1;33m)\u001b[0m\u001b[1;33m\u001b[0m\u001b[1;33m\u001b[0m\u001b[0m\n\u001b[0m\u001b[0;32m   1103\u001b[0m         \u001b[1;31m# Do not call functions when jit is used\u001b[0m\u001b[1;33m\u001b[0m\u001b[1;33m\u001b[0m\u001b[1;33m\u001b[0m\u001b[0m\n\u001b[0;32m   1104\u001b[0m         \u001b[0mfull_backward_hooks\u001b[0m\u001b[1;33m,\u001b[0m \u001b[0mnon_full_backward_hooks\u001b[0m \u001b[1;33m=\u001b[0m \u001b[1;33m[\u001b[0m\u001b[1;33m]\u001b[0m\u001b[1;33m,\u001b[0m \u001b[1;33m[\u001b[0m\u001b[1;33m]\u001b[0m\u001b[1;33m\u001b[0m\u001b[1;33m\u001b[0m\u001b[0m\n",
      "\u001b[1;32m<ipython-input-17-4286520f439b>\u001b[0m in \u001b[0;36mforward\u001b[1;34m(self, x)\u001b[0m\n\u001b[0;32m     32\u001b[0m \u001b[1;33m\u001b[0m\u001b[0m\n\u001b[0;32m     33\u001b[0m             \u001b[1;31m# 取上一层的RNN结果传入当前层的RNN\u001b[0m\u001b[1;33m\u001b[0m\u001b[1;33m\u001b[0m\u001b[1;33m\u001b[0m\u001b[0m\n\u001b[1;32m---> 34\u001b[1;33m             \u001b[0mrnn_output\u001b[0m \u001b[1;33m=\u001b[0m \u001b[0mself\u001b[0m\u001b[1;33m.\u001b[0m\u001b[0mrnns\u001b[0m\u001b[1;33m[\u001b[0m\u001b[0mi\u001b[0m\u001b[1;33m]\u001b[0m\u001b[1;33m(\u001b[0m\u001b[0mrnn_input\u001b[0m\u001b[1;33m)\u001b[0m\u001b[1;33m[\u001b[0m\u001b[1;36m0\u001b[0m\u001b[1;33m]\u001b[0m  \u001b[1;31m# 只获取output,无需使用h_n,c_n\u001b[0m\u001b[1;33m\u001b[0m\u001b[1;33m\u001b[0m\u001b[0m\n\u001b[0m\u001b[0;32m     35\u001b[0m             \u001b[1;31m# 添加结果\u001b[0m\u001b[1;33m\u001b[0m\u001b[1;33m\u001b[0m\u001b[1;33m\u001b[0m\u001b[0m\n\u001b[0;32m     36\u001b[0m             \u001b[0moutputs\u001b[0m\u001b[1;33m.\u001b[0m\u001b[0mappend\u001b[0m\u001b[1;33m(\u001b[0m\u001b[0mrnn_output\u001b[0m\u001b[1;33m)\u001b[0m\u001b[1;33m\u001b[0m\u001b[1;33m\u001b[0m\u001b[0m\n",
      "\u001b[1;32m~\\anaconda3\\lib\\site-packages\\torch\\nn\\modules\\module.py\u001b[0m in \u001b[0;36m_call_impl\u001b[1;34m(self, *input, **kwargs)\u001b[0m\n\u001b[0;32m   1100\u001b[0m         if not (self._backward_hooks or self._forward_hooks or self._forward_pre_hooks or _global_backward_hooks\n\u001b[0;32m   1101\u001b[0m                 or _global_forward_hooks or _global_forward_pre_hooks):\n\u001b[1;32m-> 1102\u001b[1;33m             \u001b[1;32mreturn\u001b[0m \u001b[0mforward_call\u001b[0m\u001b[1;33m(\u001b[0m\u001b[1;33m*\u001b[0m\u001b[0minput\u001b[0m\u001b[1;33m,\u001b[0m \u001b[1;33m**\u001b[0m\u001b[0mkwargs\u001b[0m\u001b[1;33m)\u001b[0m\u001b[1;33m\u001b[0m\u001b[1;33m\u001b[0m\u001b[0m\n\u001b[0m\u001b[0;32m   1103\u001b[0m         \u001b[1;31m# Do not call functions when jit is used\u001b[0m\u001b[1;33m\u001b[0m\u001b[1;33m\u001b[0m\u001b[1;33m\u001b[0m\u001b[0m\n\u001b[0;32m   1104\u001b[0m         \u001b[0mfull_backward_hooks\u001b[0m\u001b[1;33m,\u001b[0m \u001b[0mnon_full_backward_hooks\u001b[0m \u001b[1;33m=\u001b[0m \u001b[1;33m[\u001b[0m\u001b[1;33m]\u001b[0m\u001b[1;33m,\u001b[0m \u001b[1;33m[\u001b[0m\u001b[1;33m]\u001b[0m\u001b[1;33m\u001b[0m\u001b[1;33m\u001b[0m\u001b[0m\n",
      "\u001b[1;32m~\\anaconda3\\lib\\site-packages\\torch\\nn\\modules\\rnn.py\u001b[0m in \u001b[0;36mforward\u001b[1;34m(self, input, hx)\u001b[0m\n\u001b[0;32m    689\u001b[0m         \u001b[0mself\u001b[0m\u001b[1;33m.\u001b[0m\u001b[0mcheck_forward_args\u001b[0m\u001b[1;33m(\u001b[0m\u001b[0minput\u001b[0m\u001b[1;33m,\u001b[0m \u001b[0mhx\u001b[0m\u001b[1;33m,\u001b[0m \u001b[0mbatch_sizes\u001b[0m\u001b[1;33m)\u001b[0m\u001b[1;33m\u001b[0m\u001b[1;33m\u001b[0m\u001b[0m\n\u001b[0;32m    690\u001b[0m         \u001b[1;32mif\u001b[0m \u001b[0mbatch_sizes\u001b[0m \u001b[1;32mis\u001b[0m \u001b[1;32mNone\u001b[0m\u001b[1;33m:\u001b[0m\u001b[1;33m\u001b[0m\u001b[1;33m\u001b[0m\u001b[0m\n\u001b[1;32m--> 691\u001b[1;33m             result = _VF.lstm(input, hx, self._flat_weights, self.bias, self.num_layers,\n\u001b[0m\u001b[0;32m    692\u001b[0m                               self.dropout, self.training, self.bidirectional, self.batch_first)\n\u001b[0;32m    693\u001b[0m         \u001b[1;32melse\u001b[0m\u001b[1;33m:\u001b[0m\u001b[1;33m\u001b[0m\u001b[1;33m\u001b[0m\u001b[0m\n",
      "\u001b[1;31mKeyboardInterrupt\u001b[0m: "
     ]
    }
   ],
   "source": [
    "for data in data_list:\n",
    "    # 配置文件\n",
    "    conf = Config()\n",
    "    conf.device = 'cuda' if torch.cuda.is_available() else 'cpu'\n",
    "    conf.dataset = data\n",
    "    # 读取数据\n",
    "    train_df, dev_df, test_df, vocab = data_reader(conf.dataset, conf)\n",
    "\n",
    "    if conf.load_model is False:\n",
    "        # 加载测向量\n",
    "        wv_model = load_wv(train_df, dev_df, test_df, conf, conf.dataset)\n",
    "        # 更新词典大小\n",
    "        conf.vocab_size = len(vocab)\n",
    "        # 训练模型\n",
    "        model = train(train_df, dev_df, wv_model, conf)\n",
    "        if conf.save_model is True:\n",
    "            torch.save(model, 'model/' + conf.dataset + '.pkl')\n",
    "    else:\n",
    "        model = torch.load('model/' + conf.dataset + '.pkl')\n",
    "\n",
    "    # 推理模型\n",
    "    predict_labels = predict(conf, model, test_df)\n",
    "    # 保存结果\n",
    "    test_df['index'] = test_df.index\n",
    "    test_df['prediction'] = predict_labels\n",
    "    test_df.to_csv('result/' + conf.dataset + '.tsv', index=False, columns=['index', 'prediction'], sep='\\t')"
   ]
  },
  {
   "cell_type": "code",
   "execution_count": null,
   "id": "c66933f9",
   "metadata": {},
   "outputs": [],
   "source": []
  }
 ],
 "metadata": {
  "kernelspec": {
   "display_name": "Python 3",
   "language": "python",
   "name": "python3"
  },
  "language_info": {
   "codemirror_mode": {
    "name": "ipython",
    "version": 3
   },
   "file_extension": ".py",
   "mimetype": "text/x-python",
   "name": "python",
   "nbconvert_exporter": "python",
   "pygments_lexer": "ipython3",
   "version": "3.8.8"
  },
  "varInspector": {
   "cols": {
    "lenName": 16,
    "lenType": 16,
    "lenVar": 40
   },
   "kernels_config": {
    "python": {
     "delete_cmd_postfix": "",
     "delete_cmd_prefix": "del ",
     "library": "var_list.py",
     "varRefreshCmd": "print(var_dic_list())"
    },
    "r": {
     "delete_cmd_postfix": ") ",
     "delete_cmd_prefix": "rm(",
     "library": "var_list.r",
     "varRefreshCmd": "cat(var_dic_list()) "
    }
   },
   "types_to_exclude": [
    "module",
    "function",
    "builtin_function_or_method",
    "instance",
    "_Feature"
   ],
   "window_display": false
  }
 },
 "nbformat": 4,
 "nbformat_minor": 5
}
