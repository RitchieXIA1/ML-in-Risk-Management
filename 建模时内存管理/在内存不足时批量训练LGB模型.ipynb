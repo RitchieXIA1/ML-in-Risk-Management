{
 "cells": [
  {
   "cell_type": "code",
   "execution_count": null,
   "id": "8c591982",
   "metadata": {},
   "outputs": [],
   "source": [
    "gbm=None\n",
    "params = {\n",
    "        'task': 'train',\n",
    "        'application': 'regression',\n",
    "        'boosting_type': 'gbdt',\n",
    "        'learning_rate': 0.2,\n",
    "        'num_leaves': 31,\n",
    "        'tree_learner': 'serial',\n",
    "        'min_data_in_leaf': 100,\n",
    "        'metric': ['l1','l2','rmse'],  # l1:mae, l2:mse\n",
    "        'max_bin': 255,\n",
    "        'num_trees': 300\n",
    "    }\n",
    "# 第二步，流式读取数据(每次10万)\n",
    "i=1\n",
    "for sub_data in pd.read_csv(file, chunksize=100000)\n",
    "    # 区分特征x和结果Y\n",
    "    x_data = sub_data[x_cols]\n",
    "    y_data = sub_data[y_col]\n",
    " \n",
    "    # 创建lgb的数据集\n",
    "    lgb_train = lgb.Dataset(x_data, y_data.values)\n",
    "    lgb_eval = lgb.Dataset(test[x_cols], test[y_col].values, reference=lgb_train)\n",
    " \n",
    "    # 第三步：增量训练模型\n",
    "    # 重点来了，通过 init_model 和 keep_training_booster 两个参数实现增量训练\n",
    "    gbm = lgb.train(params,\n",
    "                    lgb_train,\n",
    "                    num_boost_round=1000,\n",
    "                    valid_sets=lgb_eval,\n",
    "                    init_model=gbm,             # 如果gbm不为None，那么就是在上次的基础上接着训练\n",
    "                    feature_name=x_cols,\n",
    "                    early_stopping_rounds=10,\n",
    "                    verbose_eval=False,\n",
    "                    keep_training_booster=True) # 增量训练 \n",
    " \n",
    "    # 输出模型评估分数\n",
    "    score_train = dict([(s[1], s[2]) for s in gbm.eval_train()])\n",
    "    score_valid = dict([(s[1], s[2]) for s in gbm.eval_valid()])\n",
    "    print('当前模型在训练集的得分是：mae=%.4f, mse=%.4f, rmse=%.4f'%(score_train['l1'], score_train['l2'], score_train['rmse']))\n",
    "    print('当前模型在测试集的得分是：mae=%.4f, mse=%.4f, rmse=%.4f' % (score_valid['l1'], score_valid['l2'], score_valid['rmse']))\n",
    "    i += 1"
   ]
  }
 ],
 "metadata": {
  "kernelspec": {
   "display_name": "Python 3",
   "language": "python",
   "name": "python3"
  },
  "language_info": {
   "codemirror_mode": {
    "name": "ipython",
    "version": 3
   },
   "file_extension": ".py",
   "mimetype": "text/x-python",
   "name": "python",
   "nbconvert_exporter": "python",
   "pygments_lexer": "ipython3",
   "version": "3.8.8"
  },
  "varInspector": {
   "cols": {
    "lenName": 16,
    "lenType": 16,
    "lenVar": 40
   },
   "kernels_config": {
    "python": {
     "delete_cmd_postfix": "",
     "delete_cmd_prefix": "del ",
     "library": "var_list.py",
     "varRefreshCmd": "print(var_dic_list())"
    },
    "r": {
     "delete_cmd_postfix": ") ",
     "delete_cmd_prefix": "rm(",
     "library": "var_list.r",
     "varRefreshCmd": "cat(var_dic_list()) "
    }
   },
   "types_to_exclude": [
    "module",
    "function",
    "builtin_function_or_method",
    "instance",
    "_Feature"
   ],
   "window_display": false
  }
 },
 "nbformat": 4,
 "nbformat_minor": 5
}
