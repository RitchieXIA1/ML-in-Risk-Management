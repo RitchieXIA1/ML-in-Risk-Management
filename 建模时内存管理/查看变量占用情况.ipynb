{
 "cells": [
  {
   "cell_type": "code",
   "execution_count": null,
   "id": "c1065eb2",
   "metadata": {},
   "outputs": [],
   "source": [
    "def show_memory(unit='KB', threshold=1):\n",
    "    '''查看变量占用内存情况\n",
    "\n",
    "    :param unit: 显示的单位，可为`B`,`KB`,`MB`,`GB`\n",
    "    :param threshold: 仅显示内存数值大于等于threshold的变量\n",
    "    '''\n",
    "    from sys import getsizeof\n",
    "    scale = {'B': 1, 'KB': 1024, 'MB': 1048576, 'GB': 1073741824}[unit]\n",
    "    for i in list(globals().keys()):\n",
    "        memory = eval(\"getsizeof({})\".format(i)) // scale\n",
    "        if memory >= threshold:\n",
    "            print(['VAR'+i+' consume '+str(memory)+' kb'])\n",
    "\n",
    "\n",
    "if __name__ == '__main__':\n",
    "    a = [i for i in range(10000)]\n",
    "    show_memory()"
   ]
  }
 ],
 "metadata": {
  "kernelspec": {
   "display_name": "Python 3",
   "language": "python",
   "name": "python3"
  },
  "language_info": {
   "codemirror_mode": {
    "name": "ipython",
    "version": 3
   },
   "file_extension": ".py",
   "mimetype": "text/x-python",
   "name": "python",
   "nbconvert_exporter": "python",
   "pygments_lexer": "ipython3",
   "version": "3.8.8"
  },
  "varInspector": {
   "cols": {
    "lenName": 16,
    "lenType": 16,
    "lenVar": 40
   },
   "kernels_config": {
    "python": {
     "delete_cmd_postfix": "",
     "delete_cmd_prefix": "del ",
     "library": "var_list.py",
     "varRefreshCmd": "print(var_dic_list())"
    },
    "r": {
     "delete_cmd_postfix": ") ",
     "delete_cmd_prefix": "rm(",
     "library": "var_list.r",
     "varRefreshCmd": "cat(var_dic_list()) "
    }
   },
   "types_to_exclude": [
    "module",
    "function",
    "builtin_function_or_method",
    "instance",
    "_Feature"
   ],
   "window_display": false
  }
 },
 "nbformat": 4,
 "nbformat_minor": 5
}
