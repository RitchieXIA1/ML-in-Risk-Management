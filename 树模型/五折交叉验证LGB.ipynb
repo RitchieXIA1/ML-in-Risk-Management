{
 "cells": [
  {
   "cell_type": "code",
   "execution_count": null,
   "id": "20584a05",
   "metadata": {},
   "outputs": [],
   "source": [
    "def lgb_train(train_, test_, feature_list):\n",
    "    print(f'Start train lgb model, file describe: ', train_.shape, test_.shape)\n",
    "    params = {\n",
    "        'learning_rate': 0.01,\n",
    "        'boosting_type': 'gbdt',\n",
    "        'objective': 'binary',\n",
    "        'metric': 'auc',\n",
    "        'num_leaves': 62,\n",
    "        'feature_fraction': 0.7,\n",
    "        'bagging_fraction': 0.7,\n",
    "        'bagging_freq': 5,\n",
    "        'seed': 1,\n",
    "        'bagging_seed': 3,\n",
    "        'feature_fraction_seed': 2,\n",
    "        'min_data_in_leaf': 20,\n",
    "        'verbose': -1,\n",
    "        'nthread': -1\n",
    "    }\n",
    "    n_split = 5\n",
    "    X, y = train_[feature_list], train_['label']\n",
    "    skf = StratifiedKFold(n_splits=n_split, random_state=1024, shuffle=True)\n",
    "    roc_list = []\n",
    "    sub_prob = np.zeros((test_.shape[0], n_split))\n",
    "    feat_imp = pd.DataFrame()\n",
    "    feat_imp['features'] = feature_list\n",
    "    for index, (train_index, test_index) in enumerate(skf.split(X, y), start=1):\n",
    "        print(f'the {index} training start ...')\n",
    "        X_train, X_valid, y_train, y_valid = X.iloc[train_index], X.iloc[test_index], y.iloc[train_index], y.iloc[test_index]\n",
    "        print(X_train.shape, X_valid.shape)\n",
    "        train_data = lgb.Dataset(X_train, label=y_train)\n",
    "        valid_data = lgb.Dataset(X_valid, label=y_valid)\n",
    "        gbm = lgb.train(params, train_data,\n",
    "                        num_boost_round=5000,\n",
    "                        valid_sets=valid_data,\n",
    "                        early_stopping_rounds=100,\n",
    "                        verbose_eval=100)\n",
    "        feat_imp[f'Fold_{index}_imp'] = gbm.feature_importance()\n",
    "        x_pred = gbm.predict(X_valid, num_iteration=gbm.best_iteration)\n",
    "        roc_list.append(roc_auc_score(y_valid, x_pred))\n",
    "        sub_prob[:, index - 1] = gbm.predict(test_[feature_list], num_iteration=gbm.best_iteration)\n",
    "    feat_imp['imp_mean'] = (feat_imp[f'Fold_1_imp'] + feat_imp[f'Fold_2_imp'] + feat_imp[f'Fold_3_imp'] +\n",
    "    feat_imp[f'Fold_4_imp'] + feat_imp[f'Fold_5_imp']) / 5\n",
    "    feat_imp.to_csv('LBG1.csv', index=False, encoding='gbk')\n",
    "    test_['prob'] = np.mean(sub_prob, axis=1)\n",
    "    date = time.strftime('%Y%m%d_%H%M%S')\n",
    "    test_[['id', 'prob']].to_csv(f'LGB{date}.txt', encoding='utf8', index=False)\n",
    "    print('submit file successful generate ...')\n",
    "    print(f'{n_split} folds: {roc_list}, avg: {np.mean(roc_list)}')"
   ]
  }
 ],
 "metadata": {
  "kernelspec": {
   "display_name": "Python 3 (ipykernel)",
   "language": "python",
   "name": "python3"
  },
  "language_info": {
   "codemirror_mode": {
    "name": "ipython",
    "version": 3
   },
   "file_extension": ".py",
   "mimetype": "text/x-python",
   "name": "python",
   "nbconvert_exporter": "python",
   "pygments_lexer": "ipython3",
   "version": "3.8.5"
  },
  "toc": {
   "base_numbering": 1,
   "nav_menu": {},
   "number_sections": true,
   "sideBar": true,
   "skip_h1_title": false,
   "title_cell": "Table of Contents",
   "title_sidebar": "Contents",
   "toc_cell": false,
   "toc_position": {},
   "toc_section_display": true,
   "toc_window_display": false
  },
  "varInspector": {
   "cols": {
    "lenName": 16,
    "lenType": 16,
    "lenVar": 40
   },
   "kernels_config": {
    "python": {
     "delete_cmd_postfix": "",
     "delete_cmd_prefix": "del ",
     "library": "var_list.py",
     "varRefreshCmd": "print(var_dic_list())"
    },
    "r": {
     "delete_cmd_postfix": ") ",
     "delete_cmd_prefix": "rm(",
     "library": "var_list.r",
     "varRefreshCmd": "cat(var_dic_list()) "
    }
   },
   "types_to_exclude": [
    "module",
    "function",
    "builtin_function_or_method",
    "instance",
    "_Feature"
   ],
   "window_display": false
  }
 },
 "nbformat": 4,
 "nbformat_minor": 5
}
