{
 "cells": [
  {
   "cell_type": "markdown",
   "id": "b1e33abb",
   "metadata": {},
   "source": [
    "使用treelite包进行预测加速，可以让速度提升2-6倍\n",
    "原理1：提前预知哪一个叶子节点被执行的可能性更大，进而可以提前执行子节点逻辑。\n",
    "2：原始的分支比较可能会有浮点数比较逻辑，可以量化为数值比较逻辑\n",
    "3.可以转化为so格式文件方便其他语言调用，并且避免参数泄漏"
   ]
  },
  {
   "cell_type": "code",
   "execution_count": null,
   "id": "46f50428",
   "metadata": {},
   "outputs": [],
   "source": [
    "import treelite\n",
    "import numpy as np\n",
    "import time\n",
    "from sklearn.datasets import make_classification\n",
    "\n",
    "X, y = make_classification(n_samples=100000, n_features=1000)"
   ]
  },
  {
   "cell_type": "code",
   "execution_count": null,
   "id": "6284618c",
   "metadata": {},
   "outputs": [],
   "source": [
    "import xgboost\n",
    "dtrain = xgboost.DMatrix(X, label=y)\n",
    "params = {'max_depth':3, 'eta':1, 'objective':'reg:squarederror', 'eval_metric':'rmse'}\n",
    "bst = xgboost.train(params, dtrain, 20, [(dtrain, 'train')])"
   ]
  },
  {
   "cell_type": "code",
   "execution_count": null,
   "id": "d83ebc63",
   "metadata": {},
   "outputs": [],
   "source": [
    "model = treelite.Model.from_xgboost(bst)\n",
    "\n",
    "toolchain = 'gcc'   # change this value as necessary\n",
    "model.export_lib(toolchain=toolchain, libpath='./mymodel.so', verbose=True)"
   ]
  },
  {
   "cell_type": "code",
   "execution_count": null,
   "id": "46eb6f00",
   "metadata": {},
   "outputs": [],
   "source": [
    "import treelite_runtime     # runtime module\n",
    "predictor = treelite_runtime.Predictor('./mymodel.so', verbose=True)"
   ]
  },
  {
   "cell_type": "code",
   "execution_count": null,
   "id": "3fa9b570",
   "metadata": {},
   "outputs": [],
   "source": [
    "nrows = [1000, 10000, 100000, 200000]\n",
    "xgb_time = []\n",
    "tree_lite = []\n",
    "for nrow in nrows:\n",
    "    data = np.random.random((nrow, 1000))\n",
    "    dtrain = xgboost.DMatrix(data)\n",
    "    \n",
    "    start = time.time()\n",
    "    _ = bst.predict(dtrain)\n",
    "    xgb_time.append(time.time() - start)\n",
    "    \n",
    "    batch = treelite_runtime.Batch.from_npy2d(data)\n",
    "    \n",
    "    start = time.time()\n",
    "    _ = predictor.predict(batch)\n",
    "    tree_lite.append(time.time() - start)"
   ]
  },
  {
   "cell_type": "code",
   "execution_count": null,
   "id": "0ed31faf",
   "metadata": {},
   "outputs": [],
   "source": [
    "import lightgbm as lgb\n",
    "\n",
    "params = {\n",
    "    'boosting_type': 'gbdt',\n",
    "    'objective': 'binary',\n",
    "    'max_depth':3,\n",
    "    'metric': 'binary_logloss',\n",
    "    'bagging_freq': 5,\n",
    "    'verbose': 0\n",
    "}\n",
    "\n",
    "lgb_train = lgb.Dataset(X, y)\n",
    "gbm = lgb.train(params,\n",
    "                lgb_train,\n",
    "                num_boost_round=10)\n",
    "\n",
    "gbm.save_model('model.txt')"
   ]
  },
  {
   "cell_type": "code",
   "execution_count": null,
   "id": "fa51488e",
   "metadata": {},
   "outputs": [],
   "source": [
    "model = treelite.Model.load('model.txt', model_format='lightgbm')\n",
    "\n",
    "toolchain = 'gcc'   # change this value as necessary\n",
    "model.export_lib(toolchain=toolchain, libpath='./mymodel.so', verbose=True)"
   ]
  },
  {
   "cell_type": "code",
   "execution_count": null,
   "id": "d489be9e",
   "metadata": {},
   "outputs": [],
   "source": [
    "predictor = treelite_runtime.Predictor('mymodel.so', verbose=True)"
   ]
  },
  {
   "cell_type": "code",
   "execution_count": null,
   "id": "9e8b88f8",
   "metadata": {},
   "outputs": [],
   "source": [
    "data = treelite_runtime.DMatrix(x_train)\n",
    "predictor.predict(data)"
   ]
  }
 ],
 "metadata": {
  "kernelspec": {
   "display_name": "Python 3 (ipykernel)",
   "language": "python",
   "name": "python3"
  },
  "language_info": {
   "codemirror_mode": {
    "name": "ipython",
    "version": 3
   },
   "file_extension": ".py",
   "mimetype": "text/x-python",
   "name": "python",
   "nbconvert_exporter": "python",
   "pygments_lexer": "ipython3",
   "version": "3.8.5"
  },
  "toc": {
   "base_numbering": 1,
   "nav_menu": {},
   "number_sections": true,
   "sideBar": true,
   "skip_h1_title": false,
   "title_cell": "Table of Contents",
   "title_sidebar": "Contents",
   "toc_cell": false,
   "toc_position": {},
   "toc_section_display": true,
   "toc_window_display": false
  },
  "varInspector": {
   "cols": {
    "lenName": 16,
    "lenType": 16,
    "lenVar": 40
   },
   "kernels_config": {
    "python": {
     "delete_cmd_postfix": "",
     "delete_cmd_prefix": "del ",
     "library": "var_list.py",
     "varRefreshCmd": "print(var_dic_list())"
    },
    "r": {
     "delete_cmd_postfix": ") ",
     "delete_cmd_prefix": "rm(",
     "library": "var_list.r",
     "varRefreshCmd": "cat(var_dic_list()) "
    }
   },
   "types_to_exclude": [
    "module",
    "function",
    "builtin_function_or_method",
    "instance",
    "_Feature"
   ],
   "window_display": false
  }
 },
 "nbformat": 4,
 "nbformat_minor": 5
}
