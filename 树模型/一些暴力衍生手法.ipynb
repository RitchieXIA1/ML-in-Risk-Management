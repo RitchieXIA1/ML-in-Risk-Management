{
 "cells": [
  {
   "cell_type": "code",
   "execution_count": null,
   "id": "b3b697fe",
   "metadata": {},
   "outputs": [],
   "source": [
    "columns=features.columns\n",
    "\n",
    "#### 类别特征交叉\n",
    "from itertools import combinations, permutations\n",
    "categories=features.select_dtypes(include='category')\n",
    "categories=categories.astype(str)\n",
    "cross_features=list(combinations(categories.columns.values.tolist(), 2))\n",
    "for item in cross_features:\n",
    "    categories[item[0]+'_'+item[1]]=categories[item[0]].astype(str)+categories[item[1]].astype(str)\n",
    "categories.shape    "
   ]
  },
  {
   "cell_type": "code",
   "execution_count": null,
   "id": "fe535d11",
   "metadata": {},
   "outputs": [],
   "source": [
    "#连续特征加减乘除\n",
    "continues=features.drop(columns,axis=1)\n",
    "cross_features=list(combinations(continues.columns.values.tolist(), 2))\n",
    "for item in cross_features:\n",
    "    continues[item[0]+'+'+item[1]]=continues[item[0]]+continues[item[1]]\n",
    "    continues[item[0]+'-'+item[1]]=continues[item[0]]-continues[item[1]]\n",
    "    continues[item[0]+'/'+item[1]]=continues[item[0]]/continues[item[1]]\n",
    "    continues[item[0]+'*'+item[1]]=continues[item[0]]*continues[item[1]]\n",
    "\n",
    "continues.shape\n"
   ]
  },
  {
   "cell_type": "code",
   "execution_count": null,
   "id": "297b5f6b",
   "metadata": {},
   "outputs": [],
   "source": [
    "total=pd.concat([continues,categories.astype('category')],axis=1)#先把连续交叉和特征交叉的结果合并"
   ]
  },
  {
   "cell_type": "code",
   "execution_count": null,
   "id": "9cb49329",
   "metadata": {},
   "outputs": [],
   "source": [
    "#然后是类别和连续交叉——groupby mean std\n",
    "group_cross=[[i,j] for i in categories.columns for j in continues]\n",
    "for item in group_cross:\n",
    "    total[item[0]+'_'+item[1]+'_mean']=features.groupby(item[0])[item[1]].transform('mean')\n",
    "    total[item[0]+'_'+item[1]+'_std']=features.groupby(item[0])[item[1]].transform('std')"
   ]
  }
 ],
 "metadata": {
  "kernelspec": {
   "display_name": "Python 3",
   "language": "python",
   "name": "python3"
  },
  "language_info": {
   "codemirror_mode": {
    "name": "ipython",
    "version": 3
   },
   "file_extension": ".py",
   "mimetype": "text/x-python",
   "name": "python",
   "nbconvert_exporter": "python",
   "pygments_lexer": "ipython3",
   "version": "3.8.8"
  },
  "varInspector": {
   "cols": {
    "lenName": 16,
    "lenType": 16,
    "lenVar": 40
   },
   "kernels_config": {
    "python": {
     "delete_cmd_postfix": "",
     "delete_cmd_prefix": "del ",
     "library": "var_list.py",
     "varRefreshCmd": "print(var_dic_list())"
    },
    "r": {
     "delete_cmd_postfix": ") ",
     "delete_cmd_prefix": "rm(",
     "library": "var_list.r",
     "varRefreshCmd": "cat(var_dic_list()) "
    }
   },
   "types_to_exclude": [
    "module",
    "function",
    "builtin_function_or_method",
    "instance",
    "_Feature"
   ],
   "window_display": false
  }
 },
 "nbformat": 4,
 "nbformat_minor": 5
}
