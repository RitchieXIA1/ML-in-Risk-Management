{
 "cells": [
  {
   "cell_type": "code",
   "execution_count": 1,
   "id": "3ab19454",
   "metadata": {
    "ExecuteTime": {
     "end_time": "2022-01-29T08:38:17.758660Z",
     "start_time": "2022-01-29T08:38:15.965862Z"
    }
   },
   "outputs": [],
   "source": [
    "import seaborn as sns"
   ]
  },
  {
   "cell_type": "code",
   "execution_count": null,
   "id": "6763f80d",
   "metadata": {},
   "outputs": [],
   "source": [
    "#误差分析，可以看看模型对正例和负例的预测情况\n",
    "normal=y_pred[y_pred.y_true==0]\n",
    "fraud=y_pred[y_pred.y_true==1]\n",
    "normal['y_true-y_pred']=np.abs(normal.y_true-normal.y_pred)\n",
    "fraud['y_true-y_pred']=np.abs(fraud.y_true-fraud.y_pred)"
   ]
  },
  {
   "cell_type": "code",
   "execution_count": null,
   "id": "943b2377",
   "metadata": {},
   "outputs": [],
   "source": [
    "sns.histplot(normal['y_true-y_pred'])"
   ]
  },
  {
   "cell_type": "code",
   "execution_count": null,
   "id": "8bab3f4e",
   "metadata": {},
   "outputs": [],
   "source": [
    "#这个图能看出对坏样本的预测有多少是误差很大的\n",
    "sns.histplot(fraud['y_true-y_pred'])"
   ]
  }
 ],
 "metadata": {
  "kernelspec": {
   "display_name": "Python 3 (ipykernel)",
   "language": "python",
   "name": "python3"
  },
  "language_info": {
   "codemirror_mode": {
    "name": "ipython",
    "version": 3
   },
   "file_extension": ".py",
   "mimetype": "text/x-python",
   "name": "python",
   "nbconvert_exporter": "python",
   "pygments_lexer": "ipython3",
   "version": "3.8.5"
  },
  "toc": {
   "base_numbering": 1,
   "nav_menu": {},
   "number_sections": true,
   "sideBar": true,
   "skip_h1_title": false,
   "title_cell": "Table of Contents",
   "title_sidebar": "Contents",
   "toc_cell": false,
   "toc_position": {},
   "toc_section_display": true,
   "toc_window_display": false
  },
  "varInspector": {
   "cols": {
    "lenName": 16,
    "lenType": 16,
    "lenVar": 40
   },
   "kernels_config": {
    "python": {
     "delete_cmd_postfix": "",
     "delete_cmd_prefix": "del ",
     "library": "var_list.py",
     "varRefreshCmd": "print(var_dic_list())"
    },
    "r": {
     "delete_cmd_postfix": ") ",
     "delete_cmd_prefix": "rm(",
     "library": "var_list.r",
     "varRefreshCmd": "cat(var_dic_list()) "
    }
   },
   "types_to_exclude": [
    "module",
    "function",
    "builtin_function_or_method",
    "instance",
    "_Feature"
   ],
   "window_display": false
  }
 },
 "nbformat": 4,
 "nbformat_minor": 5
}
