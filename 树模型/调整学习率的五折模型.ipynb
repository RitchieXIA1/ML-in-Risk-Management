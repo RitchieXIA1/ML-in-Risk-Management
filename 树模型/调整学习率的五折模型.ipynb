{
 "cells": [
  {
   "cell_type": "code",
   "execution_count": null,
   "id": "b2b9e60b",
   "metadata": {},
   "outputs": [],
   "source": [
    "y = train[\"target\"]\n",
    "kf = KFold(n_splits=5, shuffle=True, random_state=1)\n",
    "oof = np.zeros(len(train))\n",
    "score_list = []\n",
    "fold = 1\n",
    "test_preds = []\n",
    "\n",
    "\n",
    "for train_index, test_index in kf.split(train):\n",
    "    X_train, X_val = train.iloc[train_index], train.iloc[test_index]\n",
    "    y_train, y_val = y.iloc[train_index], y.iloc[test_index]\n",
    "    \n",
    "    \n",
    "\n",
    "    X_train = X_train.abs()\n",
    "\n",
    "    \n",
    "    y_pred_list = []\n",
    "    for seed in [1]:\n",
    "        dtrain = lgbm.Dataset(X_train[cont_features], y_train)\n",
    "        dvalid = lgbm.Dataset(X_val[cont_features], y_val)\n",
    "        print(seed)\n",
    "        params = {\"objective\": \"regression\",\n",
    "              \"metric\": \"rmse\",\n",
    "              \"verbosity\": -1,\n",
    "              \"boosting_type\": \"gbdt\",\n",
    "              \"feature_fraction\":0.5,\n",
    "              \"num_leaves\": 200,\n",
    "              \"lambda_l1\":2,\n",
    "              \"lambda_l2\":2,\n",
    "              \"learning_rate\":0.01,\n",
    "              'min_child_samples': 50,\n",
    "              \"bagging_fraction\":0.7,\n",
    "              \"bagging_freq\":1}\n",
    "        params[\"seed\"] = seed\n",
    "        model = lgbm.train(params,\n",
    "                        dtrain,\n",
    "                        valid_sets=[dtrain, dvalid],\n",
    "                        verbose_eval=100,\n",
    "                        num_boost_round=100000,\n",
    "                        early_stopping_rounds=100\n",
    "                    )\n",
    "        \n",
    "        # Extra boosting.\n",
    "        dtrain = lgbm.Dataset(X_train[cont_features], y_train)\n",
    "        dvalid = lgbm.Dataset(X_val[cont_features], y_val)\n",
    "        params = {\"objective\": \"regression\",\n",
    "              \"metric\": \"rmse\",\n",
    "              \"verbosity\": -1,\n",
    "              \"boosting_type\": \"gbdt\",\n",
    "              \"feature_fraction\":0.5,\n",
    "              \"num_leaves\": 300,\n",
    "              \"lambda_l1\":2,\n",
    "              \"lambda_l2\":2,\n",
    "              \"learning_rate\":0.003,\n",
    "              'min_child_samples': 50,\n",
    "              \"bagging_fraction\":0.7,\n",
    "              \"bagging_freq\":1}\n",
    "\n",
    "        params[\"seed\"] = seed\n",
    "        model = lgbm.train(params,\n",
    "                            dtrain,\n",
    "                            valid_sets=[dtrain, dvalid],\n",
    "                            verbose_eval=100,\n",
    "                            num_boost_round=1000,\n",
    "                           early_stopping_rounds=100,\n",
    "                           init_model = model\n",
    "                        )\n",
    "\n",
    "    \n",
    "    \n",
    "        y_pred_list.append(model.predict(X_val[cont_features]))\n",
    "        test_preds.append(model.predict(test[cont_features]))\n",
    "    \n",
    "   \n",
    "    \n",
    "    oof[test_index] = np.mean(y_pred_list,axis=0)    \n",
    "    score = np.sqrt(mean_squared_error(y_val, oof[test_index]))\n",
    "    score_list.append(score)\n",
    "    print(f\"RMSE Fold-{fold} : {score}\")\n",
    "    fold+=1\n",
    "\n",
    "np.mean(score_list)"
   ]
  }
 ],
 "metadata": {
  "kernelspec": {
   "display_name": "Python 3",
   "language": "python",
   "name": "python3"
  },
  "language_info": {
   "codemirror_mode": {
    "name": "ipython",
    "version": 3
   },
   "file_extension": ".py",
   "mimetype": "text/x-python",
   "name": "python",
   "nbconvert_exporter": "python",
   "pygments_lexer": "ipython3",
   "version": "3.8.8"
  },
  "varInspector": {
   "cols": {
    "lenName": 16,
    "lenType": 16,
    "lenVar": 40
   },
   "kernels_config": {
    "python": {
     "delete_cmd_postfix": "",
     "delete_cmd_prefix": "del ",
     "library": "var_list.py",
     "varRefreshCmd": "print(var_dic_list())"
    },
    "r": {
     "delete_cmd_postfix": ") ",
     "delete_cmd_prefix": "rm(",
     "library": "var_list.r",
     "varRefreshCmd": "cat(var_dic_list()) "
    }
   },
   "types_to_exclude": [
    "module",
    "function",
    "builtin_function_or_method",
    "instance",
    "_Feature"
   ],
   "window_display": false
  }
 },
 "nbformat": 4,
 "nbformat_minor": 5
}
