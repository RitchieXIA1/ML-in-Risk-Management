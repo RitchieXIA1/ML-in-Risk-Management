{
 "cells": [
  {
   "cell_type": "code",
   "execution_count": null,
   "id": "c4734a7d",
   "metadata": {},
   "outputs": [],
   "source": [
    "#如果不能通过检验（>0.1）就需要尝试分箱或者log化\n",
    "from sklearn.model_selection import StratifiedKFold\n",
    "import lightgbm as lgb\n",
    "import gc\n",
    "NFOLDS = 5\n",
    "folds = StratifiedKFold(n_splits=NFOLDS)\n",
    "\n",
    "columns = X.drop(cats,axis=1).columns\n",
    "splits = folds.split(X, y)\n",
    "\n",
    "PSI = pd.DataFrame()\n",
    "PSI['feature'] = columns\n",
    "  \n",
    "for fold_n, (train_index, valid_index) in enumerate(splits):\n",
    "    X_train, X_valid =X.iloc[train_index],X.iloc[valid_index]\n",
    "    y_train, y_valid = y.iloc[train_index], y.iloc[valid_index]    \n",
    "    PSI[f'fold_{fold_n + 1}'] = toad.metrics.PSI(X_train.drop(cats,axis=1),X_valid.drop(cats,axis=1)).values       \n",
    "    del X_train, X_valid, y_train, y_valid\n",
    "    gc.collect()\n",
    "    \n",
    "PSI"
   ]
  },
  {
   "cell_type": "code",
   "execution_count": null,
   "id": "a2ca6b3d",
   "metadata": {},
   "outputs": [],
   "source": [
    "#计算psi的函数，用到toad包\n",
    "def PSI_cal(NFOLDS,X,y,cats):\n",
    "    NFOLDS = NFOLDS\n",
    "    folds = StratifiedKFold(n_splits=NFOLDS)\n",
    "\n",
    "    columns = X.drop(cats,axis=1).columns\n",
    "    splits = folds.split(X, y)\n",
    "\n",
    "    PSI = pd.DataFrame()\n",
    "    PSI['feature'] = columns\n",
    "\n",
    "    for fold_n, (train_index, valid_index) in enumerate(splits):\n",
    "        X_train, X_valid =X.iloc[train_index],X.iloc[valid_index]\n",
    "        y_train, y_valid = y.iloc[train_index], y.iloc[valid_index]\n",
    "\n",
    "\n",
    "\n",
    "        #PSI[f'fold_{fold_n + 1}'] = toad.metrics.PSI(X_train.drop(cats,axis=1),X_valid.drop(cats,axis=1)).values\n",
    "\n",
    "        PSI[f'fold_{fold_n + 1}'] = toad.metrics.PSI(X_train.TransactionAmt,X_valid.TransactionAmt)\n",
    "        del X_train, X_valid, y_train, y_valid\n",
    "        gc.collect()\n",
    "    return PSI.drop('feature',axis=1).iloc[0].mean()"
   ]
  },
  {
   "cell_type": "code",
   "execution_count": null,
   "id": "4a1e019b",
   "metadata": {},
   "outputs": [],
   "source": [
    "#先计算原始iv和psi值\n",
    "print(toad.quality(X[['TransactionAmt','y']],'y').iv.values[0])\n",
    "print(PSI_cal(5,X,y,cats))"
   ]
  },
  {
   "cell_type": "code",
   "execution_count": null,
   "id": "721bb140",
   "metadata": {},
   "outputs": [],
   "source": [
    "#log化\n",
    "TransactionAmt=X.TransactionAmt\n",
    "X.TransactionAmt=np.log1p(X.TransactionAmt)"
   ]
  },
  {
   "cell_type": "code",
   "execution_count": null,
   "id": "f860b023",
   "metadata": {},
   "outputs": [],
   "source": [
    "#决策树分箱\n",
    "iv=[]\n",
    "PSIs=[]\n",
    "for bins in [5,10,15,20,25,30,35,40,45,50]:\n",
    "    bins=toad.DTMerge(TransactionAmt,y,n_bins=bins).tolist()\n",
    "    bins.insert(0,-np.inf)\n",
    "    bins.append(np.inf)\n",
    "    X.TransactionAmt=np.digitize(TransactionAmt,bins)\n",
    "    iv.append(toad.quality(X[['TransactionAmt','y']],'y').iv.values[0])\n",
    "    PSIs.append(PSI_cal(5,X,y,cats))"
   ]
  },
  {
   "cell_type": "code",
   "execution_count": null,
   "id": "ac16d97e",
   "metadata": {},
   "outputs": [],
   "source": [
    "#卡方分箱，一般来说效果最好\n",
    "iv=[]\n",
    "PSIs=[]\n",
    "for bins in [5,10,15,20,25,30,35,40,45,50]:\n",
    "    bins=toad.ChiMerge(TransactionAmt,y,n_bins=bins).tolist() # DTmerge，ChiMerge，KMeansMerge，QuantileMerge\n",
    "    bins.insert(0,-np.inf)\n",
    "    bins.append(np.inf)\n",
    "    X.TransactionAmt=np.digitize(TransactionAmt,bins)\n",
    "    iv.append(toad.quality(X[['TransactionAmt','y']],'y').iv.values[0])\n",
    "    PSIs.append(PSI_cal(5,X,y,cats))"
   ]
  },
  {
   "cell_type": "code",
   "execution_count": null,
   "id": "0e180184",
   "metadata": {},
   "outputs": [],
   "source": [
    "#kmeans分箱\n",
    "iv=[]\n",
    "PSIs=[]\n",
    "for bins in [5,10,15,20,25,30,35,40,45,50]:\n",
    "    bins=toad.KMeansMerge(TransactionAmt,y,n_bins=bins).tolist() # DTmerge，ChiMerge，KMeansMerge，QuantileMerge\n",
    "    bins.insert(0,-np.inf)\n",
    "    bins.append(np.inf)\n",
    "    X.TransactionAmt=np.digitize(TransactionAmt,bins)\n",
    "    iv.append(toad.quality(X[['TransactionAmt','y']],'y').iv.values[0])\n",
    "    PSIs.append(PSI_cal(5,X,y,cats))"
   ]
  },
  {
   "cell_type": "code",
   "execution_count": null,
   "id": "42e4333e",
   "metadata": {},
   "outputs": [],
   "source": [
    "#查看分箱之后的效果\n",
    "bins=toad.ChiMerge(TransactionAmt,y,n_bins=10).tolist() # DTmerge，ChiMerge，KMeansMerge，QuantileMerge\n",
    "bins.insert(0,-np.inf)\n",
    "bins.append(np.inf)\n",
    "X.TransactionAmt=np.digitize(TransactionAmt,bins)\n",
    "sns.kdeplot(X.TransactionAmt)\n",
    "print(toad.quality(X[['TransactionAmt','y']],'y').iv.values[0])\n",
    "print(PSI_cal(5,X,y,cats))"
   ]
  },
  {
   "cell_type": "code",
   "execution_count": null,
   "id": "de199e4c",
   "metadata": {},
   "outputs": [],
   "source": [
    "#可以把原始变量也放进去抵消\n",
    "X['original_TransactionAmt']=TransactionAmt"
   ]
  }
 ],
 "metadata": {
  "kernelspec": {
   "display_name": "Python 3",
   "language": "python",
   "name": "python3"
  },
  "language_info": {
   "codemirror_mode": {
    "name": "ipython",
    "version": 3
   },
   "file_extension": ".py",
   "mimetype": "text/x-python",
   "name": "python",
   "nbconvert_exporter": "python",
   "pygments_lexer": "ipython3",
   "version": "3.8.8"
  },
  "varInspector": {
   "cols": {
    "lenName": 16,
    "lenType": 16,
    "lenVar": 40
   },
   "kernels_config": {
    "python": {
     "delete_cmd_postfix": "",
     "delete_cmd_prefix": "del ",
     "library": "var_list.py",
     "varRefreshCmd": "print(var_dic_list())"
    },
    "r": {
     "delete_cmd_postfix": ") ",
     "delete_cmd_prefix": "rm(",
     "library": "var_list.r",
     "varRefreshCmd": "cat(var_dic_list()) "
    }
   },
   "types_to_exclude": [
    "module",
    "function",
    "builtin_function_or_method",
    "instance",
    "_Feature"
   ],
   "window_display": false
  }
 },
 "nbformat": 4,
 "nbformat_minor": 5
}
