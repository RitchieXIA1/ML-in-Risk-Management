{
 "cells": [
  {
   "cell_type": "code",
   "execution_count": 130,
   "id": "255f3fc9",
   "metadata": {
    "ExecuteTime": {
     "end_time": "2021-11-03T04:43:28.415597Z",
     "start_time": "2021-11-03T04:43:28.399233Z"
    }
   },
   "outputs": [],
   "source": [
    "import pandas as pd\n",
    "import numpy as np\n",
    "from toad.metrics import AUC,KS\n",
    "from sklearn.model_selection import train_test_split\n",
    "import xgboost#第一步导入xgboost包"
   ]
  },
  {
   "cell_type": "code",
   "execution_count": 131,
   "id": "df5564f2",
   "metadata": {
    "ExecuteTime": {
     "end_time": "2021-11-03T04:43:29.031595Z",
     "start_time": "2021-11-03T04:43:28.970726Z"
    }
   },
   "outputs": [],
   "source": [
    "data = pd.read_csv('credit.csv')\n",
    "x = data.drop('default',axis=1)\n",
    "y = data['default']\n",
    "X_train, X_test, y_train, y_test = train_test_split(x,y,test_size=0.2, random_state=2)\n",
    "#第二步准备好数据集"
   ]
  },
  {
   "cell_type": "code",
   "execution_count": 141,
   "id": "42c190e6",
   "metadata": {
    "ExecuteTime": {
     "end_time": "2021-11-03T06:20:36.273678Z",
     "start_time": "2021-11-03T06:20:36.243671Z"
    }
   },
   "outputs": [],
   "source": [
    "xgb = xgboost.XGBClassifier(n_estimators = 300,verbosity=0,use_label_encoder=False)\n",
    "#第三步实例化一个xgboost对象"
   ]
  },
  {
   "cell_type": "code",
   "execution_count": 142,
   "id": "e49912d6",
   "metadata": {
    "ExecuteTime": {
     "end_time": "2021-11-03T06:20:37.611773Z",
     "start_time": "2021-11-03T06:20:36.826604Z"
    },
    "scrolled": true
   },
   "outputs": [
    {
     "data": {
      "text/plain": [
       "XGBClassifier(base_score=0.5, booster='gbtree', colsample_bylevel=1,\n",
       "              colsample_bynode=1, colsample_bytree=1, gamma=0, gpu_id=-1,\n",
       "              importance_type='gain', interaction_constraints='',\n",
       "              learning_rate=0.300000012, max_delta_step=0, max_depth=6,\n",
       "              min_child_weight=1, missing=nan, monotone_constraints='()',\n",
       "              n_estimators=300, n_jobs=16, num_parallel_tree=1, random_state=0,\n",
       "              reg_alpha=0, reg_lambda=1, scale_pos_weight=1, subsample=1,\n",
       "              tree_method='exact', use_label_encoder=False,\n",
       "              validate_parameters=1, verbosity=0)"
      ]
     },
     "execution_count": 142,
     "metadata": {},
     "output_type": "execute_result"
    }
   ],
   "source": [
    "xgb.fit(X_train,y_train,eval_metric= 'auc',eval_set=[(X_test,y_test)],verbose=False,early_stopping_rounds=100)\n",
    "#第四步输入训练集来拟合模型，在这里可以加入验证集来辅助优化，比如这里优化的方向就是让验证集上'AUC'最大化。"
   ]
  },
  {
   "cell_type": "code",
   "execution_count": 143,
   "id": "3547efc8",
   "metadata": {
    "ExecuteTime": {
     "end_time": "2021-11-03T06:20:40.095328Z",
     "start_time": "2021-11-03T06:20:40.080325Z"
    }
   },
   "outputs": [
    {
     "data": {
      "text/plain": [
       "array([0, 0, 0, ..., 0, 0, 0])"
      ]
     },
     "execution_count": 143,
     "metadata": {},
     "output_type": "execute_result"
    }
   ],
   "source": [
    "pred = xgb.predict(X_test)\n",
    "pred\n",
    "#第五步训练完成之后可以对验证集进行预测，分为直接预测结构和预测概率两种方式"
   ]
  },
  {
   "cell_type": "code",
   "execution_count": 144,
   "id": "2e5a567f",
   "metadata": {
    "ExecuteTime": {
     "end_time": "2021-11-03T06:20:42.649517Z",
     "start_time": "2021-11-03T06:20:42.639515Z"
    }
   },
   "outputs": [
    {
     "data": {
      "text/plain": [
       "array([0.1934987 , 0.17922066, 0.43134192, ..., 0.49894947, 0.10314199,\n",
       "       0.28834468], dtype=float32)"
      ]
     },
     "execution_count": 144,
     "metadata": {},
     "output_type": "execute_result"
    }
   ],
   "source": [
    "pred_prob =xgbm.predict_proba(X_test)[:,1]\n",
    "pred_prob\n",
    "#在构建评分卡时主要用概率预测。"
   ]
  },
  {
   "cell_type": "code",
   "execution_count": 145,
   "id": "ca71b49c",
   "metadata": {
    "ExecuteTime": {
     "end_time": "2021-11-03T06:20:44.240222Z",
     "start_time": "2021-11-03T06:20:44.177208Z"
    }
   },
   "outputs": [
    {
     "name": "stdout",
     "output_type": "stream",
     "text": [
      "测试集AUC: 0.7854907601426546\n",
      "测试集KS: 0.4563942502121383\n"
     ]
    }
   ],
   "source": [
    "print('测试集AUC:',AUC(pred_prob,y_test))\n",
    "print('测试集KS:',KS(pred_prob,y_test))"
   ]
  },
  {
   "cell_type": "code",
   "execution_count": 149,
   "id": "94154462",
   "metadata": {
    "ExecuteTime": {
     "end_time": "2021-11-03T09:13:00.666527Z",
     "start_time": "2021-11-03T09:13:00.652520Z"
    }
   },
   "outputs": [
    {
     "data": {
      "text/plain": [
       "0.09090909090909091"
      ]
     },
     "execution_count": 149,
     "metadata": {},
     "output_type": "execute_result"
    }
   ],
   "source": [
    "import numpy as np\n",
    "import xgboost as xgb\n",
    "import matplotlib.pyplot as plt\n",
    "from xgboost import XGBClassifier as XGBC\n",
    "from sklearn.datasets import make_blobs\n",
    "from sklearn.model_selection import train_test_split as TTS\n",
    "from sklearn.metrics import confusion_matrix as cm, recall_score as recall, roc_auc_score as auc\n",
    "class_1 = 500 #类别1有500个样本\n",
    "class_2 = 50 #类别2只有50个\n",
    "centers = [[0.0, 0.0], [2.0, 2.0]] #设定两个类别的中心\n",
    "clusters_std = [1.5, 0.5] #设定两个类别的方差，通常来说，样本量比较大的类别会更加松散\n",
    "X, y = make_blobs(n_samples=[class_1, class_2],centers=centers,cluster_std=clusters_std,random_state=0, shuffle=False)\n",
    "Xtrain, Xtest, Ytrain, Ytest = TTS(X,y,test_size=0.3,random_state=420) \n",
    "(y == 1).sum() / y.shape[0]"
   ]
  },
  {
   "cell_type": "code",
   "execution_count": 150,
   "id": "cbe1cdac",
   "metadata": {
    "ExecuteTime": {
     "end_time": "2021-11-03T09:13:24.641723Z",
     "start_time": "2021-11-03T09:13:24.534700Z"
    }
   },
   "outputs": [
    {
     "name": "stderr",
     "output_type": "stream",
     "text": [
      "C:\\Users\\ASUS\\anaconda3\\lib\\site-packages\\xgboost\\sklearn.py:1146: UserWarning: The use of label encoder in XGBClassifier is deprecated and will be removed in a future release. To remove this warning, do the following: 1) Pass option use_label_encoder=False when constructing XGBClassifier object; and 2) Encode your labels (y) as integers starting with 0, i.e. 0, 1, 2, ..., [num_class - 1].\n",
      "  warnings.warn(label_encoder_deprecation_msg, UserWarning)\n",
      "C:\\Users\\ASUS\\anaconda3\\lib\\site-packages\\xgboost\\sklearn.py:1146: UserWarning: The use of label encoder in XGBClassifier is deprecated and will be removed in a future release. To remove this warning, do the following: 1) Pass option use_label_encoder=False when constructing XGBClassifier object; and 2) Encode your labels (y) as integers starting with 0, i.e. 0, 1, 2, ..., [num_class - 1].\n",
      "  warnings.warn(label_encoder_deprecation_msg, UserWarning)\n"
     ]
    },
    {
     "data": {
      "text/plain": [
       "0.9696356275303644"
      ]
     },
     "execution_count": 150,
     "metadata": {},
     "output_type": "execute_result"
    }
   ],
   "source": [
    "#在sklearn下建模#\n",
    "clf = XGBC().fit(Xtrain,Ytrain)\n",
    "ypred = clf.predict(Xtest)\n",
    "clf.score(Xtest,Ytest)\n",
    "cm(Ytest,ypred,labels=[1,0])\n",
    "recall(Ytest,ypred)\n",
    "auc(Ytest,clf.predict_proba(Xtest)[:,1])\n",
    "#负/正样本比例\n",
    "clf_ = XGBC(scale_pos_weight=10).fit(Xtrain,Ytrain)\n",
    "ypred_ = clf_.predict(Xtest)\n",
    "clf_.score(Xtest,Ytest)\n",
    "cm(Ytest,ypred_,labels=[1,0])\n",
    "recall(Ytest,ypred_)\n",
    "auc(Ytest,clf_.predict_proba(Xtest)[:,1])"
   ]
  },
  {
   "cell_type": "code",
   "execution_count": 157,
   "id": "fd7d9c7b",
   "metadata": {
    "ExecuteTime": {
     "end_time": "2021-11-03T09:18:00.834424Z",
     "start_time": "2021-11-03T09:18:00.770410Z"
    }
   },
   "outputs": [
    {
     "name": "stdout",
     "output_type": "stream",
     "text": [
      "1\n",
      "\tAccuracy:0.9272727272727272\n",
      "\tRecall:0.6923076923076923\n",
      "\tAUC:0.9701417004048585\n",
      "\tKS:0.9473684210526315\n"
     ]
    },
    {
     "name": "stderr",
     "output_type": "stream",
     "text": [
      "C:\\Users\\ASUS\\anaconda3\\lib\\site-packages\\xgboost\\sklearn.py:1146: UserWarning: The use of label encoder in XGBClassifier is deprecated and will be removed in a future release. To remove this warning, do the following: 1) Pass option use_label_encoder=False when constructing XGBClassifier object; and 2) Encode your labels (y) as integers starting with 0, i.e. 0, 1, 2, ..., [num_class - 1].\n",
      "  warnings.warn(label_encoder_deprecation_msg, UserWarning)\n"
     ]
    }
   ],
   "source": [
    "clf_ = XGBC(scale_pos_weight=1).fit(Xtrain,Ytrain)\n",
    "ypred_ = clf_.predict(Xtest)\n",
    "print(1)\n",
    "print(\"\\tAccuracy:{}\".format(clf_.score(Xtest,Ytest)))\n",
    "print(\"\\tRecall:{}\".format(recall(Ytest,ypred_)))\n",
    "print(\"\\tAUC:{}\".format(auc(Ytest,clf_.predict_proba(Xtest)[:,1])))\n",
    "print(\"\\tKS:{}\".format(KS(clf_.predict_proba(Xtest)[:,1],Ytest)))"
   ]
  },
  {
   "cell_type": "code",
   "execution_count": 158,
   "id": "1999c5f2",
   "metadata": {
    "ExecuteTime": {
     "end_time": "2021-11-03T09:18:25.334453Z",
     "start_time": "2021-11-03T09:18:25.277440Z"
    }
   },
   "outputs": [
    {
     "name": "stdout",
     "output_type": "stream",
     "text": [
      "30\n",
      "\tAccuracy:0.9393939393939394\n",
      "\tRecall:0.8461538461538461\n",
      "\tAUC:0.9701417004048583\n",
      "\tKS:0.9473684210526315\n"
     ]
    },
    {
     "name": "stderr",
     "output_type": "stream",
     "text": [
      "C:\\Users\\ASUS\\anaconda3\\lib\\site-packages\\xgboost\\sklearn.py:1146: UserWarning: The use of label encoder in XGBClassifier is deprecated and will be removed in a future release. To remove this warning, do the following: 1) Pass option use_label_encoder=False when constructing XGBClassifier object; and 2) Encode your labels (y) as integers starting with 0, i.e. 0, 1, 2, ..., [num_class - 1].\n",
      "  warnings.warn(label_encoder_deprecation_msg, UserWarning)\n"
     ]
    }
   ],
   "source": [
    "clf_ = XGBC(scale_pos_weight=30).fit(Xtrain,Ytrain)\n",
    "ypred_ = clf_.predict(Xtest)\n",
    "print(30)\n",
    "print(\"\\tAccuracy:{}\".format(clf_.score(Xtest,Ytest)))\n",
    "print(\"\\tRecall:{}\".format(recall(Ytest,ypred_)))\n",
    "print(\"\\tAUC:{}\".format(auc(Ytest,clf_.predict_proba(Xtest)[:,1])))\n",
    "print(\"\\tKS:{}\".format(KS(clf_.predict_proba(Xtest)[:,1],Ytest)))"
   ]
  },
  {
   "cell_type": "code",
   "execution_count": 170,
   "id": "09dc6cdb",
   "metadata": {
    "ExecuteTime": {
     "end_time": "2021-11-03T10:07:08.786646Z",
     "start_time": "2021-11-03T10:07:08.585601Z"
    },
    "scrolled": true
   },
   "outputs": [
    {
     "name": "stderr",
     "output_type": "stream",
     "text": [
      "C:\\Users\\ASUS\\anaconda3\\lib\\site-packages\\xgboost\\sklearn.py:1146: UserWarning: The use of label encoder in XGBClassifier is deprecated and will be removed in a future release. To remove this warning, do the following: 1) Pass option use_label_encoder=False when constructing XGBClassifier object; and 2) Encode your labels (y) as integers starting with 0, i.e. 0, 1, 2, ..., [num_class - 1].\n",
      "  warnings.warn(label_encoder_deprecation_msg, UserWarning)\n",
      "C:\\Users\\ASUS\\anaconda3\\lib\\site-packages\\xgboost\\sklearn.py:1146: UserWarning: The use of label encoder in XGBClassifier is deprecated and will be removed in a future release. To remove this warning, do the following: 1) Pass option use_label_encoder=False when constructing XGBClassifier object; and 2) Encode your labels (y) as integers starting with 0, i.e. 0, 1, 2, ..., [num_class - 1].\n",
      "  warnings.warn(label_encoder_deprecation_msg, UserWarning)\n",
      "C:\\Users\\ASUS\\anaconda3\\lib\\site-packages\\xgboost\\sklearn.py:1146: UserWarning: The use of label encoder in XGBClassifier is deprecated and will be removed in a future release. To remove this warning, do the following: 1) Pass option use_label_encoder=False when constructing XGBClassifier object; and 2) Encode your labels (y) as integers starting with 0, i.e. 0, 1, 2, ..., [num_class - 1].\n",
      "  warnings.warn(label_encoder_deprecation_msg, UserWarning)\n",
      "C:\\Users\\ASUS\\anaconda3\\lib\\site-packages\\xgboost\\sklearn.py:1146: UserWarning: The use of label encoder in XGBClassifier is deprecated and will be removed in a future release. To remove this warning, do the following: 1) Pass option use_label_encoder=False when constructing XGBClassifier object; and 2) Encode your labels (y) as integers starting with 0, i.e. 0, 1, 2, ..., [num_class - 1].\n",
      "  warnings.warn(label_encoder_deprecation_msg, UserWarning)\n",
      "C:\\Users\\ASUS\\anaconda3\\lib\\site-packages\\xgboost\\sklearn.py:1146: UserWarning: The use of label encoder in XGBClassifier is deprecated and will be removed in a future release. To remove this warning, do the following: 1) Pass option use_label_encoder=False when constructing XGBClassifier object; and 2) Encode your labels (y) as integers starting with 0, i.e. 0, 1, 2, ..., [num_class - 1].\n",
      "  warnings.warn(label_encoder_deprecation_msg, UserWarning)\n"
     ]
    },
    {
     "name": "stdout",
     "output_type": "stream",
     "text": [
      "0.08\n",
      "\tAccuracy:0.9272727272727272\n",
      "\tRecall:0.6923076923076923\n",
      "\tAUC:0.972165991902834\n",
      "\tKS:0.9473684210526315\n",
      "0.2\n",
      "\tAccuracy:0.9272727272727272\n",
      "\tRecall:0.6923076923076923\n",
      "\tAUC:0.9691295546558705\n",
      "\tKS:0.9473684210526315\n",
      "0.3\n",
      "\tAccuracy:0.9272727272727272\n",
      "\tRecall:0.6923076923076923\n",
      "\tAUC:0.9686234817813765\n",
      "\tKS:0.9473684210526315\n",
      "0.4\n",
      "\tAccuracy:0.9272727272727272\n",
      "\tRecall:0.6923076923076923\n",
      "\tAUC:0.97165991902834\n",
      "\tKS:0.9473684210526315\n",
      "0.5\n",
      "\tAccuracy:0.9272727272727272\n",
      "\tRecall:0.6923076923076923\n",
      "\tAUC:0.9701417004048585\n",
      "\tKS:0.9473684210526315\n"
     ]
    }
   ],
   "source": [
    "for i in [0.08,0.2,0.3,0.4,0.5]:\n",
    "    clf_ = XGBC(base_score=i).fit(Xtrain,Ytrain)\n",
    "    ypred_ = clf_.predict(Xtest)\n",
    "    print(i)\n",
    "    print(\"\\tAccuracy:{}\".format(clf_.score(Xtest,Ytest)))\n",
    "    print(\"\\tRecall:{}\".format(recall(Ytest,ypred_)))\n",
    "    print(\"\\tAUC:{}\".format(auc(Ytest,clf_.predict_proba(Xtest)[:,1])))\n",
    "    print(\"\\tKS:{}\".format(KS(clf_.predict_proba(Xtest)[:,1],Ytest)))"
   ]
  },
  {
   "cell_type": "code",
   "execution_count": 164,
   "id": "7a5c8a80",
   "metadata": {
    "ExecuteTime": {
     "end_time": "2021-11-03T09:33:52.329951Z",
     "start_time": "2021-11-03T09:33:51.736819Z"
    },
    "scrolled": true
   },
   "outputs": [
    {
     "name": "stdout",
     "output_type": "stream",
     "text": [
      "negative vs positive: 1\n",
      "\tAccuracy:0.9272727272727272\n",
      "\tRecall:0.6923076923076923\n",
      "\tAUC:0.9741902834008097\n",
      "\tKS:0.9473684210526315\n",
      "negative vs positive: 5\n",
      "\tAccuracy:0.9393939393939394\n",
      "\tRecall:0.8461538461538461\n",
      "\tAUC:0.9635627530364372\n",
      "\tKS:0.9473684210526315\n",
      "negative vs positive: 10\n",
      "\tAccuracy:0.9515151515151515\n",
      "\tRecall:1.0\n",
      "\tAUC:0.9665991902834008\n",
      "\tKS:0.9473684210526315\n",
      "negative vs positive: 1,thresholds:0.3\n",
      "\tAccuracy:0.9393939393939394\n",
      "\tRecall:0.8461538461538461\n",
      "\tAUC:0.9741902834008097\n",
      "\tKS:0.9473684210526315\n",
      "negative vs positive: 1,thresholds:0.5\n",
      "\tAccuracy:0.9272727272727272\n",
      "\tRecall:0.6923076923076923\n",
      "\tAUC:0.9741902834008097\n",
      "\tKS:0.9473684210526315\n",
      "negative vs positive: 1,thresholds:0.7\n",
      "\tAccuracy:0.9212121212121213\n",
      "\tRecall:0.6153846153846154\n",
      "\tAUC:0.9741902834008097\n",
      "\tKS:0.9473684210526315\n",
      "negative vs positive: 1,thresholds:0.9\n",
      "\tAccuracy:0.9515151515151515\n",
      "\tRecall:0.5384615384615384\n",
      "\tAUC:0.9741902834008097\n",
      "\tKS:0.9473684210526315\n",
      "negative vs positive: 5,thresholds:0.3\n",
      "\tAccuracy:0.9515151515151515\n",
      "\tRecall:1.0\n",
      "\tAUC:0.9635627530364372\n",
      "\tKS:0.9473684210526315\n",
      "negative vs positive: 5,thresholds:0.5\n",
      "\tAccuracy:0.9393939393939394\n",
      "\tRecall:0.8461538461538461\n",
      "\tAUC:0.9635627530364372\n",
      "\tKS:0.9473684210526315\n",
      "negative vs positive: 5,thresholds:0.7\n",
      "\tAccuracy:0.9272727272727272\n",
      "\tRecall:0.6923076923076923\n",
      "\tAUC:0.9635627530364372\n",
      "\tKS:0.9473684210526315\n",
      "negative vs positive: 5,thresholds:0.9\n",
      "\tAccuracy:0.9212121212121213\n",
      "\tRecall:0.6153846153846154\n",
      "\tAUC:0.9635627530364372\n",
      "\tKS:0.9473684210526315\n",
      "negative vs positive: 10,thresholds:0.3\n",
      "\tAccuracy:0.9515151515151515\n",
      "\tRecall:1.0\n",
      "\tAUC:0.9665991902834008\n",
      "\tKS:0.9473684210526315\n",
      "negative vs positive: 10,thresholds:0.5\n",
      "\tAccuracy:0.9515151515151515\n",
      "\tRecall:1.0\n",
      "\tAUC:0.9665991902834008\n",
      "\tKS:0.9473684210526315\n",
      "negative vs positive: 10,thresholds:0.7\n",
      "\tAccuracy:0.9393939393939394\n",
      "\tRecall:0.8461538461538461\n",
      "\tAUC:0.9665991902834008\n",
      "\tKS:0.9473684210526315\n",
      "negative vs positive: 10,thresholds:0.9\n",
      "\tAccuracy:0.9212121212121213\n",
      "\tRecall:0.6153846153846154\n",
      "\tAUC:0.9665991902834008\n",
      "\tKS:0.9473684210526315\n"
     ]
    }
   ],
   "source": [
    "dtrain = xgb.DMatrix(Xtrain,Ytrain)\n",
    "dtest = xgb.DMatrix(Xtest,Ytest) #看看xgboost库自带的predict接口\n",
    "param= {'silent':True,'objective':'binary:logistic',\"eta\":0.1,\"scale_pos_weight\":1}\n",
    "num_round = 100\n",
    "bst = xgb.train(param, dtrain, num_round)\n",
    "preds = bst.predict(dtest) #看看preds返回了什么？\n",
    "preds\n",
    "#自己设定阈值\n",
    "ypred = preds.copy()\n",
    "ypred[preds > 0.5] = 1\n",
    "ypred[ypred != 1] = 0 #写明参数\n",
    "scale_pos_weight = [1,5,10]\n",
    "names = [\"negative vs positive: 1\",\"negative vs positive: 5\",\"negative vs positive: 10\"] #导入模型评估指标\n",
    "from sklearn.metrics import accuracy_score as accuracy, recall_score as recall,roc_auc_score as auc\n",
    "for name,i in zip(names,scale_pos_weight):\n",
    "    param= {'silent':True,'objective':'binary:logistic',\"eta\":0.1,\"scale_pos_weight\":i}\n",
    "    clf = xgb.train(param, dtrain, num_round)\n",
    "    preds = clf.predict(dtest)\n",
    "    ypred = preds.copy()\n",
    "    ypred[preds > 0.5] = 1\n",
    "    ypred[ypred != 1] = 0\n",
    "    print(name)\n",
    "    print(\"\\tAccuracy:{}\".format(accuracy(Ytest,ypred)))\n",
    "    print(\"\\tRecall:{}\".format(recall(Ytest,ypred)))\n",
    "    print(\"\\tAUC:{}\".format(auc(Ytest,preds)))\n",
    "    print(\"\\tKS:{}\".format(KS(clf_.predict_proba(Xtest)[:,1],Ytest)))\n",
    "#当然我们也可以尝试不同的阈值\n",
    "for name,i in zip(names,scale_pos_weight):\n",
    "    for thres in [0.3,0.5,0.7,0.9]:\n",
    "        param= {'silent':True,'objective':'binary:logistic',\"eta\":0.1,\"scale_pos_weight\":i}\n",
    "        clf = xgb.train(param, dtrain, num_round)\n",
    "        preds = clf.predict(dtest)\n",
    "        ypred = preds.copy()\n",
    "        ypred[preds > thres] = 1\n",
    "        ypred[ypred != 1] = 0\n",
    "        print(\"{},thresholds:{}\".format(name,thres))\n",
    "        print(\"\\tAccuracy:{}\".format(accuracy(Ytest,ypred)))\n",
    "        print(\"\\tRecall:{}\".format(recall(Ytest,ypred)))\n",
    "        print(\"\\tAUC:{}\".format(auc(Ytest,preds)))\n",
    "        print(\"\\tKS:{}\".format(KS(clf_.predict_proba(Xtest)[:,1],Ytest)))"
   ]
  },
  {
   "cell_type": "code",
   "execution_count": null,
   "id": "c4e07f9e",
   "metadata": {},
   "outputs": [],
   "source": []
  }
 ],
 "metadata": {
  "kernelspec": {
   "display_name": "Python 3 (ipykernel)",
   "language": "python",
   "name": "python3"
  },
  "language_info": {
   "codemirror_mode": {
    "name": "ipython",
    "version": 3
   },
   "file_extension": ".py",
   "mimetype": "text/x-python",
   "name": "python",
   "nbconvert_exporter": "python",
   "pygments_lexer": "ipython3",
   "version": "3.8.5"
  },
  "toc": {
   "base_numbering": 1,
   "nav_menu": {},
   "number_sections": true,
   "sideBar": true,
   "skip_h1_title": false,
   "title_cell": "Table of Contents",
   "title_sidebar": "Contents",
   "toc_cell": false,
   "toc_position": {},
   "toc_section_display": true,
   "toc_window_display": false
  },
  "varInspector": {
   "cols": {
    "lenName": 16,
    "lenType": 16,
    "lenVar": 40
   },
   "kernels_config": {
    "python": {
     "delete_cmd_postfix": "",
     "delete_cmd_prefix": "del ",
     "library": "var_list.py",
     "varRefreshCmd": "print(var_dic_list())"
    },
    "r": {
     "delete_cmd_postfix": ") ",
     "delete_cmd_prefix": "rm(",
     "library": "var_list.r",
     "varRefreshCmd": "cat(var_dic_list()) "
    }
   },
   "types_to_exclude": [
    "module",
    "function",
    "builtin_function_or_method",
    "instance",
    "_Feature"
   ],
   "window_display": false
  }
 },
 "nbformat": 4,
 "nbformat_minor": 5
}
