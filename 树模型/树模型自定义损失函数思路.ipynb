{
 "cells": [
  {
   "cell_type": "code",
   "execution_count": null,
   "id": "e5f8fc63",
   "metadata": {},
   "outputs": [],
   "source": [
    "#自定义损失函数之 预测概率小于0.1的正样本，梯度增加一倍。也就是对正样本更加关注\n",
    "def customer_loss(y_true, y_pred):\n",
    "    \"\"\"\n",
    "        在LightGBM中,自定义损失函数需要返回损失函数的一阶(grad)和二阶(hess)导数\n",
    "    \"\"\"    \n",
    "    y_pred = 1. / (np.exp(-y_pred) + 1)\n",
    "    grad = []\n",
    "    for pred, true in zip(y_pred, y_true):\n",
    "        if true == 1 and pred < 0.1:\n",
    "            grad.append(2 * (pred - true))\n",
    "        else:\n",
    "            grad.append(pred - true)        \n",
    "    grad = np.array(grad)\n",
    "    hess = y_pred * (1 - y_pred)\n",
    "    return grad, hess      "
   ]
  },
  {
   "cell_type": "code",
   "execution_count": null,
   "id": "4621b09f",
   "metadata": {},
   "outputs": [],
   "source": [
    "#自定义评价函数之把阈值0.8以上视正样本\n",
    "def custom_metric(y_true, y_pred):\n",
    "    y_pred = 1. / (np.exp(-y_pred) + 1.)\n",
    "    return \"customer_valid\", np.mean(y_true == (y_pred > 0.8)), False"
   ]
  }
 ],
 "metadata": {
  "kernelspec": {
   "display_name": "Python 3",
   "language": "python",
   "name": "python3"
  },
  "language_info": {
   "codemirror_mode": {
    "name": "ipython",
    "version": 3
   },
   "file_extension": ".py",
   "mimetype": "text/x-python",
   "name": "python",
   "nbconvert_exporter": "python",
   "pygments_lexer": "ipython3",
   "version": "3.8.8"
  },
  "varInspector": {
   "cols": {
    "lenName": 16,
    "lenType": 16,
    "lenVar": 40
   },
   "kernels_config": {
    "python": {
     "delete_cmd_postfix": "",
     "delete_cmd_prefix": "del ",
     "library": "var_list.py",
     "varRefreshCmd": "print(var_dic_list())"
    },
    "r": {
     "delete_cmd_postfix": ") ",
     "delete_cmd_prefix": "rm(",
     "library": "var_list.r",
     "varRefreshCmd": "cat(var_dic_list()) "
    }
   },
   "types_to_exclude": [
    "module",
    "function",
    "builtin_function_or_method",
    "instance",
    "_Feature"
   ],
   "window_display": false
  }
 },
 "nbformat": 4,
 "nbformat_minor": 5
}
