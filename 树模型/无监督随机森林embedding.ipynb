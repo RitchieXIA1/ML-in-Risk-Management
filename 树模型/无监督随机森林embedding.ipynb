{
 "cells": [
  {
   "cell_type": "code",
   "execution_count": 1,
   "id": "029eb95a",
   "metadata": {
    "ExecuteTime": {
     "end_time": "2022-02-17T05:29:13.840566Z",
     "start_time": "2022-02-17T05:29:13.476469Z"
    }
   },
   "outputs": [],
   "source": [
    "from sklearn.ensemble import RandomTreesEmbedding"
   ]
  },
  {
   "cell_type": "code",
   "execution_count": 2,
   "id": "f258da73",
   "metadata": {
    "ExecuteTime": {
     "end_time": "2022-02-17T05:29:17.385272Z",
     "start_time": "2022-02-17T05:29:17.365265Z"
    }
   },
   "outputs": [
    {
     "data": {
      "text/plain": [
       "array([[0., 1., 1., 0., 1., 0., 0., 1., 1., 0.],\n",
       "       [0., 1., 1., 0., 1., 0., 0., 1., 1., 0.],\n",
       "       [0., 1., 0., 1., 0., 1., 0., 1., 0., 1.],\n",
       "       [1., 0., 1., 0., 1., 0., 1., 0., 1., 0.],\n",
       "       [0., 1., 1., 0., 1., 0., 0., 1., 1., 0.]])"
      ]
     },
     "execution_count": 2,
     "metadata": {},
     "output_type": "execute_result"
    }
   ],
   "source": [
    "X = [[0,0], [1,0], [0,1], [-1,0], [0,-1]]\n",
    "random_trees = RandomTreesEmbedding(\n",
    "   n_estimators=5, random_state=0, max_depth=1)\n",
    "random_trees.fit(X)\n",
    "X_sparse_embedding = random_trees.transform(X)\n",
    "X_sparse_embedding.toarray()"
   ]
  },
  {
   "cell_type": "code",
   "execution_count": 3,
   "id": "f47ef9ff",
   "metadata": {
    "ExecuteTime": {
     "end_time": "2022-02-17T05:33:51.582995Z",
     "start_time": "2022-02-17T05:33:50.766807Z"
    }
   },
   "outputs": [
    {
     "name": "stderr",
     "output_type": "stream",
     "text": [
      "C:\\ProgramData\\Anaconda3\\lib\\site-packages\\dask\\dataframe\\utils.py:367: FutureWarning: pandas.Int64Index is deprecated and will be removed from pandas in a future version. Use pandas.Index with the appropriate dtype instead.\n",
      "  _numeric_index_types = (pd.Int64Index, pd.Float64Index, pd.UInt64Index)\n",
      "C:\\ProgramData\\Anaconda3\\lib\\site-packages\\dask\\dataframe\\utils.py:367: FutureWarning: pandas.Float64Index is deprecated and will be removed from pandas in a future version. Use pandas.Index with the appropriate dtype instead.\n",
      "  _numeric_index_types = (pd.Int64Index, pd.Float64Index, pd.UInt64Index)\n",
      "C:\\ProgramData\\Anaconda3\\lib\\site-packages\\dask\\dataframe\\utils.py:367: FutureWarning: pandas.UInt64Index is deprecated and will be removed from pandas in a future version. Use pandas.Index with the appropriate dtype instead.\n",
      "  _numeric_index_types = (pd.Int64Index, pd.Float64Index, pd.UInt64Index)\n"
     ]
    }
   ],
   "source": [
    "import numpy as np\n",
    "import matplotlib.pyplot as plt \n",
    "from sklearn.datasets import make_circles\n",
    "from sklearn.ensemble import RandomTreesEmbedding, ExtraTreesClassifier\n",
    "from sklearn.decomposition import TruncatedSVD\n",
    "from sklearn.naive_bayes import BernoulliNB\n",
    "import lightgbm as lgb"
   ]
  },
  {
   "cell_type": "code",
   "execution_count": 5,
   "id": "472ed7bc",
   "metadata": {
    "ExecuteTime": {
     "end_time": "2022-02-17T05:29:26.639784Z",
     "start_time": "2022-02-17T05:29:26.617002Z"
    }
   },
   "outputs": [],
   "source": [
    "# make a synthetic dataset\n",
    "X, y = make_circles(factor=0.5, random_state=0, noise=0.05)\n",
    " \n",
    "# use RandomTreesEmbedding to transform data\n",
    "hasher = RandomTreesEmbedding(n_estimators=10, random_state=0, max_depth=3)\n",
    "X_transformed = hasher.fit_transform(X)\n",
    " "
   ]
  },
  {
   "cell_type": "code",
   "execution_count": 8,
   "id": "53357010",
   "metadata": {},
   "outputs": [
    {
     "data": {
      "text/plain": [
       "(100, 2)"
      ]
     },
     "execution_count": 8,
     "metadata": {},
     "output_type": "execute_result"
    }
   ],
   "source": [
    "X.shape"
   ]
  },
  {
   "cell_type": "code",
   "execution_count": 9,
   "id": "fd8c4fdb",
   "metadata": {},
   "outputs": [
    {
     "data": {
      "text/plain": [
       "<100x74 sparse matrix of type '<class 'numpy.float64'>'\n",
       "\twith 1000 stored elements in Compressed Sparse Row format>"
      ]
     },
     "execution_count": 9,
     "metadata": {},
     "output_type": "execute_result"
    }
   ],
   "source": [
    "X_transformed"
   ]
  },
  {
   "cell_type": "code",
   "execution_count": 5,
   "id": "e0064093",
   "metadata": {
    "ExecuteTime": {
     "end_time": "2022-02-17T05:29:30.503789Z",
     "start_time": "2022-02-17T05:29:30.490787Z"
    }
   },
   "outputs": [],
   "source": [
    " # Visualize result using PCA\n",
    "pca = TruncatedSVD(n_components=2)\n",
    "X_reduced = pca.fit_transform(X_transformed)"
   ]
  },
  {
   "cell_type": "code",
   "execution_count": 17,
   "id": "4c82b433",
   "metadata": {
    "ExecuteTime": {
     "end_time": "2022-02-17T05:32:34.436791Z",
     "start_time": "2022-02-17T05:32:34.432789Z"
    }
   },
   "outputs": [
    {
     "name": "stdout",
     "output_type": "stream",
     "text": [
      "embedding之前的分数是: 0.51\n"
     ]
    }
   ],
   "source": [
    "# 在embedding之后的数据上使用伯努利贝叶斯\n",
    "nb = BernoulliNB()\n",
    "nb.fit(X, y)\n",
    "print('embedding之前的分数是:',nb.score(X, y))"
   ]
  },
  {
   "cell_type": "code",
   "execution_count": 40,
   "id": "68c137d3",
   "metadata": {
    "ExecuteTime": {
     "end_time": "2022-02-17T05:37:28.499677Z",
     "start_time": "2022-02-17T05:37:28.488569Z"
    }
   },
   "outputs": [
    {
     "name": "stdout",
     "output_type": "stream",
     "text": [
      "embedding之前的分数是: 1.0\n"
     ]
    }
   ],
   "source": [
    "# 在embedding之后的数据上使用伯努利贝叶斯\n",
    "nb = BernoulliNB()\n",
    "nb.fit(X_transformed, y)\n",
    "print('embedding之前的分数是:',nb.score(X_transformed, y))"
   ]
  },
  {
   "cell_type": "code",
   "execution_count": 47,
   "id": "07473b50",
   "metadata": {
    "ExecuteTime": {
     "end_time": "2022-02-17T05:38:14.781281Z",
     "start_time": "2022-02-17T05:38:14.766278Z"
    }
   },
   "outputs": [
    {
     "name": "stdout",
     "output_type": "stream",
     "text": [
      "embedding之前的分数是: 0.94\n"
     ]
    }
   ],
   "source": [
    "# Learn an ExtraTreesClassifier for comparison\n",
    "trees = lgb.LGBMClassifier(max_depth=4, n_estimators=100, random_state=0)\n",
    "trees.fit(X, y)\n",
    "print('embedding之前的分数是:',trees.score(X, y))"
   ]
  },
  {
   "cell_type": "code",
   "execution_count": 42,
   "id": "6e12faf2",
   "metadata": {
    "ExecuteTime": {
     "end_time": "2022-02-17T05:37:29.451264Z",
     "start_time": "2022-02-17T05:37:29.441263Z"
    }
   },
   "outputs": [
    {
     "name": "stdout",
     "output_type": "stream",
     "text": [
      "embedding之后的分数是: 0.97\n"
     ]
    }
   ],
   "source": [
    "# Learn an ExtraTreesClassifier for comparison\n",
    "trees = lgb.LGBMClassifier(max_depth=3, n_estimators=10, random_state=0)\n",
    "trees.fit(X_transformed, y)\n",
    "print('embedding之后的分数是:',trees.score(X_transformed, y))"
   ]
  },
  {
   "cell_type": "code",
   "execution_count": 37,
   "id": "322cfbc7",
   "metadata": {
    "ExecuteTime": {
     "end_time": "2022-02-17T05:36:31.428558Z",
     "start_time": "2022-02-17T05:36:31.419478Z"
    }
   },
   "outputs": [],
   "source": [
    "# Plot the decision in original space. For that, we will assign a color to each\n",
    "# point in the mesh [x_min, m_max] x [y_min, y_max].\n",
    "h = .01\n",
    "x_min, x_max = X[:, 0].min() - .5, X[:, 0].max() + .5\n",
    "y_min, y_max = X[:, 1].min() - .5, X[:, 1].max() + .5\n",
    "xx, yy = np.meshgrid(np.arange(x_min, x_max, h), np.arange(y_min, y_max, h))"
   ]
  },
  {
   "cell_type": "code",
   "execution_count": 38,
   "id": "56a3f6fe",
   "metadata": {
    "ExecuteTime": {
     "end_time": "2022-02-17T05:36:32.787851Z",
     "start_time": "2022-02-17T05:36:32.728415Z"
    }
   },
   "outputs": [],
   "source": [
    "transformed_grid = hasher.transform(np.c_[xx.ravel(), yy.ravel()])"
   ]
  },
  {
   "cell_type": "code",
   "execution_count": 49,
   "id": "6b986f8f",
   "metadata": {
    "ExecuteTime": {
     "end_time": "2022-02-17T05:38:44.237824Z",
     "start_time": "2022-02-17T05:38:43.956677Z"
    }
   },
   "outputs": [
    {
     "name": "stderr",
     "output_type": "stream",
     "text": [
      "<ipython-input-49-3cdf9ea2c987>:19: MatplotlibDeprecationWarning: shading='flat' when X and Y have the same dimensions as C is deprecated since 3.3.  Either specify the corners of the quadrilaterals with X and Y, or pass shading='auto', 'nearest' or 'gouraud', or set rcParams['pcolor.shading'].  This will become an error two minor releases later.\n",
      "  ax.pcolormesh(xx, yy, y_grid_pred.reshape(xx.shape))\n",
      "<ipython-input-49-3cdf9ea2c987>:30: MatplotlibDeprecationWarning: shading='flat' when X and Y have the same dimensions as C is deprecated since 3.3.  Either specify the corners of the quadrilaterals with X and Y, or pass shading='auto', 'nearest' or 'gouraud', or set rcParams['pcolor.shading'].  This will become an error two minor releases later.\n",
      "  ax.pcolormesh(xx, yy, y_grid_pred.reshape(xx.shape))\n"
     ]
    },
    {
     "data": {
      "image/png": "[encoded data removed]",
      "text/plain": [
       "<Figure size 648x576 with 4 Axes>"
      ]
     },
     "metadata": {},
     "output_type": "display_data"
    }
   ],
   "source": [
    "# scatter plot of original and reduced data\n",
    "fig = plt.figure(figsize=(9, 8))\n",
    " \n",
    "ax = plt.subplot(221)\n",
    "ax.scatter(X[:, 0], X[:, 1], c=y, s=50)\n",
    "ax.set_title(\"Original Data (2d)\")\n",
    "ax.set_xticks(())\n",
    "ax.set_yticks(())\n",
    "  \n",
    "ax = plt.subplot(222)\n",
    "ax.scatter(X_reduced[:, 0], X_reduced[:, 1], c=y, s=50)\n",
    "ax.set_title(\"PCA reduction (2d) of transformed data (%dd)\" %\n",
    "             X_transformed.shape[1])\n",
    "ax.set_xticks(())\n",
    "ax.set_yticks(())\n",
    "y_grid_pred = nb.predict_proba(transformed_grid)[:, 1]\n",
    "ax = plt.subplot(223)\n",
    "ax.set_title(\"Naive Bayes on Transformed data\")\n",
    "ax.pcolormesh(xx, yy, y_grid_pred.reshape(xx.shape))\n",
    "ax.scatter(X[:, 0], X[:, 1], c=y, s=50)\n",
    "ax.set_ylim(-1.4, 1.4)\n",
    "ax.set_xlim(-1.4, 1.4)\n",
    "ax.set_xticks(())\n",
    "ax.set_yticks(())\n",
    " \n",
    "# transform grid using ExtraTreesClassifier\n",
    "y_grid_pred = trees.predict_proba(np.c_[xx.ravel(), yy.ravel()])[:, 1]\n",
    "ax = plt.subplot(224)\n",
    "ax.set_title(\"LGB predictions\")\n",
    "ax.pcolormesh(xx, yy, y_grid_pred.reshape(xx.shape))\n",
    "ax.scatter(X[:, 0], X[:, 1], c=y, s=50)\n",
    "ax.set_ylim(-1.4, 1.4)\n",
    "ax.set_xlim(-1.4, 1.4)\n",
    "ax.set_xticks(())\n",
    "ax.set_yticks(())\n",
    "plt.tight_layout()\n",
    "plt.show()"
   ]
  },
  {
   "cell_type": "code",
   "execution_count": 57,
   "id": "12fee552",
   "metadata": {
    "ExecuteTime": {
     "end_time": "2022-02-17T05:40:35.382710Z",
     "start_time": "2022-02-17T05:40:35.368706Z"
    }
   },
   "outputs": [
    {
     "data": {
      "text/plain": [
       "array([[-1.51761242, -1.50761242, -1.49761242, ...,  1.55238758,\n",
       "         1.56238758,  1.57238758],\n",
       "       [-1.51761242, -1.50761242, -1.49761242, ...,  1.55238758,\n",
       "         1.56238758,  1.57238758],\n",
       "       [-1.51761242, -1.50761242, -1.49761242, ...,  1.55238758,\n",
       "         1.56238758,  1.57238758],\n",
       "       ...,\n",
       "       [-1.51761242, -1.50761242, -1.49761242, ...,  1.55238758,\n",
       "         1.56238758,  1.57238758],\n",
       "       [-1.51761242, -1.50761242, -1.49761242, ...,  1.55238758,\n",
       "         1.56238758,  1.57238758],\n",
       "       [-1.51761242, -1.50761242, -1.49761242, ...,  1.55238758,\n",
       "         1.56238758,  1.57238758]])"
      ]
     },
     "execution_count": 57,
     "metadata": {},
     "output_type": "execute_result"
    }
   ],
   "source": [
    "xx"
   ]
  },
  {
   "cell_type": "code",
   "execution_count": 56,
   "id": "21cb409a",
   "metadata": {
    "ExecuteTime": {
     "end_time": "2022-02-17T05:40:30.465641Z",
     "start_time": "2022-02-17T05:40:30.451638Z"
    }
   },
   "outputs": [
    {
     "data": {
      "text/plain": [
       "array([[-1.51761242, -1.65802566],\n",
       "       [-1.50761242, -1.65802566],\n",
       "       [-1.49761242, -1.65802566],\n",
       "       ...,\n",
       "       [ 1.55238758,  1.57197434],\n",
       "       [ 1.56238758,  1.57197434],\n",
       "       [ 1.57238758,  1.57197434]])"
      ]
     },
     "execution_count": 56,
     "metadata": {},
     "output_type": "execute_result"
    }
   ],
   "source": [
    "np.c_[xx.ravel(), yy.ravel()]"
   ]
  },
  {
   "cell_type": "code",
   "execution_count": null,
   "id": "71b6680f",
   "metadata": {},
   "outputs": [],
   "source": [
    "# Learn a Naive Bayes classifier on the transformed data\n",
    "nb = BernoulliNB()\n",
    "nb.fit(X_transformed, y)\n",
    " \n",
    " \n",
    "# Learn an ExtraTreesClassifier for comparison\n",
    "trees = ExtraTreesClassifier(max_depth=3, n_estimators=10, random_state=0)\n",
    "trees.fit(X, y)\n",
    " \n",
    " \n",
    "# scatter plot of original and reduced data\n",
    "fig = plt.figure(figsize=(9, 8))\n",
    "ax = plt.subplot(221)\n",
    "ax.scatter(X[:, 0], X[:, 1], c=y, s=50)\n",
    "ax.set_title(\"Original Data (2d)\")\n",
    "ax.set_xticks(())\n",
    "ax.set_yticks(())\n",
    " \n",
    "ax = plt.subplot(222)\n",
    "ax.scatter(X_reduced[:, 0], X_reduced[:, 1], c=y, s=50)\n",
    "ax.set_title(\"PCA reduction (2d) of transformed data (%dd)\" %\n",
    "             X_transformed.shape[1])\n",
    "ax.set_xticks(())\n",
    "ax.set_yticks(())\n",
    " \n",
    "# Plot the decision in original space. For that, we will assign a color to each\n",
    "# point in the mesh [x_min, m_max] x [y_min, y_max].\n",
    "h = .01\n",
    "x_min, x_max = X[:, 0].min() - .5, X[:, 0].max() + .5\n",
    "y_min, y_max = X[:, 1].min() - .5, X[:, 1].max() + .5\n",
    "xx, yy = np.meshgrid(np.arange(x_min, x_max, h), np.arange(y_min, y_max, h))\n",
    " \n",
    "# transform grid using RandomTreesEmbedding\n",
    "transformed_grid = hasher.transform(np.c_[xx.ravel(), yy.ravel()])\n",
    "y_grid_pred = nb.predict_proba(transformed_grid)[:, 1]\n",
    " \n",
    "ax = plt.subplot(223)\n",
    "ax.set_title(\"Naive Bayes on Transformed data\")\n",
    "ax.pcolormesh(xx, yy, y_grid_pred.reshape(xx.shape))\n",
    "ax.scatter(X[:, 0], X[:, 1], c=y, s=50)\n",
    "ax.set_ylim(-1.4, 1.4)\n",
    "ax.set_xlim(-1.4, 1.4)\n",
    "ax.set_xticks(())\n",
    "ax.set_yticks(())\n",
    " \n",
    "# transform grid using ExtraTreesClassifier\n",
    "y_grid_pred = trees.predict_proba(np.c_[xx.ravel(), yy.ravel()])[:, 1]\n",
    " \n",
    "ax = plt.subplot(224)\n",
    "ax.set_title(\"ExtraTrees predictions\")\n",
    "ax.pcolormesh(xx, yy, y_grid_pred.reshape(xx.shape))\n",
    "ax.scatter(X[:, 0], X[:, 1], c=y, s=50)\n",
    "ax.set_ylim(-1.4, 1.4)\n",
    "ax.set_xlim(-1.4, 1.4)\n",
    "ax.set_xticks(())\n",
    "ax.set_yticks(())\n",
    " \n",
    "plt.tight_layout()\n",
    "plt.show()"
   ]
  }
 ],
 "metadata": {
  "kernelspec": {
   "display_name": "Python 3 (ipykernel)",
   "language": "python",
   "name": "python3"
  },
  "language_info": {
   "codemirror_mode": {
    "name": "ipython",
    "version": 3
   },
   "file_extension": ".py",
   "mimetype": "text/x-python",
   "name": "python",
   "nbconvert_exporter": "python",
   "pygments_lexer": "ipython3",
   "version": "3.8.5"
  },
  "toc": {
   "base_numbering": 1,
   "nav_menu": {},
   "number_sections": true,
   "sideBar": true,
   "skip_h1_title": false,
   "title_cell": "Table of Contents",
   "title_sidebar": "Contents",
   "toc_cell": false,
   "toc_position": {},
   "toc_section_display": true,
   "toc_window_display": false
  },
  "varInspector": {
   "cols": {
    "lenName": 16,
    "lenType": 16,
    "lenVar": 40
   },
   "kernels_config": {
    "python": {
     "delete_cmd_postfix": "",
     "delete_cmd_prefix": "del ",
     "library": "var_list.py",
     "varRefreshCmd": "print(var_dic_list())"
    },
    "r": {
     "delete_cmd_postfix": ") ",
     "delete_cmd_prefix": "rm(",
     "library": "var_list.r",
     "varRefreshCmd": "cat(var_dic_list()) "
    }
   },
   "types_to_exclude": [
    "module",
    "function",
    "builtin_function_or_method",
    "instance",
    "_Feature"
   ],
   "window_display": false
  }
 },
 "nbformat": 4,
 "nbformat_minor": 5
}
