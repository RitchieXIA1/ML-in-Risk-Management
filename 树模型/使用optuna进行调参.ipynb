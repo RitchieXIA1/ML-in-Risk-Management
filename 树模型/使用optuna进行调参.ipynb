{
 "cells": [
  {
   "cell_type": "code",
   "execution_count": 1,
   "id": "81e21397",
   "metadata": {
    "ExecuteTime": {
     "end_time": "2022-01-20T07:33:21.184153Z",
     "start_time": "2022-01-20T07:33:19.970164Z"
    }
   },
   "outputs": [],
   "source": [
    "from optuna.samplers import TPESampler\n",
    "import optuna\n",
    "from sklearn.model_selection import  StratifiedKFold,cross_val_score\n",
    "from sklearn.metrics import roc_auc_score,roc_curve\n",
    "def ks(estimator,X, y):\n",
    "    y_predicted = estimator.predict_proba(X)[:,1]\n",
    "    #label = y_true.get_label()\n",
    "    fpr,tpr,thres = roc_curve(y,y_predicted,pos_label=1)\n",
    "    return abs(fpr - tpr).max()"
   ]
  },
  {
   "cell_type": "code",
   "execution_count": 3,
   "id": "8635289e",
   "metadata": {
    "ExecuteTime": {
     "end_time": "2022-01-20T07:34:48.252097Z",
     "start_time": "2022-01-20T07:34:47.826072Z"
    }
   },
   "outputs": [],
   "source": [
    "import lightgbm as lgb"
   ]
  },
  {
   "cell_type": "code",
   "execution_count": null,
   "id": "63f09761",
   "metadata": {},
   "outputs": [],
   "source": [
    "lgb.cv()"
   ]
  },
  {
   "cell_type": "code",
   "execution_count": null,
   "id": "c0ba59ac",
   "metadata": {},
   "outputs": [],
   "source": [
    "lgb.LGBMClassifier()"
   ]
  },
  {
   "cell_type": "code",
   "execution_count": null,
   "id": "45069eea",
   "metadata": {},
   "outputs": [],
   "source": [
    "#这里使用一种以最大化测试集上KS值为目标的调参方式，这样可以兼顾模型的区分度和鲁棒性。\n",
    "sampler = TPESampler(seed=10) \n",
    "def objective(trial):\n",
    "    lgbm = lgb.cv(\n",
    "    verbosity=-1,\n",
    "    boosting_type= 'gbdt',\n",
    "    lambda_l2=trial.suggest_loguniform('lambda_l2', 1e-8, 10.0),\n",
    "    learning_rate=trial.suggest_loguniform('learning_rate', 1e-8, 0.1),\n",
    "    n_estimators=trial.suggest_int('n_estimators', 400, 800),\n",
    "    feature_fraction=trial.suggest_uniform('feature_fraction', 0.4, 1.0),\n",
    "    bagging_fraction= trial.suggest_uniform('bagging_fraction', 0.4, 1.0),\n",
    "    bagging_freq=trial.suggest_int('bagging_freq', 1, 7),\n",
    "    min_child_samples=trial.suggest_int('min_child_samples', 5, 100),\n",
    "    max_depth = trial.suggest_int('max_depth', 3, 8))   \n",
    "    gbm = lgbm.fit(df_train_all_sel1,df_train_y)    \n",
    "    return ks(gbm,df_test_all_sel1,df_test_y)\n",
    "\n",
    "study = optuna.create_study(direction='maximize', sampler=sampler)\n",
    "study.optimize(objective, n_trials=100)\n",
    "params = study.best_params"
   ]
  },
  {
   "cell_type": "code",
   "execution_count": null,
   "id": "988f1047",
   "metadata": {},
   "outputs": [],
   "source": [
    "np.save('params_lgb.npy', params)"
   ]
  },
  {
   "cell_type": "code",
   "execution_count": null,
   "id": "f78ad8f5",
   "metadata": {},
   "outputs": [],
   "source": [
    "params_lgb = np.load('/home/aistudio/work/任务6/params_lgb.npy', allow_pickle=True).item()"
   ]
  },
  {
   "cell_type": "code",
   "execution_count": null,
   "id": "b7e67757",
   "metadata": {},
   "outputs": [],
   "source": [
    "nfold = 5\n",
    "gc.collect()\n",
    "skf = StratifiedKFold(n_splits=nfold, shuffle=True, random_state=2022)"
   ]
  },
  {
   "cell_type": "code",
   "execution_count": null,
   "id": "12d6d052",
   "metadata": {},
   "outputs": [],
   "source": [
    "train_pre = np.zeros(train.shape[0])\n",
    "test_pre = np.zeros((test.shape[0], nfold))\n",
    "\n",
    "i = 1\n",
    "for train_index, valid_index in skf.split(train, y_train, ):\n",
    "    print('='*50)\n",
    "    print(\"\\nfold {}\".format(i))\n",
    "    train_df = lgb.Dataset(train.iloc[train_index], y_train.iloc[train_index],)\n",
    "    val_df = lgb.Dataset(train.iloc[valid_index], y_train.iloc[valid_index],)\n",
    "\n",
    "    clf = lgb.train(params_lgb, train_df, num_boost_round=20,\n",
    "    valid_sets = [val_df], verbose_eval=5, early_stopping_rounds=10)\n",
    "\n",
    "    train_pre[valid_index] = clf.predict(train.iloc[valid_index], num_iteration=clf.best_iteration)\n",
    "\n",
    "    test_pre[:, i-1] = clf.predict(\n",
    "        test, num_iteration=clf.best_iteration\n",
    "    )\n",
    "    i += 1\n",
    "\n",
    "print(\"\\n train dataset AUC:{:<0.2f}\".format(roc_auc_score(y_train, train_pre)))"
   ]
  },
  {
   "cell_type": "code",
   "execution_count": null,
   "id": "7517df9d",
   "metadata": {},
   "outputs": [],
   "source": []
  }
 ],
 "metadata": {
  "kernelspec": {
   "display_name": "Python 3",
   "language": "python",
   "name": "python3"
  },
  "language_info": {
   "codemirror_mode": {
    "name": "ipython",
    "version": 3
   },
   "file_extension": ".py",
   "mimetype": "text/x-python",
   "name": "python",
   "nbconvert_exporter": "python",
   "pygments_lexer": "ipython3",
   "version": "3.8.8"
  },
  "varInspector": {
   "cols": {
    "lenName": 16,
    "lenType": 16,
    "lenVar": 40
   },
   "kernels_config": {
    "python": {
     "delete_cmd_postfix": "",
     "delete_cmd_prefix": "del ",
     "library": "var_list.py",
     "varRefreshCmd": "print(var_dic_list())"
    },
    "r": {
     "delete_cmd_postfix": ") ",
     "delete_cmd_prefix": "rm(",
     "library": "var_list.r",
     "varRefreshCmd": "cat(var_dic_list()) "
    }
   },
   "types_to_exclude": [
    "module",
    "function",
    "builtin_function_or_method",
    "instance",
    "_Feature"
   ],
   "window_display": false
  }
 },
 "nbformat": 4,
 "nbformat_minor": 5
}
