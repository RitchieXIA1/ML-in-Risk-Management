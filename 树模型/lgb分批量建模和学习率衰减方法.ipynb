{
 "cells": [
  {
   "cell_type": "code",
   "execution_count": null,
   "id": "9820ae43",
   "metadata": {},
   "outputs": [],
   "source": [
    "#两种情况 \n",
    "#1.数据量大，内存不够。\n",
    "#2.用于在线学习，增量训练。\n",
    "batch_size = 1000\n",
    "num_batch = train.shape[0] // batch_size\n",
    "\n",
    "auc_score = []\n",
    "for batch in range(num_batch):\n",
    "    start = batch * batch_size\n",
    "    end = start + batch_size\n",
    "    x = train[start: end]\n",
    "    y = y_train[start: end]\n",
    "\n",
    "    train_df = lgb.Dataset(x, y,)\n",
    "    val_df = lgb.Dataset(test, y_test)\n",
    "    if start == 0:\n",
    "        init_model = None\n",
    "    else:\n",
    "        init_model = clf\n",
    "    clf = lgb.train(params_lgb, # 使用贝叶斯调参最优参数\n",
    "    train_df, num_boost_round=20,\n",
    "    valid_sets = [val_df], verbose_eval=100, \n",
    "    init_model=init_model,\n",
    "    early_stopping_rounds=50,\n",
    "    keep_training_booster=True)\n",
    "\n",
    "    val_pre = clf.predict(test, num_iteration=clf.best_iteration)\n",
    "    auc_score.append(roc_auc_score(y_test, val_pre))\n",
    "\n",
    "print(auc_score)  \n",
    "print('测试集auc均值',np.mean(auc_score))"
   ]
  },
  {
   "cell_type": "code",
   "execution_count": null,
   "id": "e02c0e7c",
   "metadata": {},
   "outputs": [],
   "source": [
    "#学习率衰减符合最优点的寻找逻辑，先快后慢\n",
    "lgb_train = lgb.Dataset(train, y_train)\n",
    "lgb_val = lgb.Dataset(test, y_test)\n",
    "\n",
    "# 指数衰减\n",
    "clf = lgb.train(\n",
    "    params_lgb, # 使用贝叶斯调参最优参数\n",
    "    lgb_train, \n",
    "    num_boost_round=20,\n",
    "    valid_sets = [lgb_val], \n",
    "    verbose_eval=5, \n",
    "    learning_rates=lambda iter: 0.05 * (0.99 ** iter),\n",
    "    early_stopping_rounds=5)\n",
    "val_pre = clf.predict(test, num_iteration=clf.best_iteration)\n",
    "print(roc_auc_score(y_test, val_pre))"
   ]
  },
  {
   "cell_type": "code",
   "execution_count": null,
   "id": "2d5b6070",
   "metadata": {},
   "outputs": [],
   "source": [
    "# 阶梯衰减\n",
    "clf = lgb.train(\n",
    "    params_lgb, # 使用贝叶斯调参最优参数\n",
    "    lgb_train, \n",
    "    num_boost_round=20,\n",
    "    valid_sets = [lgb_val], \n",
    "    verbose_eval=5, \n",
    "    init_model = clf,\n",
    "    early_stopping_rounds=5,\n",
    "    callbacks=[lgb.reset_parameter(learning_rate=[0.1] * 10 + [0.01] * 10)])\n",
    "val_pre = clf.predict(test, num_iteration=clf.best_iteration)\n",
    "print(roc_auc_score(y_test, val_pre))"
   ]
  }
 ],
 "metadata": {
  "kernelspec": {
   "display_name": "Python 3 (ipykernel)",
   "language": "python",
   "name": "python3"
  },
  "language_info": {
   "codemirror_mode": {
    "name": "ipython",
    "version": 3
   },
   "file_extension": ".py",
   "mimetype": "text/x-python",
   "name": "python",
   "nbconvert_exporter": "python",
   "pygments_lexer": "ipython3",
   "version": "3.8.5"
  },
  "toc": {
   "base_numbering": 1,
   "nav_menu": {},
   "number_sections": true,
   "sideBar": true,
   "skip_h1_title": false,
   "title_cell": "Table of Contents",
   "title_sidebar": "Contents",
   "toc_cell": false,
   "toc_position": {},
   "toc_section_display": true,
   "toc_window_display": false
  },
  "varInspector": {
   "cols": {
    "lenName": 16,
    "lenType": 16,
    "lenVar": 40
   },
   "kernels_config": {
    "python": {
     "delete_cmd_postfix": "",
     "delete_cmd_prefix": "del ",
     "library": "var_list.py",
     "varRefreshCmd": "print(var_dic_list())"
    },
    "r": {
     "delete_cmd_postfix": ") ",
     "delete_cmd_prefix": "rm(",
     "library": "var_list.r",
     "varRefreshCmd": "cat(var_dic_list()) "
    }
   },
   "types_to_exclude": [
    "module",
    "function",
    "builtin_function_or_method",
    "instance",
    "_Feature"
   ],
   "window_display": false
  }
 },
 "nbformat": 4,
 "nbformat_minor": 5
}
