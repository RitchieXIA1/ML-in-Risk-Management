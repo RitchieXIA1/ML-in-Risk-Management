{
 "cells": [
  {
   "cell_type": "code",
   "execution_count": null,
   "id": "2efa417e",
   "metadata": {},
   "outputs": [],
   "source": [
    "from sklearn.model_selection import KFold,StratifiedKFold,GroupKFold,TimeSeriesSplit"
   ]
  },
  {
   "cell_type": "code",
   "execution_count": null,
   "id": "568eea48",
   "metadata": {},
   "outputs": [],
   "source": [
    "params = {'num_leaves': 491,\n",
    "          'colsample_bytree': 0.75,\n",
    "          'subsample': 0.75,\n",
    "          'min_data_in_leaf': 106,\n",
    "          'objective': 'binary',\n",
    "          'max_depth': -1,\n",
    "          'learning_rate': 0.01,\n",
    "          \"boosting_type\": \"gbdt\",\n",
    "          \"bagging_seed\": 11,\n",
    "          \"metric\": 'auc',\n",
    "          \"verbosity\": -1,\n",
    "          'reg_alpha': 0.45,\n",
    "          'reg_lambda': 0.65,\n",
    "          'random_state': 47,\n",
    "          'n_jobs':-1,\n",
    "          'n_estimators':10000,\n",
    "         }"
   ]
  },
  {
   "cell_type": "code",
   "execution_count": null,
   "id": "86d682a6",
   "metadata": {},
   "outputs": [],
   "source": [
    "def lgb_model(params=None,cv=KFold(5),X=None,X_test=None,columns=None,early_stopping_rounds=200, \\\n",
    "              cols=None,categorical_feature=None,group_feature=None):\n",
    "\n",
    "\n",
    "    #folds = StratifiedKFold(n_splits=NFOLDS)\n",
    "    folds =cv\n",
    "    if cols==None:\n",
    "        columns = list(X.columns)\n",
    "    else:\n",
    "        columns=cols\n",
    "    if group_feature:\n",
    "        columns.remove(group_feature)\n",
    "        splits = folds.split(X[columns], y,groups=X[group_feature])\n",
    "    else:\n",
    "        splits = folds.split(X[columns], y)\n",
    "    y_oof = np.zeros(X.shape[0])\n",
    "    score = 0\n",
    "\n",
    "\n",
    "    clfs=[]\n",
    "    for fold_n, (train_index, valid_index) in enumerate(splits):\n",
    "        X_train, X_valid = X[columns].iloc[train_index], X[columns].iloc[valid_index]\n",
    "        y_train, y_valid = y.iloc[train_index], y.iloc[valid_index]\n",
    "\n",
    "\n",
    "        clf = lgb.LGBMClassifier(**params)\n",
    "        clf.fit(X_train,y_train,eval_set=[(X_train,y_train),(X_valid,y_valid)], \\\n",
    "                 eval_metric='auc', verbose=100, early_stopping_rounds=early_stopping_rounds,categorical_feature=categorical_feature)\n",
    "\n",
    "\n",
    "        y_pred_valid = clf.predict_proba(X_valid)[:,1]\n",
    "        y_oof[valid_index] = y_pred_valid\n",
    "        print(f\"Fold {fold_n + 1} | AUC: {roc_auc_score(y_valid, y_pred_valid)}\")\n",
    "\n",
    "        score += roc_auc_score(y_valid, y_pred_valid) / 5\n",
    "\n",
    "        del X_train, X_valid, y_train, y_valid\n",
    "        gc.collect()\n",
    "        clfs.append(clf)\n",
    "\n",
    "    print(f\"\\nMean AUC = {score}\")\n",
    "    print(f\"Out of folds AUC = {roc_auc_score(y, y_oof)}\")\n",
    "    return clfs"
   ]
  },
  {
   "cell_type": "code",
   "execution_count": null,
   "id": "66d26936",
   "metadata": {},
   "outputs": [],
   "source": [
    "clfs=lgb_model(params=params,cv=StratifiedKFold(5),X=X,X_test=X_test,early_stopping_rounds=200,categorical_feature=cat)"
   ]
  },
  {
   "cell_type": "code",
   "execution_count": null,
   "id": "f3f784af",
   "metadata": {},
   "outputs": [],
   "source": [
    "clfs=lgb_model(params=params,cv=KFold(5),X=X,X_test=X_test,early_stopping_rounds=200,cols=None,categorical_feature=cat)"
   ]
  },
  {
   "cell_type": "code",
   "execution_count": null,
   "id": "65a878b5",
   "metadata": {},
   "outputs": [],
   "source": [
    "clfs=lgb_model(params=params,cv=TimeSeriesSplit(5),X=X,X_test=X_test,early_stopping_rounds=200,cols=None,categorical_feature=cat)"
   ]
  },
  {
   "cell_type": "code",
   "execution_count": null,
   "id": "13b4ff3d",
   "metadata": {},
   "outputs": [],
   "source": [
    "clfs=lgb_model(params=params,cv=GroupKFold(5),X=X,X_test=X_test,early_stopping_rounds=200,cols=None,categorical_feature=cat,group_feature='DT_M')"
   ]
  }
 ],
 "metadata": {
  "kernelspec": {
   "display_name": "Python 3 (ipykernel)",
   "language": "python",
   "name": "python3"
  },
  "language_info": {
   "codemirror_mode": {
    "name": "ipython",
    "version": 3
   },
   "file_extension": ".py",
   "mimetype": "text/x-python",
   "name": "python",
   "nbconvert_exporter": "python",
   "pygments_lexer": "ipython3",
   "version": "3.8.5"
  },
  "toc": {
   "base_numbering": 1,
   "nav_menu": {},
   "number_sections": true,
   "sideBar": true,
   "skip_h1_title": false,
   "title_cell": "Table of Contents",
   "title_sidebar": "Contents",
   "toc_cell": false,
   "toc_position": {},
   "toc_section_display": true,
   "toc_window_display": false
  },
  "varInspector": {
   "cols": {
    "lenName": 16,
    "lenType": 16,
    "lenVar": 40
   },
   "kernels_config": {
    "python": {
     "delete_cmd_postfix": "",
     "delete_cmd_prefix": "del ",
     "library": "var_list.py",
     "varRefreshCmd": "print(var_dic_list())"
    },
    "r": {
     "delete_cmd_postfix": ") ",
     "delete_cmd_prefix": "rm(",
     "library": "var_list.r",
     "varRefreshCmd": "cat(var_dic_list()) "
    }
   },
   "types_to_exclude": [
    "module",
    "function",
    "builtin_function_or_method",
    "instance",
    "_Feature"
   ],
   "window_display": false
  }
 },
 "nbformat": 4,
 "nbformat_minor": 5
}
