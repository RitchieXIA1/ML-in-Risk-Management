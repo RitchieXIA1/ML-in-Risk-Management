{
 "cells": [
  {
   "cell_type": "code",
   "execution_count": null,
   "id": "fa52c785",
   "metadata": {},
   "outputs": [],
   "source": [
    "from sklearn.preprocessing import OneHotEncoder,LabelEncoder\n",
    "\n",
    "lgb_train = lgb.Dataset(df_train[NUMERIC_COLS], df_train['bad_ind'], free_raw_data=False)\n",
    "params = {\n",
    "    'num_boost_round': 50,\n",
    "    'boosting_type': 'gbdt',\n",
    "    'objective': 'binary',\n",
    "    'num_leaves': 2,\n",
    "    'metric': 'auc',\n",
    "    'max_depth':1,\n",
    "    'feature_fraction':1,\n",
    "    'bagging_fraction':1,\n",
    "}\n",
    "model = lgb.train(params,lgb_train)\n",
    "leaf = model.predict(df_train[NUMERIC_COLS],pred_leaf=True)\n",
    "lgb_enc = OneHotEncoder()\n",
    "lgb_enc.fit(leaf)\n",
    "data_leaf = np.hstack((lgb_enc.transform(leaf).toarray(),df_train[NUMERIC_COLS]))"
   ]
  },
  {
   "cell_type": "code",
   "execution_count": null,
   "id": "6d137c78",
   "metadata": {},
   "outputs": [],
   "source": [
    "train, val, train_y, val_y = train_test_split(data_leaf,df_train['bad_ind'],test_size=0.2, random_state=random.choice(range(10000)))\n",
    "\n",
    "lgb_lm = LogisticRegression(penalty='l1',C = 0.3,solver='liblinear')\n",
    "lgb_lm.fit(train, train_y)\n",
    "\n",
    "y_pred_lgb_lm_train = lgb_lm.predict_proba(train)[:, 1]\n",
    "fpr_lgb_lm_train, tpr_lgb_lm_train, _ = roc_curve(train_y, y_pred_lgb_lm_train)\n",
    "\n",
    "y_pred_lgb_lm = lgb_lm.predict_proba(val)[:, 1]\n",
    "fpr_lgb_lm, tpr_lgb_lm, _ = roc_curve(val_y, y_pred_lgb_lm)\n",
    "\n",
    "plt.figure(1)\n",
    "plt.plot([0, 1], [0, 1], 'k--')\n",
    "plt.plot(fpr_lgb_lm_train, tpr_lgb_lm_train, label='LGB + LR train')\n",
    "plt.plot(fpr_lgb_lm, tpr_lgb_lm, label='LGB + LR test')\n",
    "plt.xlabel('False positive rate')\n",
    "plt.ylabel('True positive rate')\n",
    "plt.title('ROC curve')\n",
    "plt.legend(loc='best')\n",
    "plt.show()\n",
    "print('LGB+LR train ks:',abs(fpr_lgb_lm_train - tpr_lgb_lm_train).max(),'LGB+LR AUC:', metrics.auc(fpr_lgb_lm_train, tpr_lgb_lm_train))\n",
    "print('LGB+LR test ks:',abs(fpr_lgb_lm - tpr_lgb_lm).max(),'LGB+LR AUC:', metrics.auc(fpr_lgb_lm, tpr_lgb_lm))"
   ]
  },
  {
   "cell_type": "code",
   "execution_count": null,
   "id": "0fd22049",
   "metadata": {},
   "outputs": [],
   "source": [
    "leaf_test = model.predict(df_test[NUMERIC_COLS],pred_leaf=True)\n",
    "lgb_enc = OneHotEncoder()\n",
    "lgb_enc.fit(leaf_test)\n",
    "data_leaf_test = np.hstack((lgb_enc.transform(leaf_test).toarray(),df_test[NUMERIC_COLS]))"
   ]
  },
  {
   "cell_type": "code",
   "execution_count": null,
   "id": "45709feb",
   "metadata": {},
   "outputs": [],
   "source": [
    "dff_train = pd.DataFrame(train)\n",
    "dff_train.columns = [ 'ft' + str(x) for x in range(train.shape[1])]\n",
    "\n",
    "dff_val = pd.DataFrame(val)\n",
    "dff_val.columns = [ 'ft' + str(x) for x in range(val.shape[1])]"
   ]
  },
  {
   "cell_type": "code",
   "execution_count": null,
   "id": "250ade36",
   "metadata": {},
   "outputs": [],
   "source": [
    "#生成可以传入PSI的数据集\n",
    "def make_psi_data(dff_train):\n",
    "    dftot = pd.DataFrame()\n",
    "    for col in dff_train.columns:\n",
    "        zero= sum(dff_train[col] == 0)\n",
    "        one= sum(dff_train[col] == 1)\n",
    "        ftdf = pd.DataFrame(np.array([zero,one]))\n",
    "        ftdf.columns = [col]\n",
    "        if len(dftot) == 0:\n",
    "            dftot = ftdf.copy()\n",
    "        else:\n",
    "            dftot[col] = ftdf[col].copy()\n",
    "    return dftot\n",
    "psi_data_train = make_psi_data(dff_train)\n",
    "psi_data_val = make_psi_data(dff_val)"
   ]
  },
  {
   "cell_type": "code",
   "execution_count": null,
   "id": "3d3d5702",
   "metadata": {},
   "outputs": [],
   "source": [
    "#定义根据psi_data计算psi的函数\n",
    "def var_PSI(dev_data, val_data):\n",
    "    dev_cnt, val_cnt = sum(dev_data), sum(val_data)\n",
    "    if dev_cnt * val_cnt == 0:\n",
    "        return 0\n",
    "    PSI = 0\n",
    "    for i in range(len(dev_data)):\n",
    "        dev_ratio = dev_data[i] / dev_cnt\n",
    "        val_ratio = val_data[i] / val_cnt + 1e-10\n",
    "        psi = (dev_ratio - val_ratio) * math.log(dev_ratio/val_ratio)\n",
    "        PSI += psi\n",
    "    return PSI\n",
    "psi_dct = {}\n",
    "for col in dff_train.columns:\n",
    "    psi_dct[col] = var_PSI(psi_data_train[col],psi_data_val[col])"
   ]
  },
  {
   "cell_type": "code",
   "execution_count": null,
   "id": "1e4d21d2",
   "metadata": {},
   "outputs": [],
   "source": [
    "#这里去掉PSI排名在后40%的变量\n",
    "f = zip(psi_dct.keys(),psi_dct.values())\n",
    "f = sorted(f,key = lambda x:x[1],reverse = False)\n",
    "psi_df = pd.DataFrame(f)\n",
    "psi_df.columns = pd.Series(['变量名','PSI'])\n",
    "feature_lst = list(psi_df[psi_df['PSI']<psi_df.quantile(0.6)[0]]['变量名'])"
   ]
  },
  {
   "cell_type": "code",
   "execution_count": null,
   "id": "446609b8",
   "metadata": {},
   "outputs": [],
   "source": [
    "train = dff_train[feature_lst].copy()\n",
    "train_y = df_train['bad_ind'].copy()\n",
    "val = dff_val[feature_lst].copy()\n",
    "val_y = df_test['bad_ind'].copy()\n",
    "\n",
    "lgb_lm = LogisticRegression(C = 0.3,class_weight='balanced',solver='liblinear')\n",
    "lgb_lm.fit(train, train_y)\n",
    "\n",
    "y_pred_lgb_lm_train = lgb_lm.predict_proba(train)[:, 1]\n",
    "fpr_lgb_lm_train, tpr_lgb_lm_train, _ = roc_curve(train_y, y_pred_lgb_lm_train)\n",
    "\n",
    "y_pred_lgb_lm = lgb_lm.predict_proba(val)[:, 1]\n",
    "fpr_lgb_lm, tpr_lgb_lm, _ = roc_curve(val_y, y_pred_lgb_lm)\n",
    "\n",
    "plt.figure(1)\n",
    "plt.plot([0, 1], [0, 1], 'k--')\n",
    "plt.plot(fpr_lgb_lm_train, tpr_lgb_lm_train, label='LGB + LR train')\n",
    "plt.plot(fpr_lgb_lm, tpr_lgb_lm, label='LGB + LR test')\n",
    "plt.xlabel('False positive rate')\n",
    "plt.ylabel('True positive rate')\n",
    "plt.title('ROC curve')\n",
    "plt.legend(loc='best')\n",
    "plt.show()\n",
    "print('LGB+LR train ks:',abs(fpr_lgb_lm_train - tpr_lgb_lm_train).max(),'LGB+LR AUC:', metrics.auc(fpr_lgb_lm_train, tpr_lgb_lm_train))\n",
    "print('LGB+LR test ks:',abs(fpr_lgb_lm - tpr_lgb_lm).max(),'LGB+LR AUC:', metrics.auc(fpr_lgb_lm, tpr_lgb_lm))"
   ]
  },
  {
   "cell_type": "code",
   "execution_count": null,
   "id": "7f57bd6c",
   "metadata": {},
   "outputs": [],
   "source": [
    "#通过特征重要性筛选特征\n",
    "\n",
    "x = train\n",
    "y = train_y\n",
    "\n",
    "val_x =  val\n",
    "val_y = val_y\n",
    "\n",
    "#定义lgb函数\n",
    "def LGB_test(train_x,train_y,test_x,test_y):\n",
    "    from multiprocessing import cpu_count\n",
    "    clf = lgb.LGBMClassifier(\n",
    "        boosting_type='gbdt', num_leaves=31, reg_alpha=0.0, reg_lambda=1,\n",
    "        max_depth=2, n_estimators=800,max_features = 140, objective='binary',\n",
    "        subsample=0.7, colsample_bytree=0.7, subsample_freq=1,\n",
    "        learning_rate=0.05, min_child_weight=50,random_state=None,n_jobs=cpu_count()-1,\n",
    "    )\n",
    "    clf.fit(train_x, train_y,eval_set=[(train_x, train_y),(test_x,test_y)],eval_metric='auc',early_stopping_rounds=100)\n",
    "\n",
    "    return clf,clf.best_score_[ 'valid_1']['auc']\n",
    "\n",
    "model,auc = LGB_test(x,y,val_x,val_y)                    \n",
    "\n",
    "#模型贡献度放在feture中\n",
    "feature = pd.DataFrame(\n",
    "            {'name' : model.booster_.feature_name(),\n",
    "            'importance' : model.feature_importances_\n",
    "          }).sort_values(by =  ['importance'],ascending = False)"
   ]
  },
  {
   "cell_type": "code",
   "execution_count": null,
   "id": "00480f9d",
   "metadata": {},
   "outputs": [],
   "source": [
    "feature_lst2 = list(feature[feature.importance>5].name)"
   ]
  },
  {
   "cell_type": "code",
   "execution_count": null,
   "id": "9267902f",
   "metadata": {},
   "outputs": [],
   "source": [
    "train = dff_train[feature_lst2].copy()\n",
    "train_y = df_train['bad_ind'].copy()\n",
    "val = dff_val[feature_lst2].copy()\n",
    "val_y = df_test['bad_ind'].copy()\n",
    "\n",
    "lgb_lm = LogisticRegression(C = 0.3,class_weight='balanced',solver='liblinear')\n",
    "lgb_lm.fit(train, train_y)\n",
    "\n",
    "y_pred_lgb_lm_train = lgb_lm.predict_proba(train)[:, 1]\n",
    "fpr_lgb_lm_train, tpr_lgb_lm_train, _ = roc_curve(train_y, y_pred_lgb_lm_train)\n",
    "\n",
    "y_pred_lgb_lm = lgb_lm.predict_proba(val)[:, 1]\n",
    "fpr_lgb_lm, tpr_lgb_lm, _ = roc_curve(val_y, y_pred_lgb_lm)\n",
    "\n",
    "plt.figure(1)\n",
    "plt.plot([0, 1], [0, 1], 'k--')\n",
    "plt.plot(fpr_lgb_lm_train, tpr_lgb_lm_train, label='LGB + LR train')\n",
    "plt.plot(fpr_lgb_lm, tpr_lgb_lm, label='LGB + LR test')\n",
    "plt.xlabel('False positive rate')\n",
    "plt.ylabel('True positive rate')\n",
    "plt.title('ROC curve')\n",
    "plt.legend(loc='best')\n",
    "plt.show()\n",
    "print('LGB+LR train ks:',abs(fpr_lgb_lm_train - tpr_lgb_lm_train).max(),'LGB+LR AUC:', metrics.auc(fpr_lgb_lm_train, tpr_lgb_lm_train))\n",
    "print('LGB+LR test ks:',abs(fpr_lgb_lm - tpr_lgb_lm).max(),'LGB+LR AUC:', metrics.auc(fpr_lgb_lm, tpr_lgb_lm))"
   ]
  }
 ],
 "metadata": {
  "kernelspec": {
   "display_name": "Python 3",
   "language": "python",
   "name": "python3"
  },
  "language_info": {
   "codemirror_mode": {
    "name": "ipython",
    "version": 3
   },
   "file_extension": ".py",
   "mimetype": "text/x-python",
   "name": "python",
   "nbconvert_exporter": "python",
   "pygments_lexer": "ipython3",
   "version": "3.8.8"
  },
  "varInspector": {
   "cols": {
    "lenName": 16,
    "lenType": 16,
    "lenVar": 40
   },
   "kernels_config": {
    "python": {
     "delete_cmd_postfix": "",
     "delete_cmd_prefix": "del ",
     "library": "var_list.py",
     "varRefreshCmd": "print(var_dic_list())"
    },
    "r": {
     "delete_cmd_postfix": ") ",
     "delete_cmd_prefix": "rm(",
     "library": "var_list.r",
     "varRefreshCmd": "cat(var_dic_list()) "
    }
   },
   "types_to_exclude": [
    "module",
    "function",
    "builtin_function_or_method",
    "instance",
    "_Feature"
   ],
   "window_display": false
  }
 },
 "nbformat": 4,
 "nbformat_minor": 5
}
